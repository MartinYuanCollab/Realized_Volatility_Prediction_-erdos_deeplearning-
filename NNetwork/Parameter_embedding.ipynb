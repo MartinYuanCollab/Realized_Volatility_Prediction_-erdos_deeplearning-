{
 "cells": [
  {
   "cell_type": "markdown",
   "id": "a8009e8f",
   "metadata": {},
   "source": [
    "# Parameter embedding"
   ]
  },
  {
   "cell_type": "markdown",
   "id": "dc6ae0b6",
   "metadata": {},
   "source": [
    "We have tried to use learned embedding on stock id. We now attempt method of parameter (continuous) embedding on row id's in hope that it contains more information than only the learned embedding of stock id's. This method should also have the capability of \"telling which row id's are similar\" by adjusting its embedding in training. "
   ]
  },
  {
   "cell_type": "markdown",
   "id": "0041c8c2",
   "metadata": {},
   "source": [
    "### Imports"
   ]
  },
  {
   "cell_type": "code",
   "execution_count": 44,
   "id": "dcadbc52",
   "metadata": {},
   "outputs": [],
   "source": [
    "import sys, importlib\n",
    "import torch \n",
    "import torch.nn as nn\n",
    "import numpy as np\n",
    "import pandas as pd\n",
    "import copy\n",
    "import time\n",
    "\n",
    "sys.path.append(\"../\")\n",
    "from proj_mod import training, data_processing, visualization\n",
    "importlib.reload(training);\n",
    "importlib.reload(data_processing);\n",
    "importlib.reload(visualization);"
   ]
  },
  {
   "cell_type": "code",
   "execution_count": 45,
   "id": "5b584483",
   "metadata": {},
   "outputs": [
    {
     "name": "stdout",
     "output_type": "stream",
     "text": [
      "10.3.0\n"
     ]
    }
   ],
   "source": [
    "#Only run this cell if needed. AMD gpus might need this. \n",
    "from dotenv import load_dotenv\n",
    "import os\n",
    "\n",
    "load_dotenv(\"../dotenv_env/deep_learning.env\")\n",
    "\n",
    "os.environ[\"PYTORCH_CUDA_ALLOC_CONF\"] = \"expandable_segments:True\" # To, possibly fix memory leak issues. \n",
    "\n",
    "print(os.environ.get(\"HSA_OVERRIDE_GFX_VERSION\"))"
   ]
  },
  {
   "cell_type": "code",
   "execution_count": 46,
   "id": "1d02be4f",
   "metadata": {},
   "outputs": [
    {
     "name": "stdout",
     "output_type": "stream",
     "text": [
      "Using device cuda\n"
     ]
    }
   ],
   "source": [
    "device=(torch.device(\"cuda\") if torch.cuda.is_available() else torch.device(\"cpu\"))\n",
    "print(f\"Using device {device}\")"
   ]
  },
  {
   "cell_type": "markdown",
   "id": "f0afb7cf",
   "metadata": {},
   "source": [
    "### Load in data"
   ]
  },
  {
   "cell_type": "markdown",
   "id": "472b9490",
   "metadata": {},
   "source": [
    "#### time id"
   ]
  },
  {
   "cell_type": "code",
   "execution_count": 4,
   "id": "1aea3d54",
   "metadata": {},
   "outputs": [],
   "source": [
    "list_time=np.load(\"../processed_data/recovered_time_id_order.npy\")"
   ]
  },
  {
   "cell_type": "markdown",
   "id": "fea31164",
   "metadata": {},
   "source": [
    "#### timeseries "
   ]
  },
  {
   "cell_type": "code",
   "execution_count": 5,
   "id": "340fb017",
   "metadata": {},
   "outputs": [],
   "source": [
    "df_RV_ts=pd.read_parquet(\"../processed_data/book_RV_ts_60_si.parquet\")"
   ]
  },
  {
   "cell_type": "markdown",
   "id": "ee2ce59d",
   "metadata": {},
   "source": [
    "#### Target"
   ]
  },
  {
   "cell_type": "code",
   "execution_count": 6,
   "id": "05ca0621",
   "metadata": {},
   "outputs": [
    {
     "data": {
      "text/html": [
       "<div>\n",
       "<style scoped>\n",
       "    .dataframe tbody tr th:only-of-type {\n",
       "        vertical-align: middle;\n",
       "    }\n",
       "\n",
       "    .dataframe tbody tr th {\n",
       "        vertical-align: top;\n",
       "    }\n",
       "\n",
       "    .dataframe thead th {\n",
       "        text-align: right;\n",
       "    }\n",
       "</style>\n",
       "<table border=\"1\" class=\"dataframe\">\n",
       "  <thead>\n",
       "    <tr style=\"text-align: right;\">\n",
       "      <th></th>\n",
       "      <th>stock_id</th>\n",
       "      <th>time_id</th>\n",
       "      <th>target</th>\n",
       "      <th>row_id</th>\n",
       "    </tr>\n",
       "  </thead>\n",
       "  <tbody>\n",
       "    <tr>\n",
       "      <th>0</th>\n",
       "      <td>0</td>\n",
       "      <td>5</td>\n",
       "      <td>0.004136</td>\n",
       "      <td>0-5</td>\n",
       "    </tr>\n",
       "    <tr>\n",
       "      <th>1</th>\n",
       "      <td>0</td>\n",
       "      <td>11</td>\n",
       "      <td>0.001445</td>\n",
       "      <td>0-11</td>\n",
       "    </tr>\n",
       "    <tr>\n",
       "      <th>2</th>\n",
       "      <td>0</td>\n",
       "      <td>16</td>\n",
       "      <td>0.002168</td>\n",
       "      <td>0-16</td>\n",
       "    </tr>\n",
       "    <tr>\n",
       "      <th>3</th>\n",
       "      <td>0</td>\n",
       "      <td>31</td>\n",
       "      <td>0.002195</td>\n",
       "      <td>0-31</td>\n",
       "    </tr>\n",
       "    <tr>\n",
       "      <th>4</th>\n",
       "      <td>0</td>\n",
       "      <td>62</td>\n",
       "      <td>0.001747</td>\n",
       "      <td>0-62</td>\n",
       "    </tr>\n",
       "    <tr>\n",
       "      <th>...</th>\n",
       "      <td>...</td>\n",
       "      <td>...</td>\n",
       "      <td>...</td>\n",
       "      <td>...</td>\n",
       "    </tr>\n",
       "    <tr>\n",
       "      <th>428927</th>\n",
       "      <td>126</td>\n",
       "      <td>32751</td>\n",
       "      <td>0.003461</td>\n",
       "      <td>126-32751</td>\n",
       "    </tr>\n",
       "    <tr>\n",
       "      <th>428928</th>\n",
       "      <td>126</td>\n",
       "      <td>32753</td>\n",
       "      <td>0.003113</td>\n",
       "      <td>126-32753</td>\n",
       "    </tr>\n",
       "    <tr>\n",
       "      <th>428929</th>\n",
       "      <td>126</td>\n",
       "      <td>32758</td>\n",
       "      <td>0.004070</td>\n",
       "      <td>126-32758</td>\n",
       "    </tr>\n",
       "    <tr>\n",
       "      <th>428930</th>\n",
       "      <td>126</td>\n",
       "      <td>32763</td>\n",
       "      <td>0.003357</td>\n",
       "      <td>126-32763</td>\n",
       "    </tr>\n",
       "    <tr>\n",
       "      <th>428931</th>\n",
       "      <td>126</td>\n",
       "      <td>32767</td>\n",
       "      <td>0.002090</td>\n",
       "      <td>126-32767</td>\n",
       "    </tr>\n",
       "  </tbody>\n",
       "</table>\n",
       "<p>428932 rows × 4 columns</p>\n",
       "</div>"
      ],
      "text/plain": [
       "        stock_id  time_id    target     row_id\n",
       "0              0        5  0.004136        0-5\n",
       "1              0       11  0.001445       0-11\n",
       "2              0       16  0.002168       0-16\n",
       "3              0       31  0.002195       0-31\n",
       "4              0       62  0.001747       0-62\n",
       "...          ...      ...       ...        ...\n",
       "428927       126    32751  0.003461  126-32751\n",
       "428928       126    32753  0.003113  126-32753\n",
       "428929       126    32758  0.004070  126-32758\n",
       "428930       126    32763  0.003357  126-32763\n",
       "428931       126    32767  0.002090  126-32767\n",
       "\n",
       "[428932 rows x 4 columns]"
      ]
     },
     "execution_count": 6,
     "metadata": {},
     "output_type": "execute_result"
    }
   ],
   "source": [
    "df_target=pd.read_csv(\"../raw_data/kaggle_ORVP/train.csv\")\n",
    "df_target[\"row_id\"]=df_target[\"stock_id\"].astype(int).astype(str)+\"-\"+df_target[\"time_id\"].astype(int).astype(str)\n",
    "df_target"
   ]
  },
  {
   "cell_type": "markdown",
   "id": "9b3b6021",
   "metadata": {},
   "source": [
    "#### Tab data"
   ]
  },
  {
   "cell_type": "code",
   "execution_count": 7,
   "id": "a1786262",
   "metadata": {},
   "outputs": [],
   "source": [
    "df_tab=pd.read_csv(\"../processed_data/trade_vals_by_row_id.csv\")"
   ]
  },
  {
   "cell_type": "markdown",
   "id": "0cf96485",
   "metadata": {},
   "source": [
    "Our goal is to embed the values 'price_mean', 'price_std', 'size_sum', 'size_mean', 'size_std', 'order_count_sum', 'order_count_mean', and 'order_count_std' as \"representatives\" of the \"row id\". They should provide a description of the \"row_id\" as a vector. "
   ]
  },
  {
   "cell_type": "code",
   "execution_count": 8,
   "id": "9df41d00",
   "metadata": {},
   "outputs": [
    {
     "data": {
      "text/plain": [
       "Index(['price_mean', 'price_std', 'size_sum', 'size_mean', 'size_std',\n",
       "       'order_count_sum', 'order_count_mean', 'order_count_std', 'row_id'],\n",
       "      dtype='object')"
      ]
     },
     "execution_count": 8,
     "metadata": {},
     "output_type": "execute_result"
    }
   ],
   "source": [
    "df_tab.columns"
   ]
  },
  {
   "cell_type": "code",
   "execution_count": 9,
   "id": "3a64f31c",
   "metadata": {},
   "outputs": [],
   "source": [
    "df_tab[\"time_id\"]=df_tab[\"row_id\"].apply(lambda x: x.split(\"-\")[-1]).astype(int)"
   ]
  },
  {
   "cell_type": "code",
   "execution_count": 10,
   "id": "e1a8f052",
   "metadata": {},
   "outputs": [
    {
     "data": {
      "text/html": [
       "<div>\n",
       "<style scoped>\n",
       "    .dataframe tbody tr th:only-of-type {\n",
       "        vertical-align: middle;\n",
       "    }\n",
       "\n",
       "    .dataframe tbody tr th {\n",
       "        vertical-align: top;\n",
       "    }\n",
       "\n",
       "    .dataframe thead th {\n",
       "        text-align: right;\n",
       "    }\n",
       "</style>\n",
       "<table border=\"1\" class=\"dataframe\">\n",
       "  <thead>\n",
       "    <tr style=\"text-align: right;\">\n",
       "      <th></th>\n",
       "      <th>price_mean</th>\n",
       "      <th>price_std</th>\n",
       "      <th>size_sum</th>\n",
       "      <th>size_mean</th>\n",
       "      <th>size_std</th>\n",
       "      <th>order_count_sum</th>\n",
       "      <th>order_count_mean</th>\n",
       "      <th>order_count_std</th>\n",
       "      <th>row_id</th>\n",
       "      <th>time_id</th>\n",
       "    </tr>\n",
       "  </thead>\n",
       "  <tbody>\n",
       "    <tr>\n",
       "      <th>0</th>\n",
       "      <td>1.003722</td>\n",
       "      <td>0.000578</td>\n",
       "      <td>3179</td>\n",
       "      <td>79.475000</td>\n",
       "      <td>118.375107</td>\n",
       "      <td>110</td>\n",
       "      <td>2.750000</td>\n",
       "      <td>2.467741</td>\n",
       "      <td>0-5</td>\n",
       "      <td>5</td>\n",
       "    </tr>\n",
       "    <tr>\n",
       "      <th>1</th>\n",
       "      <td>1.000206</td>\n",
       "      <td>0.000304</td>\n",
       "      <td>1289</td>\n",
       "      <td>42.966667</td>\n",
       "      <td>77.815203</td>\n",
       "      <td>57</td>\n",
       "      <td>1.900000</td>\n",
       "      <td>1.446756</td>\n",
       "      <td>0-11</td>\n",
       "      <td>11</td>\n",
       "    </tr>\n",
       "    <tr>\n",
       "      <th>2</th>\n",
       "      <td>0.999204</td>\n",
       "      <td>0.000932</td>\n",
       "      <td>2161</td>\n",
       "      <td>86.440000</td>\n",
       "      <td>113.587000</td>\n",
       "      <td>68</td>\n",
       "      <td>2.720000</td>\n",
       "      <td>2.300725</td>\n",
       "      <td>0-16</td>\n",
       "      <td>16</td>\n",
       "    </tr>\n",
       "    <tr>\n",
       "      <th>3</th>\n",
       "      <td>0.999020</td>\n",
       "      <td>0.000729</td>\n",
       "      <td>1962</td>\n",
       "      <td>130.800000</td>\n",
       "      <td>144.828569</td>\n",
       "      <td>59</td>\n",
       "      <td>3.933333</td>\n",
       "      <td>4.043808</td>\n",
       "      <td>0-31</td>\n",
       "      <td>31</td>\n",
       "    </tr>\n",
       "    <tr>\n",
       "      <th>4</th>\n",
       "      <td>0.999618</td>\n",
       "      <td>0.000182</td>\n",
       "      <td>1791</td>\n",
       "      <td>81.409091</td>\n",
       "      <td>117.914682</td>\n",
       "      <td>89</td>\n",
       "      <td>4.045455</td>\n",
       "      <td>4.099678</td>\n",
       "      <td>0-62</td>\n",
       "      <td>62</td>\n",
       "    </tr>\n",
       "    <tr>\n",
       "      <th>...</th>\n",
       "      <td>...</td>\n",
       "      <td>...</td>\n",
       "      <td>...</td>\n",
       "      <td>...</td>\n",
       "      <td>...</td>\n",
       "      <td>...</td>\n",
       "      <td>...</td>\n",
       "      <td>...</td>\n",
       "      <td>...</td>\n",
       "      <td>...</td>\n",
       "    </tr>\n",
       "    <tr>\n",
       "      <th>428908</th>\n",
       "      <td>1.000635</td>\n",
       "      <td>0.000431</td>\n",
       "      <td>48894</td>\n",
       "      <td>474.699029</td>\n",
       "      <td>534.042552</td>\n",
       "      <td>494</td>\n",
       "      <td>4.796117</td>\n",
       "      <td>4.598293</td>\n",
       "      <td>99-32751</td>\n",
       "      <td>32751</td>\n",
       "    </tr>\n",
       "    <tr>\n",
       "      <th>428909</th>\n",
       "      <td>1.000694</td>\n",
       "      <td>0.000664</td>\n",
       "      <td>48635</td>\n",
       "      <td>528.641304</td>\n",
       "      <td>717.778741</td>\n",
       "      <td>585</td>\n",
       "      <td>6.358696</td>\n",
       "      <td>6.732864</td>\n",
       "      <td>99-32753</td>\n",
       "      <td>32753</td>\n",
       "    </tr>\n",
       "    <tr>\n",
       "      <th>428910</th>\n",
       "      <td>0.998246</td>\n",
       "      <td>0.000552</td>\n",
       "      <td>50438</td>\n",
       "      <td>600.452381</td>\n",
       "      <td>1177.948006</td>\n",
       "      <td>457</td>\n",
       "      <td>5.440476</td>\n",
       "      <td>7.490317</td>\n",
       "      <td>99-32758</td>\n",
       "      <td>32758</td>\n",
       "    </tr>\n",
       "    <tr>\n",
       "      <th>428911</th>\n",
       "      <td>0.998905</td>\n",
       "      <td>0.000309</td>\n",
       "      <td>47020</td>\n",
       "      <td>283.253012</td>\n",
       "      <td>372.698606</td>\n",
       "      <td>588</td>\n",
       "      <td>3.542169</td>\n",
       "      <td>3.248501</td>\n",
       "      <td>99-32763</td>\n",
       "      <td>32763</td>\n",
       "    </tr>\n",
       "    <tr>\n",
       "      <th>428912</th>\n",
       "      <td>0.999532</td>\n",
       "      <td>0.000218</td>\n",
       "      <td>18785</td>\n",
       "      <td>213.465909</td>\n",
       "      <td>198.132891</td>\n",
       "      <td>211</td>\n",
       "      <td>2.397727</td>\n",
       "      <td>1.784607</td>\n",
       "      <td>99-32767</td>\n",
       "      <td>32767</td>\n",
       "    </tr>\n",
       "  </tbody>\n",
       "</table>\n",
       "<p>428913 rows × 10 columns</p>\n",
       "</div>"
      ],
      "text/plain": [
       "        price_mean  price_std  size_sum   size_mean     size_std  \\\n",
       "0         1.003722   0.000578      3179   79.475000   118.375107   \n",
       "1         1.000206   0.000304      1289   42.966667    77.815203   \n",
       "2         0.999204   0.000932      2161   86.440000   113.587000   \n",
       "3         0.999020   0.000729      1962  130.800000   144.828569   \n",
       "4         0.999618   0.000182      1791   81.409091   117.914682   \n",
       "...            ...        ...       ...         ...          ...   \n",
       "428908    1.000635   0.000431     48894  474.699029   534.042552   \n",
       "428909    1.000694   0.000664     48635  528.641304   717.778741   \n",
       "428910    0.998246   0.000552     50438  600.452381  1177.948006   \n",
       "428911    0.998905   0.000309     47020  283.253012   372.698606   \n",
       "428912    0.999532   0.000218     18785  213.465909   198.132891   \n",
       "\n",
       "        order_count_sum  order_count_mean  order_count_std    row_id  time_id  \n",
       "0                   110          2.750000         2.467741       0-5        5  \n",
       "1                    57          1.900000         1.446756      0-11       11  \n",
       "2                    68          2.720000         2.300725      0-16       16  \n",
       "3                    59          3.933333         4.043808      0-31       31  \n",
       "4                    89          4.045455         4.099678      0-62       62  \n",
       "...                 ...               ...              ...       ...      ...  \n",
       "428908              494          4.796117         4.598293  99-32751    32751  \n",
       "428909              585          6.358696         6.732864  99-32753    32753  \n",
       "428910              457          5.440476         7.490317  99-32758    32758  \n",
       "428911              588          3.542169         3.248501  99-32763    32763  \n",
       "428912              211          2.397727         1.784607  99-32767    32767  \n",
       "\n",
       "[428913 rows x 10 columns]"
      ]
     },
     "execution_count": 10,
     "metadata": {},
     "output_type": "execute_result"
    }
   ],
   "source": [
    "df_tab"
   ]
  },
  {
   "cell_type": "markdown",
   "id": "595e96de",
   "metadata": {},
   "source": [
    "### Create datasets"
   ]
  },
  {
   "cell_type": "code",
   "execution_count": 11,
   "id": "77145e76",
   "metadata": {},
   "outputs": [
    {
     "name": "stdout",
     "output_type": "stream",
     "text": [
      "In fold 0 :\n",
      "\n",
      "Train set end at 8117 .\n",
      "\n",
      "Test set start at 15516 end at 10890 .\n",
      "\n",
      "Notice: price_mean has been normalized.\n",
      "The mean and std of this feature has been stored in feat_norm_dict\n",
      "Notice: price_std has been normalized.\n",
      "The mean and std of this feature has been stored in feat_norm_dict\n",
      "Notice: size_sum has been normalized.\n",
      "The mean and std of this feature has been stored in feat_norm_dict\n",
      "Notice: size_mean has been normalized.\n",
      "The mean and std of this feature has been stored in feat_norm_dict\n",
      "Notice: size_std has been normalized.\n",
      "The mean and std of this feature has been stored in feat_norm_dict\n",
      "Notice: order_count_sum has been normalized.\n",
      "The mean and std of this feature has been stored in feat_norm_dict\n",
      "Notice: order_count_mean has been normalized.\n",
      "The mean and std of this feature has been stored in feat_norm_dict\n",
      "Notice: order_count_std has been normalized.\n",
      "The mean and std of this feature has been stored in feat_norm_dict\n",
      "Notice: price_mean has been normalized.\n",
      "The mean and std of this feature has been stored in feat_norm_dict\n",
      "Notice: price_std has been normalized.\n",
      "The mean and std of this feature has been stored in feat_norm_dict\n",
      "Notice: size_sum has been normalized.\n",
      "The mean and std of this feature has been stored in feat_norm_dict\n",
      "Notice: size_mean has been normalized.\n",
      "The mean and std of this feature has been stored in feat_norm_dict\n",
      "Notice: size_std has been normalized.\n",
      "The mean and std of this feature has been stored in feat_norm_dict\n",
      "Notice: order_count_sum has been normalized.\n",
      "The mean and std of this feature has been stored in feat_norm_dict\n",
      "Notice: order_count_mean has been normalized.\n",
      "The mean and std of this feature has been stored in feat_norm_dict\n",
      "Notice: order_count_std has been normalized.\n",
      "The mean and std of this feature has been stored in feat_norm_dict\n"
     ]
    }
   ],
   "source": [
    "time_split_list=data_processing.time_cross_val_split(list_time=list_time,n_split=1,percent_val_size=10,list_output=True)\n",
    "train_time_id,test_time_id=time_split_list[0][0],time_split_list[0][1]\n",
    "\n",
    "train_dataset=training.RVdataset(time_id_list=train_time_id,\n",
    "                                 ts_features=[\"sub_int_RV\"],\n",
    "                                 tab_features=['price_mean', 'price_std', 'size_sum', 'size_mean', 'size_std','order_count_sum', 'order_count_mean', 'order_count_std'],\n",
    "                                 df_ts_feat=df_RV_ts,\n",
    "                                 df_target=df_target,\n",
    "                                 df_tab_feat=df_tab,norm_feature_dict={'price_mean': None, 'price_std': None, 'size_sum': None, 'size_mean': None, 'size_std': None,'order_count_sum': None, 'order_count_mean': None, 'order_count_std': None})\n",
    "test_dataset=training.RVdataset(time_id_list=test_time_id,\n",
    "                                 ts_features=[\"sub_int_RV\"],\n",
    "                                 tab_features=['price_mean', 'price_std', 'size_sum', 'size_mean', 'size_std','order_count_sum', 'order_count_mean', 'order_count_std'],\n",
    "                                 df_ts_feat=df_RV_ts,\n",
    "                                 df_target=df_target,\n",
    "                                 df_tab_feat=df_tab,norm_feature_dict={'price_mean': None, 'price_std': None, 'size_sum': None, 'size_mean': None, 'size_std': None,'order_count_sum': None, 'order_count_mean': None, 'order_count_std': None})"
   ]
  },
  {
   "cell_type": "code",
   "execution_count": 12,
   "id": "624d69c5",
   "metadata": {},
   "outputs": [
    {
     "data": {
      "text/plain": [
       "{'sub_int_RV': (0, 60),\n",
       " 'price_mean': (60, 61),\n",
       " 'price_std': (61, 62),\n",
       " 'size_sum': (62, 63),\n",
       " 'size_mean': (63, 64),\n",
       " 'size_std': (64, 65),\n",
       " 'order_count_sum': (65, 66),\n",
       " 'order_count_mean': (66, 67),\n",
       " 'order_count_std': (67, 68)}"
      ]
     },
     "execution_count": 12,
     "metadata": {},
     "output_type": "execute_result"
    }
   ],
   "source": [
    "train_dataset.featureplace"
   ]
  },
  {
   "cell_type": "code",
   "execution_count": 13,
   "id": "c5070f43",
   "metadata": {},
   "outputs": [],
   "source": [
    "ts_place, tab_place= (0,60), (60,68)"
   ]
  },
  {
   "cell_type": "code",
   "execution_count": 14,
   "id": "211d3f9c",
   "metadata": {},
   "outputs": [
    {
     "data": {
      "text/plain": [
       "(tensor([ 3.4084e-04,  0.0000e+00,  2.3243e-05,  0.0000e+00,  1.6951e-04,\n",
       "          3.8188e-07,  8.9407e-05,  5.5245e-04,  1.2384e-05,  0.0000e+00,\n",
       "          4.4959e-04,  4.1774e-06,  0.0000e+00,  4.8719e-04,  7.8863e-05,\n",
       "          1.3869e-04,  1.8932e-04,  1.7912e-04,  7.7147e-05,  0.0000e+00,\n",
       "          1.2311e-04,  8.0507e-07,  0.0000e+00,  6.2301e-04,  3.8759e-08,\n",
       "          1.2902e-06,  2.0088e-06,  1.8896e-08,  0.0000e+00,  9.5118e-07,\n",
       "          8.9181e-06,  0.0000e+00,  1.7741e-04,  2.3867e-06,  4.5465e-04,\n",
       "          8.7020e-07,  5.1658e-04,  1.9658e-04,  2.0350e-04,  2.4453e-04,\n",
       "          0.0000e+00,  2.2738e-04,  2.3521e-06,  1.2019e-04,  2.6251e-04,\n",
       "          1.1614e-04,  1.2996e-05,  2.3797e-04,  5.6143e-05,  6.8022e-04,\n",
       "          2.6529e-04,  0.0000e+00,  2.1426e-04,  3.0215e-06,  0.0000e+00,\n",
       "          1.1849e-04,  2.3133e-04,  1.0609e-05,  1.1056e-04,  2.8797e-04,\n",
       "         -3.1516e-01, -5.0998e-01, -4.4019e-01, -3.0861e-01, -2.9697e-01,\n",
       "         -5.0341e-01, -9.7707e-01, -5.4308e-01]),\n",
       " tensor([0.0013]))"
      ]
     },
     "execution_count": 14,
     "metadata": {},
     "output_type": "execute_result"
    }
   ],
   "source": [
    "train_dataset.__getitem__(0)"
   ]
  },
  {
   "cell_type": "markdown",
   "id": "384d0158",
   "metadata": {},
   "source": [
    "### A proof of concept example model"
   ]
  },
  {
   "cell_type": "code",
   "execution_count": null,
   "id": "14f2eee8",
   "metadata": {},
   "outputs": [],
   "source": [
    "class exp_model(nn.Module):\n",
    "    def __init__(self): \n",
    "        super().__init__()\n",
    "        self.param_emb=nn.ModuleList([\n",
    "            nn.Linear(in_features=8,out_features=64),\n",
    "            nn.ReLU(),\n",
    "            nn.Linear(in_features=64,out_features=64),\n",
    "            nn.ReLU(),\n",
    "            nn.Linear(in_features=64,out_features=1), \n",
    "            # nn.Tanh() # Current test: Best with\n",
    "        ])\n",
    "        self.rnn_layer=training.RV_RNN_conv(rnn_num_layer=1,rnn_drop_out=0,n_diff=2,rnn_type=\"gru\")\n",
    "    \n",
    "    def forward(self,x):\n",
    "        x_ts, x_tab=x[:,ts_place[0]:ts_place[1]], x[:,tab_place[0]:tab_place[1]]#/1000 I first added the /1000 here to scale the tab features a little, I do not think it helped. \n",
    "        \n",
    "        rnn_out_seq=self.rnn_layer(x_ts)\n",
    "        for layer in self.param_emb: \n",
    "            x_tab=layer(x_tab)\n",
    "        \n",
    "        # print(x_tab.shape)\n",
    "        # print(rnn_out_seq.shape)\n",
    "        # print(torch.sum(rnn_out_seq*x_tab,dim=1).shape)\n",
    "        # return rnn_out_seq+rnn_out_seq*x_tab # Current test: Best with \n",
    "        return rnn_out_seq*x_tab # Current test: Best without "
   ]
  },
  {
   "cell_type": "code",
   "execution_count": 48,
   "id": "b41c39e8",
   "metadata": {},
   "outputs": [
    {
     "name": "stdout",
     "output_type": "stream",
     "text": [
      "Warning: rnn_act='tanh' is ignored when using rnn_type='gru'\n"
     ]
    }
   ],
   "source": [
    "example=exp_model().to(device=device)"
   ]
  },
  {
   "cell_type": "code",
   "execution_count": 49,
   "id": "709fec23",
   "metadata": {},
   "outputs": [],
   "source": [
    "#Create the optimizer and the scheduler \n",
    "import torch.optim as optim\n",
    "\n",
    "optimizer = optim.AdamW(example.parameters(), lr=1e-3)\n",
    "\n",
    "scheduler=optim.lr_scheduler.ReduceLROnPlateau(optimizer=optimizer,mode=\"min\",factor=0.5,patience=5,min_lr=1e-7)"
   ]
  },
  {
   "cell_type": "code",
   "execution_count": 50,
   "id": "60a69d32",
   "metadata": {},
   "outputs": [
    {
     "data": {
      "text/plain": [
       "=================================================================\n",
       "Layer (type:depth-idx)                   Param #\n",
       "=================================================================\n",
       "exp_model                                --\n",
       "├─ModuleList: 1-1                        --\n",
       "│    └─Linear: 2-1                       576\n",
       "│    └─ReLU: 2-2                         --\n",
       "│    └─Linear: 2-3                       4,160\n",
       "│    └─ReLU: 2-4                         --\n",
       "│    └─Linear: 2-5                       65\n",
       "├─RV_RNN_conv: 1-2                       --\n",
       "│    └─frozen_diff_conv: 2-6             --\n",
       "│    │    └─Conv1d: 3-1                  (2)\n",
       "│    └─Linear: 2-7                       128\n",
       "│    └─GRU: 2-8                          6,336\n",
       "│    └─Linear: 2-9                       33\n",
       "=================================================================\n",
       "Total params: 11,300\n",
       "Trainable params: 11,298\n",
       "Non-trainable params: 2\n",
       "================================================================="
      ]
     },
     "execution_count": 50,
     "metadata": {},
     "output_type": "execute_result"
    }
   ],
   "source": [
    "#Show summary\n",
    "from torchinfo import summary\n",
    "summary(example)"
   ]
  },
  {
   "cell_type": "code",
   "execution_count": 51,
   "id": "9cb20c84",
   "metadata": {},
   "outputs": [],
   "source": [
    "train_loader=torch.utils.data.DataLoader(dataset=train_dataset,batch_size=512,shuffle=True, num_workers=4, pin_memory=True)\n",
    "test_loader=torch.utils.data.DataLoader(dataset=test_dataset,batch_size=512,shuffle=True, num_workers =4, pin_memory=True)\n",
    "\n",
    "# Loss tracking\n",
    "train_loss = []\n",
    "val_loss = []"
   ]
  },
  {
   "cell_type": "code",
   "execution_count": 52,
   "id": "a0d5c4f4",
   "metadata": {},
   "outputs": [
    {
     "name": "stdout",
     "output_type": "stream",
     "text": [
      "A new best validation loss at epoch  1  with validation loss of  tensor(0.2349, device='cuda:0') .\n",
      "At  11.326699018478394  epoch  1 has training loss  tensor(0.2778, device='cuda:0')  and validation loss  tensor(0.2349, device='cuda:0') .\n",
      "\n",
      "A new best validation loss at epoch  2  with validation loss of  tensor(0.2320, device='cuda:0') .\n",
      "A new best validation loss at epoch  4  with validation loss of  tensor(0.2319, device='cuda:0') .\n",
      "A new best validation loss at epoch  5  with validation loss of  tensor(0.2313, device='cuda:0') .\n",
      "At  59.847381353378296  epoch  5 has training loss  tensor(0.2477, device='cuda:0')  and validation loss  tensor(0.2313, device='cuda:0') .\n",
      "\n",
      "A new best validation loss at epoch  10  with validation loss of  tensor(0.2305, device='cuda:0') .\n",
      "At  120.36788487434387  epoch  10 has training loss  tensor(0.2436, device='cuda:0')  and validation loss  tensor(0.2305, device='cuda:0') .\n",
      "\n",
      "A new best validation loss at epoch  11  with validation loss of  tensor(0.2292, device='cuda:0') .\n",
      "A new best validation loss at epoch  12  with validation loss of  tensor(0.2282, device='cuda:0') .\n",
      "At  181.01617097854614  epoch  15 has training loss  tensor(0.2421, device='cuda:0')  and validation loss  tensor(0.2309, device='cuda:0') .\n",
      "\n",
      "At epoch 18, learning rate has been updated from 0.001 to 0.0005, reloading previous best model weights from epoch 12 ...\n",
      "\n",
      "Previous best model weights reloaded, training continues ... \n",
      "At  242.67557573318481  epoch  20 has training loss  tensor(0.2401, device='cuda:0')  and validation loss  tensor(0.2310, device='cuda:0') .\n",
      "\n",
      "At epoch 24, learning rate has been updated from 0.0005 to 0.00025, reloading previous best model weights from epoch 12 ...\n",
      "\n",
      "Previous best model weights reloaded, training continues ... \n",
      "At  304.37406039237976  epoch  25 has training loss  tensor(0.2391, device='cuda:0')  and validation loss  tensor(0.2288, device='cuda:0') .\n",
      "\n",
      "At  365.1230447292328  epoch  30 has training loss  tensor(0.2389, device='cuda:0')  and validation loss  tensor(0.2302, device='cuda:0') .\n",
      "\n",
      "At epoch 30, learning rate has been updated from 0.00025 to 0.000125, reloading previous best model weights from epoch 12 ...\n",
      "\n",
      "Previous best model weights reloaded, training continues ... \n",
      "The validation loss has not improved for  20  epochs. Stopping current training loop.\n",
      "\n",
      "Best model state dictionary of this training loop is reloaded.\n",
      "\n",
      "According to validation loss, the best model is reached at epoch 12  with validation loss:  tensor(0.2282, device='cuda:0') .\n",
      " The total number of epoch trained is  32 .\n",
      " Training completed in:  389.72345542907715 .\n",
      "\n"
     ]
    }
   ],
   "source": [
    "eample_weight_dict=training.reg_training_loop_rmspe(\n",
    "    optimizer=optimizer,\n",
    "    model=example,\n",
    "    train_loader=train_loader,\n",
    "    val_loader=test_loader,\n",
    "    ot_steps=20,\n",
    "    report_interval=5,\n",
    "    n_epochs=200,\n",
    "    list_train_loss=train_loss,\n",
    "    list_val_loss=val_loss,\n",
    "    device=device,\n",
    "    eps=1e-8,\n",
    "    scheduler=scheduler)"
   ]
  },
  {
   "cell_type": "code",
   "execution_count": 35,
   "id": "bb7a6294",
   "metadata": {},
   "outputs": [
    {
     "data": {
      "image/png": "[encoded data removed]",
      "text/plain": [
       "<Figure size 700x525 with 1 Axes>"
      ]
     },
     "metadata": {},
     "output_type": "display_data"
    }
   ],
   "source": [
    "from proj_mod import visualization\n",
    "\n",
    "train_loss_cut = train_loss[10:]\n",
    "val_loss_cut = val_loss[10:]\n",
    "\n",
    "vis_dict={(\"decoder\",\"current as ground target\"):{\"train_loss\": train_loss_cut,\"val_loss\": val_loss_cut}}\n",
    "visualization.training_plots(vis_dict, fig_width=7)"
   ]
  },
  {
   "cell_type": "markdown",
   "id": "e46067cc",
   "metadata": {},
   "source": [
    "### Another proof of concecpt model "
   ]
  },
  {
   "cell_type": "markdown",
   "id": "7e3ef80e",
   "metadata": {},
   "source": [
    "Thus far, we have only adjusted the final output of (as a sum of elements of sequence) of a model with timeseries input (like rnn). What if we adjust each element instead? "
   ]
  },
  {
   "cell_type": "code",
   "execution_count": null,
   "id": "c8737d68",
   "metadata": {},
   "outputs": [],
   "source": [
    "class exp_model2(nn.Module):\n",
    "    def __init__(self): \n",
    "        super().__init__()\n",
    "        self.param_emb=nn.ModuleList([\n",
    "            nn.Linear(in_features=8,out_features=64),\n",
    "            nn.ReLU(),\n",
    "            nn.Linear(in_features=64,out_features=128),\n",
    "            nn.ReLU(),\n",
    "            nn.Linear(in_features=128,out_features=60), \n",
    "            # nn.Tanh() # Current test: best with\n",
    "        ])\n",
    "        self.rnn_layer=training.RV_RNN_conv(rnn_num_layer=1,rnn_drop_out=0,n_diff=2,rnn_type=\"gru\",return_sum=False)\n",
    "    \n",
    "    def forward(self,x):\n",
    "        x_ts, x_tab=x[:,ts_place[0]:ts_place[1]], x[:,tab_place[0]:tab_place[1]]/1000 #I first added the /1000 here to scale the tab features a little, In this case, it did help: 0.2273 with /1000 and 0.2291 without. I think this is because the values are \"too far away\" from the values of each element of rnn output sequence. \n",
    "        \n",
    "        rnn_out_seq=self.rnn_layer(x_ts)\n",
    "        for layer in self.param_emb: \n",
    "            x_tab=layer(x_tab)\n",
    "        x_tab=x_tab.unsqueeze(-1)\n",
    "        # print(x_tab.shape)\n",
    "        # print(rnn_out_seq.shape)\n",
    "        # print(torch.sum(rnn_out_seq*x_tab,dim=1).shape)\n",
    "        # return torch.sum(rnn_out_seq+rnn_out_seq*x_tab,dim=1) # Current test: Best with\n",
    "        return torch.sum(rnn_out_seq*x_tab,dim=1) # Current test: best without"
   ]
  },
  {
   "cell_type": "code",
   "execution_count": 62,
   "id": "5888e07e",
   "metadata": {},
   "outputs": [
    {
     "name": "stdout",
     "output_type": "stream",
     "text": [
      "Warning: rnn_act='tanh' is ignored when using rnn_type='gru'\n"
     ]
    }
   ],
   "source": [
    "example2=exp_model2().to(device=device)"
   ]
  },
  {
   "cell_type": "code",
   "execution_count": 63,
   "id": "4ce6c282",
   "metadata": {},
   "outputs": [],
   "source": [
    "#Create the optimizer and the scheduler \n",
    "import torch.optim as optim\n",
    "\n",
    "optimizer = optim.AdamW(example2.parameters(), lr=1e-3)\n",
    "\n",
    "scheduler=optim.lr_scheduler.ReduceLROnPlateau(optimizer=optimizer,mode=\"min\",factor=0.5,patience=5,min_lr=1e-7)"
   ]
  },
  {
   "cell_type": "code",
   "execution_count": 64,
   "id": "40095f10",
   "metadata": {},
   "outputs": [
    {
     "data": {
      "text/plain": [
       "=================================================================\n",
       "Layer (type:depth-idx)                   Param #\n",
       "=================================================================\n",
       "exp_model2                               --\n",
       "├─ModuleList: 1-1                        --\n",
       "│    └─Linear: 2-1                       576\n",
       "│    └─ReLU: 2-2                         --\n",
       "│    └─Linear: 2-3                       8,320\n",
       "│    └─ReLU: 2-4                         --\n",
       "│    └─Linear: 2-5                       7,740\n",
       "├─RV_RNN_conv: 1-2                       --\n",
       "│    └─frozen_diff_conv: 2-6             --\n",
       "│    │    └─Conv1d: 3-1                  (2)\n",
       "│    └─Linear: 2-7                       128\n",
       "│    └─GRU: 2-8                          6,336\n",
       "│    └─Linear: 2-9                       33\n",
       "=================================================================\n",
       "Total params: 23,135\n",
       "Trainable params: 23,133\n",
       "Non-trainable params: 2\n",
       "================================================================="
      ]
     },
     "execution_count": 64,
     "metadata": {},
     "output_type": "execute_result"
    }
   ],
   "source": [
    "#Show summary\n",
    "from torchinfo import summary\n",
    "summary(example2)"
   ]
  },
  {
   "cell_type": "code",
   "execution_count": 65,
   "id": "d07f562c",
   "metadata": {},
   "outputs": [],
   "source": [
    "train_loader=torch.utils.data.DataLoader(dataset=train_dataset,batch_size=512,shuffle=True, num_workers=4, pin_memory=True)\n",
    "test_loader=torch.utils.data.DataLoader(dataset=test_dataset,batch_size=512,shuffle=True, num_workers =4, pin_memory=True)\n",
    "\n",
    "# Loss tracking\n",
    "train_loss = []\n",
    "val_loss = []"
   ]
  },
  {
   "cell_type": "code",
   "execution_count": 66,
   "id": "7c7fe009",
   "metadata": {},
   "outputs": [
    {
     "name": "stdout",
     "output_type": "stream",
     "text": [
      "A new best validation loss at epoch  1  with validation loss of  tensor(0.2400, device='cuda:0') .\n",
      "At  11.515148878097534  epoch  1 has training loss  tensor(0.2991, device='cuda:0')  and validation loss  tensor(0.2400, device='cuda:0') .\n",
      "\n",
      "A new best validation loss at epoch  2  with validation loss of  tensor(0.2335, device='cuda:0') .\n",
      "A new best validation loss at epoch  3  with validation loss of  tensor(0.2334, device='cuda:0') .\n",
      "At  61.016361951828  epoch  5 has training loss  tensor(0.2497, device='cuda:0')  and validation loss  tensor(0.2337, device='cuda:0') .\n",
      "\n",
      "A new best validation loss at epoch  7  with validation loss of  tensor(0.2321, device='cuda:0') .\n",
      "At  122.65967845916748  epoch  10 has training loss  tensor(0.2471, device='cuda:0')  and validation loss  tensor(0.2345, device='cuda:0') .\n",
      "\n",
      "A new best validation loss at epoch  11  with validation loss of  tensor(0.2321, device='cuda:0') .\n",
      "A new best validation loss at epoch  13  with validation loss of  tensor(0.2308, device='cuda:0') .\n",
      "At  184.13161826133728  epoch  15 has training loss  tensor(0.2460, device='cuda:0')  and validation loss  tensor(0.2367, device='cuda:0') .\n",
      "\n",
      "At epoch 19, learning rate has been updated from 0.001 to 0.0005, reloading previous best model weights from epoch 13 ...\n",
      "\n",
      "Previous best model weights reloaded, training continues ... \n",
      "At  245.5178451538086  epoch  20 has training loss  tensor(0.2436, device='cuda:0')  and validation loss  tensor(0.2316, device='cuda:0') .\n",
      "\n",
      "A new best validation loss at epoch  21  with validation loss of  tensor(0.2301, device='cuda:0') .\n",
      "A new best validation loss at epoch  24  with validation loss of  tensor(0.2298, device='cuda:0') .\n",
      "A new best validation loss at epoch  25  with validation loss of  tensor(0.2296, device='cuda:0') .\n",
      "At  307.33500504493713  epoch  25 has training loss  tensor(0.2432, device='cuda:0')  and validation loss  tensor(0.2296, device='cuda:0') .\n",
      "\n",
      "At  368.8434944152832  epoch  30 has training loss  tensor(0.2427, device='cuda:0')  and validation loss  tensor(0.2301, device='cuda:0') .\n",
      "\n",
      "At epoch 31, learning rate has been updated from 0.0005 to 0.00025, reloading previous best model weights from epoch 25 ...\n",
      "\n",
      "Previous best model weights reloaded, training continues ... \n",
      "A new best validation loss at epoch  32  with validation loss of  tensor(0.2291, device='cuda:0') .\n",
      "A new best validation loss at epoch  33  with validation loss of  tensor(0.2289, device='cuda:0') .\n",
      "At  429.72291326522827  epoch  35 has training loss  tensor(0.2417, device='cuda:0')  and validation loss  tensor(0.2305, device='cuda:0') .\n",
      "\n",
      "At epoch 39, learning rate has been updated from 0.00025 to 0.000125, reloading previous best model weights from epoch 33 ...\n",
      "\n",
      "Previous best model weights reloaded, training continues ... \n",
      "A new best validation loss at epoch  40  with validation loss of  tensor(0.2286, device='cuda:0') .\n",
      "At  490.9632143974304  epoch  40 has training loss  tensor(0.2413, device='cuda:0')  and validation loss  tensor(0.2286, device='cuda:0') .\n",
      "\n",
      "At  552.4416396617889  epoch  45 has training loss  tensor(0.2411, device='cuda:0')  and validation loss  tensor(0.2293, device='cuda:0') .\n",
      "\n",
      "At epoch 46, learning rate has been updated from 0.000125 to 6.25e-05, reloading previous best model weights from epoch 40 ...\n",
      "\n",
      "Previous best model weights reloaded, training continues ... \n",
      "At  614.0875732898712  epoch  50 has training loss  tensor(0.2409, device='cuda:0')  and validation loss  tensor(0.2293, device='cuda:0') .\n",
      "\n",
      "At epoch 52, learning rate has been updated from 6.25e-05 to 3.125e-05, reloading previous best model weights from epoch 40 ...\n",
      "\n",
      "Previous best model weights reloaded, training continues ... \n",
      "At  675.6462018489838  epoch  55 has training loss  tensor(0.2408, device='cuda:0')  and validation loss  tensor(0.2289, device='cuda:0') .\n",
      "\n",
      "At epoch 58, learning rate has been updated from 3.125e-05 to 1.5625e-05, reloading previous best model weights from epoch 40 ...\n",
      "\n",
      "Previous best model weights reloaded, training continues ... \n",
      "At  736.9213933944702  epoch  60 has training loss  tensor(0.2407, device='cuda:0')  and validation loss  tensor(0.2291, device='cuda:0') .\n",
      "\n",
      "The validation loss has not improved for  20  epochs. Stopping current training loop.\n",
      "\n",
      "Best model state dictionary of this training loop is reloaded.\n",
      "\n",
      "According to validation loss, the best model is reached at epoch 40  with validation loss:  tensor(0.2286, device='cuda:0') .\n",
      " The total number of epoch trained is  60 .\n",
      " Training completed in:  736.9213933944702 .\n",
      "\n"
     ]
    }
   ],
   "source": [
    "eample_weight_dict2=training.reg_training_loop_rmspe(\n",
    "    optimizer=optimizer,\n",
    "    model=example2,\n",
    "    train_loader=train_loader,\n",
    "    val_loader=test_loader,\n",
    "    ot_steps=20,\n",
    "    report_interval=5,\n",
    "    n_epochs=200,\n",
    "    list_train_loss=train_loss,\n",
    "    list_val_loss=val_loss,\n",
    "    device=device,\n",
    "    eps=1e-8,\n",
    "    scheduler=scheduler)"
   ]
  },
  {
   "cell_type": "code",
   "execution_count": 67,
   "id": "f85b62dd",
   "metadata": {},
   "outputs": [
    {
     "data": {
      "image/png": "[encoded data removed]",
      "text/plain": [
       "<Figure size 700x525 with 1 Axes>"
      ]
     },
     "metadata": {},
     "output_type": "display_data"
    }
   ],
   "source": [
    "from proj_mod import visualization\n",
    "\n",
    "train_loss_cut = train_loss[10:]\n",
    "val_loss_cut = val_loss[10:]\n",
    "\n",
    "vis_dict={(\"decoder\",\"current as ground target\"):{\"train_loss\": train_loss_cut,\"val_loss\": val_loss_cut}}\n",
    "visualization.training_plots(vis_dict, fig_width=7)"
   ]
  },
  {
   "cell_type": "markdown",
   "id": "a30f0fae",
   "metadata": {},
   "source": [
    "In above, I am only using parameters of row id for embedding as example, I think things can improve when we use time and stock parameters as well. This can go beyond of just stock id since it can learn \"similarity of time id\" according to its parameters. While learned discrete embedding as we implemented in Learned_emb_RNN.ipynb can not do this for time id: They have not seen the future time id's in the test set. "
   ]
  }
 ],
 "metadata": {
  "kernelspec": {
   "display_name": "deep_learning_3_11_8",
   "language": "python",
   "name": "python3"
  },
  "language_info": {
   "codemirror_mode": {
    "name": "ipython",
    "version": 3
   },
   "file_extension": ".py",
   "mimetype": "text/x-python",
   "name": "python",
   "nbconvert_exporter": "python",
   "pygments_lexer": "ipython3",
   "version": "3.11.8"
  }
 },
 "nbformat": 4,
 "nbformat_minor": 5
}
