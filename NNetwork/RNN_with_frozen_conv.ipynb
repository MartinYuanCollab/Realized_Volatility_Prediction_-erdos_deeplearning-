{
 "cells": [
  {
   "cell_type": "markdown",
   "id": "e77e9ebe",
   "metadata": {},
   "source": [
    "## RNN with frozen convolution layer. "
   ]
  },
  {
   "cell_type": "markdown",
   "id": "5a6b854e",
   "metadata": {},
   "source": [
    "The idea is inspired by an application of RNN in predicting if an online review (say, for a product) is positive or negative (1 or 0). Each word in the review sentence is first projected to a large dimension vector space and then sent into an RNN network sequentially. "
   ]
  },
  {
   "cell_type": "markdown",
   "id": "f3f6b66b",
   "metadata": {},
   "source": [
    "We will make use of frozen convolution layer to create derivative like features for our time series features. Then, we use the derivative values of a certain time as if a \"word\" in a \"review\", the target RV as if the \"score\" of the \"review\" to train an RNN network that predicts the target RV with the time series features. "
   ]
  },
  {
   "cell_type": "markdown",
   "id": "d1bd88f7",
   "metadata": {},
   "source": [
    "## Example"
   ]
  },
  {
   "cell_type": "code",
   "execution_count": 92,
   "id": "907e47ab",
   "metadata": {},
   "outputs": [],
   "source": [
    "import sys, importlib\n",
    "import torch \n",
    "import torch.nn as nn\n",
    "import numpy as np\n",
    "import pandas as pd\n",
    "import copy\n",
    "import time\n",
    "\n",
    "sys.path.append(\"../\")\n",
    "from proj_mod import training, data_processing\n",
    "importlib.reload(training);\n",
    "importlib.reload(data_processing);"
   ]
  },
  {
   "cell_type": "code",
   "execution_count": 14,
   "id": "8ef8d13b-6c6f-4cac-b98c-105c0941a447",
   "metadata": {},
   "outputs": [
    {
     "data": {
      "text/plain": [
       "device(type='cuda')"
      ]
     },
     "execution_count": 14,
     "metadata": {},
     "output_type": "execute_result"
    }
   ],
   "source": [
    "device = torch.device(\"cuda\" if torch.cuda.is_available() else \"cpu\")\n",
    "device"
   ]
  },
  {
   "cell_type": "markdown",
   "id": "e12efccd",
   "metadata": {},
   "source": [
    "Below is what Yuan needed to get his gpu working, do not run if you do not need it. "
   ]
  },
  {
   "cell_type": "code",
   "execution_count": null,
   "id": "bd83d5f4",
   "metadata": {},
   "outputs": [],
   "source": [
    "from dotenv import load_dotenv\n",
    "import os\n",
    "\n",
    "load_dotenv(\"../dotenv_env/deep_learning.env\")"
   ]
  },
  {
   "cell_type": "code",
   "execution_count": 4,
   "id": "ebd9ea17",
   "metadata": {},
   "outputs": [
    {
     "name": "stdout",
     "output_type": "stream",
     "text": [
      "10.3.0\n"
     ]
    }
   ],
   "source": [
    "print(os.environ.get(\"HSA_OVERRIDE_GFX_VERSION\"))"
   ]
  },
  {
   "cell_type": "markdown",
   "id": "45cb26cd",
   "metadata": {},
   "source": [
    "Let's say, we have following timeseries feature (created randomly), we will create the derivative features first. As a reminder, the zero dimension is the batch size, the dimension one is channel (needed for the first convolution layer, not really a \"thing\" for time series like features). "
   ]
  },
  {
   "cell_type": "code",
   "execution_count": 15,
   "id": "eb3d0064",
   "metadata": {},
   "outputs": [],
   "source": [
    "ts_feature=torch.randn(1,1,60)"
   ]
  },
  {
   "cell_type": "code",
   "execution_count": 16,
   "id": "b28d5ce8",
   "metadata": {},
   "outputs": [
    {
     "data": {
      "text/plain": [
       "tensor([[[ 0.1883, -1.5647, -0.1274,  1.2920, -0.7656, -0.3022, -0.6737,\n",
       "           0.1360,  1.2097,  2.6466, -0.2469, -1.0000,  1.0722, -1.4746,\n",
       "          -0.1068, -0.6555,  0.7706,  0.2053, -0.2098,  0.7478,  1.6095,\n",
       "          -0.3712,  0.4534,  0.2698,  0.4378, -0.5968, -0.6398, -0.9347,\n",
       "          -0.3715,  1.2970, -0.0350, -1.6230, -1.1005, -0.8161, -0.1418,\n",
       "          -0.8618, -0.5056, -0.7708,  2.2829,  0.8602,  1.7320, -0.3070,\n",
       "          -1.1467,  0.1925, -0.2483,  0.7970, -1.2589,  0.6403, -0.6057,\n",
       "          -0.5967, -0.2875, -1.6377, -0.8962, -0.0801, -0.3219,  0.1242,\n",
       "           2.0817,  1.5794, -0.7532, -0.2917]]])"
      ]
     },
     "execution_count": 16,
     "metadata": {},
     "output_type": "execute_result"
    }
   ],
   "source": [
    "ts_feature"
   ]
  },
  {
   "cell_type": "code",
   "execution_count": 17,
   "id": "739b2fa7",
   "metadata": {},
   "outputs": [],
   "source": [
    "conv_create_diff=training.frozen_diff_conv(n_diff=4)\n",
    "ts_diff_feature=conv_create_diff(ts_feature)"
   ]
  },
  {
   "cell_type": "code",
   "execution_count": 18,
   "id": "c48f9ca2",
   "metadata": {
    "scrolled": true
   },
   "outputs": [
    {
     "data": {
      "text/plain": [
       "tensor([[[ 1.8833e-01, -1.5647e+00, -1.2741e-01,  1.2920e+00, -7.6556e-01,\n",
       "          -3.0221e-01, -6.7369e-01,  1.3598e-01,  1.2097e+00,  2.6466e+00,\n",
       "          -2.4691e-01, -1.0000e+00,  1.0722e+00, -1.4746e+00, -1.0683e-01,\n",
       "          -6.5550e-01,  7.7060e-01,  2.0534e-01, -2.0979e-01,  7.4780e-01,\n",
       "           1.6095e+00, -3.7120e-01,  4.5340e-01,  2.6977e-01,  4.3784e-01,\n",
       "          -5.9683e-01, -6.3982e-01, -9.3467e-01, -3.7153e-01,  1.2970e+00,\n",
       "          -3.4998e-02, -1.6230e+00, -1.1005e+00, -8.1609e-01, -1.4182e-01,\n",
       "          -8.6179e-01, -5.0565e-01, -7.7084e-01,  2.2829e+00,  8.6019e-01,\n",
       "           1.7320e+00, -3.0704e-01, -1.1467e+00,  1.9247e-01, -2.4833e-01,\n",
       "           7.9699e-01, -1.2589e+00,  6.4033e-01, -6.0569e-01, -5.9673e-01,\n",
       "          -2.8754e-01, -1.6377e+00, -8.9617e-01, -8.0095e-02, -3.2189e-01,\n",
       "           1.2424e-01,  2.0817e+00,  1.5794e+00, -7.5322e-01, -2.9173e-01],\n",
       "         [-1.7530e+00,  1.4373e+00,  1.4194e+00, -2.0576e+00,  4.6335e-01,\n",
       "          -3.7148e-01,  8.0967e-01,  1.0737e+00,  1.4370e+00, -2.8935e+00,\n",
       "          -7.5313e-01,  2.0722e+00, -2.5468e+00,  1.3678e+00, -5.4867e-01,\n",
       "           1.4261e+00, -5.6526e-01, -4.1513e-01,  9.5758e-01,  8.6175e-01,\n",
       "          -1.9808e+00,  8.2460e-01, -1.8362e-01,  1.6807e-01, -1.0347e+00,\n",
       "          -4.2994e-02, -2.9485e-01,  5.6314e-01,  1.6685e+00, -1.3320e+00,\n",
       "          -1.5880e+00,  5.2247e-01,  2.8445e-01,  6.7427e-01, -7.1997e-01,\n",
       "           3.5614e-01, -2.6519e-01,  3.0537e+00, -1.4227e+00,  8.7183e-01,\n",
       "          -2.0390e+00, -8.3962e-01,  1.3391e+00, -4.4080e-01,  1.0453e+00,\n",
       "          -2.0559e+00,  1.8992e+00, -1.2460e+00,  8.9523e-03,  3.0919e-01,\n",
       "          -1.3502e+00,  7.4158e-01,  8.1607e-01, -2.4180e-01,  4.4613e-01,\n",
       "           1.9575e+00, -5.0226e-01, -2.3327e+00,  4.6149e-01,  0.0000e+00],\n",
       "         [ 3.1903e+00, -1.7859e-02, -3.4770e+00,  2.5209e+00, -8.3483e-01,\n",
       "           1.1812e+00,  2.6400e-01,  3.6328e-01, -4.3305e+00,  2.1404e+00,\n",
       "           2.8253e+00, -4.6190e+00,  3.9146e+00, -1.9165e+00,  1.9748e+00,\n",
       "          -1.9914e+00,  1.5014e-01,  1.3727e+00, -9.5834e-02, -2.8425e+00,\n",
       "           2.8054e+00, -1.0082e+00,  3.5169e-01, -1.2027e+00,  9.9167e-01,\n",
       "          -2.5185e-01,  8.5799e-01,  1.1054e+00, -3.0005e+00, -2.5602e-01,\n",
       "           2.1105e+00, -2.3801e-01,  3.8982e-01, -1.3942e+00,  1.0761e+00,\n",
       "          -6.2132e-01,  3.3189e+00, -4.4764e+00,  2.2945e+00, -2.9109e+00,\n",
       "           1.1994e+00,  2.1788e+00, -1.7799e+00,  1.4861e+00, -3.1012e+00,\n",
       "           3.9551e+00, -3.1452e+00,  1.2550e+00,  3.0024e-01, -1.6594e+00,\n",
       "           2.0918e+00,  7.4498e-02, -1.0579e+00,  6.8793e-01,  1.5113e+00,\n",
       "          -2.4597e+00, -1.8304e+00,  2.7942e+00,  0.0000e+00,  0.0000e+00],\n",
       "         [-3.2082e+00, -3.4591e+00,  5.9979e+00, -3.3557e+00,  2.0160e+00,\n",
       "          -9.1715e-01,  9.9275e-02, -4.6938e+00,  6.4709e+00,  6.8494e-01,\n",
       "          -7.4443e+00,  8.5336e+00, -5.8311e+00,  3.8913e+00, -3.9661e+00,\n",
       "           2.1415e+00,  1.2226e+00, -1.4685e+00, -2.7467e+00,  5.6479e+00,\n",
       "          -3.8136e+00,  1.3599e+00, -1.5544e+00,  2.1944e+00, -1.2435e+00,\n",
       "           1.1098e+00,  2.4740e-01, -4.1059e+00,  2.7445e+00,  2.3665e+00,\n",
       "          -2.3485e+00,  6.2783e-01, -1.7841e+00,  2.4703e+00, -1.6974e+00,\n",
       "           3.9402e+00, -7.7953e+00,  6.7710e+00, -5.2054e+00,  4.1103e+00,\n",
       "           9.7933e-01, -3.9587e+00,  3.2660e+00, -4.5873e+00,  7.0562e+00,\n",
       "          -7.1003e+00,  4.4002e+00, -9.5473e-01, -1.9596e+00,  3.7512e+00,\n",
       "          -2.0173e+00, -1.1324e+00,  1.7458e+00,  8.2341e-01, -3.9711e+00,\n",
       "           6.2931e-01,  4.6246e+00,  0.0000e+00,  0.0000e+00,  0.0000e+00],\n",
       "         [-2.5096e-01,  9.4570e+00, -9.3536e+00,  5.3717e+00, -2.9331e+00,\n",
       "           1.0164e+00, -4.7930e+00,  1.1165e+01, -5.7859e+00, -8.1293e+00,\n",
       "           1.5978e+01, -1.4365e+01,  9.7224e+00, -7.8574e+00,  6.1076e+00,\n",
       "          -9.1893e-01, -2.6911e+00, -1.2781e+00,  8.3945e+00, -9.4615e+00,\n",
       "           5.1735e+00, -2.9144e+00,  3.7488e+00, -3.4379e+00,  2.3534e+00,\n",
       "          -8.6244e-01, -4.3533e+00,  6.8504e+00, -3.7799e-01, -4.7150e+00,\n",
       "           2.9763e+00, -2.4119e+00,  4.2544e+00, -4.1678e+00,  5.6377e+00,\n",
       "          -1.1736e+01,  1.4566e+01, -1.1976e+01,  9.3157e+00, -3.1310e+00,\n",
       "          -4.9380e+00,  7.2247e+00, -7.8534e+00,  1.1644e+01, -1.4157e+01,\n",
       "           1.1500e+01, -5.3549e+00, -1.0049e+00,  5.7108e+00, -5.7685e+00,\n",
       "           8.8491e-01,  2.8782e+00, -9.2239e-01, -4.7945e+00,  4.6004e+00,\n",
       "           3.9953e+00,  0.0000e+00,  0.0000e+00,  0.0000e+00,  0.0000e+00]]])"
      ]
     },
     "execution_count": 18,
     "metadata": {},
     "output_type": "execute_result"
    }
   ],
   "source": [
    "ts_diff_feature"
   ]
  },
  {
   "cell_type": "code",
   "execution_count": 19,
   "id": "79075913",
   "metadata": {},
   "outputs": [
    {
     "data": {
      "text/plain": [
       "torch.Size([1, 5, 60])"
      ]
     },
     "execution_count": 19,
     "metadata": {},
     "output_type": "execute_result"
    }
   ],
   "source": [
    "ts_diff_feature.shape"
   ]
  },
  {
   "cell_type": "markdown",
   "id": "1a3354b4",
   "metadata": {},
   "source": [
    "We now permute the last two dimensions, essentially, this is just a transposition of the last two dimensions. "
   ]
  },
  {
   "cell_type": "code",
   "execution_count": 20,
   "id": "76682d9f",
   "metadata": {},
   "outputs": [],
   "source": [
    "ts_diff_feature=ts_diff_feature.permute(0,2,1)"
   ]
  },
  {
   "cell_type": "code",
   "execution_count": 21,
   "id": "5ed4b060",
   "metadata": {},
   "outputs": [
    {
     "data": {
      "text/plain": [
       "torch.Size([1, 60, 5])"
      ]
     },
     "execution_count": 21,
     "metadata": {},
     "output_type": "execute_result"
    }
   ],
   "source": [
    "ts_diff_feature.shape"
   ]
  },
  {
   "cell_type": "markdown",
   "id": "e3cff150",
   "metadata": {},
   "source": [
    "Now, this is a batch (of size 1) of timeseries feature with 60 time steps, and 5 features in each step. We then expand the 5 features, say, to 32 by projection. As a reminder, nn.Linear automatically apply to the last dimension. "
   ]
  },
  {
   "cell_type": "code",
   "execution_count": 22,
   "id": "6b7d96c1",
   "metadata": {},
   "outputs": [],
   "source": [
    "linear_proj=nn.Linear(5,32)\n",
    "ts_feature_proj=linear_proj(ts_diff_feature)"
   ]
  },
  {
   "cell_type": "code",
   "execution_count": 23,
   "id": "33f82b6b",
   "metadata": {},
   "outputs": [
    {
     "data": {
      "text/plain": [
       "torch.Size([1, 60, 32])"
      ]
     },
     "execution_count": 23,
     "metadata": {},
     "output_type": "execute_result"
    }
   ],
   "source": [
    "ts_feature_proj.shape"
   ]
  },
  {
   "cell_type": "markdown",
   "id": "0e40c151",
   "metadata": {},
   "source": [
    "In this example, we will not go into too much detail, so let's make the most simple version. We then pass through a layer of RNN, then a layer of linear (to project to dimension 1 again). Learn more about RNN at https://docs.pytorch.org/docs/stable/generated/torch.nn.RNN.html. "
   ]
  },
  {
   "cell_type": "code",
   "execution_count": 24,
   "id": "f611ac42",
   "metadata": {},
   "outputs": [],
   "source": [
    "RNN_layer=nn.RNN(input_size=32,hidden_size=32,num_layers=1,nonlinearity=\"tanh\",batch_first=True,dropout=0)\n",
    "linear_end=nn.Linear(32,1)"
   ]
  },
  {
   "cell_type": "code",
   "execution_count": 25,
   "id": "207568f0",
   "metadata": {},
   "outputs": [],
   "source": [
    "RNN_out=RNN_layer(ts_feature_proj)"
   ]
  },
  {
   "cell_type": "markdown",
   "id": "4cc91386",
   "metadata": {},
   "source": [
    "As a reminder, since no training is done, the RNN basically just applies the initial weights. "
   ]
  },
  {
   "cell_type": "code",
   "execution_count": 26,
   "id": "f31dfe8d",
   "metadata": {},
   "outputs": [
    {
     "data": {
      "text/plain": [
       "torch.Size([1, 60, 32])"
      ]
     },
     "execution_count": 26,
     "metadata": {},
     "output_type": "execute_result"
    }
   ],
   "source": [
    "RNN_out[0].shape"
   ]
  },
  {
   "cell_type": "code",
   "execution_count": 27,
   "id": "e423255b",
   "metadata": {},
   "outputs": [],
   "source": [
    "out_proj=linear_end(RNN_out[0])"
   ]
  },
  {
   "cell_type": "code",
   "execution_count": 28,
   "id": "3ba4ee6e",
   "metadata": {},
   "outputs": [
    {
     "data": {
      "text/plain": [
       "torch.Size([1, 60, 1])"
      ]
     },
     "execution_count": 28,
     "metadata": {},
     "output_type": "execute_result"
    }
   ],
   "source": [
    "out_proj.shape"
   ]
  },
  {
   "cell_type": "markdown",
   "id": "22784470",
   "metadata": {},
   "source": [
    "We will use sum, but we may change this to other functions, according to context or just feeling. "
   ]
  },
  {
   "cell_type": "code",
   "execution_count": 29,
   "id": "e293bafe",
   "metadata": {},
   "outputs": [],
   "source": [
    "sum_out=torch.sum(out_proj,dim=1)"
   ]
  },
  {
   "cell_type": "code",
   "execution_count": 30,
   "id": "b35c7bc4",
   "metadata": {},
   "outputs": [
    {
     "data": {
      "text/plain": [
       "tensor([[5.7497]], grad_fn=<SumBackward1>)"
      ]
     },
     "execution_count": 30,
     "metadata": {},
     "output_type": "execute_result"
    }
   ],
   "source": [
    "sum_out"
   ]
  },
  {
   "cell_type": "markdown",
   "id": "81b9f52c",
   "metadata": {},
   "source": [
    "## Creating the actual NN "
   ]
  },
  {
   "cell_type": "code",
   "execution_count": 123,
   "id": "4d007bce",
   "metadata": {},
   "outputs": [],
   "source": [
    "#Created 07/02/25\n",
    "#07/02/25: Moved to training.py \n",
    "#07/08/25: Moved from training.py\n",
    "class RV_RNN_conv(nn.Module):        \n",
    "    #Created 07/02/25 see RNN_with_frozen_conv.ipynb for documentation. \n",
    "    #Modified 07/08/25 Added LSTM and GRU options\n",
    "    def __init__(self,n_diff,rnn_num_layer,rnn_drop_out,rnn_type=\"rnn\",rnn_act=\"tanh\",proj_dim=32,rnn_hidden_size=32,input_scaler=10000):\n",
    "        \"\"\"\n",
    "        :param n_diff: Decides how many derivative features is wanted in the time series. \n",
    "        :param rnn_num_layer: num_layer parameter for rnn. \n",
    "        :param rnn_drop_out: dropout parameter for rnn. \n",
    "        :param rnn_act: Defaulted to \"tanh\". Nonlinearity parameter for rnn. \n",
    "        :param proj_dim: Defaulted to 32. Decided the dimension of projection before feeding into rnn. \n",
    "        :param rnn_hidden_size: Defaulted to 32. The hidden_size parameter for rnn. \n",
    "        :param input_scaler: Defaulted to 10000. Set a scaling to input, a lot of timeseries values of our data are extremely close to zero. \n",
    "        :param rnn_type: 'rnn', 'lstm', or 'gru'\n",
    "        \"\"\"\n",
    "        super().__init__()\n",
    "        \n",
    "        self.input_scaler=input_scaler\n",
    "        self.frozen_conv=frozen_diff_conv(n_diff=n_diff)\n",
    "        self.linear_proj_input=nn.Linear(n_diff+1,proj_dim)\n",
    "\n",
    "        self.rnn_type = rnn_type\n",
    "\n",
    "        if rnn_type == \"rnn\":\n",
    "            self.RNN_layer=nn.RNN(input_size=proj_dim,\n",
    "                                  hidden_size=rnn_hidden_size,\n",
    "                                  num_layers=rnn_num_layer,\n",
    "                                  nonlinearity=rnn_act,\n",
    "                                  batch_first=True,\n",
    "                                  dropout=rnn_drop_out)\n",
    "        elif rnn_type == \"lstm\":\n",
    "            if rnn_act is not None:\n",
    "                print(f\"Warning: rnn_act='{rnn_act}' is ignored when using rnn_type='lstm'\")\n",
    "            self.RNN_layer = nn.LSTM(input_size=proj_dim,\n",
    "                                     hidden_size=rnn_hidden_size,\n",
    "                                     num_layers=rnn_num_layer,\n",
    "                                     batch_first=True,\n",
    "                                     dropout=rnn_drop_out)\n",
    "        elif rnn_type == \"gru\":\n",
    "            if rnn_act is not None:\n",
    "                print(f\"Warning: rnn_act='{rnn_act}' is ignored when using rnn_type='gru'\")\n",
    "            self.RNN_layer = nn.GRU(input_size=proj_dim,\n",
    "                                    hidden_size=rnn_hidden_size,\n",
    "                                    num_layers=rnn_num_layer,\n",
    "                                    batch_first=True,\n",
    "                                    dropout=rnn_drop_out)\n",
    "        else:\n",
    "            raise ValueError(f\"Unsupported rnn_type: {rnn_type}\")\n",
    "        \n",
    "        self.linear_post_rnn=nn.Linear(rnn_hidden_size,1)\n",
    "        self.frozen_list=[\"frozen_conv\"] \n",
    "        \n",
    "    def forward(self,x):\n",
    "        #First, scale the input, and unsqueese to add in one dimension in dim 1 as channel. This is needed for convolution. \n",
    "        x*=self.input_scaler\n",
    "        x=torch.unsqueeze(x,dim=1)\n",
    "        x=self.frozen_conv(x)\n",
    "        x=x.permute(0,2,1)\n",
    "        x=self.linear_proj_input(x)\n",
    "        x=self.RNN_layer(x)[0]\n",
    "        x=self.linear_post_rnn(x)\n",
    "        \n",
    "        return torch.sum(x,dim=1)/self.input_scaler\n",
    "    "
   ]
  },
  {
   "cell_type": "markdown",
   "id": "71432b31",
   "metadata": {},
   "source": [
    "## Basic testing on the RNN with frozen convolution "
   ]
  },
  {
   "cell_type": "markdown",
   "id": "a9583750",
   "metadata": {},
   "source": [
    "Test it first. As a reminder, the expected input dimensions are (Batch Size, Time Series Length), this is distinct from the example above in that the channel dimension is not present. The channel dimension is added with unsqueeze at dimension 1 so that the first convolution layer can be utilized. "
   ]
  },
  {
   "cell_type": "code",
   "execution_count": 31,
   "id": "df3d8c1f",
   "metadata": {},
   "outputs": [],
   "source": [
    "ts_feature=torch.randn(10,60)"
   ]
  },
  {
   "cell_type": "code",
   "execution_count": 32,
   "id": "a33fd643",
   "metadata": {
    "scrolled": true
   },
   "outputs": [
    {
     "data": {
      "text/plain": [
       "tensor([[ 4.4421e-01,  3.1845e-01, -1.2453e-01,  9.2265e-01,  1.5805e+00,\n",
       "         -8.3034e-01, -1.2001e+00,  3.7358e-01,  7.3407e-01, -2.2254e+00,\n",
       "         -1.5248e+00, -5.8798e-01,  8.4470e-01,  2.0951e+00, -3.4094e-01,\n",
       "          4.6927e-01, -2.2449e-01, -1.5693e+00, -4.4435e-01, -1.3273e+00,\n",
       "          1.0498e+00, -3.8653e-01, -5.0019e-01, -9.9973e-01,  6.0036e-01,\n",
       "         -1.5809e+00,  5.4694e-01,  3.9090e-03,  3.1232e-01, -1.8382e-01,\n",
       "          5.6643e-01,  4.6750e-01,  5.9901e-01, -3.2179e-01, -2.4819e-01,\n",
       "         -4.5556e-01,  1.3023e+00,  5.0032e-01,  6.5580e-01, -5.4369e-01,\n",
       "          9.4843e-01, -1.7269e+00, -2.1508e-01,  1.6866e+00,  9.6118e-01,\n",
       "         -2.4153e-01, -1.3553e+00, -1.0616e+00,  2.7266e+00,  2.3703e-01,\n",
       "          2.3038e+00, -1.8440e-01, -2.2502e+00,  1.7077e+00,  1.0996e+00,\n",
       "          3.3324e-01,  2.7059e-01, -1.6104e-01, -8.9228e-01,  5.4322e-01],\n",
       "        [ 8.4507e-01,  4.8627e-01,  5.6970e-01, -5.3668e-02,  1.7455e+00,\n",
       "          9.7448e-01, -1.9259e+00,  1.4190e-01,  9.2587e-01,  1.1008e+00,\n",
       "         -1.4950e+00, -9.4381e-01, -3.5339e-01, -1.4503e+00, -1.2416e+00,\n",
       "         -3.9252e-01, -6.8434e-02, -9.2412e-01, -6.6740e-01, -3.7867e-01,\n",
       "          7.7142e-01, -5.3017e-01, -4.3105e-01,  1.5291e+00,  8.2226e-01,\n",
       "         -1.8621e+00,  5.8256e-01,  9.3354e-01, -9.2603e-01,  6.8723e-01,\n",
       "         -2.1859e+00, -2.6616e-01, -5.0836e-02,  6.0396e-01,  1.1141e+00,\n",
       "         -2.8724e-01, -4.6968e-01, -6.8748e-01,  9.3538e-01,  1.4404e+00,\n",
       "         -3.9631e-01,  6.8197e-01, -4.6230e-01, -1.3568e+00, -2.2724e-01,\n",
       "          4.6989e-01,  1.9868e+00, -2.3307e+00, -1.6871e+00,  5.9393e-01,\n",
       "         -1.2536e-01,  6.8381e-01,  2.1618e+00,  7.7269e-01, -1.8524e+00,\n",
       "          6.9414e-01, -1.8168e+00,  4.5229e-01, -1.0777e-01, -9.2990e-02],\n",
       "        [ 1.9125e+00, -3.0273e+00, -1.2980e+00,  6.2116e-01,  4.7636e-01,\n",
       "         -8.5711e-01, -5.8314e-01,  4.2358e-01, -5.3699e-01,  1.1631e+00,\n",
       "          1.2033e+00, -6.0650e-01,  1.7262e+00, -3.8306e-01, -4.1962e-01,\n",
       "          9.0882e-01, -7.9359e-02, -7.6647e-01, -2.1250e+00,  1.1928e+00,\n",
       "         -1.0323e+00,  3.8542e-03, -5.7936e-01, -1.3590e+00, -9.5995e-01,\n",
       "         -1.0367e+00, -6.4890e-01,  4.7852e-01, -9.2674e-01,  9.3076e-01,\n",
       "         -3.9976e-01,  4.5293e-01,  8.9587e-01, -6.1433e-01,  6.1342e-01,\n",
       "         -1.4758e-01,  6.0588e-02, -1.3544e+00, -8.4122e-01,  1.1694e+00,\n",
       "         -4.4448e-01, -2.8153e-01, -1.5176e+00, -1.2919e-01,  8.6083e-01,\n",
       "          1.6499e+00, -6.5666e-01,  4.1952e-01, -1.5084e+00,  2.5762e+00,\n",
       "         -5.9299e-01, -5.0444e-01, -6.9718e-01,  7.6650e-01, -5.4935e-01,\n",
       "          8.8878e-01,  4.7847e-01, -9.4169e-01, -1.7896e-01, -7.7919e-01],\n",
       "        [-8.0944e-01,  1.9383e-01,  1.6029e+00,  6.5033e-04, -1.0334e+00,\n",
       "         -2.1616e+00,  4.3913e-01,  1.4743e+00, -1.0184e+00, -2.0682e-01,\n",
       "         -6.2929e-01,  1.8787e-01,  6.9008e-01, -1.2898e-01,  2.0226e-01,\n",
       "          1.0450e+00,  1.4004e+00,  1.3872e+00, -1.2349e+00,  8.1534e-01,\n",
       "         -5.5832e-01,  5.7491e-01, -2.2631e-01, -4.0797e-01, -9.2509e-01,\n",
       "          7.0441e-01,  1.6429e-01,  1.9770e-01,  2.2687e+00, -1.1795e-01,\n",
       "         -5.1958e-01,  1.1068e+00,  4.2900e-01,  1.5187e+00, -1.3243e+00,\n",
       "         -7.4536e-01,  2.5503e-01, -6.9724e-01,  1.5066e+00, -1.4860e+00,\n",
       "         -2.7859e-01, -5.3972e-01, -9.8248e-01,  1.4570e+00, -1.2043e+00,\n",
       "          1.2288e+00, -1.0649e+00, -4.8497e-01, -3.1260e-01,  3.3838e-01,\n",
       "         -2.4302e+00,  1.3333e+00,  5.7663e-01, -1.2555e+00, -7.2876e-01,\n",
       "          5.2608e-01, -8.7606e-01,  6.0818e-01, -8.7222e-01,  1.1870e+00],\n",
       "        [ 3.9776e-01,  4.1571e-02,  2.2453e+00,  7.2902e-01,  5.3601e-02,\n",
       "          3.0066e+00, -7.2700e-01, -1.5929e-01, -4.2539e-01,  3.5443e-01,\n",
       "         -1.5312e+00,  6.6470e-01, -3.7866e-01, -1.7422e-02,  4.2330e-01,\n",
       "          7.7076e-01, -1.6191e+00,  5.4012e-01, -1.1138e-01,  1.9950e+00,\n",
       "          9.9632e-02, -3.6833e-01, -1.9299e-01,  1.2316e-01, -3.6311e-01,\n",
       "          2.0397e+00,  2.9015e-01, -5.6534e-01,  1.3568e-01,  9.7724e-01,\n",
       "          2.3428e-02,  3.8966e-01, -3.1197e-01, -1.5778e+00,  9.0697e-01,\n",
       "          9.9777e-01,  1.0129e+00, -7.6596e-02,  9.8965e-02, -2.1392e+00,\n",
       "         -1.0978e+00, -6.6998e-01, -6.8954e-01,  4.4378e-03, -9.8647e-01,\n",
       "         -7.6540e-01,  7.0323e-01,  2.0410e+00,  1.5903e+00, -1.0912e+00,\n",
       "         -1.0856e+00, -1.2161e+00,  1.5045e+00,  3.3348e-01,  5.8760e-01,\n",
       "         -2.9628e-02, -2.4163e-01, -6.8467e-01,  1.2613e-02,  3.1711e-01],\n",
       "        [-1.8273e+00,  9.6678e-01,  3.2665e-02,  4.1652e-01, -8.8287e-01,\n",
       "          6.8603e-01, -1.6923e+00,  8.0913e-01, -4.3106e-01,  1.0302e+00,\n",
       "         -1.5053e-01,  2.1163e+00,  7.2184e-01, -7.7812e-01, -1.4905e+00,\n",
       "         -1.0053e+00, -1.2879e+00, -1.2530e-01, -4.7718e-01, -1.0242e+00,\n",
       "         -6.2031e-01,  1.2739e+00, -1.0365e+00, -1.1288e+00,  9.4708e-01,\n",
       "         -6.1868e-01, -4.8928e-01,  1.0707e-01, -1.1923e+00, -1.9765e+00,\n",
       "         -4.6711e-01,  4.1852e-01, -1.2185e-01, -7.6553e-01,  2.8144e-02,\n",
       "         -5.1990e-01,  5.8285e-01,  1.0019e+00, -9.1686e-01,  1.1235e+00,\n",
       "          6.4090e-01,  7.7274e-02,  3.5488e-01, -2.9015e-01, -9.1843e-01,\n",
       "         -9.8863e-01,  9.9296e-01, -1.0377e+00,  1.3291e+00, -9.5979e-01,\n",
       "         -1.6775e-01, -2.4169e-01, -1.3698e+00,  1.6012e-02,  7.0078e-01,\n",
       "         -3.4905e-01,  1.5174e+00,  1.0684e+00,  1.0548e+00,  9.9025e-01],\n",
       "        [-1.6648e+00,  1.4029e+00,  3.0353e-01, -1.6572e+00, -2.0624e+00,\n",
       "          1.8799e-01, -8.4579e-01, -1.7786e+00,  4.8619e-01,  1.2205e+00,\n",
       "         -6.4316e-01,  2.1858e-01,  1.8760e+00,  7.2634e-01,  3.6510e-02,\n",
       "          1.5780e-01, -1.1564e+00, -8.9913e-01,  9.5036e-01, -9.5641e-03,\n",
       "         -7.9696e-01, -3.5163e-01,  1.0495e+00,  6.1871e-01, -1.2925e+00,\n",
       "          7.4749e-01,  7.1324e-01,  4.0480e-01,  2.1218e+00,  3.7215e-01,\n",
       "         -6.0749e-01, -1.3372e+00,  5.0183e-01,  5.0000e-01, -2.4016e-01,\n",
       "          2.7114e-01, -2.7100e-01,  1.0478e+00,  1.2892e+00, -5.0841e-01,\n",
       "          7.6714e-01,  1.4087e+00, -1.2478e+00, -7.0964e-01, -9.8103e-01,\n",
       "         -3.2303e-01,  1.3065e-01, -1.3305e+00,  1.2364e+00,  1.3917e+00,\n",
       "          3.9032e-01, -6.1386e-01,  6.6571e-02,  1.2869e-01, -4.0060e-01,\n",
       "         -8.8637e-01, -2.2257e-01, -2.4307e-01,  2.2225e-01,  1.0357e-01],\n",
       "        [ 1.0541e+00,  1.3669e+00, -1.4586e+00, -1.4318e+00,  1.1435e+00,\n",
       "          1.5715e+00,  3.8672e-01,  3.2366e-01, -6.7417e-01,  7.7544e-02,\n",
       "          2.1494e+00, -2.5462e-01,  1.3083e-01, -1.0302e+00, -1.1065e-01,\n",
       "          9.9224e-01,  1.8750e-02, -3.9270e-01,  3.5699e-01, -2.1900e-01,\n",
       "          6.5199e-01,  2.2449e+00, -2.9317e-01,  1.6661e+00,  7.2386e-01,\n",
       "          9.0621e-02,  1.7322e+00,  6.2678e-01,  3.7721e-01,  1.6087e+00,\n",
       "         -1.5339e+00,  3.8336e-01, -2.6467e+00,  1.3911e+00,  2.9230e-01,\n",
       "          8.6259e-01, -1.8991e+00,  4.4822e-01, -5.4834e-01, -2.2632e-01,\n",
       "          8.5050e-01, -3.2233e-01,  9.6293e-01,  5.4611e-02,  4.2487e-01,\n",
       "         -5.9742e-01,  1.8429e+00,  9.0215e-01, -1.5595e+00,  5.8929e-02,\n",
       "          2.0347e+00, -1.4968e+00, -5.0042e-01, -3.2507e-01,  1.1331e+00,\n",
       "         -7.4379e-01,  7.4269e-01, -1.8022e+00, -1.8461e+00,  2.5631e-01],\n",
       "        [ 1.5846e-01,  1.0895e+00, -2.7924e-01,  1.8307e+00, -5.7499e-01,\n",
       "         -9.6586e-01, -1.3624e+00,  4.3799e-01,  5.0107e-01, -4.5137e-01,\n",
       "          1.0840e+00,  3.3563e-01,  6.4501e-01, -8.4808e-01,  1.1192e+00,\n",
       "         -7.2537e-01,  1.4255e-01,  1.4589e+00,  2.4091e+00, -3.5775e-01,\n",
       "         -5.0663e-01, -1.0126e+00, -7.0436e-01,  7.2910e-01,  9.3891e-01,\n",
       "          1.5543e+00, -9.5816e-01, -4.2829e-01, -3.7176e-02, -8.1640e-02,\n",
       "         -1.0400e+00, -3.9708e-01, -1.9071e+00, -2.3521e-01,  1.6425e-01,\n",
       "         -4.3935e-01, -2.1419e+00,  6.3713e-01,  2.9738e-01, -9.0646e-01,\n",
       "         -5.1301e-01, -8.9344e-01,  5.2450e-01,  9.0641e-01,  1.4194e+00,\n",
       "          8.0583e-01, -3.7835e-01, -2.8764e-01,  7.0537e-01,  3.1253e-01,\n",
       "         -1.1358e+00,  7.6833e-01,  1.2620e+00, -9.4414e-01, -1.0397e+00,\n",
       "          5.1596e-01,  1.5697e+00, -1.5216e+00, -1.0196e+00,  4.2320e-01],\n",
       "        [ 4.6085e-01, -1.6251e+00, -6.4539e-01, -1.0526e+00,  9.3812e-01,\n",
       "          1.7456e-01, -1.5130e+00, -9.4748e-01, -2.4423e-01, -1.1099e+00,\n",
       "         -1.0815e+00, -2.2011e+00,  1.0619e+00,  1.6405e+00, -1.6061e+00,\n",
       "          1.2936e-01, -5.6742e-01, -1.3529e-01,  2.2234e+00,  5.0744e-01,\n",
       "         -8.1842e-02, -6.6728e-01, -1.3822e-01, -4.8077e-01,  5.5520e-01,\n",
       "          1.5196e-01,  1.4933e+00,  1.0084e+00, -1.8014e+00, -5.4877e-01,\n",
       "          9.9890e-01, -5.0362e-02,  3.7594e-02, -1.2992e-01,  6.3412e-01,\n",
       "          2.0905e+00, -1.0769e+00,  4.3121e-01, -2.1994e-01, -3.6449e-01,\n",
       "          1.1412e+00,  1.8798e+00, -7.6064e-01,  1.9054e-01,  1.2020e+00,\n",
       "         -8.6011e-01, -9.4210e-01, -3.4568e-01, -5.6179e-01,  1.1432e+00,\n",
       "          1.2115e+00, -8.8313e-01,  1.1523e-01,  9.0911e-01,  1.4273e+00,\n",
       "         -5.1553e-01, -4.4804e-01, -6.9382e-01, -1.4910e+00,  8.8815e-01]])"
      ]
     },
     "execution_count": 32,
     "metadata": {},
     "output_type": "execute_result"
    }
   ],
   "source": [
    "ts_feature"
   ]
  },
  {
   "cell_type": "code",
   "execution_count": 33,
   "id": "72cd7276",
   "metadata": {
    "scrolled": true
   },
   "outputs": [
    {
     "data": {
      "text/plain": [
       "tensor([[[ 4.4421e-01,  3.1845e-01, -1.2453e-01,  9.2265e-01,  1.5805e+00,\n",
       "          -8.3034e-01, -1.2001e+00,  3.7358e-01,  7.3407e-01, -2.2254e+00,\n",
       "          -1.5248e+00, -5.8798e-01,  8.4470e-01,  2.0951e+00, -3.4094e-01,\n",
       "           4.6927e-01, -2.2449e-01, -1.5693e+00, -4.4435e-01, -1.3273e+00,\n",
       "           1.0498e+00, -3.8653e-01, -5.0019e-01, -9.9973e-01,  6.0036e-01,\n",
       "          -1.5809e+00,  5.4694e-01,  3.9090e-03,  3.1232e-01, -1.8382e-01,\n",
       "           5.6643e-01,  4.6750e-01,  5.9901e-01, -3.2179e-01, -2.4819e-01,\n",
       "          -4.5556e-01,  1.3023e+00,  5.0032e-01,  6.5580e-01, -5.4369e-01,\n",
       "           9.4843e-01, -1.7269e+00, -2.1508e-01,  1.6866e+00,  9.6118e-01,\n",
       "          -2.4153e-01, -1.3553e+00, -1.0616e+00,  2.7266e+00,  2.3703e-01,\n",
       "           2.3038e+00, -1.8440e-01, -2.2502e+00,  1.7077e+00,  1.0996e+00,\n",
       "           3.3324e-01,  2.7059e-01, -1.6104e-01, -8.9228e-01,  5.4322e-01]],\n",
       "\n",
       "        [[ 8.4507e-01,  4.8627e-01,  5.6970e-01, -5.3668e-02,  1.7455e+00,\n",
       "           9.7448e-01, -1.9259e+00,  1.4190e-01,  9.2587e-01,  1.1008e+00,\n",
       "          -1.4950e+00, -9.4381e-01, -3.5339e-01, -1.4503e+00, -1.2416e+00,\n",
       "          -3.9252e-01, -6.8434e-02, -9.2412e-01, -6.6740e-01, -3.7867e-01,\n",
       "           7.7142e-01, -5.3017e-01, -4.3105e-01,  1.5291e+00,  8.2226e-01,\n",
       "          -1.8621e+00,  5.8256e-01,  9.3354e-01, -9.2603e-01,  6.8723e-01,\n",
       "          -2.1859e+00, -2.6616e-01, -5.0836e-02,  6.0396e-01,  1.1141e+00,\n",
       "          -2.8724e-01, -4.6968e-01, -6.8748e-01,  9.3538e-01,  1.4404e+00,\n",
       "          -3.9631e-01,  6.8197e-01, -4.6230e-01, -1.3568e+00, -2.2724e-01,\n",
       "           4.6989e-01,  1.9868e+00, -2.3307e+00, -1.6871e+00,  5.9393e-01,\n",
       "          -1.2536e-01,  6.8381e-01,  2.1618e+00,  7.7269e-01, -1.8524e+00,\n",
       "           6.9414e-01, -1.8168e+00,  4.5229e-01, -1.0777e-01, -9.2990e-02]],\n",
       "\n",
       "        [[ 1.9125e+00, -3.0273e+00, -1.2980e+00,  6.2116e-01,  4.7636e-01,\n",
       "          -8.5711e-01, -5.8314e-01,  4.2358e-01, -5.3699e-01,  1.1631e+00,\n",
       "           1.2033e+00, -6.0650e-01,  1.7262e+00, -3.8306e-01, -4.1962e-01,\n",
       "           9.0882e-01, -7.9359e-02, -7.6647e-01, -2.1250e+00,  1.1928e+00,\n",
       "          -1.0323e+00,  3.8542e-03, -5.7936e-01, -1.3590e+00, -9.5995e-01,\n",
       "          -1.0367e+00, -6.4890e-01,  4.7852e-01, -9.2674e-01,  9.3076e-01,\n",
       "          -3.9976e-01,  4.5293e-01,  8.9587e-01, -6.1433e-01,  6.1342e-01,\n",
       "          -1.4758e-01,  6.0588e-02, -1.3544e+00, -8.4122e-01,  1.1694e+00,\n",
       "          -4.4448e-01, -2.8153e-01, -1.5176e+00, -1.2919e-01,  8.6083e-01,\n",
       "           1.6499e+00, -6.5666e-01,  4.1952e-01, -1.5084e+00,  2.5762e+00,\n",
       "          -5.9299e-01, -5.0444e-01, -6.9718e-01,  7.6650e-01, -5.4935e-01,\n",
       "           8.8878e-01,  4.7847e-01, -9.4169e-01, -1.7896e-01, -7.7919e-01]],\n",
       "\n",
       "        [[-8.0944e-01,  1.9383e-01,  1.6029e+00,  6.5033e-04, -1.0334e+00,\n",
       "          -2.1616e+00,  4.3913e-01,  1.4743e+00, -1.0184e+00, -2.0682e-01,\n",
       "          -6.2929e-01,  1.8787e-01,  6.9008e-01, -1.2898e-01,  2.0226e-01,\n",
       "           1.0450e+00,  1.4004e+00,  1.3872e+00, -1.2349e+00,  8.1534e-01,\n",
       "          -5.5832e-01,  5.7491e-01, -2.2631e-01, -4.0797e-01, -9.2509e-01,\n",
       "           7.0441e-01,  1.6429e-01,  1.9770e-01,  2.2687e+00, -1.1795e-01,\n",
       "          -5.1958e-01,  1.1068e+00,  4.2900e-01,  1.5187e+00, -1.3243e+00,\n",
       "          -7.4536e-01,  2.5503e-01, -6.9724e-01,  1.5066e+00, -1.4860e+00,\n",
       "          -2.7859e-01, -5.3972e-01, -9.8248e-01,  1.4570e+00, -1.2043e+00,\n",
       "           1.2288e+00, -1.0649e+00, -4.8497e-01, -3.1260e-01,  3.3838e-01,\n",
       "          -2.4302e+00,  1.3333e+00,  5.7663e-01, -1.2555e+00, -7.2876e-01,\n",
       "           5.2608e-01, -8.7606e-01,  6.0818e-01, -8.7222e-01,  1.1870e+00]],\n",
       "\n",
       "        [[ 3.9776e-01,  4.1571e-02,  2.2453e+00,  7.2902e-01,  5.3601e-02,\n",
       "           3.0066e+00, -7.2700e-01, -1.5929e-01, -4.2539e-01,  3.5443e-01,\n",
       "          -1.5312e+00,  6.6470e-01, -3.7866e-01, -1.7422e-02,  4.2330e-01,\n",
       "           7.7076e-01, -1.6191e+00,  5.4012e-01, -1.1138e-01,  1.9950e+00,\n",
       "           9.9632e-02, -3.6833e-01, -1.9299e-01,  1.2316e-01, -3.6311e-01,\n",
       "           2.0397e+00,  2.9015e-01, -5.6534e-01,  1.3568e-01,  9.7724e-01,\n",
       "           2.3428e-02,  3.8966e-01, -3.1197e-01, -1.5778e+00,  9.0697e-01,\n",
       "           9.9777e-01,  1.0129e+00, -7.6596e-02,  9.8965e-02, -2.1392e+00,\n",
       "          -1.0978e+00, -6.6998e-01, -6.8954e-01,  4.4378e-03, -9.8647e-01,\n",
       "          -7.6540e-01,  7.0323e-01,  2.0410e+00,  1.5903e+00, -1.0912e+00,\n",
       "          -1.0856e+00, -1.2161e+00,  1.5045e+00,  3.3348e-01,  5.8760e-01,\n",
       "          -2.9628e-02, -2.4163e-01, -6.8467e-01,  1.2613e-02,  3.1711e-01]],\n",
       "\n",
       "        [[-1.8273e+00,  9.6678e-01,  3.2665e-02,  4.1652e-01, -8.8287e-01,\n",
       "           6.8603e-01, -1.6923e+00,  8.0913e-01, -4.3106e-01,  1.0302e+00,\n",
       "          -1.5053e-01,  2.1163e+00,  7.2184e-01, -7.7812e-01, -1.4905e+00,\n",
       "          -1.0053e+00, -1.2879e+00, -1.2530e-01, -4.7718e-01, -1.0242e+00,\n",
       "          -6.2031e-01,  1.2739e+00, -1.0365e+00, -1.1288e+00,  9.4708e-01,\n",
       "          -6.1868e-01, -4.8928e-01,  1.0707e-01, -1.1923e+00, -1.9765e+00,\n",
       "          -4.6711e-01,  4.1852e-01, -1.2185e-01, -7.6553e-01,  2.8144e-02,\n",
       "          -5.1990e-01,  5.8285e-01,  1.0019e+00, -9.1686e-01,  1.1235e+00,\n",
       "           6.4090e-01,  7.7274e-02,  3.5488e-01, -2.9015e-01, -9.1843e-01,\n",
       "          -9.8863e-01,  9.9296e-01, -1.0377e+00,  1.3291e+00, -9.5979e-01,\n",
       "          -1.6775e-01, -2.4169e-01, -1.3698e+00,  1.6012e-02,  7.0078e-01,\n",
       "          -3.4905e-01,  1.5174e+00,  1.0684e+00,  1.0548e+00,  9.9025e-01]],\n",
       "\n",
       "        [[-1.6648e+00,  1.4029e+00,  3.0353e-01, -1.6572e+00, -2.0624e+00,\n",
       "           1.8799e-01, -8.4579e-01, -1.7786e+00,  4.8619e-01,  1.2205e+00,\n",
       "          -6.4316e-01,  2.1858e-01,  1.8760e+00,  7.2634e-01,  3.6510e-02,\n",
       "           1.5780e-01, -1.1564e+00, -8.9913e-01,  9.5036e-01, -9.5641e-03,\n",
       "          -7.9696e-01, -3.5163e-01,  1.0495e+00,  6.1871e-01, -1.2925e+00,\n",
       "           7.4749e-01,  7.1324e-01,  4.0480e-01,  2.1218e+00,  3.7215e-01,\n",
       "          -6.0749e-01, -1.3372e+00,  5.0183e-01,  5.0000e-01, -2.4016e-01,\n",
       "           2.7114e-01, -2.7100e-01,  1.0478e+00,  1.2892e+00, -5.0841e-01,\n",
       "           7.6714e-01,  1.4087e+00, -1.2478e+00, -7.0964e-01, -9.8103e-01,\n",
       "          -3.2303e-01,  1.3065e-01, -1.3305e+00,  1.2364e+00,  1.3917e+00,\n",
       "           3.9032e-01, -6.1386e-01,  6.6571e-02,  1.2869e-01, -4.0060e-01,\n",
       "          -8.8637e-01, -2.2257e-01, -2.4307e-01,  2.2225e-01,  1.0357e-01]],\n",
       "\n",
       "        [[ 1.0541e+00,  1.3669e+00, -1.4586e+00, -1.4318e+00,  1.1435e+00,\n",
       "           1.5715e+00,  3.8672e-01,  3.2366e-01, -6.7417e-01,  7.7544e-02,\n",
       "           2.1494e+00, -2.5462e-01,  1.3083e-01, -1.0302e+00, -1.1065e-01,\n",
       "           9.9224e-01,  1.8750e-02, -3.9270e-01,  3.5699e-01, -2.1900e-01,\n",
       "           6.5199e-01,  2.2449e+00, -2.9317e-01,  1.6661e+00,  7.2386e-01,\n",
       "           9.0621e-02,  1.7322e+00,  6.2678e-01,  3.7721e-01,  1.6087e+00,\n",
       "          -1.5339e+00,  3.8336e-01, -2.6467e+00,  1.3911e+00,  2.9230e-01,\n",
       "           8.6259e-01, -1.8991e+00,  4.4822e-01, -5.4834e-01, -2.2632e-01,\n",
       "           8.5050e-01, -3.2233e-01,  9.6293e-01,  5.4611e-02,  4.2487e-01,\n",
       "          -5.9742e-01,  1.8429e+00,  9.0215e-01, -1.5595e+00,  5.8929e-02,\n",
       "           2.0347e+00, -1.4968e+00, -5.0042e-01, -3.2507e-01,  1.1331e+00,\n",
       "          -7.4379e-01,  7.4269e-01, -1.8022e+00, -1.8461e+00,  2.5631e-01]],\n",
       "\n",
       "        [[ 1.5846e-01,  1.0895e+00, -2.7924e-01,  1.8307e+00, -5.7499e-01,\n",
       "          -9.6586e-01, -1.3624e+00,  4.3799e-01,  5.0107e-01, -4.5137e-01,\n",
       "           1.0840e+00,  3.3563e-01,  6.4501e-01, -8.4808e-01,  1.1192e+00,\n",
       "          -7.2537e-01,  1.4255e-01,  1.4589e+00,  2.4091e+00, -3.5775e-01,\n",
       "          -5.0663e-01, -1.0126e+00, -7.0436e-01,  7.2910e-01,  9.3891e-01,\n",
       "           1.5543e+00, -9.5816e-01, -4.2829e-01, -3.7176e-02, -8.1640e-02,\n",
       "          -1.0400e+00, -3.9708e-01, -1.9071e+00, -2.3521e-01,  1.6425e-01,\n",
       "          -4.3935e-01, -2.1419e+00,  6.3713e-01,  2.9738e-01, -9.0646e-01,\n",
       "          -5.1301e-01, -8.9344e-01,  5.2450e-01,  9.0641e-01,  1.4194e+00,\n",
       "           8.0583e-01, -3.7835e-01, -2.8764e-01,  7.0537e-01,  3.1253e-01,\n",
       "          -1.1358e+00,  7.6833e-01,  1.2620e+00, -9.4414e-01, -1.0397e+00,\n",
       "           5.1596e-01,  1.5697e+00, -1.5216e+00, -1.0196e+00,  4.2320e-01]],\n",
       "\n",
       "        [[ 4.6085e-01, -1.6251e+00, -6.4539e-01, -1.0526e+00,  9.3812e-01,\n",
       "           1.7456e-01, -1.5130e+00, -9.4748e-01, -2.4423e-01, -1.1099e+00,\n",
       "          -1.0815e+00, -2.2011e+00,  1.0619e+00,  1.6405e+00, -1.6061e+00,\n",
       "           1.2936e-01, -5.6742e-01, -1.3529e-01,  2.2234e+00,  5.0744e-01,\n",
       "          -8.1842e-02, -6.6728e-01, -1.3822e-01, -4.8077e-01,  5.5520e-01,\n",
       "           1.5196e-01,  1.4933e+00,  1.0084e+00, -1.8014e+00, -5.4877e-01,\n",
       "           9.9890e-01, -5.0362e-02,  3.7594e-02, -1.2992e-01,  6.3412e-01,\n",
       "           2.0905e+00, -1.0769e+00,  4.3121e-01, -2.1994e-01, -3.6449e-01,\n",
       "           1.1412e+00,  1.8798e+00, -7.6064e-01,  1.9054e-01,  1.2020e+00,\n",
       "          -8.6011e-01, -9.4210e-01, -3.4568e-01, -5.6179e-01,  1.1432e+00,\n",
       "           1.2115e+00, -8.8313e-01,  1.1523e-01,  9.0911e-01,  1.4273e+00,\n",
       "          -5.1553e-01, -4.4804e-01, -6.9382e-01, -1.4910e+00,  8.8815e-01]]])"
      ]
     },
     "execution_count": 33,
     "metadata": {},
     "output_type": "execute_result"
    }
   ],
   "source": [
    "torch.unsqueeze(ts_feature,dim=1)"
   ]
  },
  {
   "cell_type": "code",
   "execution_count": 34,
   "id": "455ed170",
   "metadata": {},
   "outputs": [],
   "source": [
    "model=training.RV_RNN_conv(n_diff=4,rnn_act=\"tanh\",rnn_num_layer=2,rnn_drop_out=0.3,rnn_hidden_size=32,proj_dim=32)"
   ]
  },
  {
   "cell_type": "code",
   "execution_count": 35,
   "id": "85bf9cda",
   "metadata": {},
   "outputs": [],
   "source": [
    "out=model(ts_feature)"
   ]
  },
  {
   "cell_type": "code",
   "execution_count": 36,
   "id": "dc35034a",
   "metadata": {},
   "outputs": [
    {
     "data": {
      "text/plain": [
       "tensor([[2.6418e-04],\n",
       "        [5.7415e-05],\n",
       "        [4.5792e-04],\n",
       "        [5.5934e-04],\n",
       "        [3.2977e-04],\n",
       "        [2.9738e-04],\n",
       "        [8.4607e-05],\n",
       "        [4.5696e-04],\n",
       "        [1.7420e-04],\n",
       "        [4.9576e-04]], grad_fn=<DivBackward0>)"
      ]
     },
     "execution_count": 36,
     "metadata": {},
     "output_type": "execute_result"
    }
   ],
   "source": [
    "out"
   ]
  },
  {
   "cell_type": "markdown",
   "id": "09bfbac7",
   "metadata": {},
   "source": [
    "## Training loop (basic) "
   ]
  },
  {
   "cell_type": "code",
   "execution_count": 37,
   "id": "06d4fcc7",
   "metadata": {},
   "outputs": [],
   "source": [
    "list_time=np.load(\"../processed_data/recovered_time_id_order.npy\")"
   ]
  },
  {
   "cell_type": "code",
   "execution_count": 38,
   "id": "739d9a32-e68b-4f66-bd6b-0fda83803f65",
   "metadata": {},
   "outputs": [
    {
     "name": "stdout",
     "output_type": "stream",
     "text": [
      "[ 4294 31984 31570 ... 29316 32195 10890]\n"
     ]
    }
   ],
   "source": [
    "print(list_time)"
   ]
  },
  {
   "cell_type": "code",
   "execution_count": 39,
   "id": "825838c5",
   "metadata": {},
   "outputs": [
    {
     "name": "stdout",
     "output_type": "stream",
     "text": [
      "In fold 0 :\n",
      "\n",
      "Train set end at 8117 .\n",
      "\n",
      "Test set start at 15516 end at 10890 .\n",
      "\n"
     ]
    }
   ],
   "source": [
    "time_split_list=data_processing.time_cross_val_split(list_time=list_time,n_split=1,percent_val_size=10,list_output=True)"
   ]
  },
  {
   "cell_type": "code",
   "execution_count": 40,
   "id": "87ca970a-b88b-4b85-8337-6cf6a957e5e7",
   "metadata": {},
   "outputs": [
    {
     "data": {
      "text/plain": [
       "array([ 4294, 31984, 31570, ...,  5629, 10421,  8117])"
      ]
     },
     "execution_count": 40,
     "metadata": {},
     "output_type": "execute_result"
    }
   ],
   "source": [
    "time_split_list[0][0]"
   ]
  },
  {
   "cell_type": "code",
   "execution_count": 41,
   "id": "e7ba8aa2-a446-4389-8d49-bca021ceb63f",
   "metadata": {
    "scrolled": true
   },
   "outputs": [
    {
     "data": {
      "text/plain": [
       "array([15516, 30276, 16402, 27182, 24497, 13529,   373,  4219, 20323,\n",
       "        9160, 28983, 17820, 22678,  7460, 29676, 32048, 22405, 31380,\n",
       "        1816, 14079, 29944, 21990, 26804, 28210, 18142, 11682, 32597,\n",
       "       13513, 32690, 27120, 27427,  7418,  1213,  9822, 29692, 24523,\n",
       "       25318,  6274, 25569, 12713,   169, 20732, 15906, 28877, 25551,\n",
       "       10745, 31320, 31714,  6076, 23656,   424,   309, 17604, 28963,\n",
       "       23144, 11872, 29219, 25357, 22828, 17569, 17955, 11920, 18509,\n",
       "       19626, 16149,  5392,  7200, 10929,  4774, 27278, 23639, 10633,\n",
       "          72, 32534, 26944, 31018, 26494,  6648,   709,  6823, 21239,\n",
       "       11995, 23265, 31883,  2711,  1350,  1321, 16282,  5046, 29875,\n",
       "        7133, 15823, 25463,  9064,  3333, 11440, 16831,  6815, 19580,\n",
       "       30620, 24014, 17193, 10708, 30597,  4367, 27962, 13010, 32254,\n",
       "       23226, 22903,  5929, 30327,  1866, 14629,  1205,  9352, 10619,\n",
       "       14234, 15276,  4091, 22752, 18653, 11453, 26708, 30183, 13986,\n",
       "           5,  7864,  9889, 31471, 26868, 10672, 31347, 15418, 30430,\n",
       "       26568, 28267,  3955,  1392, 27014, 22081, 15845, 18728,  9936,\n",
       "        5232,  2366, 26886, 30272, 11393, 30750,  7572, 21601,  2331,\n",
       "       13207, 12073,  2058, 18502, 25429, 12532, 27496,  5932,   536,\n",
       "       27595, 23185, 26752,  2683,  6585, 15131,  6144, 27042,  7743,\n",
       "       22249, 32611,  3758, 19271, 13614, 31572, 17570,  9367, 11263,\n",
       "       14285, 12981,   146,  2643, 31266, 23490,  2109, 29906, 30303,\n",
       "       12102, 32649,  8721, 26606, 32012, 16511, 30908, 19871,  3513,\n",
       "        3001, 24127, 29974, 27752, 16504,  6631,  8750,  6493, 29819,\n",
       "       12147, 13503, 11264, 31236,  8365, 23486, 13294,  1292, 17265,\n",
       "       16594, 20928, 18205,  6316,  8459, 19955,  7369, 26763, 13560,\n",
       "        3211, 31254, 13720,   152,  4844, 14738, 22548, 27886,  4131,\n",
       "        6657, 13699, 25639,  2000, 26788, 21103, 11577, 29037,  9947,\n",
       "       32134, 30341, 17112,  7548, 20265, 12533, 10262, 10616,  7512,\n",
       "       28354, 25879,  2440, 21614, 32255, 15584,  9735, 31874, 30366,\n",
       "       31047, 16507,  6906,  9396,  6217,  1521, 17378, 26091,  3318,\n",
       "       32746,  8744, 26889,  1468,  6965, 17117,   817,  3130, 14928,\n",
       "       21373, 13980, 28634,   103, 27543, 26849,  7909, 18077, 30569,\n",
       "       10105, 12178, 20491, 32704, 12923, 15393, 14976, 26168,  2867,\n",
       "       12182, 27524, 30339, 18285, 28474, 27981, 13928, 10892, 14909,\n",
       "       21024, 25971,  9266, 25277,  5425, 17454,  3962, 14449, 31389,\n",
       "       17672,  9887, 20669,  4089, 19512, 30212, 11151, 22912, 25359,\n",
       "       29947, 31348, 16731,  1948,  6730, 14176,  2656, 15728,  8573,\n",
       "       21762,  6359,  5846, 12521, 26578,  8623,  9096, 23423, 22513,\n",
       "       23539, 17528,  5663, 24021, 32240, 28635,  2553, 13791, 22427,\n",
       "       19647, 26170,  2718, 28192, 19065,  2136, 29679,  9028, 17120,\n",
       "       25312,   618, 18184, 21658, 13627, 25338, 31402, 24406, 31331,\n",
       "        7759,  3123,  2027, 18703, 28837, 11718, 13579, 10455, 10604,\n",
       "       24913, 15365, 29316, 32195, 10890])"
      ]
     },
     "execution_count": 41,
     "metadata": {},
     "output_type": "execute_result"
    }
   ],
   "source": [
    "time_split_list[0][1]"
   ]
  },
  {
   "cell_type": "code",
   "execution_count": 42,
   "id": "72aedca6",
   "metadata": {},
   "outputs": [],
   "source": [
    "train_time_id,test_time_id=time_split_list[0][0],time_split_list[0][1]"
   ]
  },
  {
   "cell_type": "code",
   "execution_count": 43,
   "id": "a3338fd1",
   "metadata": {},
   "outputs": [],
   "source": [
    "df_RV_ts=pd.read_parquet(\"../processed_data/book_RV_ts_60_si.parquet\")"
   ]
  },
  {
   "cell_type": "code",
   "execution_count": 44,
   "id": "62e2f34e",
   "metadata": {},
   "outputs": [],
   "source": [
    "from sklearn.preprocessing import StandardScaler"
   ]
  },
  {
   "cell_type": "code",
   "execution_count": 45,
   "id": "3b9cf070",
   "metadata": {},
   "outputs": [],
   "source": [
    "scalar=StandardScaler()"
   ]
  },
  {
   "cell_type": "code",
   "execution_count": 46,
   "id": "8e42729d",
   "metadata": {},
   "outputs": [],
   "source": [
    "df_RV_ts[\"sub_int_RV_norm\"]=scalar.fit_transform(df_RV_ts[[\"sub_int_RV\"]])"
   ]
  },
  {
   "cell_type": "code",
   "execution_count": 47,
   "id": "995d9083",
   "metadata": {},
   "outputs": [
    {
     "data": {
      "text/html": [
       "<div>\n",
       "<style scoped>\n",
       "    .dataframe tbody tr th:only-of-type {\n",
       "        vertical-align: middle;\n",
       "    }\n",
       "\n",
       "    .dataframe tbody tr th {\n",
       "        vertical-align: top;\n",
       "    }\n",
       "\n",
       "    .dataframe thead th {\n",
       "        text-align: right;\n",
       "    }\n",
       "</style>\n",
       "<table border=\"1\" class=\"dataframe\">\n",
       "  <thead>\n",
       "    <tr style=\"text-align: right;\">\n",
       "      <th></th>\n",
       "      <th>time_id</th>\n",
       "      <th>sub_int_RV</th>\n",
       "      <th>sub_int_num</th>\n",
       "      <th>stock_id</th>\n",
       "      <th>row_id</th>\n",
       "      <th>sub_int_RV_norm</th>\n",
       "    </tr>\n",
       "  </thead>\n",
       "  <tbody>\n",
       "    <tr>\n",
       "      <th>0</th>\n",
       "      <td>5</td>\n",
       "      <td>0.000329</td>\n",
       "      <td>1</td>\n",
       "      <td>93</td>\n",
       "      <td>93-5</td>\n",
       "      <td>-0.208285</td>\n",
       "    </tr>\n",
       "    <tr>\n",
       "      <th>1</th>\n",
       "      <td>11</td>\n",
       "      <td>0.000191</td>\n",
       "      <td>1</td>\n",
       "      <td>93</td>\n",
       "      <td>93-11</td>\n",
       "      <td>-0.453866</td>\n",
       "    </tr>\n",
       "    <tr>\n",
       "      <th>2</th>\n",
       "      <td>16</td>\n",
       "      <td>0.000126</td>\n",
       "      <td>1</td>\n",
       "      <td>93</td>\n",
       "      <td>93-16</td>\n",
       "      <td>-0.569259</td>\n",
       "    </tr>\n",
       "    <tr>\n",
       "      <th>3</th>\n",
       "      <td>31</td>\n",
       "      <td>0.000205</td>\n",
       "      <td>1</td>\n",
       "      <td>93</td>\n",
       "      <td>93-31</td>\n",
       "      <td>-0.428690</td>\n",
       "    </tr>\n",
       "    <tr>\n",
       "      <th>4</th>\n",
       "      <td>62</td>\n",
       "      <td>0.000142</td>\n",
       "      <td>1</td>\n",
       "      <td>93</td>\n",
       "      <td>93-62</td>\n",
       "      <td>-0.540259</td>\n",
       "    </tr>\n",
       "    <tr>\n",
       "      <th>...</th>\n",
       "      <td>...</td>\n",
       "      <td>...</td>\n",
       "      <td>...</td>\n",
       "      <td>...</td>\n",
       "      <td>...</td>\n",
       "      <td>...</td>\n",
       "    </tr>\n",
       "    <tr>\n",
       "      <th>25735915</th>\n",
       "      <td>32686</td>\n",
       "      <td>0.000000</td>\n",
       "      <td>60</td>\n",
       "      <td>104</td>\n",
       "      <td>104-32686</td>\n",
       "      <td>-0.793956</td>\n",
       "    </tr>\n",
       "    <tr>\n",
       "      <th>25735916</th>\n",
       "      <td>32690</td>\n",
       "      <td>0.000000</td>\n",
       "      <td>60</td>\n",
       "      <td>104</td>\n",
       "      <td>104-32690</td>\n",
       "      <td>-0.793956</td>\n",
       "    </tr>\n",
       "    <tr>\n",
       "      <th>25735917</th>\n",
       "      <td>32712</td>\n",
       "      <td>0.000000</td>\n",
       "      <td>60</td>\n",
       "      <td>104</td>\n",
       "      <td>104-32712</td>\n",
       "      <td>-0.793956</td>\n",
       "    </tr>\n",
       "    <tr>\n",
       "      <th>25735918</th>\n",
       "      <td>32746</td>\n",
       "      <td>0.000000</td>\n",
       "      <td>60</td>\n",
       "      <td>104</td>\n",
       "      <td>104-32746</td>\n",
       "      <td>-0.793956</td>\n",
       "    </tr>\n",
       "    <tr>\n",
       "      <th>25735919</th>\n",
       "      <td>32758</td>\n",
       "      <td>0.000000</td>\n",
       "      <td>60</td>\n",
       "      <td>104</td>\n",
       "      <td>104-32758</td>\n",
       "      <td>-0.793956</td>\n",
       "    </tr>\n",
       "  </tbody>\n",
       "</table>\n",
       "<p>25735920 rows × 6 columns</p>\n",
       "</div>"
      ],
      "text/plain": [
       "          time_id  sub_int_RV  sub_int_num  stock_id     row_id  \\\n",
       "0               5    0.000329            1        93       93-5   \n",
       "1              11    0.000191            1        93      93-11   \n",
       "2              16    0.000126            1        93      93-16   \n",
       "3              31    0.000205            1        93      93-31   \n",
       "4              62    0.000142            1        93      93-62   \n",
       "...           ...         ...          ...       ...        ...   \n",
       "25735915    32686    0.000000           60       104  104-32686   \n",
       "25735916    32690    0.000000           60       104  104-32690   \n",
       "25735917    32712    0.000000           60       104  104-32712   \n",
       "25735918    32746    0.000000           60       104  104-32746   \n",
       "25735919    32758    0.000000           60       104  104-32758   \n",
       "\n",
       "          sub_int_RV_norm  \n",
       "0               -0.208285  \n",
       "1               -0.453866  \n",
       "2               -0.569259  \n",
       "3               -0.428690  \n",
       "4               -0.540259  \n",
       "...                   ...  \n",
       "25735915        -0.793956  \n",
       "25735916        -0.793956  \n",
       "25735917        -0.793956  \n",
       "25735918        -0.793956  \n",
       "25735919        -0.793956  \n",
       "\n",
       "[25735920 rows x 6 columns]"
      ]
     },
     "execution_count": 47,
     "metadata": {},
     "output_type": "execute_result"
    }
   ],
   "source": [
    "df_RV_ts"
   ]
  },
  {
   "cell_type": "code",
   "execution_count": 48,
   "id": "de450e0c",
   "metadata": {},
   "outputs": [
    {
     "data": {
      "text/html": [
       "<div>\n",
       "<style scoped>\n",
       "    .dataframe tbody tr th:only-of-type {\n",
       "        vertical-align: middle;\n",
       "    }\n",
       "\n",
       "    .dataframe tbody tr th {\n",
       "        vertical-align: top;\n",
       "    }\n",
       "\n",
       "    .dataframe thead tr th {\n",
       "        text-align: left;\n",
       "    }\n",
       "\n",
       "    .dataframe thead tr:last-of-type th {\n",
       "        text-align: right;\n",
       "    }\n",
       "</style>\n",
       "<table border=\"1\" class=\"dataframe\">\n",
       "  <thead>\n",
       "    <tr>\n",
       "      <th></th>\n",
       "      <th colspan=\"21\" halign=\"left\">sub_int_RV</th>\n",
       "    </tr>\n",
       "    <tr>\n",
       "      <th>sub_int_num</th>\n",
       "      <th>1</th>\n",
       "      <th>2</th>\n",
       "      <th>3</th>\n",
       "      <th>4</th>\n",
       "      <th>5</th>\n",
       "      <th>6</th>\n",
       "      <th>7</th>\n",
       "      <th>8</th>\n",
       "      <th>9</th>\n",
       "      <th>10</th>\n",
       "      <th>...</th>\n",
       "      <th>51</th>\n",
       "      <th>52</th>\n",
       "      <th>53</th>\n",
       "      <th>54</th>\n",
       "      <th>55</th>\n",
       "      <th>56</th>\n",
       "      <th>57</th>\n",
       "      <th>58</th>\n",
       "      <th>59</th>\n",
       "      <th>60</th>\n",
       "    </tr>\n",
       "    <tr>\n",
       "      <th>row_id</th>\n",
       "      <th></th>\n",
       "      <th></th>\n",
       "      <th></th>\n",
       "      <th></th>\n",
       "      <th></th>\n",
       "      <th></th>\n",
       "      <th></th>\n",
       "      <th></th>\n",
       "      <th></th>\n",
       "      <th></th>\n",
       "      <th></th>\n",
       "      <th></th>\n",
       "      <th></th>\n",
       "      <th></th>\n",
       "      <th></th>\n",
       "      <th></th>\n",
       "      <th></th>\n",
       "      <th></th>\n",
       "      <th></th>\n",
       "      <th></th>\n",
       "      <th></th>\n",
       "    </tr>\n",
       "  </thead>\n",
       "  <tbody>\n",
       "    <tr>\n",
       "      <th>0-1000</th>\n",
       "      <td>0.000341</td>\n",
       "      <td>0.000000</td>\n",
       "      <td>0.000023</td>\n",
       "      <td>0.000000</td>\n",
       "      <td>0.000170</td>\n",
       "      <td>3.818799e-07</td>\n",
       "      <td>0.000089</td>\n",
       "      <td>0.000552</td>\n",
       "      <td>0.000012</td>\n",
       "      <td>0.000000</td>\n",
       "      <td>...</td>\n",
       "      <td>0.000265</td>\n",
       "      <td>0.000000</td>\n",
       "      <td>0.000214</td>\n",
       "      <td>0.000003</td>\n",
       "      <td>0.000000</td>\n",
       "      <td>0.000118</td>\n",
       "      <td>2.313288e-04</td>\n",
       "      <td>1.060893e-05</td>\n",
       "      <td>0.000111</td>\n",
       "      <td>0.000288</td>\n",
       "    </tr>\n",
       "    <tr>\n",
       "      <th>0-10000</th>\n",
       "      <td>0.000290</td>\n",
       "      <td>0.000191</td>\n",
       "      <td>0.000087</td>\n",
       "      <td>0.000193</td>\n",
       "      <td>0.000241</td>\n",
       "      <td>3.154886e-04</td>\n",
       "      <td>0.000000</td>\n",
       "      <td>0.000247</td>\n",
       "      <td>0.000265</td>\n",
       "      <td>0.000000</td>\n",
       "      <td>...</td>\n",
       "      <td>0.000202</td>\n",
       "      <td>0.000375</td>\n",
       "      <td>0.000616</td>\n",
       "      <td>0.000564</td>\n",
       "      <td>0.000000</td>\n",
       "      <td>0.000023</td>\n",
       "      <td>3.777703e-08</td>\n",
       "      <td>3.777703e-08</td>\n",
       "      <td>0.000020</td>\n",
       "      <td>0.000310</td>\n",
       "    </tr>\n",
       "    <tr>\n",
       "      <th>0-10005</th>\n",
       "      <td>0.000000</td>\n",
       "      <td>0.000000</td>\n",
       "      <td>0.001554</td>\n",
       "      <td>0.002177</td>\n",
       "      <td>0.002303</td>\n",
       "      <td>4.375100e-04</td>\n",
       "      <td>0.000617</td>\n",
       "      <td>0.001199</td>\n",
       "      <td>0.002306</td>\n",
       "      <td>0.001215</td>\n",
       "      <td>...</td>\n",
       "      <td>0.000000</td>\n",
       "      <td>0.000486</td>\n",
       "      <td>0.000050</td>\n",
       "      <td>0.001761</td>\n",
       "      <td>0.001617</td>\n",
       "      <td>0.001801</td>\n",
       "      <td>2.552987e-03</td>\n",
       "      <td>5.364106e-04</td>\n",
       "      <td>0.000872</td>\n",
       "      <td>0.000000</td>\n",
       "    </tr>\n",
       "    <tr>\n",
       "      <th>0-10017</th>\n",
       "      <td>0.000142</td>\n",
       "      <td>0.000142</td>\n",
       "      <td>0.001464</td>\n",
       "      <td>0.001086</td>\n",
       "      <td>0.000068</td>\n",
       "      <td>6.771948e-05</td>\n",
       "      <td>0.000899</td>\n",
       "      <td>0.000064</td>\n",
       "      <td>0.000593</td>\n",
       "      <td>0.000451</td>\n",
       "      <td>...</td>\n",
       "      <td>0.000029</td>\n",
       "      <td>0.000000</td>\n",
       "      <td>0.001293</td>\n",
       "      <td>0.002092</td>\n",
       "      <td>0.000994</td>\n",
       "      <td>0.000848</td>\n",
       "      <td>3.104404e-03</td>\n",
       "      <td>1.224910e-03</td>\n",
       "      <td>0.001316</td>\n",
       "      <td>0.003287</td>\n",
       "    </tr>\n",
       "    <tr>\n",
       "      <th>0-10030</th>\n",
       "      <td>0.000327</td>\n",
       "      <td>0.000058</td>\n",
       "      <td>0.000293</td>\n",
       "      <td>0.000842</td>\n",
       "      <td>0.000120</td>\n",
       "      <td>2.586782e-04</td>\n",
       "      <td>0.000221</td>\n",
       "      <td>0.000436</td>\n",
       "      <td>0.000099</td>\n",
       "      <td>0.000008</td>\n",
       "      <td>...</td>\n",
       "      <td>0.000410</td>\n",
       "      <td>0.000437</td>\n",
       "      <td>0.000004</td>\n",
       "      <td>0.000215</td>\n",
       "      <td>0.000457</td>\n",
       "      <td>0.000183</td>\n",
       "      <td>4.842470e-04</td>\n",
       "      <td>0.000000e+00</td>\n",
       "      <td>0.000756</td>\n",
       "      <td>0.000005</td>\n",
       "    </tr>\n",
       "    <tr>\n",
       "      <th>...</th>\n",
       "      <td>...</td>\n",
       "      <td>...</td>\n",
       "      <td>...</td>\n",
       "      <td>...</td>\n",
       "      <td>...</td>\n",
       "      <td>...</td>\n",
       "      <td>...</td>\n",
       "      <td>...</td>\n",
       "      <td>...</td>\n",
       "      <td>...</td>\n",
       "      <td>...</td>\n",
       "      <td>...</td>\n",
       "      <td>...</td>\n",
       "      <td>...</td>\n",
       "      <td>...</td>\n",
       "      <td>...</td>\n",
       "      <td>...</td>\n",
       "      <td>...</td>\n",
       "      <td>...</td>\n",
       "      <td>...</td>\n",
       "      <td>...</td>\n",
       "    </tr>\n",
       "    <tr>\n",
       "      <th>99-9972</th>\n",
       "      <td>0.000197</td>\n",
       "      <td>0.000181</td>\n",
       "      <td>0.000171</td>\n",
       "      <td>0.000172</td>\n",
       "      <td>0.000369</td>\n",
       "      <td>2.503467e-04</td>\n",
       "      <td>0.000349</td>\n",
       "      <td>0.000356</td>\n",
       "      <td>0.000390</td>\n",
       "      <td>0.000050</td>\n",
       "      <td>...</td>\n",
       "      <td>0.000075</td>\n",
       "      <td>0.000185</td>\n",
       "      <td>0.000314</td>\n",
       "      <td>0.000318</td>\n",
       "      <td>0.000115</td>\n",
       "      <td>0.000143</td>\n",
       "      <td>9.916624e-05</td>\n",
       "      <td>1.809852e-04</td>\n",
       "      <td>0.000334</td>\n",
       "      <td>0.000089</td>\n",
       "    </tr>\n",
       "    <tr>\n",
       "      <th>99-9973</th>\n",
       "      <td>0.000821</td>\n",
       "      <td>0.000346</td>\n",
       "      <td>0.000691</td>\n",
       "      <td>0.001591</td>\n",
       "      <td>0.000863</td>\n",
       "      <td>9.650211e-04</td>\n",
       "      <td>0.000504</td>\n",
       "      <td>0.001925</td>\n",
       "      <td>0.000641</td>\n",
       "      <td>0.000382</td>\n",
       "      <td>...</td>\n",
       "      <td>0.001081</td>\n",
       "      <td>0.001095</td>\n",
       "      <td>0.000425</td>\n",
       "      <td>0.000789</td>\n",
       "      <td>0.001295</td>\n",
       "      <td>0.000596</td>\n",
       "      <td>1.862600e-03</td>\n",
       "      <td>7.668418e-04</td>\n",
       "      <td>0.001035</td>\n",
       "      <td>0.002115</td>\n",
       "    </tr>\n",
       "    <tr>\n",
       "      <th>99-9976</th>\n",
       "      <td>0.000569</td>\n",
       "      <td>0.001101</td>\n",
       "      <td>0.001002</td>\n",
       "      <td>0.000430</td>\n",
       "      <td>0.000797</td>\n",
       "      <td>7.203531e-04</td>\n",
       "      <td>0.000586</td>\n",
       "      <td>0.000538</td>\n",
       "      <td>0.000570</td>\n",
       "      <td>0.000781</td>\n",
       "      <td>...</td>\n",
       "      <td>0.000508</td>\n",
       "      <td>0.000406</td>\n",
       "      <td>0.000662</td>\n",
       "      <td>0.000338</td>\n",
       "      <td>0.000710</td>\n",
       "      <td>0.000179</td>\n",
       "      <td>5.946683e-04</td>\n",
       "      <td>1.509652e-04</td>\n",
       "      <td>0.000388</td>\n",
       "      <td>0.000403</td>\n",
       "    </tr>\n",
       "    <tr>\n",
       "      <th>99-9988</th>\n",
       "      <td>0.000040</td>\n",
       "      <td>0.000069</td>\n",
       "      <td>0.000123</td>\n",
       "      <td>0.000056</td>\n",
       "      <td>0.000016</td>\n",
       "      <td>1.957402e-04</td>\n",
       "      <td>0.000071</td>\n",
       "      <td>0.000095</td>\n",
       "      <td>0.000063</td>\n",
       "      <td>0.000030</td>\n",
       "      <td>...</td>\n",
       "      <td>0.000034</td>\n",
       "      <td>0.000176</td>\n",
       "      <td>0.000140</td>\n",
       "      <td>0.000129</td>\n",
       "      <td>0.000175</td>\n",
       "      <td>0.000019</td>\n",
       "      <td>1.440137e-04</td>\n",
       "      <td>3.200939e-05</td>\n",
       "      <td>0.000041</td>\n",
       "      <td>0.000007</td>\n",
       "    </tr>\n",
       "    <tr>\n",
       "      <th>99-9993</th>\n",
       "      <td>0.000249</td>\n",
       "      <td>0.000179</td>\n",
       "      <td>0.000155</td>\n",
       "      <td>0.000025</td>\n",
       "      <td>0.000325</td>\n",
       "      <td>1.798617e-04</td>\n",
       "      <td>0.000080</td>\n",
       "      <td>0.000125</td>\n",
       "      <td>0.000126</td>\n",
       "      <td>0.000205</td>\n",
       "      <td>...</td>\n",
       "      <td>0.000099</td>\n",
       "      <td>0.000370</td>\n",
       "      <td>0.000929</td>\n",
       "      <td>0.000328</td>\n",
       "      <td>0.000251</td>\n",
       "      <td>0.000204</td>\n",
       "      <td>2.728767e-04</td>\n",
       "      <td>2.108380e-04</td>\n",
       "      <td>0.000126</td>\n",
       "      <td>0.000353</td>\n",
       "    </tr>\n",
       "  </tbody>\n",
       "</table>\n",
       "<p>428932 rows × 60 columns</p>\n",
       "</div>"
      ],
      "text/plain": [
       "            sub_int_RV                                                        \\\n",
       "sub_int_num         1         2         3         4         5             6    \n",
       "row_id                                                                         \n",
       "0-1000        0.000341  0.000000  0.000023  0.000000  0.000170  3.818799e-07   \n",
       "0-10000       0.000290  0.000191  0.000087  0.000193  0.000241  3.154886e-04   \n",
       "0-10005       0.000000  0.000000  0.001554  0.002177  0.002303  4.375100e-04   \n",
       "0-10017       0.000142  0.000142  0.001464  0.001086  0.000068  6.771948e-05   \n",
       "0-10030       0.000327  0.000058  0.000293  0.000842  0.000120  2.586782e-04   \n",
       "...                ...       ...       ...       ...       ...           ...   \n",
       "99-9972       0.000197  0.000181  0.000171  0.000172  0.000369  2.503467e-04   \n",
       "99-9973       0.000821  0.000346  0.000691  0.001591  0.000863  9.650211e-04   \n",
       "99-9976       0.000569  0.001101  0.001002  0.000430  0.000797  7.203531e-04   \n",
       "99-9988       0.000040  0.000069  0.000123  0.000056  0.000016  1.957402e-04   \n",
       "99-9993       0.000249  0.000179  0.000155  0.000025  0.000325  1.798617e-04   \n",
       "\n",
       "                                                     ...                      \\\n",
       "sub_int_num        7         8         9         10  ...        51        52   \n",
       "row_id                                               ...                       \n",
       "0-1000       0.000089  0.000552  0.000012  0.000000  ...  0.000265  0.000000   \n",
       "0-10000      0.000000  0.000247  0.000265  0.000000  ...  0.000202  0.000375   \n",
       "0-10005      0.000617  0.001199  0.002306  0.001215  ...  0.000000  0.000486   \n",
       "0-10017      0.000899  0.000064  0.000593  0.000451  ...  0.000029  0.000000   \n",
       "0-10030      0.000221  0.000436  0.000099  0.000008  ...  0.000410  0.000437   \n",
       "...               ...       ...       ...       ...  ...       ...       ...   \n",
       "99-9972      0.000349  0.000356  0.000390  0.000050  ...  0.000075  0.000185   \n",
       "99-9973      0.000504  0.001925  0.000641  0.000382  ...  0.001081  0.001095   \n",
       "99-9976      0.000586  0.000538  0.000570  0.000781  ...  0.000508  0.000406   \n",
       "99-9988      0.000071  0.000095  0.000063  0.000030  ...  0.000034  0.000176   \n",
       "99-9993      0.000080  0.000125  0.000126  0.000205  ...  0.000099  0.000370   \n",
       "\n",
       "                                                                   \\\n",
       "sub_int_num        53        54        55        56            57   \n",
       "row_id                                                              \n",
       "0-1000       0.000214  0.000003  0.000000  0.000118  2.313288e-04   \n",
       "0-10000      0.000616  0.000564  0.000000  0.000023  3.777703e-08   \n",
       "0-10005      0.000050  0.001761  0.001617  0.001801  2.552987e-03   \n",
       "0-10017      0.001293  0.002092  0.000994  0.000848  3.104404e-03   \n",
       "0-10030      0.000004  0.000215  0.000457  0.000183  4.842470e-04   \n",
       "...               ...       ...       ...       ...           ...   \n",
       "99-9972      0.000314  0.000318  0.000115  0.000143  9.916624e-05   \n",
       "99-9973      0.000425  0.000789  0.001295  0.000596  1.862600e-03   \n",
       "99-9976      0.000662  0.000338  0.000710  0.000179  5.946683e-04   \n",
       "99-9988      0.000140  0.000129  0.000175  0.000019  1.440137e-04   \n",
       "99-9993      0.000929  0.000328  0.000251  0.000204  2.728767e-04   \n",
       "\n",
       "                                               \n",
       "sub_int_num            58        59        60  \n",
       "row_id                                         \n",
       "0-1000       1.060893e-05  0.000111  0.000288  \n",
       "0-10000      3.777703e-08  0.000020  0.000310  \n",
       "0-10005      5.364106e-04  0.000872  0.000000  \n",
       "0-10017      1.224910e-03  0.001316  0.003287  \n",
       "0-10030      0.000000e+00  0.000756  0.000005  \n",
       "...                   ...       ...       ...  \n",
       "99-9972      1.809852e-04  0.000334  0.000089  \n",
       "99-9973      7.668418e-04  0.001035  0.002115  \n",
       "99-9976      1.509652e-04  0.000388  0.000403  \n",
       "99-9988      3.200939e-05  0.000041  0.000007  \n",
       "99-9993      2.108380e-04  0.000126  0.000353  \n",
       "\n",
       "[428932 rows x 60 columns]"
      ]
     },
     "execution_count": 48,
     "metadata": {},
     "output_type": "execute_result"
    }
   ],
   "source": [
    "df_RV_ts.pivot(index=\"row_id\",columns=[\"sub_int_num\"],values=[\"sub_int_RV\"])"
   ]
  },
  {
   "cell_type": "code",
   "execution_count": 49,
   "id": "677c1b20",
   "metadata": {},
   "outputs": [],
   "source": [
    "df_target=pd.read_csv(\"../raw_data/kaggle_ORVP/train.csv\")"
   ]
  },
  {
   "cell_type": "code",
   "execution_count": 50,
   "id": "252d6274",
   "metadata": {},
   "outputs": [],
   "source": [
    "df_target[\"row_id\"]=df_target[\"stock_id\"].astype(int).astype(str)+\"-\"+df_target[\"time_id\"].astype(int).astype(str)"
   ]
  },
  {
   "cell_type": "code",
   "execution_count": 51,
   "id": "fdb28caf",
   "metadata": {},
   "outputs": [
    {
     "data": {
      "text/html": [
       "<div>\n",
       "<style scoped>\n",
       "    .dataframe tbody tr th:only-of-type {\n",
       "        vertical-align: middle;\n",
       "    }\n",
       "\n",
       "    .dataframe tbody tr th {\n",
       "        vertical-align: top;\n",
       "    }\n",
       "\n",
       "    .dataframe thead th {\n",
       "        text-align: right;\n",
       "    }\n",
       "</style>\n",
       "<table border=\"1\" class=\"dataframe\">\n",
       "  <thead>\n",
       "    <tr style=\"text-align: right;\">\n",
       "      <th></th>\n",
       "      <th>stock_id</th>\n",
       "      <th>time_id</th>\n",
       "      <th>target</th>\n",
       "      <th>row_id</th>\n",
       "    </tr>\n",
       "  </thead>\n",
       "  <tbody>\n",
       "    <tr>\n",
       "      <th>0</th>\n",
       "      <td>0</td>\n",
       "      <td>5</td>\n",
       "      <td>0.004136</td>\n",
       "      <td>0-5</td>\n",
       "    </tr>\n",
       "    <tr>\n",
       "      <th>1</th>\n",
       "      <td>0</td>\n",
       "      <td>11</td>\n",
       "      <td>0.001445</td>\n",
       "      <td>0-11</td>\n",
       "    </tr>\n",
       "    <tr>\n",
       "      <th>2</th>\n",
       "      <td>0</td>\n",
       "      <td>16</td>\n",
       "      <td>0.002168</td>\n",
       "      <td>0-16</td>\n",
       "    </tr>\n",
       "    <tr>\n",
       "      <th>3</th>\n",
       "      <td>0</td>\n",
       "      <td>31</td>\n",
       "      <td>0.002195</td>\n",
       "      <td>0-31</td>\n",
       "    </tr>\n",
       "    <tr>\n",
       "      <th>4</th>\n",
       "      <td>0</td>\n",
       "      <td>62</td>\n",
       "      <td>0.001747</td>\n",
       "      <td>0-62</td>\n",
       "    </tr>\n",
       "    <tr>\n",
       "      <th>...</th>\n",
       "      <td>...</td>\n",
       "      <td>...</td>\n",
       "      <td>...</td>\n",
       "      <td>...</td>\n",
       "    </tr>\n",
       "    <tr>\n",
       "      <th>428927</th>\n",
       "      <td>126</td>\n",
       "      <td>32751</td>\n",
       "      <td>0.003461</td>\n",
       "      <td>126-32751</td>\n",
       "    </tr>\n",
       "    <tr>\n",
       "      <th>428928</th>\n",
       "      <td>126</td>\n",
       "      <td>32753</td>\n",
       "      <td>0.003113</td>\n",
       "      <td>126-32753</td>\n",
       "    </tr>\n",
       "    <tr>\n",
       "      <th>428929</th>\n",
       "      <td>126</td>\n",
       "      <td>32758</td>\n",
       "      <td>0.004070</td>\n",
       "      <td>126-32758</td>\n",
       "    </tr>\n",
       "    <tr>\n",
       "      <th>428930</th>\n",
       "      <td>126</td>\n",
       "      <td>32763</td>\n",
       "      <td>0.003357</td>\n",
       "      <td>126-32763</td>\n",
       "    </tr>\n",
       "    <tr>\n",
       "      <th>428931</th>\n",
       "      <td>126</td>\n",
       "      <td>32767</td>\n",
       "      <td>0.002090</td>\n",
       "      <td>126-32767</td>\n",
       "    </tr>\n",
       "  </tbody>\n",
       "</table>\n",
       "<p>428932 rows × 4 columns</p>\n",
       "</div>"
      ],
      "text/plain": [
       "        stock_id  time_id    target     row_id\n",
       "0              0        5  0.004136        0-5\n",
       "1              0       11  0.001445       0-11\n",
       "2              0       16  0.002168       0-16\n",
       "3              0       31  0.002195       0-31\n",
       "4              0       62  0.001747       0-62\n",
       "...          ...      ...       ...        ...\n",
       "428927       126    32751  0.003461  126-32751\n",
       "428928       126    32753  0.003113  126-32753\n",
       "428929       126    32758  0.004070  126-32758\n",
       "428930       126    32763  0.003357  126-32763\n",
       "428931       126    32767  0.002090  126-32767\n",
       "\n",
       "[428932 rows x 4 columns]"
      ]
     },
     "execution_count": 51,
     "metadata": {},
     "output_type": "execute_result"
    }
   ],
   "source": [
    "df_target"
   ]
  },
  {
   "cell_type": "code",
   "execution_count": 93,
   "id": "2b2a07cb",
   "metadata": {},
   "outputs": [
    {
     "name": "stderr",
     "output_type": "stream",
     "text": [
      "/home/machine2/Desktop/Realized_Volatility_Prediction_-erdos_deeplearning-/NNetwork/../proj_mod/training.py:327: SettingWithCopyWarning: \n",
      "A value is trying to be set on a copy of a slice from a DataFrame.\n",
      "Try using .loc[row_indexer,col_indexer] = value instead\n",
      "\n",
      "See the caveats in the documentation: https://pandas.pydata.org/pandas-docs/stable/user_guide/indexing.html#returning-a-view-versus-a-copy\n",
      "  del df_tab_copy\n",
      "/home/machine2/Desktop/Realized_Volatility_Prediction_-erdos_deeplearning-/NNetwork/../proj_mod/training.py:327: SettingWithCopyWarning: \n",
      "A value is trying to be set on a copy of a slice from a DataFrame.\n",
      "Try using .loc[row_indexer,col_indexer] = value instead\n",
      "\n",
      "See the caveats in the documentation: https://pandas.pydata.org/pandas-docs/stable/user_guide/indexing.html#returning-a-view-versus-a-copy\n",
      "  del df_tab_copy\n"
     ]
    }
   ],
   "source": [
    "train_dataset=training.RVdataset(time_id_list=train_time_id,ts_features=[\"sub_int_RV\"],df_ts_feat=df_RV_ts,df_target=df_target)\n",
    "test_dataset=training.RVdataset(time_id_list=test_time_id,ts_features=[\"sub_int_RV\"],df_ts_feat=df_RV_ts,df_target=df_target)"
   ]
  },
  {
   "cell_type": "code",
   "execution_count": 94,
   "id": "b7c432cf",
   "metadata": {},
   "outputs": [
    {
     "data": {
      "text/plain": [
       "torch.Size([386036, 60])"
      ]
     },
     "execution_count": 94,
     "metadata": {},
     "output_type": "execute_result"
    }
   ],
   "source": [
    "train_dataset.features.shape"
   ]
  },
  {
   "cell_type": "code",
   "execution_count": 95,
   "id": "07885f81",
   "metadata": {},
   "outputs": [
    {
     "data": {
      "text/plain": [
       "torch.Size([386036, 1])"
      ]
     },
     "execution_count": 95,
     "metadata": {},
     "output_type": "execute_result"
    }
   ],
   "source": [
    "train_dataset.target.shape"
   ]
  },
  {
   "cell_type": "markdown",
   "id": "f0056627",
   "metadata": {},
   "source": [
    "Not entirely sure what the error code is about, I am literally doing exactly as suggested by the warning. https://stackoverflow.com/questions/23688307/settingwithcopywarning-even-when-using-loc says this is a false positive. "
   ]
  },
  {
   "cell_type": "markdown",
   "id": "c3bc52af-6d52-4f16-b829-730fb5a99bfd",
   "metadata": {},
   "source": [
    "## RNN with embedding"
   ]
  },
  {
   "cell_type": "code",
   "execution_count": 96,
   "id": "ba7899d0-b6dd-45d2-80ef-975bfb396106",
   "metadata": {},
   "outputs": [
    {
     "name": "stdout",
     "output_type": "stream",
     "text": [
      "In fold 0 :\n",
      "\n",
      "Train set end at 8117 .\n",
      "\n",
      "Test set start at 15516 end at 10890 .\n",
      "\n"
     ]
    },
    {
     "name": "stderr",
     "output_type": "stream",
     "text": [
      "/home/machine2/Desktop/Realized_Volatility_Prediction_-erdos_deeplearning-/NNetwork/../proj_mod/training.py:327: SettingWithCopyWarning: \n",
      "A value is trying to be set on a copy of a slice from a DataFrame.\n",
      "Try using .loc[row_indexer,col_indexer] = value instead\n",
      "\n",
      "See the caveats in the documentation: https://pandas.pydata.org/pandas-docs/stable/user_guide/indexing.html#returning-a-view-versus-a-copy\n",
      "  del df_tab_copy\n",
      "/home/machine2/Desktop/Realized_Volatility_Prediction_-erdos_deeplearning-/NNetwork/../proj_mod/training.py:327: SettingWithCopyWarning: \n",
      "A value is trying to be set on a copy of a slice from a DataFrame.\n",
      "Try using .loc[row_indexer,col_indexer] = value instead\n",
      "\n",
      "See the caveats in the documentation: https://pandas.pydata.org/pandas-docs/stable/user_guide/indexing.html#returning-a-view-versus-a-copy\n",
      "  del df_tab_copy\n"
     ]
    }
   ],
   "source": [
    "time_split_list=data_processing.time_cross_val_split(list_time=list_time,n_split=1,percent_val_size=10,list_output=True)\n",
    "train_time_id,test_time_id=time_split_list[0][0],time_split_list[0][1]\n",
    "\n",
    "train_dataset=training.RVdataset(time_id_list=train_time_id,ts_features=[\"sub_int_RV\"],df_ts_feat=df_RV_ts,df_target=df_target)\n",
    "test_dataset=training.RVdataset(time_id_list=test_time_id,ts_features=[\"sub_int_RV\"],df_ts_feat=df_RV_ts,df_target=df_target)"
   ]
  },
  {
   "cell_type": "code",
   "execution_count": 97,
   "id": "c81e7254-aa3f-4fee-be88-a7d774eb04b2",
   "metadata": {},
   "outputs": [
    {
     "name": "stdout",
     "output_type": "stream",
     "text": [
      "74-11056\n",
      "(tensor([2.3987e-04, 1.4674e-04, 5.0120e-04, 2.7525e-05, 2.5077e-05, 1.6659e-05,\n",
      "        3.6949e-04, 7.1740e-05, 6.3524e-04, 1.3002e-04, 3.1992e-05, 1.1349e-04,\n",
      "        8.8547e-05, 1.1826e-04, 9.9845e-05, 3.1211e-04, 4.9523e-04, 3.0428e-04,\n",
      "        7.8593e-06, 0.0000e+00, 2.9666e-05, 2.0911e-07, 4.9142e-05, 4.9727e-05,\n",
      "        6.4885e-04, 4.1610e-05, 6.0393e-05, 1.9486e-05, 5.4841e-05, 2.4118e-04,\n",
      "        0.0000e+00, 1.6195e-05, 9.6949e-05, 9.2113e-06, 2.3063e-05, 3.0253e-05,\n",
      "        2.9744e-04, 2.9445e-05, 6.0776e-05, 3.2003e-05, 1.5001e-05, 2.5723e-05,\n",
      "        1.0494e-05, 2.3468e-07, 3.0492e-05, 2.1319e-05, 0.0000e+00, 4.5061e-05,\n",
      "        7.1108e-06, 1.8850e-05, 2.9404e-05, 2.8570e-04, 5.3363e-04, 6.5674e-05,\n",
      "        1.5747e-04, 5.9399e-06, 3.6816e-05, 3.8920e-05, 6.2239e-05, 7.2486e-05]), tensor([0.0013]), tensor(65))\n"
     ]
    }
   ],
   "source": [
    "# Let us see how the consecutive id is returned\n",
    "idx = 300000\n",
    "print(train_dataset.get_row_id(idx))\n",
    "print(train_dataset.__getitem__(idx))"
   ]
  },
  {
   "cell_type": "code",
   "execution_count": 98,
   "id": "d2558043-892a-4da0-993e-79497ef9afba",
   "metadata": {},
   "outputs": [
    {
     "data": {
      "text/plain": [
       "65"
      ]
     },
     "execution_count": 98,
     "metadata": {},
     "output_type": "execute_result"
    }
   ],
   "source": [
    "# Let us check that the consecutive id assigned does make sense:\n",
    "consec_map = {stock_id: i for i, stock_id in enumerate(sorted(set(df_target.stock_id.unique())))}\n",
    "consec_map[74]"
   ]
  },
  {
   "cell_type": "code",
   "execution_count": 101,
   "id": "e2d56ded-1200-44c9-b50b-86dcf2fbceb5",
   "metadata": {},
   "outputs": [
    {
     "name": "stdout",
     "output_type": "stream",
     "text": [
      "Warning: rnn_act='tanh' is ignored when using rnn_type='lstm'\n",
      "At  1.2876386642456055  epoch  1 has training loss  tensor(0.2837, device='cuda:0')  and validation loss  tensor(0.2369, device='cuda:0') .\n",
      "\n",
      "At  6.819503545761108  epoch  5 has training loss  tensor(0.2516, device='cuda:0')  and validation loss  tensor(0.2343, device='cuda:0') .\n",
      "\n",
      "At  14.058109283447266  epoch  10 has training loss  tensor(0.2482, device='cuda:0')  and validation loss  tensor(0.2319, device='cuda:0') .\n",
      "\n",
      "At  20.876318216323853  epoch  15 has training loss  tensor(0.2469, device='cuda:0')  and validation loss  tensor(0.2338, device='cuda:0') .\n",
      "\n",
      "At  27.80238175392151  epoch  20 has training loss  tensor(0.2457, device='cuda:0')  and validation loss  tensor(0.2309, device='cuda:0') .\n",
      "\n",
      "At  34.813907861709595  epoch  25 has training loss  tensor(0.2452, device='cuda:0')  and validation loss  tensor(0.2352, device='cuda:0') .\n",
      "\n",
      "At  41.731085538864136  epoch  30 has training loss  tensor(0.2446, device='cuda:0')  and validation loss  tensor(0.2320, device='cuda:0') .\n",
      "\n",
      "The validation loss has not improved for  10  epochs. Stopping current training loop.\n",
      "\n",
      "Best model state dictionary of this training loop is reloaded.\n",
      "\n",
      "According to validation loss, the best model is reached at epoch 21  with validation loss:  tensor(0.2306, device='cuda:0') .\n",
      " The total number of epoch trained is  31 .\n",
      " Training completed in:  43.11717867851257 .\n",
      "\n"
     ]
    },
    {
     "data": {
      "text/plain": [
       "<matplotlib.collections.PathCollection at 0x7f9ab6e37ac0>"
      ]
     },
     "execution_count": 101,
     "metadata": {},
     "output_type": "execute_result"
    },
    {
     "data": {
      "image/png": "[encoded data removed]",
      "text/plain": [
       "<Figure size 640x480 with 1 Axes>"
      ]
     },
     "metadata": {},
     "output_type": "display_data"
    }
   ],
   "source": [
    "#This doesn't have the embedding yet, but shows the backward compatibility of the modified functions\n",
    "\n",
    "RNN_model=training.RV_RNN_conv(n_diff=2, rnn_type=\"lstm\",rnn_act=\"tanh\",rnn_drop_out=0,rnn_hidden_size=32,proj_dim=32,rnn_num_layer=1,input_scaler=10000).to(device=device)\n",
    "\n",
    "import torch.optim as optim\n",
    "\n",
    "optimizer=optim.Adam(RNN_model.parameters(),lr=1e-3)\n",
    "\n",
    "train_loader=torch.utils.data.DataLoader(dataset=train_dataset,batch_size=512,shuffle=True, num_workers=4, pin_memory=True)\n",
    "test_loader=torch.utils.data.DataLoader(dataset=test_dataset,batch_size=512,shuffle=True, num_workers =4, pin_memory=True)\n",
    "\n",
    "train_loss=[]\n",
    "val_loss=[]\n",
    "\n",
    "training.reg_training_loop_rmspe(optimizer=optimizer,model=RNN_model,train_loader=train_loader,val_loader=test_loader,list_train_loss=train_loss,list_val_loss=val_loss,device=device,n_epochs=100,ot_steps=10,report_interval=5,eps=0,scaler=1)\n",
    "\n",
    "train_loss=[x.cpu() for x in train_loss]\n",
    "val_loss=[x.cpu() for x in val_loss]\n",
    "\n",
    "import matplotlib.pyplot as plt \n",
    "\n",
    "x=np.arange(len(train_loss))\n",
    "\n",
    "plt.scatter(x,train_loss,c=\"blue\")\n",
    "plt.scatter(x,val_loss,c=\"orange\")"
   ]
  },
  {
   "cell_type": "markdown",
   "id": "596532d4-3c50-4a8e-bbda-8448b8f02b4d",
   "metadata": {},
   "source": [
    "## Experiment: RNN (with some fine tuning), LSTM, and linear regression"
   ]
  },
  {
   "cell_type": "code",
   "execution_count": 88,
   "id": "2721fdfa-a2d2-4461-8a99-0fe183fcbfc3",
   "metadata": {},
   "outputs": [
    {
     "name": "stdout",
     "output_type": "stream",
     "text": [
      "In fold 0 :\n",
      "\n",
      "Train set end at 8117 .\n",
      "\n",
      "Test set start at 15516 end at 10890 .\n",
      "\n"
     ]
    },
    {
     "name": "stderr",
     "output_type": "stream",
     "text": [
      "/home/machine2/Desktop/Realized_Volatility_Prediction_-erdos_deeplearning-/NNetwork/../proj_mod/training.py:324: SettingWithCopyWarning: \n",
      "A value is trying to be set on a copy of a slice from a DataFrame.\n",
      "Try using .loc[row_indexer,col_indexer] = value instead\n",
      "\n",
      "See the caveats in the documentation: https://pandas.pydata.org/pandas-docs/stable/user_guide/indexing.html#returning-a-view-versus-a-copy\n",
      "  df_tab_copy.loc[:,\"sub_int_num\"]=np.nan\n",
      "/home/machine2/Desktop/Realized_Volatility_Prediction_-erdos_deeplearning-/NNetwork/../proj_mod/training.py:324: SettingWithCopyWarning: \n",
      "A value is trying to be set on a copy of a slice from a DataFrame.\n",
      "Try using .loc[row_indexer,col_indexer] = value instead\n",
      "\n",
      "See the caveats in the documentation: https://pandas.pydata.org/pandas-docs/stable/user_guide/indexing.html#returning-a-view-versus-a-copy\n",
      "  df_tab_copy.loc[:,\"sub_int_num\"]=np.nan\n"
     ]
    }
   ],
   "source": [
    "time_split_list=data_processing.time_cross_val_split(list_time=list_time,n_split=1,percent_val_size=10,list_output=True)\n",
    "train_time_id,test_time_id=time_split_list[0][0],time_split_list[0][1]\n",
    "\n",
    "train_dataset=training.RVdataset(time_id_list=train_time_id,ts_features=[\"sub_int_RV\"],df_ts_feat=df_RV_ts,df_target=df_target)\n",
    "test_dataset=training.RVdataset(time_id_list=test_time_id,ts_features=[\"sub_int_RV\"],df_ts_feat=df_RV_ts,df_target=df_target)"
   ]
  },
  {
   "cell_type": "markdown",
   "id": "62a44c92-9ff1-4909-808f-0a05b6aa2a14",
   "metadata": {},
   "source": [
    "RNN"
   ]
  },
  {
   "cell_type": "code",
   "execution_count": 89,
   "id": "00de91c2-12af-4f4b-953c-8fa907c945c9",
   "metadata": {
    "scrolled": true
   },
   "outputs": [
    {
     "name": "stdout",
     "output_type": "stream",
     "text": [
      "At  0.9607927799224854  epoch  1 has training loss  tensor(0.2779, device='cuda:0')  and validation loss  tensor(0.2372, device='cuda:0') .\n",
      "\n",
      "At  5.388619899749756  epoch  5 has training loss  tensor(0.2545, device='cuda:0')  and validation loss  tensor(0.2357, device='cuda:0') .\n",
      "\n",
      "At  10.989859580993652  epoch  10 has training loss  tensor(0.2538, device='cuda:0')  and validation loss  tensor(0.2388, device='cuda:0') .\n",
      "\n",
      "At  16.626850843429565  epoch  15 has training loss  tensor(0.2532, device='cuda:0')  and validation loss  tensor(0.2360, device='cuda:0') .\n",
      "\n",
      "At  22.277040719985962  epoch  20 has training loss  tensor(0.2526, device='cuda:0')  and validation loss  tensor(0.2358, device='cuda:0') .\n",
      "\n",
      "At  27.854429721832275  epoch  25 has training loss  tensor(0.2522, device='cuda:0')  and validation loss  tensor(0.2355, device='cuda:0') .\n",
      "\n",
      "At  33.49538707733154  epoch  30 has training loss  tensor(0.2523, device='cuda:0')  and validation loss  tensor(0.2417, device='cuda:0') .\n",
      "\n",
      "At  39.162482261657715  epoch  35 has training loss  tensor(0.2520, device='cuda:0')  and validation loss  tensor(0.2361, device='cuda:0') .\n",
      "\n",
      "The validation loss has not improved for  10  epochs. Stopping current training loop.\n",
      "\n",
      "Best model state dictionary of this training loop is reloaded.\n",
      "\n",
      "According to validation loss, the best model is reached at epoch 27  with validation loss:  tensor(0.2346, device='cuda:0') .\n",
      " The total number of epoch trained is  37 .\n",
      " Training completed in:  41.33479070663452 .\n",
      "\n"
     ]
    },
    {
     "data": {
      "text/plain": [
       "OrderedDict([('frozen_conv.frozen_conv.weight',\n",
       "              tensor([[[-1.,  1.]]], device='cuda:0')),\n",
       "             ('linear_proj_input.weight',\n",
       "              tensor([[ 0.3387,  0.0671,  0.3461],\n",
       "                      [ 0.0244,  0.5229,  0.3476],\n",
       "                      [-0.4138,  0.1078, -0.3695],\n",
       "                      [ 0.0591, -0.6271, -0.1062],\n",
       "                      [ 0.0508,  0.4345, -0.3999],\n",
       "                      [ 0.5004,  0.6822,  0.2860],\n",
       "                      [ 0.1769,  0.0406,  0.3269],\n",
       "                      [-0.2615, -0.5461, -0.3511],\n",
       "                      [ 0.2701, -0.2723,  0.1178],\n",
       "                      [ 0.4201,  0.3865, -0.0914],\n",
       "                      [-0.0072,  0.4579,  0.4084],\n",
       "                      [ 0.0131,  0.4992,  0.3043],\n",
       "                      [ 0.4214, -0.3000, -0.0872],\n",
       "                      [ 0.0636, -0.2718,  0.0598],\n",
       "                      [ 0.4330, -0.3874, -0.1801],\n",
       "                      [ 0.4858, -0.1835, -0.4414],\n",
       "                      [-0.3642, -0.1781, -0.0009],\n",
       "                      [-0.4791, -0.5999,  0.0319],\n",
       "                      [ 0.4162,  0.0050,  0.3013],\n",
       "                      [-0.0711, -0.3975,  0.2479],\n",
       "                      [-0.1099, -0.2815,  0.0859],\n",
       "                      [-0.0264, -0.2853,  0.0937],\n",
       "                      [ 0.4985, -0.2094,  0.3078],\n",
       "                      [ 0.0230,  0.1662,  0.1380],\n",
       "                      [-0.3539,  0.0086,  0.0760],\n",
       "                      [-0.3522,  0.6185,  0.4335],\n",
       "                      [-0.0986,  0.5000,  0.1727],\n",
       "                      [-0.0010,  0.0586, -0.2030],\n",
       "                      [-0.4905, -0.4731,  0.0208],\n",
       "                      [ 0.0925, -0.0217,  0.1427],\n",
       "                      [-0.2452, -0.4823, -0.3666],\n",
       "                      [-0.1520, -0.6668, -0.4203]], device='cuda:0')),\n",
       "             ('linear_proj_input.bias',\n",
       "              tensor([ 0.1591, -0.1402, -0.3876,  0.0260,  0.1477, -0.3660,  0.0038,  0.1207,\n",
       "                      -0.2850, -0.5243, -0.0619,  0.0252,  0.3141, -0.1129,  0.0380,  0.0248,\n",
       "                       0.3352,  0.3947, -0.2245, -0.1091, -0.0455,  0.1436, -0.3619, -0.0218,\n",
       "                       0.0771, -0.3338,  0.0750, -0.0331, -0.1958, -0.0049,  0.4623,  0.1255],\n",
       "                     device='cuda:0')),\n",
       "             ('RNN_layer.weight_ih_l0',\n",
       "              tensor([[ 0.2701, -0.1238, -0.1215,  ...,  0.1673,  0.1819, -0.1432],\n",
       "                      [-0.1423,  0.0421,  0.0076,  ...,  0.0033, -0.1531,  0.0065],\n",
       "                      [-0.1304, -0.1335,  0.0633,  ...,  0.0901,  0.0605,  0.5394],\n",
       "                      ...,\n",
       "                      [ 0.0731, -0.0054,  0.0664,  ...,  0.0632, -0.1424, -0.1364],\n",
       "                      [ 0.1784, -0.3359,  0.0797,  ...,  0.1456,  0.3271,  0.3365],\n",
       "                      [-0.0476,  0.2370,  0.0056,  ...,  0.0468, -0.0613,  0.1358]],\n",
       "                     device='cuda:0')),\n",
       "             ('RNN_layer.weight_hh_l0',\n",
       "              tensor([[ 0.1400, -0.2092,  0.0296,  ..., -0.1054,  0.0836, -0.1092],\n",
       "                      [-0.2566, -0.1340,  0.1394,  ..., -0.2476,  0.0270,  0.1540],\n",
       "                      [-0.1122,  0.0431,  0.1384,  ..., -0.3546,  0.4510, -0.0210],\n",
       "                      ...,\n",
       "                      [-0.1217, -0.0957, -0.0603,  ..., -0.2642,  0.1595, -0.1044],\n",
       "                      [ 0.1783, -0.0416,  0.1193,  ...,  0.0720, -0.0663, -0.0280],\n",
       "                      [-0.1576,  0.0879,  0.2386,  ..., -0.3235,  0.0365,  0.2240]],\n",
       "                     device='cuda:0')),\n",
       "             ('RNN_layer.bias_ih_l0',\n",
       "              tensor([ 0.2848, -0.1504, -0.1879,  0.0467,  0.0366,  0.1575, -0.1463,  0.2205,\n",
       "                       0.0889,  0.2379,  0.1277,  0.0289, -0.0536,  0.0133,  0.0546,  0.0360,\n",
       "                       0.0519,  0.1475, -0.0629, -0.0212, -0.1351,  0.1421, -0.1432,  0.0732,\n",
       "                      -0.0095, -0.0326,  0.0166, -0.0427,  0.1508,  0.1184, -0.0077, -0.1381],\n",
       "                     device='cuda:0')),\n",
       "             ('RNN_layer.bias_hh_l0',\n",
       "              tensor([ 0.2236,  0.0357, -0.0670, -0.0937, -0.0190,  0.1135, -0.0140, -0.0141,\n",
       "                       0.0482, -0.0038, -0.0795, -0.1753, -0.0855, -0.2246, -0.1620, -0.2002,\n",
       "                       0.0844, -0.1029,  0.0113,  0.0138, -0.0764, -0.1059, -0.2030, -0.0472,\n",
       "                       0.1838, -0.0098, -0.0683, -0.0242,  0.1453,  0.1317,  0.1893, -0.1847],\n",
       "                     device='cuda:0')),\n",
       "             ('linear_post_rnn.weight',\n",
       "              tensor([[ 0.1940,  0.1753,  0.0421, -0.1014, -0.1305,  0.0634, -0.0972, -0.2576,\n",
       "                        0.0436,  0.1167, -0.0310,  0.0679, -0.1613, -0.1553,  0.0010, -0.1111,\n",
       "                       -0.1236,  0.1526, -0.0451,  0.1316,  0.0692, -0.2137, -0.1741, -0.0738,\n",
       "                        0.0451,  0.0924, -0.0951, -0.0496, -0.2140,  0.1595, -0.0281,  0.0973]],\n",
       "                     device='cuda:0')),\n",
       "             ('linear_post_rnn.bias', tensor([0.2268], device='cuda:0'))])"
      ]
     },
     "execution_count": 89,
     "metadata": {},
     "output_type": "execute_result"
    }
   ],
   "source": [
    "RNN_model=training.RV_RNN_conv(n_diff=2, rnn_type=\"rnn\",rnn_act=\"tanh\",rnn_drop_out=0,rnn_hidden_size=32,proj_dim=32,rnn_num_layer=1,input_scaler=10000).to(device=device)\n",
    "\n",
    "import torch.optim as optim\n",
    "\n",
    "optimizer=optim.Adam(RNN_model.parameters(),lr=1e-3)\n",
    "\n",
    "train_loader=torch.utils.data.DataLoader(dataset=train_dataset,batch_size=512,shuffle=True, num_workers=4, pin_memory=True)\n",
    "test_loader=torch.utils.data.DataLoader(dataset=test_dataset,batch_size=512,shuffle=True, num_workers =4, pin_memory=True)\n",
    "\n",
    "train_loss=[]\n",
    "val_loss=[]\n",
    "\n",
    "training.reg_training_loop_rmspe(optimizer=optimizer,model=RNN_model,train_loader=train_loader,val_loader=test_loader,list_train_loss=train_loss,list_val_loss=val_loss,device=device,n_epochs=100,ot_steps=10,report_interval=5,eps=0,scaler=1)"
   ]
  },
  {
   "cell_type": "code",
   "execution_count": 90,
   "id": "fb1f55fb-a478-4bee-bf57-12189db4383a",
   "metadata": {},
   "outputs": [
    {
     "data": {
      "text/plain": [
       "<matplotlib.collections.PathCollection at 0x7f08413be950>"
      ]
     },
     "execution_count": 90,
     "metadata": {},
     "output_type": "execute_result"
    },
    {
     "data": {
      "image/png": "[encoded data removed]",
      "text/plain": [
       "<Figure size 640x480 with 1 Axes>"
      ]
     },
     "metadata": {},
     "output_type": "display_data"
    }
   ],
   "source": [
    "train_loss=[x.cpu() for x in train_loss]\n",
    "val_loss=[x.cpu() for x in val_loss]\n",
    "\n",
    "import matplotlib.pyplot as plt \n",
    "\n",
    "x=np.arange(len(train_loss))\n",
    "\n",
    "plt.scatter(x,train_loss,c=\"blue\")\n",
    "plt.scatter(x,val_loss,c=\"orange\")"
   ]
  },
  {
   "cell_type": "markdown",
   "id": "9b608cb1-05a8-417d-8a2a-8816518de943",
   "metadata": {},
   "source": [
    "LSTM:"
   ]
  },
  {
   "cell_type": "code",
   "execution_count": 91,
   "id": "cf7afa75-8e8c-4318-9c75-4e4029fdc57d",
   "metadata": {
    "scrolled": true
   },
   "outputs": [
    {
     "name": "stdout",
     "output_type": "stream",
     "text": [
      "Warning: rnn_act='tanh' is ignored when using rnn_type='lstm'\n",
      "At  1.0817015171051025  epoch  1 has training loss  tensor(0.2584, device='cuda:0')  and validation loss  tensor(0.2387, device='cuda:0') .\n",
      "\n",
      "At  6.087613582611084  epoch  5 has training loss  tensor(0.2501, device='cuda:0')  and validation loss  tensor(0.2335, device='cuda:0') .\n",
      "\n",
      "At  12.317784309387207  epoch  10 has training loss  tensor(0.2467, device='cuda:0')  and validation loss  tensor(0.2317, device='cuda:0') .\n",
      "\n",
      "At  18.553734064102173  epoch  15 has training loss  tensor(0.2459, device='cuda:0')  and validation loss  tensor(0.2358, device='cuda:0') .\n",
      "\n",
      "At  24.699528455734253  epoch  20 has training loss  tensor(0.2463, device='cuda:0')  and validation loss  tensor(0.2327, device='cuda:0') .\n",
      "\n",
      "At  30.842156171798706  epoch  25 has training loss  tensor(0.2446, device='cuda:0')  and validation loss  tensor(0.2308, device='cuda:0') .\n",
      "\n",
      "At  37.18043398857117  epoch  30 has training loss  tensor(0.2439, device='cuda:0')  and validation loss  tensor(0.2336, device='cuda:0') .\n",
      "\n",
      "The validation loss has not improved for  10  epochs. Stopping current training loop.\n",
      "\n",
      "Best model state dictionary of this training loop is reloaded.\n",
      "\n",
      "According to validation loss, the best model is reached at epoch 21  with validation loss:  tensor(0.2305, device='cuda:0') .\n",
      " The total number of epoch trained is  31 .\n",
      " Training completed in:  38.42176413536072 .\n",
      "\n"
     ]
    },
    {
     "data": {
      "text/plain": [
       "OrderedDict([('frozen_conv.frozen_conv.weight',\n",
       "              tensor([[[-1.,  1.]]], device='cuda:0')),\n",
       "             ('linear_proj_input.weight',\n",
       "              tensor([[-0.0090,  0.3253, -0.0705],\n",
       "                      [ 0.1799,  0.1043, -0.0523],\n",
       "                      [-0.0705,  0.2915,  0.1690],\n",
       "                      [ 0.1008, -0.1441,  0.1200],\n",
       "                      [-0.1357,  0.2765,  0.1536],\n",
       "                      [-0.1016,  0.2093,  0.0718],\n",
       "                      [ 0.2759,  0.0426, -0.0790],\n",
       "                      [-0.0447, -0.1475, -0.0158],\n",
       "                      [-0.1632, -0.3557, -0.3056],\n",
       "                      [-0.1593, -0.0544, -0.1201],\n",
       "                      [ 0.1975, -0.1380, -0.1985],\n",
       "                      [ 0.1388,  0.1556, -0.2084],\n",
       "                      [ 0.0122, -0.3432, -0.0550],\n",
       "                      [ 0.1164,  0.1293, -0.0362],\n",
       "                      [ 0.1991,  0.1413, -0.3497],\n",
       "                      [-0.2964, -0.0654,  0.2493],\n",
       "                      [ 0.2634, -0.0293, -0.0623],\n",
       "                      [ 0.3024, -0.1364, -0.1297],\n",
       "                      [-0.4256, -0.4645, -0.4902],\n",
       "                      [ 0.1080,  0.4053,  0.1022],\n",
       "                      [-0.0432, -0.3247, -0.3837],\n",
       "                      [-0.1473,  0.2214, -0.1119],\n",
       "                      [-0.2291, -0.0917,  0.1091],\n",
       "                      [-0.2071,  0.2784,  0.4110],\n",
       "                      [ 0.1130, -0.3538,  0.0155],\n",
       "                      [ 0.0150,  0.0070,  0.1698],\n",
       "                      [-0.0068, -0.3223, -0.1747],\n",
       "                      [ 0.4297,  0.0564, -0.1277],\n",
       "                      [ 0.3252,  0.1828, -0.2776],\n",
       "                      [ 0.3525,  0.2662, -0.1296],\n",
       "                      [ 0.1889,  0.2912, -0.1865],\n",
       "                      [ 0.3165,  0.6224,  0.0700]], device='cuda:0')),\n",
       "             ('linear_proj_input.bias',\n",
       "              tensor([-0.0052, -0.3189, -0.1061, -0.4924,  0.2705, -0.3110, -0.1106,  0.0865,\n",
       "                       0.0938,  0.6408, -0.4720,  0.1811, -0.0402, -0.0725,  0.0394,  0.3309,\n",
       "                      -0.5082, -0.4818,  0.0945, -0.2450, -0.0723, -0.0125,  0.4503, -0.2711,\n",
       "                      -0.2136,  0.1309,  0.2255, -0.3762, -0.2869,  0.0046,  0.1119, -0.1403],\n",
       "                     device='cuda:0')),\n",
       "             ('RNN_layer.weight_ih_l0',\n",
       "              tensor([[ 0.0273, -0.0076,  0.1851,  ..., -0.1128, -0.0401, -0.0298],\n",
       "                      [ 0.0108, -0.0205, -0.0158,  ...,  0.0696,  0.0029,  0.0176],\n",
       "                      [ 0.1132,  0.0236,  0.0015,  ..., -0.1888,  0.0267, -0.1517],\n",
       "                      ...,\n",
       "                      [ 0.0776,  0.2044,  0.1668,  ...,  0.0007,  0.1376,  0.0687],\n",
       "                      [ 0.0985,  0.2617,  0.0012,  ...,  0.0419,  0.1280,  0.0223],\n",
       "                      [ 0.0982,  0.1183,  0.1195,  ..., -0.0640, -0.0891,  0.0785]],\n",
       "                     device='cuda:0')),\n",
       "             ('RNN_layer.weight_hh_l0',\n",
       "              tensor([[-0.3374,  0.7974,  0.3491,  ...,  0.9436,  0.5279, -0.4573],\n",
       "                      [-0.2151,  0.0098,  0.3339,  ..., -0.1792,  0.0215,  0.3952],\n",
       "                      [ 0.0414,  0.7138,  0.0035,  ...,  0.5260,  0.5836, -0.7194],\n",
       "                      ...,\n",
       "                      [ 0.6491,  0.6377,  0.0542,  ..., -0.0044,  0.1819, -0.0923],\n",
       "                      [ 0.4402,  0.5049, -0.1295,  ...,  0.2027,  0.0316, -0.0976],\n",
       "                      [ 0.9695,  1.2068, -0.1438,  ..., -0.2034,  0.0558, -0.1363]],\n",
       "                     device='cuda:0')),\n",
       "             ('RNN_layer.bias_ih_l0',\n",
       "              tensor([-0.6935, -0.8767, -0.2661, -0.2840, -0.1662, -0.3103, -0.3110, -0.2346,\n",
       "                      -0.1882, -0.0797, -0.4331, -0.0518, -0.3914, -0.2881, -0.0462, -0.0429,\n",
       "                      -0.1752, -0.1707, -0.3215, -0.1479, -0.1457, -0.2826, -0.0673, -0.1234,\n",
       "                      -0.2386, -0.0525,  0.1726, -0.0404, -0.1844, -0.2554,  0.0187, -0.3408,\n",
       "                      -0.0129,  0.0175,  0.5558, -0.3192,  0.0030, -0.0729, -0.1093, -0.0074,\n",
       "                       0.0577, -0.1065,  0.3324,  0.4413,  0.7265,  0.0809,  0.0163, -0.0118,\n",
       "                      -0.1205,  0.2037,  0.0952,  0.0355, -0.2877, -0.1050, -0.1126, -0.0228,\n",
       "                      -0.1487,  0.2700,  0.2689,  0.2753,  0.0096, -0.0845,  0.1297, -0.4433,\n",
       "                      -0.1056, -0.3521,  0.0282, -0.0896, -0.0983,  0.0769, -0.1531,  0.1269,\n",
       "                       0.0920, -0.0020, -0.0493,  0.1318, -0.0485,  0.0259, -0.1331,  0.0926,\n",
       "                      -0.1901,  0.1452,  0.1344, -0.0869, -0.1735,  0.1667,  0.1512, -0.0175,\n",
       "                       0.0889,  0.0796, -0.1044,  0.1752,  0.1657, -0.2133,  0.1310, -0.1418,\n",
       "                       0.1183, -0.2412,  0.3653, -0.3295,  0.0775, -0.1643, -0.2112,  0.0142,\n",
       "                       0.0618, -0.0901, -0.3691,  0.1828,  0.1524, -0.4328, -0.0822,  0.0019,\n",
       "                      -0.3810, -0.1631, -0.0115,  0.0865, -0.1210, -0.2983,  0.0064, -0.2245,\n",
       "                      -0.0763,  0.2528, -0.0397, -0.0854,  0.1010, -0.3253, -0.0166, -0.4712],\n",
       "                     device='cuda:0')),\n",
       "             ('RNN_layer.bias_hh_l0',\n",
       "              tensor([-0.5455, -0.6870, -0.4646, -0.1959,  0.0083, -0.1804, -0.2617,  0.0868,\n",
       "                      -0.3194, -0.2571, -0.4457, -0.0548, -0.5148, -0.3561, -0.0523, -0.2450,\n",
       "                      -0.4531, -0.0723, -0.1642, -0.2731, -0.0275, -0.3218,  0.0079, -0.0885,\n",
       "                      -0.1389,  0.1037,  0.3912, -0.0666, -0.0500, -0.2727, -0.2935, -0.4880,\n",
       "                       0.0223,  0.2713,  0.3436, -0.2576,  0.2007, -0.2052,  0.1278,  0.0636,\n",
       "                       0.1891,  0.0916,  0.1216,  0.1781,  0.5185,  0.0332, -0.2700, -0.1264,\n",
       "                      -0.2100,  0.0215, -0.0958,  0.1070, -0.1443, -0.0154, -0.1886, -0.2469,\n",
       "                      -0.0375,  0.1635,  0.1180,  0.2031,  0.0722, -0.0841,  0.0335, -0.2083,\n",
       "                      -0.0593, -0.1457,  0.1679,  0.0474,  0.1282,  0.0331, -0.0130, -0.1762,\n",
       "                      -0.1007,  0.0458, -0.0727,  0.0181, -0.1215,  0.0258, -0.0211,  0.0893,\n",
       "                      -0.1306,  0.1400, -0.0826, -0.0271, -0.0649,  0.1201, -0.1327, -0.0164,\n",
       "                       0.0856,  0.0636,  0.0669,  0.1339,  0.1544, -0.0710,  0.0023,  0.1979,\n",
       "                       0.1735, -0.1392,  0.1318, -0.2530, -0.0328, -0.0953, -0.0785, -0.1323,\n",
       "                      -0.0187, -0.1665, -0.3245,  0.1155, -0.1353, -0.4306, -0.0931,  0.0207,\n",
       "                      -0.3873, -0.2864,  0.0483, -0.1239, -0.2117, -0.0452, -0.1924, -0.0313,\n",
       "                      -0.1550,  0.0937, -0.1002,  0.0219, -0.0271, -0.0578, -0.2707, -0.3362],\n",
       "                     device='cuda:0')),\n",
       "             ('linear_post_rnn.weight',\n",
       "              tensor([[ 0.0737,  0.0998, -0.0053,  0.1741, -0.0747,  0.1395,  0.1766, -0.1791,\n",
       "                       -0.0748,  0.1804,  0.2325, -0.0815, -0.0555,  0.1252, -0.1030, -0.0931,\n",
       "                        0.1622,  0.0702, -0.1219, -0.0885,  0.3155, -0.1733, -0.1149,  0.0027,\n",
       "                       -0.1943,  0.0208,  0.0063, -0.0635, -0.0679,  0.2503,  0.3693, -0.4112]],\n",
       "                     device='cuda:0')),\n",
       "             ('linear_post_rnn.bias', tensor([0.1290], device='cuda:0'))])"
      ]
     },
     "execution_count": 91,
     "metadata": {},
     "output_type": "execute_result"
    }
   ],
   "source": [
    "RNN_model=training.RV_RNN_conv(n_diff=2, rnn_type=\"lstm\",rnn_act=\"tanh\",rnn_drop_out=0,rnn_hidden_size=32,proj_dim=32,rnn_num_layer=1,input_scaler=10000).to(device=device)\n",
    "\n",
    "import torch.optim as optim\n",
    "\n",
    "optimizer=optim.Adam(RNN_model.parameters(),lr=1e-3)\n",
    "\n",
    "train_loader=torch.utils.data.DataLoader(dataset=train_dataset,batch_size=512,shuffle=True, num_workers=4, pin_memory=True)\n",
    "test_loader=torch.utils.data.DataLoader(dataset=test_dataset,batch_size=512,shuffle=True, num_workers =4, pin_memory=True)\n",
    "\n",
    "train_loss=[]\n",
    "val_loss=[]\n",
    "\n",
    "training.reg_training_loop_rmspe(optimizer=optimizer,model=RNN_model,train_loader=train_loader,val_loader=test_loader,list_train_loss=train_loss,list_val_loss=val_loss,device=device,n_epochs=100,ot_steps=10,report_interval=5,eps=0,scaler=1)"
   ]
  },
  {
   "cell_type": "code",
   "execution_count": 92,
   "id": "5aa699c1-a918-4831-9f1b-8697e25bd98c",
   "metadata": {},
   "outputs": [
    {
     "data": {
      "text/plain": [
       "<matplotlib.collections.PathCollection at 0x7f083c7dd930>"
      ]
     },
     "execution_count": 92,
     "metadata": {},
     "output_type": "execute_result"
    },
    {
     "data": {
      "image/png": "[encoded data removed]",
      "text/plain": [
       "<Figure size 640x480 with 1 Axes>"
      ]
     },
     "metadata": {},
     "output_type": "display_data"
    }
   ],
   "source": [
    "train_loss=[x.cpu() for x in train_loss]\n",
    "val_loss=[x.cpu() for x in val_loss]\n",
    "\n",
    "import matplotlib.pyplot as plt \n",
    "\n",
    "x=np.arange(len(train_loss))\n",
    "\n",
    "plt.scatter(x,train_loss,c=\"blue\")\n",
    "plt.scatter(x,val_loss,c=\"orange\")"
   ]
  },
  {
   "cell_type": "markdown",
   "id": "344515ae-1741-4b2e-8716-2725cee570cd",
   "metadata": {},
   "source": [
    "Baseline Model"
   ]
  },
  {
   "cell_type": "code",
   "execution_count": 93,
   "id": "78c69b98-2b5a-4a8a-9998-a0c0951bd7bd",
   "metadata": {},
   "outputs": [],
   "source": [
    "# First build an approximate RV feature\n",
    "path_book=\"../raw_data/kaggle_ORVP/book_train.parquet\"\n",
    "df_rv=data_processing.create_df_RV_by_row_id_parallel(path_book)\n",
    "\n",
    "# Then merge with target dataframe\n",
    "df_rv_target=pd.merge(df_target, df_rv, on=[\"row_id\",\"time_id\",\"stock_id\"])\n",
    "\n",
    "train_dataset_base = df_rv_target.loc[df_rv_target['time_id'].isin(train_time_id), ['RV','target','row_id']].set_index('row_id')\n",
    "test_dataset_base = df_rv_target.loc[df_rv_target['time_id'].isin(test_time_id), ['RV','target','row_id']].set_index('row_id')"
   ]
  },
  {
   "cell_type": "code",
   "execution_count": 94,
   "id": "b878416c-6f16-4029-9291-a62fb6d1657b",
   "metadata": {
    "scrolled": true
   },
   "outputs": [
    {
     "name": "stdout",
     "output_type": "stream",
     "text": [
      "The losses for training and validation data are: 0.3019 and 0.2678\n"
     ]
    }
   ],
   "source": [
    "from sklearn.linear_model import LinearRegression\n",
    "\n",
    "X_train=train_dataset_base[['RV']]\n",
    "y_train=train_dataset_base['target']\n",
    "\n",
    "X_test=test_dataset_base[['RV']]\n",
    "y_test=test_dataset_base['target']\n",
    "\n",
    "model= LinearRegression()\n",
    "model.fit(X_train,y_train)\n",
    "\n",
    "training_loss = training.rmspe(model.predict(X_train),y_train)\n",
    "validation_loss = training.rmspe(model.predict(X_test),y_test)\n",
    "\n",
    "print(\"The losses for training and validation data are: {:.4f} and {:.4f}\".format(training_loss, validation_loss))"
   ]
  },
  {
   "cell_type": "markdown",
   "id": "8c408726",
   "metadata": {},
   "source": [
    "## Training with native values, with a 10000 times scaler on input. "
   ]
  },
  {
   "cell_type": "markdown",
   "id": "57cc50c5",
   "metadata": {},
   "source": [
    "A key issue with our input timeseries is that all values are extremely close to zero, so a 10000 times scaler can help with expanding them a little. "
   ]
  },
  {
   "cell_type": "code",
   "execution_count": 61,
   "id": "2efd16ac",
   "metadata": {},
   "outputs": [
    {
     "name": "stdout",
     "output_type": "stream",
     "text": [
      "Using device cuda\n"
     ]
    }
   ],
   "source": [
    "device=(torch.device(\"cuda\") if torch.cuda.is_available() else torch.device(\"cpu\"))\n",
    "print(f\"Using device {device}\")"
   ]
  },
  {
   "cell_type": "code",
   "execution_count": 62,
   "id": "1b95e6a7",
   "metadata": {},
   "outputs": [],
   "source": [
    "RNN_model=training.RV_RNN_conv(n_diff=4,rnn_act=\"tanh\",rnn_drop_out=0,rnn_hidden_size=32,proj_dim=32,rnn_num_layer=1,input_scaler=10000).to(device=device)"
   ]
  },
  {
   "cell_type": "code",
   "execution_count": 63,
   "id": "3846a809",
   "metadata": {},
   "outputs": [],
   "source": [
    "import torch.optim as optim\n",
    "\n",
    "optimizer=optim.Adam(RNN_model.parameters(),lr=1e-3)"
   ]
  },
  {
   "cell_type": "code",
   "execution_count": 64,
   "id": "55dd6fd9",
   "metadata": {},
   "outputs": [],
   "source": [
    "train_loader=torch.utils.data.DataLoader(dataset=train_dataset,batch_size=256,shuffle=True)\n",
    "test_loader=torch.utils.data.DataLoader(dataset=test_dataset,batch_size=256,shuffle=True)"
   ]
  },
  {
   "cell_type": "code",
   "execution_count": 65,
   "id": "292fcf3f",
   "metadata": {},
   "outputs": [],
   "source": [
    "train_loss=[]\n",
    "val_loss=[]"
   ]
  },
  {
   "cell_type": "code",
   "execution_count": 46,
   "id": "810267b9",
   "metadata": {
    "scrolled": true
   },
   "outputs": [
    {
     "name": "stdout",
     "output_type": "stream",
     "text": [
      "At  2.841204881668091  epoch  1 has training loss  tensor(0.2701, device='cuda:0')  and validation loss  tensor(0.2366, device='cuda:0') .\n",
      "\n",
      "At  12.692814350128174  epoch  5 has training loss  tensor(0.2536, device='cuda:0')  and validation loss  tensor(0.2370, device='cuda:0') .\n",
      "\n",
      "At  24.804923057556152  epoch  10 has training loss  tensor(0.2527, device='cuda:0')  and validation loss  tensor(0.2350, device='cuda:0') .\n",
      "\n",
      "At  36.860355615615845  epoch  15 has training loss  tensor(0.2519, device='cuda:0')  and validation loss  tensor(0.2352, device='cuda:0') .\n",
      "\n",
      "At  49.09467816352844  epoch  20 has training loss  tensor(0.2518, device='cuda:0')  and validation loss  tensor(0.2364, device='cuda:0') .\n",
      "\n",
      "At  61.199227809906006  epoch  25 has training loss  tensor(0.2510, device='cuda:0')  and validation loss  tensor(0.2349, device='cuda:0') .\n",
      "\n",
      "At  73.4724633693695  epoch  30 has training loss  tensor(0.2506, device='cuda:0')  and validation loss  tensor(0.2344, device='cuda:0') .\n",
      "\n",
      "The validation loss has not improved for  10  epochs. Stopping current training loop.\n",
      "\n",
      "Best model state dictionary of this training loop is reloaded.\n",
      "\n",
      "According to validation loss, the best model is reached at epoch 23  with validation loss:  tensor(0.2343, device='cuda:0') .\n",
      " The total number of epoch trained is  33 .\n",
      " Training completed in:  80.75830578804016 .\n",
      "\n"
     ]
    },
    {
     "data": {
      "text/plain": [
       "OrderedDict([('frozen_conv.frozen_conv.weight',\n",
       "              tensor([[[-1.,  1.]]], device='cuda:0')),\n",
       "             ('linear_proj_input.weight',\n",
       "              tensor([[-1.3013e-02,  3.8937e-01,  2.7331e-01, -7.7134e-02, -6.5391e-02],\n",
       "                      [-2.4403e-02, -3.2814e-02, -2.7695e-02,  1.0576e-01,  8.8450e-02],\n",
       "                      [ 2.5078e-02,  4.2850e-01,  1.4450e-01, -2.3749e-01, -1.4540e-01],\n",
       "                      [-1.5259e-02,  2.8654e-02, -2.5478e-01, -2.4515e-01, -7.4321e-02],\n",
       "                      [-2.5169e-02, -1.9296e-01, -4.6623e-02, -1.3934e-01,  2.0372e-01],\n",
       "                      [ 1.4997e-03,  3.1609e-01,  4.8015e-01,  3.6515e-01,  1.2458e-01],\n",
       "                      [-3.5017e-01, -3.9541e-01,  1.0655e-01,  1.0083e-01,  3.1811e-02],\n",
       "                      [ 3.9903e-01,  8.1790e-02,  3.0594e-01, -2.8731e-01, -2.2762e-01],\n",
       "                      [ 1.1225e-01,  5.7909e-01,  5.4034e-01, -4.9363e-02, -1.6414e-01],\n",
       "                      [-1.4101e-01, -3.6283e-01, -4.2917e-01, -2.6336e-01, -6.1351e-02],\n",
       "                      [ 2.1715e-01,  5.1638e-01, -1.4776e-01, -1.6922e-01, -1.0258e-01],\n",
       "                      [ 2.6874e-01,  2.5141e-01,  9.6520e-02, -1.4923e-01, -9.9994e-02],\n",
       "                      [-6.7987e-02,  7.4953e-01,  3.8641e-01,  2.3234e-01,  1.4717e-01],\n",
       "                      [ 3.8860e-02, -2.0319e-01, -4.3208e-01, -2.7799e-01, -6.5091e-02],\n",
       "                      [ 5.1128e-01,  6.1839e-01,  1.1226e-01, -1.0994e-01, -6.8997e-02],\n",
       "                      [-3.0949e-05, -2.7831e-02, -9.8439e-02, -5.5426e-02,  1.6215e-01],\n",
       "                      [-3.1145e-01, -6.1889e-01,  1.5116e-01, -1.3925e-03, -2.1665e-02],\n",
       "                      [ 9.4889e-03, -2.3916e-01,  3.0081e-01,  3.9099e-01,  1.0649e-01],\n",
       "                      [-8.7631e-02, -3.7799e-01, -5.4040e-01, -3.2803e-01, -9.8980e-02],\n",
       "                      [-2.5052e-02,  3.5925e-01,  1.3044e-01, -6.9229e-02, -1.0065e-02],\n",
       "                      [ 3.4754e-03, -4.0523e-02,  2.8313e-02,  1.1535e-01,  7.7040e-02],\n",
       "                      [-2.2990e-02, -6.9230e-02, -1.2776e-01, -1.1016e-01, -4.8677e-02],\n",
       "                      [ 2.5398e-01, -1.5076e-01,  9.2794e-02, -1.7250e-01,  1.4736e-02],\n",
       "                      [-3.8122e-02, -3.0778e-01, -4.4675e-01, -1.4981e-01,  8.1686e-02],\n",
       "                      [ 2.6809e-01, -4.9744e-01, -2.6351e-01,  2.3446e-01,  1.2846e-01],\n",
       "                      [ 2.7063e-02,  1.3496e-01, -1.3191e-01, -4.4728e-02,  7.4260e-02],\n",
       "                      [-4.9552e-03, -1.7302e-02, -1.3783e-01, -1.6517e-01, -8.2923e-02],\n",
       "                      [ 1.9944e-04,  8.0016e-02,  4.0945e-02, -1.2355e-01, -9.3174e-02],\n",
       "                      [ 2.1459e-02, -3.3950e-01,  9.8456e-02,  2.0546e-01,  4.4724e-02],\n",
       "                      [ 9.6839e-03,  8.9200e-03,  1.7458e-01,  2.4485e-01,  1.0483e-01],\n",
       "                      [ 1.8363e-01,  5.7163e-01,  6.0951e-01,  2.6567e-01,  1.8908e-02],\n",
       "                      [ 4.2079e-01,  7.3438e-02, -1.3992e-01,  4.8925e-02,  3.1248e-01]],\n",
       "                     device='cuda:0')),\n",
       "             ('linear_proj_input.bias',\n",
       "              tensor([ 1.2628e-02,  2.6932e-02, -1.4197e-01,  2.5670e-02,  7.9795e-02,\n",
       "                       9.7121e-04,  1.9222e-01, -5.3905e-03,  2.0546e-01,  2.5116e-02,\n",
       "                       3.2769e-02, -5.7999e-02,  3.2334e-02, -5.3210e-02, -8.8886e-02,\n",
       "                       2.0458e-02, -1.4031e-02,  1.3967e-02,  3.6471e-02, -1.0130e-02,\n",
       "                      -4.0863e-05,  3.5490e-02,  1.2664e-02, -5.2900e-02, -9.5596e-02,\n",
       "                      -4.3202e-03,  7.3360e-03,  2.5692e-03, -4.0112e-03, -1.1612e-02,\n",
       "                      -2.5158e-01, -2.1998e-02], device='cuda:0')),\n",
       "             ('RNN_layer.weight_ih_l0',\n",
       "              tensor([[ 0.3098, -0.0379, -0.0749,  ...,  0.0092,  0.0700,  0.5764],\n",
       "                      [-0.0177, -0.0479,  0.1101,  ..., -0.0484, -0.0547,  0.0155],\n",
       "                      [ 0.1967,  0.1626,  0.1815,  ..., -0.1098,  0.2899,  0.0953],\n",
       "                      ...,\n",
       "                      [-0.1386, -0.1555,  0.0913,  ..., -0.2777, -0.0866, -0.1767],\n",
       "                      [ 0.0174, -0.2074, -0.0237,  ..., -0.1728,  0.1267,  0.0314],\n",
       "                      [-0.0817,  0.0737, -0.0603,  ..., -0.0139,  0.0928,  0.1602]],\n",
       "                     device='cuda:0')),\n",
       "             ('RNN_layer.weight_hh_l0',\n",
       "              tensor([[ 0.3250, -0.0508, -0.1123,  ..., -0.5073,  0.0732, -0.1378],\n",
       "                      [ 0.6863,  0.0797,  0.4058,  ..., -0.3456, -0.5240, -0.1203],\n",
       "                      [ 0.1124,  0.2424,  0.0326,  ..., -0.3729, -0.2419,  0.0278],\n",
       "                      ...,\n",
       "                      [ 0.1746, -0.0447,  0.0181,  ..., -0.2048,  0.1816,  0.0188],\n",
       "                      [ 0.1996,  0.6002,  0.1919,  ...,  0.2364,  0.1710, -0.4626],\n",
       "                      [-0.0490, -0.1574, -0.2917,  ..., -0.6026,  0.3585, -0.3754]],\n",
       "                     device='cuda:0')),\n",
       "             ('RNN_layer.bias_ih_l0',\n",
       "              tensor([-0.1178, -0.0024, -0.2019,  0.1001,  0.1473, -0.0491, -0.1332, -0.0582,\n",
       "                       0.1112,  0.0852,  0.0917,  0.0846, -0.0644, -0.0925, -0.1094, -0.0322,\n",
       "                      -0.2289, -0.0290,  0.0346, -0.1418,  0.0221,  0.0553,  0.0716,  0.2255,\n",
       "                       0.0076, -0.0589,  0.1047, -0.1326, -0.0157, -0.0875, -0.1506,  0.1891],\n",
       "                     device='cuda:0')),\n",
       "             ('RNN_layer.bias_hh_l0',\n",
       "              tensor([ 3.2828e-02, -2.6533e-01, -6.7540e-02,  5.3128e-02,  1.3619e-01,\n",
       "                       8.7140e-02,  7.9682e-02, -1.9066e-01,  1.1935e-01,  6.2576e-02,\n",
       "                      -1.3442e-01,  1.0371e-02,  7.3204e-02, -1.6927e-01,  4.8571e-02,\n",
       "                      -1.3515e-01, -1.3753e-01,  5.4045e-02, -1.0209e-01, -4.2235e-03,\n",
       "                       1.6207e-01,  6.6100e-02, -1.9344e-01, -7.8733e-02, -4.8117e-02,\n",
       "                       2.7672e-01, -7.6910e-02,  1.7189e-01,  5.6509e-02,  8.6780e-03,\n",
       "                       2.5435e-02, -5.3751e-05], device='cuda:0')),\n",
       "             ('linear_post_rnn.weight',\n",
       "              tensor([[-0.0499, -0.1899,  0.0255, -0.0264,  0.0046, -0.1370,  0.0507, -0.2109,\n",
       "                        0.3328, -0.0019,  0.0520, -0.2140, -0.1467, -0.3020,  0.0137,  0.0473,\n",
       "                        0.0489, -0.1000,  0.2518,  0.1416,  0.0663, -0.1541,  0.0913,  0.3280,\n",
       "                       -0.0199, -0.2331,  0.2933, -0.0358,  0.1127,  0.0526,  0.0145,  0.2203]],\n",
       "                     device='cuda:0')),\n",
       "             ('linear_post_rnn.bias', tensor([0.1783], device='cuda:0'))])"
      ]
     },
     "execution_count": 46,
     "metadata": {},
     "output_type": "execute_result"
    }
   ],
   "source": [
    "training.reg_training_loop_rmspe(optimizer=optimizer,model=RNN_model,train_loader=train_loader,val_loader=test_loader,list_train_loss=train_loss,list_val_loss=val_loss,device=device,n_epochs=100,ot_steps=10,report_interval=5,eps=0,scaler=1)"
   ]
  },
  {
   "cell_type": "code",
   "execution_count": 47,
   "id": "66a81f55",
   "metadata": {},
   "outputs": [
    {
     "name": "stdout",
     "output_type": "stream",
     "text": [
      "frozen_conv.frozen_conv.weight False\n",
      "linear_proj_input.weight True\n",
      "linear_proj_input.bias True\n",
      "RNN_layer.weight_ih_l0 True\n",
      "RNN_layer.weight_hh_l0 True\n",
      "RNN_layer.bias_ih_l0 True\n",
      "RNN_layer.bias_hh_l0 True\n",
      "linear_post_rnn.weight True\n",
      "linear_post_rnn.bias True\n"
     ]
    }
   ],
   "source": [
    "for name,param in RNN_model.named_parameters():\n",
    "    print(name,param.requires_grad)"
   ]
  },
  {
   "cell_type": "code",
   "execution_count": 48,
   "id": "0e88bd58",
   "metadata": {},
   "outputs": [],
   "source": [
    "train_loss=[x.cpu() for x in train_loss]\n",
    "val_loss=[x.cpu() for x in val_loss]"
   ]
  },
  {
   "cell_type": "markdown",
   "id": "b9c4ccf4",
   "metadata": {},
   "source": [
    "Above is an example of the training. "
   ]
  },
  {
   "cell_type": "code",
   "execution_count": 49,
   "id": "05ee5053",
   "metadata": {},
   "outputs": [],
   "source": [
    "import matplotlib.pyplot as plt \n",
    "\n",
    "x=np.arange(len(train_loss))"
   ]
  },
  {
   "cell_type": "code",
   "execution_count": 50,
   "id": "ebe3da0c",
   "metadata": {},
   "outputs": [
    {
     "data": {
      "text/plain": [
       "<matplotlib.collections.PathCollection at 0x7ff63811f6a0>"
      ]
     },
     "execution_count": 50,
     "metadata": {},
     "output_type": "execute_result"
    },
    {
     "data": {
      "image/png": "[encoded data removed]",
      "text/plain": [
       "<Figure size 640x480 with 1 Axes>"
      ]
     },
     "metadata": {},
     "output_type": "display_data"
    }
   ],
   "source": [
    "plt.scatter(x,train_loss,c=\"blue\")\n",
    "plt.scatter(x,val_loss,c=\"orange\")"
   ]
  },
  {
   "cell_type": "markdown",
   "id": "50b72925",
   "metadata": {},
   "source": [
    "## Try to normalize only the input. "
   ]
  },
  {
   "cell_type": "code",
   "execution_count": 50,
   "id": "2324a8cb",
   "metadata": {},
   "outputs": [],
   "source": [
    "RNN_model_norm_ts=training.RV_RNN_conv(n_diff=4,rnn_act=\"tanh\",rnn_drop_out=0,rnn_hidden_size=32,proj_dim=32,rnn_num_layer=1,input_scaler=1).to(device=device)"
   ]
  },
  {
   "cell_type": "code",
   "execution_count": 51,
   "id": "68516afa",
   "metadata": {},
   "outputs": [],
   "source": [
    "optimizer_norm_ts=optim.Adam(RNN_model_norm_ts.parameters(),lr=1e-3)"
   ]
  },
  {
   "cell_type": "code",
   "execution_count": 52,
   "id": "ae9de7e3",
   "metadata": {},
   "outputs": [
    {
     "name": "stderr",
     "output_type": "stream",
     "text": [
      "/home/machine2/Desktop/Realized_Volatility_Prediction_-erdos_deeplearning-/NNetwork/../proj_mod/training.py:301: SettingWithCopyWarning: \n",
      "A value is trying to be set on a copy of a slice from a DataFrame.\n",
      "Try using .loc[row_indexer,col_indexer] = value instead\n",
      "\n",
      "See the caveats in the documentation: https://pandas.pydata.org/pandas-docs/stable/user_guide/indexing.html#returning-a-view-versus-a-copy\n",
      "  df_tab_copy.loc[:,\"sub_int_num\"]=np.nan\n",
      "/home/machine2/Desktop/Realized_Volatility_Prediction_-erdos_deeplearning-/NNetwork/../proj_mod/training.py:301: SettingWithCopyWarning: \n",
      "A value is trying to be set on a copy of a slice from a DataFrame.\n",
      "Try using .loc[row_indexer,col_indexer] = value instead\n",
      "\n",
      "See the caveats in the documentation: https://pandas.pydata.org/pandas-docs/stable/user_guide/indexing.html#returning-a-view-versus-a-copy\n",
      "  df_tab_copy.loc[:,\"sub_int_num\"]=np.nan\n"
     ]
    }
   ],
   "source": [
    "train_dataset=training.RVdataset(time_id_list=train_time_id,ts_features=[\"sub_int_RV_norm\"],df_ts_feat=df_RV_ts,df_target=df_target)\n",
    "test_dataset=training.RVdataset(time_id_list=test_time_id,ts_features=[\"sub_int_RV_norm\"],df_ts_feat=df_RV_ts,df_target=df_target)"
   ]
  },
  {
   "cell_type": "code",
   "execution_count": 53,
   "id": "509b7bfa",
   "metadata": {},
   "outputs": [],
   "source": [
    "train_loader=torch.utils.data.DataLoader(dataset=train_dataset,batch_size=256,shuffle=True)\n",
    "test_loader=torch.utils.data.DataLoader(dataset=test_dataset,batch_size=256,shuffle=True)"
   ]
  },
  {
   "cell_type": "code",
   "execution_count": 54,
   "id": "4056c9ee",
   "metadata": {},
   "outputs": [],
   "source": [
    "train_loss=[]\n",
    "val_loss=[]"
   ]
  },
  {
   "cell_type": "code",
   "execution_count": 55,
   "id": "b0a66b56",
   "metadata": {},
   "outputs": [
    {
     "name": "stdout",
     "output_type": "stream",
     "text": [
      "At  2.522658109664917  epoch  1 has training loss  tensor(283.0392, device='cuda:0')  and validation loss  tensor(43.5655, device='cuda:0') .\n",
      "\n",
      "At  12.718735694885254  epoch  5 has training loss  tensor(17.9191, device='cuda:0')  and validation loss  tensor(37.9335, device='cuda:0') .\n",
      "\n",
      "At  26.009549140930176  epoch  10 has training loss  tensor(7.6101, device='cuda:0')  and validation loss  tensor(3.5446, device='cuda:0') .\n",
      "\n",
      "At  39.161351442337036  epoch  15 has training loss  tensor(2.6315, device='cuda:0')  and validation loss  tensor(1.4925, device='cuda:0') .\n",
      "\n",
      "At  52.47147059440613  epoch  20 has training loss  tensor(2.2603, device='cuda:0')  and validation loss  tensor(1.0233, device='cuda:0') .\n",
      "\n",
      "At  65.79581642150879  epoch  25 has training loss  tensor(2.3343, device='cuda:0')  and validation loss  tensor(1.7118, device='cuda:0') .\n",
      "\n",
      "At  79.334139585495  epoch  30 has training loss  tensor(2.6137, device='cuda:0')  and validation loss  tensor(1.8254, device='cuda:0') .\n",
      "\n",
      "At  92.26322913169861  epoch  35 has training loss  tensor(2.3198, device='cuda:0')  and validation loss  tensor(3.5959, device='cuda:0') .\n",
      "\n",
      "At  105.20642518997192  epoch  40 has training loss  tensor(2.4839, device='cuda:0')  and validation loss  tensor(1.4842, device='cuda:0') .\n",
      "\n",
      "The validation loss has not improved for  20  epochs. Stopping current training loop.\n",
      "\n",
      "Best model state dictionary of this training loop is reloaded.\n",
      "\n",
      "According to validation loss, the best model is reached at epoch 21  with validation loss:  tensor(0.5534, device='cuda:0') .\n",
      " The total number of epoch trained is  41 .\n",
      " Training completed in:  107.89736342430115 .\n",
      "\n"
     ]
    },
    {
     "data": {
      "text/plain": [
       "OrderedDict([('frozen_conv.frozen_conv.weight',\n",
       "              tensor([[[-1.,  1.]]], device='cuda:0')),\n",
       "             ('linear_proj_input.weight',\n",
       "              tensor([[-0.0045, -0.0901,  0.1132, -0.2228, -0.1803],\n",
       "                      [-0.1997, -0.3297,  0.1452,  0.3443, -0.0067],\n",
       "                      [-0.0107, -0.2273,  0.4138,  0.0233, -0.1586],\n",
       "                      [-0.0889,  0.3350, -0.1367, -0.1448, -0.4007],\n",
       "                      [ 0.2829, -0.0629,  0.1113, -0.0430,  0.1067],\n",
       "                      [ 0.3070,  0.1270,  0.4153,  0.1222,  0.0056],\n",
       "                      [ 0.1668, -0.4291, -0.0132, -0.2160,  0.2345],\n",
       "                      [ 0.1613, -0.3407,  0.0467,  0.4288,  0.0861],\n",
       "                      [ 0.0653, -0.0928, -0.0263, -0.2540, -0.0603],\n",
       "                      [ 0.0812, -0.2569, -0.0038,  0.1708, -0.1246],\n",
       "                      [ 0.3743,  0.4313, -0.1810, -0.2795,  0.0187],\n",
       "                      [ 0.0401,  0.0395,  0.0658, -0.1657, -0.1592],\n",
       "                      [-0.0402,  0.3869,  0.3598,  0.2136,  0.0075],\n",
       "                      [-0.0650, -0.0289,  0.2271,  0.3552,  0.2315],\n",
       "                      [ 0.3678,  0.1282, -0.2009,  0.3654,  0.2514],\n",
       "                      [-0.0062, -0.3464, -0.3324, -0.0290, -0.0126],\n",
       "                      [-0.0944,  0.2014,  0.1281,  0.3473,  0.0057],\n",
       "                      [ 0.3253, -0.0096, -0.2627,  0.0400,  0.1282],\n",
       "                      [ 0.4956, -0.1440,  0.1999, -0.2800, -0.1951],\n",
       "                      [ 0.0501,  0.2608,  0.1987,  0.1601, -0.1392],\n",
       "                      [-0.0112, -0.1569,  0.1500, -0.0583, -0.1004],\n",
       "                      [ 0.3107,  0.2088, -0.0550,  0.1293,  0.1153],\n",
       "                      [-0.2866,  0.2308, -0.2633, -0.0656,  0.0422],\n",
       "                      [ 0.3230,  0.0646, -0.2153, -0.2714, -0.1071],\n",
       "                      [ 0.2060,  0.1244, -0.3153, -0.2981,  0.5972],\n",
       "                      [-0.1061,  0.0378, -0.1545, -0.4512, -0.2370],\n",
       "                      [ 0.3597, -0.0376,  0.3642, -0.0549, -0.1750],\n",
       "                      [-0.0804, -0.3709,  0.0436, -0.5300,  0.4364],\n",
       "                      [-0.1882, -0.1901, -0.0169,  0.0589, -0.0450],\n",
       "                      [ 0.0748,  0.4169, -0.3247, -0.0675, -0.7775],\n",
       "                      [-0.1283, -0.1630,  0.2123, -0.1098, -0.1756],\n",
       "                      [-0.1097,  0.2151, -0.0023, -0.3765,  0.0132]], device='cuda:0')),\n",
       "             ('linear_proj_input.bias',\n",
       "              tensor([-0.0057, -0.1013, -0.0074,  0.2599,  0.1890,  0.1345, -0.2150,  0.0712,\n",
       "                       0.0300,  0.3206,  0.1795,  0.0153,  0.1227,  0.0018,  0.1638, -0.0037,\n",
       "                       0.1344,  0.2068,  0.2299,  0.0294, -0.0055,  0.1430, -0.1299,  0.1851,\n",
       "                       0.1075, -0.0477,  0.1969,  0.1196, -0.0974,  0.0150, -0.0363, -0.0491],\n",
       "                     device='cuda:0')),\n",
       "             ('RNN_layer.weight_ih_l0',\n",
       "              tensor([[ 3.7883e-02, -7.4390e-02,  8.1796e-02,  ...,  1.3746e-02,\n",
       "                       -7.0671e-02,  1.1298e-01],\n",
       "                      [-1.7003e-01, -7.9825e-02,  1.1533e-01,  ..., -3.2246e-02,\n",
       "                        6.0445e-02, -2.1969e-03],\n",
       "                      [-1.2022e-01, -7.2477e-02,  4.6330e-02,  ..., -7.7177e-02,\n",
       "                        1.2686e-01, -1.2398e-01],\n",
       "                      ...,\n",
       "                      [ 1.4775e-01, -1.2599e-01,  4.8405e-02,  ..., -9.3319e-02,\n",
       "                       -1.7944e-02,  1.0043e-01],\n",
       "                      [ 1.9351e-01, -4.2060e-02, -1.4521e-02,  ..., -2.4227e-04,\n",
       "                        5.4732e-02,  5.0702e-02],\n",
       "                      [-1.7626e-01,  1.4203e-01, -7.9240e-02,  ..., -1.5068e-04,\n",
       "                        1.0361e-01, -2.5569e-01]], device='cuda:0')),\n",
       "             ('RNN_layer.weight_hh_l0',\n",
       "              tensor([[-0.4502, -0.0572, -0.2031,  ..., -0.1551,  0.0523, -0.1695],\n",
       "                      [-0.0814, -0.4613, -0.1111,  ..., -0.0268, -0.0094, -0.2520],\n",
       "                      [ 0.0196, -0.0430, -0.1224,  ...,  0.3012, -0.0557, -0.1092],\n",
       "                      ...,\n",
       "                      [ 0.0309, -0.0523,  0.3242,  ..., -0.3381, -0.2077,  0.0575],\n",
       "                      [-0.0524,  0.1094,  0.1877,  ...,  0.1321, -0.1839, -0.0140],\n",
       "                      [ 0.0234, -0.1200, -0.0735,  ...,  0.1487,  0.0068, -0.1879]],\n",
       "                     device='cuda:0')),\n",
       "             ('RNN_layer.bias_ih_l0',\n",
       "              tensor([-0.0868, -0.1199, -0.0193,  0.0328, -0.0508, -0.1069,  0.0045,  0.0335,\n",
       "                       0.1042,  0.0911, -0.1099,  0.0213,  0.0692, -0.0064, -0.0378,  0.1201,\n",
       "                       0.0012, -0.0127, -0.0158,  0.0450,  0.0414,  0.0459, -0.1204,  0.0210,\n",
       "                       0.1474, -0.0206,  0.0538, -0.1286, -0.0392, -0.0545,  0.0740,  0.0011],\n",
       "                     device='cuda:0')),\n",
       "             ('RNN_layer.bias_hh_l0',\n",
       "              tensor([ 0.0416,  0.0699, -0.0982,  0.0742,  0.0536,  0.1397, -0.1213, -0.0425,\n",
       "                      -0.0891,  0.0819, -0.0114, -0.0097,  0.0637,  0.0775,  0.0467, -0.0504,\n",
       "                      -0.0148, -0.0131,  0.0554, -0.0901,  0.0738,  0.0375,  0.1045,  0.0359,\n",
       "                      -0.1340,  0.0005, -0.0602,  0.0842,  0.0283, -0.0201, -0.0855,  0.0435],\n",
       "                     device='cuda:0')),\n",
       "             ('linear_post_rnn.weight',\n",
       "              tensor([[ 3.1699e-05,  1.8070e-05, -2.9846e-04, -2.0921e-04, -2.3639e-05,\n",
       "                        1.6927e-04,  8.7622e-04, -7.0414e-07,  2.3696e-04,  6.3952e-06,\n",
       "                        1.4242e-04,  6.8951e-06,  1.3125e-03, -6.4379e-05,  4.0132e-05,\n",
       "                        1.1604e-05, -5.0481e-05, -1.5871e-04,  4.1738e-04, -1.9004e-04,\n",
       "                        3.3420e-04,  1.4637e-04, -1.8485e-04,  7.9809e-05, -1.3285e-04,\n",
       "                       -1.1879e-04,  1.7192e-04,  4.4917e-04,  4.9060e-05, -1.2610e-04,\n",
       "                        8.2578e-05,  2.0158e-04]], device='cuda:0')),\n",
       "             ('linear_post_rnn.bias', tensor([0.0001], device='cuda:0'))])"
      ]
     },
     "execution_count": 55,
     "metadata": {},
     "output_type": "execute_result"
    }
   ],
   "source": [
    "training.reg_training_loop_rmspe(optimizer=optimizer_norm_ts,model=RNN_model_norm_ts,train_loader=train_loader,val_loader=test_loader,list_train_loss=train_loss,list_val_loss=val_loss,device=device,n_epochs=200,ot_steps=20,report_interval=5,eps=0,scaler=1)"
   ]
  },
  {
   "cell_type": "markdown",
   "id": "e6d7684d",
   "metadata": {},
   "source": [
    "As a remark, I ran above loop twice, the keep learning to same model after the fact. "
   ]
  },
  {
   "cell_type": "code",
   "execution_count": 56,
   "id": "ef1351bc",
   "metadata": {},
   "outputs": [
    {
     "name": "stdout",
     "output_type": "stream",
     "text": [
      "frozen_conv.frozen_conv.weight False\n",
      "linear_proj_input.weight True\n",
      "linear_proj_input.bias True\n",
      "RNN_layer.weight_ih_l0 True\n",
      "RNN_layer.weight_hh_l0 True\n",
      "RNN_layer.bias_ih_l0 True\n",
      "RNN_layer.bias_hh_l0 True\n",
      "linear_post_rnn.weight True\n",
      "linear_post_rnn.bias True\n"
     ]
    }
   ],
   "source": [
    "for name,param in RNN_model_norm_ts.named_parameters():\n",
    "    print(name,param.requires_grad)"
   ]
  },
  {
   "cell_type": "code",
   "execution_count": 57,
   "id": "2bb082d5",
   "metadata": {},
   "outputs": [],
   "source": [
    "train_loss=[x.cpu() for x in train_loss]\n",
    "val_loss=[x.cpu() for x in val_loss]"
   ]
  },
  {
   "cell_type": "code",
   "execution_count": 66,
   "id": "1802af02",
   "metadata": {},
   "outputs": [
    {
     "data": {
      "text/plain": [
       "57"
      ]
     },
     "execution_count": 66,
     "metadata": {},
     "output_type": "execute_result"
    }
   ],
   "source": [
    "len(train_loss)"
   ]
  },
  {
   "cell_type": "code",
   "execution_count": 58,
   "id": "b022072c",
   "metadata": {},
   "outputs": [
    {
     "data": {
      "text/plain": [
       "<matplotlib.collections.PathCollection at 0x7fd07d2c3b20>"
      ]
     },
     "execution_count": 58,
     "metadata": {},
     "output_type": "execute_result"
    },
    {
     "data": {
      "image/png": "[encoded data removed]",
      "text/plain": [
       "<Figure size 640x480 with 1 Axes>"
      ]
     },
     "metadata": {},
     "output_type": "display_data"
    }
   ],
   "source": [
    "import matplotlib.pyplot as plt \n",
    "\n",
    "x=np.arange(len(train_loss))\n",
    "\n",
    "plt.scatter(x,train_loss,c=\"blue\")\n",
    "plt.scatter(x,val_loss,c=\"orange\")"
   ]
  },
  {
   "cell_type": "markdown",
   "id": "cb605a91",
   "metadata": {},
   "source": [
    "It appears that only normalizing input ts is not a good idea. I should consider normalizing both the input and the target. Plus, in above, I fit transformed on both the training and the test set together, that is technically a data leak. "
   ]
  },
  {
   "cell_type": "markdown",
   "id": "2ef78913",
   "metadata": {},
   "source": [
    "## Training with normalization on both input and target "
   ]
  },
  {
   "cell_type": "markdown",
   "id": "64325299",
   "metadata": {},
   "source": [
    "I have added normalization functionality to dataset creation function, so not we can create the train and test datasets without dataleaking. "
   ]
  },
  {
   "cell_type": "code",
   "execution_count": 190,
   "id": "c3ffa765",
   "metadata": {},
   "outputs": [],
   "source": [
    "RNN_model_norm_ts=training.RV_RNN_conv(n_diff=4,rnn_act=\"tanh\",rnn_drop_out=0,rnn_hidden_size=32,proj_dim=32,rnn_num_layer=1,input_scaler=1).to(device=device)"
   ]
  },
  {
   "cell_type": "code",
   "execution_count": 191,
   "id": "1190590d",
   "metadata": {},
   "outputs": [],
   "source": [
    "optimizer_norm_ts=optim.Adam(RNN_model_norm_ts.parameters(),lr=1e-3)"
   ]
  },
  {
   "cell_type": "code",
   "execution_count": 192,
   "id": "2a6245db",
   "metadata": {},
   "outputs": [
    {
     "name": "stderr",
     "output_type": "stream",
     "text": [
      "/home/machine2/Desktop/Realized_Volatility_Prediction_-erdos_deeplearning-/NNetwork/../proj_mod/training.py:324: SettingWithCopyWarning: \n",
      "A value is trying to be set on a copy of a slice from a DataFrame.\n",
      "Try using .loc[row_indexer,col_indexer] = value instead\n",
      "\n",
      "See the caveats in the documentation: https://pandas.pydata.org/pandas-docs/stable/user_guide/indexing.html#returning-a-view-versus-a-copy\n",
      "  df_whole_pv_dna=pd.merge(df_ts_pv,df_tab_pv,on=\"row_id\").dropna(axis=\"rows\")\n"
     ]
    },
    {
     "name": "stdout",
     "output_type": "stream",
     "text": [
      "Notice: sub_int_RV has been normalized.\n",
      "The mean and std of this feature has been stored in feat_norm_dict\n",
      "Notice: target has been normalized.\n",
      "The mean and std of this feature has been stored in feat_norm_dict\n"
     ]
    }
   ],
   "source": [
    "train_dataset=training.RVdataset(time_id_list=train_time_id,ts_features=[\"sub_int_RV\"],df_ts_feat=df_RV_ts,df_target=df_target,norm_feature_dict={\"sub_int_RV\":None,\"target\":None})"
   ]
  },
  {
   "cell_type": "code",
   "execution_count": 193,
   "id": "4d97d6ba",
   "metadata": {},
   "outputs": [
    {
     "data": {
      "text/plain": [
       "{'sub_int_RV': (np.float64(0.0004411965933048684),\n",
       "  np.float64(0.0005610956509180131)),\n",
       " 'target': (np.float64(0.0038471398027541486),\n",
       "  np.float64(0.0029489987966883967))}"
      ]
     },
     "execution_count": 193,
     "metadata": {},
     "output_type": "execute_result"
    }
   ],
   "source": [
    "train_dataset.feat_norm_dict"
   ]
  },
  {
   "cell_type": "code",
   "execution_count": 194,
   "id": "8b790b76",
   "metadata": {},
   "outputs": [],
   "source": [
    "test_norm_feat_dict=copy.deepcopy(train_dataset.feat_norm_dict) "
   ]
  },
  {
   "cell_type": "code",
   "execution_count": 195,
   "id": "40163bda",
   "metadata": {},
   "outputs": [
    {
     "data": {
      "text/plain": [
       "(np.float64(0.0038471398027541486), np.float64(0.0029489987966883967))"
      ]
     },
     "execution_count": 195,
     "metadata": {},
     "output_type": "execute_result"
    }
   ],
   "source": [
    "test_norm_feat_dict.pop(\"target\")"
   ]
  },
  {
   "cell_type": "code",
   "execution_count": 196,
   "id": "630660e8",
   "metadata": {},
   "outputs": [
    {
     "data": {
      "text/plain": [
       "{'sub_int_RV': (np.float64(0.0004411965933048684),\n",
       "  np.float64(0.0005610956509180131)),\n",
       " 'target': (np.float64(0.0038471398027541486),\n",
       "  np.float64(0.0029489987966883967))}"
      ]
     },
     "execution_count": 196,
     "metadata": {},
     "output_type": "execute_result"
    }
   ],
   "source": [
    "train_dataset.feat_norm_dict"
   ]
  },
  {
   "cell_type": "code",
   "execution_count": 197,
   "id": "ee121136",
   "metadata": {},
   "outputs": [
    {
     "data": {
      "text/plain": [
       "{'sub_int_RV': (np.float64(0.0004411965933048684),\n",
       "  np.float64(0.0005610956509180131))}"
      ]
     },
     "execution_count": 197,
     "metadata": {},
     "output_type": "execute_result"
    }
   ],
   "source": [
    "test_norm_feat_dict"
   ]
  },
  {
   "cell_type": "markdown",
   "id": "9622afc7",
   "metadata": {},
   "source": [
    "As a reminder, do not apply normalization to target of test set. I am choosing to force the target input features to share the same mean and std as the test dataset's corresponding features. "
   ]
  },
  {
   "cell_type": "code",
   "execution_count": 198,
   "id": "de12b187",
   "metadata": {},
   "outputs": [
    {
     "name": "stdout",
     "output_type": "stream",
     "text": [
      "Notice: sub_int_RV has been normalized.\n",
      "The mean and std of this feature has been stored in feat_norm_dict\n"
     ]
    },
    {
     "name": "stderr",
     "output_type": "stream",
     "text": [
      "/home/machine2/Desktop/Realized_Volatility_Prediction_-erdos_deeplearning-/NNetwork/../proj_mod/training.py:324: SettingWithCopyWarning: \n",
      "A value is trying to be set on a copy of a slice from a DataFrame.\n",
      "Try using .loc[row_indexer,col_indexer] = value instead\n",
      "\n",
      "See the caveats in the documentation: https://pandas.pydata.org/pandas-docs/stable/user_guide/indexing.html#returning-a-view-versus-a-copy\n",
      "  df_whole_pv_dna=pd.merge(df_ts_pv,df_tab_pv,on=\"row_id\").dropna(axis=\"rows\")\n"
     ]
    }
   ],
   "source": [
    "test_dataset=training.RVdataset(time_id_list=test_time_id,ts_features=[\"sub_int_RV\"],df_ts_feat=df_RV_ts,df_target=df_target,norm_feature_dict=test_norm_feat_dict)"
   ]
  },
  {
   "cell_type": "code",
   "execution_count": 199,
   "id": "0f6a5622",
   "metadata": {},
   "outputs": [],
   "source": [
    "train_loader=torch.utils.data.DataLoader(dataset=train_dataset,batch_size=256,shuffle=True)\n",
    "test_loader=torch.utils.data.DataLoader(dataset=test_dataset,batch_size=256,shuffle=True)"
   ]
  },
  {
   "cell_type": "code",
   "execution_count": 200,
   "id": "8c799fee",
   "metadata": {},
   "outputs": [],
   "source": [
    "train_loss=[]\n",
    "val_loss=[]"
   ]
  },
  {
   "cell_type": "code",
   "execution_count": 201,
   "id": "8f5ab2f5",
   "metadata": {},
   "outputs": [
    {
     "name": "stdout",
     "output_type": "stream",
     "text": [
      "At  2.6898677349090576  epoch  1 has training loss  tensor(0.5225, device='cuda:0')  and validation loss  tensor(0.2701, device='cuda:0') .\n",
      "\n",
      "At  13.334021091461182  epoch  5 has training loss  tensor(0.2698, device='cuda:0')  and validation loss  tensor(0.2405, device='cuda:0') .\n",
      "\n",
      "At  27.14174461364746  epoch  10 has training loss  tensor(0.2601, device='cuda:0')  and validation loss  tensor(0.2378, device='cuda:0') .\n",
      "\n",
      "At  40.86601209640503  epoch  15 has training loss  tensor(0.2571, device='cuda:0')  and validation loss  tensor(0.2376, device='cuda:0') .\n",
      "\n",
      "At  54.34972524642944  epoch  20 has training loss  tensor(0.2563, device='cuda:0')  and validation loss  tensor(0.2367, device='cuda:0') .\n",
      "\n",
      "At  68.93456530570984  epoch  25 has training loss  tensor(0.2565, device='cuda:0')  and validation loss  tensor(0.2374, device='cuda:0') .\n",
      "\n",
      "At  82.71377658843994  epoch  30 has training loss  tensor(0.2558, device='cuda:0')  and validation loss  tensor(0.2372, device='cuda:0') .\n",
      "\n",
      "The validation loss has not improved for  20  epochs. Stopping current training loop.\n",
      "\n",
      "Best model state dictionary of this training loop is reloaded.\n",
      "\n",
      "According to validation loss, the best model is reached at epoch 11  with validation loss:  tensor(0.2356, device='cuda:0') .\n",
      " The total number of epoch trained is  31 .\n",
      " Training completed in:  85.40374302864075 .\n",
      "\n"
     ]
    },
    {
     "data": {
      "text/plain": [
       "OrderedDict([('frozen_conv.frozen_conv.weight',\n",
       "              tensor([[[-1.,  1.]]], device='cuda:0')),\n",
       "             ('linear_proj_input.weight',\n",
       "              tensor([[ 0.2627, -0.2206,  0.5197,  0.2868,  0.2761],\n",
       "                      [ 0.0648, -0.1319, -0.3829, -0.2078, -0.0508],\n",
       "                      [ 0.1711, -0.4481, -0.4151, -0.0360,  0.1213],\n",
       "                      [ 0.3005,  0.7172,  0.1621,  0.3056, -0.3716],\n",
       "                      [ 0.2696, -0.7922, -0.0776,  0.1457, -0.3060],\n",
       "                      [ 0.1616,  0.5800,  0.5489, -0.0974, -0.1805],\n",
       "                      [ 0.2192, -0.6146, -0.5099,  0.1171,  0.0296],\n",
       "                      [ 0.1563, -0.4378,  0.0431,  0.2210, -0.3875],\n",
       "                      [ 0.0191, -0.1619, -0.1135, -0.0143, -0.0737],\n",
       "                      [-0.0346,  0.0979, -0.3353, -0.1638, -0.0153],\n",
       "                      [-0.1278, -0.0767,  0.1895, -0.0360, -0.1317],\n",
       "                      [-0.0106, -0.4260,  0.0853, -0.1074, -0.1160],\n",
       "                      [ 0.2242,  0.0838,  0.2800,  0.1939, -0.0882],\n",
       "                      [-0.0151,  0.2627, -0.0807,  0.1391,  0.1945],\n",
       "                      [-0.1204, -0.4106, -0.0698,  0.4132,  0.2422],\n",
       "                      [ 0.0014, -0.0197, -0.0586, -0.0371, -0.0117],\n",
       "                      [-0.4407, -0.8041,  0.1079, -0.0097, -0.1569],\n",
       "                      [ 0.1369,  0.7717,  0.1749, -0.0880,  0.0141],\n",
       "                      [-0.2244, -0.5144, -0.3802,  0.0841,  0.2931],\n",
       "                      [-0.0177,  0.6688, -0.1303, -0.1975,  0.0780],\n",
       "                      [ 0.3691,  0.3933, -0.0165, -0.0347,  0.0015],\n",
       "                      [-0.1067, -0.0119,  0.0709, -0.2542, -0.3250],\n",
       "                      [ 0.3248, -0.0178,  0.4446, -0.4324, -0.0296],\n",
       "                      [ 0.0640, -0.1950, -0.2156,  0.2956,  0.2932],\n",
       "                      [-0.2894, -0.0806,  0.0479,  0.2667, -0.2006],\n",
       "                      [-0.2902,  0.1691,  0.4975,  0.3598, -0.1383],\n",
       "                      [-0.0593, -0.0494, -0.2019, -0.3801, -0.2338],\n",
       "                      [ 0.3579,  0.4490,  0.4561,  0.2170, -0.0604],\n",
       "                      [-0.0941, -0.1384,  0.0632, -0.3969,  0.0851],\n",
       "                      [-0.0189,  0.0916,  0.2350,  0.3435,  0.1484],\n",
       "                      [-0.0025, -0.3809, -0.4149, -0.0897,  0.0078],\n",
       "                      [-0.1204, -0.6309, -0.4735,  0.0243, -0.2124]], device='cuda:0')),\n",
       "             ('linear_proj_input.bias',\n",
       "              tensor([-0.1184,  0.0286,  0.0943, -0.0719,  0.1210, -0.1309,  0.1087,  0.0460,\n",
       "                       0.0035, -0.0199, -0.0728,  0.0781,  0.1526, -0.0034, -0.0619, -0.0009,\n",
       "                      -0.2076,  0.0470, -0.1594, -0.3214,  0.2005, -0.0664, -0.1967,  0.0397,\n",
       "                      -0.1671, -0.1662, -0.0363, -0.1583,  0.0601, -0.0075, -0.0015,  0.0690],\n",
       "                     device='cuda:0')),\n",
       "             ('RNN_layer.weight_ih_l0',\n",
       "              tensor([[-0.0737, -0.0286, -0.0282,  ...,  0.1204,  0.0017, -0.1161],\n",
       "                      [ 0.1474,  0.1602, -0.2286,  ..., -0.0724, -0.0498, -0.1034],\n",
       "                      [ 0.0612,  0.0237,  0.1189,  ...,  0.0276,  0.0360,  0.0412],\n",
       "                      ...,\n",
       "                      [ 0.1249, -0.3130, -0.1970,  ...,  0.0495, -0.1351, -0.1423],\n",
       "                      [-0.0886, -0.0322, -0.1906,  ...,  0.1398, -0.0983,  0.0665],\n",
       "                      [-0.0043,  0.1341,  0.0765,  ...,  0.0741, -0.0293, -0.1369]],\n",
       "                     device='cuda:0')),\n",
       "             ('RNN_layer.weight_hh_l0',\n",
       "              tensor([[-0.1895, -0.0594, -0.0215,  ..., -0.2617,  0.2027,  0.0856],\n",
       "                      [-0.0672, -0.3342, -0.1581,  ...,  0.1365,  0.1601, -0.0197],\n",
       "                      [ 0.0601, -0.1033, -0.3444,  ...,  0.1922, -0.0840,  0.2269],\n",
       "                      ...,\n",
       "                      [-0.0961, -0.0212, -0.0008,  ..., -0.3447,  0.1249,  0.1260],\n",
       "                      [-0.0278, -0.2637,  0.0896,  ...,  0.0788,  0.6341,  0.0218],\n",
       "                      [-0.0851,  0.0073, -0.2826,  ..., -0.0943,  0.1422, -0.3483]],\n",
       "                     device='cuda:0')),\n",
       "             ('RNN_layer.bias_ih_l0',\n",
       "              tensor([ 0.1257,  0.1285,  0.0056,  0.0072,  0.0981, -0.0419, -0.0503, -0.0593,\n",
       "                      -0.0561, -0.1627, -0.0562, -0.0970,  0.0416,  0.1311,  0.1716, -0.0104,\n",
       "                       0.0958, -0.0908, -0.0258, -0.0615, -0.0663,  0.1170,  0.1220,  0.0765,\n",
       "                      -0.0244, -0.0866,  0.0323,  0.0243, -0.0364, -0.0223, -0.1194,  0.0786],\n",
       "                     device='cuda:0')),\n",
       "             ('RNN_layer.bias_hh_l0',\n",
       "              tensor([-0.1000,  0.0082, -0.1038,  0.0070, -0.0460, -0.0015, -0.0904, -0.0403,\n",
       "                       0.0361, -0.0229,  0.0154,  0.0835, -0.0775,  0.1120, -0.1352,  0.0151,\n",
       "                      -0.0686, -0.0858, -0.0893,  0.0849, -0.0679, -0.1626, -0.1585, -0.0967,\n",
       "                       0.0153,  0.0543,  0.0920, -0.0517,  0.0156, -0.0064,  0.0820, -0.0590],\n",
       "                     device='cuda:0')),\n",
       "             ('linear_post_rnn.weight',\n",
       "              tensor([[-0.0074,  0.0067,  0.0007, -0.0105, -0.0001,  0.0014,  0.0036,  0.0019,\n",
       "                       -0.0045,  0.0272,  0.0021, -0.0205, -0.0012, -0.0250, -0.0017, -0.0031,\n",
       "                       -0.0158,  0.0583, -0.0011,  0.0134, -0.0030, -0.0029, -0.0053,  0.0043,\n",
       "                       -0.0129,  0.0281, -0.0078,  0.0022,  0.0098, -0.0047, -0.0021, -0.0034]],\n",
       "                     device='cuda:0')),\n",
       "             ('linear_post_rnn.bias', tensor([0.0122], device='cuda:0'))])"
      ]
     },
     "execution_count": 201,
     "metadata": {},
     "output_type": "execute_result"
    }
   ],
   "source": [
    "training.reg_training_loop_rmspe(optimizer=optimizer_norm_ts,model=RNN_model_norm_ts,train_loader=train_loader,val_loader=test_loader,list_train_loss=train_loss,list_val_loss=val_loss,device=device,n_epochs=200,ot_steps=20,report_interval=5,eps=0,scaler=1,norm_train_target=True)"
   ]
  },
  {
   "cell_type": "markdown",
   "id": "ea81cbbb",
   "metadata": {},
   "source": [
    "Oh this over trained quickly. "
   ]
  },
  {
   "cell_type": "code",
   "execution_count": 202,
   "id": "0703dbac",
   "metadata": {},
   "outputs": [
    {
     "name": "stdout",
     "output_type": "stream",
     "text": [
      "frozen_conv.frozen_conv.weight False\n",
      "linear_proj_input.weight True\n",
      "linear_proj_input.bias True\n",
      "RNN_layer.weight_ih_l0 True\n",
      "RNN_layer.weight_hh_l0 True\n",
      "RNN_layer.bias_ih_l0 True\n",
      "RNN_layer.bias_hh_l0 True\n",
      "linear_post_rnn.weight True\n",
      "linear_post_rnn.bias True\n"
     ]
    }
   ],
   "source": [
    "for name,param in RNN_model_norm_ts.named_parameters():\n",
    "    print(name,param.requires_grad)"
   ]
  },
  {
   "cell_type": "code",
   "execution_count": 203,
   "id": "20ecaf78",
   "metadata": {},
   "outputs": [],
   "source": [
    "train_loss=[x.cpu() for x in train_loss]\n",
    "val_loss=[x.cpu() for x in val_loss]"
   ]
  },
  {
   "cell_type": "code",
   "execution_count": 204,
   "id": "b859c9b7",
   "metadata": {},
   "outputs": [
    {
     "data": {
      "text/plain": [
       "<matplotlib.collections.PathCollection at 0x7ff63819d960>"
      ]
     },
     "execution_count": 204,
     "metadata": {},
     "output_type": "execute_result"
    },
    {
     "data": {
      "image/png": "[encoded data removed]",
      "text/plain": [
       "<Figure size 640x480 with 1 Axes>"
      ]
     },
     "metadata": {},
     "output_type": "display_data"
    }
   ],
   "source": [
    "import matplotlib.pyplot as plt \n",
    "\n",
    "x=np.linspace(1,len(train_loss),len(train_loss))\n",
    "\n",
    "plt.scatter(x,train_loss,c=\"blue\")\n",
    "plt.scatter(x,val_loss,c=\"orange\")"
   ]
  },
  {
   "cell_type": "markdown",
   "id": "7e44b27b",
   "metadata": {},
   "source": [
    "As of now, the best outcome comes with \"scaling\" the input timeseries by 10000. Maybe adjust the NN a bit? add some linear and conv layers after the RNN? Multiple layers of RNN? We will see. "
   ]
  }
 ],
 "metadata": {
  "kernelspec": {
   "display_name": "Python 3 (ipykernel)",
   "language": "python",
   "name": "python3"
  },
  "language_info": {
   "codemirror_mode": {
    "name": "ipython",
    "version": 3
   },
   "file_extension": ".py",
   "mimetype": "text/x-python",
   "name": "python",
   "nbconvert_exporter": "python",
   "pygments_lexer": "ipython3",
   "version": "3.10.12"
  }
 },
 "nbformat": 4,
 "nbformat_minor": 5
}
