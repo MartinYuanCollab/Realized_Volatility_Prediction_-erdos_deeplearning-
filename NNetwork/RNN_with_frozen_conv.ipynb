{
 "cells": [
  {
   "cell_type": "markdown",
   "id": "e77e9ebe",
   "metadata": {},
   "source": [
    "## RNN with frozen convolution layer. "
   ]
  },
  {
   "cell_type": "markdown",
   "id": "5a6b854e",
   "metadata": {},
   "source": [
    "The idea is inspired by an application of RNN in predicting if an online review (say, for a product) is positive or negative (1 or 0). Each word in the review sentence is first projected to a large dimension vector space and then sent into an RNN network sequentially. "
   ]
  },
  {
   "cell_type": "markdown",
   "id": "f3f6b66b",
   "metadata": {},
   "source": [
    "We will make use of frozen convolution layer to create derivative like features for our time series features. Then, we use the derivative values of a certain time as if a \"word\" in a \"review\", the target RV as if the \"score\" of the \"review\" to train an RNN network that predicts the target RV with the time series features. "
   ]
  },
  {
   "cell_type": "markdown",
   "id": "d1bd88f7",
   "metadata": {},
   "source": [
    "## Example"
   ]
  },
  {
   "cell_type": "code",
   "execution_count": 1,
   "id": "907e47ab",
   "metadata": {},
   "outputs": [],
   "source": [
    "import sys, importlib\n",
    "import torch \n",
    "import torch.nn as nn\n",
    "import numpy as np\n",
    "import pandas as pd\n",
    "import copy\n",
    "import time\n",
    "\n",
    "sys.path.append(\"../\")\n",
    "from proj_mod import training, data_processing\n",
    "importlib.reload(training);\n",
    "importlib.reload(data_processing);"
   ]
  },
  {
   "cell_type": "code",
   "execution_count": 2,
   "id": "8ef8d13b-6c6f-4cac-b98c-105c0941a447",
   "metadata": {},
   "outputs": [
    {
     "data": {
      "text/plain": [
       "device(type='cuda')"
      ]
     },
     "execution_count": 2,
     "metadata": {},
     "output_type": "execute_result"
    }
   ],
   "source": [
    "device = torch.device(\"cuda\" if torch.cuda.is_available() else \"cpu\")\n",
    "device"
   ]
  },
  {
   "cell_type": "markdown",
   "id": "e12efccd",
   "metadata": {},
   "source": [
    "Below is what Yuan needed to get his gpu working, do not run if you do not need it. "
   ]
  },
  {
   "cell_type": "raw",
   "id": "d19d5a3a-dc13-4ea8-b759-1a7d2ba08f81",
   "metadata": {},
   "source": [
    "from dotenv import load_dotenv\n",
    "import os\n",
    "\n",
    "load_dotenv(\"../dotenv_env/deep_learning.env\")"
   ]
  },
  {
   "cell_type": "raw",
   "id": "e1bc2da4-b065-439a-8faf-e282b2ee24a6",
   "metadata": {},
   "source": [
    "print(os.environ.get(\"HSA_OVERRIDE_GFX_VERSION\"))"
   ]
  },
  {
   "cell_type": "markdown",
   "id": "45cb26cd",
   "metadata": {},
   "source": [
    "Let's say, we have following timeseries feature (created randomly), we will create the derivative features first. As a reminder, the zero dimension is the batch size, the dimension one is channel (needed for the first convolution layer, not really a \"thing\" for time series like features). "
   ]
  },
  {
   "cell_type": "code",
   "execution_count": 3,
   "id": "eb3d0064",
   "metadata": {},
   "outputs": [],
   "source": [
    "ts_feature=torch.randn(1,1,60)"
   ]
  },
  {
   "cell_type": "code",
   "execution_count": 4,
   "id": "b28d5ce8",
   "metadata": {},
   "outputs": [
    {
     "data": {
      "text/plain": [
       "tensor([[[-0.5577,  0.7130,  1.3506, -1.5546,  0.3281,  0.9122,  0.4965,\n",
       "           0.6177, -1.2331,  0.9436, -0.6563, -0.2899, -0.4059,  1.1815,\n",
       "          -0.5097, -0.1566, -0.7031,  1.1402,  1.0926, -0.3847,  2.3373,\n",
       "          -1.5838,  0.6909, -1.1103,  0.7288, -1.7757,  0.0241,  1.0242,\n",
       "          -0.6571,  0.1368, -1.3972,  0.7094, -1.1373,  0.3374,  1.7012,\n",
       "           2.3106, -0.9056,  0.7240, -0.4777,  1.3106,  0.7943, -0.2757,\n",
       "          -1.0394, -0.8101, -0.4421, -1.4641,  0.0069,  1.4155,  1.4152,\n",
       "           0.1695,  1.4291, -0.3199, -1.9401, -2.0056,  1.0310,  1.5263,\n",
       "          -0.7727,  1.3345, -0.4410, -1.9410]]])"
      ]
     },
     "execution_count": 4,
     "metadata": {},
     "output_type": "execute_result"
    }
   ],
   "source": [
    "ts_feature"
   ]
  },
  {
   "cell_type": "code",
   "execution_count": 5,
   "id": "739b2fa7",
   "metadata": {},
   "outputs": [],
   "source": [
    "conv_create_diff=training.frozen_diff_conv(n_diff=4)\n",
    "ts_diff_feature=conv_create_diff(ts_feature)"
   ]
  },
  {
   "cell_type": "code",
   "execution_count": 6,
   "id": "c48f9ca2",
   "metadata": {
    "scrolled": true
   },
   "outputs": [
    {
     "data": {
      "text/plain": [
       "tensor([[[-5.5775e-01,  7.1296e-01,  1.3506e+00, -1.5546e+00,  3.2810e-01,\n",
       "           9.1217e-01,  4.9651e-01,  6.1770e-01, -1.2331e+00,  9.4364e-01,\n",
       "          -6.5634e-01, -2.8991e-01, -4.0593e-01,  1.1815e+00, -5.0972e-01,\n",
       "          -1.5659e-01, -7.0315e-01,  1.1402e+00,  1.0926e+00, -3.8470e-01,\n",
       "           2.3373e+00, -1.5838e+00,  6.9093e-01, -1.1103e+00,  7.2877e-01,\n",
       "          -1.7757e+00,  2.4134e-02,  1.0242e+00, -6.5708e-01,  1.3678e-01,\n",
       "          -1.3972e+00,  7.0943e-01, -1.1373e+00,  3.3745e-01,  1.7012e+00,\n",
       "           2.3106e+00, -9.0558e-01,  7.2397e-01, -4.7765e-01,  1.3106e+00,\n",
       "           7.9435e-01, -2.7569e-01, -1.0394e+00, -8.1008e-01, -4.4211e-01,\n",
       "          -1.4641e+00,  6.9265e-03,  1.4155e+00,  1.4152e+00,  1.6947e-01,\n",
       "           1.4291e+00, -3.1987e-01, -1.9401e+00, -2.0056e+00,  1.0310e+00,\n",
       "           1.5263e+00, -7.7269e-01,  1.3345e+00, -4.4095e-01, -1.9410e+00],\n",
       "         [ 1.2707e+00,  6.3766e-01, -2.9052e+00,  1.8827e+00,  5.8407e-01,\n",
       "          -4.1565e-01,  1.2119e-01, -1.8508e+00,  2.1768e+00, -1.6000e+00,\n",
       "           3.6643e-01, -1.1602e-01,  1.5874e+00, -1.6912e+00,  3.5313e-01,\n",
       "          -5.4655e-01,  1.8433e+00, -4.7559e-02, -1.4773e+00,  2.7220e+00,\n",
       "          -3.9212e+00,  2.2747e+00, -1.8012e+00,  1.8390e+00, -2.5045e+00,\n",
       "           1.7998e+00,  1.0000e+00, -1.6812e+00,  7.9386e-01, -1.5339e+00,\n",
       "           2.1066e+00, -1.8467e+00,  1.4747e+00,  1.3638e+00,  6.0939e-01,\n",
       "          -3.2162e+00,  1.6295e+00, -1.2016e+00,  1.7883e+00, -5.1630e-01,\n",
       "          -1.0700e+00, -7.6369e-01,  2.2930e-01,  3.6797e-01, -1.0220e+00,\n",
       "           1.4710e+00,  1.4086e+00, -2.8634e-04, -1.2457e+00,  1.2596e+00,\n",
       "          -1.7489e+00, -1.6202e+00, -6.5531e-02,  3.0366e+00,  4.9528e-01,\n",
       "          -2.2989e+00,  2.1072e+00, -1.7755e+00, -1.5001e+00,  0.0000e+00],\n",
       "         [-6.3305e-01, -3.5429e+00,  4.7880e+00, -1.2987e+00, -9.9972e-01,\n",
       "           5.3684e-01, -1.9720e+00,  4.0276e+00, -3.7767e+00,  1.9664e+00,\n",
       "          -4.8246e-01,  1.7034e+00, -3.2786e+00,  2.0443e+00, -8.9969e-01,\n",
       "           2.3899e+00, -1.8909e+00, -1.4297e+00,  4.1994e+00, -6.6432e+00,\n",
       "           6.1959e+00, -4.0759e+00,  3.6402e+00, -4.3435e+00,  4.3043e+00,\n",
       "          -7.9981e-01, -2.6813e+00,  2.4751e+00, -2.3278e+00,  3.6405e+00,\n",
       "          -3.9533e+00,  3.3214e+00, -1.1095e-01, -7.5438e-01, -3.8256e+00,\n",
       "           4.8457e+00, -2.8312e+00,  2.9899e+00, -2.3046e+00, -5.5373e-01,\n",
       "           3.0635e-01,  9.9299e-01,  1.3867e-01, -1.3900e+00,  2.4930e+00,\n",
       "          -6.2478e-02, -1.4088e+00, -1.2454e+00,  2.5053e+00, -3.0085e+00,\n",
       "           1.2869e-01,  1.5547e+00,  3.1022e+00, -2.5413e+00, -2.7942e+00,\n",
       "           4.4062e+00, -3.8827e+00,  2.7543e-01,  0.0000e+00,  0.0000e+00],\n",
       "         [-2.9099e+00,  8.3309e+00, -6.0866e+00,  2.9893e-01,  1.5366e+00,\n",
       "          -2.5089e+00,  5.9996e+00, -7.8043e+00,  5.7432e+00, -2.4489e+00,\n",
       "           2.1859e+00, -4.9820e+00,  5.3229e+00, -2.9440e+00,  3.2895e+00,\n",
       "          -4.2807e+00,  4.6112e-01,  5.6291e+00, -1.0843e+01,  1.2839e+01,\n",
       "          -1.0272e+01,  7.7161e+00, -7.9837e+00,  8.6478e+00, -5.1041e+00,\n",
       "          -1.8815e+00,  5.1564e+00, -4.8029e+00,  5.9683e+00, -7.5938e+00,\n",
       "           7.2748e+00, -3.4324e+00, -6.4343e-01, -3.0712e+00,  8.6713e+00,\n",
       "          -7.6769e+00,  5.8211e+00, -5.2945e+00,  1.7509e+00,  8.6008e-01,\n",
       "           6.8664e-01, -8.5432e-01, -1.5286e+00,  3.8830e+00, -2.5555e+00,\n",
       "          -1.3464e+00,  1.6340e-01,  3.7508e+00, -5.5139e+00,  3.1372e+00,\n",
       "           1.4260e+00,  1.5474e+00, -5.6435e+00, -2.5288e-01,  7.2004e+00,\n",
       "          -8.2889e+00,  4.1581e+00,  0.0000e+00,  0.0000e+00,  0.0000e+00],\n",
       "         [ 1.1241e+01, -1.4417e+01,  6.3855e+00,  1.2376e+00, -4.0454e+00,\n",
       "           8.5084e+00, -1.3804e+01,  1.3547e+01, -8.1920e+00,  4.6347e+00,\n",
       "          -7.1679e+00,  1.0305e+01, -8.2669e+00,  6.2336e+00, -7.5703e+00,\n",
       "           4.7418e+00,  5.1680e+00, -1.6472e+01,  2.3682e+01, -2.3111e+01,\n",
       "           1.7988e+01, -1.5700e+01,  1.6631e+01, -1.3752e+01,  3.2226e+00,\n",
       "           7.0378e+00, -9.9593e+00,  1.0771e+01, -1.3562e+01,  1.4869e+01,\n",
       "          -1.0707e+01,  2.7890e+00, -2.4278e+00,  1.1743e+01, -1.6348e+01,\n",
       "           1.3498e+01, -1.1116e+01,  7.0454e+00, -8.9079e-01, -1.7344e-01,\n",
       "          -1.5410e+00, -6.7431e-01,  5.4116e+00, -6.4385e+00,  1.2091e+00,\n",
       "           1.5098e+00,  3.5874e+00, -9.2647e+00,  8.6511e+00, -1.7112e+00,\n",
       "           1.2141e-01, -7.1909e+00,  5.3906e+00,  7.4533e+00, -1.5489e+01,\n",
       "           1.2447e+01,  0.0000e+00,  0.0000e+00,  0.0000e+00,  0.0000e+00]]])"
      ]
     },
     "execution_count": 6,
     "metadata": {},
     "output_type": "execute_result"
    }
   ],
   "source": [
    "ts_diff_feature"
   ]
  },
  {
   "cell_type": "code",
   "execution_count": 7,
   "id": "79075913",
   "metadata": {},
   "outputs": [
    {
     "data": {
      "text/plain": [
       "torch.Size([1, 5, 60])"
      ]
     },
     "execution_count": 7,
     "metadata": {},
     "output_type": "execute_result"
    }
   ],
   "source": [
    "ts_diff_feature.shape"
   ]
  },
  {
   "cell_type": "markdown",
   "id": "1a3354b4",
   "metadata": {},
   "source": [
    "We now permute the last two dimensions, essentially, this is just a transposition of the last two dimensions. "
   ]
  },
  {
   "cell_type": "code",
   "execution_count": 8,
   "id": "76682d9f",
   "metadata": {},
   "outputs": [],
   "source": [
    "ts_diff_feature=ts_diff_feature.permute(0,2,1)"
   ]
  },
  {
   "cell_type": "code",
   "execution_count": 9,
   "id": "5ed4b060",
   "metadata": {},
   "outputs": [
    {
     "data": {
      "text/plain": [
       "torch.Size([1, 60, 5])"
      ]
     },
     "execution_count": 9,
     "metadata": {},
     "output_type": "execute_result"
    }
   ],
   "source": [
    "ts_diff_feature.shape"
   ]
  },
  {
   "cell_type": "markdown",
   "id": "e3cff150",
   "metadata": {},
   "source": [
    "Now, this is a batch (of size 1) of timeseries feature with 60 time steps, and 5 features in each step. We then expand the 5 features, say, to 32 by projection. As a reminder, nn.Linear automatically apply to the last dimension. "
   ]
  },
  {
   "cell_type": "code",
   "execution_count": 10,
   "id": "6b7d96c1",
   "metadata": {},
   "outputs": [],
   "source": [
    "linear_proj=nn.Linear(5,32)\n",
    "ts_feature_proj=linear_proj(ts_diff_feature)"
   ]
  },
  {
   "cell_type": "code",
   "execution_count": 11,
   "id": "33f82b6b",
   "metadata": {},
   "outputs": [
    {
     "data": {
      "text/plain": [
       "torch.Size([1, 60, 32])"
      ]
     },
     "execution_count": 11,
     "metadata": {},
     "output_type": "execute_result"
    }
   ],
   "source": [
    "ts_feature_proj.shape"
   ]
  },
  {
   "cell_type": "markdown",
   "id": "0e40c151",
   "metadata": {},
   "source": [
    "In this example, we will not go into too much detail, so let's make the most simple version. We then pass through a layer of RNN, then a layer of linear (to project to dimension 1 again). Learn more about RNN at https://docs.pytorch.org/docs/stable/generated/torch.nn.RNN.html. "
   ]
  },
  {
   "cell_type": "code",
   "execution_count": 12,
   "id": "f611ac42",
   "metadata": {},
   "outputs": [],
   "source": [
    "RNN_layer=nn.RNN(input_size=32,hidden_size=32,num_layers=1,nonlinearity=\"tanh\",batch_first=True,dropout=0)\n",
    "linear_end=nn.Linear(32,1)"
   ]
  },
  {
   "cell_type": "code",
   "execution_count": 13,
   "id": "207568f0",
   "metadata": {},
   "outputs": [],
   "source": [
    "RNN_out=RNN_layer(ts_feature_proj)"
   ]
  },
  {
   "cell_type": "markdown",
   "id": "4cc91386",
   "metadata": {},
   "source": [
    "As a reminder, since no training is done, the RNN basically just applies the initial weights. "
   ]
  },
  {
   "cell_type": "code",
   "execution_count": 14,
   "id": "f31dfe8d",
   "metadata": {},
   "outputs": [
    {
     "data": {
      "text/plain": [
       "torch.Size([1, 60, 32])"
      ]
     },
     "execution_count": 14,
     "metadata": {},
     "output_type": "execute_result"
    }
   ],
   "source": [
    "RNN_out[0].shape"
   ]
  },
  {
   "cell_type": "code",
   "execution_count": 15,
   "id": "e423255b",
   "metadata": {},
   "outputs": [],
   "source": [
    "out_proj=linear_end(RNN_out[0])"
   ]
  },
  {
   "cell_type": "code",
   "execution_count": 16,
   "id": "3ba4ee6e",
   "metadata": {},
   "outputs": [
    {
     "data": {
      "text/plain": [
       "torch.Size([1, 60, 1])"
      ]
     },
     "execution_count": 16,
     "metadata": {},
     "output_type": "execute_result"
    }
   ],
   "source": [
    "out_proj.shape"
   ]
  },
  {
   "cell_type": "markdown",
   "id": "22784470",
   "metadata": {},
   "source": [
    "We will use sum, but we may change this to other functions, according to context or just feeling. "
   ]
  },
  {
   "cell_type": "code",
   "execution_count": 17,
   "id": "e293bafe",
   "metadata": {},
   "outputs": [],
   "source": [
    "sum_out=torch.sum(out_proj,dim=1)"
   ]
  },
  {
   "cell_type": "code",
   "execution_count": 18,
   "id": "b35c7bc4",
   "metadata": {},
   "outputs": [
    {
     "data": {
      "text/plain": [
       "tensor([[15.7825]], grad_fn=<SumBackward1>)"
      ]
     },
     "execution_count": 18,
     "metadata": {},
     "output_type": "execute_result"
    }
   ],
   "source": [
    "sum_out"
   ]
  },
  {
   "cell_type": "markdown",
   "id": "81b9f52c",
   "metadata": {},
   "source": [
    "## Creating the actual NN "
   ]
  },
  {
   "cell_type": "code",
   "execution_count": 19,
   "id": "4d007bce",
   "metadata": {},
   "outputs": [],
   "source": [
    "#Created 07/02/25\n",
    "#07/02/25: Moved to training.py \n",
    "#07/08/25: Moved from training.py\n",
    "class RV_RNN_conv(nn.Module):        \n",
    "    #Created 07/02/25 see RNN_with_frozen_conv.ipynb for documentation. \n",
    "    #Modified 07/08/25 Added LSTM and GRU options\n",
    "    def __init__(self,n_diff,rnn_num_layer,rnn_drop_out,rnn_type=\"rnn\",rnn_act=\"tanh\",proj_dim=32,rnn_hidden_size=32,input_scaler=10000):\n",
    "        \"\"\"\n",
    "        :param n_diff: Decides how many derivative features is wanted in the time series. \n",
    "        :param rnn_num_layer: num_layer parameter for rnn. \n",
    "        :param rnn_drop_out: dropout parameter for rnn. \n",
    "        :param rnn_act: Defaulted to \"tanh\". Nonlinearity parameter for rnn. \n",
    "        :param proj_dim: Defaulted to 32. Decided the dimension of projection before feeding into rnn. \n",
    "        :param rnn_hidden_size: Defaulted to 32. The hidden_size parameter for rnn. \n",
    "        :param input_scaler: Defaulted to 10000. Set a scaling to input, a lot of timeseries values of our data are extremely close to zero. \n",
    "        :param rnn_type: 'rnn', 'lstm', or 'gru'\n",
    "        \"\"\"\n",
    "        super().__init__()\n",
    "        \n",
    "        self.input_scaler=input_scaler\n",
    "        self.frozen_conv=frozen_diff_conv(n_diff=n_diff)\n",
    "        self.linear_proj_input=nn.Linear(n_diff+1,proj_dim)\n",
    "\n",
    "        self.rnn_type = rnn_type\n",
    "\n",
    "        if rnn_type == \"rnn\":\n",
    "            self.RNN_layer=nn.RNN(input_size=proj_dim,\n",
    "                                  hidden_size=rnn_hidden_size,\n",
    "                                  num_layers=rnn_num_layer,\n",
    "                                  nonlinearity=rnn_act,\n",
    "                                  batch_first=True,\n",
    "                                  dropout=rnn_drop_out)\n",
    "        elif rnn_type == \"lstm\":\n",
    "            if rnn_act is not None:\n",
    "                print(f\"Warning: rnn_act='{rnn_act}' is ignored when using rnn_type='lstm'\")\n",
    "            self.RNN_layer = nn.LSTM(input_size=proj_dim,\n",
    "                                     hidden_size=rnn_hidden_size,\n",
    "                                     num_layers=rnn_num_layer,\n",
    "                                     batch_first=True,\n",
    "                                     dropout=rnn_drop_out)\n",
    "        elif rnn_type == \"gru\":\n",
    "            if rnn_act is not None:\n",
    "                print(f\"Warning: rnn_act='{rnn_act}' is ignored when using rnn_type='gru'\")\n",
    "            self.RNN_layer = nn.GRU(input_size=proj_dim,\n",
    "                                    hidden_size=rnn_hidden_size,\n",
    "                                    num_layers=rnn_num_layer,\n",
    "                                    batch_first=True,\n",
    "                                    dropout=rnn_drop_out)\n",
    "        else:\n",
    "            raise ValueError(f\"Unsupported rnn_type: {rnn_type}\")\n",
    "        \n",
    "        self.linear_post_rnn=nn.Linear(rnn_hidden_size,1)\n",
    "        self.frozen_list=[\"frozen_conv\"] \n",
    "        \n",
    "    def forward(self,x):\n",
    "        #First, scale the input, and unsqueese to add in one dimension in dim 1 as channel. This is needed for convolution. \n",
    "        x*=self.input_scaler\n",
    "        x=torch.unsqueeze(x,dim=1)\n",
    "        x=self.frozen_conv(x)\n",
    "        x=x.permute(0,2,1)\n",
    "        x=self.linear_proj_input(x)\n",
    "        x=self.RNN_layer(x)[0]\n",
    "        x=self.linear_post_rnn(x)\n",
    "        \n",
    "        return torch.sum(x,dim=1)/self.input_scaler\n",
    "    "
   ]
  },
  {
   "cell_type": "markdown",
   "id": "71432b31",
   "metadata": {},
   "source": [
    "## Basic testing on the RNN with frozen convolution "
   ]
  },
  {
   "cell_type": "markdown",
   "id": "a9583750",
   "metadata": {},
   "source": [
    "Test it first. As a reminder, the expected input dimensions are (Batch Size, Time Series Length), this is distinct from the example above in that the channel dimension is not present. The channel dimension is added with unsqueeze at dimension 1 so that the first convolution layer can be utilized. "
   ]
  },
  {
   "cell_type": "code",
   "execution_count": 20,
   "id": "df3d8c1f",
   "metadata": {},
   "outputs": [],
   "source": [
    "ts_feature=torch.randn(10,60)"
   ]
  },
  {
   "cell_type": "code",
   "execution_count": 21,
   "id": "a33fd643",
   "metadata": {
    "scrolled": true
   },
   "outputs": [
    {
     "data": {
      "text/plain": [
       "tensor([[ 0.3691,  0.6008, -0.7491,  0.6827, -0.0298, -0.6829,  1.1673, -0.9580,\n",
       "         -0.0426,  0.9583, -0.6718,  0.8255, -0.6608, -1.0352,  0.0733, -0.5476,\n",
       "         -0.2988,  1.1749, -0.9487, -1.5452,  0.5344,  0.4224, -0.3108, -0.2225,\n",
       "          1.0031,  0.0261,  0.3297, -0.5437, -2.6797, -0.7719, -0.3952,  1.5811,\n",
       "          0.3911, -0.0708, -0.9342, -0.1704, -0.8037, -0.1527, -0.2513,  1.2018,\n",
       "          0.4559, -0.5213,  0.9909, -0.5318,  1.1439,  0.3972,  0.5222,  0.1130,\n",
       "         -0.0846,  0.9227,  0.0876, -1.0440, -0.9952,  1.0073,  1.1305,  0.9681,\n",
       "          0.4329,  0.2897, -1.4206,  0.2871],\n",
       "        [ 0.6732,  1.4589, -0.0327,  2.3941,  0.1705,  1.4748,  0.1476,  0.4469,\n",
       "         -0.5629, -0.6084, -0.1726, -0.5009,  0.2859, -0.2576, -0.2342,  0.7011,\n",
       "         -0.3509,  1.1059, -1.0635,  1.4440, -1.6945,  0.8974, -0.1783,  2.0359,\n",
       "          0.3362,  0.8404, -0.5280, -0.6305, -1.5888,  0.3255, -1.4203, -0.6525,\n",
       "          1.1098,  0.2628, -1.3003, -0.3188, -0.8202,  0.6200,  0.2621, -1.4408,\n",
       "          0.7445, -0.9997,  0.8704, -0.1545, -0.0922,  0.1268, -0.2153, -2.3220,\n",
       "          0.6466, -2.4672, -0.3287, -0.5903, -0.5237,  1.0507,  0.8610, -1.1270,\n",
       "          1.0529,  0.9758,  0.2571,  1.9535],\n",
       "        [ 1.0861,  0.5497, -1.3839,  0.4508, -0.6564,  0.1700,  0.2525,  0.4555,\n",
       "          1.8633, -1.2849, -0.6529, -1.4887,  1.1636,  0.0212,  1.1645, -0.3941,\n",
       "          0.9381, -0.4916,  1.4178,  0.4822,  0.0690,  0.2961,  0.1532, -0.3336,\n",
       "         -1.7279,  0.7010, -1.1445, -0.0315,  0.7724,  1.2425,  0.4189,  1.2639,\n",
       "          0.3416, -0.7222,  0.2914, -0.9067, -0.2629, -0.9623, -0.1402, -0.0396,\n",
       "         -0.7500,  1.1090,  0.2011, -0.8695, -0.1170, -0.9332,  2.4818,  2.1298,\n",
       "          0.6066, -1.1389,  1.0964,  0.6335,  0.5581,  0.6218,  0.6091,  0.5516,\n",
       "         -0.1632,  0.8144, -0.4217,  0.0114],\n",
       "        [ 0.4595,  0.9659,  0.1610, -0.5622,  0.5417, -0.5678,  0.6287,  0.7672,\n",
       "         -0.2987, -0.0907, -0.0990, -0.6882,  0.4402, -0.5562, -0.8176,  0.3934,\n",
       "          0.5093, -0.3707,  1.5168,  0.7252, -0.6975, -0.1405, -0.1680,  0.3832,\n",
       "          1.0597,  1.1802,  0.3509,  0.4478,  0.9207, -0.5212, -1.4589, -0.6694,\n",
       "         -0.0347,  0.5371, -1.0062, -0.8882, -1.5295,  1.0920,  0.1964,  1.4773,\n",
       "         -0.6533,  1.0983,  0.4911,  1.0911, -0.6860,  0.2176, -1.8270, -1.5279,\n",
       "         -0.6996, -1.1056, -1.2394,  0.4600, -1.6362,  0.2639,  1.1026, -1.0102,\n",
       "         -2.5016, -0.1081, -0.5574, -0.0498],\n",
       "        [ 0.5056,  0.1381,  0.2090,  0.8820, -1.0065,  1.9709, -0.1182, -0.6180,\n",
       "         -0.3265,  0.3947, -0.9126,  0.3644,  1.3110,  0.6638, -0.9343, -0.7084,\n",
       "         -0.7896,  0.7810,  1.5722, -1.3955, -1.0381,  0.1539,  2.2668,  0.2574,\n",
       "          1.0893, -0.1177,  0.7494,  0.6302,  0.4432,  1.6237,  0.2176, -0.7455,\n",
       "          0.3468,  1.4508, -0.6390,  0.3485,  0.9291, -0.7589, -0.6130, -2.0083,\n",
       "          1.6124, -0.2779, -1.2093, -0.0114, -0.2377,  0.0313,  0.6478, -0.1876,\n",
       "         -0.0524,  0.9096,  0.7771,  2.3679, -0.1339, -0.6659, -0.7560, -1.3376,\n",
       "         -0.6319, -0.4097,  1.2842,  0.8555],\n",
       "        [-1.2133, -1.3011, -1.9129, -0.1595, -1.3009,  0.5087,  0.4163, -0.7921,\n",
       "         -0.2978,  0.4145, -0.6629,  0.8996, -0.9207,  0.4256,  1.4870,  1.2506,\n",
       "         -0.3056,  0.3635,  0.2168, -0.1546,  1.4009, -0.4223, -0.2513, -0.8067,\n",
       "          0.3628,  0.5334,  0.4940, -0.7970, -0.9755, -0.6541, -1.2464,  1.5779,\n",
       "          2.0305,  0.7935, -0.4192,  0.2824,  1.1964, -0.2610,  0.0755,  1.3426,\n",
       "         -0.6929,  0.4034,  0.6220, -0.1843, -1.0114,  0.6420,  0.1394, -1.5182,\n",
       "         -1.1340, -0.0654,  0.1095,  0.3847,  0.9402,  0.9401,  0.9055, -0.4193,\n",
       "         -1.2463,  1.8386, -1.5116,  0.9555],\n",
       "        [ 0.5988,  0.6070, -0.9295, -1.8738,  0.6498,  0.5782, -0.5457, -1.3630,\n",
       "         -0.5465,  1.0459, -2.0164,  0.1721,  2.2047, -0.4809,  1.3311,  0.0709,\n",
       "          0.7807, -1.4615, -0.2352,  0.7575, -0.9625, -0.0290,  0.0846, -1.0619,\n",
       "         -0.6167,  0.2850,  0.3681, -0.1910, -0.0785,  0.9353, -1.9950,  0.2453,\n",
       "         -0.4173, -0.7832,  1.6126, -0.0674, -0.0768, -0.3831, -0.1042,  0.0309,\n",
       "          0.9108,  1.2738, -2.2581, -0.6676,  0.0099,  1.3548,  1.3692,  1.1654,\n",
       "          1.5481, -0.4213,  0.5553,  1.4298, -0.8512,  0.5518,  0.1855,  0.5961,\n",
       "          0.0306, -0.6607,  0.3637,  2.4329],\n",
       "        [ 0.2806, -0.3968,  0.1002, -0.3026,  1.3892,  0.8731, -0.1606,  0.5047,\n",
       "         -0.2921, -0.5726,  0.6186,  0.5189, -0.1881, -1.1910, -0.8989, -0.1859,\n",
       "          0.2642,  1.2291,  2.1685,  0.1762, -0.8726,  0.7421, -0.4455, -0.4742,\n",
       "         -0.8099, -0.4739, -0.1801,  1.2127,  0.8619,  0.4181, -1.3045, -0.8461,\n",
       "          0.7105,  0.0825,  0.0225, -1.2948,  0.4610,  0.3648,  1.9555, -1.6467,\n",
       "          0.2892,  2.2143,  0.8149,  0.8783, -1.7607,  0.6659, -1.0430,  1.2865,\n",
       "         -0.0785, -1.9592,  1.2667,  0.8374, -1.4831, -0.1283, -0.9271, -1.2802,\n",
       "          0.3170,  0.8120, -0.6370,  1.2006],\n",
       "        [-0.4566, -0.5579,  0.0691, -0.7415,  0.6495,  1.3815,  0.4402, -2.1017,\n",
       "         -0.1267, -0.7263, -0.0738,  1.9137,  0.9800,  0.3562,  0.9644,  1.0397,\n",
       "         -1.3478, -0.3030,  0.5266,  0.8394, -1.2679,  0.5185,  0.6506, -1.3185,\n",
       "         -0.0333,  1.6969,  0.1191, -0.1203, -0.6605,  0.9073, -0.2739, -0.2869,\n",
       "          1.7411, -0.4761, -2.2709,  0.7408, -0.8134,  1.3001,  1.9768,  0.6491,\n",
       "         -1.2694, -0.0252, -0.6147,  0.4298,  2.4237, -1.7485,  1.4192, -1.7496,\n",
       "          2.6889, -1.1925, -0.6681,  0.1456, -1.0167, -0.6089, -1.1013,  0.9911,\n",
       "          2.4699, -0.5494, -2.6269,  0.6075],\n",
       "        [-0.1129,  0.0365,  0.3200,  0.1866,  0.5612,  1.2585,  0.4190,  1.2931,\n",
       "          0.4536, -0.1879, -0.9626, -0.4094, -1.3397,  0.3686,  1.1832, -0.8829,\n",
       "         -3.3576,  1.1667,  1.3846, -0.1838, -0.3988,  1.8529, -1.3473, -1.4966,\n",
       "          0.7963,  1.2019, -0.0081, -0.4798,  0.8431, -1.2588,  0.6576,  1.3595,\n",
       "          0.5535, -0.0392,  0.3015,  0.3844, -0.6414, -0.7390, -0.1388, -2.7719,\n",
       "         -1.1237, -0.5743, -0.2168, -0.1742,  0.6013, -0.1101, -1.2614,  0.6709,\n",
       "         -0.3900,  0.7926,  1.7043, -1.2178,  1.7427,  0.2325, -0.5153, -1.3277,\n",
       "         -1.4626,  0.1673,  0.7379,  1.1401]])"
      ]
     },
     "execution_count": 21,
     "metadata": {},
     "output_type": "execute_result"
    }
   ],
   "source": [
    "ts_feature"
   ]
  },
  {
   "cell_type": "code",
   "execution_count": 22,
   "id": "72cd7276",
   "metadata": {
    "scrolled": true
   },
   "outputs": [
    {
     "data": {
      "text/plain": [
       "tensor([[[ 0.3691,  0.6008, -0.7491,  0.6827, -0.0298, -0.6829,  1.1673,\n",
       "          -0.9580, -0.0426,  0.9583, -0.6718,  0.8255, -0.6608, -1.0352,\n",
       "           0.0733, -0.5476, -0.2988,  1.1749, -0.9487, -1.5452,  0.5344,\n",
       "           0.4224, -0.3108, -0.2225,  1.0031,  0.0261,  0.3297, -0.5437,\n",
       "          -2.6797, -0.7719, -0.3952,  1.5811,  0.3911, -0.0708, -0.9342,\n",
       "          -0.1704, -0.8037, -0.1527, -0.2513,  1.2018,  0.4559, -0.5213,\n",
       "           0.9909, -0.5318,  1.1439,  0.3972,  0.5222,  0.1130, -0.0846,\n",
       "           0.9227,  0.0876, -1.0440, -0.9952,  1.0073,  1.1305,  0.9681,\n",
       "           0.4329,  0.2897, -1.4206,  0.2871]],\n",
       "\n",
       "        [[ 0.6732,  1.4589, -0.0327,  2.3941,  0.1705,  1.4748,  0.1476,\n",
       "           0.4469, -0.5629, -0.6084, -0.1726, -0.5009,  0.2859, -0.2576,\n",
       "          -0.2342,  0.7011, -0.3509,  1.1059, -1.0635,  1.4440, -1.6945,\n",
       "           0.8974, -0.1783,  2.0359,  0.3362,  0.8404, -0.5280, -0.6305,\n",
       "          -1.5888,  0.3255, -1.4203, -0.6525,  1.1098,  0.2628, -1.3003,\n",
       "          -0.3188, -0.8202,  0.6200,  0.2621, -1.4408,  0.7445, -0.9997,\n",
       "           0.8704, -0.1545, -0.0922,  0.1268, -0.2153, -2.3220,  0.6466,\n",
       "          -2.4672, -0.3287, -0.5903, -0.5237,  1.0507,  0.8610, -1.1270,\n",
       "           1.0529,  0.9758,  0.2571,  1.9535]],\n",
       "\n",
       "        [[ 1.0861,  0.5497, -1.3839,  0.4508, -0.6564,  0.1700,  0.2525,\n",
       "           0.4555,  1.8633, -1.2849, -0.6529, -1.4887,  1.1636,  0.0212,\n",
       "           1.1645, -0.3941,  0.9381, -0.4916,  1.4178,  0.4822,  0.0690,\n",
       "           0.2961,  0.1532, -0.3336, -1.7279,  0.7010, -1.1445, -0.0315,\n",
       "           0.7724,  1.2425,  0.4189,  1.2639,  0.3416, -0.7222,  0.2914,\n",
       "          -0.9067, -0.2629, -0.9623, -0.1402, -0.0396, -0.7500,  1.1090,\n",
       "           0.2011, -0.8695, -0.1170, -0.9332,  2.4818,  2.1298,  0.6066,\n",
       "          -1.1389,  1.0964,  0.6335,  0.5581,  0.6218,  0.6091,  0.5516,\n",
       "          -0.1632,  0.8144, -0.4217,  0.0114]],\n",
       "\n",
       "        [[ 0.4595,  0.9659,  0.1610, -0.5622,  0.5417, -0.5678,  0.6287,\n",
       "           0.7672, -0.2987, -0.0907, -0.0990, -0.6882,  0.4402, -0.5562,\n",
       "          -0.8176,  0.3934,  0.5093, -0.3707,  1.5168,  0.7252, -0.6975,\n",
       "          -0.1405, -0.1680,  0.3832,  1.0597,  1.1802,  0.3509,  0.4478,\n",
       "           0.9207, -0.5212, -1.4589, -0.6694, -0.0347,  0.5371, -1.0062,\n",
       "          -0.8882, -1.5295,  1.0920,  0.1964,  1.4773, -0.6533,  1.0983,\n",
       "           0.4911,  1.0911, -0.6860,  0.2176, -1.8270, -1.5279, -0.6996,\n",
       "          -1.1056, -1.2394,  0.4600, -1.6362,  0.2639,  1.1026, -1.0102,\n",
       "          -2.5016, -0.1081, -0.5574, -0.0498]],\n",
       "\n",
       "        [[ 0.5056,  0.1381,  0.2090,  0.8820, -1.0065,  1.9709, -0.1182,\n",
       "          -0.6180, -0.3265,  0.3947, -0.9126,  0.3644,  1.3110,  0.6638,\n",
       "          -0.9343, -0.7084, -0.7896,  0.7810,  1.5722, -1.3955, -1.0381,\n",
       "           0.1539,  2.2668,  0.2574,  1.0893, -0.1177,  0.7494,  0.6302,\n",
       "           0.4432,  1.6237,  0.2176, -0.7455,  0.3468,  1.4508, -0.6390,\n",
       "           0.3485,  0.9291, -0.7589, -0.6130, -2.0083,  1.6124, -0.2779,\n",
       "          -1.2093, -0.0114, -0.2377,  0.0313,  0.6478, -0.1876, -0.0524,\n",
       "           0.9096,  0.7771,  2.3679, -0.1339, -0.6659, -0.7560, -1.3376,\n",
       "          -0.6319, -0.4097,  1.2842,  0.8555]],\n",
       "\n",
       "        [[-1.2133, -1.3011, -1.9129, -0.1595, -1.3009,  0.5087,  0.4163,\n",
       "          -0.7921, -0.2978,  0.4145, -0.6629,  0.8996, -0.9207,  0.4256,\n",
       "           1.4870,  1.2506, -0.3056,  0.3635,  0.2168, -0.1546,  1.4009,\n",
       "          -0.4223, -0.2513, -0.8067,  0.3628,  0.5334,  0.4940, -0.7970,\n",
       "          -0.9755, -0.6541, -1.2464,  1.5779,  2.0305,  0.7935, -0.4192,\n",
       "           0.2824,  1.1964, -0.2610,  0.0755,  1.3426, -0.6929,  0.4034,\n",
       "           0.6220, -0.1843, -1.0114,  0.6420,  0.1394, -1.5182, -1.1340,\n",
       "          -0.0654,  0.1095,  0.3847,  0.9402,  0.9401,  0.9055, -0.4193,\n",
       "          -1.2463,  1.8386, -1.5116,  0.9555]],\n",
       "\n",
       "        [[ 0.5988,  0.6070, -0.9295, -1.8738,  0.6498,  0.5782, -0.5457,\n",
       "          -1.3630, -0.5465,  1.0459, -2.0164,  0.1721,  2.2047, -0.4809,\n",
       "           1.3311,  0.0709,  0.7807, -1.4615, -0.2352,  0.7575, -0.9625,\n",
       "          -0.0290,  0.0846, -1.0619, -0.6167,  0.2850,  0.3681, -0.1910,\n",
       "          -0.0785,  0.9353, -1.9950,  0.2453, -0.4173, -0.7832,  1.6126,\n",
       "          -0.0674, -0.0768, -0.3831, -0.1042,  0.0309,  0.9108,  1.2738,\n",
       "          -2.2581, -0.6676,  0.0099,  1.3548,  1.3692,  1.1654,  1.5481,\n",
       "          -0.4213,  0.5553,  1.4298, -0.8512,  0.5518,  0.1855,  0.5961,\n",
       "           0.0306, -0.6607,  0.3637,  2.4329]],\n",
       "\n",
       "        [[ 0.2806, -0.3968,  0.1002, -0.3026,  1.3892,  0.8731, -0.1606,\n",
       "           0.5047, -0.2921, -0.5726,  0.6186,  0.5189, -0.1881, -1.1910,\n",
       "          -0.8989, -0.1859,  0.2642,  1.2291,  2.1685,  0.1762, -0.8726,\n",
       "           0.7421, -0.4455, -0.4742, -0.8099, -0.4739, -0.1801,  1.2127,\n",
       "           0.8619,  0.4181, -1.3045, -0.8461,  0.7105,  0.0825,  0.0225,\n",
       "          -1.2948,  0.4610,  0.3648,  1.9555, -1.6467,  0.2892,  2.2143,\n",
       "           0.8149,  0.8783, -1.7607,  0.6659, -1.0430,  1.2865, -0.0785,\n",
       "          -1.9592,  1.2667,  0.8374, -1.4831, -0.1283, -0.9271, -1.2802,\n",
       "           0.3170,  0.8120, -0.6370,  1.2006]],\n",
       "\n",
       "        [[-0.4566, -0.5579,  0.0691, -0.7415,  0.6495,  1.3815,  0.4402,\n",
       "          -2.1017, -0.1267, -0.7263, -0.0738,  1.9137,  0.9800,  0.3562,\n",
       "           0.9644,  1.0397, -1.3478, -0.3030,  0.5266,  0.8394, -1.2679,\n",
       "           0.5185,  0.6506, -1.3185, -0.0333,  1.6969,  0.1191, -0.1203,\n",
       "          -0.6605,  0.9073, -0.2739, -0.2869,  1.7411, -0.4761, -2.2709,\n",
       "           0.7408, -0.8134,  1.3001,  1.9768,  0.6491, -1.2694, -0.0252,\n",
       "          -0.6147,  0.4298,  2.4237, -1.7485,  1.4192, -1.7496,  2.6889,\n",
       "          -1.1925, -0.6681,  0.1456, -1.0167, -0.6089, -1.1013,  0.9911,\n",
       "           2.4699, -0.5494, -2.6269,  0.6075]],\n",
       "\n",
       "        [[-0.1129,  0.0365,  0.3200,  0.1866,  0.5612,  1.2585,  0.4190,\n",
       "           1.2931,  0.4536, -0.1879, -0.9626, -0.4094, -1.3397,  0.3686,\n",
       "           1.1832, -0.8829, -3.3576,  1.1667,  1.3846, -0.1838, -0.3988,\n",
       "           1.8529, -1.3473, -1.4966,  0.7963,  1.2019, -0.0081, -0.4798,\n",
       "           0.8431, -1.2588,  0.6576,  1.3595,  0.5535, -0.0392,  0.3015,\n",
       "           0.3844, -0.6414, -0.7390, -0.1388, -2.7719, -1.1237, -0.5743,\n",
       "          -0.2168, -0.1742,  0.6013, -0.1101, -1.2614,  0.6709, -0.3900,\n",
       "           0.7926,  1.7043, -1.2178,  1.7427,  0.2325, -0.5153, -1.3277,\n",
       "          -1.4626,  0.1673,  0.7379,  1.1401]]])"
      ]
     },
     "execution_count": 22,
     "metadata": {},
     "output_type": "execute_result"
    }
   ],
   "source": [
    "torch.unsqueeze(ts_feature,dim=1)"
   ]
  },
  {
   "cell_type": "code",
   "execution_count": 23,
   "id": "455ed170",
   "metadata": {},
   "outputs": [],
   "source": [
    "model=training.RV_RNN_conv(n_diff=4,rnn_act=\"tanh\",rnn_num_layer=2,rnn_drop_out=0.3,rnn_hidden_size=32,proj_dim=32)"
   ]
  },
  {
   "cell_type": "code",
   "execution_count": 24,
   "id": "85bf9cda",
   "metadata": {},
   "outputs": [],
   "source": [
    "out=model(ts_feature)"
   ]
  },
  {
   "cell_type": "code",
   "execution_count": 25,
   "id": "dc35034a",
   "metadata": {},
   "outputs": [
    {
     "data": {
      "text/plain": [
       "tensor([[-0.0005],\n",
       "        [-0.0005],\n",
       "        [-0.0007],\n",
       "        [-0.0006],\n",
       "        [-0.0005],\n",
       "        [-0.0003],\n",
       "        [-0.0002],\n",
       "        [-0.0004],\n",
       "        [-0.0005],\n",
       "        [-0.0008]], grad_fn=<DivBackward0>)"
      ]
     },
     "execution_count": 25,
     "metadata": {},
     "output_type": "execute_result"
    }
   ],
   "source": [
    "out"
   ]
  },
  {
   "cell_type": "markdown",
   "id": "09bfbac7",
   "metadata": {},
   "source": [
    "## Training loop (basic) "
   ]
  },
  {
   "cell_type": "code",
   "execution_count": 26,
   "id": "06d4fcc7",
   "metadata": {},
   "outputs": [],
   "source": [
    "list_time=np.load(\"../processed_data/recovered_time_id_order.npy\")"
   ]
  },
  {
   "cell_type": "code",
   "execution_count": 27,
   "id": "739d9a32-e68b-4f66-bd6b-0fda83803f65",
   "metadata": {},
   "outputs": [
    {
     "name": "stdout",
     "output_type": "stream",
     "text": [
      "[ 4294 31984 31570 ... 29316 32195 10890]\n"
     ]
    }
   ],
   "source": [
    "print(list_time)"
   ]
  },
  {
   "cell_type": "code",
   "execution_count": 28,
   "id": "825838c5",
   "metadata": {},
   "outputs": [
    {
     "name": "stdout",
     "output_type": "stream",
     "text": [
      "In fold 0 :\n",
      "\n",
      "Train set end at 8117 .\n",
      "\n",
      "Test set start at 15516 end at 10890 .\n",
      "\n"
     ]
    }
   ],
   "source": [
    "time_split_list=data_processing.time_cross_val_split(list_time=list_time,n_split=1,percent_val_size=10,list_output=True)"
   ]
  },
  {
   "cell_type": "code",
   "execution_count": 29,
   "id": "87ca970a-b88b-4b85-8337-6cf6a957e5e7",
   "metadata": {},
   "outputs": [
    {
     "data": {
      "text/plain": [
       "array([ 4294, 31984, 31570, ...,  5629, 10421,  8117])"
      ]
     },
     "execution_count": 29,
     "metadata": {},
     "output_type": "execute_result"
    }
   ],
   "source": [
    "time_split_list[0][0]"
   ]
  },
  {
   "cell_type": "code",
   "execution_count": 30,
   "id": "e7ba8aa2-a446-4389-8d49-bca021ceb63f",
   "metadata": {
    "scrolled": true
   },
   "outputs": [
    {
     "data": {
      "text/plain": [
       "array([15516, 30276, 16402, 27182, 24497, 13529,   373,  4219, 20323,\n",
       "        9160, 28983, 17820, 22678,  7460, 29676, 32048, 22405, 31380,\n",
       "        1816, 14079, 29944, 21990, 26804, 28210, 18142, 11682, 32597,\n",
       "       13513, 32690, 27120, 27427,  7418,  1213,  9822, 29692, 24523,\n",
       "       25318,  6274, 25569, 12713,   169, 20732, 15906, 28877, 25551,\n",
       "       10745, 31320, 31714,  6076, 23656,   424,   309, 17604, 28963,\n",
       "       23144, 11872, 29219, 25357, 22828, 17569, 17955, 11920, 18509,\n",
       "       19626, 16149,  5392,  7200, 10929,  4774, 27278, 23639, 10633,\n",
       "          72, 32534, 26944, 31018, 26494,  6648,   709,  6823, 21239,\n",
       "       11995, 23265, 31883,  2711,  1350,  1321, 16282,  5046, 29875,\n",
       "        7133, 15823, 25463,  9064,  3333, 11440, 16831,  6815, 19580,\n",
       "       30620, 24014, 17193, 10708, 30597,  4367, 27962, 13010, 32254,\n",
       "       23226, 22903,  5929, 30327,  1866, 14629,  1205,  9352, 10619,\n",
       "       14234, 15276,  4091, 22752, 18653, 11453, 26708, 30183, 13986,\n",
       "           5,  7864,  9889, 31471, 26868, 10672, 31347, 15418, 30430,\n",
       "       26568, 28267,  3955,  1392, 27014, 22081, 15845, 18728,  9936,\n",
       "        5232,  2366, 26886, 30272, 11393, 30750,  7572, 21601,  2331,\n",
       "       13207, 12073,  2058, 18502, 25429, 12532, 27496,  5932,   536,\n",
       "       27595, 23185, 26752,  2683,  6585, 15131,  6144, 27042,  7743,\n",
       "       22249, 32611,  3758, 19271, 13614, 31572, 17570,  9367, 11263,\n",
       "       14285, 12981,   146,  2643, 31266, 23490,  2109, 29906, 30303,\n",
       "       12102, 32649,  8721, 26606, 32012, 16511, 30908, 19871,  3513,\n",
       "        3001, 24127, 29974, 27752, 16504,  6631,  8750,  6493, 29819,\n",
       "       12147, 13503, 11264, 31236,  8365, 23486, 13294,  1292, 17265,\n",
       "       16594, 20928, 18205,  6316,  8459, 19955,  7369, 26763, 13560,\n",
       "        3211, 31254, 13720,   152,  4844, 14738, 22548, 27886,  4131,\n",
       "        6657, 13699, 25639,  2000, 26788, 21103, 11577, 29037,  9947,\n",
       "       32134, 30341, 17112,  7548, 20265, 12533, 10262, 10616,  7512,\n",
       "       28354, 25879,  2440, 21614, 32255, 15584,  9735, 31874, 30366,\n",
       "       31047, 16507,  6906,  9396,  6217,  1521, 17378, 26091,  3318,\n",
       "       32746,  8744, 26889,  1468,  6965, 17117,   817,  3130, 14928,\n",
       "       21373, 13980, 28634,   103, 27543, 26849,  7909, 18077, 30569,\n",
       "       10105, 12178, 20491, 32704, 12923, 15393, 14976, 26168,  2867,\n",
       "       12182, 27524, 30339, 18285, 28474, 27981, 13928, 10892, 14909,\n",
       "       21024, 25971,  9266, 25277,  5425, 17454,  3962, 14449, 31389,\n",
       "       17672,  9887, 20669,  4089, 19512, 30212, 11151, 22912, 25359,\n",
       "       29947, 31348, 16731,  1948,  6730, 14176,  2656, 15728,  8573,\n",
       "       21762,  6359,  5846, 12521, 26578,  8623,  9096, 23423, 22513,\n",
       "       23539, 17528,  5663, 24021, 32240, 28635,  2553, 13791, 22427,\n",
       "       19647, 26170,  2718, 28192, 19065,  2136, 29679,  9028, 17120,\n",
       "       25312,   618, 18184, 21658, 13627, 25338, 31402, 24406, 31331,\n",
       "        7759,  3123,  2027, 18703, 28837, 11718, 13579, 10455, 10604,\n",
       "       24913, 15365, 29316, 32195, 10890])"
      ]
     },
     "execution_count": 30,
     "metadata": {},
     "output_type": "execute_result"
    }
   ],
   "source": [
    "time_split_list[0][1]"
   ]
  },
  {
   "cell_type": "code",
   "execution_count": 31,
   "id": "72aedca6",
   "metadata": {},
   "outputs": [],
   "source": [
    "train_time_id,test_time_id=time_split_list[0][0],time_split_list[0][1]"
   ]
  },
  {
   "cell_type": "code",
   "execution_count": 32,
   "id": "a3338fd1",
   "metadata": {},
   "outputs": [],
   "source": [
    "df_RV_ts=pd.read_parquet(\"../processed_data/book_RV_ts_60_si.parquet\")"
   ]
  },
  {
   "cell_type": "code",
   "execution_count": 33,
   "id": "62e2f34e",
   "metadata": {},
   "outputs": [],
   "source": [
    "from sklearn.preprocessing import StandardScaler"
   ]
  },
  {
   "cell_type": "code",
   "execution_count": 34,
   "id": "3b9cf070",
   "metadata": {},
   "outputs": [],
   "source": [
    "scalar=StandardScaler()"
   ]
  },
  {
   "cell_type": "code",
   "execution_count": 35,
   "id": "8e42729d",
   "metadata": {},
   "outputs": [],
   "source": [
    "df_RV_ts[\"sub_int_RV_norm\"]=scalar.fit_transform(df_RV_ts[[\"sub_int_RV\"]])"
   ]
  },
  {
   "cell_type": "code",
   "execution_count": 36,
   "id": "995d9083",
   "metadata": {},
   "outputs": [
    {
     "data": {
      "text/html": [
       "<div>\n",
       "<style scoped>\n",
       "    .dataframe tbody tr th:only-of-type {\n",
       "        vertical-align: middle;\n",
       "    }\n",
       "\n",
       "    .dataframe tbody tr th {\n",
       "        vertical-align: top;\n",
       "    }\n",
       "\n",
       "    .dataframe thead th {\n",
       "        text-align: right;\n",
       "    }\n",
       "</style>\n",
       "<table border=\"1\" class=\"dataframe\">\n",
       "  <thead>\n",
       "    <tr style=\"text-align: right;\">\n",
       "      <th></th>\n",
       "      <th>time_id</th>\n",
       "      <th>sub_int_RV</th>\n",
       "      <th>sub_int_num</th>\n",
       "      <th>stock_id</th>\n",
       "      <th>row_id</th>\n",
       "      <th>sub_int_RV_norm</th>\n",
       "    </tr>\n",
       "  </thead>\n",
       "  <tbody>\n",
       "    <tr>\n",
       "      <th>0</th>\n",
       "      <td>5</td>\n",
       "      <td>0.000329</td>\n",
       "      <td>1</td>\n",
       "      <td>93</td>\n",
       "      <td>93-5</td>\n",
       "      <td>-0.208285</td>\n",
       "    </tr>\n",
       "    <tr>\n",
       "      <th>1</th>\n",
       "      <td>11</td>\n",
       "      <td>0.000191</td>\n",
       "      <td>1</td>\n",
       "      <td>93</td>\n",
       "      <td>93-11</td>\n",
       "      <td>-0.453866</td>\n",
       "    </tr>\n",
       "    <tr>\n",
       "      <th>2</th>\n",
       "      <td>16</td>\n",
       "      <td>0.000126</td>\n",
       "      <td>1</td>\n",
       "      <td>93</td>\n",
       "      <td>93-16</td>\n",
       "      <td>-0.569259</td>\n",
       "    </tr>\n",
       "    <tr>\n",
       "      <th>3</th>\n",
       "      <td>31</td>\n",
       "      <td>0.000205</td>\n",
       "      <td>1</td>\n",
       "      <td>93</td>\n",
       "      <td>93-31</td>\n",
       "      <td>-0.428690</td>\n",
       "    </tr>\n",
       "    <tr>\n",
       "      <th>4</th>\n",
       "      <td>62</td>\n",
       "      <td>0.000142</td>\n",
       "      <td>1</td>\n",
       "      <td>93</td>\n",
       "      <td>93-62</td>\n",
       "      <td>-0.540259</td>\n",
       "    </tr>\n",
       "    <tr>\n",
       "      <th>...</th>\n",
       "      <td>...</td>\n",
       "      <td>...</td>\n",
       "      <td>...</td>\n",
       "      <td>...</td>\n",
       "      <td>...</td>\n",
       "      <td>...</td>\n",
       "    </tr>\n",
       "    <tr>\n",
       "      <th>25735915</th>\n",
       "      <td>32686</td>\n",
       "      <td>0.000000</td>\n",
       "      <td>60</td>\n",
       "      <td>104</td>\n",
       "      <td>104-32686</td>\n",
       "      <td>-0.793956</td>\n",
       "    </tr>\n",
       "    <tr>\n",
       "      <th>25735916</th>\n",
       "      <td>32690</td>\n",
       "      <td>0.000000</td>\n",
       "      <td>60</td>\n",
       "      <td>104</td>\n",
       "      <td>104-32690</td>\n",
       "      <td>-0.793956</td>\n",
       "    </tr>\n",
       "    <tr>\n",
       "      <th>25735917</th>\n",
       "      <td>32712</td>\n",
       "      <td>0.000000</td>\n",
       "      <td>60</td>\n",
       "      <td>104</td>\n",
       "      <td>104-32712</td>\n",
       "      <td>-0.793956</td>\n",
       "    </tr>\n",
       "    <tr>\n",
       "      <th>25735918</th>\n",
       "      <td>32746</td>\n",
       "      <td>0.000000</td>\n",
       "      <td>60</td>\n",
       "      <td>104</td>\n",
       "      <td>104-32746</td>\n",
       "      <td>-0.793956</td>\n",
       "    </tr>\n",
       "    <tr>\n",
       "      <th>25735919</th>\n",
       "      <td>32758</td>\n",
       "      <td>0.000000</td>\n",
       "      <td>60</td>\n",
       "      <td>104</td>\n",
       "      <td>104-32758</td>\n",
       "      <td>-0.793956</td>\n",
       "    </tr>\n",
       "  </tbody>\n",
       "</table>\n",
       "<p>25735920 rows × 6 columns</p>\n",
       "</div>"
      ],
      "text/plain": [
       "          time_id  sub_int_RV  sub_int_num  stock_id     row_id  \\\n",
       "0               5    0.000329            1        93       93-5   \n",
       "1              11    0.000191            1        93      93-11   \n",
       "2              16    0.000126            1        93      93-16   \n",
       "3              31    0.000205            1        93      93-31   \n",
       "4              62    0.000142            1        93      93-62   \n",
       "...           ...         ...          ...       ...        ...   \n",
       "25735915    32686    0.000000           60       104  104-32686   \n",
       "25735916    32690    0.000000           60       104  104-32690   \n",
       "25735917    32712    0.000000           60       104  104-32712   \n",
       "25735918    32746    0.000000           60       104  104-32746   \n",
       "25735919    32758    0.000000           60       104  104-32758   \n",
       "\n",
       "          sub_int_RV_norm  \n",
       "0               -0.208285  \n",
       "1               -0.453866  \n",
       "2               -0.569259  \n",
       "3               -0.428690  \n",
       "4               -0.540259  \n",
       "...                   ...  \n",
       "25735915        -0.793956  \n",
       "25735916        -0.793956  \n",
       "25735917        -0.793956  \n",
       "25735918        -0.793956  \n",
       "25735919        -0.793956  \n",
       "\n",
       "[25735920 rows x 6 columns]"
      ]
     },
     "execution_count": 36,
     "metadata": {},
     "output_type": "execute_result"
    }
   ],
   "source": [
    "df_RV_ts"
   ]
  },
  {
   "cell_type": "code",
   "execution_count": 37,
   "id": "de450e0c",
   "metadata": {},
   "outputs": [
    {
     "data": {
      "text/html": [
       "<div>\n",
       "<style scoped>\n",
       "    .dataframe tbody tr th:only-of-type {\n",
       "        vertical-align: middle;\n",
       "    }\n",
       "\n",
       "    .dataframe tbody tr th {\n",
       "        vertical-align: top;\n",
       "    }\n",
       "\n",
       "    .dataframe thead tr th {\n",
       "        text-align: left;\n",
       "    }\n",
       "\n",
       "    .dataframe thead tr:last-of-type th {\n",
       "        text-align: right;\n",
       "    }\n",
       "</style>\n",
       "<table border=\"1\" class=\"dataframe\">\n",
       "  <thead>\n",
       "    <tr>\n",
       "      <th></th>\n",
       "      <th colspan=\"21\" halign=\"left\">sub_int_RV</th>\n",
       "    </tr>\n",
       "    <tr>\n",
       "      <th>sub_int_num</th>\n",
       "      <th>1</th>\n",
       "      <th>2</th>\n",
       "      <th>3</th>\n",
       "      <th>4</th>\n",
       "      <th>5</th>\n",
       "      <th>6</th>\n",
       "      <th>7</th>\n",
       "      <th>8</th>\n",
       "      <th>9</th>\n",
       "      <th>10</th>\n",
       "      <th>...</th>\n",
       "      <th>51</th>\n",
       "      <th>52</th>\n",
       "      <th>53</th>\n",
       "      <th>54</th>\n",
       "      <th>55</th>\n",
       "      <th>56</th>\n",
       "      <th>57</th>\n",
       "      <th>58</th>\n",
       "      <th>59</th>\n",
       "      <th>60</th>\n",
       "    </tr>\n",
       "    <tr>\n",
       "      <th>row_id</th>\n",
       "      <th></th>\n",
       "      <th></th>\n",
       "      <th></th>\n",
       "      <th></th>\n",
       "      <th></th>\n",
       "      <th></th>\n",
       "      <th></th>\n",
       "      <th></th>\n",
       "      <th></th>\n",
       "      <th></th>\n",
       "      <th></th>\n",
       "      <th></th>\n",
       "      <th></th>\n",
       "      <th></th>\n",
       "      <th></th>\n",
       "      <th></th>\n",
       "      <th></th>\n",
       "      <th></th>\n",
       "      <th></th>\n",
       "      <th></th>\n",
       "      <th></th>\n",
       "    </tr>\n",
       "  </thead>\n",
       "  <tbody>\n",
       "    <tr>\n",
       "      <th>0-1000</th>\n",
       "      <td>0.000341</td>\n",
       "      <td>0.000000</td>\n",
       "      <td>0.000023</td>\n",
       "      <td>0.000000</td>\n",
       "      <td>0.000170</td>\n",
       "      <td>3.818799e-07</td>\n",
       "      <td>0.000089</td>\n",
       "      <td>0.000552</td>\n",
       "      <td>0.000012</td>\n",
       "      <td>0.000000</td>\n",
       "      <td>...</td>\n",
       "      <td>0.000265</td>\n",
       "      <td>0.000000</td>\n",
       "      <td>0.000214</td>\n",
       "      <td>0.000003</td>\n",
       "      <td>0.000000</td>\n",
       "      <td>0.000118</td>\n",
       "      <td>2.313288e-04</td>\n",
       "      <td>1.060893e-05</td>\n",
       "      <td>0.000111</td>\n",
       "      <td>0.000288</td>\n",
       "    </tr>\n",
       "    <tr>\n",
       "      <th>0-10000</th>\n",
       "      <td>0.000290</td>\n",
       "      <td>0.000191</td>\n",
       "      <td>0.000087</td>\n",
       "      <td>0.000193</td>\n",
       "      <td>0.000241</td>\n",
       "      <td>3.154886e-04</td>\n",
       "      <td>0.000000</td>\n",
       "      <td>0.000247</td>\n",
       "      <td>0.000265</td>\n",
       "      <td>0.000000</td>\n",
       "      <td>...</td>\n",
       "      <td>0.000202</td>\n",
       "      <td>0.000375</td>\n",
       "      <td>0.000616</td>\n",
       "      <td>0.000564</td>\n",
       "      <td>0.000000</td>\n",
       "      <td>0.000023</td>\n",
       "      <td>3.777703e-08</td>\n",
       "      <td>3.777703e-08</td>\n",
       "      <td>0.000020</td>\n",
       "      <td>0.000310</td>\n",
       "    </tr>\n",
       "    <tr>\n",
       "      <th>0-10005</th>\n",
       "      <td>0.000000</td>\n",
       "      <td>0.000000</td>\n",
       "      <td>0.001554</td>\n",
       "      <td>0.002177</td>\n",
       "      <td>0.002303</td>\n",
       "      <td>4.375100e-04</td>\n",
       "      <td>0.000617</td>\n",
       "      <td>0.001199</td>\n",
       "      <td>0.002306</td>\n",
       "      <td>0.001215</td>\n",
       "      <td>...</td>\n",
       "      <td>0.000000</td>\n",
       "      <td>0.000486</td>\n",
       "      <td>0.000050</td>\n",
       "      <td>0.001761</td>\n",
       "      <td>0.001617</td>\n",
       "      <td>0.001801</td>\n",
       "      <td>2.552987e-03</td>\n",
       "      <td>5.364106e-04</td>\n",
       "      <td>0.000872</td>\n",
       "      <td>0.000000</td>\n",
       "    </tr>\n",
       "    <tr>\n",
       "      <th>0-10017</th>\n",
       "      <td>0.000142</td>\n",
       "      <td>0.000142</td>\n",
       "      <td>0.001464</td>\n",
       "      <td>0.001086</td>\n",
       "      <td>0.000068</td>\n",
       "      <td>6.771948e-05</td>\n",
       "      <td>0.000899</td>\n",
       "      <td>0.000064</td>\n",
       "      <td>0.000593</td>\n",
       "      <td>0.000451</td>\n",
       "      <td>...</td>\n",
       "      <td>0.000029</td>\n",
       "      <td>0.000000</td>\n",
       "      <td>0.001293</td>\n",
       "      <td>0.002092</td>\n",
       "      <td>0.000994</td>\n",
       "      <td>0.000848</td>\n",
       "      <td>3.104404e-03</td>\n",
       "      <td>1.224910e-03</td>\n",
       "      <td>0.001316</td>\n",
       "      <td>0.003287</td>\n",
       "    </tr>\n",
       "    <tr>\n",
       "      <th>0-10030</th>\n",
       "      <td>0.000327</td>\n",
       "      <td>0.000058</td>\n",
       "      <td>0.000293</td>\n",
       "      <td>0.000842</td>\n",
       "      <td>0.000120</td>\n",
       "      <td>2.586782e-04</td>\n",
       "      <td>0.000221</td>\n",
       "      <td>0.000436</td>\n",
       "      <td>0.000099</td>\n",
       "      <td>0.000008</td>\n",
       "      <td>...</td>\n",
       "      <td>0.000410</td>\n",
       "      <td>0.000437</td>\n",
       "      <td>0.000004</td>\n",
       "      <td>0.000215</td>\n",
       "      <td>0.000457</td>\n",
       "      <td>0.000183</td>\n",
       "      <td>4.842470e-04</td>\n",
       "      <td>0.000000e+00</td>\n",
       "      <td>0.000756</td>\n",
       "      <td>0.000005</td>\n",
       "    </tr>\n",
       "    <tr>\n",
       "      <th>...</th>\n",
       "      <td>...</td>\n",
       "      <td>...</td>\n",
       "      <td>...</td>\n",
       "      <td>...</td>\n",
       "      <td>...</td>\n",
       "      <td>...</td>\n",
       "      <td>...</td>\n",
       "      <td>...</td>\n",
       "      <td>...</td>\n",
       "      <td>...</td>\n",
       "      <td>...</td>\n",
       "      <td>...</td>\n",
       "      <td>...</td>\n",
       "      <td>...</td>\n",
       "      <td>...</td>\n",
       "      <td>...</td>\n",
       "      <td>...</td>\n",
       "      <td>...</td>\n",
       "      <td>...</td>\n",
       "      <td>...</td>\n",
       "      <td>...</td>\n",
       "    </tr>\n",
       "    <tr>\n",
       "      <th>99-9972</th>\n",
       "      <td>0.000197</td>\n",
       "      <td>0.000181</td>\n",
       "      <td>0.000171</td>\n",
       "      <td>0.000172</td>\n",
       "      <td>0.000369</td>\n",
       "      <td>2.503467e-04</td>\n",
       "      <td>0.000349</td>\n",
       "      <td>0.000356</td>\n",
       "      <td>0.000390</td>\n",
       "      <td>0.000050</td>\n",
       "      <td>...</td>\n",
       "      <td>0.000075</td>\n",
       "      <td>0.000185</td>\n",
       "      <td>0.000314</td>\n",
       "      <td>0.000318</td>\n",
       "      <td>0.000115</td>\n",
       "      <td>0.000143</td>\n",
       "      <td>9.916624e-05</td>\n",
       "      <td>1.809852e-04</td>\n",
       "      <td>0.000334</td>\n",
       "      <td>0.000089</td>\n",
       "    </tr>\n",
       "    <tr>\n",
       "      <th>99-9973</th>\n",
       "      <td>0.000821</td>\n",
       "      <td>0.000346</td>\n",
       "      <td>0.000691</td>\n",
       "      <td>0.001591</td>\n",
       "      <td>0.000863</td>\n",
       "      <td>9.650211e-04</td>\n",
       "      <td>0.000504</td>\n",
       "      <td>0.001925</td>\n",
       "      <td>0.000641</td>\n",
       "      <td>0.000382</td>\n",
       "      <td>...</td>\n",
       "      <td>0.001081</td>\n",
       "      <td>0.001095</td>\n",
       "      <td>0.000425</td>\n",
       "      <td>0.000789</td>\n",
       "      <td>0.001295</td>\n",
       "      <td>0.000596</td>\n",
       "      <td>1.862600e-03</td>\n",
       "      <td>7.668418e-04</td>\n",
       "      <td>0.001035</td>\n",
       "      <td>0.002115</td>\n",
       "    </tr>\n",
       "    <tr>\n",
       "      <th>99-9976</th>\n",
       "      <td>0.000569</td>\n",
       "      <td>0.001101</td>\n",
       "      <td>0.001002</td>\n",
       "      <td>0.000430</td>\n",
       "      <td>0.000797</td>\n",
       "      <td>7.203531e-04</td>\n",
       "      <td>0.000586</td>\n",
       "      <td>0.000538</td>\n",
       "      <td>0.000570</td>\n",
       "      <td>0.000781</td>\n",
       "      <td>...</td>\n",
       "      <td>0.000508</td>\n",
       "      <td>0.000406</td>\n",
       "      <td>0.000662</td>\n",
       "      <td>0.000338</td>\n",
       "      <td>0.000710</td>\n",
       "      <td>0.000179</td>\n",
       "      <td>5.946683e-04</td>\n",
       "      <td>1.509652e-04</td>\n",
       "      <td>0.000388</td>\n",
       "      <td>0.000403</td>\n",
       "    </tr>\n",
       "    <tr>\n",
       "      <th>99-9988</th>\n",
       "      <td>0.000040</td>\n",
       "      <td>0.000069</td>\n",
       "      <td>0.000123</td>\n",
       "      <td>0.000056</td>\n",
       "      <td>0.000016</td>\n",
       "      <td>1.957402e-04</td>\n",
       "      <td>0.000071</td>\n",
       "      <td>0.000095</td>\n",
       "      <td>0.000063</td>\n",
       "      <td>0.000030</td>\n",
       "      <td>...</td>\n",
       "      <td>0.000034</td>\n",
       "      <td>0.000176</td>\n",
       "      <td>0.000140</td>\n",
       "      <td>0.000129</td>\n",
       "      <td>0.000175</td>\n",
       "      <td>0.000019</td>\n",
       "      <td>1.440137e-04</td>\n",
       "      <td>3.200939e-05</td>\n",
       "      <td>0.000041</td>\n",
       "      <td>0.000007</td>\n",
       "    </tr>\n",
       "    <tr>\n",
       "      <th>99-9993</th>\n",
       "      <td>0.000249</td>\n",
       "      <td>0.000179</td>\n",
       "      <td>0.000155</td>\n",
       "      <td>0.000025</td>\n",
       "      <td>0.000325</td>\n",
       "      <td>1.798617e-04</td>\n",
       "      <td>0.000080</td>\n",
       "      <td>0.000125</td>\n",
       "      <td>0.000126</td>\n",
       "      <td>0.000205</td>\n",
       "      <td>...</td>\n",
       "      <td>0.000099</td>\n",
       "      <td>0.000370</td>\n",
       "      <td>0.000929</td>\n",
       "      <td>0.000328</td>\n",
       "      <td>0.000251</td>\n",
       "      <td>0.000204</td>\n",
       "      <td>2.728767e-04</td>\n",
       "      <td>2.108380e-04</td>\n",
       "      <td>0.000126</td>\n",
       "      <td>0.000353</td>\n",
       "    </tr>\n",
       "  </tbody>\n",
       "</table>\n",
       "<p>428932 rows × 60 columns</p>\n",
       "</div>"
      ],
      "text/plain": [
       "            sub_int_RV                                                        \\\n",
       "sub_int_num         1         2         3         4         5             6    \n",
       "row_id                                                                         \n",
       "0-1000        0.000341  0.000000  0.000023  0.000000  0.000170  3.818799e-07   \n",
       "0-10000       0.000290  0.000191  0.000087  0.000193  0.000241  3.154886e-04   \n",
       "0-10005       0.000000  0.000000  0.001554  0.002177  0.002303  4.375100e-04   \n",
       "0-10017       0.000142  0.000142  0.001464  0.001086  0.000068  6.771948e-05   \n",
       "0-10030       0.000327  0.000058  0.000293  0.000842  0.000120  2.586782e-04   \n",
       "...                ...       ...       ...       ...       ...           ...   \n",
       "99-9972       0.000197  0.000181  0.000171  0.000172  0.000369  2.503467e-04   \n",
       "99-9973       0.000821  0.000346  0.000691  0.001591  0.000863  9.650211e-04   \n",
       "99-9976       0.000569  0.001101  0.001002  0.000430  0.000797  7.203531e-04   \n",
       "99-9988       0.000040  0.000069  0.000123  0.000056  0.000016  1.957402e-04   \n",
       "99-9993       0.000249  0.000179  0.000155  0.000025  0.000325  1.798617e-04   \n",
       "\n",
       "                                                     ...                      \\\n",
       "sub_int_num        7         8         9         10  ...        51        52   \n",
       "row_id                                               ...                       \n",
       "0-1000       0.000089  0.000552  0.000012  0.000000  ...  0.000265  0.000000   \n",
       "0-10000      0.000000  0.000247  0.000265  0.000000  ...  0.000202  0.000375   \n",
       "0-10005      0.000617  0.001199  0.002306  0.001215  ...  0.000000  0.000486   \n",
       "0-10017      0.000899  0.000064  0.000593  0.000451  ...  0.000029  0.000000   \n",
       "0-10030      0.000221  0.000436  0.000099  0.000008  ...  0.000410  0.000437   \n",
       "...               ...       ...       ...       ...  ...       ...       ...   \n",
       "99-9972      0.000349  0.000356  0.000390  0.000050  ...  0.000075  0.000185   \n",
       "99-9973      0.000504  0.001925  0.000641  0.000382  ...  0.001081  0.001095   \n",
       "99-9976      0.000586  0.000538  0.000570  0.000781  ...  0.000508  0.000406   \n",
       "99-9988      0.000071  0.000095  0.000063  0.000030  ...  0.000034  0.000176   \n",
       "99-9993      0.000080  0.000125  0.000126  0.000205  ...  0.000099  0.000370   \n",
       "\n",
       "                                                                   \\\n",
       "sub_int_num        53        54        55        56            57   \n",
       "row_id                                                              \n",
       "0-1000       0.000214  0.000003  0.000000  0.000118  2.313288e-04   \n",
       "0-10000      0.000616  0.000564  0.000000  0.000023  3.777703e-08   \n",
       "0-10005      0.000050  0.001761  0.001617  0.001801  2.552987e-03   \n",
       "0-10017      0.001293  0.002092  0.000994  0.000848  3.104404e-03   \n",
       "0-10030      0.000004  0.000215  0.000457  0.000183  4.842470e-04   \n",
       "...               ...       ...       ...       ...           ...   \n",
       "99-9972      0.000314  0.000318  0.000115  0.000143  9.916624e-05   \n",
       "99-9973      0.000425  0.000789  0.001295  0.000596  1.862600e-03   \n",
       "99-9976      0.000662  0.000338  0.000710  0.000179  5.946683e-04   \n",
       "99-9988      0.000140  0.000129  0.000175  0.000019  1.440137e-04   \n",
       "99-9993      0.000929  0.000328  0.000251  0.000204  2.728767e-04   \n",
       "\n",
       "                                               \n",
       "sub_int_num            58        59        60  \n",
       "row_id                                         \n",
       "0-1000       1.060893e-05  0.000111  0.000288  \n",
       "0-10000      3.777703e-08  0.000020  0.000310  \n",
       "0-10005      5.364106e-04  0.000872  0.000000  \n",
       "0-10017      1.224910e-03  0.001316  0.003287  \n",
       "0-10030      0.000000e+00  0.000756  0.000005  \n",
       "...                   ...       ...       ...  \n",
       "99-9972      1.809852e-04  0.000334  0.000089  \n",
       "99-9973      7.668418e-04  0.001035  0.002115  \n",
       "99-9976      1.509652e-04  0.000388  0.000403  \n",
       "99-9988      3.200939e-05  0.000041  0.000007  \n",
       "99-9993      2.108380e-04  0.000126  0.000353  \n",
       "\n",
       "[428932 rows x 60 columns]"
      ]
     },
     "execution_count": 37,
     "metadata": {},
     "output_type": "execute_result"
    }
   ],
   "source": [
    "df_RV_ts.pivot(index=\"row_id\",columns=[\"sub_int_num\"],values=[\"sub_int_RV\"])"
   ]
  },
  {
   "cell_type": "code",
   "execution_count": 38,
   "id": "677c1b20",
   "metadata": {},
   "outputs": [],
   "source": [
    "df_target=pd.read_csv(\"../raw_data/kaggle_ORVP/train.csv\")"
   ]
  },
  {
   "cell_type": "code",
   "execution_count": 39,
   "id": "252d6274",
   "metadata": {},
   "outputs": [],
   "source": [
    "df_target[\"row_id\"]=df_target[\"stock_id\"].astype(int).astype(str)+\"-\"+df_target[\"time_id\"].astype(int).astype(str)"
   ]
  },
  {
   "cell_type": "code",
   "execution_count": 40,
   "id": "fdb28caf",
   "metadata": {},
   "outputs": [
    {
     "data": {
      "text/html": [
       "<div>\n",
       "<style scoped>\n",
       "    .dataframe tbody tr th:only-of-type {\n",
       "        vertical-align: middle;\n",
       "    }\n",
       "\n",
       "    .dataframe tbody tr th {\n",
       "        vertical-align: top;\n",
       "    }\n",
       "\n",
       "    .dataframe thead th {\n",
       "        text-align: right;\n",
       "    }\n",
       "</style>\n",
       "<table border=\"1\" class=\"dataframe\">\n",
       "  <thead>\n",
       "    <tr style=\"text-align: right;\">\n",
       "      <th></th>\n",
       "      <th>stock_id</th>\n",
       "      <th>time_id</th>\n",
       "      <th>target</th>\n",
       "      <th>row_id</th>\n",
       "    </tr>\n",
       "  </thead>\n",
       "  <tbody>\n",
       "    <tr>\n",
       "      <th>0</th>\n",
       "      <td>0</td>\n",
       "      <td>5</td>\n",
       "      <td>0.004136</td>\n",
       "      <td>0-5</td>\n",
       "    </tr>\n",
       "    <tr>\n",
       "      <th>1</th>\n",
       "      <td>0</td>\n",
       "      <td>11</td>\n",
       "      <td>0.001445</td>\n",
       "      <td>0-11</td>\n",
       "    </tr>\n",
       "    <tr>\n",
       "      <th>2</th>\n",
       "      <td>0</td>\n",
       "      <td>16</td>\n",
       "      <td>0.002168</td>\n",
       "      <td>0-16</td>\n",
       "    </tr>\n",
       "    <tr>\n",
       "      <th>3</th>\n",
       "      <td>0</td>\n",
       "      <td>31</td>\n",
       "      <td>0.002195</td>\n",
       "      <td>0-31</td>\n",
       "    </tr>\n",
       "    <tr>\n",
       "      <th>4</th>\n",
       "      <td>0</td>\n",
       "      <td>62</td>\n",
       "      <td>0.001747</td>\n",
       "      <td>0-62</td>\n",
       "    </tr>\n",
       "    <tr>\n",
       "      <th>...</th>\n",
       "      <td>...</td>\n",
       "      <td>...</td>\n",
       "      <td>...</td>\n",
       "      <td>...</td>\n",
       "    </tr>\n",
       "    <tr>\n",
       "      <th>428927</th>\n",
       "      <td>126</td>\n",
       "      <td>32751</td>\n",
       "      <td>0.003461</td>\n",
       "      <td>126-32751</td>\n",
       "    </tr>\n",
       "    <tr>\n",
       "      <th>428928</th>\n",
       "      <td>126</td>\n",
       "      <td>32753</td>\n",
       "      <td>0.003113</td>\n",
       "      <td>126-32753</td>\n",
       "    </tr>\n",
       "    <tr>\n",
       "      <th>428929</th>\n",
       "      <td>126</td>\n",
       "      <td>32758</td>\n",
       "      <td>0.004070</td>\n",
       "      <td>126-32758</td>\n",
       "    </tr>\n",
       "    <tr>\n",
       "      <th>428930</th>\n",
       "      <td>126</td>\n",
       "      <td>32763</td>\n",
       "      <td>0.003357</td>\n",
       "      <td>126-32763</td>\n",
       "    </tr>\n",
       "    <tr>\n",
       "      <th>428931</th>\n",
       "      <td>126</td>\n",
       "      <td>32767</td>\n",
       "      <td>0.002090</td>\n",
       "      <td>126-32767</td>\n",
       "    </tr>\n",
       "  </tbody>\n",
       "</table>\n",
       "<p>428932 rows × 4 columns</p>\n",
       "</div>"
      ],
      "text/plain": [
       "        stock_id  time_id    target     row_id\n",
       "0              0        5  0.004136        0-5\n",
       "1              0       11  0.001445       0-11\n",
       "2              0       16  0.002168       0-16\n",
       "3              0       31  0.002195       0-31\n",
       "4              0       62  0.001747       0-62\n",
       "...          ...      ...       ...        ...\n",
       "428927       126    32751  0.003461  126-32751\n",
       "428928       126    32753  0.003113  126-32753\n",
       "428929       126    32758  0.004070  126-32758\n",
       "428930       126    32763  0.003357  126-32763\n",
       "428931       126    32767  0.002090  126-32767\n",
       "\n",
       "[428932 rows x 4 columns]"
      ]
     },
     "execution_count": 40,
     "metadata": {},
     "output_type": "execute_result"
    }
   ],
   "source": [
    "df_target"
   ]
  },
  {
   "cell_type": "code",
   "execution_count": 41,
   "id": "2b2a07cb",
   "metadata": {},
   "outputs": [
    {
     "name": "stderr",
     "output_type": "stream",
     "text": [
      "/home/machine2/Desktop/Realized_Volatility_Prediction_-erdos_deeplearning-/NNetwork/../proj_mod/training.py:342: SettingWithCopyWarning: \n",
      "A value is trying to be set on a copy of a slice from a DataFrame.\n",
      "Try using .loc[row_indexer,col_indexer] = value instead\n",
      "\n",
      "See the caveats in the documentation: https://pandas.pydata.org/pandas-docs/stable/user_guide/indexing.html#returning-a-view-versus-a-copy\n",
      "  df_tab_copy[\"sub_int_num\"]=np.nan\n",
      "/home/machine2/Desktop/Realized_Volatility_Prediction_-erdos_deeplearning-/NNetwork/../proj_mod/training.py:342: SettingWithCopyWarning: \n",
      "A value is trying to be set on a copy of a slice from a DataFrame.\n",
      "Try using .loc[row_indexer,col_indexer] = value instead\n",
      "\n",
      "See the caveats in the documentation: https://pandas.pydata.org/pandas-docs/stable/user_guide/indexing.html#returning-a-view-versus-a-copy\n",
      "  df_tab_copy[\"sub_int_num\"]=np.nan\n"
     ]
    }
   ],
   "source": [
    "train_dataset=training.RVdataset(time_id_list=train_time_id,ts_features=[\"sub_int_RV\"],df_ts_feat=df_RV_ts,df_target=df_target)\n",
    "test_dataset=training.RVdataset(time_id_list=test_time_id,ts_features=[\"sub_int_RV\"],df_ts_feat=df_RV_ts,df_target=df_target)"
   ]
  },
  {
   "cell_type": "code",
   "execution_count": 42,
   "id": "b7c432cf",
   "metadata": {},
   "outputs": [
    {
     "data": {
      "text/plain": [
       "torch.Size([386036, 60])"
      ]
     },
     "execution_count": 42,
     "metadata": {},
     "output_type": "execute_result"
    }
   ],
   "source": [
    "train_dataset.features.shape"
   ]
  },
  {
   "cell_type": "code",
   "execution_count": 43,
   "id": "07885f81",
   "metadata": {},
   "outputs": [
    {
     "data": {
      "text/plain": [
       "torch.Size([386036, 1])"
      ]
     },
     "execution_count": 43,
     "metadata": {},
     "output_type": "execute_result"
    }
   ],
   "source": [
    "train_dataset.target.shape"
   ]
  },
  {
   "cell_type": "markdown",
   "id": "f0056627",
   "metadata": {},
   "source": [
    "Not entirely sure what the error code is about, I am literally doing exactly as suggested by the warning. https://stackoverflow.com/questions/23688307/settingwithcopywarning-even-when-using-loc says this is a false positive. "
   ]
  },
  {
   "cell_type": "markdown",
   "id": "596532d4-3c50-4a8e-bbda-8448b8f02b4d",
   "metadata": {},
   "source": [
    "## Experiment: RNN (with some fine tuning), LSTM, and linear regression"
   ]
  },
  {
   "cell_type": "code",
   "execution_count": 44,
   "id": "2721fdfa-a2d2-4461-8a99-0fe183fcbfc3",
   "metadata": {},
   "outputs": [
    {
     "name": "stdout",
     "output_type": "stream",
     "text": [
      "In fold 0 :\n",
      "\n",
      "Train set end at 8117 .\n",
      "\n",
      "Test set start at 15516 end at 10890 .\n",
      "\n"
     ]
    },
    {
     "name": "stderr",
     "output_type": "stream",
     "text": [
      "/home/machine2/Desktop/Realized_Volatility_Prediction_-erdos_deeplearning-/NNetwork/../proj_mod/training.py:342: SettingWithCopyWarning: \n",
      "A value is trying to be set on a copy of a slice from a DataFrame.\n",
      "Try using .loc[row_indexer,col_indexer] = value instead\n",
      "\n",
      "See the caveats in the documentation: https://pandas.pydata.org/pandas-docs/stable/user_guide/indexing.html#returning-a-view-versus-a-copy\n",
      "  df_tab_copy[\"sub_int_num\"]=np.nan\n",
      "/home/machine2/Desktop/Realized_Volatility_Prediction_-erdos_deeplearning-/NNetwork/../proj_mod/training.py:342: SettingWithCopyWarning: \n",
      "A value is trying to be set on a copy of a slice from a DataFrame.\n",
      "Try using .loc[row_indexer,col_indexer] = value instead\n",
      "\n",
      "See the caveats in the documentation: https://pandas.pydata.org/pandas-docs/stable/user_guide/indexing.html#returning-a-view-versus-a-copy\n",
      "  df_tab_copy[\"sub_int_num\"]=np.nan\n"
     ]
    }
   ],
   "source": [
    "time_split_list=data_processing.time_cross_val_split(list_time=list_time,n_split=1,percent_val_size=10,list_output=True)\n",
    "train_time_id,test_time_id=time_split_list[0][0],time_split_list[0][1]\n",
    "\n",
    "train_dataset=training.RVdataset(time_id_list=train_time_id,ts_features=[\"sub_int_RV\"],df_ts_feat=df_RV_ts,df_target=df_target)\n",
    "test_dataset=training.RVdataset(time_id_list=test_time_id,ts_features=[\"sub_int_RV\"],df_ts_feat=df_RV_ts,df_target=df_target)"
   ]
  },
  {
   "cell_type": "markdown",
   "id": "62a44c92-9ff1-4909-808f-0a05b6aa2a14",
   "metadata": {},
   "source": [
    "RNN"
   ]
  },
  {
   "cell_type": "code",
   "execution_count": 45,
   "id": "00de91c2-12af-4f4b-953c-8fa907c945c9",
   "metadata": {
    "scrolled": true
   },
   "outputs": [
    {
     "name": "stdout",
     "output_type": "stream",
     "text": [
      "At  1.2836482524871826  epoch  1 has training loss  tensor(0.2619, device='cuda:0')  and validation loss  tensor(0.2423, device='cuda:0') .\n",
      "\n",
      "At  6.662927627563477  epoch  5 has training loss  tensor(0.2547, device='cuda:0')  and validation loss  tensor(0.2368, device='cuda:0') .\n",
      "\n",
      "At  12.984842538833618  epoch  10 has training loss  tensor(0.2536, device='cuda:0')  and validation loss  tensor(0.2351, device='cuda:0') .\n",
      "\n",
      "At  19.630865812301636  epoch  15 has training loss  tensor(0.2527, device='cuda:0')  and validation loss  tensor(0.2357, device='cuda:0') .\n",
      "\n",
      "At  26.094637393951416  epoch  20 has training loss  tensor(0.2527, device='cuda:0')  and validation loss  tensor(0.2357, device='cuda:0') .\n",
      "\n",
      "The validation loss has not improved for  10  epochs. Stopping current training loop.\n",
      "\n",
      "Best model state dictionary of this training loop is reloaded.\n",
      "\n",
      "According to validation loss, the best model is reached at epoch 14  with validation loss:  tensor(0.2348, device='cuda:0') .\n",
      " The total number of epoch trained is  24 .\n",
      " Training completed in:  31.20871138572693 .\n",
      "\n"
     ]
    },
    {
     "data": {
      "text/plain": [
       "OrderedDict([('frozen_conv.frozen_conv.weight',\n",
       "              tensor([[[-1.,  1.]]], device='cuda:0')),\n",
       "             ('linear_proj_input.weight',\n",
       "              tensor([[ 0.0534,  0.2919, -0.3057],\n",
       "                      [ 0.0650,  0.0654, -0.2658],\n",
       "                      [ 0.0175,  0.2920,  0.2604],\n",
       "                      [-0.4015,  0.4187,  0.5416],\n",
       "                      [-0.0904, -0.2123, -0.3803],\n",
       "                      [-0.1478,  0.3972, -0.3277],\n",
       "                      [ 0.5207,  0.7690,  0.4038],\n",
       "                      [ 0.0969, -0.2740, -0.5250],\n",
       "                      [-0.0276, -0.5302, -0.1606],\n",
       "                      [-0.2822, -0.2647,  0.5187],\n",
       "                      [ 0.0045, -0.3951, -0.1687],\n",
       "                      [ 0.5052,  0.1409,  0.3657],\n",
       "                      [ 0.0687,  0.5994,  0.2664],\n",
       "                      [-0.3185, -0.3795,  0.4575],\n",
       "                      [ 0.2545,  0.3227,  0.0565],\n",
       "                      [-0.0836, -0.1112, -0.0495],\n",
       "                      [-0.1078,  0.2917,  0.0700],\n",
       "                      [ 0.4257,  0.1079,  0.0385],\n",
       "                      [ 0.1929, -0.2913, -0.1357],\n",
       "                      [ 0.0022, -0.2931,  0.3934],\n",
       "                      [-0.1998, -0.0600, -0.0532],\n",
       "                      [-0.0650,  0.5099,  0.4387],\n",
       "                      [-0.0485,  0.6677,  0.4892],\n",
       "                      [ 0.0210, -0.5561, -0.0992],\n",
       "                      [-0.1579,  0.0940, -0.4233],\n",
       "                      [-0.2049, -0.0132, -0.1750],\n",
       "                      [ 0.3622, -0.0936,  0.3698],\n",
       "                      [-0.2976,  0.0076,  0.0029],\n",
       "                      [-0.1410,  0.2274, -0.1086],\n",
       "                      [-0.2515,  0.2471,  0.0651],\n",
       "                      [-0.4305, -0.1122, -0.2941],\n",
       "                      [ 0.4586,  0.3367, -0.0064]], device='cuda:0')),\n",
       "             ('linear_proj_input.bias',\n",
       "              tensor([-0.2166, -0.0607, -0.0186,  0.1198,  0.1875,  0.1542, -0.2492, -0.2298,\n",
       "                      -0.1050, -0.4194,  0.2647,  0.0163,  0.0282,  0.3430, -0.2433,  0.1832,\n",
       "                       0.2823, -0.5221, -0.2325,  0.0210,  0.0933,  0.1346, -0.0552,  0.0137,\n",
       "                       0.0161, -0.0591, -0.2444, -0.2754,  0.2937, -0.4088,  0.3112,  0.1076],\n",
       "                     device='cuda:0')),\n",
       "             ('RNN_layer.weight_ih_l0',\n",
       "              tensor([[-0.0255,  0.3028, -0.2161,  ..., -0.1424,  0.0265, -0.1383],\n",
       "                      [-0.0417,  0.1997, -0.0438,  ...,  0.0671,  0.1211, -0.1283],\n",
       "                      [-0.0783, -0.3230,  0.0236,  ...,  0.0160, -0.1296,  0.0806],\n",
       "                      ...,\n",
       "                      [-0.0510, -0.0287,  0.0570,  ...,  0.3532,  0.1984, -0.0767],\n",
       "                      [-0.1034, -0.0024, -0.0551,  ..., -0.1347, -0.1531, -0.0676],\n",
       "                      [-0.1809, -0.2125,  0.6011,  ..., -0.0998, -0.0267,  0.0536]],\n",
       "                     device='cuda:0')),\n",
       "             ('RNN_layer.weight_hh_l0',\n",
       "              tensor([[ 0.0135,  0.2369,  0.2202,  ..., -0.1054,  0.0496,  0.0646],\n",
       "                      [-0.1969,  0.0312, -0.3042,  ..., -0.2111, -0.1470, -0.1231],\n",
       "                      [-0.0090, -0.2736,  0.0037,  ...,  0.0503,  0.0562,  0.1543],\n",
       "                      ...,\n",
       "                      [-0.0804, -0.0174, -0.0900,  ...,  0.1085, -0.2329,  0.1649],\n",
       "                      [-0.1400, -0.1192, -0.1340,  ..., -0.1028,  0.0357, -0.0168],\n",
       "                      [ 0.3256, -0.0276,  0.1408,  ...,  0.1454,  0.1549,  0.0894]],\n",
       "                     device='cuda:0')),\n",
       "             ('RNN_layer.bias_ih_l0',\n",
       "              tensor([-0.0286,  0.0196,  0.0165,  0.1395, -0.0161,  0.2002,  0.1304,  0.0225,\n",
       "                      -0.1438,  0.0755, -0.0122,  0.1250, -0.0436,  0.0879, -0.0780, -0.0996,\n",
       "                      -0.2170,  0.0061,  0.0891,  0.0799,  0.0999, -0.0529, -0.0097, -0.1093,\n",
       "                       0.0731, -0.0588, -0.1403,  0.0970, -0.0883, -0.0254, -0.0019,  0.1061],\n",
       "                     device='cuda:0')),\n",
       "             ('RNN_layer.bias_hh_l0',\n",
       "              tensor([ 0.1170,  0.0916, -0.0219,  0.0942,  0.0589, -0.0051, -0.1581, -0.1008,\n",
       "                       0.1751,  0.0371,  0.0915, -0.1489, -0.0865,  0.0103, -0.1195, -0.0916,\n",
       "                      -0.1451,  0.1011, -0.1168,  0.1082, -0.0648,  0.0260, -0.0390,  0.2157,\n",
       "                      -0.1093, -0.1658,  0.0428,  0.1888, -0.1285, -0.0735,  0.1128,  0.0019],\n",
       "                     device='cuda:0')),\n",
       "             ('linear_post_rnn.weight',\n",
       "              tensor([[-0.1181,  0.0145,  0.0381,  0.1178,  0.0454,  0.1180, -0.1846, -0.1981,\n",
       "                       -0.0787, -0.0040,  0.1482, -0.0111,  0.1731, -0.1102, -0.1142, -0.1898,\n",
       "                       -0.1260, -0.1804,  0.2199,  0.1806, -0.1239, -0.0537,  0.0457, -0.0358,\n",
       "                       -0.2200, -0.1397,  0.0721,  0.0918, -0.0590, -0.0432,  0.1559, -0.1018]],\n",
       "                     device='cuda:0')),\n",
       "             ('linear_post_rnn.bias', tensor([0.0988], device='cuda:0'))])"
      ]
     },
     "execution_count": 45,
     "metadata": {},
     "output_type": "execute_result"
    }
   ],
   "source": [
    "RNN_model=training.RV_RNN_conv(n_diff=2, rnn_type=\"rnn\",rnn_act=\"tanh\",rnn_drop_out=0,rnn_hidden_size=32,proj_dim=32,rnn_num_layer=1,input_scaler=10000).to(device=device)\n",
    "\n",
    "import torch.optim as optim\n",
    "\n",
    "optimizer=optim.Adam(RNN_model.parameters(),lr=1e-3)\n",
    "\n",
    "train_loader=torch.utils.data.DataLoader(dataset=train_dataset,batch_size=512,shuffle=True, num_workers=4, pin_memory=True)\n",
    "test_loader=torch.utils.data.DataLoader(dataset=test_dataset,batch_size=512,shuffle=True, num_workers =4, pin_memory=True)\n",
    "\n",
    "train_loss=[]\n",
    "val_loss=[]\n",
    "\n",
    "training.reg_training_loop_rmspe(optimizer=optimizer,model=RNN_model,train_loader=train_loader,val_loader=test_loader,list_train_loss=train_loss,list_val_loss=val_loss,device=device,n_epochs=100,ot_steps=10,report_interval=5,eps=0,scaler=1)"
   ]
  },
  {
   "cell_type": "code",
   "execution_count": 46,
   "id": "fb1f55fb-a478-4bee-bf57-12189db4383a",
   "metadata": {},
   "outputs": [
    {
     "data": {
      "text/plain": [
       "<matplotlib.collections.PathCollection at 0x7f7c7a7f06a0>"
      ]
     },
     "execution_count": 46,
     "metadata": {},
     "output_type": "execute_result"
    },
    {
     "data": {
      "image/png": "[encoded data removed]",
      "text/plain": [
       "<Figure size 640x480 with 1 Axes>"
      ]
     },
     "metadata": {},
     "output_type": "display_data"
    }
   ],
   "source": [
    "train_loss=[x.cpu() for x in train_loss]\n",
    "val_loss=[x.cpu() for x in val_loss]\n",
    "\n",
    "import matplotlib.pyplot as plt \n",
    "\n",
    "x=np.arange(len(train_loss))\n",
    "\n",
    "plt.scatter(x,train_loss,c=\"blue\")\n",
    "plt.scatter(x,val_loss,c=\"orange\")"
   ]
  },
  {
   "cell_type": "markdown",
   "id": "9b608cb1-05a8-417d-8a2a-8816518de943",
   "metadata": {},
   "source": [
    "LSTM:"
   ]
  },
  {
   "cell_type": "code",
   "execution_count": 47,
   "id": "cf7afa75-8e8c-4318-9c75-4e4029fdc57d",
   "metadata": {
    "scrolled": true
   },
   "outputs": [
    {
     "name": "stdout",
     "output_type": "stream",
     "text": [
      "Warning: rnn_act='tanh' is ignored when using rnn_type='lstm'\n",
      "At  1.0748326778411865  epoch  1 has training loss  tensor(0.2743, device='cuda:0')  and validation loss  tensor(0.2365, device='cuda:0') .\n",
      "\n",
      "At  6.18251633644104  epoch  5 has training loss  tensor(0.2503, device='cuda:0')  and validation loss  tensor(0.2335, device='cuda:0') .\n",
      "\n",
      "At  12.641299962997437  epoch  10 has training loss  tensor(0.2477, device='cuda:0')  and validation loss  tensor(0.2336, device='cuda:0') .\n",
      "\n",
      "At  19.42552661895752  epoch  15 has training loss  tensor(0.2458, device='cuda:0')  and validation loss  tensor(0.2312, device='cuda:0') .\n",
      "\n",
      "At  26.10793972015381  epoch  20 has training loss  tensor(0.2452, device='cuda:0')  and validation loss  tensor(0.2344, device='cuda:0') .\n",
      "\n",
      "At  32.48069524765015  epoch  25 has training loss  tensor(0.2447, device='cuda:0')  and validation loss  tensor(0.2304, device='cuda:0') .\n",
      "\n",
      "At  38.90877842903137  epoch  30 has training loss  tensor(0.2443, device='cuda:0')  and validation loss  tensor(0.2304, device='cuda:0') .\n",
      "\n",
      "At  45.39295244216919  epoch  35 has training loss  tensor(0.2446, device='cuda:0')  and validation loss  tensor(0.2311, device='cuda:0') .\n",
      "\n",
      "At  51.812114238739014  epoch  40 has training loss  tensor(0.2434, device='cuda:0')  and validation loss  tensor(0.2316, device='cuda:0') .\n",
      "\n",
      "At  58.206992864608765  epoch  45 has training loss  tensor(0.2434, device='cuda:0')  and validation loss  tensor(0.2309, device='cuda:0') .\n",
      "\n",
      "The validation loss has not improved for  10  epochs. Stopping current training loop.\n",
      "\n",
      "Best model state dictionary of this training loop is reloaded.\n",
      "\n",
      "According to validation loss, the best model is reached at epoch 36  with validation loss:  tensor(0.2301, device='cuda:0') .\n",
      " The total number of epoch trained is  46 .\n",
      " Training completed in:  59.470561027526855 .\n",
      "\n"
     ]
    },
    {
     "data": {
      "text/plain": [
       "OrderedDict([('frozen_conv.frozen_conv.weight',\n",
       "              tensor([[[-1.,  1.]]], device='cuda:0')),\n",
       "             ('linear_proj_input.weight',\n",
       "              tensor([[ 0.0069,  0.1811,  0.1279],\n",
       "                      [ 0.2459,  0.4032,  0.2393],\n",
       "                      [-0.2490, -0.3000, -0.2406],\n",
       "                      [-0.1185,  0.1376,  0.0902],\n",
       "                      [ 0.2450, -0.0417, -0.2803],\n",
       "                      [ 0.0578,  0.1179, -0.0844],\n",
       "                      [-0.0424,  0.0367,  0.1358],\n",
       "                      [-0.1225, -0.4786, -0.1143],\n",
       "                      [-0.0425, -0.0565, -0.0021],\n",
       "                      [-0.0367,  0.2773,  0.1936],\n",
       "                      [ 0.2026, -0.6658, -0.3960],\n",
       "                      [ 0.2435, -0.0487, -0.2872],\n",
       "                      [ 0.2213, -0.2336,  0.1110],\n",
       "                      [ 0.0607, -0.2668,  0.1187],\n",
       "                      [ 0.1262, -0.0500, -0.0125],\n",
       "                      [ 0.0250,  0.3876,  0.2328],\n",
       "                      [-0.0094,  0.0118, -0.0095],\n",
       "                      [-0.0987, -0.2755,  0.0026],\n",
       "                      [ 0.0923,  0.1470, -0.0529],\n",
       "                      [-0.4250, -0.0608, -0.0056],\n",
       "                      [-0.3656, -0.5486, -0.3285],\n",
       "                      [ 0.1059,  0.1513,  0.0551],\n",
       "                      [ 0.0100,  0.0130, -0.0014],\n",
       "                      [ 0.1909, -0.2455, -0.1381],\n",
       "                      [-0.1148,  0.5762,  0.3146],\n",
       "                      [-0.0052,  0.1987,  0.0629],\n",
       "                      [ 0.0022, -0.0055, -0.0096],\n",
       "                      [ 0.2796,  0.2539,  0.1095],\n",
       "                      [-0.0893,  0.0100, -0.0477],\n",
       "                      [-0.1785, -0.2729,  0.1361],\n",
       "                      [-0.1971, -0.4311, -0.2046],\n",
       "                      [ 0.0139,  0.0293,  0.0283]], device='cuda:0')),\n",
       "             ('linear_proj_input.bias',\n",
       "              tensor([ 0.0412, -0.3936, -0.0962, -0.0134,  0.3826,  0.1734,  0.0759,  0.0704,\n",
       "                       0.0194, -0.0012,  0.4403, -0.5624, -0.0754,  0.2423,  0.0489,  0.3024,\n",
       "                      -0.0165,  0.2290,  0.0462,  0.4898,  0.4525, -0.3432, -0.0146, -0.2409,\n",
       "                       0.3129,  0.0036,  0.0272, -0.1457, -0.0912,  0.1124, -0.3341, -0.0011],\n",
       "                     device='cuda:0')),\n",
       "             ('RNN_layer.weight_ih_l0',\n",
       "              tensor([[-0.2317,  0.1856, -0.1432,  ..., -0.1780,  0.2370,  0.0142],\n",
       "                      [ 0.0170, -0.0407, -0.0063,  ..., -0.0324,  0.1027,  0.0033],\n",
       "                      [-0.1094, -0.3182,  0.2347,  ...,  0.1834,  0.3727,  0.0236],\n",
       "                      ...,\n",
       "                      [ 0.0263,  0.2301, -0.0820,  ...,  0.0773,  0.0254, -0.1379],\n",
       "                      [ 0.4527, -0.3282,  0.0490,  ..., -0.0975, -0.1202,  0.4408],\n",
       "                      [ 0.2176, -0.0699, -0.1599,  ..., -0.0924,  0.0980, -0.0711]],\n",
       "                     device='cuda:0')),\n",
       "             ('RNN_layer.weight_hh_l0',\n",
       "              tensor([[-0.4456,  0.0507,  0.7273,  ...,  0.1298, -0.1539,  0.5780],\n",
       "                      [-0.1408,  0.1037, -0.1009,  ..., -0.8678,  0.0574, -0.5133],\n",
       "                      [ 0.2311,  0.1507, -0.1981,  ...,  0.9246,  0.5777,  0.2164],\n",
       "                      ...,\n",
       "                      [ 0.2492, -0.8771, -0.6296,  ...,  0.9705,  0.1573, -0.3814],\n",
       "                      [ 0.0062,  0.1042,  0.0538,  ...,  0.9150, -0.3338, -0.3413],\n",
       "                      [ 0.3815,  0.2860, -0.5249,  ...,  0.7534,  0.0410,  0.0828]],\n",
       "                     device='cuda:0')),\n",
       "             ('RNN_layer.bias_ih_l0',\n",
       "              tensor([-0.3316, -0.5057,  0.0554, -0.2755, -0.0686, -0.1504, -0.1102, -0.0749,\n",
       "                       0.1811, -0.1539,  0.0111,  0.1353,  0.1077, -0.0717, -0.1701,  0.0916,\n",
       "                      -0.2137, -0.2951, -0.3266, -0.0127,  0.0734, -0.2507,  0.0165, -0.2718,\n",
       "                      -0.0625, -0.4720, -0.2241, -0.6282, -0.3049, -0.5354, -0.1142, -0.3366,\n",
       "                       0.2957,  0.5678,  0.4350, -0.0579,  0.1187,  0.0399,  0.0426,  0.3158,\n",
       "                       0.1435, -0.0359, -0.1362,  0.1402, -0.1535,  0.1162,  0.5572, -0.2148,\n",
       "                      -0.0318,  0.0838, -0.3519, -0.1658, -0.0833, -0.3891,  0.1197, -0.0358,\n",
       "                      -0.0217,  0.0355,  0.3625,  0.2918,  0.1041,  0.0851,  0.2861,  0.0059,\n",
       "                      -0.1761, -0.0271,  0.1748,  0.1153,  0.0097,  0.1038,  0.1728,  0.0741,\n",
       "                       0.2667,  0.0172, -0.1286, -0.0452, -0.0845, -0.0076,  0.0044,  0.1467,\n",
       "                       0.0848,  0.0604, -0.0011,  0.0776,  0.0484,  0.0302,  0.0369,  0.0293,\n",
       "                      -0.0691, -0.2069,  0.0263,  0.2676,  0.0750,  0.1344,  0.0114,  0.1975,\n",
       "                       0.2047, -0.0957, -0.3829, -0.5359,  0.0074,  0.0905, -0.1422,  0.1295,\n",
       "                       0.0152, -0.0562, -0.0028, -0.0343, -0.1382,  0.1141,  0.5125, -0.2931,\n",
       "                      -0.3311,  0.0468, -0.0811,  0.0967, -0.2007, -0.3248, -0.0444, -0.2794,\n",
       "                       0.0376, -0.2631, -0.1056, -0.0707, -0.2245, -0.2669,  0.1758, -0.2160],\n",
       "                     device='cuda:0')),\n",
       "             ('RNN_layer.bias_hh_l0',\n",
       "              tensor([-8.8549e-02, -5.2937e-01, -1.3004e-01, -1.7320e-01,  2.6681e-02,\n",
       "                      -2.2231e-01, -1.7193e-01, -1.2021e-01,  1.0195e-01, -1.4612e-02,\n",
       "                      -8.5040e-02,  5.6488e-02, -5.9794e-02, -2.0995e-01, -3.8654e-01,\n",
       "                       7.6246e-02, -1.1156e-01, -3.4893e-01, -5.6934e-02, -1.8513e-01,\n",
       "                       1.8791e-01, -4.2117e-01, -5.1045e-02, -3.6390e-01, -3.2657e-01,\n",
       "                      -4.1814e-01, -1.5989e-01, -7.0820e-01, -3.2840e-01, -6.5348e-01,\n",
       "                      -1.0752e-01, -2.1882e-01,  9.0862e-02,  8.2863e-01,  3.9657e-01,\n",
       "                      -1.0478e-02, -5.0463e-02,  1.7033e-01, -2.6971e-01,  3.1212e-01,\n",
       "                       2.5552e-01, -2.5991e-02, -5.3191e-02,  3.7042e-01, -3.8214e-02,\n",
       "                       1.3545e-01,  4.6551e-01, -2.5957e-01, -5.2676e-02, -1.3714e-01,\n",
       "                      -2.2770e-01, -3.3108e-01,  1.0820e-01, -4.4645e-01,  1.1484e-01,\n",
       "                       1.7134e-01, -2.5024e-02, -3.5697e-02,  8.9490e-02,  2.3356e-01,\n",
       "                       1.2614e-02,  1.0102e-01, -4.3026e-02,  2.0924e-01, -2.3880e-01,\n",
       "                       7.2477e-02,  9.1396e-02,  7.2033e-04, -2.3103e-01, -1.3457e-01,\n",
       "                      -5.5093e-02, -1.5555e-01,  4.6025e-02,  7.4473e-02,  1.1606e-01,\n",
       "                       2.4819e-01, -1.2268e-01, -2.2761e-02,  1.6870e-01, -1.7470e-01,\n",
       "                      -2.5953e-02,  1.0441e-02, -3.1291e-02,  4.5320e-02,  2.4888e-02,\n",
       "                       7.6519e-02,  1.1444e-01, -2.5722e-01,  1.5287e-01, -1.5460e-01,\n",
       "                       4.0361e-02,  1.6580e-01, -1.3105e-01,  2.7144e-02, -1.9940e-02,\n",
       "                      -2.4212e-02, -9.1406e-02, -7.5458e-02, -2.7376e-01, -7.0111e-01,\n",
       "                      -1.6905e-01,  2.0888e-01, -1.7869e-01,  2.9886e-01, -3.7016e-02,\n",
       "                      -2.8346e-02,  4.3057e-03,  1.7122e-01, -2.9766e-03,  1.6104e-01,\n",
       "                       4.0175e-01, -2.8064e-01, -1.2980e-01, -5.4575e-02, -1.7442e-01,\n",
       "                       3.7165e-02,  5.3997e-02, -1.0892e-01, -3.5698e-02, -5.7713e-02,\n",
       "                       8.8507e-02, -4.9803e-01,  3.3861e-03,  2.1898e-02, -3.5680e-01,\n",
       "                      -5.6063e-01,  9.8985e-02,  4.8310e-02], device='cuda:0')),\n",
       "             ('linear_post_rnn.weight',\n",
       "              tensor([[ 0.1404,  0.0863, -0.2096,  0.3198,  0.1619,  0.0306, -0.1657,  0.0631,\n",
       "                        0.1982,  0.1974, -0.0836,  0.1116,  0.2887,  0.1497, -0.0251, -0.2737,\n",
       "                       -0.1737, -0.3410,  0.1187,  0.1497, -0.0098,  0.2129,  0.1252,  0.1107,\n",
       "                       -0.2667,  0.3283, -0.0385, -0.0567, -0.1953,  0.3865, -0.0339, -0.0470]],\n",
       "                     device='cuda:0')),\n",
       "             ('linear_post_rnn.bias', tensor([-0.0666], device='cuda:0'))])"
      ]
     },
     "execution_count": 47,
     "metadata": {},
     "output_type": "execute_result"
    }
   ],
   "source": [
    "RNN_model=training.RV_RNN_conv(n_diff=2, rnn_type=\"lstm\",rnn_act=\"tanh\",rnn_drop_out=0,rnn_hidden_size=32,proj_dim=32,rnn_num_layer=1,input_scaler=10000).to(device=device)\n",
    "\n",
    "import torch.optim as optim\n",
    "\n",
    "optimizer=optim.Adam(RNN_model.parameters(),lr=1e-3)\n",
    "\n",
    "train_loader=torch.utils.data.DataLoader(dataset=train_dataset,batch_size=512,shuffle=True, num_workers=4, pin_memory=True)\n",
    "test_loader=torch.utils.data.DataLoader(dataset=test_dataset,batch_size=512,shuffle=True, num_workers =4, pin_memory=True)\n",
    "\n",
    "train_loss=[]\n",
    "val_loss=[]\n",
    "\n",
    "training.reg_training_loop_rmspe(optimizer=optimizer,model=RNN_model,train_loader=train_loader,val_loader=test_loader,list_train_loss=train_loss,list_val_loss=val_loss,device=device,n_epochs=100,ot_steps=10,report_interval=5,eps=0,scaler=1)"
   ]
  },
  {
   "cell_type": "code",
   "execution_count": 48,
   "id": "5aa699c1-a918-4831-9f1b-8697e25bd98c",
   "metadata": {},
   "outputs": [
    {
     "data": {
      "text/plain": [
       "<matplotlib.collections.PathCollection at 0x7f7c7a151c30>"
      ]
     },
     "execution_count": 48,
     "metadata": {},
     "output_type": "execute_result"
    },
    {
     "data": {
      "image/png": "[encoded data removed]",
      "text/plain": [
       "<Figure size 640x480 with 1 Axes>"
      ]
     },
     "metadata": {},
     "output_type": "display_data"
    }
   ],
   "source": [
    "train_loss=[x.cpu() for x in train_loss]\n",
    "val_loss=[x.cpu() for x in val_loss]\n",
    "\n",
    "import matplotlib.pyplot as plt \n",
    "\n",
    "x=np.arange(len(train_loss))\n",
    "\n",
    "plt.scatter(x,train_loss,c=\"blue\")\n",
    "plt.scatter(x,val_loss,c=\"orange\")"
   ]
  },
  {
   "cell_type": "markdown",
   "id": "344515ae-1741-4b2e-8716-2725cee570cd",
   "metadata": {},
   "source": [
    "Baseline Model"
   ]
  },
  {
   "cell_type": "code",
   "execution_count": 49,
   "id": "78c69b98-2b5a-4a8a-9998-a0c0951bd7bd",
   "metadata": {},
   "outputs": [],
   "source": [
    "# First build an approximate RV feature\n",
    "path_book=\"../raw_data/kaggle_ORVP/book_train.parquet\"\n",
    "df_rv=data_processing.create_df_RV_by_row_id_parallel(path_book)\n",
    "\n",
    "# Then merge with target dataframe\n",
    "df_rv_target=pd.merge(df_target, df_rv, on=[\"row_id\",\"time_id\",\"stock_id\"])\n",
    "\n",
    "train_dataset_base = df_rv_target.loc[df_rv_target['time_id'].isin(train_time_id), ['RV','target','row_id']].set_index('row_id')\n",
    "test_dataset_base = df_rv_target.loc[df_rv_target['time_id'].isin(test_time_id), ['RV','target','row_id']].set_index('row_id')"
   ]
  },
  {
   "cell_type": "code",
   "execution_count": 50,
   "id": "b878416c-6f16-4029-9291-a62fb6d1657b",
   "metadata": {
    "scrolled": true
   },
   "outputs": [
    {
     "name": "stdout",
     "output_type": "stream",
     "text": [
      "The losses for training and validation data are: 0.3019 and 0.2678\n"
     ]
    }
   ],
   "source": [
    "from sklearn.linear_model import LinearRegression\n",
    "\n",
    "X_train=train_dataset_base[['RV']]\n",
    "y_train=train_dataset_base['target']\n",
    "\n",
    "X_test=test_dataset_base[['RV']]\n",
    "y_test=test_dataset_base['target']\n",
    "\n",
    "model= LinearRegression()\n",
    "model.fit(X_train,y_train)\n",
    "\n",
    "training_loss = training.rmspe(model.predict(X_train),y_train)\n",
    "validation_loss = training.rmspe(model.predict(X_test),y_test)\n",
    "\n",
    "print(\"The losses for training and validation data are: {:.4f} and {:.4f}\".format(training_loss, validation_loss))"
   ]
  },
  {
   "cell_type": "markdown",
   "id": "8c408726",
   "metadata": {},
   "source": [
    "## Training with native values, with a 10000 times scaler on input. "
   ]
  },
  {
   "cell_type": "markdown",
   "id": "57cc50c5",
   "metadata": {},
   "source": [
    "A key issue with our input timeseries is that all values are extremely close to zero, so a 10000 times scaler can help with expanding them a little. "
   ]
  },
  {
   "cell_type": "code",
   "execution_count": 51,
   "id": "2efd16ac",
   "metadata": {},
   "outputs": [
    {
     "name": "stdout",
     "output_type": "stream",
     "text": [
      "Using device cuda\n"
     ]
    }
   ],
   "source": [
    "device=(torch.device(\"cuda\") if torch.cuda.is_available() else torch.device(\"cpu\"))\n",
    "print(f\"Using device {device}\")"
   ]
  },
  {
   "cell_type": "code",
   "execution_count": 52,
   "id": "1b95e6a7",
   "metadata": {},
   "outputs": [],
   "source": [
    "RNN_model=training.RV_RNN_conv(n_diff=4,rnn_act=\"tanh\",rnn_drop_out=0,rnn_hidden_size=32,proj_dim=32,rnn_num_layer=1,input_scaler=10000).to(device=device)"
   ]
  },
  {
   "cell_type": "code",
   "execution_count": 53,
   "id": "3846a809",
   "metadata": {},
   "outputs": [],
   "source": [
    "import torch.optim as optim\n",
    "\n",
    "optimizer=optim.Adam(RNN_model.parameters(),lr=1e-3)"
   ]
  },
  {
   "cell_type": "code",
   "execution_count": 54,
   "id": "55dd6fd9",
   "metadata": {},
   "outputs": [],
   "source": [
    "train_loader=torch.utils.data.DataLoader(dataset=train_dataset,batch_size=256,shuffle=True)\n",
    "test_loader=torch.utils.data.DataLoader(dataset=test_dataset,batch_size=256,shuffle=True)"
   ]
  },
  {
   "cell_type": "code",
   "execution_count": 55,
   "id": "292fcf3f",
   "metadata": {},
   "outputs": [],
   "source": [
    "train_loss=[]\n",
    "val_loss=[]"
   ]
  },
  {
   "cell_type": "code",
   "execution_count": 56,
   "id": "810267b9",
   "metadata": {
    "scrolled": true
   },
   "outputs": [
    {
     "name": "stdout",
     "output_type": "stream",
     "text": [
      "At  2.4124667644500732  epoch  1 has training loss  tensor(0.2708, device='cuda:0')  and validation loss  tensor(0.2384, device='cuda:0') .\n",
      "\n",
      "At  12.776042699813843  epoch  5 has training loss  tensor(0.2543, device='cuda:0')  and validation loss  tensor(0.2427, device='cuda:0') .\n",
      "\n",
      "At  25.39820647239685  epoch  10 has training loss  tensor(0.2535, device='cuda:0')  and validation loss  tensor(0.2367, device='cuda:0') .\n",
      "\n",
      "The validation loss has not improved for  10  epochs. Stopping current training loop.\n",
      "\n",
      "Best model state dictionary of this training loop is reloaded.\n",
      "\n",
      "According to validation loss, the best model is reached at epoch 4  with validation loss:  tensor(0.2355, device='cuda:0') .\n",
      " The total number of epoch trained is  14 .\n",
      " Training completed in:  35.43797254562378 .\n",
      "\n"
     ]
    },
    {
     "data": {
      "text/plain": [
       "OrderedDict([('frozen_conv.frozen_conv.weight',\n",
       "              tensor([[[-1.,  1.]]], device='cuda:0')),\n",
       "             ('linear_proj_input.weight',\n",
       "              tensor([[-0.0025,  0.3429, -0.3135, -0.3415,  0.0344],\n",
       "                      [-0.3418, -0.2520,  0.3134,  0.0784, -0.0113],\n",
       "                      [-0.0905,  0.0536,  0.2372,  0.2678,  0.2170],\n",
       "                      [ 0.1711,  0.4248,  0.1065,  0.3274,  0.2058],\n",
       "                      [ 0.1589, -0.0608,  0.2764,  0.5181,  0.2483],\n",
       "                      [ 0.2800,  0.2423,  0.2475,  0.1755, -0.2207],\n",
       "                      [ 0.0426,  0.0317,  0.0968,  0.2307,  0.1035],\n",
       "                      [-0.2158, -0.1542, -0.5177, -0.2377,  0.2228],\n",
       "                      [ 0.1103,  0.1349,  0.4890,  0.3527,  0.0660],\n",
       "                      [ 0.0250, -0.0797, -0.2141,  0.0243,  0.0511],\n",
       "                      [-0.3591, -0.4367, -0.2663, -0.3177, -0.1018],\n",
       "                      [ 0.0740, -0.3691, -0.1955, -0.2974, -0.2060],\n",
       "                      [ 0.4069,  0.1485, -0.4036,  0.1674, -0.2197],\n",
       "                      [-0.2402, -0.4507, -0.0917,  0.2876,  0.1590],\n",
       "                      [ 0.4173,  0.2370, -0.3375,  0.0564,  0.1278],\n",
       "                      [ 0.0111, -0.0725,  0.2003, -0.2293,  0.1565],\n",
       "                      [ 0.1807,  0.6240,  0.3554, -0.3125, -0.2494],\n",
       "                      [ 0.0284, -0.2425, -0.2189, -0.1109, -0.0828],\n",
       "                      [ 0.1114,  0.0901, -0.3234, -0.1055,  0.0656],\n",
       "                      [-0.3856, -0.5179,  0.0685,  0.1002, -0.2194],\n",
       "                      [-0.3777, -0.3699, -0.4680, -0.1083, -0.2665],\n",
       "                      [ 0.1547,  0.6416,  0.2032, -0.1377,  0.2134],\n",
       "                      [-0.3235, -0.1713, -0.2430,  0.3123, -0.0120],\n",
       "                      [ 0.0452,  0.0333,  0.1796, -0.1291, -0.1167],\n",
       "                      [ 0.1949,  0.5191,  0.2493, -0.0389, -0.1115],\n",
       "                      [-0.0575,  0.3855,  0.6115,  0.0808, -0.1879],\n",
       "                      [-0.4828, -0.3844,  0.2603, -0.1607,  0.2353],\n",
       "                      [-0.0044,  0.0653,  0.3483,  0.3473,  0.1101],\n",
       "                      [-0.0601,  0.4179,  0.1086,  0.2150,  0.1569],\n",
       "                      [-0.1659,  0.5302,  0.4838, -0.2114, -0.2596],\n",
       "                      [ 0.2102,  0.1182, -0.2083, -0.2416, -0.0433],\n",
       "                      [-0.3400,  0.0460,  0.0715,  0.1072, -0.0207]], device='cuda:0')),\n",
       "             ('linear_proj_input.bias',\n",
       "              tensor([-0.0540,  0.4019, -0.0352, -0.1232, -0.1309, -0.1846, -0.1597, -0.0719,\n",
       "                      -0.1221, -0.1207,  0.0215, -0.1495, -0.1527,  0.0558,  0.0778, -0.3758,\n",
       "                      -0.0701, -0.2706,  0.1363, -0.2008,  0.2474,  0.2924, -0.3213,  0.0112,\n",
       "                      -0.1071,  0.0182, -0.2942, -0.0023,  0.1434, -0.1814,  0.1282,  0.2293],\n",
       "                     device='cuda:0')),\n",
       "             ('RNN_layer.weight_ih_l0',\n",
       "              tensor([[ 0.3520, -0.2467,  0.1214,  ...,  0.1434,  0.0374,  0.0038],\n",
       "                      [-0.2447, -0.0669, -0.1399,  ...,  0.0801,  0.0248,  0.0914],\n",
       "                      [-0.0623, -0.0128,  0.0966,  ...,  0.0194,  0.0297, -0.2098],\n",
       "                      ...,\n",
       "                      [-0.1841, -0.1684, -0.1372,  ...,  0.1359, -0.1675, -0.0573],\n",
       "                      [ 0.2876,  0.0979,  0.4298,  ...,  0.0208,  0.0652, -0.1935],\n",
       "                      [ 0.1216,  0.0700, -0.1700,  ...,  0.0453,  0.0104, -0.1146]],\n",
       "                     device='cuda:0')),\n",
       "             ('RNN_layer.weight_hh_l0',\n",
       "              tensor([[-0.0470,  0.1249, -0.0861,  ..., -0.0714, -0.2498, -0.0314],\n",
       "                      [ 0.1172,  0.0135,  0.0724,  ...,  0.1981,  0.0289, -0.0933],\n",
       "                      [ 0.2798, -0.1029, -0.0512,  ..., -0.2505,  0.1897, -0.1338],\n",
       "                      ...,\n",
       "                      [ 0.0845, -0.1617,  0.0931,  ..., -0.0843, -0.1191, -0.0494],\n",
       "                      [-0.0880,  0.2290,  0.1512,  ..., -0.0065, -0.1732, -0.1909],\n",
       "                      [ 0.2784, -0.2916, -0.0269,  ...,  0.0489,  0.0331, -0.0684]],\n",
       "                     device='cuda:0')),\n",
       "             ('RNN_layer.bias_ih_l0',\n",
       "              tensor([ 0.1727,  0.1092,  0.1193,  0.0975, -0.0381,  0.0342,  0.1268, -0.1595,\n",
       "                       0.1163,  0.0503,  0.1711, -0.0880,  0.1482, -0.0576,  0.0776,  0.0163,\n",
       "                      -0.0395, -0.0956, -0.0930,  0.1879, -0.0771, -0.0464, -0.0849, -0.0337,\n",
       "                       0.0883,  0.0296, -0.0218, -0.0618,  0.1653,  0.0057, -0.0527, -0.0991],\n",
       "                     device='cuda:0')),\n",
       "             ('RNN_layer.bias_hh_l0',\n",
       "              tensor([ 0.0936, -0.0699,  0.0592,  0.0962, -0.0144, -0.1631,  0.1370, -0.1290,\n",
       "                      -0.1554, -0.0415,  0.1315,  0.1546, -0.1666,  0.0170,  0.0308, -0.0903,\n",
       "                       0.0126, -0.0650, -0.0274,  0.2071,  0.0113, -0.1119,  0.0086, -0.0105,\n",
       "                      -0.1630,  0.0928, -0.0712,  0.0117, -0.0747, -0.0729, -0.0793,  0.0742],\n",
       "                     device='cuda:0')),\n",
       "             ('linear_post_rnn.weight',\n",
       "              tensor([[ 0.0477, -0.0532,  0.1342, -0.0327, -0.0826, -0.3027,  0.2345,  0.1194,\n",
       "                       -0.1267, -0.0319, -0.0183, -0.0595, -0.2260,  0.0113, -0.1125,  0.0900,\n",
       "                       -0.1676,  0.1786, -0.0276,  0.0114, -0.0668, -0.0207,  0.3450,  0.4875,\n",
       "                       -0.2197, -0.1522, -0.0066,  0.0801, -0.0939,  0.0817, -0.1096,  0.1861]],\n",
       "                     device='cuda:0')),\n",
       "             ('linear_post_rnn.bias', tensor([0.1853], device='cuda:0'))])"
      ]
     },
     "execution_count": 56,
     "metadata": {},
     "output_type": "execute_result"
    }
   ],
   "source": [
    "training.reg_training_loop_rmspe(optimizer=optimizer,model=RNN_model,train_loader=train_loader,val_loader=test_loader,list_train_loss=train_loss,list_val_loss=val_loss,device=device,n_epochs=100,ot_steps=10,report_interval=5,eps=0,scaler=1)"
   ]
  },
  {
   "cell_type": "code",
   "execution_count": 57,
   "id": "66a81f55",
   "metadata": {},
   "outputs": [
    {
     "name": "stdout",
     "output_type": "stream",
     "text": [
      "frozen_conv.frozen_conv.weight False\n",
      "linear_proj_input.weight True\n",
      "linear_proj_input.bias True\n",
      "RNN_layer.weight_ih_l0 True\n",
      "RNN_layer.weight_hh_l0 True\n",
      "RNN_layer.bias_ih_l0 True\n",
      "RNN_layer.bias_hh_l0 True\n",
      "linear_post_rnn.weight True\n",
      "linear_post_rnn.bias True\n"
     ]
    }
   ],
   "source": [
    "for name,param in RNN_model.named_parameters():\n",
    "    print(name,param.requires_grad)"
   ]
  },
  {
   "cell_type": "code",
   "execution_count": 58,
   "id": "0e88bd58",
   "metadata": {},
   "outputs": [],
   "source": [
    "train_loss=[x.cpu() for x in train_loss]\n",
    "val_loss=[x.cpu() for x in val_loss]"
   ]
  },
  {
   "cell_type": "markdown",
   "id": "b9c4ccf4",
   "metadata": {},
   "source": [
    "Above is an example of the training. "
   ]
  },
  {
   "cell_type": "code",
   "execution_count": 59,
   "id": "05ee5053",
   "metadata": {},
   "outputs": [],
   "source": [
    "import matplotlib.pyplot as plt \n",
    "\n",
    "x=np.arange(len(train_loss))"
   ]
  },
  {
   "cell_type": "code",
   "execution_count": 60,
   "id": "ebe3da0c",
   "metadata": {},
   "outputs": [
    {
     "data": {
      "text/plain": [
       "<matplotlib.collections.PathCollection at 0x7f7c6fe87b80>"
      ]
     },
     "execution_count": 60,
     "metadata": {},
     "output_type": "execute_result"
    },
    {
     "data": {
      "image/png": "[encoded data removed]",
      "text/plain": [
       "<Figure size 640x480 with 1 Axes>"
      ]
     },
     "metadata": {},
     "output_type": "display_data"
    }
   ],
   "source": [
    "plt.scatter(x,train_loss,c=\"blue\")\n",
    "plt.scatter(x,val_loss,c=\"orange\")"
   ]
  },
  {
   "cell_type": "markdown",
   "id": "50b72925",
   "metadata": {},
   "source": [
    "## Try to normalize only the input. "
   ]
  },
  {
   "cell_type": "code",
   "execution_count": 61,
   "id": "2324a8cb",
   "metadata": {},
   "outputs": [],
   "source": [
    "RNN_model_norm_ts=training.RV_RNN_conv(n_diff=4,rnn_act=\"tanh\",rnn_drop_out=0,rnn_hidden_size=32,proj_dim=32,rnn_num_layer=1,input_scaler=1).to(device=device)"
   ]
  },
  {
   "cell_type": "code",
   "execution_count": 62,
   "id": "68516afa",
   "metadata": {},
   "outputs": [],
   "source": [
    "optimizer_norm_ts=optim.Adam(RNN_model_norm_ts.parameters(),lr=1e-3)"
   ]
  },
  {
   "cell_type": "code",
   "execution_count": 63,
   "id": "ae9de7e3",
   "metadata": {},
   "outputs": [
    {
     "name": "stderr",
     "output_type": "stream",
     "text": [
      "/home/machine2/Desktop/Realized_Volatility_Prediction_-erdos_deeplearning-/NNetwork/../proj_mod/training.py:342: SettingWithCopyWarning: \n",
      "A value is trying to be set on a copy of a slice from a DataFrame.\n",
      "Try using .loc[row_indexer,col_indexer] = value instead\n",
      "\n",
      "See the caveats in the documentation: https://pandas.pydata.org/pandas-docs/stable/user_guide/indexing.html#returning-a-view-versus-a-copy\n",
      "  df_tab_copy[\"sub_int_num\"]=np.nan\n",
      "/home/machine2/Desktop/Realized_Volatility_Prediction_-erdos_deeplearning-/NNetwork/../proj_mod/training.py:342: SettingWithCopyWarning: \n",
      "A value is trying to be set on a copy of a slice from a DataFrame.\n",
      "Try using .loc[row_indexer,col_indexer] = value instead\n",
      "\n",
      "See the caveats in the documentation: https://pandas.pydata.org/pandas-docs/stable/user_guide/indexing.html#returning-a-view-versus-a-copy\n",
      "  df_tab_copy[\"sub_int_num\"]=np.nan\n"
     ]
    }
   ],
   "source": [
    "train_dataset=training.RVdataset(time_id_list=train_time_id,ts_features=[\"sub_int_RV_norm\"],df_ts_feat=df_RV_ts,df_target=df_target)\n",
    "test_dataset=training.RVdataset(time_id_list=test_time_id,ts_features=[\"sub_int_RV_norm\"],df_ts_feat=df_RV_ts,df_target=df_target)"
   ]
  },
  {
   "cell_type": "code",
   "execution_count": 64,
   "id": "509b7bfa",
   "metadata": {},
   "outputs": [],
   "source": [
    "train_loader=torch.utils.data.DataLoader(dataset=train_dataset,batch_size=256,shuffle=True)\n",
    "test_loader=torch.utils.data.DataLoader(dataset=test_dataset,batch_size=256,shuffle=True)"
   ]
  },
  {
   "cell_type": "code",
   "execution_count": 65,
   "id": "4056c9ee",
   "metadata": {},
   "outputs": [],
   "source": [
    "train_loss=[]\n",
    "val_loss=[]"
   ]
  },
  {
   "cell_type": "code",
   "execution_count": 66,
   "id": "b0a66b56",
   "metadata": {},
   "outputs": [
    {
     "name": "stdout",
     "output_type": "stream",
     "text": [
      "At  2.3960013389587402  epoch  1 has training loss  tensor(284.9402, device='cuda:0')  and validation loss  tensor(12.9999, device='cuda:0') .\n",
      "\n",
      "At  12.366611242294312  epoch  5 has training loss  tensor(23.0415, device='cuda:0')  and validation loss  tensor(13.2517, device='cuda:0') .\n",
      "\n",
      "At  25.075587034225464  epoch  10 has training loss  tensor(14.2988, device='cuda:0')  and validation loss  tensor(4.0947, device='cuda:0') .\n",
      "\n",
      "At  37.931830406188965  epoch  15 has training loss  tensor(11.1785, device='cuda:0')  and validation loss  tensor(10.6493, device='cuda:0') .\n",
      "\n",
      "At  51.06553649902344  epoch  20 has training loss  tensor(8.5535, device='cuda:0')  and validation loss  tensor(4.9181, device='cuda:0') .\n",
      "\n",
      "At  64.10282301902771  epoch  25 has training loss  tensor(7.1558, device='cuda:0')  and validation loss  tensor(6.0890, device='cuda:0') .\n",
      "\n",
      "At  76.88521456718445  epoch  30 has training loss  tensor(8.1487, device='cuda:0')  and validation loss  tensor(6.0491, device='cuda:0') .\n",
      "\n",
      "At  89.54181432723999  epoch  35 has training loss  tensor(7.0531, device='cuda:0')  and validation loss  tensor(3.3039, device='cuda:0') .\n",
      "\n",
      "At  102.12669515609741  epoch  40 has training loss  tensor(6.5249, device='cuda:0')  and validation loss  tensor(2.0817, device='cuda:0') .\n",
      "\n",
      "At  114.96764969825745  epoch  45 has training loss  tensor(6.3755, device='cuda:0')  and validation loss  tensor(7.7941, device='cuda:0') .\n",
      "\n",
      "At  127.87263512611389  epoch  50 has training loss  tensor(6.8019, device='cuda:0')  and validation loss  tensor(3.2662, device='cuda:0') .\n",
      "\n",
      "The validation loss has not improved for  20  epochs. Stopping current training loop.\n",
      "\n",
      "Best model state dictionary of this training loop is reloaded.\n",
      "\n",
      "According to validation loss, the best model is reached at epoch 31  with validation loss:  tensor(0.7778, device='cuda:0') .\n",
      " The total number of epoch trained is  51 .\n",
      " Training completed in:  130.40415477752686 .\n",
      "\n"
     ]
    },
    {
     "data": {
      "text/plain": [
       "OrderedDict([('frozen_conv.frozen_conv.weight',\n",
       "              tensor([[[-1.,  1.]]], device='cuda:0')),\n",
       "             ('linear_proj_input.weight',\n",
       "              tensor([[ 0.3186,  0.1845, -0.1395, -0.1375, -0.1039],\n",
       "                      [ 0.0506,  0.0708,  0.4410, -0.2497, -0.1732],\n",
       "                      [-0.0100, -0.0899,  0.0360, -0.0640, -0.0462],\n",
       "                      [-0.0792, -0.0444,  0.3355, -0.2384,  0.0049],\n",
       "                      [-0.0320,  0.6086, -0.0610, -0.1013, -0.1538],\n",
       "                      [-0.2306, -0.2493, -0.2432,  0.1330,  0.1080],\n",
       "                      [-0.0303,  0.0970, -0.2825, -0.0410,  0.0820],\n",
       "                      [ 0.0065, -0.2076, -0.1258, -0.0473, -0.0814],\n",
       "                      [-0.0928,  0.1704, -0.2404, -0.0216, -0.1829],\n",
       "                      [ 0.0984, -0.3246,  0.3306,  0.0594,  0.0576],\n",
       "                      [-0.0158,  0.1499, -0.3494,  0.1280,  0.1238],\n",
       "                      [-0.2787,  0.1843, -0.2477,  0.0438,  0.0326],\n",
       "                      [ 0.0289, -0.2880, -0.1902,  0.1362, -0.1995],\n",
       "                      [-0.0215, -0.4013,  0.2752, -0.1539, -0.0789],\n",
       "                      [-0.3304, -0.1368,  0.0079,  0.2691,  0.3504],\n",
       "                      [-0.0262,  0.0205, -0.2115,  0.1077,  0.0193],\n",
       "                      [-0.0050, -0.0199,  0.1080,  0.0127,  0.0636],\n",
       "                      [-0.0067, -0.2681, -0.5099,  0.0198,  0.0760],\n",
       "                      [ 0.0829, -0.3406, -0.3552,  0.1072, -0.1417],\n",
       "                      [-0.0195, -0.1177, -0.3892, -0.0868,  0.0165],\n",
       "                      [ 0.0017,  0.1403,  0.1484,  0.2051, -0.0417],\n",
       "                      [-0.0043,  0.1303, -0.2870, -0.2729, -0.0661],\n",
       "                      [ 0.1893, -0.3428, -0.0154,  0.0959, -0.1196],\n",
       "                      [ 0.2160, -0.3141, -0.0782,  0.1716,  0.1347],\n",
       "                      [-0.0390,  0.2099, -0.4074, -0.3473, -0.0969],\n",
       "                      [ 0.2390,  0.2866, -0.1904,  0.4481,  0.2281],\n",
       "                      [-0.0876,  0.4984, -0.1813,  0.2878, -0.0767],\n",
       "                      [-0.0256,  0.2677,  0.3138, -0.0411,  0.0575],\n",
       "                      [-0.0643,  0.2452,  0.2947, -0.2726, -0.0655],\n",
       "                      [ 0.2716, -0.4535, -0.2223,  0.3118,  0.2343],\n",
       "                      [ 0.0379,  0.0793,  0.1844,  0.2390, -0.0084],\n",
       "                      [-0.0062, -0.1132, -0.1926,  0.4163,  0.1402]], device='cuda:0')),\n",
       "             ('linear_proj_input.bias',\n",
       "              tensor([-2.8421e-01, -4.9164e-04,  1.2385e-02,  3.7537e-02,  4.4712e-03,\n",
       "                      -1.3767e-01,  1.0507e-02, -8.6248e-03, -2.8511e-01, -3.7007e-01,\n",
       "                       1.7357e-02,  6.4282e-03, -3.2070e-01,  2.7562e-01, -2.3769e-01,\n",
       "                      -1.3616e-02,  3.0085e-03,  8.8650e-03,  4.5609e-01, -2.8112e-06,\n",
       "                      -2.4201e-02, -3.0159e-01, -1.8396e-01,  4.2549e-01,  2.1672e-03,\n",
       "                       2.1722e-01, -1.6849e-01,  1.6110e-02,  2.7044e-03, -2.4376e-01,\n",
       "                       4.9393e-03, -3.2013e-03], device='cuda:0')),\n",
       "             ('RNN_layer.weight_ih_l0',\n",
       "              tensor([[-0.0694,  0.1284,  0.1407,  ...,  0.0052,  0.1849,  0.0107],\n",
       "                      [ 0.1218, -0.1971, -0.0103,  ..., -0.0459, -0.1914,  0.2615],\n",
       "                      [ 0.1384,  0.2077, -0.0489,  ...,  0.0726, -0.1110,  0.0085],\n",
       "                      ...,\n",
       "                      [-0.1534,  0.0414,  0.0195,  ..., -0.1828, -0.0489, -0.2548],\n",
       "                      [ 0.1528,  0.0595,  0.3098,  ..., -0.0553, -0.0545, -0.0525],\n",
       "                      [-0.0834,  0.1225,  0.1977,  ...,  0.1576,  0.1489, -0.1091]],\n",
       "                     device='cuda:0')),\n",
       "             ('RNN_layer.weight_hh_l0',\n",
       "              tensor([[-0.7438,  0.0224, -0.2332,  ...,  0.1818, -0.0914, -0.2801],\n",
       "                      [-0.1361, -0.4050, -0.0157,  ...,  0.0152,  0.3700,  0.0168],\n",
       "                      [-0.2603,  0.0708, -0.8954,  ..., -0.0911, -0.0879, -0.0035],\n",
       "                      ...,\n",
       "                      [ 0.0315,  0.0364,  0.2788,  ..., -0.2528, -0.0624,  0.2178],\n",
       "                      [-0.0406,  0.4060,  0.1274,  ..., -0.0673, -0.3887,  0.0360],\n",
       "                      [-0.2719, -0.0825, -0.2872,  ..., -0.0713, -0.0548, -0.3814]],\n",
       "                     device='cuda:0')),\n",
       "             ('RNN_layer.bias_ih_l0',\n",
       "              tensor([-0.0378,  0.0419, -0.0738,  0.1453,  0.1272,  0.1514, -0.0679, -0.1102,\n",
       "                      -0.1000,  0.0750,  0.0714,  0.0212, -0.1240,  0.0679, -0.0928,  0.1017,\n",
       "                       0.0575, -0.0113,  0.0561, -0.1153,  0.1033, -0.1168,  0.1457, -0.0107,\n",
       "                      -0.0393, -0.1163,  0.0248,  0.0564,  0.0865, -0.1102,  0.0955,  0.0751],\n",
       "                     device='cuda:0')),\n",
       "             ('RNN_layer.bias_hh_l0',\n",
       "              tensor([-0.1276, -0.0332, -0.1605, -0.0847, -0.1761, -0.0259, -0.0955, -0.0449,\n",
       "                      -0.0986, -0.1136,  0.2323,  0.1199, -0.1372,  0.1252,  0.0405,  0.1195,\n",
       "                      -0.1242, -0.0904,  0.1502,  0.0751,  0.1230, -0.1175,  0.0566,  0.0693,\n",
       "                       0.1790, -0.0774,  0.1726,  0.0395,  0.0599, -0.0682, -0.1679, -0.1446],\n",
       "                     device='cuda:0')),\n",
       "             ('linear_post_rnn.weight',\n",
       "              tensor([[ 3.8919e-05, -3.7087e-03, -1.8533e-04, -6.9074e-04, -6.7908e-04,\n",
       "                       -2.1202e-04,  3.0530e-04, -6.9434e-04, -4.2912e-04, -3.8835e-03,\n",
       "                        1.2531e-01,  6.9252e-03,  7.0874e-04,  1.5387e-03, -1.7137e-04,\n",
       "                        4.3941e-04, -7.2169e-03, -1.1279e-03, -6.8791e-03,  5.1957e-03,\n",
       "                        8.1878e-03,  2.0954e-04, -4.0472e-03,  5.7564e-03,  5.7594e-04,\n",
       "                       -1.0700e-04,  4.5241e-04, -3.3318e-04,  5.8779e-04, -6.1166e-03,\n",
       "                       -8.5497e-03, -6.3939e-03]], device='cuda:0')),\n",
       "             ('linear_post_rnn.bias', tensor([-0.0977], device='cuda:0'))])"
      ]
     },
     "execution_count": 66,
     "metadata": {},
     "output_type": "execute_result"
    }
   ],
   "source": [
    "training.reg_training_loop_rmspe(optimizer=optimizer_norm_ts,model=RNN_model_norm_ts,train_loader=train_loader,val_loader=test_loader,list_train_loss=train_loss,list_val_loss=val_loss,device=device,n_epochs=200,ot_steps=20,report_interval=5,eps=0,scaler=1)"
   ]
  },
  {
   "cell_type": "markdown",
   "id": "e6d7684d",
   "metadata": {},
   "source": [
    "As a remark, I ran above loop twice, the keep learning to same model after the fact. "
   ]
  },
  {
   "cell_type": "code",
   "execution_count": 67,
   "id": "ef1351bc",
   "metadata": {},
   "outputs": [
    {
     "name": "stdout",
     "output_type": "stream",
     "text": [
      "frozen_conv.frozen_conv.weight False\n",
      "linear_proj_input.weight True\n",
      "linear_proj_input.bias True\n",
      "RNN_layer.weight_ih_l0 True\n",
      "RNN_layer.weight_hh_l0 True\n",
      "RNN_layer.bias_ih_l0 True\n",
      "RNN_layer.bias_hh_l0 True\n",
      "linear_post_rnn.weight True\n",
      "linear_post_rnn.bias True\n"
     ]
    }
   ],
   "source": [
    "for name,param in RNN_model_norm_ts.named_parameters():\n",
    "    print(name,param.requires_grad)"
   ]
  },
  {
   "cell_type": "code",
   "execution_count": 68,
   "id": "2bb082d5",
   "metadata": {},
   "outputs": [],
   "source": [
    "train_loss=[x.cpu() for x in train_loss]\n",
    "val_loss=[x.cpu() for x in val_loss]"
   ]
  },
  {
   "cell_type": "code",
   "execution_count": 69,
   "id": "1802af02",
   "metadata": {},
   "outputs": [
    {
     "data": {
      "text/plain": [
       "51"
      ]
     },
     "execution_count": 69,
     "metadata": {},
     "output_type": "execute_result"
    }
   ],
   "source": [
    "len(train_loss)"
   ]
  },
  {
   "cell_type": "code",
   "execution_count": 70,
   "id": "b022072c",
   "metadata": {},
   "outputs": [
    {
     "data": {
      "text/plain": [
       "<matplotlib.collections.PathCollection at 0x7f7c7a000e80>"
      ]
     },
     "execution_count": 70,
     "metadata": {},
     "output_type": "execute_result"
    },
    {
     "data": {
      "image/png": "[encoded data removed]",
      "text/plain": [
       "<Figure size 640x480 with 1 Axes>"
      ]
     },
     "metadata": {},
     "output_type": "display_data"
    }
   ],
   "source": [
    "import matplotlib.pyplot as plt \n",
    "\n",
    "x=np.arange(len(train_loss))\n",
    "\n",
    "plt.scatter(x,train_loss,c=\"blue\")\n",
    "plt.scatter(x,val_loss,c=\"orange\")"
   ]
  },
  {
   "cell_type": "markdown",
   "id": "cb605a91",
   "metadata": {},
   "source": [
    "It appears that only normalizing input ts is not a good idea. I should consider normalizing both the input and the target. Plus, in above, I fit transformed on both the training and the test set together, that is technically a data leak. "
   ]
  },
  {
   "cell_type": "markdown",
   "id": "2ef78913",
   "metadata": {},
   "source": [
    "## Training with normalization on both input and target "
   ]
  },
  {
   "cell_type": "markdown",
   "id": "64325299",
   "metadata": {},
   "source": [
    "I have added normalization functionality to dataset creation function, so not we can create the train and test datasets without dataleaking. "
   ]
  },
  {
   "cell_type": "code",
   "execution_count": 98,
   "id": "c3ffa765",
   "metadata": {},
   "outputs": [],
   "source": [
    "RNN_model_norm_ts=training.RV_RNN_conv(n_diff=4,rnn_act=\"tanh\",rnn_drop_out=0,rnn_hidden_size=32,proj_dim=32,rnn_num_layer=1,input_scaler=1).to(device=device)"
   ]
  },
  {
   "cell_type": "code",
   "execution_count": 99,
   "id": "1190590d",
   "metadata": {},
   "outputs": [],
   "source": [
    "optimizer_norm_ts=optim.Adam(RNN_model_norm_ts.parameters(),lr=1e-3)"
   ]
  },
  {
   "cell_type": "code",
   "execution_count": 100,
   "id": "2a6245db",
   "metadata": {},
   "outputs": [
    {
     "name": "stderr",
     "output_type": "stream",
     "text": [
      "/home/machine2/Desktop/Realized_Volatility_Prediction_-erdos_deeplearning-/NNetwork/../proj_mod/training.py:342: SettingWithCopyWarning: \n",
      "A value is trying to be set on a copy of a slice from a DataFrame.\n",
      "Try using .loc[row_indexer,col_indexer] = value instead\n",
      "\n",
      "See the caveats in the documentation: https://pandas.pydata.org/pandas-docs/stable/user_guide/indexing.html#returning-a-view-versus-a-copy\n",
      "  df_tab_copy[\"sub_int_num\"]=np.nan\n"
     ]
    },
    {
     "name": "stdout",
     "output_type": "stream",
     "text": [
      "Notice: sub_int_RV has been normalized.\n",
      "The mean and std of this feature has been stored in feat_norm_dict\n",
      "Notice: target has been normalized.\n",
      "The mean and std of this feature has been stored in feat_norm_dict\n"
     ]
    }
   ],
   "source": [
    "train_dataset=training.RVdataset(time_id_list=train_time_id,ts_features=[\"sub_int_RV\"],df_ts_feat=df_RV_ts,df_target=df_target,norm_feature_dict={\"sub_int_RV\":None,\"target\":None})"
   ]
  },
  {
   "cell_type": "code",
   "execution_count": 101,
   "id": "4d97d6ba",
   "metadata": {},
   "outputs": [
    {
     "data": {
      "text/plain": [
       "{'sub_int_RV': (np.float64(0.0004411965933048684),\n",
       "  np.float64(0.0005610956509180131)),\n",
       " 'target': (np.float64(0.0038471398027541486),\n",
       "  np.float64(0.0029489987966883967))}"
      ]
     },
     "execution_count": 101,
     "metadata": {},
     "output_type": "execute_result"
    }
   ],
   "source": [
    "train_dataset.feat_norm_dict"
   ]
  },
  {
   "cell_type": "code",
   "execution_count": 102,
   "id": "8b790b76",
   "metadata": {},
   "outputs": [],
   "source": [
    "test_norm_feat_dict=copy.deepcopy(train_dataset.feat_norm_dict) "
   ]
  },
  {
   "cell_type": "code",
   "execution_count": 103,
   "id": "40163bda",
   "metadata": {},
   "outputs": [
    {
     "data": {
      "text/plain": [
       "(np.float64(0.0038471398027541486), np.float64(0.0029489987966883967))"
      ]
     },
     "execution_count": 103,
     "metadata": {},
     "output_type": "execute_result"
    }
   ],
   "source": [
    "test_norm_feat_dict.pop(\"target\")"
   ]
  },
  {
   "cell_type": "code",
   "execution_count": 104,
   "id": "630660e8",
   "metadata": {},
   "outputs": [
    {
     "data": {
      "text/plain": [
       "{'sub_int_RV': (np.float64(0.0004411965933048684),\n",
       "  np.float64(0.0005610956509180131)),\n",
       " 'target': (np.float64(0.0038471398027541486),\n",
       "  np.float64(0.0029489987966883967))}"
      ]
     },
     "execution_count": 104,
     "metadata": {},
     "output_type": "execute_result"
    }
   ],
   "source": [
    "train_dataset.feat_norm_dict"
   ]
  },
  {
   "cell_type": "code",
   "execution_count": 105,
   "id": "ee121136",
   "metadata": {},
   "outputs": [
    {
     "data": {
      "text/plain": [
       "{'sub_int_RV': (np.float64(0.0004411965933048684),\n",
       "  np.float64(0.0005610956509180131))}"
      ]
     },
     "execution_count": 105,
     "metadata": {},
     "output_type": "execute_result"
    }
   ],
   "source": [
    "test_norm_feat_dict"
   ]
  },
  {
   "cell_type": "markdown",
   "id": "9622afc7",
   "metadata": {},
   "source": [
    "As a reminder, do not apply normalization to target of test set. I am choosing to force the target input features to share the same mean and std as the test dataset's corresponding features. "
   ]
  },
  {
   "cell_type": "code",
   "execution_count": 106,
   "id": "de12b187",
   "metadata": {},
   "outputs": [
    {
     "name": "stdout",
     "output_type": "stream",
     "text": [
      "Notice: sub_int_RV has been normalized.\n",
      "The mean and std of this feature has been stored in feat_norm_dict\n"
     ]
    },
    {
     "name": "stderr",
     "output_type": "stream",
     "text": [
      "/home/machine2/Desktop/Realized_Volatility_Prediction_-erdos_deeplearning-/NNetwork/../proj_mod/training.py:342: SettingWithCopyWarning: \n",
      "A value is trying to be set on a copy of a slice from a DataFrame.\n",
      "Try using .loc[row_indexer,col_indexer] = value instead\n",
      "\n",
      "See the caveats in the documentation: https://pandas.pydata.org/pandas-docs/stable/user_guide/indexing.html#returning-a-view-versus-a-copy\n",
      "  df_tab_copy[\"sub_int_num\"]=np.nan\n"
     ]
    }
   ],
   "source": [
    "test_dataset=training.RVdataset(time_id_list=test_time_id,ts_features=[\"sub_int_RV\"],df_ts_feat=df_RV_ts,df_target=df_target,norm_feature_dict=test_norm_feat_dict)"
   ]
  },
  {
   "cell_type": "code",
   "execution_count": 107,
   "id": "0f6a5622",
   "metadata": {},
   "outputs": [],
   "source": [
    "train_loader=torch.utils.data.DataLoader(dataset=train_dataset,batch_size=256,shuffle=True)\n",
    "test_loader=torch.utils.data.DataLoader(dataset=test_dataset,batch_size=256,shuffle=True)"
   ]
  },
  {
   "cell_type": "code",
   "execution_count": 108,
   "id": "8c799fee",
   "metadata": {},
   "outputs": [],
   "source": [
    "train_loss=[]\n",
    "val_loss=[]"
   ]
  },
  {
   "cell_type": "code",
   "execution_count": 109,
   "id": "8f5ab2f5",
   "metadata": {},
   "outputs": [
    {
     "name": "stdout",
     "output_type": "stream",
     "text": [
      "At  2.496488571166992  epoch  1 has training loss  tensor(0.3740, device='cuda:0')  and validation loss  tensor(0.2811, device='cuda:0') .\n",
      "\n",
      "At  12.812148094177246  epoch  5 has training loss  tensor(0.2693, device='cuda:0')  and validation loss  tensor(0.2372, device='cuda:0') .\n",
      "\n",
      "At  25.671175956726074  epoch  10 has training loss  tensor(0.2597, device='cuda:0')  and validation loss  tensor(0.2382, device='cuda:0') .\n",
      "\n",
      "At  38.55030798912048  epoch  15 has training loss  tensor(0.2576, device='cuda:0')  and validation loss  tensor(0.2377, device='cuda:0') .\n",
      "\n",
      "At  51.40321445465088  epoch  20 has training loss  tensor(0.2570, device='cuda:0')  and validation loss  tensor(0.2516, device='cuda:0') .\n",
      "\n",
      "At  64.32748532295227  epoch  25 has training loss  tensor(0.2563, device='cuda:0')  and validation loss  tensor(0.2365, device='cuda:0') .\n",
      "\n",
      "At  77.1183078289032  epoch  30 has training loss  tensor(0.2559, device='cuda:0')  and validation loss  tensor(0.2402, device='cuda:0') .\n",
      "\n",
      "At  90.0968804359436  epoch  35 has training loss  tensor(0.2551, device='cuda:0')  and validation loss  tensor(0.2398, device='cuda:0') .\n",
      "\n",
      "At  103.2206711769104  epoch  40 has training loss  tensor(0.2549, device='cuda:0')  and validation loss  tensor(0.2369, device='cuda:0') .\n",
      "\n",
      "At  116.29850935935974  epoch  45 has training loss  tensor(0.2553, device='cuda:0')  and validation loss  tensor(0.2368, device='cuda:0') .\n",
      "\n",
      "The validation loss has not improved for  20  epochs. Stopping current training loop.\n",
      "\n",
      "Best model state dictionary of this training loop is reloaded.\n",
      "\n",
      "According to validation loss, the best model is reached at epoch 29  with validation loss:  tensor(0.2360, device='cuda:0') .\n",
      " The total number of epoch trained is  49 .\n",
      " Training completed in:  126.611079454422 .\n",
      "\n"
     ]
    },
    {
     "data": {
      "text/plain": [
       "OrderedDict([('frozen_conv.frozen_conv.weight',\n",
       "              tensor([[[-1.,  1.]]], device='cuda:0')),\n",
       "             ('linear_proj_input.weight',\n",
       "              tensor([[ 6.3097e-03,  2.0847e-01,  3.4123e-01,  2.2930e-01,  5.0760e-02],\n",
       "                      [ 3.7075e-02, -3.6896e-01, -3.7051e-01, -2.3305e-01, -1.3058e-01],\n",
       "                      [-2.6604e-01, -4.4438e-01, -2.4109e-01,  3.6088e-01,  2.7250e-01],\n",
       "                      [-3.2787e-01, -8.6684e-01, -3.5205e-01, -1.5231e-02,  1.3437e-01],\n",
       "                      [ 3.5537e-01,  2.7114e-02,  6.2167e-01, -3.6873e-02, -1.2874e-01],\n",
       "                      [-1.6656e-03,  5.3297e-03,  2.4204e-02,  2.6801e-02,  7.6921e-03],\n",
       "                      [ 2.6000e-01,  2.9354e-01,  6.4853e-02,  4.5484e-02,  5.7350e-02],\n",
       "                      [-1.4712e-01, -5.8372e-02, -2.5959e-01, -6.4162e-02, -9.6054e-02],\n",
       "                      [-2.2970e-01,  1.9180e-01,  2.1107e-01, -2.1063e-01, -1.8893e-02],\n",
       "                      [-1.5465e-01, -7.6058e-02, -1.4094e-01, -9.4835e-02, -5.8588e-02],\n",
       "                      [ 6.3576e-02, -3.2213e-01,  7.9342e-01, -2.7064e-01,  2.1241e-01],\n",
       "                      [ 3.4518e-01,  6.9660e-01,  3.0890e-01, -3.3865e-02, -1.9360e-01],\n",
       "                      [-6.0597e-04,  1.6004e-02, -5.6552e-02, -8.0925e-02, -3.4983e-02],\n",
       "                      [ 5.8018e-03,  1.9096e-01,  5.1574e-01,  3.6979e-01,  1.2190e-01],\n",
       "                      [ 3.0223e-02, -1.9333e-01, -1.9618e-01,  3.1681e-02,  5.9458e-02],\n",
       "                      [ 1.8020e-01,  6.5489e-03,  3.5287e-01,  3.7571e-01,  1.1631e-01],\n",
       "                      [ 4.5016e-02,  3.2262e-01, -2.9691e-01, -2.4535e-01,  1.8733e-02],\n",
       "                      [-2.3316e-01, -9.7209e-01, -4.2505e-01, -3.0164e-01, -2.7970e-01],\n",
       "                      [-1.6730e-01, -4.2745e-01, -2.4075e-01,  1.1649e-01,  1.4780e-02],\n",
       "                      [-6.0873e-03,  5.0115e-01,  6.3206e-01,  2.8951e-01,  5.7721e-02],\n",
       "                      [ 1.1756e-01,  2.7605e-01,  4.0333e-02, -5.8181e-02, -1.5896e-02],\n",
       "                      [-7.7373e-02,  6.1327e-01,  5.1101e-01,  1.2840e-01,  6.5859e-02],\n",
       "                      [-1.3871e-01, -4.6760e-01, -1.0116e-02,  1.2661e-01,  1.9283e-02],\n",
       "                      [ 2.4961e-01,  6.6915e-01,  1.7206e-01, -1.5142e-01, -2.7123e-01],\n",
       "                      [-2.1930e-01, -2.6762e-01,  2.2570e-01,  7.4485e-02,  1.9341e-01],\n",
       "                      [-2.3405e-03, -3.9814e-01, -5.1305e-01, -2.3372e-01, -1.5872e-02],\n",
       "                      [-6.7660e-03,  5.8546e-02, -3.4921e-02, -1.1028e-01, -5.0620e-02],\n",
       "                      [ 6.2539e-02,  8.5621e-01,  5.2713e-01,  1.5685e-03,  4.0907e-03],\n",
       "                      [ 8.0518e-04, -2.9206e-03,  1.8764e-02,  3.9097e-03,  8.0635e-03],\n",
       "                      [ 7.4063e-02, -2.1978e-01, -4.8218e-01,  3.2428e-01,  2.3290e-01],\n",
       "                      [ 1.1089e-01, -1.3462e-01,  1.7292e-01,  2.7938e-01,  1.3063e-01],\n",
       "                      [ 2.3396e-01, -5.3039e-01, -1.8616e-01, -1.9835e-01, -2.0767e-02]],\n",
       "                     device='cuda:0')),\n",
       "             ('linear_proj_input.bias',\n",
       "              tensor([ 1.9808e-03,  2.4607e-02, -1.3593e-01, -1.6289e-01, -1.0284e-01,\n",
       "                       4.6558e-04,  1.2557e-01, -7.0555e-02, -1.2560e-01, -7.7425e-02,\n",
       "                      -1.0085e-01,  1.7708e-01,  1.5964e-04,  4.5105e-04,  1.7989e-02,\n",
       "                       9.2319e-02,  1.8484e-02, -1.0277e-01,  5.5437e-02, -6.2407e-03,\n",
       "                       6.2896e-02, -4.7279e-02, -6.8646e-02, -2.0640e-01, -1.2857e-01,\n",
       "                       1.1120e-03, -2.7652e-03,  2.7125e-02,  5.4296e-04,  4.0136e-02,\n",
       "                       5.6751e-02,  1.1310e-01], device='cuda:0')),\n",
       "             ('RNN_layer.weight_ih_l0',\n",
       "              tensor([[-0.0282,  0.1348,  0.0917,  ...,  0.1807, -0.0373, -0.1470],\n",
       "                      [ 0.0334, -0.1227,  0.1874,  ..., -0.1839,  0.0656,  0.1611],\n",
       "                      [ 0.0259, -0.1020, -0.0731,  ..., -0.0034,  0.0438, -0.0476],\n",
       "                      ...,\n",
       "                      [ 0.0056, -0.1914, -0.2830,  ..., -0.2030, -0.0771, -0.0169],\n",
       "                      [ 0.0575,  0.1290, -0.0420,  ..., -0.0269,  0.1149,  0.2715],\n",
       "                      [ 0.0237,  0.1411,  0.0908,  ...,  0.1550, -0.0363, -0.0183]],\n",
       "                     device='cuda:0')),\n",
       "             ('RNN_layer.weight_hh_l0',\n",
       "              tensor([[-0.1013, -0.3585, -0.1073,  ..., -0.0585, -0.0046,  0.2750],\n",
       "                      [-0.2219,  0.2446,  0.1427,  ...,  0.0360,  0.0294, -0.3045],\n",
       "                      [ 0.0507,  0.0592, -0.5959,  ...,  0.0722, -0.0034,  0.3587],\n",
       "                      ...,\n",
       "                      [ 0.0429,  0.1038,  0.1532,  ..., -0.3876, -0.1364,  0.1956],\n",
       "                      [ 0.0039,  0.1583,  0.1677,  ..., -0.0080, -0.4415,  0.0915],\n",
       "                      [-0.1026,  0.1685, -0.3879,  ..., -0.1341, -0.3116, -0.7203]],\n",
       "                     device='cuda:0')),\n",
       "             ('RNN_layer.bias_ih_l0',\n",
       "              tensor([ 0.1764,  0.0793, -0.0504,  0.0401,  0.0936, -0.0344,  0.1501,  0.0219,\n",
       "                      -0.0540,  0.1371,  0.0007,  0.0059, -0.0320,  0.0748,  0.1454, -0.0368,\n",
       "                      -0.0449, -0.0315,  0.1204, -0.0244,  0.0060,  0.0683,  0.0941, -0.0934,\n",
       "                      -0.1173, -0.0679, -0.0584,  0.1028,  0.1540,  0.0840, -0.0598,  0.0659],\n",
       "                     device='cuda:0')),\n",
       "             ('RNN_layer.bias_hh_l0',\n",
       "              tensor([-0.0046,  0.0830,  0.0069,  0.0626, -0.0574,  0.0760, -0.0992, -0.0110,\n",
       "                       0.0719, -0.1065, -0.0206,  0.0588, -0.0436, -0.1241, -0.1518,  0.0232,\n",
       "                      -0.0440,  0.0679, -0.1413,  0.0995, -0.0487, -0.0674, -0.0747, -0.0604,\n",
       "                       0.1229,  0.1074, -0.0284, -0.0067, -0.1346, -0.0632,  0.0848, -0.0674],\n",
       "                     device='cuda:0')),\n",
       "             ('linear_post_rnn.weight',\n",
       "              tensor([[-0.0483, -0.0277,  0.0028, -0.0142,  0.0129, -0.0039, -0.0185, -0.0077,\n",
       "                        0.0062,  0.0041, -0.0029,  0.0027, -0.0032,  0.0086,  0.0011,  0.0046,\n",
       "                        0.0070, -0.0130, -0.0101,  0.0084,  0.0138,  0.0041, -0.0077,  0.0100,\n",
       "                       -0.0042,  0.0026,  0.0011,  0.0657,  0.0098, -0.0032,  0.0007,  0.0035]],\n",
       "                     device='cuda:0')),\n",
       "             ('linear_post_rnn.bias', tensor([-7.9766e-05], device='cuda:0'))])"
      ]
     },
     "execution_count": 109,
     "metadata": {},
     "output_type": "execute_result"
    }
   ],
   "source": [
    "training.reg_training_loop_rmspe(optimizer=optimizer_norm_ts,model=RNN_model_norm_ts,train_loader=train_loader,val_loader=test_loader,list_train_loss=train_loss,list_val_loss=val_loss,device=device,n_epochs=200,ot_steps=20,report_interval=5,eps=0,scaler=1,norm_train_target=True)"
   ]
  },
  {
   "cell_type": "markdown",
   "id": "ea81cbbb",
   "metadata": {},
   "source": [
    "Oh this over trained quickly. "
   ]
  },
  {
   "cell_type": "code",
   "execution_count": 110,
   "id": "0703dbac",
   "metadata": {},
   "outputs": [
    {
     "name": "stdout",
     "output_type": "stream",
     "text": [
      "frozen_conv.frozen_conv.weight False\n",
      "linear_proj_input.weight True\n",
      "linear_proj_input.bias True\n",
      "RNN_layer.weight_ih_l0 True\n",
      "RNN_layer.weight_hh_l0 True\n",
      "RNN_layer.bias_ih_l0 True\n",
      "RNN_layer.bias_hh_l0 True\n",
      "linear_post_rnn.weight True\n",
      "linear_post_rnn.bias True\n"
     ]
    }
   ],
   "source": [
    "for name,param in RNN_model_norm_ts.named_parameters():\n",
    "    print(name,param.requires_grad)"
   ]
  },
  {
   "cell_type": "code",
   "execution_count": 111,
   "id": "20ecaf78",
   "metadata": {},
   "outputs": [],
   "source": [
    "train_loss=[x.cpu() for x in train_loss]\n",
    "val_loss=[x.cpu() for x in val_loss]"
   ]
  },
  {
   "cell_type": "code",
   "execution_count": 112,
   "id": "b859c9b7",
   "metadata": {},
   "outputs": [
    {
     "data": {
      "text/plain": [
       "<matplotlib.collections.PathCollection at 0x7f7be3343280>"
      ]
     },
     "execution_count": 112,
     "metadata": {},
     "output_type": "execute_result"
    },
    {
     "data": {
      "image/png": "[encoded data removed]",
      "text/plain": [
       "<Figure size 640x480 with 1 Axes>"
      ]
     },
     "metadata": {},
     "output_type": "display_data"
    }
   ],
   "source": [
    "import matplotlib.pyplot as plt \n",
    "\n",
    "x=np.linspace(1,len(train_loss),len(train_loss))\n",
    "\n",
    "plt.scatter(x,train_loss,c=\"blue\")\n",
    "plt.scatter(x,val_loss,c=\"orange\")"
   ]
  },
  {
   "cell_type": "markdown",
   "id": "7e44b27b",
   "metadata": {},
   "source": [
    "As of now, the best outcome comes with \"scaling\" the input timeseries by 10000. Maybe adjust the NN a bit? add some linear and conv layers after the RNN? Multiple layers of RNN? We will see. "
   ]
  },
  {
   "cell_type": "code",
   "execution_count": null,
   "id": "75828a2e-6f95-4c00-abf9-041bd4c645f7",
   "metadata": {},
   "outputs": [],
   "source": []
  },
  {
   "cell_type": "code",
   "execution_count": null,
   "id": "c2e7e524-f3b0-41ff-accc-788f56123f62",
   "metadata": {},
   "outputs": [],
   "source": []
  }
 ],
 "metadata": {
  "kernelspec": {
   "display_name": "Python 3 (ipykernel)",
   "language": "python",
   "name": "python3"
  },
  "language_info": {
   "codemirror_mode": {
    "name": "ipython",
    "version": 3
   },
   "file_extension": ".py",
   "mimetype": "text/x-python",
   "name": "python",
   "nbconvert_exporter": "python",
   "pygments_lexer": "ipython3",
   "version": "3.10.12"
  }
 },
 "nbformat": 4,
 "nbformat_minor": 5
}
