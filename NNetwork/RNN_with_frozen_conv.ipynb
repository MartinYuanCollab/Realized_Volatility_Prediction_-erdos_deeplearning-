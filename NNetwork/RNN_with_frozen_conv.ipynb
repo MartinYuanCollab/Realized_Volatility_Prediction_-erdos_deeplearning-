{
 "cells": [
  {
   "cell_type": "markdown",
   "id": "e77e9ebe",
   "metadata": {},
   "source": [
    "## RNN with frozen convolution layer. "
   ]
  },
  {
   "cell_type": "markdown",
   "id": "5a6b854e",
   "metadata": {},
   "source": [
    "The idea is inspired by an application of RNN in predicting if an online review (say, for a product) is positive or negative (1 or 0). Each word in the review sentence is first projected to a large dimension vector space and then sent into an RNN network sequentially. "
   ]
  },
  {
   "cell_type": "markdown",
   "id": "f3f6b66b",
   "metadata": {},
   "source": [
    "We will make use of frozen convolution layer to create derivative like features for our time series features. Then, we use the derivative values of a certain time as if a \"word\" in a \"review\", the target RV as if the \"score\" of the \"review\" to train an RNN network that predicts the target RV with the time series features. "
   ]
  },
  {
   "cell_type": "markdown",
   "id": "d1bd88f7",
   "metadata": {},
   "source": [
    "## Example"
   ]
  },
  {
   "cell_type": "code",
   "execution_count": 156,
   "id": "907e47ab",
   "metadata": {},
   "outputs": [],
   "source": [
    "import sys, importlib\n",
    "import torch \n",
    "import torch.nn as nn\n",
    "import numpy as np\n",
    "import pandas as pd\n",
    "import copy\n",
    "import time\n",
    "\n",
    "sys.path.append(\"../\")\n",
    "from proj_mod import training, data_processing\n",
    "importlib.reload(training);\n",
    "importlib.reload(data_processing);"
   ]
  },
  {
   "cell_type": "markdown",
   "id": "e12efccd",
   "metadata": {},
   "source": [
    "Below is what Yuan needed to get his gpu working, do not run if you do not need it. "
   ]
  },
  {
   "cell_type": "code",
   "execution_count": 2,
   "id": "bd83d5f4",
   "metadata": {},
   "outputs": [
    {
     "ename": "ModuleNotFoundError",
     "evalue": "No module named 'dotenv'",
     "output_type": "error",
     "traceback": [
      "\u001b[0;31m---------------------------------------------------------------------------\u001b[0m",
      "\u001b[0;31mModuleNotFoundError\u001b[0m                       Traceback (most recent call last)",
      "Cell \u001b[0;32mIn[2], line 1\u001b[0m\n\u001b[0;32m----> 1\u001b[0m \u001b[38;5;28;01mfrom\u001b[39;00m\u001b[38;5;250m \u001b[39m\u001b[38;5;21;01mdotenv\u001b[39;00m\u001b[38;5;250m \u001b[39m\u001b[38;5;28;01mimport\u001b[39;00m load_dotenv\n\u001b[1;32m      2\u001b[0m \u001b[38;5;28;01mimport\u001b[39;00m\u001b[38;5;250m \u001b[39m\u001b[38;5;21;01mos\u001b[39;00m\n\u001b[1;32m      4\u001b[0m load_dotenv(\u001b[38;5;124m\"\u001b[39m\u001b[38;5;124m../dotenv_env/deep_learning.env\u001b[39m\u001b[38;5;124m\"\u001b[39m)\n",
      "\u001b[0;31mModuleNotFoundError\u001b[0m: No module named 'dotenv'"
     ]
    }
   ],
   "source": [
    "from dotenv import load_dotenv\n",
    "import os\n",
    "\n",
    "load_dotenv(\"../dotenv_env/deep_learning.env\")"
   ]
  },
  {
   "cell_type": "code",
   "execution_count": 4,
   "id": "ebd9ea17",
   "metadata": {},
   "outputs": [
    {
     "name": "stdout",
     "output_type": "stream",
     "text": [
      "10.3.0\n"
     ]
    }
   ],
   "source": [
    "print(os.environ.get(\"HSA_OVERRIDE_GFX_VERSION\"))"
   ]
  },
  {
   "cell_type": "markdown",
   "id": "45cb26cd",
   "metadata": {},
   "source": [
    "Let's say, we have following timeseries feature (created randomly), we will create the derivative features first. As a reminder, the zero dimension is the batch size, the dimension one is channel (needed for the first convolution layer, not really a \"thing\" for time series like features). "
   ]
  },
  {
   "cell_type": "code",
   "execution_count": 3,
   "id": "eb3d0064",
   "metadata": {},
   "outputs": [],
   "source": [
    "ts_feature=torch.randn(1,1,60)"
   ]
  },
  {
   "cell_type": "code",
   "execution_count": 4,
   "id": "b28d5ce8",
   "metadata": {},
   "outputs": [
    {
     "data": {
      "text/plain": [
       "tensor([[[ 1.6195, -0.6389, -0.1555, -0.3383,  0.0798, -1.6650,  1.1695,\n",
       "          -0.2593,  1.7058,  0.2396,  0.4143, -2.1079, -0.7786,  0.8063,\n",
       "          -1.2070,  0.1275, -1.1544, -1.7544,  0.6644, -0.6037, -0.3678,\n",
       "           0.1948, -1.8461,  0.4062,  0.4913,  0.3940,  1.2150, -1.6215,\n",
       "           0.2274, -1.1374, -0.2868,  0.5215, -1.2731, -0.7222,  2.1310,\n",
       "           0.0263, -0.4286, -1.1935,  2.1196, -0.3426,  0.5490, -0.7507,\n",
       "          -0.2163,  0.7056,  0.3744, -2.0829,  0.8318,  0.5373,  0.6641,\n",
       "          -1.2179, -0.4955, -0.5833, -0.0965,  0.4021,  0.2072, -0.6592,\n",
       "          -0.1757, -1.8129, -0.4105, -0.4676]]])"
      ]
     },
     "execution_count": 4,
     "metadata": {},
     "output_type": "execute_result"
    }
   ],
   "source": [
    "ts_feature"
   ]
  },
  {
   "cell_type": "code",
   "execution_count": 5,
   "id": "739b2fa7",
   "metadata": {},
   "outputs": [],
   "source": [
    "conv_create_diff=training.frozen_diff_conv(n_diff=4)\n",
    "ts_diff_feature=conv_create_diff(ts_feature)"
   ]
  },
  {
   "cell_type": "code",
   "execution_count": 6,
   "id": "c48f9ca2",
   "metadata": {
    "scrolled": true
   },
   "outputs": [
    {
     "data": {
      "text/plain": [
       "tensor([[[ 1.6195e+00, -6.3887e-01, -1.5554e-01, -3.3828e-01,  7.9807e-02,\n",
       "          -1.6650e+00,  1.1695e+00, -2.5925e-01,  1.7058e+00,  2.3961e-01,\n",
       "           4.1431e-01, -2.1079e+00, -7.7858e-01,  8.0633e-01, -1.2070e+00,\n",
       "           1.2753e-01, -1.1544e+00, -1.7544e+00,  6.6437e-01, -6.0370e-01,\n",
       "          -3.6780e-01,  1.9476e-01, -1.8461e+00,  4.0624e-01,  4.9125e-01,\n",
       "           3.9399e-01,  1.2150e+00, -1.6215e+00,  2.2744e-01, -1.1374e+00,\n",
       "          -2.8682e-01,  5.2154e-01, -1.2731e+00, -7.2217e-01,  2.1310e+00,\n",
       "           2.6333e-02, -4.2858e-01, -1.1935e+00,  2.1196e+00, -3.4262e-01,\n",
       "           5.4896e-01, -7.5067e-01, -2.1627e-01,  7.0559e-01,  3.7443e-01,\n",
       "          -2.0829e+00,  8.3176e-01,  5.3735e-01,  6.6414e-01, -1.2179e+00,\n",
       "          -4.9555e-01, -5.8328e-01, -9.6545e-02,  4.0210e-01,  2.0719e-01,\n",
       "          -6.5925e-01, -1.7569e-01, -1.8129e+00, -4.1051e-01, -4.6761e-01],\n",
       "         [-2.2584e+00,  4.8334e-01, -1.8275e-01,  4.1809e-01, -1.7448e+00,\n",
       "           2.8345e+00, -1.4288e+00,  1.9651e+00, -1.4662e+00,  1.7470e-01,\n",
       "          -2.5222e+00,  1.3293e+00,  1.5849e+00, -2.0134e+00,  1.3346e+00,\n",
       "          -1.2819e+00, -5.9996e-01,  2.4187e+00, -1.2681e+00,  2.3589e-01,\n",
       "           5.6257e-01, -2.0409e+00,  2.2524e+00,  8.5012e-02, -9.7262e-02,\n",
       "           8.2102e-01, -2.8365e+00,  1.8489e+00, -1.3649e+00,  8.5060e-01,\n",
       "           8.0836e-01, -1.7947e+00,  5.5097e-01,  2.8532e+00, -2.1047e+00,\n",
       "          -4.5491e-01, -7.6488e-01,  3.3130e+00, -2.4622e+00,  8.9158e-01,\n",
       "          -1.2996e+00,  5.3440e-01,  9.2187e-01, -3.3116e-01, -2.4573e+00,\n",
       "           2.9146e+00, -2.9441e-01,  1.2680e-01, -1.8821e+00,  7.2238e-01,\n",
       "          -8.7733e-02,  4.8674e-01,  4.9864e-01, -1.9491e-01, -8.6643e-01,\n",
       "           4.8356e-01, -1.6372e+00,  1.4024e+00, -5.7104e-02,  0.0000e+00],\n",
       "         [ 2.7417e+00, -6.6608e-01,  6.0083e-01, -2.1629e+00,  4.5793e+00,\n",
       "          -4.2633e+00,  3.3938e+00, -3.4313e+00,  1.6409e+00, -2.6969e+00,\n",
       "           3.8515e+00,  2.5562e-01, -3.5983e+00,  3.3479e+00, -2.6165e+00,\n",
       "           6.8196e-01,  3.0187e+00, -3.6868e+00,  1.5040e+00,  3.2667e-01,\n",
       "          -2.6035e+00,  4.2932e+00, -2.1674e+00, -1.8227e-01,  9.1828e-01,\n",
       "          -3.6575e+00,  4.6854e+00, -3.2138e+00,  2.2155e+00, -4.2240e-02,\n",
       "          -2.6030e+00,  2.3457e+00,  2.3022e+00, -4.9578e+00,  1.6498e+00,\n",
       "          -3.0997e-01,  4.0779e+00, -5.7752e+00,  3.3538e+00, -2.1912e+00,\n",
       "           1.8340e+00,  3.8747e-01, -1.2530e+00, -2.1261e+00,  5.3719e+00,\n",
       "          -3.2090e+00,  4.2121e-01, -2.0089e+00,  2.6044e+00, -8.1011e-01,\n",
       "           5.7447e-01,  1.1906e-02, -6.9355e-01, -6.7152e-01,  1.3500e+00,\n",
       "          -2.1208e+00,  3.0396e+00, -1.4595e+00,  0.0000e+00,  0.0000e+00],\n",
       "         [-3.4078e+00,  1.2669e+00, -2.7637e+00,  6.7423e+00, -8.8426e+00,\n",
       "           7.6571e+00, -6.8251e+00,  5.0722e+00, -4.3378e+00,  6.5483e+00,\n",
       "          -3.5958e+00, -3.8539e+00,  6.9462e+00, -5.9644e+00,  3.2984e+00,\n",
       "           2.3367e+00, -6.7055e+00,  5.1907e+00, -1.1773e+00, -2.9301e+00,\n",
       "           6.8967e+00, -6.4606e+00,  1.9851e+00,  1.1006e+00, -4.5758e+00,\n",
       "           8.3429e+00, -7.8992e+00,  5.4292e+00, -2.2577e+00, -2.5608e+00,\n",
       "           4.9487e+00, -4.3453e-02, -7.2600e+00,  6.6076e+00, -1.9597e+00,\n",
       "           4.3879e+00, -9.8532e+00,  9.1290e+00, -5.5450e+00,  4.0252e+00,\n",
       "          -1.4466e+00, -1.6405e+00, -8.7309e-01,  7.4980e+00, -8.5809e+00,\n",
       "           3.6302e+00, -2.4301e+00,  4.6133e+00, -3.4146e+00,  1.3846e+00,\n",
       "          -5.6256e-01, -7.0546e-01,  2.2026e-02,  2.0215e+00, -3.4708e+00,\n",
       "           5.1604e+00, -4.4991e+00,  0.0000e+00,  0.0000e+00,  0.0000e+00],\n",
       "         [ 4.6747e+00, -4.0307e+00,  9.5060e+00, -1.5585e+01,  1.6500e+01,\n",
       "          -1.4482e+01,  1.1897e+01, -9.4100e+00,  1.0886e+01, -1.0144e+01,\n",
       "          -2.5807e-01,  1.0800e+01, -1.2911e+01,  9.2629e+00, -9.6171e-01,\n",
       "          -9.0422e+00,  1.1896e+01, -6.3680e+00, -1.7528e+00,  9.8268e+00,\n",
       "          -1.3357e+01,  8.4457e+00, -8.8452e-01, -5.6763e+00,  1.2919e+01,\n",
       "          -1.6242e+01,  1.3328e+01, -7.6869e+00, -3.0310e-01,  7.5095e+00,\n",
       "          -4.9921e+00, -7.2166e+00,  1.3868e+01, -8.5673e+00,  6.3476e+00,\n",
       "          -1.4241e+01,  1.8982e+01, -1.4674e+01,  9.5702e+00, -5.4718e+00,\n",
       "          -1.9394e-01,  7.6741e-01,  8.3711e+00, -1.6079e+01,  1.2211e+01,\n",
       "          -6.0603e+00,  7.0434e+00, -8.0279e+00,  4.7991e+00, -1.9471e+00,\n",
       "          -1.4289e-01,  7.2748e-01,  1.9995e+00, -5.4923e+00,  8.6311e+00,\n",
       "          -9.6594e+00,  0.0000e+00,  0.0000e+00,  0.0000e+00,  0.0000e+00]]])"
      ]
     },
     "execution_count": 6,
     "metadata": {},
     "output_type": "execute_result"
    }
   ],
   "source": [
    "ts_diff_feature"
   ]
  },
  {
   "cell_type": "code",
   "execution_count": 7,
   "id": "79075913",
   "metadata": {},
   "outputs": [
    {
     "data": {
      "text/plain": [
       "torch.Size([1, 5, 60])"
      ]
     },
     "execution_count": 7,
     "metadata": {},
     "output_type": "execute_result"
    }
   ],
   "source": [
    "ts_diff_feature.shape"
   ]
  },
  {
   "cell_type": "markdown",
   "id": "1a3354b4",
   "metadata": {},
   "source": [
    "We now permute the last two dimensions, essentially, this is just a transposition of the last two dimensions. "
   ]
  },
  {
   "cell_type": "code",
   "execution_count": 8,
   "id": "76682d9f",
   "metadata": {},
   "outputs": [],
   "source": [
    "ts_diff_feature=ts_diff_feature.permute(0,2,1)"
   ]
  },
  {
   "cell_type": "code",
   "execution_count": 9,
   "id": "5ed4b060",
   "metadata": {},
   "outputs": [
    {
     "data": {
      "text/plain": [
       "torch.Size([1, 60, 5])"
      ]
     },
     "execution_count": 9,
     "metadata": {},
     "output_type": "execute_result"
    }
   ],
   "source": [
    "ts_diff_feature.shape"
   ]
  },
  {
   "cell_type": "markdown",
   "id": "e3cff150",
   "metadata": {},
   "source": [
    "Now, this is a batch (of size 1) of timeseries feature with 60 time steps, and 5 features in each step. We then expand the 5 features, say, to 32 by projection. As a reminder, nn.Linear automatically apply to the last dimension. "
   ]
  },
  {
   "cell_type": "code",
   "execution_count": 10,
   "id": "6b7d96c1",
   "metadata": {},
   "outputs": [],
   "source": [
    "linear_proj=nn.Linear(5,32)\n",
    "ts_feature_proj=linear_proj(ts_diff_feature)"
   ]
  },
  {
   "cell_type": "code",
   "execution_count": 11,
   "id": "33f82b6b",
   "metadata": {},
   "outputs": [
    {
     "data": {
      "text/plain": [
       "torch.Size([1, 60, 32])"
      ]
     },
     "execution_count": 11,
     "metadata": {},
     "output_type": "execute_result"
    }
   ],
   "source": [
    "ts_feature_proj.shape"
   ]
  },
  {
   "cell_type": "markdown",
   "id": "0e40c151",
   "metadata": {},
   "source": [
    "In this example, we will not go into too much detail, so let's make the most simple version. We then pass through a layer of RNN, then a layer of linear (to project to dimension 1 again). Learn more about RNN at https://docs.pytorch.org/docs/stable/generated/torch.nn.RNN.html. "
   ]
  },
  {
   "cell_type": "code",
   "execution_count": 12,
   "id": "f611ac42",
   "metadata": {},
   "outputs": [],
   "source": [
    "RNN_layer=nn.RNN(input_size=32,hidden_size=32,num_layers=1,nonlinearity=\"tanh\",batch_first=True,dropout=0)\n",
    "linear_end=nn.Linear(32,1)"
   ]
  },
  {
   "cell_type": "code",
   "execution_count": 13,
   "id": "207568f0",
   "metadata": {},
   "outputs": [],
   "source": [
    "RNN_out=RNN_layer(ts_feature_proj)"
   ]
  },
  {
   "cell_type": "markdown",
   "id": "4cc91386",
   "metadata": {},
   "source": [
    "As a reminder, since no training is done, the RNN basically just applies the initial weights. "
   ]
  },
  {
   "cell_type": "code",
   "execution_count": 14,
   "id": "f31dfe8d",
   "metadata": {},
   "outputs": [
    {
     "data": {
      "text/plain": [
       "torch.Size([1, 60, 32])"
      ]
     },
     "execution_count": 14,
     "metadata": {},
     "output_type": "execute_result"
    }
   ],
   "source": [
    "RNN_out[0].shape"
   ]
  },
  {
   "cell_type": "code",
   "execution_count": 15,
   "id": "e423255b",
   "metadata": {},
   "outputs": [],
   "source": [
    "out_proj=linear_end(RNN_out[0])"
   ]
  },
  {
   "cell_type": "code",
   "execution_count": 16,
   "id": "3ba4ee6e",
   "metadata": {},
   "outputs": [
    {
     "data": {
      "text/plain": [
       "torch.Size([1, 60, 1])"
      ]
     },
     "execution_count": 16,
     "metadata": {},
     "output_type": "execute_result"
    }
   ],
   "source": [
    "out_proj.shape"
   ]
  },
  {
   "cell_type": "markdown",
   "id": "22784470",
   "metadata": {},
   "source": [
    "We will use sum, but we may change this to other functions, according to context or just feeling. "
   ]
  },
  {
   "cell_type": "code",
   "execution_count": 17,
   "id": "e293bafe",
   "metadata": {},
   "outputs": [],
   "source": [
    "sum_out=torch.sum(out_proj,dim=1)"
   ]
  },
  {
   "cell_type": "code",
   "execution_count": 18,
   "id": "b35c7bc4",
   "metadata": {},
   "outputs": [
    {
     "data": {
      "text/plain": [
       "tensor([[1.2557]], grad_fn=<SumBackward1>)"
      ]
     },
     "execution_count": 18,
     "metadata": {},
     "output_type": "execute_result"
    }
   ],
   "source": [
    "sum_out"
   ]
  },
  {
   "cell_type": "markdown",
   "id": "81b9f52c",
   "metadata": {},
   "source": [
    "## Creating the actual NN "
   ]
  },
  {
   "cell_type": "code",
   "execution_count": 123,
   "id": "4d007bce",
   "metadata": {},
   "outputs": [],
   "source": [
    "#Created 07/02/25\n",
    "#07/02/25: Moved to training.py \n",
    "#07/08/25: Moved from training.py\n",
    "class RV_RNN_conv(nn.Module):        \n",
    "    #Created 07/02/25 see RNN_with_frozen_conv.ipynb for documentation. \n",
    "    #Modified 07/08/25 Added LSTM and GRU options\n",
    "    def __init__(self,n_diff,rnn_num_layer,rnn_drop_out,rnn_type=\"rnn\",rnn_act=\"tanh\",proj_dim=32,rnn_hidden_size=32,input_scaler=10000):\n",
    "        \"\"\"\n",
    "        :param n_diff: Decides how many derivative features is wanted in the time series. \n",
    "        :param rnn_num_layer: num_layer parameter for rnn. \n",
    "        :param rnn_drop_out: dropout parameter for rnn. \n",
    "        :param rnn_act: Defaulted to \"tanh\". Nonlinearity parameter for rnn. \n",
    "        :param proj_dim: Defaulted to 32. Decided the dimension of projection before feeding into rnn. \n",
    "        :param rnn_hidden_size: Defaulted to 32. The hidden_size parameter for rnn. \n",
    "        :param input_scaler: Defaulted to 10000. Set a scaling to input, a lot of timeseries values of our data are extremely close to zero. \n",
    "        :param rnn_type: 'rnn', 'lstm', or 'gru'\n",
    "        \"\"\"\n",
    "        super().__init__()\n",
    "        \n",
    "        self.input_scaler=input_scaler\n",
    "        self.frozen_conv=frozen_diff_conv(n_diff=n_diff)\n",
    "        self.linear_proj_input=nn.Linear(n_diff+1,proj_dim)\n",
    "\n",
    "        self.rnn_type = rnn_type\n",
    "\n",
    "        if rnn_type == \"rnn\":\n",
    "            self.RNN_layer=nn.RNN(input_size=proj_dim,\n",
    "                                  hidden_size=rnn_hidden_size,\n",
    "                                  num_layers=rnn_num_layer,\n",
    "                                  nonlinearity=rnn_act,\n",
    "                                  batch_first=True,\n",
    "                                  dropout=rnn_drop_out)\n",
    "        elif rnn_type == \"lstm\":\n",
    "            if rnn_act is not None:\n",
    "                print(f\"Warning: rnn_act='{rnn_act}' is ignored when using rnn_type='lstm'\")\n",
    "            self.RNN_layer = nn.LSTM(input_size=proj_dim,\n",
    "                                     hidden_size=rnn_hidden_size,\n",
    "                                     num_layers=rnn_num_layer,\n",
    "                                     batch_first=True,\n",
    "                                     dropout=rnn_drop_out)\n",
    "        elif rnn_type == \"gru\":\n",
    "            if rnn_act is not None:\n",
    "                print(f\"Warning: rnn_act='{rnn_act}' is ignored when using rnn_type='gru'\")\n",
    "            self.RNN_layer = nn.GRU(input_size=proj_dim,\n",
    "                                    hidden_size=rnn_hidden_size,\n",
    "                                    num_layers=rnn_num_layer,\n",
    "                                    batch_first=True,\n",
    "                                    dropout=rnn_drop_out)\n",
    "        else:\n",
    "            raise ValueError(f\"Unsupported rnn_type: {rnn_type}\")\n",
    "        \n",
    "        self.linear_post_rnn=nn.Linear(rnn_hidden_size,1)\n",
    "        self.frozen_list=[\"frozen_conv\"] \n",
    "        \n",
    "    def forward(self,x):\n",
    "        #First, scale the input, and unsqueese to add in one dimension in dim 1 as channel. This is needed for convolution. \n",
    "        x*=self.input_scaler\n",
    "        x=torch.unsqueeze(x,dim=1)\n",
    "        x=self.frozen_conv(x)\n",
    "        x=x.permute(0,2,1)\n",
    "        x=self.linear_proj_input(x)\n",
    "        x=self.RNN_layer(x)[0]\n",
    "        x=self.linear_post_rnn(x)\n",
    "        \n",
    "        return torch.sum(x,dim=1)/self.input_scaler\n",
    "    "
   ]
  },
  {
   "cell_type": "markdown",
   "id": "71432b31",
   "metadata": {},
   "source": [
    "## Basic testing on the RNN with frozen convolution "
   ]
  },
  {
   "cell_type": "markdown",
   "id": "a9583750",
   "metadata": {},
   "source": [
    "Test it first. As a reminder, the expected input dimensions are (Batch Size, Time Series Length), this is distinct from the example above in that the channel dimension is not present. The channel dimension is added with unsqueeze at dimension 1 so that the first convolution layer can be utilized. "
   ]
  },
  {
   "cell_type": "code",
   "execution_count": 19,
   "id": "df3d8c1f",
   "metadata": {},
   "outputs": [],
   "source": [
    "ts_feature=torch.randn(10,60)"
   ]
  },
  {
   "cell_type": "code",
   "execution_count": 20,
   "id": "a33fd643",
   "metadata": {
    "scrolled": true
   },
   "outputs": [
    {
     "data": {
      "text/plain": [
       "tensor([[ 4.9971e-01, -1.3001e-01, -1.1403e+00, -7.7236e-01,  1.8599e+00,\n",
       "         -6.9808e-01,  1.5106e+00, -1.4802e+00, -3.9169e-01, -3.1802e-02,\n",
       "         -1.1092e+00,  4.7330e-01,  7.7057e-02, -6.1030e-02,  4.4273e-02,\n",
       "          1.1545e+00,  1.6664e+00, -2.5811e-01, -1.0196e+00,  3.4227e-01,\n",
       "          9.0611e-02, -7.1442e-01, -5.1483e-01,  6.6749e-01,  1.6236e+00,\n",
       "         -1.5389e+00, -7.6098e-01, -6.0926e-01,  1.5119e+00,  1.4623e+00,\n",
       "         -1.8738e+00, -1.0195e+00,  5.1206e-01,  6.5966e-01,  2.5789e-02,\n",
       "         -1.6673e-01, -3.5891e-01, -1.8669e+00, -2.8837e-01,  7.1051e-01,\n",
       "          8.5181e-01,  1.8687e-01,  6.3762e-01, -2.0904e-01, -1.0262e+00,\n",
       "         -6.2161e-01,  1.8408e+00, -1.6856e+00,  5.2398e-01, -5.6024e-01,\n",
       "          1.3300e-01,  1.2988e+00,  7.8794e-02,  4.5463e-02, -3.4238e-01,\n",
       "         -9.0760e-01, -1.3707e+00, -4.4723e-01, -2.9356e-01, -6.8926e-01],\n",
       "        [ 1.4308e+00,  5.3982e-01, -5.7762e-02,  7.6088e-01, -4.5305e-01,\n",
       "          3.6230e-01,  2.3692e-01,  1.2783e+00, -3.0438e-01,  4.8155e-01,\n",
       "         -9.4604e-02, -5.2999e-02,  7.0097e-01, -1.3007e+00, -8.7723e-01,\n",
       "          7.4288e-02, -2.6345e-01,  5.9917e-02, -1.4569e-01,  1.7438e+00,\n",
       "         -7.0533e-01,  1.8248e-01,  6.2562e-01, -1.1259e-01, -6.2901e-01,\n",
       "          4.4033e-01, -4.3137e-01,  1.1272e-02, -2.5805e-01, -4.9702e-01,\n",
       "          1.3716e+00, -3.2789e-01,  3.0504e-01, -8.9711e-01,  2.3774e+00,\n",
       "          1.6353e+00, -1.2243e+00,  1.6841e-01,  7.3736e-01, -1.0567e+00,\n",
       "         -1.0988e+00, -8.9903e-01,  1.6964e-01, -1.3469e+00,  6.7174e-02,\n",
       "         -1.0021e+00,  3.9571e-01,  8.8042e-01, -1.5078e+00,  3.5894e-01,\n",
       "          3.3802e-01,  3.0487e-01,  3.4259e-01, -3.8630e-01, -2.4155e-02,\n",
       "          7.3312e-01,  8.7817e-01, -8.2768e-01, -2.9355e-01,  3.3061e-01],\n",
       "        [ 2.5318e-01,  3.8102e-01,  2.6876e+00, -3.9484e-01, -2.3881e-01,\n",
       "          6.8641e-02,  5.9486e-01, -1.4737e+00,  7.0669e-01,  1.5046e+00,\n",
       "          5.9085e-01,  1.4933e+00, -2.1005e-01,  1.3130e+00, -9.1704e-01,\n",
       "         -1.1039e+00,  1.4833e+00,  4.7081e-02,  2.2842e-01,  4.6167e-01,\n",
       "         -1.0363e-01,  6.6925e-01, -1.5840e+00,  6.5668e-02, -1.4168e+00,\n",
       "         -1.2486e+00, -1.8272e+00,  1.8112e+00,  6.1650e-01, -1.1103e-01,\n",
       "         -1.8234e-01,  5.7363e-02,  8.6665e-01, -2.0815e+00,  4.1343e-01,\n",
       "         -4.2743e-01,  2.8909e-01,  9.4002e-01,  5.8888e-01,  1.6420e-02,\n",
       "         -8.4871e-02,  3.4691e-01, -9.5851e-01, -1.0034e+00, -1.3980e-01,\n",
       "         -4.1359e-01, -1.7873e+00, -9.6459e-01,  3.7664e-01,  1.8563e+00,\n",
       "          1.9582e+00,  8.4362e-01,  1.0092e+00,  1.4458e-03, -8.9394e-02,\n",
       "         -2.7246e+00, -6.4128e-01, -1.9199e+00, -3.2695e-01, -5.1117e-02],\n",
       "        [-1.2159e-01, -9.3231e-01, -9.6076e-01,  1.6190e+00,  1.5291e+00,\n",
       "         -4.0395e-01,  7.7714e-01,  1.8677e+00,  7.4954e-01, -1.0456e+00,\n",
       "         -1.4263e+00, -3.0523e-01,  6.0739e-01, -7.2510e-01, -1.8583e+00,\n",
       "         -1.3546e+00, -2.8826e-01,  1.0497e+00,  9.0350e-01, -1.5834e+00,\n",
       "         -1.6264e-01, -2.9454e-01, -1.1195e+00,  8.4818e-01, -6.9007e-01,\n",
       "         -7.8531e-01,  5.0420e-01, -8.7133e-01, -6.6761e-02, -1.1322e+00,\n",
       "          1.3554e+00, -1.2367e-01,  1.7541e+00, -4.7034e-01,  1.3373e+00,\n",
       "          2.4652e-01, -1.1514e+00,  5.9967e-01, -1.0854e+00, -4.6820e-01,\n",
       "          1.1397e+00, -9.3558e-02, -6.7728e-01, -1.7160e+00,  1.4537e+00,\n",
       "          9.9533e-01,  1.7130e+00,  7.6425e-01, -2.5230e+00,  1.2070e+00,\n",
       "          1.0142e+00, -9.4738e-02, -1.1420e-01, -9.2427e-01,  2.3712e-01,\n",
       "          1.4228e-01,  4.5694e-01,  6.2191e-01,  1.8468e+00, -9.8112e-01],\n",
       "        [ 1.1306e+00,  8.3529e-01, -2.9954e-01, -4.7112e-01, -2.0877e-01,\n",
       "         -4.8950e-03, -7.8825e-01,  1.4376e+00,  8.9070e-01,  5.7410e-01,\n",
       "         -2.1297e+00,  2.0067e+00, -4.7687e-01, -1.6458e-02, -1.0851e+00,\n",
       "          1.0390e+00, -1.5669e+00,  5.4534e-01,  8.1195e-03,  7.4603e-01,\n",
       "          1.7752e+00, -2.3654e-02,  5.3764e-01,  7.7837e-01,  1.7001e-01,\n",
       "          5.3340e-01,  8.1639e-01,  5.8233e-02,  2.0643e+00,  9.8667e-01,\n",
       "          3.8659e-01, -1.8921e+00, -1.5634e+00, -1.3588e+00,  7.2107e-01,\n",
       "         -3.4673e-01,  1.0420e+00, -1.3223e+00, -2.3510e-01,  7.3066e-01,\n",
       "          1.4870e-01, -1.6533e+00, -5.8012e-01,  2.5478e+00, -2.4914e-01,\n",
       "          6.1622e-01, -3.0964e-01, -7.9378e-01,  6.9507e-01,  8.6993e-01,\n",
       "          2.0109e+00,  1.2179e+00, -1.4531e+00, -6.3152e-01, -1.0339e+00,\n",
       "          7.5825e-02,  7.8944e-01,  4.8174e-01,  1.1309e+00,  1.0797e+00],\n",
       "        [ 7.7379e-01, -1.0015e+00, -6.1293e-01, -4.6681e-01, -4.5193e-01,\n",
       "          2.1192e+00,  9.8311e-01,  7.3992e-01, -8.6174e-01,  8.6770e-01,\n",
       "         -3.8720e-01,  8.5517e-02, -8.4072e-01,  9.0587e-01, -5.6736e-01,\n",
       "          2.3657e-01, -5.1644e-01, -8.5824e-01,  1.0341e+00, -1.1768e+00,\n",
       "          9.0630e-01, -6.1566e-02, -8.9221e-02, -4.8559e-01, -1.4921e+00,\n",
       "          9.0793e-01,  7.9805e-01, -1.7393e+00, -3.4292e-02,  1.2818e+00,\n",
       "         -3.2004e+00,  9.9491e-02, -1.3688e+00, -1.2971e+00,  2.6267e-01,\n",
       "          9.5438e-01, -1.4132e+00,  1.8926e+00,  7.1759e-01, -1.9862e+00,\n",
       "         -9.0729e-01, -7.5776e-01, -7.7266e-01, -6.4274e-01, -1.7269e-01,\n",
       "          1.2985e-01,  4.4351e-02,  1.7689e-01,  7.7345e-01, -1.0645e+00,\n",
       "          6.4652e-01, -1.5979e+00,  6.0500e-01, -1.0385e+00, -2.3670e+00,\n",
       "         -4.2446e-01,  1.4906e+00, -7.9251e-01,  9.9229e-01, -1.5774e+00],\n",
       "        [ 5.0177e-01,  2.4106e-01, -6.5872e-01,  1.0902e-01,  5.8086e-01,\n",
       "          1.9186e+00, -2.1326e+00, -6.2231e-01, -2.3593e-01,  1.7025e-01,\n",
       "          1.4749e+00, -9.4292e-01,  1.4547e-01,  9.4311e-01, -8.5379e-01,\n",
       "         -2.2129e-01, -1.3732e+00,  1.3589e+00,  4.6782e-01, -8.9807e-01,\n",
       "          4.7402e-01,  9.1744e-01, -3.2876e-01,  5.9779e-02, -6.4242e-01,\n",
       "          6.8333e-01,  8.7154e-01, -2.3882e-01, -1.0712e+00,  3.9495e-01,\n",
       "          9.2707e-01, -3.0983e-01, -9.8542e-01, -3.6934e-02,  2.6743e+00,\n",
       "          1.0013e+00,  1.1709e-01,  1.5947e-02,  3.3760e-01, -3.6029e-01,\n",
       "         -9.8500e-01,  6.7139e-02, -1.4012e+00,  2.3760e+00,  9.4070e-01,\n",
       "          4.0330e-01,  7.5822e-01,  8.5953e-01,  2.1727e-03,  2.1302e+00,\n",
       "         -8.0883e-01, -6.9155e-01, -6.3846e-01,  3.0520e-01,  7.0363e-01,\n",
       "         -3.8721e-01, -7.9320e-02, -3.1789e-01,  1.6018e+00, -1.7475e-01],\n",
       "        [ 4.8490e-01, -1.3485e+00, -5.2845e-01,  5.3322e-02, -1.4477e+00,\n",
       "          9.9759e-01, -1.8074e+00,  5.3383e-01, -9.1542e-01,  1.7862e+00,\n",
       "          2.3016e-01,  8.7560e-02, -1.2497e+00,  6.4770e-01,  1.8212e-01,\n",
       "         -1.4018e+00,  8.9644e-01, -3.1460e-01, -2.0938e-01, -7.8133e-01,\n",
       "         -7.5440e-01,  1.2900e-01, -7.9421e-01, -3.7794e-01, -6.4391e-01,\n",
       "          1.0784e+00, -3.2008e-01,  1.4775e+00, -1.3190e+00, -1.1476e-01,\n",
       "          7.4479e-01, -3.8717e-01,  1.5714e+00, -1.8139e+00,  1.0767e+00,\n",
       "         -1.9131e-01, -3.9009e-01,  6.7437e-01,  1.9352e-01,  1.2796e+00,\n",
       "          8.4135e-01, -1.4779e-01,  1.2561e+00,  1.0188e+00, -2.6481e-01,\n",
       "         -8.8988e-01, -2.6440e-01,  3.8843e-01,  1.8583e+00,  6.6880e-01,\n",
       "         -3.5173e-01,  7.0168e-01,  6.8942e-03,  8.2315e-01, -5.4192e-01,\n",
       "          3.9011e-01, -2.0729e+00,  2.0115e-01, -1.0041e+00,  1.4397e+00],\n",
       "        [-5.4609e-01, -4.4945e-01,  8.4361e-01,  9.1256e-01, -2.1864e-01,\n",
       "          1.4071e+00,  9.5832e-01,  1.1638e+00,  4.8710e-01,  1.4185e+00,\n",
       "         -5.6033e-01,  5.4311e-01, -1.0688e+00, -6.0023e-02, -4.0872e-01,\n",
       "          7.2920e-01,  3.6835e-01,  1.2659e+00, -9.8012e-01,  1.3341e-01,\n",
       "          4.7883e-01, -3.3977e-01, -3.3112e-02,  1.7383e+00, -1.0779e-01,\n",
       "          6.0118e-01, -7.4359e-01,  2.2610e-02, -7.3870e-01,  8.4551e-01,\n",
       "          3.0700e-01, -1.1002e-01,  9.7740e-01, -1.0727e+00,  1.0603e-01,\n",
       "          4.6367e-01,  4.9650e-01, -1.1421e-01, -1.8990e-01, -3.7088e-01,\n",
       "         -1.0236e+00, -4.6599e-02, -1.7324e-01, -7.4255e-02,  6.5932e-01,\n",
       "          1.0170e+00,  1.3835e+00,  1.2800e+00, -3.1610e-01, -5.9489e-01,\n",
       "          8.0888e-01,  7.8598e-01,  2.4849e-01, -1.0180e+00,  7.3784e-01,\n",
       "          3.8891e-01, -4.3239e-01,  1.6123e+00,  1.9342e-01,  1.8111e+00],\n",
       "        [ 1.0528e+00,  1.5704e+00,  1.9603e-03, -1.4646e+00, -7.5266e-01,\n",
       "          1.3770e-01, -1.9638e-01, -2.8527e-01,  1.1037e+00, -1.8202e+00,\n",
       "         -5.3344e-01,  9.3706e-02, -1.7282e+00,  4.0101e-01,  1.5522e+00,\n",
       "         -7.6144e-01,  1.1975e+00,  1.1506e+00, -1.7320e+00,  3.1218e-01,\n",
       "         -5.2718e-01,  1.3342e-01,  4.5582e-01, -1.1597e+00, -6.2798e-01,\n",
       "          5.8446e-02,  2.7572e-01,  1.1971e+00,  1.5550e+00, -1.8516e+00,\n",
       "         -7.1024e-01,  4.1439e-01,  7.8271e-01,  1.0857e+00, -5.0055e-01,\n",
       "         -1.8306e+00,  6.7957e-02, -5.3453e-01, -1.3076e-01,  1.4755e+00,\n",
       "          5.7825e-01,  1.9042e+00,  3.1708e-01, -8.3081e-01,  1.7181e-01,\n",
       "          3.1793e-02,  1.8867e-01,  1.6538e+00,  3.2521e-02,  2.5793e-01,\n",
       "         -1.6234e-02, -8.3267e-01, -2.0775e+00, -8.5538e-01,  3.1289e-02,\n",
       "          4.3229e-01,  7.8150e-01, -1.9540e+00,  4.6232e-01,  1.4607e+00]])"
      ]
     },
     "execution_count": 20,
     "metadata": {},
     "output_type": "execute_result"
    }
   ],
   "source": [
    "ts_feature"
   ]
  },
  {
   "cell_type": "code",
   "execution_count": 21,
   "id": "72cd7276",
   "metadata": {
    "scrolled": true
   },
   "outputs": [
    {
     "data": {
      "text/plain": [
       "tensor([[[ 4.9971e-01, -1.3001e-01, -1.1403e+00, -7.7236e-01,  1.8599e+00,\n",
       "          -6.9808e-01,  1.5106e+00, -1.4802e+00, -3.9169e-01, -3.1802e-02,\n",
       "          -1.1092e+00,  4.7330e-01,  7.7057e-02, -6.1030e-02,  4.4273e-02,\n",
       "           1.1545e+00,  1.6664e+00, -2.5811e-01, -1.0196e+00,  3.4227e-01,\n",
       "           9.0611e-02, -7.1442e-01, -5.1483e-01,  6.6749e-01,  1.6236e+00,\n",
       "          -1.5389e+00, -7.6098e-01, -6.0926e-01,  1.5119e+00,  1.4623e+00,\n",
       "          -1.8738e+00, -1.0195e+00,  5.1206e-01,  6.5966e-01,  2.5789e-02,\n",
       "          -1.6673e-01, -3.5891e-01, -1.8669e+00, -2.8837e-01,  7.1051e-01,\n",
       "           8.5181e-01,  1.8687e-01,  6.3762e-01, -2.0904e-01, -1.0262e+00,\n",
       "          -6.2161e-01,  1.8408e+00, -1.6856e+00,  5.2398e-01, -5.6024e-01,\n",
       "           1.3300e-01,  1.2988e+00,  7.8794e-02,  4.5463e-02, -3.4238e-01,\n",
       "          -9.0760e-01, -1.3707e+00, -4.4723e-01, -2.9356e-01, -6.8926e-01]],\n",
       "\n",
       "        [[ 1.4308e+00,  5.3982e-01, -5.7762e-02,  7.6088e-01, -4.5305e-01,\n",
       "           3.6230e-01,  2.3692e-01,  1.2783e+00, -3.0438e-01,  4.8155e-01,\n",
       "          -9.4604e-02, -5.2999e-02,  7.0097e-01, -1.3007e+00, -8.7723e-01,\n",
       "           7.4288e-02, -2.6345e-01,  5.9917e-02, -1.4569e-01,  1.7438e+00,\n",
       "          -7.0533e-01,  1.8248e-01,  6.2562e-01, -1.1259e-01, -6.2901e-01,\n",
       "           4.4033e-01, -4.3137e-01,  1.1272e-02, -2.5805e-01, -4.9702e-01,\n",
       "           1.3716e+00, -3.2789e-01,  3.0504e-01, -8.9711e-01,  2.3774e+00,\n",
       "           1.6353e+00, -1.2243e+00,  1.6841e-01,  7.3736e-01, -1.0567e+00,\n",
       "          -1.0988e+00, -8.9903e-01,  1.6964e-01, -1.3469e+00,  6.7174e-02,\n",
       "          -1.0021e+00,  3.9571e-01,  8.8042e-01, -1.5078e+00,  3.5894e-01,\n",
       "           3.3802e-01,  3.0487e-01,  3.4259e-01, -3.8630e-01, -2.4155e-02,\n",
       "           7.3312e-01,  8.7817e-01, -8.2768e-01, -2.9355e-01,  3.3061e-01]],\n",
       "\n",
       "        [[ 2.5318e-01,  3.8102e-01,  2.6876e+00, -3.9484e-01, -2.3881e-01,\n",
       "           6.8641e-02,  5.9486e-01, -1.4737e+00,  7.0669e-01,  1.5046e+00,\n",
       "           5.9085e-01,  1.4933e+00, -2.1005e-01,  1.3130e+00, -9.1704e-01,\n",
       "          -1.1039e+00,  1.4833e+00,  4.7081e-02,  2.2842e-01,  4.6167e-01,\n",
       "          -1.0363e-01,  6.6925e-01, -1.5840e+00,  6.5668e-02, -1.4168e+00,\n",
       "          -1.2486e+00, -1.8272e+00,  1.8112e+00,  6.1650e-01, -1.1103e-01,\n",
       "          -1.8234e-01,  5.7363e-02,  8.6665e-01, -2.0815e+00,  4.1343e-01,\n",
       "          -4.2743e-01,  2.8909e-01,  9.4002e-01,  5.8888e-01,  1.6420e-02,\n",
       "          -8.4871e-02,  3.4691e-01, -9.5851e-01, -1.0034e+00, -1.3980e-01,\n",
       "          -4.1359e-01, -1.7873e+00, -9.6459e-01,  3.7664e-01,  1.8563e+00,\n",
       "           1.9582e+00,  8.4362e-01,  1.0092e+00,  1.4458e-03, -8.9394e-02,\n",
       "          -2.7246e+00, -6.4128e-01, -1.9199e+00, -3.2695e-01, -5.1117e-02]],\n",
       "\n",
       "        [[-1.2159e-01, -9.3231e-01, -9.6076e-01,  1.6190e+00,  1.5291e+00,\n",
       "          -4.0395e-01,  7.7714e-01,  1.8677e+00,  7.4954e-01, -1.0456e+00,\n",
       "          -1.4263e+00, -3.0523e-01,  6.0739e-01, -7.2510e-01, -1.8583e+00,\n",
       "          -1.3546e+00, -2.8826e-01,  1.0497e+00,  9.0350e-01, -1.5834e+00,\n",
       "          -1.6264e-01, -2.9454e-01, -1.1195e+00,  8.4818e-01, -6.9007e-01,\n",
       "          -7.8531e-01,  5.0420e-01, -8.7133e-01, -6.6761e-02, -1.1322e+00,\n",
       "           1.3554e+00, -1.2367e-01,  1.7541e+00, -4.7034e-01,  1.3373e+00,\n",
       "           2.4652e-01, -1.1514e+00,  5.9967e-01, -1.0854e+00, -4.6820e-01,\n",
       "           1.1397e+00, -9.3558e-02, -6.7728e-01, -1.7160e+00,  1.4537e+00,\n",
       "           9.9533e-01,  1.7130e+00,  7.6425e-01, -2.5230e+00,  1.2070e+00,\n",
       "           1.0142e+00, -9.4738e-02, -1.1420e-01, -9.2427e-01,  2.3712e-01,\n",
       "           1.4228e-01,  4.5694e-01,  6.2191e-01,  1.8468e+00, -9.8112e-01]],\n",
       "\n",
       "        [[ 1.1306e+00,  8.3529e-01, -2.9954e-01, -4.7112e-01, -2.0877e-01,\n",
       "          -4.8950e-03, -7.8825e-01,  1.4376e+00,  8.9070e-01,  5.7410e-01,\n",
       "          -2.1297e+00,  2.0067e+00, -4.7687e-01, -1.6458e-02, -1.0851e+00,\n",
       "           1.0390e+00, -1.5669e+00,  5.4534e-01,  8.1195e-03,  7.4603e-01,\n",
       "           1.7752e+00, -2.3654e-02,  5.3764e-01,  7.7837e-01,  1.7001e-01,\n",
       "           5.3340e-01,  8.1639e-01,  5.8233e-02,  2.0643e+00,  9.8667e-01,\n",
       "           3.8659e-01, -1.8921e+00, -1.5634e+00, -1.3588e+00,  7.2107e-01,\n",
       "          -3.4673e-01,  1.0420e+00, -1.3223e+00, -2.3510e-01,  7.3066e-01,\n",
       "           1.4870e-01, -1.6533e+00, -5.8012e-01,  2.5478e+00, -2.4914e-01,\n",
       "           6.1622e-01, -3.0964e-01, -7.9378e-01,  6.9507e-01,  8.6993e-01,\n",
       "           2.0109e+00,  1.2179e+00, -1.4531e+00, -6.3152e-01, -1.0339e+00,\n",
       "           7.5825e-02,  7.8944e-01,  4.8174e-01,  1.1309e+00,  1.0797e+00]],\n",
       "\n",
       "        [[ 7.7379e-01, -1.0015e+00, -6.1293e-01, -4.6681e-01, -4.5193e-01,\n",
       "           2.1192e+00,  9.8311e-01,  7.3992e-01, -8.6174e-01,  8.6770e-01,\n",
       "          -3.8720e-01,  8.5517e-02, -8.4072e-01,  9.0587e-01, -5.6736e-01,\n",
       "           2.3657e-01, -5.1644e-01, -8.5824e-01,  1.0341e+00, -1.1768e+00,\n",
       "           9.0630e-01, -6.1566e-02, -8.9221e-02, -4.8559e-01, -1.4921e+00,\n",
       "           9.0793e-01,  7.9805e-01, -1.7393e+00, -3.4292e-02,  1.2818e+00,\n",
       "          -3.2004e+00,  9.9491e-02, -1.3688e+00, -1.2971e+00,  2.6267e-01,\n",
       "           9.5438e-01, -1.4132e+00,  1.8926e+00,  7.1759e-01, -1.9862e+00,\n",
       "          -9.0729e-01, -7.5776e-01, -7.7266e-01, -6.4274e-01, -1.7269e-01,\n",
       "           1.2985e-01,  4.4351e-02,  1.7689e-01,  7.7345e-01, -1.0645e+00,\n",
       "           6.4652e-01, -1.5979e+00,  6.0500e-01, -1.0385e+00, -2.3670e+00,\n",
       "          -4.2446e-01,  1.4906e+00, -7.9251e-01,  9.9229e-01, -1.5774e+00]],\n",
       "\n",
       "        [[ 5.0177e-01,  2.4106e-01, -6.5872e-01,  1.0902e-01,  5.8086e-01,\n",
       "           1.9186e+00, -2.1326e+00, -6.2231e-01, -2.3593e-01,  1.7025e-01,\n",
       "           1.4749e+00, -9.4292e-01,  1.4547e-01,  9.4311e-01, -8.5379e-01,\n",
       "          -2.2129e-01, -1.3732e+00,  1.3589e+00,  4.6782e-01, -8.9807e-01,\n",
       "           4.7402e-01,  9.1744e-01, -3.2876e-01,  5.9779e-02, -6.4242e-01,\n",
       "           6.8333e-01,  8.7154e-01, -2.3882e-01, -1.0712e+00,  3.9495e-01,\n",
       "           9.2707e-01, -3.0983e-01, -9.8542e-01, -3.6934e-02,  2.6743e+00,\n",
       "           1.0013e+00,  1.1709e-01,  1.5947e-02,  3.3760e-01, -3.6029e-01,\n",
       "          -9.8500e-01,  6.7139e-02, -1.4012e+00,  2.3760e+00,  9.4070e-01,\n",
       "           4.0330e-01,  7.5822e-01,  8.5953e-01,  2.1727e-03,  2.1302e+00,\n",
       "          -8.0883e-01, -6.9155e-01, -6.3846e-01,  3.0520e-01,  7.0363e-01,\n",
       "          -3.8721e-01, -7.9320e-02, -3.1789e-01,  1.6018e+00, -1.7475e-01]],\n",
       "\n",
       "        [[ 4.8490e-01, -1.3485e+00, -5.2845e-01,  5.3322e-02, -1.4477e+00,\n",
       "           9.9759e-01, -1.8074e+00,  5.3383e-01, -9.1542e-01,  1.7862e+00,\n",
       "           2.3016e-01,  8.7560e-02, -1.2497e+00,  6.4770e-01,  1.8212e-01,\n",
       "          -1.4018e+00,  8.9644e-01, -3.1460e-01, -2.0938e-01, -7.8133e-01,\n",
       "          -7.5440e-01,  1.2900e-01, -7.9421e-01, -3.7794e-01, -6.4391e-01,\n",
       "           1.0784e+00, -3.2008e-01,  1.4775e+00, -1.3190e+00, -1.1476e-01,\n",
       "           7.4479e-01, -3.8717e-01,  1.5714e+00, -1.8139e+00,  1.0767e+00,\n",
       "          -1.9131e-01, -3.9009e-01,  6.7437e-01,  1.9352e-01,  1.2796e+00,\n",
       "           8.4135e-01, -1.4779e-01,  1.2561e+00,  1.0188e+00, -2.6481e-01,\n",
       "          -8.8988e-01, -2.6440e-01,  3.8843e-01,  1.8583e+00,  6.6880e-01,\n",
       "          -3.5173e-01,  7.0168e-01,  6.8942e-03,  8.2315e-01, -5.4192e-01,\n",
       "           3.9011e-01, -2.0729e+00,  2.0115e-01, -1.0041e+00,  1.4397e+00]],\n",
       "\n",
       "        [[-5.4609e-01, -4.4945e-01,  8.4361e-01,  9.1256e-01, -2.1864e-01,\n",
       "           1.4071e+00,  9.5832e-01,  1.1638e+00,  4.8710e-01,  1.4185e+00,\n",
       "          -5.6033e-01,  5.4311e-01, -1.0688e+00, -6.0023e-02, -4.0872e-01,\n",
       "           7.2920e-01,  3.6835e-01,  1.2659e+00, -9.8012e-01,  1.3341e-01,\n",
       "           4.7883e-01, -3.3977e-01, -3.3112e-02,  1.7383e+00, -1.0779e-01,\n",
       "           6.0118e-01, -7.4359e-01,  2.2610e-02, -7.3870e-01,  8.4551e-01,\n",
       "           3.0700e-01, -1.1002e-01,  9.7740e-01, -1.0727e+00,  1.0603e-01,\n",
       "           4.6367e-01,  4.9650e-01, -1.1421e-01, -1.8990e-01, -3.7088e-01,\n",
       "          -1.0236e+00, -4.6599e-02, -1.7324e-01, -7.4255e-02,  6.5932e-01,\n",
       "           1.0170e+00,  1.3835e+00,  1.2800e+00, -3.1610e-01, -5.9489e-01,\n",
       "           8.0888e-01,  7.8598e-01,  2.4849e-01, -1.0180e+00,  7.3784e-01,\n",
       "           3.8891e-01, -4.3239e-01,  1.6123e+00,  1.9342e-01,  1.8111e+00]],\n",
       "\n",
       "        [[ 1.0528e+00,  1.5704e+00,  1.9603e-03, -1.4646e+00, -7.5266e-01,\n",
       "           1.3770e-01, -1.9638e-01, -2.8527e-01,  1.1037e+00, -1.8202e+00,\n",
       "          -5.3344e-01,  9.3706e-02, -1.7282e+00,  4.0101e-01,  1.5522e+00,\n",
       "          -7.6144e-01,  1.1975e+00,  1.1506e+00, -1.7320e+00,  3.1218e-01,\n",
       "          -5.2718e-01,  1.3342e-01,  4.5582e-01, -1.1597e+00, -6.2798e-01,\n",
       "           5.8446e-02,  2.7572e-01,  1.1971e+00,  1.5550e+00, -1.8516e+00,\n",
       "          -7.1024e-01,  4.1439e-01,  7.8271e-01,  1.0857e+00, -5.0055e-01,\n",
       "          -1.8306e+00,  6.7957e-02, -5.3453e-01, -1.3076e-01,  1.4755e+00,\n",
       "           5.7825e-01,  1.9042e+00,  3.1708e-01, -8.3081e-01,  1.7181e-01,\n",
       "           3.1793e-02,  1.8867e-01,  1.6538e+00,  3.2521e-02,  2.5793e-01,\n",
       "          -1.6234e-02, -8.3267e-01, -2.0775e+00, -8.5538e-01,  3.1289e-02,\n",
       "           4.3229e-01,  7.8150e-01, -1.9540e+00,  4.6232e-01,  1.4607e+00]]])"
      ]
     },
     "execution_count": 21,
     "metadata": {},
     "output_type": "execute_result"
    }
   ],
   "source": [
    "torch.unsqueeze(ts_feature,dim=1)"
   ]
  },
  {
   "cell_type": "code",
   "execution_count": 22,
   "id": "455ed170",
   "metadata": {},
   "outputs": [],
   "source": [
    "model=training.RV_RNN_conv(n_diff=4,rnn_act=\"tanh\",rnn_num_layer=2,rnn_drop_out=0.3,rnn_hidden_size=32,proj_dim=32)"
   ]
  },
  {
   "cell_type": "code",
   "execution_count": 23,
   "id": "85bf9cda",
   "metadata": {},
   "outputs": [],
   "source": [
    "out=model(ts_feature)"
   ]
  },
  {
   "cell_type": "code",
   "execution_count": 24,
   "id": "dc35034a",
   "metadata": {},
   "outputs": [
    {
     "data": {
      "text/plain": [
       "tensor([[ 1.3662e-05],\n",
       "        [ 2.1474e-04],\n",
       "        [-1.5604e-04],\n",
       "        [ 4.3390e-04],\n",
       "        [ 1.9061e-04],\n",
       "        [ 1.2641e-04],\n",
       "        [ 1.4729e-04],\n",
       "        [ 2.5284e-04],\n",
       "        [ 2.1373e-04],\n",
       "        [ 1.3819e-04]], grad_fn=<DivBackward0>)"
      ]
     },
     "execution_count": 24,
     "metadata": {},
     "output_type": "execute_result"
    }
   ],
   "source": [
    "out"
   ]
  },
  {
   "cell_type": "markdown",
   "id": "09bfbac7",
   "metadata": {},
   "source": [
    "## Training loop (basic) "
   ]
  },
  {
   "cell_type": "code",
   "execution_count": 25,
   "id": "06d4fcc7",
   "metadata": {},
   "outputs": [],
   "source": [
    "list_time=np.load(\"../processed_data/recovered_time_id_order.npy\")"
   ]
  },
  {
   "cell_type": "code",
   "execution_count": 51,
   "id": "739d9a32-e68b-4f66-bd6b-0fda83803f65",
   "metadata": {},
   "outputs": [
    {
     "name": "stdout",
     "output_type": "stream",
     "text": [
      "[ 4294 31984 31570 ... 29316 32195 10890]\n"
     ]
    }
   ],
   "source": [
    "print(list_time)"
   ]
  },
  {
   "cell_type": "code",
   "execution_count": 26,
   "id": "825838c5",
   "metadata": {},
   "outputs": [
    {
     "name": "stdout",
     "output_type": "stream",
     "text": [
      "In fold 0 :\n",
      "\n",
      "Train set end at 8117 .\n",
      "\n",
      "Test set start at 15516 end at 10890 .\n",
      "\n"
     ]
    }
   ],
   "source": [
    "time_split_list=data_processing.time_cross_val_split(list_time=list_time,n_split=1,percent_val_size=10,list_output=True)"
   ]
  },
  {
   "cell_type": "code",
   "execution_count": 54,
   "id": "87ca970a-b88b-4b85-8337-6cf6a957e5e7",
   "metadata": {},
   "outputs": [
    {
     "data": {
      "text/plain": [
       "array([ 4294, 31984, 31570, ...,  5629, 10421,  8117])"
      ]
     },
     "execution_count": 54,
     "metadata": {},
     "output_type": "execute_result"
    }
   ],
   "source": [
    "time_split_list[0][0]"
   ]
  },
  {
   "cell_type": "code",
   "execution_count": 55,
   "id": "e7ba8aa2-a446-4389-8d49-bca021ceb63f",
   "metadata": {
    "scrolled": true
   },
   "outputs": [
    {
     "data": {
      "text/plain": [
       "array([15516, 30276, 16402, 27182, 24497, 13529,   373,  4219, 20323,\n",
       "        9160, 28983, 17820, 22678,  7460, 29676, 32048, 22405, 31380,\n",
       "        1816, 14079, 29944, 21990, 26804, 28210, 18142, 11682, 32597,\n",
       "       13513, 32690, 27120, 27427,  7418,  1213,  9822, 29692, 24523,\n",
       "       25318,  6274, 25569, 12713,   169, 20732, 15906, 28877, 25551,\n",
       "       10745, 31320, 31714,  6076, 23656,   424,   309, 17604, 28963,\n",
       "       23144, 11872, 29219, 25357, 22828, 17569, 17955, 11920, 18509,\n",
       "       19626, 16149,  5392,  7200, 10929,  4774, 27278, 23639, 10633,\n",
       "          72, 32534, 26944, 31018, 26494,  6648,   709,  6823, 21239,\n",
       "       11995, 23265, 31883,  2711,  1350,  1321, 16282,  5046, 29875,\n",
       "        7133, 15823, 25463,  9064,  3333, 11440, 16831,  6815, 19580,\n",
       "       30620, 24014, 17193, 10708, 30597,  4367, 27962, 13010, 32254,\n",
       "       23226, 22903,  5929, 30327,  1866, 14629,  1205,  9352, 10619,\n",
       "       14234, 15276,  4091, 22752, 18653, 11453, 26708, 30183, 13986,\n",
       "           5,  7864,  9889, 31471, 26868, 10672, 31347, 15418, 30430,\n",
       "       26568, 28267,  3955,  1392, 27014, 22081, 15845, 18728,  9936,\n",
       "        5232,  2366, 26886, 30272, 11393, 30750,  7572, 21601,  2331,\n",
       "       13207, 12073,  2058, 18502, 25429, 12532, 27496,  5932,   536,\n",
       "       27595, 23185, 26752,  2683,  6585, 15131,  6144, 27042,  7743,\n",
       "       22249, 32611,  3758, 19271, 13614, 31572, 17570,  9367, 11263,\n",
       "       14285, 12981,   146,  2643, 31266, 23490,  2109, 29906, 30303,\n",
       "       12102, 32649,  8721, 26606, 32012, 16511, 30908, 19871,  3513,\n",
       "        3001, 24127, 29974, 27752, 16504,  6631,  8750,  6493, 29819,\n",
       "       12147, 13503, 11264, 31236,  8365, 23486, 13294,  1292, 17265,\n",
       "       16594, 20928, 18205,  6316,  8459, 19955,  7369, 26763, 13560,\n",
       "        3211, 31254, 13720,   152,  4844, 14738, 22548, 27886,  4131,\n",
       "        6657, 13699, 25639,  2000, 26788, 21103, 11577, 29037,  9947,\n",
       "       32134, 30341, 17112,  7548, 20265, 12533, 10262, 10616,  7512,\n",
       "       28354, 25879,  2440, 21614, 32255, 15584,  9735, 31874, 30366,\n",
       "       31047, 16507,  6906,  9396,  6217,  1521, 17378, 26091,  3318,\n",
       "       32746,  8744, 26889,  1468,  6965, 17117,   817,  3130, 14928,\n",
       "       21373, 13980, 28634,   103, 27543, 26849,  7909, 18077, 30569,\n",
       "       10105, 12178, 20491, 32704, 12923, 15393, 14976, 26168,  2867,\n",
       "       12182, 27524, 30339, 18285, 28474, 27981, 13928, 10892, 14909,\n",
       "       21024, 25971,  9266, 25277,  5425, 17454,  3962, 14449, 31389,\n",
       "       17672,  9887, 20669,  4089, 19512, 30212, 11151, 22912, 25359,\n",
       "       29947, 31348, 16731,  1948,  6730, 14176,  2656, 15728,  8573,\n",
       "       21762,  6359,  5846, 12521, 26578,  8623,  9096, 23423, 22513,\n",
       "       23539, 17528,  5663, 24021, 32240, 28635,  2553, 13791, 22427,\n",
       "       19647, 26170,  2718, 28192, 19065,  2136, 29679,  9028, 17120,\n",
       "       25312,   618, 18184, 21658, 13627, 25338, 31402, 24406, 31331,\n",
       "        7759,  3123,  2027, 18703, 28837, 11718, 13579, 10455, 10604,\n",
       "       24913, 15365, 29316, 32195, 10890])"
      ]
     },
     "execution_count": 55,
     "metadata": {},
     "output_type": "execute_result"
    }
   ],
   "source": [
    "time_split_list[0][1]"
   ]
  },
  {
   "cell_type": "code",
   "execution_count": 27,
   "id": "72aedca6",
   "metadata": {},
   "outputs": [],
   "source": [
    "train_time_id,test_time_id=time_split_list[0][0],time_split_list[0][1]"
   ]
  },
  {
   "cell_type": "code",
   "execution_count": 28,
   "id": "a3338fd1",
   "metadata": {},
   "outputs": [],
   "source": [
    "df_RV_ts=pd.read_parquet(\"../processed_data/book_RV_ts_60_si.parquet\")"
   ]
  },
  {
   "cell_type": "code",
   "execution_count": 29,
   "id": "62e2f34e",
   "metadata": {},
   "outputs": [],
   "source": [
    "from sklearn.preprocessing import StandardScaler"
   ]
  },
  {
   "cell_type": "code",
   "execution_count": 30,
   "id": "3b9cf070",
   "metadata": {},
   "outputs": [],
   "source": [
    "scalar=StandardScaler()"
   ]
  },
  {
   "cell_type": "code",
   "execution_count": 31,
   "id": "8e42729d",
   "metadata": {},
   "outputs": [],
   "source": [
    "df_RV_ts[\"sub_int_RV_norm\"]=scalar.fit_transform(df_RV_ts[[\"sub_int_RV\"]])"
   ]
  },
  {
   "cell_type": "code",
   "execution_count": 32,
   "id": "995d9083",
   "metadata": {},
   "outputs": [
    {
     "data": {
      "text/html": [
       "<div>\n",
       "<style scoped>\n",
       "    .dataframe tbody tr th:only-of-type {\n",
       "        vertical-align: middle;\n",
       "    }\n",
       "\n",
       "    .dataframe tbody tr th {\n",
       "        vertical-align: top;\n",
       "    }\n",
       "\n",
       "    .dataframe thead th {\n",
       "        text-align: right;\n",
       "    }\n",
       "</style>\n",
       "<table border=\"1\" class=\"dataframe\">\n",
       "  <thead>\n",
       "    <tr style=\"text-align: right;\">\n",
       "      <th></th>\n",
       "      <th>time_id</th>\n",
       "      <th>sub_int_RV</th>\n",
       "      <th>sub_int_num</th>\n",
       "      <th>stock_id</th>\n",
       "      <th>row_id</th>\n",
       "      <th>sub_int_RV_norm</th>\n",
       "    </tr>\n",
       "  </thead>\n",
       "  <tbody>\n",
       "    <tr>\n",
       "      <th>0</th>\n",
       "      <td>5</td>\n",
       "      <td>0.000329</td>\n",
       "      <td>1</td>\n",
       "      <td>93</td>\n",
       "      <td>93-5</td>\n",
       "      <td>-0.208285</td>\n",
       "    </tr>\n",
       "    <tr>\n",
       "      <th>1</th>\n",
       "      <td>11</td>\n",
       "      <td>0.000191</td>\n",
       "      <td>1</td>\n",
       "      <td>93</td>\n",
       "      <td>93-11</td>\n",
       "      <td>-0.453866</td>\n",
       "    </tr>\n",
       "    <tr>\n",
       "      <th>2</th>\n",
       "      <td>16</td>\n",
       "      <td>0.000126</td>\n",
       "      <td>1</td>\n",
       "      <td>93</td>\n",
       "      <td>93-16</td>\n",
       "      <td>-0.569259</td>\n",
       "    </tr>\n",
       "    <tr>\n",
       "      <th>3</th>\n",
       "      <td>31</td>\n",
       "      <td>0.000205</td>\n",
       "      <td>1</td>\n",
       "      <td>93</td>\n",
       "      <td>93-31</td>\n",
       "      <td>-0.428690</td>\n",
       "    </tr>\n",
       "    <tr>\n",
       "      <th>4</th>\n",
       "      <td>62</td>\n",
       "      <td>0.000142</td>\n",
       "      <td>1</td>\n",
       "      <td>93</td>\n",
       "      <td>93-62</td>\n",
       "      <td>-0.540259</td>\n",
       "    </tr>\n",
       "    <tr>\n",
       "      <th>...</th>\n",
       "      <td>...</td>\n",
       "      <td>...</td>\n",
       "      <td>...</td>\n",
       "      <td>...</td>\n",
       "      <td>...</td>\n",
       "      <td>...</td>\n",
       "    </tr>\n",
       "    <tr>\n",
       "      <th>25735915</th>\n",
       "      <td>32686</td>\n",
       "      <td>0.000000</td>\n",
       "      <td>60</td>\n",
       "      <td>104</td>\n",
       "      <td>104-32686</td>\n",
       "      <td>-0.793956</td>\n",
       "    </tr>\n",
       "    <tr>\n",
       "      <th>25735916</th>\n",
       "      <td>32690</td>\n",
       "      <td>0.000000</td>\n",
       "      <td>60</td>\n",
       "      <td>104</td>\n",
       "      <td>104-32690</td>\n",
       "      <td>-0.793956</td>\n",
       "    </tr>\n",
       "    <tr>\n",
       "      <th>25735917</th>\n",
       "      <td>32712</td>\n",
       "      <td>0.000000</td>\n",
       "      <td>60</td>\n",
       "      <td>104</td>\n",
       "      <td>104-32712</td>\n",
       "      <td>-0.793956</td>\n",
       "    </tr>\n",
       "    <tr>\n",
       "      <th>25735918</th>\n",
       "      <td>32746</td>\n",
       "      <td>0.000000</td>\n",
       "      <td>60</td>\n",
       "      <td>104</td>\n",
       "      <td>104-32746</td>\n",
       "      <td>-0.793956</td>\n",
       "    </tr>\n",
       "    <tr>\n",
       "      <th>25735919</th>\n",
       "      <td>32758</td>\n",
       "      <td>0.000000</td>\n",
       "      <td>60</td>\n",
       "      <td>104</td>\n",
       "      <td>104-32758</td>\n",
       "      <td>-0.793956</td>\n",
       "    </tr>\n",
       "  </tbody>\n",
       "</table>\n",
       "<p>25735920 rows × 6 columns</p>\n",
       "</div>"
      ],
      "text/plain": [
       "          time_id  sub_int_RV  sub_int_num  stock_id     row_id  \\\n",
       "0               5    0.000329            1        93       93-5   \n",
       "1              11    0.000191            1        93      93-11   \n",
       "2              16    0.000126            1        93      93-16   \n",
       "3              31    0.000205            1        93      93-31   \n",
       "4              62    0.000142            1        93      93-62   \n",
       "...           ...         ...          ...       ...        ...   \n",
       "25735915    32686    0.000000           60       104  104-32686   \n",
       "25735916    32690    0.000000           60       104  104-32690   \n",
       "25735917    32712    0.000000           60       104  104-32712   \n",
       "25735918    32746    0.000000           60       104  104-32746   \n",
       "25735919    32758    0.000000           60       104  104-32758   \n",
       "\n",
       "          sub_int_RV_norm  \n",
       "0               -0.208285  \n",
       "1               -0.453866  \n",
       "2               -0.569259  \n",
       "3               -0.428690  \n",
       "4               -0.540259  \n",
       "...                   ...  \n",
       "25735915        -0.793956  \n",
       "25735916        -0.793956  \n",
       "25735917        -0.793956  \n",
       "25735918        -0.793956  \n",
       "25735919        -0.793956  \n",
       "\n",
       "[25735920 rows x 6 columns]"
      ]
     },
     "execution_count": 32,
     "metadata": {},
     "output_type": "execute_result"
    }
   ],
   "source": [
    "df_RV_ts"
   ]
  },
  {
   "cell_type": "code",
   "execution_count": 33,
   "id": "de450e0c",
   "metadata": {},
   "outputs": [
    {
     "data": {
      "text/html": [
       "<div>\n",
       "<style scoped>\n",
       "    .dataframe tbody tr th:only-of-type {\n",
       "        vertical-align: middle;\n",
       "    }\n",
       "\n",
       "    .dataframe tbody tr th {\n",
       "        vertical-align: top;\n",
       "    }\n",
       "\n",
       "    .dataframe thead tr th {\n",
       "        text-align: left;\n",
       "    }\n",
       "\n",
       "    .dataframe thead tr:last-of-type th {\n",
       "        text-align: right;\n",
       "    }\n",
       "</style>\n",
       "<table border=\"1\" class=\"dataframe\">\n",
       "  <thead>\n",
       "    <tr>\n",
       "      <th></th>\n",
       "      <th colspan=\"21\" halign=\"left\">sub_int_RV</th>\n",
       "    </tr>\n",
       "    <tr>\n",
       "      <th>sub_int_num</th>\n",
       "      <th>1</th>\n",
       "      <th>2</th>\n",
       "      <th>3</th>\n",
       "      <th>4</th>\n",
       "      <th>5</th>\n",
       "      <th>6</th>\n",
       "      <th>7</th>\n",
       "      <th>8</th>\n",
       "      <th>9</th>\n",
       "      <th>10</th>\n",
       "      <th>...</th>\n",
       "      <th>51</th>\n",
       "      <th>52</th>\n",
       "      <th>53</th>\n",
       "      <th>54</th>\n",
       "      <th>55</th>\n",
       "      <th>56</th>\n",
       "      <th>57</th>\n",
       "      <th>58</th>\n",
       "      <th>59</th>\n",
       "      <th>60</th>\n",
       "    </tr>\n",
       "    <tr>\n",
       "      <th>row_id</th>\n",
       "      <th></th>\n",
       "      <th></th>\n",
       "      <th></th>\n",
       "      <th></th>\n",
       "      <th></th>\n",
       "      <th></th>\n",
       "      <th></th>\n",
       "      <th></th>\n",
       "      <th></th>\n",
       "      <th></th>\n",
       "      <th></th>\n",
       "      <th></th>\n",
       "      <th></th>\n",
       "      <th></th>\n",
       "      <th></th>\n",
       "      <th></th>\n",
       "      <th></th>\n",
       "      <th></th>\n",
       "      <th></th>\n",
       "      <th></th>\n",
       "      <th></th>\n",
       "    </tr>\n",
       "  </thead>\n",
       "  <tbody>\n",
       "    <tr>\n",
       "      <th>0-1000</th>\n",
       "      <td>0.000341</td>\n",
       "      <td>0.000000</td>\n",
       "      <td>0.000023</td>\n",
       "      <td>0.000000</td>\n",
       "      <td>0.000170</td>\n",
       "      <td>3.818799e-07</td>\n",
       "      <td>0.000089</td>\n",
       "      <td>0.000552</td>\n",
       "      <td>0.000012</td>\n",
       "      <td>0.000000</td>\n",
       "      <td>...</td>\n",
       "      <td>0.000265</td>\n",
       "      <td>0.000000</td>\n",
       "      <td>0.000214</td>\n",
       "      <td>0.000003</td>\n",
       "      <td>0.000000</td>\n",
       "      <td>0.000118</td>\n",
       "      <td>2.313288e-04</td>\n",
       "      <td>1.060893e-05</td>\n",
       "      <td>0.000111</td>\n",
       "      <td>0.000288</td>\n",
       "    </tr>\n",
       "    <tr>\n",
       "      <th>0-10000</th>\n",
       "      <td>0.000290</td>\n",
       "      <td>0.000191</td>\n",
       "      <td>0.000087</td>\n",
       "      <td>0.000193</td>\n",
       "      <td>0.000241</td>\n",
       "      <td>3.154886e-04</td>\n",
       "      <td>0.000000</td>\n",
       "      <td>0.000247</td>\n",
       "      <td>0.000265</td>\n",
       "      <td>0.000000</td>\n",
       "      <td>...</td>\n",
       "      <td>0.000202</td>\n",
       "      <td>0.000375</td>\n",
       "      <td>0.000616</td>\n",
       "      <td>0.000564</td>\n",
       "      <td>0.000000</td>\n",
       "      <td>0.000023</td>\n",
       "      <td>3.777703e-08</td>\n",
       "      <td>3.777703e-08</td>\n",
       "      <td>0.000020</td>\n",
       "      <td>0.000310</td>\n",
       "    </tr>\n",
       "    <tr>\n",
       "      <th>0-10005</th>\n",
       "      <td>0.000000</td>\n",
       "      <td>0.000000</td>\n",
       "      <td>0.001554</td>\n",
       "      <td>0.002177</td>\n",
       "      <td>0.002303</td>\n",
       "      <td>4.375100e-04</td>\n",
       "      <td>0.000617</td>\n",
       "      <td>0.001199</td>\n",
       "      <td>0.002306</td>\n",
       "      <td>0.001215</td>\n",
       "      <td>...</td>\n",
       "      <td>0.000000</td>\n",
       "      <td>0.000486</td>\n",
       "      <td>0.000050</td>\n",
       "      <td>0.001761</td>\n",
       "      <td>0.001617</td>\n",
       "      <td>0.001801</td>\n",
       "      <td>2.552987e-03</td>\n",
       "      <td>5.364106e-04</td>\n",
       "      <td>0.000872</td>\n",
       "      <td>0.000000</td>\n",
       "    </tr>\n",
       "    <tr>\n",
       "      <th>0-10017</th>\n",
       "      <td>0.000142</td>\n",
       "      <td>0.000142</td>\n",
       "      <td>0.001464</td>\n",
       "      <td>0.001086</td>\n",
       "      <td>0.000068</td>\n",
       "      <td>6.771948e-05</td>\n",
       "      <td>0.000899</td>\n",
       "      <td>0.000064</td>\n",
       "      <td>0.000593</td>\n",
       "      <td>0.000451</td>\n",
       "      <td>...</td>\n",
       "      <td>0.000029</td>\n",
       "      <td>0.000000</td>\n",
       "      <td>0.001293</td>\n",
       "      <td>0.002092</td>\n",
       "      <td>0.000994</td>\n",
       "      <td>0.000848</td>\n",
       "      <td>3.104404e-03</td>\n",
       "      <td>1.224910e-03</td>\n",
       "      <td>0.001316</td>\n",
       "      <td>0.003287</td>\n",
       "    </tr>\n",
       "    <tr>\n",
       "      <th>0-10030</th>\n",
       "      <td>0.000327</td>\n",
       "      <td>0.000058</td>\n",
       "      <td>0.000293</td>\n",
       "      <td>0.000842</td>\n",
       "      <td>0.000120</td>\n",
       "      <td>2.586782e-04</td>\n",
       "      <td>0.000221</td>\n",
       "      <td>0.000436</td>\n",
       "      <td>0.000099</td>\n",
       "      <td>0.000008</td>\n",
       "      <td>...</td>\n",
       "      <td>0.000410</td>\n",
       "      <td>0.000437</td>\n",
       "      <td>0.000004</td>\n",
       "      <td>0.000215</td>\n",
       "      <td>0.000457</td>\n",
       "      <td>0.000183</td>\n",
       "      <td>4.842470e-04</td>\n",
       "      <td>0.000000e+00</td>\n",
       "      <td>0.000756</td>\n",
       "      <td>0.000005</td>\n",
       "    </tr>\n",
       "    <tr>\n",
       "      <th>...</th>\n",
       "      <td>...</td>\n",
       "      <td>...</td>\n",
       "      <td>...</td>\n",
       "      <td>...</td>\n",
       "      <td>...</td>\n",
       "      <td>...</td>\n",
       "      <td>...</td>\n",
       "      <td>...</td>\n",
       "      <td>...</td>\n",
       "      <td>...</td>\n",
       "      <td>...</td>\n",
       "      <td>...</td>\n",
       "      <td>...</td>\n",
       "      <td>...</td>\n",
       "      <td>...</td>\n",
       "      <td>...</td>\n",
       "      <td>...</td>\n",
       "      <td>...</td>\n",
       "      <td>...</td>\n",
       "      <td>...</td>\n",
       "      <td>...</td>\n",
       "    </tr>\n",
       "    <tr>\n",
       "      <th>99-9972</th>\n",
       "      <td>0.000197</td>\n",
       "      <td>0.000181</td>\n",
       "      <td>0.000171</td>\n",
       "      <td>0.000172</td>\n",
       "      <td>0.000369</td>\n",
       "      <td>2.503467e-04</td>\n",
       "      <td>0.000349</td>\n",
       "      <td>0.000356</td>\n",
       "      <td>0.000390</td>\n",
       "      <td>0.000050</td>\n",
       "      <td>...</td>\n",
       "      <td>0.000075</td>\n",
       "      <td>0.000185</td>\n",
       "      <td>0.000314</td>\n",
       "      <td>0.000318</td>\n",
       "      <td>0.000115</td>\n",
       "      <td>0.000143</td>\n",
       "      <td>9.916624e-05</td>\n",
       "      <td>1.809852e-04</td>\n",
       "      <td>0.000334</td>\n",
       "      <td>0.000089</td>\n",
       "    </tr>\n",
       "    <tr>\n",
       "      <th>99-9973</th>\n",
       "      <td>0.000821</td>\n",
       "      <td>0.000346</td>\n",
       "      <td>0.000691</td>\n",
       "      <td>0.001591</td>\n",
       "      <td>0.000863</td>\n",
       "      <td>9.650211e-04</td>\n",
       "      <td>0.000504</td>\n",
       "      <td>0.001925</td>\n",
       "      <td>0.000641</td>\n",
       "      <td>0.000382</td>\n",
       "      <td>...</td>\n",
       "      <td>0.001081</td>\n",
       "      <td>0.001095</td>\n",
       "      <td>0.000425</td>\n",
       "      <td>0.000789</td>\n",
       "      <td>0.001295</td>\n",
       "      <td>0.000596</td>\n",
       "      <td>1.862600e-03</td>\n",
       "      <td>7.668418e-04</td>\n",
       "      <td>0.001035</td>\n",
       "      <td>0.002115</td>\n",
       "    </tr>\n",
       "    <tr>\n",
       "      <th>99-9976</th>\n",
       "      <td>0.000569</td>\n",
       "      <td>0.001101</td>\n",
       "      <td>0.001002</td>\n",
       "      <td>0.000430</td>\n",
       "      <td>0.000797</td>\n",
       "      <td>7.203531e-04</td>\n",
       "      <td>0.000586</td>\n",
       "      <td>0.000538</td>\n",
       "      <td>0.000570</td>\n",
       "      <td>0.000781</td>\n",
       "      <td>...</td>\n",
       "      <td>0.000508</td>\n",
       "      <td>0.000406</td>\n",
       "      <td>0.000662</td>\n",
       "      <td>0.000338</td>\n",
       "      <td>0.000710</td>\n",
       "      <td>0.000179</td>\n",
       "      <td>5.946683e-04</td>\n",
       "      <td>1.509652e-04</td>\n",
       "      <td>0.000388</td>\n",
       "      <td>0.000403</td>\n",
       "    </tr>\n",
       "    <tr>\n",
       "      <th>99-9988</th>\n",
       "      <td>0.000040</td>\n",
       "      <td>0.000069</td>\n",
       "      <td>0.000123</td>\n",
       "      <td>0.000056</td>\n",
       "      <td>0.000016</td>\n",
       "      <td>1.957402e-04</td>\n",
       "      <td>0.000071</td>\n",
       "      <td>0.000095</td>\n",
       "      <td>0.000063</td>\n",
       "      <td>0.000030</td>\n",
       "      <td>...</td>\n",
       "      <td>0.000034</td>\n",
       "      <td>0.000176</td>\n",
       "      <td>0.000140</td>\n",
       "      <td>0.000129</td>\n",
       "      <td>0.000175</td>\n",
       "      <td>0.000019</td>\n",
       "      <td>1.440137e-04</td>\n",
       "      <td>3.200939e-05</td>\n",
       "      <td>0.000041</td>\n",
       "      <td>0.000007</td>\n",
       "    </tr>\n",
       "    <tr>\n",
       "      <th>99-9993</th>\n",
       "      <td>0.000249</td>\n",
       "      <td>0.000179</td>\n",
       "      <td>0.000155</td>\n",
       "      <td>0.000025</td>\n",
       "      <td>0.000325</td>\n",
       "      <td>1.798617e-04</td>\n",
       "      <td>0.000080</td>\n",
       "      <td>0.000125</td>\n",
       "      <td>0.000126</td>\n",
       "      <td>0.000205</td>\n",
       "      <td>...</td>\n",
       "      <td>0.000099</td>\n",
       "      <td>0.000370</td>\n",
       "      <td>0.000929</td>\n",
       "      <td>0.000328</td>\n",
       "      <td>0.000251</td>\n",
       "      <td>0.000204</td>\n",
       "      <td>2.728767e-04</td>\n",
       "      <td>2.108380e-04</td>\n",
       "      <td>0.000126</td>\n",
       "      <td>0.000353</td>\n",
       "    </tr>\n",
       "  </tbody>\n",
       "</table>\n",
       "<p>428932 rows × 60 columns</p>\n",
       "</div>"
      ],
      "text/plain": [
       "            sub_int_RV                                                        \\\n",
       "sub_int_num         1         2         3         4         5             6    \n",
       "row_id                                                                         \n",
       "0-1000        0.000341  0.000000  0.000023  0.000000  0.000170  3.818799e-07   \n",
       "0-10000       0.000290  0.000191  0.000087  0.000193  0.000241  3.154886e-04   \n",
       "0-10005       0.000000  0.000000  0.001554  0.002177  0.002303  4.375100e-04   \n",
       "0-10017       0.000142  0.000142  0.001464  0.001086  0.000068  6.771948e-05   \n",
       "0-10030       0.000327  0.000058  0.000293  0.000842  0.000120  2.586782e-04   \n",
       "...                ...       ...       ...       ...       ...           ...   \n",
       "99-9972       0.000197  0.000181  0.000171  0.000172  0.000369  2.503467e-04   \n",
       "99-9973       0.000821  0.000346  0.000691  0.001591  0.000863  9.650211e-04   \n",
       "99-9976       0.000569  0.001101  0.001002  0.000430  0.000797  7.203531e-04   \n",
       "99-9988       0.000040  0.000069  0.000123  0.000056  0.000016  1.957402e-04   \n",
       "99-9993       0.000249  0.000179  0.000155  0.000025  0.000325  1.798617e-04   \n",
       "\n",
       "                                                     ...                      \\\n",
       "sub_int_num        7         8         9         10  ...        51        52   \n",
       "row_id                                               ...                       \n",
       "0-1000       0.000089  0.000552  0.000012  0.000000  ...  0.000265  0.000000   \n",
       "0-10000      0.000000  0.000247  0.000265  0.000000  ...  0.000202  0.000375   \n",
       "0-10005      0.000617  0.001199  0.002306  0.001215  ...  0.000000  0.000486   \n",
       "0-10017      0.000899  0.000064  0.000593  0.000451  ...  0.000029  0.000000   \n",
       "0-10030      0.000221  0.000436  0.000099  0.000008  ...  0.000410  0.000437   \n",
       "...               ...       ...       ...       ...  ...       ...       ...   \n",
       "99-9972      0.000349  0.000356  0.000390  0.000050  ...  0.000075  0.000185   \n",
       "99-9973      0.000504  0.001925  0.000641  0.000382  ...  0.001081  0.001095   \n",
       "99-9976      0.000586  0.000538  0.000570  0.000781  ...  0.000508  0.000406   \n",
       "99-9988      0.000071  0.000095  0.000063  0.000030  ...  0.000034  0.000176   \n",
       "99-9993      0.000080  0.000125  0.000126  0.000205  ...  0.000099  0.000370   \n",
       "\n",
       "                                                                   \\\n",
       "sub_int_num        53        54        55        56            57   \n",
       "row_id                                                              \n",
       "0-1000       0.000214  0.000003  0.000000  0.000118  2.313288e-04   \n",
       "0-10000      0.000616  0.000564  0.000000  0.000023  3.777703e-08   \n",
       "0-10005      0.000050  0.001761  0.001617  0.001801  2.552987e-03   \n",
       "0-10017      0.001293  0.002092  0.000994  0.000848  3.104404e-03   \n",
       "0-10030      0.000004  0.000215  0.000457  0.000183  4.842470e-04   \n",
       "...               ...       ...       ...       ...           ...   \n",
       "99-9972      0.000314  0.000318  0.000115  0.000143  9.916624e-05   \n",
       "99-9973      0.000425  0.000789  0.001295  0.000596  1.862600e-03   \n",
       "99-9976      0.000662  0.000338  0.000710  0.000179  5.946683e-04   \n",
       "99-9988      0.000140  0.000129  0.000175  0.000019  1.440137e-04   \n",
       "99-9993      0.000929  0.000328  0.000251  0.000204  2.728767e-04   \n",
       "\n",
       "                                               \n",
       "sub_int_num            58        59        60  \n",
       "row_id                                         \n",
       "0-1000       1.060893e-05  0.000111  0.000288  \n",
       "0-10000      3.777703e-08  0.000020  0.000310  \n",
       "0-10005      5.364106e-04  0.000872  0.000000  \n",
       "0-10017      1.224910e-03  0.001316  0.003287  \n",
       "0-10030      0.000000e+00  0.000756  0.000005  \n",
       "...                   ...       ...       ...  \n",
       "99-9972      1.809852e-04  0.000334  0.000089  \n",
       "99-9973      7.668418e-04  0.001035  0.002115  \n",
       "99-9976      1.509652e-04  0.000388  0.000403  \n",
       "99-9988      3.200939e-05  0.000041  0.000007  \n",
       "99-9993      2.108380e-04  0.000126  0.000353  \n",
       "\n",
       "[428932 rows x 60 columns]"
      ]
     },
     "execution_count": 33,
     "metadata": {},
     "output_type": "execute_result"
    }
   ],
   "source": [
    "df_RV_ts.pivot(index=\"row_id\",columns=[\"sub_int_num\"],values=[\"sub_int_RV\"])"
   ]
  },
  {
   "cell_type": "code",
   "execution_count": 34,
   "id": "677c1b20",
   "metadata": {},
   "outputs": [],
   "source": [
    "df_target=pd.read_csv(\"../raw_data/kaggle_ORVP/train.csv\")"
   ]
  },
  {
   "cell_type": "code",
   "execution_count": 35,
   "id": "252d6274",
   "metadata": {},
   "outputs": [],
   "source": [
    "df_target[\"row_id\"]=df_target[\"stock_id\"].astype(int).astype(str)+\"-\"+df_target[\"time_id\"].astype(int).astype(str)"
   ]
  },
  {
   "cell_type": "code",
   "execution_count": 36,
   "id": "fdb28caf",
   "metadata": {},
   "outputs": [
    {
     "data": {
      "text/html": [
       "<div>\n",
       "<style scoped>\n",
       "    .dataframe tbody tr th:only-of-type {\n",
       "        vertical-align: middle;\n",
       "    }\n",
       "\n",
       "    .dataframe tbody tr th {\n",
       "        vertical-align: top;\n",
       "    }\n",
       "\n",
       "    .dataframe thead th {\n",
       "        text-align: right;\n",
       "    }\n",
       "</style>\n",
       "<table border=\"1\" class=\"dataframe\">\n",
       "  <thead>\n",
       "    <tr style=\"text-align: right;\">\n",
       "      <th></th>\n",
       "      <th>stock_id</th>\n",
       "      <th>time_id</th>\n",
       "      <th>target</th>\n",
       "      <th>row_id</th>\n",
       "    </tr>\n",
       "  </thead>\n",
       "  <tbody>\n",
       "    <tr>\n",
       "      <th>0</th>\n",
       "      <td>0</td>\n",
       "      <td>5</td>\n",
       "      <td>0.004136</td>\n",
       "      <td>0-5</td>\n",
       "    </tr>\n",
       "    <tr>\n",
       "      <th>1</th>\n",
       "      <td>0</td>\n",
       "      <td>11</td>\n",
       "      <td>0.001445</td>\n",
       "      <td>0-11</td>\n",
       "    </tr>\n",
       "    <tr>\n",
       "      <th>2</th>\n",
       "      <td>0</td>\n",
       "      <td>16</td>\n",
       "      <td>0.002168</td>\n",
       "      <td>0-16</td>\n",
       "    </tr>\n",
       "    <tr>\n",
       "      <th>3</th>\n",
       "      <td>0</td>\n",
       "      <td>31</td>\n",
       "      <td>0.002195</td>\n",
       "      <td>0-31</td>\n",
       "    </tr>\n",
       "    <tr>\n",
       "      <th>4</th>\n",
       "      <td>0</td>\n",
       "      <td>62</td>\n",
       "      <td>0.001747</td>\n",
       "      <td>0-62</td>\n",
       "    </tr>\n",
       "    <tr>\n",
       "      <th>...</th>\n",
       "      <td>...</td>\n",
       "      <td>...</td>\n",
       "      <td>...</td>\n",
       "      <td>...</td>\n",
       "    </tr>\n",
       "    <tr>\n",
       "      <th>428927</th>\n",
       "      <td>126</td>\n",
       "      <td>32751</td>\n",
       "      <td>0.003461</td>\n",
       "      <td>126-32751</td>\n",
       "    </tr>\n",
       "    <tr>\n",
       "      <th>428928</th>\n",
       "      <td>126</td>\n",
       "      <td>32753</td>\n",
       "      <td>0.003113</td>\n",
       "      <td>126-32753</td>\n",
       "    </tr>\n",
       "    <tr>\n",
       "      <th>428929</th>\n",
       "      <td>126</td>\n",
       "      <td>32758</td>\n",
       "      <td>0.004070</td>\n",
       "      <td>126-32758</td>\n",
       "    </tr>\n",
       "    <tr>\n",
       "      <th>428930</th>\n",
       "      <td>126</td>\n",
       "      <td>32763</td>\n",
       "      <td>0.003357</td>\n",
       "      <td>126-32763</td>\n",
       "    </tr>\n",
       "    <tr>\n",
       "      <th>428931</th>\n",
       "      <td>126</td>\n",
       "      <td>32767</td>\n",
       "      <td>0.002090</td>\n",
       "      <td>126-32767</td>\n",
       "    </tr>\n",
       "  </tbody>\n",
       "</table>\n",
       "<p>428932 rows × 4 columns</p>\n",
       "</div>"
      ],
      "text/plain": [
       "        stock_id  time_id    target     row_id\n",
       "0              0        5  0.004136        0-5\n",
       "1              0       11  0.001445       0-11\n",
       "2              0       16  0.002168       0-16\n",
       "3              0       31  0.002195       0-31\n",
       "4              0       62  0.001747       0-62\n",
       "...          ...      ...       ...        ...\n",
       "428927       126    32751  0.003461  126-32751\n",
       "428928       126    32753  0.003113  126-32753\n",
       "428929       126    32758  0.004070  126-32758\n",
       "428930       126    32763  0.003357  126-32763\n",
       "428931       126    32767  0.002090  126-32767\n",
       "\n",
       "[428932 rows x 4 columns]"
      ]
     },
     "execution_count": 36,
     "metadata": {},
     "output_type": "execute_result"
    }
   ],
   "source": [
    "df_target"
   ]
  },
  {
   "cell_type": "code",
   "execution_count": 37,
   "id": "2b2a07cb",
   "metadata": {},
   "outputs": [
    {
     "name": "stderr",
     "output_type": "stream",
     "text": [
      "/home/machine2/Desktop/Realized_Volatility_Prediction_-erdos_deeplearning-/NNetwork/../proj_mod/training.py:301: SettingWithCopyWarning: \n",
      "A value is trying to be set on a copy of a slice from a DataFrame.\n",
      "Try using .loc[row_indexer,col_indexer] = value instead\n",
      "\n",
      "See the caveats in the documentation: https://pandas.pydata.org/pandas-docs/stable/user_guide/indexing.html#returning-a-view-versus-a-copy\n",
      "  df_tab_copy.loc[:,\"sub_int_num\"]=np.nan\n",
      "/home/machine2/Desktop/Realized_Volatility_Prediction_-erdos_deeplearning-/NNetwork/../proj_mod/training.py:301: SettingWithCopyWarning: \n",
      "A value is trying to be set on a copy of a slice from a DataFrame.\n",
      "Try using .loc[row_indexer,col_indexer] = value instead\n",
      "\n",
      "See the caveats in the documentation: https://pandas.pydata.org/pandas-docs/stable/user_guide/indexing.html#returning-a-view-versus-a-copy\n",
      "  df_tab_copy.loc[:,\"sub_int_num\"]=np.nan\n"
     ]
    }
   ],
   "source": [
    "train_dataset=training.RVdataset(time_id_list=train_time_id,ts_features=[\"sub_int_RV\"],df_ts_feat=df_RV_ts,df_target=df_target)\n",
    "test_dataset=training.RVdataset(time_id_list=test_time_id,ts_features=[\"sub_int_RV\"],df_ts_feat=df_RV_ts,df_target=df_target)"
   ]
  },
  {
   "cell_type": "code",
   "execution_count": 38,
   "id": "b7c432cf",
   "metadata": {},
   "outputs": [
    {
     "data": {
      "text/plain": [
       "torch.Size([386036, 60])"
      ]
     },
     "execution_count": 38,
     "metadata": {},
     "output_type": "execute_result"
    }
   ],
   "source": [
    "train_dataset.features.shape"
   ]
  },
  {
   "cell_type": "code",
   "execution_count": 39,
   "id": "07885f81",
   "metadata": {},
   "outputs": [
    {
     "data": {
      "text/plain": [
       "torch.Size([386036, 1])"
      ]
     },
     "execution_count": 39,
     "metadata": {},
     "output_type": "execute_result"
    }
   ],
   "source": [
    "train_dataset.target.shape"
   ]
  },
  {
   "cell_type": "markdown",
   "id": "f0056627",
   "metadata": {},
   "source": [
    "Not entirely sure what the error code is about, I am literally doing exactly as suggested by the warning. https://stackoverflow.com/questions/23688307/settingwithcopywarning-even-when-using-loc says this is a false positive. "
   ]
  },
  {
   "cell_type": "markdown",
   "id": "596532d4-3c50-4a8e-bbda-8448b8f02b4d",
   "metadata": {},
   "source": [
    "## Experiment: RNN (with some fine tuning) and LSTM"
   ]
  },
  {
   "cell_type": "markdown",
   "id": "62a44c92-9ff1-4909-808f-0a05b6aa2a14",
   "metadata": {},
   "source": [
    "RNN"
   ]
  },
  {
   "cell_type": "code",
   "execution_count": 81,
   "id": "2721fdfa-a2d2-4461-8a99-0fe183fcbfc3",
   "metadata": {},
   "outputs": [
    {
     "name": "stdout",
     "output_type": "stream",
     "text": [
      "In fold 0 :\n",
      "\n",
      "Train set end at 8117 .\n",
      "\n",
      "Test set start at 15516 end at 10890 .\n",
      "\n"
     ]
    },
    {
     "name": "stderr",
     "output_type": "stream",
     "text": [
      "/home/machine2/Desktop/Realized_Volatility_Prediction_-erdos_deeplearning-/NNetwork/../proj_mod/training.py:301: SettingWithCopyWarning: \n",
      "A value is trying to be set on a copy of a slice from a DataFrame.\n",
      "Try using .loc[row_indexer,col_indexer] = value instead\n",
      "\n",
      "See the caveats in the documentation: https://pandas.pydata.org/pandas-docs/stable/user_guide/indexing.html#returning-a-view-versus-a-copy\n",
      "  df_tab_copy.loc[:,\"sub_int_num\"]=np.nan\n",
      "/home/machine2/Desktop/Realized_Volatility_Prediction_-erdos_deeplearning-/NNetwork/../proj_mod/training.py:301: SettingWithCopyWarning: \n",
      "A value is trying to be set on a copy of a slice from a DataFrame.\n",
      "Try using .loc[row_indexer,col_indexer] = value instead\n",
      "\n",
      "See the caveats in the documentation: https://pandas.pydata.org/pandas-docs/stable/user_guide/indexing.html#returning-a-view-versus-a-copy\n",
      "  df_tab_copy.loc[:,\"sub_int_num\"]=np.nan\n"
     ]
    }
   ],
   "source": [
    "time_split_list=data_processing.time_cross_val_split(list_time=list_time,n_split=1,percent_val_size=10,list_output=True)\n",
    "train_time_id,test_time_id=time_split_list[0][0],time_split_list[0][1]\n",
    "\n",
    "train_dataset=training.RVdataset(time_id_list=train_time_id,ts_features=[\"sub_int_RV\"],df_ts_feat=df_RV_ts,df_target=df_target)\n",
    "test_dataset=training.RVdataset(time_id_list=test_time_id,ts_features=[\"sub_int_RV\"],df_ts_feat=df_RV_ts,df_target=df_target)"
   ]
  },
  {
   "cell_type": "code",
   "execution_count": 157,
   "id": "00de91c2-12af-4f4b-953c-8fa907c945c9",
   "metadata": {
    "scrolled": true
   },
   "outputs": [
    {
     "name": "stdout",
     "output_type": "stream",
     "text": [
      "At  1.1259548664093018  epoch  1 has training loss  tensor(0.2896, device='cuda:0')  and validation loss  tensor(0.2389, device='cuda:0') .\n",
      "\n",
      "At  5.657813310623169  epoch  5 has training loss  tensor(0.2545, device='cuda:0')  and validation loss  tensor(0.2361, device='cuda:0') .\n",
      "\n",
      "At  11.313392400741577  epoch  10 has training loss  tensor(0.2538, device='cuda:0')  and validation loss  tensor(0.2427, device='cuda:0') .\n",
      "\n",
      "At  16.896981716156006  epoch  15 has training loss  tensor(0.2530, device='cuda:0')  and validation loss  tensor(0.2357, device='cuda:0') .\n",
      "\n",
      "At  22.79364776611328  epoch  20 has training loss  tensor(0.2530, device='cuda:0')  and validation loss  tensor(0.2363, device='cuda:0') .\n",
      "\n",
      "The validation loss has not improved for  10  epochs. Stopping current training loop.\n",
      "\n",
      "Best model state dictionary of this training loop is reloaded.\n",
      "\n",
      "According to validation loss, the best model is reached at epoch 11  with validation loss:  tensor(0.2350, device='cuda:0') .\n",
      " The total number of epoch trained is  21 .\n",
      " Training completed in:  24.1021409034729 .\n",
      "\n"
     ]
    },
    {
     "data": {
      "text/plain": [
       "OrderedDict([('frozen_conv.frozen_conv.weight',\n",
       "              tensor([[[-1.,  1.]]], device='cuda:0')),\n",
       "             ('linear_proj_input.weight',\n",
       "              tensor([[-0.0524,  0.1166,  0.3613],\n",
       "                      [ 0.4102, -0.2438, -0.3042],\n",
       "                      [ 0.1017, -0.3535,  0.2945],\n",
       "                      [-0.3145, -0.3647,  0.0260],\n",
       "                      [-0.0218, -0.4941, -0.3822],\n",
       "                      [ 0.2193, -0.3291, -0.1590],\n",
       "                      [-0.4361,  0.0441,  0.4776],\n",
       "                      [ 0.0271,  0.1691, -0.2051],\n",
       "                      [-0.2331, -0.4190, -0.2371],\n",
       "                      [ 0.1960, -0.1463,  0.2876],\n",
       "                      [ 0.5642, -0.0635, -0.1513],\n",
       "                      [ 0.3667, -0.1713, -0.3825],\n",
       "                      [ 0.0795,  0.2197,  0.1175],\n",
       "                      [-0.4910, -0.5349, -0.0316],\n",
       "                      [ 0.0243, -0.0835,  0.3983],\n",
       "                      [-0.1049,  0.2092,  0.1669],\n",
       "                      [ 0.0683, -0.2225, -0.0558],\n",
       "                      [ 0.0268,  0.4545, -0.1466],\n",
       "                      [ 0.0548,  0.6002, -0.4397],\n",
       "                      [ 0.0124,  0.4542, -0.1003],\n",
       "                      [ 0.3318, -0.1818, -0.0419],\n",
       "                      [ 0.0542,  0.3127,  0.2811],\n",
       "                      [ 0.0597,  0.4335,  0.4108],\n",
       "                      [ 0.1343,  0.2494, -0.0172],\n",
       "                      [ 0.3500,  0.4864,  0.3270],\n",
       "                      [-0.4841,  0.1337,  0.2444],\n",
       "                      [-0.4286, -0.3755, -0.5535],\n",
       "                      [-0.0395,  0.1098,  0.2103],\n",
       "                      [-0.2160, -0.2336,  0.0535],\n",
       "                      [ 0.4270,  0.6611,  0.0042],\n",
       "                      [ 0.5384,  0.4582,  0.1764],\n",
       "                      [-0.3215,  0.4249,  0.3971]], device='cuda:0')),\n",
       "             ('linear_proj_input.bias',\n",
       "              tensor([ 0.0565,  0.3750, -0.1814,  0.5064,  0.0070,  0.4297, -0.2707,  0.3682,\n",
       "                       0.1320, -0.1604,  0.3333, -0.2035, -0.2929,  0.4854,  0.3049,  0.2397,\n",
       "                       0.2061, -0.2553,  0.2978,  0.2901,  0.0375, -0.1228, -0.0772,  0.1586,\n",
       "                      -0.3151,  0.0313,  0.4861, -0.0483, -0.3051,  0.0523,  0.3857,  0.4430],\n",
       "                     device='cuda:0')),\n",
       "             ('RNN_layer.weight_ih_l0',\n",
       "              tensor([[ 0.0638,  0.0879, -0.0658,  ..., -0.0118,  0.1422, -0.1496],\n",
       "                      [-0.0146, -0.0710, -0.2644,  ...,  0.1242,  0.0106,  0.1596],\n",
       "                      [-0.0399,  0.1481,  0.3496,  ..., -0.2518, -0.1111, -0.0876],\n",
       "                      ...,\n",
       "                      [-0.1594, -0.0400, -0.0220,  ...,  0.1323,  0.0036, -0.1439],\n",
       "                      [ 0.0450, -0.1261, -0.1450,  ...,  0.0590, -0.1030,  0.0224],\n",
       "                      [ 0.0299, -0.3106, -0.1435,  ..., -0.1198, -0.2041,  0.1189]],\n",
       "                     device='cuda:0')),\n",
       "             ('RNN_layer.weight_hh_l0',\n",
       "              tensor([[-0.1008, -0.3354,  0.7316,  ...,  0.0674,  0.0366,  0.0772],\n",
       "                      [-0.1867, -0.1755,  0.0948,  ...,  0.2690, -0.0818,  0.0967],\n",
       "                      [-0.0259,  0.0152, -0.1912,  ..., -0.0153,  0.0754, -0.0735],\n",
       "                      ...,\n",
       "                      [-0.2218, -0.2004,  0.1634,  ...,  0.0215,  0.1279,  0.1362],\n",
       "                      [ 0.1235,  0.0638, -0.1146,  ...,  0.1886,  0.2580,  0.1354],\n",
       "                      [ 0.0140, -0.1508,  0.3804,  ...,  0.1608,  0.0671,  0.3947]],\n",
       "                     device='cuda:0')),\n",
       "             ('RNN_layer.bias_ih_l0',\n",
       "              tensor([-0.0746,  0.0153, -0.1192,  0.0897, -0.0128,  0.0187,  0.0530, -0.0135,\n",
       "                       0.0810, -0.0701, -0.1078,  0.0442, -0.1483, -0.0124,  0.1132,  0.1527,\n",
       "                      -0.2337, -0.1655, -0.0988,  0.0312, -0.0196, -0.0160, -0.1407,  0.2001,\n",
       "                       0.0040, -0.0672,  0.1628, -0.1221, -0.0441, -0.1045,  0.0084,  0.0534],\n",
       "                     device='cuda:0')),\n",
       "             ('RNN_layer.bias_hh_l0',\n",
       "              tensor([-0.0179, -0.1047,  0.1247,  0.0297, -0.0712,  0.0735,  0.1310, -0.0467,\n",
       "                      -0.0418, -0.1837, -0.1145,  0.0814, -0.1174, -0.1739, -0.1031,  0.0879,\n",
       "                      -0.0058, -0.0032,  0.0623, -0.1886, -0.0082,  0.1346, -0.2283,  0.0437,\n",
       "                      -0.1526, -0.0548, -0.0153,  0.0578,  0.2273,  0.0087, -0.1287, -0.0376],\n",
       "                     device='cuda:0')),\n",
       "             ('linear_post_rnn.weight',\n",
       "              tensor([[ 0.1488,  0.0533, -0.0347,  0.0504, -0.1152, -0.1995, -0.0429,  0.2020,\n",
       "                       -0.0609,  0.1170,  0.2578,  0.0255,  0.2165, -0.0831,  0.1169,  0.0973,\n",
       "                       -0.0868, -0.0670, -0.0520, -0.1935,  0.0968,  0.0784, -0.1583,  0.1320,\n",
       "                       -0.0675,  0.0219,  0.1515,  0.0754,  0.0931,  0.0379, -0.1848, -0.0431]],\n",
       "                     device='cuda:0')),\n",
       "             ('linear_post_rnn.bias', tensor([-0.0953], device='cuda:0'))])"
      ]
     },
     "execution_count": 157,
     "metadata": {},
     "output_type": "execute_result"
    }
   ],
   "source": [
    "RNN_model=training.RV_RNN_conv(n_diff=2, rnn_type=\"rnn\",rnn_act=\"tanh\",rnn_drop_out=0,rnn_hidden_size=32,proj_dim=32,rnn_num_layer=1,input_scaler=10000).to(device=device)\n",
    "\n",
    "import torch.optim as optim\n",
    "\n",
    "optimizer=optim.Adam(RNN_model.parameters(),lr=1e-3)\n",
    "\n",
    "train_loader=torch.utils.data.DataLoader(dataset=train_dataset,batch_size=512,shuffle=True, num_workers=4, pin_memory=True)\n",
    "test_loader=torch.utils.data.DataLoader(dataset=test_dataset,batch_size=512,shuffle=True, num_workers =4, pin_memory=True)\n",
    "\n",
    "train_loss=[]\n",
    "val_loss=[]\n",
    "\n",
    "training.reg_training_loop_rmspe(optimizer=optimizer,model=RNN_model,train_loader=train_loader,val_loader=test_loader,list_train_loss=train_loss,list_val_loss=val_loss,device=device,n_epochs=100,ot_steps=10,report_interval=5,eps=0,scaler=1)"
   ]
  },
  {
   "cell_type": "code",
   "execution_count": 158,
   "id": "fb1f55fb-a478-4bee-bf57-12189db4383a",
   "metadata": {},
   "outputs": [
    {
     "data": {
      "text/plain": [
       "<matplotlib.collections.PathCollection at 0x7ff728733640>"
      ]
     },
     "execution_count": 158,
     "metadata": {},
     "output_type": "execute_result"
    },
    {
     "data": {
      "image/png": "[encoded data removed]",
      "text/plain": [
       "<Figure size 640x480 with 1 Axes>"
      ]
     },
     "metadata": {},
     "output_type": "display_data"
    }
   ],
   "source": [
    "train_loss=[x.cpu() for x in train_loss]\n",
    "val_loss=[x.cpu() for x in val_loss]\n",
    "\n",
    "import matplotlib.pyplot as plt \n",
    "\n",
    "x=np.arange(len(train_loss))\n",
    "\n",
    "plt.scatter(x,train_loss,c=\"blue\")\n",
    "plt.scatter(x,val_loss,c=\"orange\")"
   ]
  },
  {
   "cell_type": "markdown",
   "id": "9b608cb1-05a8-417d-8a2a-8816518de943",
   "metadata": {},
   "source": [
    "LSTM:"
   ]
  },
  {
   "cell_type": "code",
   "execution_count": 165,
   "id": "cf7afa75-8e8c-4318-9c75-4e4029fdc57d",
   "metadata": {
    "scrolled": true
   },
   "outputs": [
    {
     "name": "stdout",
     "output_type": "stream",
     "text": [
      "Warning: rnn_act='tanh' is ignored when using rnn_type='lstm'\n",
      "At  1.3160498142242432  epoch  1 has training loss  tensor(0.2946, device='cuda:0')  and validation loss  tensor(0.2380, device='cuda:0') .\n",
      "\n",
      "At  7.0563132762908936  epoch  5 has training loss  tensor(0.2515, device='cuda:0')  and validation loss  tensor(0.2435, device='cuda:0') .\n",
      "\n",
      "At  13.919213056564331  epoch  10 has training loss  tensor(0.2480, device='cuda:0')  and validation loss  tensor(0.2333, device='cuda:0') .\n",
      "\n",
      "At  21.059534311294556  epoch  15 has training loss  tensor(0.2467, device='cuda:0')  and validation loss  tensor(0.2317, device='cuda:0') .\n",
      "\n",
      "At  27.933840036392212  epoch  20 has training loss  tensor(0.2456, device='cuda:0')  and validation loss  tensor(0.2305, device='cuda:0') .\n",
      "\n",
      "At  34.766276359558105  epoch  25 has training loss  tensor(0.2450, device='cuda:0')  and validation loss  tensor(0.2319, device='cuda:0') .\n",
      "\n",
      "At  41.926653146743774  epoch  30 has training loss  tensor(0.2456, device='cuda:0')  and validation loss  tensor(0.2317, device='cuda:0') .\n",
      "\n",
      "The validation loss has not improved for  10  epochs. Stopping current training loop.\n",
      "\n",
      "Best model state dictionary of this training loop is reloaded.\n",
      "\n",
      "According to validation loss, the best model is reached at epoch 20  with validation loss:  tensor(0.2305, device='cuda:0') .\n",
      " The total number of epoch trained is  30 .\n",
      " Training completed in:  41.926653146743774 .\n",
      "\n"
     ]
    },
    {
     "data": {
      "text/plain": [
       "OrderedDict([('frozen_conv.frozen_conv.weight',\n",
       "              tensor([[[-1.,  1.]]], device='cuda:0')),\n",
       "             ('linear_proj_input.weight',\n",
       "              tensor([[ 2.8287e-01, -1.2812e-01, -1.9540e-01],\n",
       "                      [ 7.6169e-02,  8.2936e-02,  1.6934e-01],\n",
       "                      [ 8.4557e-02,  1.1125e-01, -4.9658e-02],\n",
       "                      [ 2.3866e-01,  4.2292e-01, -1.4144e-01],\n",
       "                      [ 2.5859e-01,  3.8769e-01,  1.6039e-01],\n",
       "                      [-1.3353e-01, -1.0613e-01,  1.5888e-01],\n",
       "                      [-9.4303e-02,  4.4136e-01,  4.5364e-01],\n",
       "                      [-1.2019e-01, -3.0865e-01, -1.2840e-01],\n",
       "                      [-3.6024e-01, -2.2654e-01, -4.2460e-02],\n",
       "                      [-1.2951e-01,  4.0940e-01, -3.1637e-01],\n",
       "                      [ 2.9412e-02, -2.4630e-01,  1.8425e-01],\n",
       "                      [-1.1579e-01,  9.2390e-02, -3.0648e-01],\n",
       "                      [ 4.4675e-01,  5.8284e-01,  9.3860e-02],\n",
       "                      [ 2.9786e-01, -3.6340e-01, -4.0888e-01],\n",
       "                      [-1.9269e-01, -2.2923e-01, -1.9861e-01],\n",
       "                      [-3.6934e-01,  3.0802e-01,  1.3600e-01],\n",
       "                      [ 1.3577e-01,  2.4975e-01,  2.4985e-01],\n",
       "                      [ 1.9766e-02,  5.2280e-02, -5.8723e-02],\n",
       "                      [ 1.4205e-01, -1.0376e-01, -2.7897e-01],\n",
       "                      [-4.1767e-01,  4.2013e-01, -7.8533e-02],\n",
       "                      [-7.2344e-02,  2.0965e-01,  1.9213e-01],\n",
       "                      [ 2.7601e-01,  3.3062e-01,  2.2457e-02],\n",
       "                      [-2.6737e-03,  2.6045e-01, -4.8382e-02],\n",
       "                      [ 8.6824e-02,  4.7444e-02, -2.5511e-01],\n",
       "                      [-1.2724e-01, -1.7309e-01, -2.6903e-01],\n",
       "                      [-1.6493e-01,  3.7189e-01, -1.9371e-01],\n",
       "                      [ 4.1152e-02,  3.6700e-01,  3.0662e-01],\n",
       "                      [ 1.7308e-01,  4.9467e-01, -7.6316e-02],\n",
       "                      [ 2.8380e-02,  4.5984e-01,  2.8179e-01],\n",
       "                      [ 8.4289e-02, -3.6588e-02,  5.7256e-03],\n",
       "                      [-4.1221e-04,  4.7418e-01,  1.7140e-01],\n",
       "                      [ 7.0668e-02,  4.7931e-01,  3.2046e-01]], device='cuda:0')),\n",
       "             ('linear_proj_input.bias',\n",
       "              tensor([-0.2983, -0.1900, -0.2540, -0.2469, -0.5523,  0.2452, -0.1389, -0.3495,\n",
       "                       0.3158,  0.1968, -0.0741, -0.4061, -0.2949, -0.0117, -0.2292,  0.0847,\n",
       "                      -0.2570,  0.3851, -0.4787, -0.1112,  0.2315, -0.2033,  0.1461,  0.1206,\n",
       "                       0.3610,  0.2838, -0.0439, -0.0175, -0.2979, -0.2187,  0.4394,  0.4289],\n",
       "                     device='cuda:0')),\n",
       "             ('RNN_layer.weight_ih_l0',\n",
       "              tensor([[-0.1302,  0.0306,  0.1278,  ..., -0.0159, -0.2059, -0.0626],\n",
       "                      [-0.1780, -0.0298,  0.0826,  ..., -0.1116,  0.1321, -0.0280],\n",
       "                      [ 0.2559, -0.1207,  0.1252,  ...,  0.1487, -0.0985, -0.3161],\n",
       "                      ...,\n",
       "                      [ 0.0318, -0.1098, -0.0774,  ..., -0.3043,  0.3783,  0.2680],\n",
       "                      [ 0.2067, -0.2865,  0.1590,  ..., -0.1575, -0.2147, -0.1338],\n",
       "                      [-0.0373,  0.0044,  0.2288,  ...,  0.1337,  0.1402,  0.2360]],\n",
       "                     device='cuda:0')),\n",
       "             ('RNN_layer.weight_hh_l0',\n",
       "              tensor([[ 4.3170e-01,  6.2768e-05, -1.6631e-01,  ..., -3.9386e-01,\n",
       "                        4.0146e-02, -2.6923e-01],\n",
       "                      [ 1.6718e-01,  3.0029e-02, -3.5764e-01,  ..., -5.8933e-02,\n",
       "                       -8.0800e-02, -2.8373e-01],\n",
       "                      [ 1.2000e-01,  1.4232e-01, -2.8669e-02,  ..., -2.7607e-01,\n",
       "                        2.6044e-01, -3.9581e-01],\n",
       "                      ...,\n",
       "                      [-7.5897e-01, -8.8791e-03,  3.4001e-01,  ..., -7.7025e-01,\n",
       "                       -5.4125e-03,  2.7048e-01],\n",
       "                      [ 3.0025e-01,  6.3299e-01,  1.3490e-02,  ...,  4.5537e-01,\n",
       "                       -1.1574e-01, -1.8971e-01],\n",
       "                      [ 6.3166e-02, -2.5839e-02,  1.3114e-01,  ..., -7.8299e-01,\n",
       "                        9.9837e-02, -2.0265e-01]], device='cuda:0')),\n",
       "             ('RNN_layer.bias_ih_l0',\n",
       "              tensor([-0.4938, -0.2677, -0.1083, -0.1267,  0.1184, -0.5709, -0.0937,  0.1480,\n",
       "                      -0.3691,  0.0629, -0.2898, -0.0205, -0.4146,  0.1555, -0.1239, -0.2336,\n",
       "                      -0.0042, -0.1201, -0.4351, -0.2019, -0.0112, -0.0164, -0.2845, -0.0906,\n",
       "                       0.1414, -0.0078, -0.0382,  0.1062, -0.2026, -0.6243,  0.0657,  0.1646,\n",
       "                       0.4150, -0.0509, -0.0890, -0.0664,  0.1950,  0.0259, -0.0726,  0.0330,\n",
       "                       0.4827, -0.1783, -0.0879,  0.1549, -0.4941, -0.0483,  0.0864,  0.1655,\n",
       "                      -0.2236, -0.1031,  0.3385,  0.1159,  0.3644, -0.0486, -0.0374,  0.2406,\n",
       "                       0.0616, -0.1644,  0.0086,  0.0880, -0.1338,  0.3830,  0.0269,  0.1815,\n",
       "                      -0.0203, -0.0719,  0.1459,  0.1237, -0.2315,  0.0912, -0.0028,  0.0012,\n",
       "                       0.0030,  0.0704, -0.0049, -0.1124, -0.1562,  0.0261,  0.0173,  0.0719,\n",
       "                       0.0114, -0.1360, -0.0924, -0.0868,  0.0977,  0.0385, -0.0797,  0.0062,\n",
       "                       0.0223,  0.0442, -0.0495, -0.0977, -0.1472,  0.2238,  0.0094, -0.1477,\n",
       "                       0.1381, -0.2422,  0.1109, -0.1225,  0.0124, -0.0261, -0.1858,  0.0349,\n",
       "                       0.0992, -0.1370, -0.1795,  0.1219, -0.6650,  0.0365, -0.4488,  0.0020,\n",
       "                       0.0108, -0.2535, -0.0453, -0.0139, -0.0034, -0.2134, -0.1345, -0.1528,\n",
       "                      -0.0756, -0.3250,  0.0862,  0.1196, -0.0274,  0.3972, -0.0365, -0.1682],\n",
       "                     device='cuda:0')),\n",
       "             ('RNN_layer.bias_hh_l0',\n",
       "              tensor([-0.3876, -0.2218, -0.0016,  0.0718, -0.1357, -0.5576, -0.2660,  0.0416,\n",
       "                      -0.4279, -0.0884, -0.2587, -0.2049, -0.3352, -0.0780,  0.0269, -0.1108,\n",
       "                      -0.0823, -0.3417, -0.4297,  0.0739, -0.2420, -0.1294, -0.3609,  0.1001,\n",
       "                      -0.1129,  0.0335, -0.2348, -0.0859, -0.2399, -0.6554,  0.0296,  0.0122,\n",
       "                       0.2893, -0.3290, -0.1613,  0.0526,  0.1214,  0.0397, -0.2420,  0.1235,\n",
       "                       0.2657, -0.0858,  0.1642,  0.2007, -0.2517,  0.0983, -0.1783,  0.3025,\n",
       "                      -0.0849,  0.0182,  0.1420,  0.0705,  0.1836,  0.0451,  0.1148,  0.2419,\n",
       "                       0.3495,  0.0256, -0.0721, -0.1726, -0.2092,  0.2427,  0.0896,  0.1569,\n",
       "                      -0.1029,  0.1029,  0.1405,  0.1496, -0.2720,  0.0941,  0.1371, -0.3311,\n",
       "                       0.0019, -0.1920, -0.0989, -0.0573, -0.1488,  0.0354, -0.0782,  0.0748,\n",
       "                       0.0541,  0.1308, -0.1617,  0.0368,  0.1072, -0.0883,  0.1133,  0.0426,\n",
       "                       0.0415,  0.0324,  0.0934, -0.1891, -0.0834, -0.0170, -0.0410, -0.1194,\n",
       "                       0.1962, -0.0747, -0.1705,  0.0594, -0.0857, -0.0354,  0.0855,  0.1224,\n",
       "                       0.1827, -0.2131,  0.0654,  0.0422, -0.4033, -0.0885, -0.2362, -0.0168,\n",
       "                      -0.1178, -0.1081, -0.1814,  0.0382,  0.0984, -0.1232, -0.2019, -0.1462,\n",
       "                       0.0299, -0.3844, -0.1802,  0.1078, -0.2487,  0.2704, -0.0377, -0.1184],\n",
       "                     device='cuda:0')),\n",
       "             ('linear_post_rnn.weight',\n",
       "              tensor([[-0.1061, -0.2874,  0.0858,  0.0568, -0.1293, -0.2087,  0.1499, -0.1795,\n",
       "                        0.0724, -0.2038, -0.1536, -0.0927,  0.6361, -0.1503,  0.3629, -0.1354,\n",
       "                        0.2004, -0.0782,  0.0727, -0.1520, -0.1786, -0.0288, -0.1435,  0.1596,\n",
       "                       -0.0098, -0.1415,  0.1112, -0.1463, -0.2588, -0.1183,  0.0861,  0.0849]],\n",
       "                     device='cuda:0')),\n",
       "             ('linear_post_rnn.bias', tensor([-0.1002], device='cuda:0'))])"
      ]
     },
     "execution_count": 165,
     "metadata": {},
     "output_type": "execute_result"
    }
   ],
   "source": [
    "RNN_model=training.RV_RNN_conv(n_diff=2, rnn_type=\"lstm\",rnn_act=\"tanh\",rnn_drop_out=0,rnn_hidden_size=32,proj_dim=32,rnn_num_layer=1,input_scaler=10000).to(device=device)\n",
    "\n",
    "import torch.optim as optim\n",
    "\n",
    "optimizer=optim.Adam(RNN_model.parameters(),lr=1e-3)\n",
    "\n",
    "train_loader=torch.utils.data.DataLoader(dataset=train_dataset,batch_size=512,shuffle=True, num_workers=4, pin_memory=True)\n",
    "test_loader=torch.utils.data.DataLoader(dataset=test_dataset,batch_size=512,shuffle=True, num_workers =4, pin_memory=True)\n",
    "\n",
    "train_loss=[]\n",
    "val_loss=[]\n",
    "\n",
    "training.reg_training_loop_rmspe(optimizer=optimizer,model=RNN_model,train_loader=train_loader,val_loader=test_loader,list_train_loss=train_loss,list_val_loss=val_loss,device=device,n_epochs=100,ot_steps=10,report_interval=5,eps=0,scaler=1)"
   ]
  },
  {
   "cell_type": "code",
   "execution_count": 166,
   "id": "5aa699c1-a918-4831-9f1b-8697e25bd98c",
   "metadata": {},
   "outputs": [
    {
     "data": {
      "text/plain": [
       "<matplotlib.collections.PathCollection at 0x7ff7288565f0>"
      ]
     },
     "execution_count": 166,
     "metadata": {},
     "output_type": "execute_result"
    },
    {
     "data": {
      "image/png": "[encoded data removed]",
      "text/plain": [
       "<Figure size 640x480 with 1 Axes>"
      ]
     },
     "metadata": {},
     "output_type": "display_data"
    }
   ],
   "source": [
    "train_loss=[x.cpu() for x in train_loss]\n",
    "val_loss=[x.cpu() for x in val_loss]\n",
    "\n",
    "import matplotlib.pyplot as plt \n",
    "\n",
    "x=np.arange(len(train_loss))\n",
    "\n",
    "plt.scatter(x,train_loss,c=\"blue\")\n",
    "plt.scatter(x,val_loss,c=\"orange\")"
   ]
  },
  {
   "cell_type": "markdown",
   "id": "8c408726",
   "metadata": {},
   "source": [
    "## Training with native values, with a 10000 times scaler on input. "
   ]
  },
  {
   "cell_type": "markdown",
   "id": "57cc50c5",
   "metadata": {},
   "source": [
    "A key issue with our input timeseries is that all values are extremely close to zero, so a 10000 times scaler can help with expanding them a little. "
   ]
  },
  {
   "cell_type": "code",
   "execution_count": 61,
   "id": "2efd16ac",
   "metadata": {},
   "outputs": [
    {
     "name": "stdout",
     "output_type": "stream",
     "text": [
      "Using device cuda\n"
     ]
    }
   ],
   "source": [
    "device=(torch.device(\"cuda\") if torch.cuda.is_available() else torch.device(\"cpu\"))\n",
    "print(f\"Using device {device}\")"
   ]
  },
  {
   "cell_type": "code",
   "execution_count": 62,
   "id": "1b95e6a7",
   "metadata": {},
   "outputs": [],
   "source": [
    "RNN_model=training.RV_RNN_conv(n_diff=4,rnn_act=\"tanh\",rnn_drop_out=0,rnn_hidden_size=32,proj_dim=32,rnn_num_layer=1,input_scaler=10000).to(device=device)"
   ]
  },
  {
   "cell_type": "code",
   "execution_count": 63,
   "id": "3846a809",
   "metadata": {},
   "outputs": [],
   "source": [
    "import torch.optim as optim\n",
    "\n",
    "optimizer=optim.Adam(RNN_model.parameters(),lr=1e-3)"
   ]
  },
  {
   "cell_type": "code",
   "execution_count": 64,
   "id": "55dd6fd9",
   "metadata": {},
   "outputs": [],
   "source": [
    "train_loader=torch.utils.data.DataLoader(dataset=train_dataset,batch_size=256,shuffle=True)\n",
    "test_loader=torch.utils.data.DataLoader(dataset=test_dataset,batch_size=256,shuffle=True)"
   ]
  },
  {
   "cell_type": "code",
   "execution_count": 65,
   "id": "292fcf3f",
   "metadata": {},
   "outputs": [],
   "source": [
    "train_loss=[]\n",
    "val_loss=[]"
   ]
  },
  {
   "cell_type": "code",
   "execution_count": 46,
   "id": "810267b9",
   "metadata": {
    "scrolled": true
   },
   "outputs": [
    {
     "name": "stdout",
     "output_type": "stream",
     "text": [
      "At  2.841204881668091  epoch  1 has training loss  tensor(0.2701, device='cuda:0')  and validation loss  tensor(0.2366, device='cuda:0') .\n",
      "\n",
      "At  12.692814350128174  epoch  5 has training loss  tensor(0.2536, device='cuda:0')  and validation loss  tensor(0.2370, device='cuda:0') .\n",
      "\n",
      "At  24.804923057556152  epoch  10 has training loss  tensor(0.2527, device='cuda:0')  and validation loss  tensor(0.2350, device='cuda:0') .\n",
      "\n",
      "At  36.860355615615845  epoch  15 has training loss  tensor(0.2519, device='cuda:0')  and validation loss  tensor(0.2352, device='cuda:0') .\n",
      "\n",
      "At  49.09467816352844  epoch  20 has training loss  tensor(0.2518, device='cuda:0')  and validation loss  tensor(0.2364, device='cuda:0') .\n",
      "\n",
      "At  61.199227809906006  epoch  25 has training loss  tensor(0.2510, device='cuda:0')  and validation loss  tensor(0.2349, device='cuda:0') .\n",
      "\n",
      "At  73.4724633693695  epoch  30 has training loss  tensor(0.2506, device='cuda:0')  and validation loss  tensor(0.2344, device='cuda:0') .\n",
      "\n",
      "The validation loss has not improved for  10  epochs. Stopping current training loop.\n",
      "\n",
      "Best model state dictionary of this training loop is reloaded.\n",
      "\n",
      "According to validation loss, the best model is reached at epoch 23  with validation loss:  tensor(0.2343, device='cuda:0') .\n",
      " The total number of epoch trained is  33 .\n",
      " Training completed in:  80.75830578804016 .\n",
      "\n"
     ]
    },
    {
     "data": {
      "text/plain": [
       "OrderedDict([('frozen_conv.frozen_conv.weight',\n",
       "              tensor([[[-1.,  1.]]], device='cuda:0')),\n",
       "             ('linear_proj_input.weight',\n",
       "              tensor([[-1.3013e-02,  3.8937e-01,  2.7331e-01, -7.7134e-02, -6.5391e-02],\n",
       "                      [-2.4403e-02, -3.2814e-02, -2.7695e-02,  1.0576e-01,  8.8450e-02],\n",
       "                      [ 2.5078e-02,  4.2850e-01,  1.4450e-01, -2.3749e-01, -1.4540e-01],\n",
       "                      [-1.5259e-02,  2.8654e-02, -2.5478e-01, -2.4515e-01, -7.4321e-02],\n",
       "                      [-2.5169e-02, -1.9296e-01, -4.6623e-02, -1.3934e-01,  2.0372e-01],\n",
       "                      [ 1.4997e-03,  3.1609e-01,  4.8015e-01,  3.6515e-01,  1.2458e-01],\n",
       "                      [-3.5017e-01, -3.9541e-01,  1.0655e-01,  1.0083e-01,  3.1811e-02],\n",
       "                      [ 3.9903e-01,  8.1790e-02,  3.0594e-01, -2.8731e-01, -2.2762e-01],\n",
       "                      [ 1.1225e-01,  5.7909e-01,  5.4034e-01, -4.9363e-02, -1.6414e-01],\n",
       "                      [-1.4101e-01, -3.6283e-01, -4.2917e-01, -2.6336e-01, -6.1351e-02],\n",
       "                      [ 2.1715e-01,  5.1638e-01, -1.4776e-01, -1.6922e-01, -1.0258e-01],\n",
       "                      [ 2.6874e-01,  2.5141e-01,  9.6520e-02, -1.4923e-01, -9.9994e-02],\n",
       "                      [-6.7987e-02,  7.4953e-01,  3.8641e-01,  2.3234e-01,  1.4717e-01],\n",
       "                      [ 3.8860e-02, -2.0319e-01, -4.3208e-01, -2.7799e-01, -6.5091e-02],\n",
       "                      [ 5.1128e-01,  6.1839e-01,  1.1226e-01, -1.0994e-01, -6.8997e-02],\n",
       "                      [-3.0949e-05, -2.7831e-02, -9.8439e-02, -5.5426e-02,  1.6215e-01],\n",
       "                      [-3.1145e-01, -6.1889e-01,  1.5116e-01, -1.3925e-03, -2.1665e-02],\n",
       "                      [ 9.4889e-03, -2.3916e-01,  3.0081e-01,  3.9099e-01,  1.0649e-01],\n",
       "                      [-8.7631e-02, -3.7799e-01, -5.4040e-01, -3.2803e-01, -9.8980e-02],\n",
       "                      [-2.5052e-02,  3.5925e-01,  1.3044e-01, -6.9229e-02, -1.0065e-02],\n",
       "                      [ 3.4754e-03, -4.0523e-02,  2.8313e-02,  1.1535e-01,  7.7040e-02],\n",
       "                      [-2.2990e-02, -6.9230e-02, -1.2776e-01, -1.1016e-01, -4.8677e-02],\n",
       "                      [ 2.5398e-01, -1.5076e-01,  9.2794e-02, -1.7250e-01,  1.4736e-02],\n",
       "                      [-3.8122e-02, -3.0778e-01, -4.4675e-01, -1.4981e-01,  8.1686e-02],\n",
       "                      [ 2.6809e-01, -4.9744e-01, -2.6351e-01,  2.3446e-01,  1.2846e-01],\n",
       "                      [ 2.7063e-02,  1.3496e-01, -1.3191e-01, -4.4728e-02,  7.4260e-02],\n",
       "                      [-4.9552e-03, -1.7302e-02, -1.3783e-01, -1.6517e-01, -8.2923e-02],\n",
       "                      [ 1.9944e-04,  8.0016e-02,  4.0945e-02, -1.2355e-01, -9.3174e-02],\n",
       "                      [ 2.1459e-02, -3.3950e-01,  9.8456e-02,  2.0546e-01,  4.4724e-02],\n",
       "                      [ 9.6839e-03,  8.9200e-03,  1.7458e-01,  2.4485e-01,  1.0483e-01],\n",
       "                      [ 1.8363e-01,  5.7163e-01,  6.0951e-01,  2.6567e-01,  1.8908e-02],\n",
       "                      [ 4.2079e-01,  7.3438e-02, -1.3992e-01,  4.8925e-02,  3.1248e-01]],\n",
       "                     device='cuda:0')),\n",
       "             ('linear_proj_input.bias',\n",
       "              tensor([ 1.2628e-02,  2.6932e-02, -1.4197e-01,  2.5670e-02,  7.9795e-02,\n",
       "                       9.7121e-04,  1.9222e-01, -5.3905e-03,  2.0546e-01,  2.5116e-02,\n",
       "                       3.2769e-02, -5.7999e-02,  3.2334e-02, -5.3210e-02, -8.8886e-02,\n",
       "                       2.0458e-02, -1.4031e-02,  1.3967e-02,  3.6471e-02, -1.0130e-02,\n",
       "                      -4.0863e-05,  3.5490e-02,  1.2664e-02, -5.2900e-02, -9.5596e-02,\n",
       "                      -4.3202e-03,  7.3360e-03,  2.5692e-03, -4.0112e-03, -1.1612e-02,\n",
       "                      -2.5158e-01, -2.1998e-02], device='cuda:0')),\n",
       "             ('RNN_layer.weight_ih_l0',\n",
       "              tensor([[ 0.3098, -0.0379, -0.0749,  ...,  0.0092,  0.0700,  0.5764],\n",
       "                      [-0.0177, -0.0479,  0.1101,  ..., -0.0484, -0.0547,  0.0155],\n",
       "                      [ 0.1967,  0.1626,  0.1815,  ..., -0.1098,  0.2899,  0.0953],\n",
       "                      ...,\n",
       "                      [-0.1386, -0.1555,  0.0913,  ..., -0.2777, -0.0866, -0.1767],\n",
       "                      [ 0.0174, -0.2074, -0.0237,  ..., -0.1728,  0.1267,  0.0314],\n",
       "                      [-0.0817,  0.0737, -0.0603,  ..., -0.0139,  0.0928,  0.1602]],\n",
       "                     device='cuda:0')),\n",
       "             ('RNN_layer.weight_hh_l0',\n",
       "              tensor([[ 0.3250, -0.0508, -0.1123,  ..., -0.5073,  0.0732, -0.1378],\n",
       "                      [ 0.6863,  0.0797,  0.4058,  ..., -0.3456, -0.5240, -0.1203],\n",
       "                      [ 0.1124,  0.2424,  0.0326,  ..., -0.3729, -0.2419,  0.0278],\n",
       "                      ...,\n",
       "                      [ 0.1746, -0.0447,  0.0181,  ..., -0.2048,  0.1816,  0.0188],\n",
       "                      [ 0.1996,  0.6002,  0.1919,  ...,  0.2364,  0.1710, -0.4626],\n",
       "                      [-0.0490, -0.1574, -0.2917,  ..., -0.6026,  0.3585, -0.3754]],\n",
       "                     device='cuda:0')),\n",
       "             ('RNN_layer.bias_ih_l0',\n",
       "              tensor([-0.1178, -0.0024, -0.2019,  0.1001,  0.1473, -0.0491, -0.1332, -0.0582,\n",
       "                       0.1112,  0.0852,  0.0917,  0.0846, -0.0644, -0.0925, -0.1094, -0.0322,\n",
       "                      -0.2289, -0.0290,  0.0346, -0.1418,  0.0221,  0.0553,  0.0716,  0.2255,\n",
       "                       0.0076, -0.0589,  0.1047, -0.1326, -0.0157, -0.0875, -0.1506,  0.1891],\n",
       "                     device='cuda:0')),\n",
       "             ('RNN_layer.bias_hh_l0',\n",
       "              tensor([ 3.2828e-02, -2.6533e-01, -6.7540e-02,  5.3128e-02,  1.3619e-01,\n",
       "                       8.7140e-02,  7.9682e-02, -1.9066e-01,  1.1935e-01,  6.2576e-02,\n",
       "                      -1.3442e-01,  1.0371e-02,  7.3204e-02, -1.6927e-01,  4.8571e-02,\n",
       "                      -1.3515e-01, -1.3753e-01,  5.4045e-02, -1.0209e-01, -4.2235e-03,\n",
       "                       1.6207e-01,  6.6100e-02, -1.9344e-01, -7.8733e-02, -4.8117e-02,\n",
       "                       2.7672e-01, -7.6910e-02,  1.7189e-01,  5.6509e-02,  8.6780e-03,\n",
       "                       2.5435e-02, -5.3751e-05], device='cuda:0')),\n",
       "             ('linear_post_rnn.weight',\n",
       "              tensor([[-0.0499, -0.1899,  0.0255, -0.0264,  0.0046, -0.1370,  0.0507, -0.2109,\n",
       "                        0.3328, -0.0019,  0.0520, -0.2140, -0.1467, -0.3020,  0.0137,  0.0473,\n",
       "                        0.0489, -0.1000,  0.2518,  0.1416,  0.0663, -0.1541,  0.0913,  0.3280,\n",
       "                       -0.0199, -0.2331,  0.2933, -0.0358,  0.1127,  0.0526,  0.0145,  0.2203]],\n",
       "                     device='cuda:0')),\n",
       "             ('linear_post_rnn.bias', tensor([0.1783], device='cuda:0'))])"
      ]
     },
     "execution_count": 46,
     "metadata": {},
     "output_type": "execute_result"
    }
   ],
   "source": [
    "training.reg_training_loop_rmspe(optimizer=optimizer,model=RNN_model,train_loader=train_loader,val_loader=test_loader,list_train_loss=train_loss,list_val_loss=val_loss,device=device,n_epochs=100,ot_steps=10,report_interval=5,eps=0,scaler=1)"
   ]
  },
  {
   "cell_type": "code",
   "execution_count": 47,
   "id": "66a81f55",
   "metadata": {},
   "outputs": [
    {
     "name": "stdout",
     "output_type": "stream",
     "text": [
      "frozen_conv.frozen_conv.weight False\n",
      "linear_proj_input.weight True\n",
      "linear_proj_input.bias True\n",
      "RNN_layer.weight_ih_l0 True\n",
      "RNN_layer.weight_hh_l0 True\n",
      "RNN_layer.bias_ih_l0 True\n",
      "RNN_layer.bias_hh_l0 True\n",
      "linear_post_rnn.weight True\n",
      "linear_post_rnn.bias True\n"
     ]
    }
   ],
   "source": [
    "for name,param in RNN_model.named_parameters():\n",
    "    print(name,param.requires_grad)"
   ]
  },
  {
   "cell_type": "code",
   "execution_count": 48,
   "id": "0e88bd58",
   "metadata": {},
   "outputs": [],
   "source": [
    "train_loss=[x.cpu() for x in train_loss]\n",
    "val_loss=[x.cpu() for x in val_loss]"
   ]
  },
  {
   "cell_type": "markdown",
   "id": "b9c4ccf4",
   "metadata": {},
   "source": [
    "Above is an example of the training. "
   ]
  },
  {
   "cell_type": "code",
   "execution_count": 49,
   "id": "05ee5053",
   "metadata": {},
   "outputs": [],
   "source": [
    "import matplotlib.pyplot as plt \n",
    "\n",
    "x=np.arange(len(train_loss))"
   ]
  },
  {
   "cell_type": "code",
   "execution_count": 50,
   "id": "ebe3da0c",
   "metadata": {},
   "outputs": [
    {
     "data": {
      "text/plain": [
       "<matplotlib.collections.PathCollection at 0x7ff63811f6a0>"
      ]
     },
     "execution_count": 50,
     "metadata": {},
     "output_type": "execute_result"
    },
    {
     "data": {
      "image/png": "[encoded data removed]",
      "text/plain": [
       "<Figure size 640x480 with 1 Axes>"
      ]
     },
     "metadata": {},
     "output_type": "display_data"
    }
   ],
   "source": [
    "plt.scatter(x,train_loss,c=\"blue\")\n",
    "plt.scatter(x,val_loss,c=\"orange\")"
   ]
  },
  {
   "cell_type": "markdown",
   "id": "50b72925",
   "metadata": {},
   "source": [
    "## Try to normalize only the input. "
   ]
  },
  {
   "cell_type": "code",
   "execution_count": 50,
   "id": "2324a8cb",
   "metadata": {},
   "outputs": [],
   "source": [
    "RNN_model_norm_ts=training.RV_RNN_conv(n_diff=4,rnn_act=\"tanh\",rnn_drop_out=0,rnn_hidden_size=32,proj_dim=32,rnn_num_layer=1,input_scaler=1).to(device=device)"
   ]
  },
  {
   "cell_type": "code",
   "execution_count": 51,
   "id": "68516afa",
   "metadata": {},
   "outputs": [],
   "source": [
    "optimizer_norm_ts=optim.Adam(RNN_model_norm_ts.parameters(),lr=1e-3)"
   ]
  },
  {
   "cell_type": "code",
   "execution_count": 52,
   "id": "ae9de7e3",
   "metadata": {},
   "outputs": [
    {
     "name": "stderr",
     "output_type": "stream",
     "text": [
      "/home/machine2/Desktop/Realized_Volatility_Prediction_-erdos_deeplearning-/NNetwork/../proj_mod/training.py:301: SettingWithCopyWarning: \n",
      "A value is trying to be set on a copy of a slice from a DataFrame.\n",
      "Try using .loc[row_indexer,col_indexer] = value instead\n",
      "\n",
      "See the caveats in the documentation: https://pandas.pydata.org/pandas-docs/stable/user_guide/indexing.html#returning-a-view-versus-a-copy\n",
      "  df_tab_copy.loc[:,\"sub_int_num\"]=np.nan\n",
      "/home/machine2/Desktop/Realized_Volatility_Prediction_-erdos_deeplearning-/NNetwork/../proj_mod/training.py:301: SettingWithCopyWarning: \n",
      "A value is trying to be set on a copy of a slice from a DataFrame.\n",
      "Try using .loc[row_indexer,col_indexer] = value instead\n",
      "\n",
      "See the caveats in the documentation: https://pandas.pydata.org/pandas-docs/stable/user_guide/indexing.html#returning-a-view-versus-a-copy\n",
      "  df_tab_copy.loc[:,\"sub_int_num\"]=np.nan\n"
     ]
    }
   ],
   "source": [
    "train_dataset=training.RVdataset(time_id_list=train_time_id,ts_features=[\"sub_int_RV_norm\"],df_ts_feat=df_RV_ts,df_target=df_target)\n",
    "test_dataset=training.RVdataset(time_id_list=test_time_id,ts_features=[\"sub_int_RV_norm\"],df_ts_feat=df_RV_ts,df_target=df_target)"
   ]
  },
  {
   "cell_type": "code",
   "execution_count": 53,
   "id": "509b7bfa",
   "metadata": {},
   "outputs": [],
   "source": [
    "train_loader=torch.utils.data.DataLoader(dataset=train_dataset,batch_size=256,shuffle=True)\n",
    "test_loader=torch.utils.data.DataLoader(dataset=test_dataset,batch_size=256,shuffle=True)"
   ]
  },
  {
   "cell_type": "code",
   "execution_count": 54,
   "id": "4056c9ee",
   "metadata": {},
   "outputs": [],
   "source": [
    "train_loss=[]\n",
    "val_loss=[]"
   ]
  },
  {
   "cell_type": "code",
   "execution_count": 55,
   "id": "b0a66b56",
   "metadata": {},
   "outputs": [
    {
     "name": "stdout",
     "output_type": "stream",
     "text": [
      "At  2.522658109664917  epoch  1 has training loss  tensor(283.0392, device='cuda:0')  and validation loss  tensor(43.5655, device='cuda:0') .\n",
      "\n",
      "At  12.718735694885254  epoch  5 has training loss  tensor(17.9191, device='cuda:0')  and validation loss  tensor(37.9335, device='cuda:0') .\n",
      "\n",
      "At  26.009549140930176  epoch  10 has training loss  tensor(7.6101, device='cuda:0')  and validation loss  tensor(3.5446, device='cuda:0') .\n",
      "\n",
      "At  39.161351442337036  epoch  15 has training loss  tensor(2.6315, device='cuda:0')  and validation loss  tensor(1.4925, device='cuda:0') .\n",
      "\n",
      "At  52.47147059440613  epoch  20 has training loss  tensor(2.2603, device='cuda:0')  and validation loss  tensor(1.0233, device='cuda:0') .\n",
      "\n",
      "At  65.79581642150879  epoch  25 has training loss  tensor(2.3343, device='cuda:0')  and validation loss  tensor(1.7118, device='cuda:0') .\n",
      "\n",
      "At  79.334139585495  epoch  30 has training loss  tensor(2.6137, device='cuda:0')  and validation loss  tensor(1.8254, device='cuda:0') .\n",
      "\n",
      "At  92.26322913169861  epoch  35 has training loss  tensor(2.3198, device='cuda:0')  and validation loss  tensor(3.5959, device='cuda:0') .\n",
      "\n",
      "At  105.20642518997192  epoch  40 has training loss  tensor(2.4839, device='cuda:0')  and validation loss  tensor(1.4842, device='cuda:0') .\n",
      "\n",
      "The validation loss has not improved for  20  epochs. Stopping current training loop.\n",
      "\n",
      "Best model state dictionary of this training loop is reloaded.\n",
      "\n",
      "According to validation loss, the best model is reached at epoch 21  with validation loss:  tensor(0.5534, device='cuda:0') .\n",
      " The total number of epoch trained is  41 .\n",
      " Training completed in:  107.89736342430115 .\n",
      "\n"
     ]
    },
    {
     "data": {
      "text/plain": [
       "OrderedDict([('frozen_conv.frozen_conv.weight',\n",
       "              tensor([[[-1.,  1.]]], device='cuda:0')),\n",
       "             ('linear_proj_input.weight',\n",
       "              tensor([[-0.0045, -0.0901,  0.1132, -0.2228, -0.1803],\n",
       "                      [-0.1997, -0.3297,  0.1452,  0.3443, -0.0067],\n",
       "                      [-0.0107, -0.2273,  0.4138,  0.0233, -0.1586],\n",
       "                      [-0.0889,  0.3350, -0.1367, -0.1448, -0.4007],\n",
       "                      [ 0.2829, -0.0629,  0.1113, -0.0430,  0.1067],\n",
       "                      [ 0.3070,  0.1270,  0.4153,  0.1222,  0.0056],\n",
       "                      [ 0.1668, -0.4291, -0.0132, -0.2160,  0.2345],\n",
       "                      [ 0.1613, -0.3407,  0.0467,  0.4288,  0.0861],\n",
       "                      [ 0.0653, -0.0928, -0.0263, -0.2540, -0.0603],\n",
       "                      [ 0.0812, -0.2569, -0.0038,  0.1708, -0.1246],\n",
       "                      [ 0.3743,  0.4313, -0.1810, -0.2795,  0.0187],\n",
       "                      [ 0.0401,  0.0395,  0.0658, -0.1657, -0.1592],\n",
       "                      [-0.0402,  0.3869,  0.3598,  0.2136,  0.0075],\n",
       "                      [-0.0650, -0.0289,  0.2271,  0.3552,  0.2315],\n",
       "                      [ 0.3678,  0.1282, -0.2009,  0.3654,  0.2514],\n",
       "                      [-0.0062, -0.3464, -0.3324, -0.0290, -0.0126],\n",
       "                      [-0.0944,  0.2014,  0.1281,  0.3473,  0.0057],\n",
       "                      [ 0.3253, -0.0096, -0.2627,  0.0400,  0.1282],\n",
       "                      [ 0.4956, -0.1440,  0.1999, -0.2800, -0.1951],\n",
       "                      [ 0.0501,  0.2608,  0.1987,  0.1601, -0.1392],\n",
       "                      [-0.0112, -0.1569,  0.1500, -0.0583, -0.1004],\n",
       "                      [ 0.3107,  0.2088, -0.0550,  0.1293,  0.1153],\n",
       "                      [-0.2866,  0.2308, -0.2633, -0.0656,  0.0422],\n",
       "                      [ 0.3230,  0.0646, -0.2153, -0.2714, -0.1071],\n",
       "                      [ 0.2060,  0.1244, -0.3153, -0.2981,  0.5972],\n",
       "                      [-0.1061,  0.0378, -0.1545, -0.4512, -0.2370],\n",
       "                      [ 0.3597, -0.0376,  0.3642, -0.0549, -0.1750],\n",
       "                      [-0.0804, -0.3709,  0.0436, -0.5300,  0.4364],\n",
       "                      [-0.1882, -0.1901, -0.0169,  0.0589, -0.0450],\n",
       "                      [ 0.0748,  0.4169, -0.3247, -0.0675, -0.7775],\n",
       "                      [-0.1283, -0.1630,  0.2123, -0.1098, -0.1756],\n",
       "                      [-0.1097,  0.2151, -0.0023, -0.3765,  0.0132]], device='cuda:0')),\n",
       "             ('linear_proj_input.bias',\n",
       "              tensor([-0.0057, -0.1013, -0.0074,  0.2599,  0.1890,  0.1345, -0.2150,  0.0712,\n",
       "                       0.0300,  0.3206,  0.1795,  0.0153,  0.1227,  0.0018,  0.1638, -0.0037,\n",
       "                       0.1344,  0.2068,  0.2299,  0.0294, -0.0055,  0.1430, -0.1299,  0.1851,\n",
       "                       0.1075, -0.0477,  0.1969,  0.1196, -0.0974,  0.0150, -0.0363, -0.0491],\n",
       "                     device='cuda:0')),\n",
       "             ('RNN_layer.weight_ih_l0',\n",
       "              tensor([[ 3.7883e-02, -7.4390e-02,  8.1796e-02,  ...,  1.3746e-02,\n",
       "                       -7.0671e-02,  1.1298e-01],\n",
       "                      [-1.7003e-01, -7.9825e-02,  1.1533e-01,  ..., -3.2246e-02,\n",
       "                        6.0445e-02, -2.1969e-03],\n",
       "                      [-1.2022e-01, -7.2477e-02,  4.6330e-02,  ..., -7.7177e-02,\n",
       "                        1.2686e-01, -1.2398e-01],\n",
       "                      ...,\n",
       "                      [ 1.4775e-01, -1.2599e-01,  4.8405e-02,  ..., -9.3319e-02,\n",
       "                       -1.7944e-02,  1.0043e-01],\n",
       "                      [ 1.9351e-01, -4.2060e-02, -1.4521e-02,  ..., -2.4227e-04,\n",
       "                        5.4732e-02,  5.0702e-02],\n",
       "                      [-1.7626e-01,  1.4203e-01, -7.9240e-02,  ..., -1.5068e-04,\n",
       "                        1.0361e-01, -2.5569e-01]], device='cuda:0')),\n",
       "             ('RNN_layer.weight_hh_l0',\n",
       "              tensor([[-0.4502, -0.0572, -0.2031,  ..., -0.1551,  0.0523, -0.1695],\n",
       "                      [-0.0814, -0.4613, -0.1111,  ..., -0.0268, -0.0094, -0.2520],\n",
       "                      [ 0.0196, -0.0430, -0.1224,  ...,  0.3012, -0.0557, -0.1092],\n",
       "                      ...,\n",
       "                      [ 0.0309, -0.0523,  0.3242,  ..., -0.3381, -0.2077,  0.0575],\n",
       "                      [-0.0524,  0.1094,  0.1877,  ...,  0.1321, -0.1839, -0.0140],\n",
       "                      [ 0.0234, -0.1200, -0.0735,  ...,  0.1487,  0.0068, -0.1879]],\n",
       "                     device='cuda:0')),\n",
       "             ('RNN_layer.bias_ih_l0',\n",
       "              tensor([-0.0868, -0.1199, -0.0193,  0.0328, -0.0508, -0.1069,  0.0045,  0.0335,\n",
       "                       0.1042,  0.0911, -0.1099,  0.0213,  0.0692, -0.0064, -0.0378,  0.1201,\n",
       "                       0.0012, -0.0127, -0.0158,  0.0450,  0.0414,  0.0459, -0.1204,  0.0210,\n",
       "                       0.1474, -0.0206,  0.0538, -0.1286, -0.0392, -0.0545,  0.0740,  0.0011],\n",
       "                     device='cuda:0')),\n",
       "             ('RNN_layer.bias_hh_l0',\n",
       "              tensor([ 0.0416,  0.0699, -0.0982,  0.0742,  0.0536,  0.1397, -0.1213, -0.0425,\n",
       "                      -0.0891,  0.0819, -0.0114, -0.0097,  0.0637,  0.0775,  0.0467, -0.0504,\n",
       "                      -0.0148, -0.0131,  0.0554, -0.0901,  0.0738,  0.0375,  0.1045,  0.0359,\n",
       "                      -0.1340,  0.0005, -0.0602,  0.0842,  0.0283, -0.0201, -0.0855,  0.0435],\n",
       "                     device='cuda:0')),\n",
       "             ('linear_post_rnn.weight',\n",
       "              tensor([[ 3.1699e-05,  1.8070e-05, -2.9846e-04, -2.0921e-04, -2.3639e-05,\n",
       "                        1.6927e-04,  8.7622e-04, -7.0414e-07,  2.3696e-04,  6.3952e-06,\n",
       "                        1.4242e-04,  6.8951e-06,  1.3125e-03, -6.4379e-05,  4.0132e-05,\n",
       "                        1.1604e-05, -5.0481e-05, -1.5871e-04,  4.1738e-04, -1.9004e-04,\n",
       "                        3.3420e-04,  1.4637e-04, -1.8485e-04,  7.9809e-05, -1.3285e-04,\n",
       "                       -1.1879e-04,  1.7192e-04,  4.4917e-04,  4.9060e-05, -1.2610e-04,\n",
       "                        8.2578e-05,  2.0158e-04]], device='cuda:0')),\n",
       "             ('linear_post_rnn.bias', tensor([0.0001], device='cuda:0'))])"
      ]
     },
     "execution_count": 55,
     "metadata": {},
     "output_type": "execute_result"
    }
   ],
   "source": [
    "training.reg_training_loop_rmspe(optimizer=optimizer_norm_ts,model=RNN_model_norm_ts,train_loader=train_loader,val_loader=test_loader,list_train_loss=train_loss,list_val_loss=val_loss,device=device,n_epochs=200,ot_steps=20,report_interval=5,eps=0,scaler=1)"
   ]
  },
  {
   "cell_type": "markdown",
   "id": "e6d7684d",
   "metadata": {},
   "source": [
    "As a remark, I ran above loop twice, the keep learning to same model after the fact. "
   ]
  },
  {
   "cell_type": "code",
   "execution_count": 56,
   "id": "ef1351bc",
   "metadata": {},
   "outputs": [
    {
     "name": "stdout",
     "output_type": "stream",
     "text": [
      "frozen_conv.frozen_conv.weight False\n",
      "linear_proj_input.weight True\n",
      "linear_proj_input.bias True\n",
      "RNN_layer.weight_ih_l0 True\n",
      "RNN_layer.weight_hh_l0 True\n",
      "RNN_layer.bias_ih_l0 True\n",
      "RNN_layer.bias_hh_l0 True\n",
      "linear_post_rnn.weight True\n",
      "linear_post_rnn.bias True\n"
     ]
    }
   ],
   "source": [
    "for name,param in RNN_model_norm_ts.named_parameters():\n",
    "    print(name,param.requires_grad)"
   ]
  },
  {
   "cell_type": "code",
   "execution_count": 57,
   "id": "2bb082d5",
   "metadata": {},
   "outputs": [],
   "source": [
    "train_loss=[x.cpu() for x in train_loss]\n",
    "val_loss=[x.cpu() for x in val_loss]"
   ]
  },
  {
   "cell_type": "code",
   "execution_count": 66,
   "id": "1802af02",
   "metadata": {},
   "outputs": [
    {
     "data": {
      "text/plain": [
       "57"
      ]
     },
     "execution_count": 66,
     "metadata": {},
     "output_type": "execute_result"
    }
   ],
   "source": [
    "len(train_loss)"
   ]
  },
  {
   "cell_type": "code",
   "execution_count": 58,
   "id": "b022072c",
   "metadata": {},
   "outputs": [
    {
     "data": {
      "text/plain": [
       "<matplotlib.collections.PathCollection at 0x7fd07d2c3b20>"
      ]
     },
     "execution_count": 58,
     "metadata": {},
     "output_type": "execute_result"
    },
    {
     "data": {
      "image/png": "[encoded data removed]",
      "text/plain": [
       "<Figure size 640x480 with 1 Axes>"
      ]
     },
     "metadata": {},
     "output_type": "display_data"
    }
   ],
   "source": [
    "import matplotlib.pyplot as plt \n",
    "\n",
    "x=np.arange(len(train_loss))\n",
    "\n",
    "plt.scatter(x,train_loss,c=\"blue\")\n",
    "plt.scatter(x,val_loss,c=\"orange\")"
   ]
  },
  {
   "cell_type": "markdown",
   "id": "cb605a91",
   "metadata": {},
   "source": [
    "It appears that only normalizing input ts is not a good idea. I should consider normalizing both the input and the target. Plus, in above, I fit transformed on both the training and the test set together, that is technically a data leak. "
   ]
  },
  {
   "cell_type": "markdown",
   "id": "2ef78913",
   "metadata": {},
   "source": [
    "## Training with normalization on both input and target "
   ]
  },
  {
   "cell_type": "markdown",
   "id": "64325299",
   "metadata": {},
   "source": [
    "I have added normalization functionality to dataset creation function, so not we can create the train and test datasets without dataleaking. "
   ]
  },
  {
   "cell_type": "code",
   "execution_count": 62,
   "id": "c3ffa765",
   "metadata": {},
   "outputs": [],
   "source": [
    "RNN_model_norm_ts=training.RV_RNN_conv(n_diff=4,rnn_act=\"tanh\",rnn_drop_out=0,rnn_hidden_size=32,proj_dim=32,rnn_num_layer=1,input_scaler=1).to(device=device)"
   ]
  },
  {
   "cell_type": "code",
   "execution_count": 63,
   "id": "1190590d",
   "metadata": {},
   "outputs": [],
   "source": [
    "optimizer_norm_ts=optim.Adam(RNN_model_norm_ts.parameters(),lr=1e-3)"
   ]
  },
  {
   "cell_type": "code",
   "execution_count": 64,
   "id": "2a6245db",
   "metadata": {},
   "outputs": [
    {
     "name": "stderr",
     "output_type": "stream",
     "text": [
      "/home/machine2/Desktop/Realized_Volatility_Prediction_-erdos_deeplearning-/NNetwork/../proj_mod/training.py:301: SettingWithCopyWarning: \n",
      "A value is trying to be set on a copy of a slice from a DataFrame.\n",
      "Try using .loc[row_indexer,col_indexer] = value instead\n",
      "\n",
      "See the caveats in the documentation: https://pandas.pydata.org/pandas-docs/stable/user_guide/indexing.html#returning-a-view-versus-a-copy\n",
      "  df_tab_copy.loc[:,\"sub_int_num\"]=np.nan\n"
     ]
    },
    {
     "name": "stdout",
     "output_type": "stream",
     "text": [
      "Notice: sub_int_RV has been normalized.\n",
      "The mean and std of this feature has been stored in feat_norm_dict\n",
      "Notice: target has been normalized.\n",
      "The mean and std of this feature has been stored in feat_norm_dict\n"
     ]
    }
   ],
   "source": [
    "train_dataset=training.RVdataset(time_id_list=train_time_id,ts_features=[\"sub_int_RV\"],df_ts_feat=df_RV_ts,df_target=df_target,norm_feature_dict={\"sub_int_RV\":None,\"target\":None})"
   ]
  },
  {
   "cell_type": "code",
   "execution_count": 65,
   "id": "4d97d6ba",
   "metadata": {},
   "outputs": [
    {
     "data": {
      "text/plain": [
       "{'sub_int_RV': (np.float64(0.0004411965933048684),\n",
       "  np.float64(0.0005610956509180131)),\n",
       " 'target': (np.float64(0.0038471398027541486),\n",
       "  np.float64(0.0029489987966883967))}"
      ]
     },
     "execution_count": 65,
     "metadata": {},
     "output_type": "execute_result"
    }
   ],
   "source": [
    "train_dataset.feat_norm_dict"
   ]
  },
  {
   "cell_type": "code",
   "execution_count": 66,
   "id": "8b790b76",
   "metadata": {},
   "outputs": [],
   "source": [
    "test_norm_feat_dict=copy.deepcopy(train_dataset.feat_norm_dict) "
   ]
  },
  {
   "cell_type": "code",
   "execution_count": 67,
   "id": "40163bda",
   "metadata": {},
   "outputs": [
    {
     "data": {
      "text/plain": [
       "(np.float64(0.0038471398027541486), np.float64(0.0029489987966883967))"
      ]
     },
     "execution_count": 67,
     "metadata": {},
     "output_type": "execute_result"
    }
   ],
   "source": [
    "test_norm_feat_dict.pop(\"target\")"
   ]
  },
  {
   "cell_type": "code",
   "execution_count": 68,
   "id": "630660e8",
   "metadata": {},
   "outputs": [
    {
     "data": {
      "text/plain": [
       "{'sub_int_RV': (np.float64(0.0004411965933048684),\n",
       "  np.float64(0.0005610956509180131)),\n",
       " 'target': (np.float64(0.0038471398027541486),\n",
       "  np.float64(0.0029489987966883967))}"
      ]
     },
     "execution_count": 68,
     "metadata": {},
     "output_type": "execute_result"
    }
   ],
   "source": [
    "train_dataset.feat_norm_dict"
   ]
  },
  {
   "cell_type": "code",
   "execution_count": 69,
   "id": "ee121136",
   "metadata": {},
   "outputs": [
    {
     "data": {
      "text/plain": [
       "{'sub_int_RV': (np.float64(0.0004411965933048684),\n",
       "  np.float64(0.0005610956509180131))}"
      ]
     },
     "execution_count": 69,
     "metadata": {},
     "output_type": "execute_result"
    }
   ],
   "source": [
    "test_norm_feat_dict"
   ]
  },
  {
   "cell_type": "markdown",
   "id": "9622afc7",
   "metadata": {},
   "source": [
    "As a reminder, do not apply normalization to target of test set. I am choosing to force the target input features to share the same mean and std as the test dataset's corresponding features. "
   ]
  },
  {
   "cell_type": "code",
   "execution_count": 70,
   "id": "de12b187",
   "metadata": {},
   "outputs": [
    {
     "name": "stdout",
     "output_type": "stream",
     "text": [
      "Notice: sub_int_RV has been normalized.\n",
      "The mean and std of this feature has been stored in feat_norm_dict\n"
     ]
    },
    {
     "name": "stderr",
     "output_type": "stream",
     "text": [
      "/home/machine2/Desktop/Realized_Volatility_Prediction_-erdos_deeplearning-/NNetwork/../proj_mod/training.py:301: SettingWithCopyWarning: \n",
      "A value is trying to be set on a copy of a slice from a DataFrame.\n",
      "Try using .loc[row_indexer,col_indexer] = value instead\n",
      "\n",
      "See the caveats in the documentation: https://pandas.pydata.org/pandas-docs/stable/user_guide/indexing.html#returning-a-view-versus-a-copy\n",
      "  df_tab_copy.loc[:,\"sub_int_num\"]=np.nan\n"
     ]
    }
   ],
   "source": [
    "test_dataset=training.RVdataset(time_id_list=test_time_id,ts_features=[\"sub_int_RV\"],df_ts_feat=df_RV_ts,df_target=df_target,norm_feature_dict=test_norm_feat_dict)"
   ]
  },
  {
   "cell_type": "code",
   "execution_count": 71,
   "id": "0f6a5622",
   "metadata": {},
   "outputs": [],
   "source": [
    "train_loader=torch.utils.data.DataLoader(dataset=train_dataset,batch_size=256,shuffle=True)\n",
    "test_loader=torch.utils.data.DataLoader(dataset=test_dataset,batch_size=256,shuffle=True)"
   ]
  },
  {
   "cell_type": "code",
   "execution_count": 72,
   "id": "8c799fee",
   "metadata": {},
   "outputs": [],
   "source": [
    "train_loss=[]\n",
    "val_loss=[]"
   ]
  },
  {
   "cell_type": "code",
   "execution_count": 74,
   "id": "8f5ab2f5",
   "metadata": {},
   "outputs": [
    {
     "name": "stdout",
     "output_type": "stream",
     "text": [
      "At  2.5837647914886475  epoch  1 has training loss  tensor(1.3447, device='cuda:0')  and validation loss  tensor(0.9099, device='cuda:0') .\n",
      "\n",
      "At  13.637297868728638  epoch  5 has training loss  tensor(1.3118, device='cuda:0')  and validation loss  tensor(1.0018, device='cuda:0') .\n",
      "\n",
      "At  27.1261146068573  epoch  10 has training loss  tensor(1.4851, device='cuda:0')  and validation loss  tensor(0.9040, device='cuda:0') .\n",
      "\n",
      "At  40.56305813789368  epoch  15 has training loss  tensor(1.2366, device='cuda:0')  and validation loss  tensor(0.8082, device='cuda:0') .\n",
      "\n",
      "At  53.68483304977417  epoch  20 has training loss  tensor(1.2981, device='cuda:0')  and validation loss  tensor(0.9121, device='cuda:0') .\n",
      "\n",
      "The validation loss has not improved for  20  epochs. Stopping current training loop.\n",
      "\n",
      "Best model state dictionary of this training loop is reloaded.\n",
      "\n",
      "According to validation loss, the best model is reached at epoch 3  with validation loss:  tensor(0.5163, device='cuda:0') .\n",
      " The total number of epoch trained is  23 .\n",
      " Training completed in:  61.67832398414612 .\n",
      "\n"
     ]
    },
    {
     "data": {
      "text/plain": [
       "OrderedDict([('frozen_conv.frozen_conv.weight',\n",
       "              tensor([[[-1.,  1.]]], device='cuda:0')),\n",
       "             ('linear_proj_input.weight',\n",
       "              tensor([[-0.2268, -0.0019, -0.3465, -0.2738, -0.1228],\n",
       "                      [-0.0999, -0.2266, -0.2293, -0.0694, -0.0952],\n",
       "                      [-0.0383, -0.4969, -0.2131,  0.2253,  0.2242],\n",
       "                      [-0.2461, -0.4352,  0.2240, -0.0601,  0.2112],\n",
       "                      [-0.0067, -0.0707,  0.0228, -0.0945, -0.0102],\n",
       "                      [ 0.1255, -0.6107,  0.0357, -0.0999,  0.3328],\n",
       "                      [-0.2015,  0.2577, -0.3704, -0.0780, -0.2736],\n",
       "                      [ 0.2182,  0.1349,  0.3229, -0.2284, -0.0712],\n",
       "                      [-0.1641,  0.0769,  0.0832,  0.5318, -0.0151],\n",
       "                      [-0.0727, -0.2932,  0.3951, -0.1076,  0.2585],\n",
       "                      [-0.0039, -0.7517, -0.3426, -0.0303,  0.2568],\n",
       "                      [ 0.1358, -0.0690,  0.2719,  0.6412,  0.0106],\n",
       "                      [ 0.1946, -0.2323,  0.3590,  0.3431, -0.0573],\n",
       "                      [-0.0599,  0.2281, -0.3253,  0.0285, -0.0559],\n",
       "                      [ 0.0439,  0.2913, -0.2481, -0.1171, -0.1365],\n",
       "                      [-0.1332, -0.0961, -0.3869, -0.0265, -0.0695],\n",
       "                      [ 0.3810, -0.4401,  0.2634,  0.4332,  0.3969],\n",
       "                      [ 0.0426, -0.1661,  0.0030,  0.2567, -0.3862],\n",
       "                      [ 0.0621, -0.1444, -0.0391, -0.5483, -0.4964],\n",
       "                      [ 0.4175, -0.3645,  0.4609, -0.3068,  0.0040],\n",
       "                      [-0.0739,  0.2782, -0.2051, -0.2330, -0.0889],\n",
       "                      [ 0.0439, -0.4327,  0.5004,  0.3449,  0.1530],\n",
       "                      [ 0.1516,  0.3444, -0.2418, -0.2729, -0.0595],\n",
       "                      [-0.1365,  0.1046, -0.3214,  0.3111,  0.1322],\n",
       "                      [ 0.0057,  0.2029, -0.3909,  0.3755,  0.0976],\n",
       "                      [ 0.0225, -0.0973, -0.2030,  0.1679, -0.0451],\n",
       "                      [ 0.2900,  0.1554,  0.3819, -0.2500, -0.2028],\n",
       "                      [-0.0987,  0.1982,  0.1404,  0.1128,  0.2886],\n",
       "                      [-0.4575, -0.2473,  0.3186,  0.2867,  0.3073],\n",
       "                      [ 0.2852,  0.3874,  0.0671,  0.0552, -0.2281],\n",
       "                      [ 0.0008, -0.3619,  0.5666, -0.3160,  0.1828],\n",
       "                      [-0.0131, -0.1812, -0.0105,  0.2978,  0.2776]], device='cuda:0')),\n",
       "             ('linear_proj_input.bias',\n",
       "              tensor([-0.0301,  0.1536,  0.0874, -0.2434, -0.1029, -0.0687,  0.0771,  0.0911,\n",
       "                       0.1655,  0.1231, -0.0512, -0.0010, -0.0572,  0.1174,  0.0321,  0.1141,\n",
       "                      -0.0426,  0.2033,  0.0707, -0.1239,  0.0065, -0.0711,  0.0697,  0.1419,\n",
       "                       0.0246,  0.1075, -0.0401, -0.2144, -0.1454,  0.1909,  0.1528, -0.1198],\n",
       "                     device='cuda:0')),\n",
       "             ('RNN_layer.weight_ih_l0',\n",
       "              tensor([[ 0.2711,  0.2843, -0.1589,  ...,  0.0971, -0.1698, -0.1431],\n",
       "                      [ 0.1211,  0.0686, -0.1140,  ...,  0.2275, -0.3018, -0.1048],\n",
       "                      [ 0.1148, -0.0981, -0.0673,  ...,  0.1262,  0.3705,  0.0032],\n",
       "                      ...,\n",
       "                      [ 0.0980, -0.0798, -0.2622,  ..., -0.0093,  0.0226, -0.1047],\n",
       "                      [ 0.0402, -0.2460,  0.0112,  ..., -0.3164,  0.1137,  0.1737],\n",
       "                      [-0.0382,  0.1294, -0.1002,  ..., -0.0655,  0.1956, -0.2054]],\n",
       "                     device='cuda:0')),\n",
       "             ('RNN_layer.weight_hh_l0',\n",
       "              tensor([[-0.3535, -0.4519,  0.2629,  ...,  0.2155,  0.0845,  0.4486],\n",
       "                      [-0.3808, -0.3348, -0.0815,  ...,  0.0424, -0.0884,  0.0428],\n",
       "                      [ 0.1247,  0.2414, -0.3095,  ..., -0.2372, -0.1903, -0.3722],\n",
       "                      ...,\n",
       "                      [ 0.0461, -0.0718, -0.2147,  ..., -0.3539, -0.2352, -0.0040],\n",
       "                      [ 0.1863, -0.0383, -0.1425,  ..., -0.1721, -0.3129, -0.2100],\n",
       "                      [ 0.0689,  0.4036, -0.0676,  ..., -0.1752, -0.0271, -0.4273]],\n",
       "                     device='cuda:0')),\n",
       "             ('RNN_layer.bias_ih_l0',\n",
       "              tensor([-0.3552, -0.0702,  0.1972, -0.1882, -0.0741, -0.3179, -0.0153, -0.3232,\n",
       "                       0.0753,  0.1271, -0.1983, -0.0404,  0.2048, -0.0308, -0.1680,  0.1437,\n",
       "                      -0.2506, -0.0054,  0.2398, -0.3153,  0.1272,  0.1019,  0.0751, -0.2818,\n",
       "                       0.2148,  0.0704, -0.0728,  0.1893,  0.2956,  0.0073,  0.1487,  0.2204],\n",
       "                     device='cuda:0')),\n",
       "             ('RNN_layer.bias_hh_l0',\n",
       "              tensor([-0.0653, -0.2784, -0.0290, -0.0705, -0.1681, -0.3053,  0.2173, -0.0009,\n",
       "                       0.0221,  0.1680, -0.2058,  0.0542,  0.1882, -0.1566, -0.1952,  0.2267,\n",
       "                      -0.1829,  0.1256,  0.2660, -0.1718,  0.1246,  0.1132,  0.2129, -0.0650,\n",
       "                      -0.0420,  0.1261, -0.3192,  0.1822, -0.0146, -0.0262,  0.2516,  0.4196],\n",
       "                     device='cuda:0')),\n",
       "             ('linear_post_rnn.weight',\n",
       "              tensor([[ 0.0047,  0.0074, -0.0173, -0.0084, -0.0160,  0.0250,  0.0216,  0.0158,\n",
       "                        0.0222, -0.0074, -0.0159, -0.0107, -0.0154, -0.0015,  0.0195,  0.0039,\n",
       "                        0.0111,  0.0134, -0.0111,  0.0014,  0.0049, -0.0080,  0.0004, -0.0053,\n",
       "                        0.0032,  0.0013, -0.0239, -0.0061,  0.0032,  0.0042, -0.0056,  0.0003]],\n",
       "                     device='cuda:0')),\n",
       "             ('linear_post_rnn.bias', tensor([0.0008], device='cuda:0'))])"
      ]
     },
     "execution_count": 74,
     "metadata": {},
     "output_type": "execute_result"
    }
   ],
   "source": [
    "training.reg_training_loop_rmspe(optimizer=optimizer_norm_ts,model=RNN_model_norm_ts,train_loader=train_loader,val_loader=test_loader,list_train_loss=train_loss,list_val_loss=val_loss,device=device,n_epochs=200,ot_steps=20,report_interval=5,eps=0,scaler=1,norm_train_target=True)"
   ]
  },
  {
   "cell_type": "markdown",
   "id": "ea81cbbb",
   "metadata": {},
   "source": [
    "Oh this over trained quickly. "
   ]
  },
  {
   "cell_type": "code",
   "execution_count": 75,
   "id": "0703dbac",
   "metadata": {},
   "outputs": [
    {
     "name": "stdout",
     "output_type": "stream",
     "text": [
      "frozen_conv.frozen_conv.weight False\n",
      "linear_proj_input.weight True\n",
      "linear_proj_input.bias True\n",
      "RNN_layer.weight_ih_l0 True\n",
      "RNN_layer.weight_hh_l0 True\n",
      "RNN_layer.bias_ih_l0 True\n",
      "RNN_layer.bias_hh_l0 True\n",
      "linear_post_rnn.weight True\n",
      "linear_post_rnn.bias True\n"
     ]
    }
   ],
   "source": [
    "for name,param in RNN_model_norm_ts.named_parameters():\n",
    "    print(name,param.requires_grad)"
   ]
  },
  {
   "cell_type": "code",
   "execution_count": 76,
   "id": "20ecaf78",
   "metadata": {},
   "outputs": [],
   "source": [
    "train_loss=[x.cpu() for x in train_loss]\n",
    "val_loss=[x.cpu() for x in val_loss]"
   ]
  },
  {
   "cell_type": "code",
   "execution_count": 77,
   "id": "b859c9b7",
   "metadata": {},
   "outputs": [
    {
     "data": {
      "text/plain": [
       "<matplotlib.collections.PathCollection at 0x7fd07573b700>"
      ]
     },
     "execution_count": 77,
     "metadata": {},
     "output_type": "execute_result"
    },
    {
     "data": {
      "image/png": "[encoded data removed]",
      "text/plain": [
       "<Figure size 640x480 with 1 Axes>"
      ]
     },
     "metadata": {},
     "output_type": "display_data"
    }
   ],
   "source": [
    "import matplotlib.pyplot as plt \n",
    "\n",
    "x=np.linspace(1,len(train_loss),len(train_loss))\n",
    "\n",
    "plt.scatter(x,train_loss,c=\"blue\")\n",
    "plt.scatter(x,val_loss,c=\"orange\")"
   ]
  },
  {
   "cell_type": "markdown",
   "id": "7e44b27b",
   "metadata": {},
   "source": [
    "As of now, the best outcome comes with \"scaling\" the input timeseries by 10000. Maybe adjust the NN a bit? add some linear and conv layers after the RNN? Multiple layers of RNN? We will see. "
   ]
  }
 ],
 "metadata": {
  "kernelspec": {
   "display_name": "Python 3 (ipykernel)",
   "language": "python",
   "name": "python3"
  },
  "language_info": {
   "codemirror_mode": {
    "name": "ipython",
    "version": 3
   },
   "file_extension": ".py",
   "mimetype": "text/x-python",
   "name": "python",
   "nbconvert_exporter": "python",
   "pygments_lexer": "ipython3",
   "version": "3.10.12"
  }
 },
 "nbformat": 4,
 "nbformat_minor": 5
}
