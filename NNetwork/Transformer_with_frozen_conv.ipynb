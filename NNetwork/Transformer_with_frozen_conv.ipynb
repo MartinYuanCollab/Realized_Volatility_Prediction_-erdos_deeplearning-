{
 "cells": [
  {
   "cell_type": "markdown",
   "id": "34faab65",
   "metadata": {},
   "source": [
    "# In this notebook, we attempt in creating an attention based NN to predict the target on the timeseries alone. "
   ]
  },
  {
   "cell_type": "markdown",
   "id": "0b1623fe",
   "metadata": {},
   "source": [
    "We first create an example, then we will generalize it and include it into training.py. "
   ]
  },
  {
   "cell_type": "markdown",
   "id": "3110fa3d",
   "metadata": {},
   "source": [
    "# Import and preparations "
   ]
  },
  {
   "cell_type": "code",
   "execution_count": 1,
   "id": "44ec0051",
   "metadata": {},
   "outputs": [],
   "source": [
    "import sys, importlib\n",
    "import torch \n",
    "import torch.nn as nn\n",
    "import numpy as np\n",
    "import pandas as pd\n",
    "import copy\n",
    "import time\n",
    "\n",
    "sys.path.append(\"../\")\n",
    "from proj_mod import training, data_processing, visualization\n",
    "importlib.reload(training);\n",
    "importlib.reload(data_processing);\n",
    "importlib.reload(visualization);"
   ]
  },
  {
   "cell_type": "code",
   "execution_count": 2,
   "id": "b0d36d44-b3cb-40e6-bbc6-a36c15396f46",
   "metadata": {},
   "outputs": [
    {
     "name": "stdout",
     "output_type": "stream",
     "text": [
      "10.3.0\n"
     ]
    }
   ],
   "source": [
    "#Only run this cell if needed. AMD gpus might need this. Martin, I will remember this. \n",
    "from dotenv import load_dotenv\n",
    "import os\n",
    "\n",
    "load_dotenv(\"../dotenv_env/deep_learning.env\")\n",
    "\n",
    "print(os.environ.get(\"HSA_OVERRIDE_GFX_VERSION\"))"
   ]
  },
  {
   "cell_type": "code",
   "execution_count": 3,
   "id": "9776742b",
   "metadata": {},
   "outputs": [
    {
     "name": "stdout",
     "output_type": "stream",
     "text": [
      "Using device cuda\n"
     ]
    }
   ],
   "source": [
    "device=(torch.device(\"cuda\") if torch.cuda.is_available() else torch.device(\"cpu\"))\n",
    "print(f\"Using device {device}\")"
   ]
  },
  {
   "cell_type": "markdown",
   "id": "75a37b30",
   "metadata": {},
   "source": [
    "# Data preparation "
   ]
  },
  {
   "cell_type": "markdown",
   "id": "795ffb2f",
   "metadata": {},
   "source": [
    "### Load time id order"
   ]
  },
  {
   "cell_type": "code",
   "execution_count": 4,
   "id": "9f295403",
   "metadata": {},
   "outputs": [],
   "source": [
    "list_time=np.load(\"../processed_data/recovered_time_id_order.npy\")"
   ]
  },
  {
   "cell_type": "markdown",
   "id": "24968e95",
   "metadata": {},
   "source": [
    "### Load timeseries "
   ]
  },
  {
   "cell_type": "code",
   "execution_count": 5,
   "id": "9ce645bd",
   "metadata": {},
   "outputs": [],
   "source": [
    "df_RV_ts=pd.read_parquet(\"../processed_data/book_RV_ts_60_si.parquet\")"
   ]
  },
  {
   "cell_type": "markdown",
   "id": "48c789a9",
   "metadata": {},
   "source": [
    "### Load target "
   ]
  },
  {
   "cell_type": "code",
   "execution_count": 6,
   "id": "dfdfdf49",
   "metadata": {},
   "outputs": [
    {
     "data": {
      "text/html": [
       "<div>\n",
       "<style scoped>\n",
       "    .dataframe tbody tr th:only-of-type {\n",
       "        vertical-align: middle;\n",
       "    }\n",
       "\n",
       "    .dataframe tbody tr th {\n",
       "        vertical-align: top;\n",
       "    }\n",
       "\n",
       "    .dataframe thead th {\n",
       "        text-align: right;\n",
       "    }\n",
       "</style>\n",
       "<table border=\"1\" class=\"dataframe\">\n",
       "  <thead>\n",
       "    <tr style=\"text-align: right;\">\n",
       "      <th></th>\n",
       "      <th>stock_id</th>\n",
       "      <th>time_id</th>\n",
       "      <th>target</th>\n",
       "      <th>row_id</th>\n",
       "    </tr>\n",
       "  </thead>\n",
       "  <tbody>\n",
       "    <tr>\n",
       "      <th>0</th>\n",
       "      <td>0</td>\n",
       "      <td>5</td>\n",
       "      <td>0.004136</td>\n",
       "      <td>0-5</td>\n",
       "    </tr>\n",
       "    <tr>\n",
       "      <th>1</th>\n",
       "      <td>0</td>\n",
       "      <td>11</td>\n",
       "      <td>0.001445</td>\n",
       "      <td>0-11</td>\n",
       "    </tr>\n",
       "    <tr>\n",
       "      <th>2</th>\n",
       "      <td>0</td>\n",
       "      <td>16</td>\n",
       "      <td>0.002168</td>\n",
       "      <td>0-16</td>\n",
       "    </tr>\n",
       "    <tr>\n",
       "      <th>3</th>\n",
       "      <td>0</td>\n",
       "      <td>31</td>\n",
       "      <td>0.002195</td>\n",
       "      <td>0-31</td>\n",
       "    </tr>\n",
       "    <tr>\n",
       "      <th>4</th>\n",
       "      <td>0</td>\n",
       "      <td>62</td>\n",
       "      <td>0.001747</td>\n",
       "      <td>0-62</td>\n",
       "    </tr>\n",
       "    <tr>\n",
       "      <th>...</th>\n",
       "      <td>...</td>\n",
       "      <td>...</td>\n",
       "      <td>...</td>\n",
       "      <td>...</td>\n",
       "    </tr>\n",
       "    <tr>\n",
       "      <th>428927</th>\n",
       "      <td>126</td>\n",
       "      <td>32751</td>\n",
       "      <td>0.003461</td>\n",
       "      <td>126-32751</td>\n",
       "    </tr>\n",
       "    <tr>\n",
       "      <th>428928</th>\n",
       "      <td>126</td>\n",
       "      <td>32753</td>\n",
       "      <td>0.003113</td>\n",
       "      <td>126-32753</td>\n",
       "    </tr>\n",
       "    <tr>\n",
       "      <th>428929</th>\n",
       "      <td>126</td>\n",
       "      <td>32758</td>\n",
       "      <td>0.004070</td>\n",
       "      <td>126-32758</td>\n",
       "    </tr>\n",
       "    <tr>\n",
       "      <th>428930</th>\n",
       "      <td>126</td>\n",
       "      <td>32763</td>\n",
       "      <td>0.003357</td>\n",
       "      <td>126-32763</td>\n",
       "    </tr>\n",
       "    <tr>\n",
       "      <th>428931</th>\n",
       "      <td>126</td>\n",
       "      <td>32767</td>\n",
       "      <td>0.002090</td>\n",
       "      <td>126-32767</td>\n",
       "    </tr>\n",
       "  </tbody>\n",
       "</table>\n",
       "<p>428932 rows × 4 columns</p>\n",
       "</div>"
      ],
      "text/plain": [
       "        stock_id  time_id    target     row_id\n",
       "0              0        5  0.004136        0-5\n",
       "1              0       11  0.001445       0-11\n",
       "2              0       16  0.002168       0-16\n",
       "3              0       31  0.002195       0-31\n",
       "4              0       62  0.001747       0-62\n",
       "...          ...      ...       ...        ...\n",
       "428927       126    32751  0.003461  126-32751\n",
       "428928       126    32753  0.003113  126-32753\n",
       "428929       126    32758  0.004070  126-32758\n",
       "428930       126    32763  0.003357  126-32763\n",
       "428931       126    32767  0.002090  126-32767\n",
       "\n",
       "[428932 rows x 4 columns]"
      ]
     },
     "execution_count": 6,
     "metadata": {},
     "output_type": "execute_result"
    }
   ],
   "source": [
    "df_target=pd.read_csv(\"../raw_data/kaggle_ORVP/train.csv\")\n",
    "df_target[\"row_id\"]=df_target[\"stock_id\"].astype(int).astype(str)+\"-\"+df_target[\"time_id\"].astype(int).astype(str)\n",
    "df_target"
   ]
  },
  {
   "cell_type": "markdown",
   "id": "1c116a84",
   "metadata": {},
   "source": [
    "### Create datasets "
   ]
  },
  {
   "cell_type": "code",
   "execution_count": 7,
   "id": "4a7a56d5",
   "metadata": {},
   "outputs": [
    {
     "name": "stdout",
     "output_type": "stream",
     "text": [
      "In fold 0 :\n",
      "\n",
      "Train set end at 8117 .\n",
      "\n",
      "Test set start at 15516 end at 10890 .\n",
      "\n"
     ]
    },
    {
     "name": "stderr",
     "output_type": "stream",
     "text": [
      "/home/ycoeusz/git/Realized_Volatility_Prediction_-erdos_deeplearning-/NNetwork/../proj_mod/training.py:351: SettingWithCopyWarning: \n",
      "A value is trying to be set on a copy of a slice from a DataFrame.\n",
      "Try using .loc[row_indexer,col_indexer] = value instead\n",
      "\n",
      "See the caveats in the documentation: https://pandas.pydata.org/pandas-docs/stable/user_guide/indexing.html#returning-a-view-versus-a-copy\n",
      "  df_tab_copy[\"sub_int_num\"]=np.nan\n",
      "/home/ycoeusz/git/Realized_Volatility_Prediction_-erdos_deeplearning-/NNetwork/../proj_mod/training.py:351: SettingWithCopyWarning: \n",
      "A value is trying to be set on a copy of a slice from a DataFrame.\n",
      "Try using .loc[row_indexer,col_indexer] = value instead\n",
      "\n",
      "See the caveats in the documentation: https://pandas.pydata.org/pandas-docs/stable/user_guide/indexing.html#returning-a-view-versus-a-copy\n",
      "  df_tab_copy[\"sub_int_num\"]=np.nan\n"
     ]
    }
   ],
   "source": [
    "time_split_list=data_processing.time_cross_val_split(list_time=list_time,n_split=1,percent_val_size=10,list_output=True)\n",
    "train_time_id,test_time_id=time_split_list[0][0],time_split_list[0][1]\n",
    "\n",
    "train_dataset=training.RVdataset(time_id_list=train_time_id,ts_features=[\"sub_int_RV\"],tab_features=[\"emb_id\"],df_ts_feat=df_RV_ts,df_target=df_target)\n",
    "test_dataset=training.RVdataset(time_id_list=test_time_id,ts_features=[\"sub_int_RV\"],tab_features=[\"emb_id\"],df_ts_feat=df_RV_ts,df_target=df_target)"
   ]
  },
  {
   "cell_type": "markdown",
   "id": "11addc1e",
   "metadata": {},
   "source": [
    "#### Below is just a reminder of how expand and embedding works "
   ]
  },
  {
   "cell_type": "code",
   "execution_count": 44,
   "id": "d2e36e70",
   "metadata": {},
   "outputs": [],
   "source": [
    "embed=nn.Embedding(num_embeddings=4,embedding_dim=2)\n",
    "out=embed(torch.tensor([[0,1,2,3],[0,1,2,3]]))"
   ]
  },
  {
   "cell_type": "code",
   "execution_count": 45,
   "id": "e7c02435",
   "metadata": {},
   "outputs": [
    {
     "data": {
      "text/plain": [
       "tensor([[[-1.0153, -0.1476],\n",
       "         [ 0.1772,  0.3560],\n",
       "         [ 0.7680, -1.3964],\n",
       "         [-0.3542, -0.3484]],\n",
       "\n",
       "        [[-1.0153, -0.1476],\n",
       "         [ 0.1772,  0.3560],\n",
       "         [ 0.7680, -1.3964],\n",
       "         [-0.3542, -0.3484]]], grad_fn=<EmbeddingBackward0>)"
      ]
     },
     "execution_count": 45,
     "metadata": {},
     "output_type": "execute_result"
    }
   ],
   "source": [
    "out"
   ]
  },
  {
   "cell_type": "code",
   "execution_count": 46,
   "id": "3782818a",
   "metadata": {},
   "outputs": [
    {
     "data": {
      "text/plain": [
       "torch.Size([2, 4, 2])"
      ]
     },
     "execution_count": 46,
     "metadata": {},
     "output_type": "execute_result"
    }
   ],
   "source": [
    "out.shape"
   ]
  },
  {
   "cell_type": "code",
   "execution_count": 47,
   "id": "f4235233",
   "metadata": {},
   "outputs": [
    {
     "data": {
      "text/plain": [
       "tensor([[0, 1, 2, 3],\n",
       "        [0, 1, 2, 3]])"
      ]
     },
     "execution_count": 47,
     "metadata": {},
     "output_type": "execute_result"
    }
   ],
   "source": [
    "torch.tensor([0,1,2,3]).expand(2,4)"
   ]
  },
  {
   "cell_type": "markdown",
   "id": "20f2c8f0",
   "metadata": {},
   "source": [
    "# Create example (encoder based only) transformer model "
   ]
  },
  {
   "cell_type": "code",
   "execution_count": 16,
   "id": "7e557279",
   "metadata": {},
   "outputs": [],
   "source": [
    "class ts_encoder_example(nn.Module):\n",
    "    def __init__(self):\n",
    "        super().__init__()\n",
    "        self.encoder_attn=nn.MultiheadAttention(embed_dim=32,num_heads=4,dropout=0.1,batch_first=True)\n",
    "        self.encoder_norm1=nn.LayerNorm(32)\n",
    "        self.encoder_feedforward=nn.Sequential(\n",
    "            nn.Linear(in_features=32,out_features=64),\n",
    "            nn.ReLU(),\n",
    "            nn.Linear(in_features=64,out_features=32)\n",
    "        )\n",
    "        self.encoder_norm2=nn.LayerNorm(32)\n",
    "        \n",
    "    def forward(self,x):\n",
    "        attn,_=self.encoder_attn(x,x,x)\n",
    "        x=self.encoder_norm1(x+attn)\n",
    "        attn=self.encoder_feedforward(x)\n",
    "        return self.encoder_norm2(x+attn)\n",
    "        \n",
    "\n",
    "class ts_trans_example(nn.Module): \n",
    "    # An example where only encoder is used, the logic behind this is that we only want one value output, it might not be needed to add in decoders (which )\n",
    "    def __init__(self):\n",
    "        super().__init__()\n",
    "        #Frozen conv \n",
    "        self.frozen_conv=training.frozen_diff_conv(n_diff=2) \n",
    "        #Position embedding \n",
    "        self.pos_emb=nn.Embedding(num_embeddings=60,embedding_dim=32) # 60 is the length of our (default) timeseries. \n",
    "        self.ts_proj=nn.Linear(in_features=3,out_features=32)\n",
    "        self.pos_attn=nn.MultiheadAttention(embed_dim=32,batch_first=True,dropout=0.1,num_heads=4)\n",
    "        self.pos_norm=nn.LayerNorm(32) \n",
    "        #Encoder stacking \n",
    "        self.encoder_layers=nn.ModuleList([\n",
    "            ts_encoder_example()\n",
    "            for _ in range(4)\n",
    "        ])\n",
    "        #Final feedforward \n",
    "        self.final_linear=nn.Linear(in_features=32,out_features=1)\n",
    "        \n",
    "        #scaler\n",
    "        self.input_scaler=10000\n",
    "        \n",
    "    def forward(self,x): \n",
    "        #Create and reshape the timeseries tensor \n",
    "        x*=self.input_scaler\n",
    "        x=torch.unsqueeze(x,dim=1)\n",
    "        x=self.frozen_conv(x)\n",
    "        x=x.permute(0,2,1) \n",
    "        # print(x.shape)\n",
    "        x=self.ts_proj(x) # (N, 60, 32) 60 is the timeseries length \n",
    "        #Adding in position for positional impact \n",
    "        pos_id=torch.arange(60, device=x.device).expand(x.shape[0],60)\n",
    "        pos_emb=self.pos_emb(pos_id)\n",
    "        pos,_=self.pos_attn(x,pos_emb,pos_emb)\n",
    "        x=x+pos\n",
    "        x=self.pos_norm(x)\n",
    "        #Run though the encoder layers \n",
    "        for layer in self.encoder_layers: \n",
    "            x=layer(x)\n",
    "        x=self.final_linear(x)\n",
    "        return torch.sum(x,dim=1)/self.input_scaler # (N,1)\n",
    "        \n",
    "        \n",
    "        "
   ]
  },
  {
   "cell_type": "markdown",
   "id": "9ad642fb",
   "metadata": {},
   "source": [
    "### Create loaders"
   ]
  },
  {
   "cell_type": "code",
   "execution_count": 8,
   "id": "90e5e086",
   "metadata": {},
   "outputs": [],
   "source": [
    "train_loader=torch.utils.data.DataLoader(dataset=train_dataset,batch_size=512,shuffle=True, num_workers=4, pin_memory=True)\n",
    "test_loader=torch.utils.data.DataLoader(dataset=test_dataset,batch_size=512,shuffle=True, num_workers =4, pin_memory=True)\n",
    "\n",
    "# Loss tracking\n",
    "train_loss = []\n",
    "val_loss = []"
   ]
  },
  {
   "cell_type": "markdown",
   "id": "9aa7c045",
   "metadata": {},
   "source": [
    "### Init model "
   ]
  },
  {
   "cell_type": "code",
   "execution_count": 18,
   "id": "0f07f440",
   "metadata": {},
   "outputs": [],
   "source": [
    "trans_example_mod=ts_trans_example().to(device=device)\n",
    "\n",
    "import torch.optim as optim\n",
    "\n",
    "optimizer = optim.Adam(trans_example_mod.parameters(), lr=1e-6)"
   ]
  },
  {
   "cell_type": "code",
   "execution_count": 19,
   "id": "1c3d1939",
   "metadata": {},
   "outputs": [
    {
     "data": {
      "text/plain": [
       "=====================================================================================\n",
       "Layer (type:depth-idx)                                       Param #\n",
       "=====================================================================================\n",
       "ts_trans_example                                             --\n",
       "├─frozen_diff_conv: 1-1                                      --\n",
       "│    └─Conv1d: 2-1                                           (2)\n",
       "├─Embedding: 1-2                                             1,920\n",
       "├─Linear: 1-3                                                128\n",
       "├─MultiheadAttention: 1-4                                    3,168\n",
       "│    └─NonDynamicallyQuantizableLinear: 2-2                  1,056\n",
       "├─LayerNorm: 1-5                                             64\n",
       "├─ModuleList: 1-6                                            --\n",
       "│    └─ts_encoder_example: 2-3                               --\n",
       "│    │    └─MultiheadAttention: 3-1                          4,224\n",
       "│    │    └─LayerNorm: 3-2                                   64\n",
       "│    │    └─Sequential: 3-3                                  4,192\n",
       "│    │    └─LayerNorm: 3-4                                   64\n",
       "│    └─ts_encoder_example: 2-4                               --\n",
       "│    │    └─MultiheadAttention: 3-5                          4,224\n",
       "│    │    └─LayerNorm: 3-6                                   64\n",
       "│    │    └─Sequential: 3-7                                  4,192\n",
       "│    │    └─LayerNorm: 3-8                                   64\n",
       "│    └─ts_encoder_example: 2-5                               --\n",
       "│    │    └─MultiheadAttention: 3-9                          4,224\n",
       "│    │    └─LayerNorm: 3-10                                  64\n",
       "│    │    └─Sequential: 3-11                                 4,192\n",
       "│    │    └─LayerNorm: 3-12                                  64\n",
       "│    └─ts_encoder_example: 2-6                               --\n",
       "│    │    └─MultiheadAttention: 3-13                         4,224\n",
       "│    │    └─LayerNorm: 3-14                                  64\n",
       "│    │    └─Sequential: 3-15                                 4,192\n",
       "│    │    └─LayerNorm: 3-16                                  64\n",
       "├─Linear: 1-7                                                33\n",
       "=====================================================================================\n",
       "Total params: 40,547\n",
       "Trainable params: 40,545\n",
       "Non-trainable params: 2\n",
       "====================================================================================="
      ]
     },
     "execution_count": 19,
     "metadata": {},
     "output_type": "execute_result"
    }
   ],
   "source": [
    "from torchinfo import summary\n",
    "summary(trans_example_mod)"
   ]
  },
  {
   "cell_type": "markdown",
   "id": "579fea31",
   "metadata": {},
   "source": [
    "Oh fucks that is a shit ton of tranable parameters. "
   ]
  },
  {
   "cell_type": "markdown",
   "id": "4aa1a9fd",
   "metadata": {},
   "source": [
    "### Training loop "
   ]
  },
  {
   "cell_type": "code",
   "execution_count": 20,
   "id": "f46acbe3",
   "metadata": {
    "scrolled": true
   },
   "outputs": [
    {
     "name": "stdout",
     "output_type": "stream",
     "text": [
      "A new best validation loss at epoch  1  with validation loss of  tensor(0.6353, device='cuda:0')\n",
      "At  18.591132164001465  epoch  1 has training loss  tensor(1.0087, device='cuda:0')  and validation loss  tensor(0.6353, device='cuda:0') .\n",
      "\n",
      "A new best validation loss at epoch  2  with validation loss of  tensor(0.4699, device='cuda:0')\n",
      "A new best validation loss at epoch  3  with validation loss of  tensor(0.4152, device='cuda:0')\n",
      "A new best validation loss at epoch  4  with validation loss of  tensor(0.3846, device='cuda:0')\n",
      "A new best validation loss at epoch  5  with validation loss of  tensor(0.3679, device='cuda:0')\n",
      "At  96.74080228805542  epoch  5 has training loss  tensor(0.3748, device='cuda:0')  and validation loss  tensor(0.3679, device='cuda:0') .\n",
      "\n",
      "A new best validation loss at epoch  6  with validation loss of  tensor(0.3545, device='cuda:0')\n",
      "A new best validation loss at epoch  7  with validation loss of  tensor(0.3415, device='cuda:0')\n",
      "A new best validation loss at epoch  8  with validation loss of  tensor(0.3282, device='cuda:0')\n",
      "A new best validation loss at epoch  9  with validation loss of  tensor(0.3152, device='cuda:0')\n",
      "A new best validation loss at epoch  10  with validation loss of  tensor(0.3032, device='cuda:0')\n",
      "At  194.41964173316956  epoch  10 has training loss  tensor(0.3117, device='cuda:0')  and validation loss  tensor(0.3032, device='cuda:0') .\n",
      "\n",
      "A new best validation loss at epoch  11  with validation loss of  tensor(0.2940, device='cuda:0')\n",
      "A new best validation loss at epoch  12  with validation loss of  tensor(0.2865, device='cuda:0')\n",
      "A new best validation loss at epoch  13  with validation loss of  tensor(0.2807, device='cuda:0')\n",
      "A new best validation loss at epoch  14  with validation loss of  tensor(0.2762, device='cuda:0')\n",
      "A new best validation loss at epoch  15  with validation loss of  tensor(0.2726, device='cuda:0')\n",
      "At  291.5296456813812  epoch  15 has training loss  tensor(0.2840, device='cuda:0')  and validation loss  tensor(0.2726, device='cuda:0') .\n",
      "\n",
      "A new best validation loss at epoch  16  with validation loss of  tensor(0.2698, device='cuda:0')\n",
      "A new best validation loss at epoch  17  with validation loss of  tensor(0.2665, device='cuda:0')\n",
      "A new best validation loss at epoch  18  with validation loss of  tensor(0.2643, device='cuda:0')\n",
      "A new best validation loss at epoch  19  with validation loss of  tensor(0.2619, device='cuda:0')\n",
      "A new best validation loss at epoch  20  with validation loss of  tensor(0.2602, device='cuda:0')\n",
      "At  388.1509554386139  epoch  20 has training loss  tensor(0.2728, device='cuda:0')  and validation loss  tensor(0.2602, device='cuda:0') .\n",
      "\n",
      "A new best validation loss at epoch  21  with validation loss of  tensor(0.2586, device='cuda:0')\n",
      "A new best validation loss at epoch  22  with validation loss of  tensor(0.2570, device='cuda:0')\n",
      "A new best validation loss at epoch  23  with validation loss of  tensor(0.2554, device='cuda:0')\n",
      "A new best validation loss at epoch  24  with validation loss of  tensor(0.2544, device='cuda:0')\n",
      "A new best validation loss at epoch  25  with validation loss of  tensor(0.2532, device='cuda:0')\n",
      "At  486.0998537540436  epoch  25 has training loss  tensor(0.2665, device='cuda:0')  and validation loss  tensor(0.2532, device='cuda:0') .\n",
      "\n",
      "A new best validation loss at epoch  26  with validation loss of  tensor(0.2523, device='cuda:0')\n",
      "A new best validation loss at epoch  27  with validation loss of  tensor(0.2511, device='cuda:0')\n",
      "A new best validation loss at epoch  28  with validation loss of  tensor(0.2507, device='cuda:0')\n",
      "A new best validation loss at epoch  29  with validation loss of  tensor(0.2497, device='cuda:0')\n",
      "A new best validation loss at epoch  30  with validation loss of  tensor(0.2491, device='cuda:0')\n",
      "At  584.3392162322998  epoch  30 has training loss  tensor(0.2626, device='cuda:0')  and validation loss  tensor(0.2491, device='cuda:0') .\n",
      "\n",
      "A new best validation loss at epoch  31  with validation loss of  tensor(0.2483, device='cuda:0')\n",
      "A new best validation loss at epoch  32  with validation loss of  tensor(0.2478, device='cuda:0')\n",
      "A new best validation loss at epoch  33  with validation loss of  tensor(0.2471, device='cuda:0')\n",
      "A new best validation loss at epoch  34  with validation loss of  tensor(0.2466, device='cuda:0')\n",
      "A new best validation loss at epoch  35  with validation loss of  tensor(0.2462, device='cuda:0')\n",
      "At  682.0649039745331  epoch  35 has training loss  tensor(0.2602, device='cuda:0')  and validation loss  tensor(0.2462, device='cuda:0') .\n",
      "\n",
      "A new best validation loss at epoch  36  with validation loss of  tensor(0.2458, device='cuda:0')\n",
      "A new best validation loss at epoch  37  with validation loss of  tensor(0.2454, device='cuda:0')\n",
      "A new best validation loss at epoch  38  with validation loss of  tensor(0.2448, device='cuda:0')\n",
      "A new best validation loss at epoch  40  with validation loss of  tensor(0.2443, device='cuda:0')\n",
      "At  779.2691872119904  epoch  40 has training loss  tensor(0.2586, device='cuda:0')  and validation loss  tensor(0.2443, device='cuda:0') .\n",
      "\n",
      "A new best validation loss at epoch  41  with validation loss of  tensor(0.2442, device='cuda:0')\n",
      "A new best validation loss at epoch  42  with validation loss of  tensor(0.2438, device='cuda:0')\n",
      "A new best validation loss at epoch  43  with validation loss of  tensor(0.2435, device='cuda:0')\n",
      "A new best validation loss at epoch  44  with validation loss of  tensor(0.2433, device='cuda:0')\n",
      "A new best validation loss at epoch  45  with validation loss of  tensor(0.2431, device='cuda:0')\n",
      "At  876.7823143005371  epoch  45 has training loss  tensor(0.2574, device='cuda:0')  and validation loss  tensor(0.2431, device='cuda:0') .\n",
      "\n",
      "A new best validation loss at epoch  46  with validation loss of  tensor(0.2428, device='cuda:0')\n",
      "A new best validation loss at epoch  47  with validation loss of  tensor(0.2425, device='cuda:0')\n",
      "A new best validation loss at epoch  48  with validation loss of  tensor(0.2423, device='cuda:0')\n",
      "A new best validation loss at epoch  50  with validation loss of  tensor(0.2422, device='cuda:0')\n",
      "At  975.1328725814819  epoch  50 has training loss  tensor(0.2565, device='cuda:0')  and validation loss  tensor(0.2422, device='cuda:0') .\n",
      "\n",
      "A new best validation loss at epoch  51  with validation loss of  tensor(0.2418, device='cuda:0')\n",
      "A new best validation loss at epoch  52  with validation loss of  tensor(0.2417, device='cuda:0')\n",
      "A new best validation loss at epoch  53  with validation loss of  tensor(0.2413, device='cuda:0')\n",
      "A new best validation loss at epoch  54  with validation loss of  tensor(0.2413, device='cuda:0')\n",
      "A new best validation loss at epoch  55  with validation loss of  tensor(0.2410, device='cuda:0')\n",
      "At  1073.3780179023743  epoch  55 has training loss  tensor(0.2559, device='cuda:0')  and validation loss  tensor(0.2410, device='cuda:0') .\n",
      "\n",
      "A new best validation loss at epoch  58  with validation loss of  tensor(0.2406, device='cuda:0')\n",
      "A new best validation loss at epoch  59  with validation loss of  tensor(0.2404, device='cuda:0')\n",
      "A new best validation loss at epoch  60  with validation loss of  tensor(0.2403, device='cuda:0')\n",
      "At  1171.6819303035736  epoch  60 has training loss  tensor(0.2554, device='cuda:0')  and validation loss  tensor(0.2403, device='cuda:0') .\n",
      "\n",
      "A new best validation loss at epoch  63  with validation loss of  tensor(0.2400, device='cuda:0')\n",
      "A new best validation loss at epoch  65  with validation loss of  tensor(0.2397, device='cuda:0')\n",
      "At  1268.9588356018066  epoch  65 has training loss  tensor(0.2549, device='cuda:0')  and validation loss  tensor(0.2397, device='cuda:0') .\n",
      "\n",
      "A new best validation loss at epoch  66  with validation loss of  tensor(0.2396, device='cuda:0')\n",
      "A new best validation loss at epoch  68  with validation loss of  tensor(0.2395, device='cuda:0')\n",
      "A new best validation loss at epoch  69  with validation loss of  tensor(0.2394, device='cuda:0')\n",
      "At  1366.3887729644775  epoch  70 has training loss  tensor(0.2545, device='cuda:0')  and validation loss  tensor(0.2396, device='cuda:0') .\n",
      "\n",
      "A new best validation loss at epoch  71  with validation loss of  tensor(0.2392, device='cuda:0')\n",
      "A new best validation loss at epoch  72  with validation loss of  tensor(0.2390, device='cuda:0')\n",
      "A new best validation loss at epoch  75  with validation loss of  tensor(0.2388, device='cuda:0')\n",
      "At  1464.214762210846  epoch  75 has training loss  tensor(0.2542, device='cuda:0')  and validation loss  tensor(0.2388, device='cuda:0') .\n",
      "\n",
      "A new best validation loss at epoch  77  with validation loss of  tensor(0.2386, device='cuda:0')\n",
      "At  1562.1925790309906  epoch  80 has training loss  tensor(0.2539, device='cuda:0')  and validation loss  tensor(0.2389, device='cuda:0') .\n",
      "\n",
      "A new best validation loss at epoch  81  with validation loss of  tensor(0.2385, device='cuda:0')\n",
      "A new best validation loss at epoch  83  with validation loss of  tensor(0.2383, device='cuda:0')\n",
      "At  1660.1552033424377  epoch  85 has training loss  tensor(0.2537, device='cuda:0')  and validation loss  tensor(0.2384, device='cuda:0') .\n",
      "\n",
      "A new best validation loss at epoch  87  with validation loss of  tensor(0.2380, device='cuda:0')\n"
     ]
    },
    {
     "ename": "KeyboardInterrupt",
     "evalue": "",
     "output_type": "error",
     "traceback": [
      "\u001b[31m---------------------------------------------------------------------------\u001b[39m",
      "\u001b[31mKeyboardInterrupt\u001b[39m                         Traceback (most recent call last)",
      "\u001b[36mCell\u001b[39m\u001b[36m \u001b[39m\u001b[32mIn[20]\u001b[39m\u001b[32m, line 1\u001b[39m\n\u001b[32m----> \u001b[39m\u001b[32m1\u001b[39m \u001b[43mtraining\u001b[49m\u001b[43m.\u001b[49m\u001b[43mreg_training_loop_rmspe\u001b[49m\u001b[43m(\u001b[49m\u001b[43moptimizer\u001b[49m\u001b[43m=\u001b[49m\u001b[43moptimizer\u001b[49m\u001b[43m,\u001b[49m\u001b[43mmodel\u001b[49m\u001b[43m=\u001b[49m\u001b[43mtrans_example_mod\u001b[49m\u001b[43m,\u001b[49m\u001b[43mtrain_loader\u001b[49m\u001b[43m=\u001b[49m\u001b[43mtrain_loader\u001b[49m\u001b[43m,\u001b[49m\u001b[43mval_loader\u001b[49m\u001b[43m=\u001b[49m\u001b[43mtest_loader\u001b[49m\u001b[43m,\u001b[49m\u001b[43mot_steps\u001b[49m\u001b[43m=\u001b[49m\u001b[32;43m20\u001b[39;49m\u001b[43m,\u001b[49m\u001b[43mreport_interval\u001b[49m\u001b[43m=\u001b[49m\u001b[32;43m5\u001b[39;49m\u001b[43m,\u001b[49m\u001b[43mn_epochs\u001b[49m\u001b[43m=\u001b[49m\u001b[32;43m200\u001b[39;49m\u001b[43m,\u001b[49m\u001b[43mlist_train_loss\u001b[49m\u001b[43m=\u001b[49m\u001b[43mtrain_loss\u001b[49m\u001b[43m,\u001b[49m\u001b[43mlist_val_loss\u001b[49m\u001b[43m=\u001b[49m\u001b[43mval_loss\u001b[49m\u001b[43m,\u001b[49m\u001b[43mdevice\u001b[49m\u001b[43m=\u001b[49m\u001b[43mdevice\u001b[49m\u001b[43m,\u001b[49m\u001b[43meps\u001b[49m\u001b[43m=\u001b[49m\u001b[32;43m1e-6\u001b[39;49m\u001b[43m)\u001b[49m\n",
      "\u001b[36mFile \u001b[39m\u001b[32m~/git/Realized_Volatility_Prediction_-erdos_deeplearning-/NNetwork/../proj_mod/training.py:170\u001b[39m, in \u001b[36mreg_training_loop_rmspe\u001b[39m\u001b[34m(optimizer, model, train_loader, val_loader, device, ot_steps, recall_best, eps, list_train_loss, list_val_loss, report_interval, n_epochs, scaler, norm_train_target, train_target)\u001b[39m\n\u001b[32m    168\u001b[39m \u001b[38;5;66;03m#Update using optimizer according to loss of the batch\u001b[39;00m\n\u001b[32m    169\u001b[39m optimizer.zero_grad()\n\u001b[32m--> \u001b[39m\u001b[32m170\u001b[39m \u001b[43mloss_step\u001b[49m\u001b[43m.\u001b[49m\u001b[43mbackward\u001b[49m\u001b[43m(\u001b[49m\u001b[43m)\u001b[49m\n\u001b[32m    171\u001b[39m optimizer.step()\n\u001b[32m    172\u001b[39m \u001b[38;5;66;03m# #Create variables for training dataset target mean and std \u001b[39;00m\n\u001b[32m    173\u001b[39m \u001b[38;5;66;03m# train_target_mean=None\u001b[39;00m\n\u001b[32m    174\u001b[39m \u001b[38;5;66;03m# train_target_std=None            \u001b[39;00m\n\u001b[32m    175\u001b[39m \u001b[38;5;66;03m#Update the sum of sqaure (without grad) \u001b[39;00m\n",
      "\u001b[36mFile \u001b[39m\u001b[32m~/.pyenv/versions/deep_learning_3_11_8/lib/python3.11/site-packages/torch/_tensor.py:648\u001b[39m, in \u001b[36mTensor.backward\u001b[39m\u001b[34m(self, gradient, retain_graph, create_graph, inputs)\u001b[39m\n\u001b[32m    638\u001b[39m \u001b[38;5;28;01mif\u001b[39;00m has_torch_function_unary(\u001b[38;5;28mself\u001b[39m):\n\u001b[32m    639\u001b[39m     \u001b[38;5;28;01mreturn\u001b[39;00m handle_torch_function(\n\u001b[32m    640\u001b[39m         Tensor.backward,\n\u001b[32m    641\u001b[39m         (\u001b[38;5;28mself\u001b[39m,),\n\u001b[32m   (...)\u001b[39m\u001b[32m    646\u001b[39m         inputs=inputs,\n\u001b[32m    647\u001b[39m     )\n\u001b[32m--> \u001b[39m\u001b[32m648\u001b[39m \u001b[43mtorch\u001b[49m\u001b[43m.\u001b[49m\u001b[43mautograd\u001b[49m\u001b[43m.\u001b[49m\u001b[43mbackward\u001b[49m\u001b[43m(\u001b[49m\n\u001b[32m    649\u001b[39m \u001b[43m    \u001b[49m\u001b[38;5;28;43mself\u001b[39;49m\u001b[43m,\u001b[49m\u001b[43m \u001b[49m\u001b[43mgradient\u001b[49m\u001b[43m,\u001b[49m\u001b[43m \u001b[49m\u001b[43mretain_graph\u001b[49m\u001b[43m,\u001b[49m\u001b[43m \u001b[49m\u001b[43mcreate_graph\u001b[49m\u001b[43m,\u001b[49m\u001b[43m \u001b[49m\u001b[43minputs\u001b[49m\u001b[43m=\u001b[49m\u001b[43minputs\u001b[49m\n\u001b[32m    650\u001b[39m \u001b[43m\u001b[49m\u001b[43m)\u001b[49m\n",
      "\u001b[36mFile \u001b[39m\u001b[32m~/.pyenv/versions/deep_learning_3_11_8/lib/python3.11/site-packages/torch/autograd/__init__.py:354\u001b[39m, in \u001b[36mbackward\u001b[39m\u001b[34m(tensors, grad_tensors, retain_graph, create_graph, grad_variables, inputs)\u001b[39m\n\u001b[32m    349\u001b[39m     retain_graph = create_graph\n\u001b[32m    351\u001b[39m \u001b[38;5;66;03m# The reason we repeat the same comment below is that\u001b[39;00m\n\u001b[32m    352\u001b[39m \u001b[38;5;66;03m# some Python versions print out the first line of a multi-line function\u001b[39;00m\n\u001b[32m    353\u001b[39m \u001b[38;5;66;03m# calls in the traceback and some print out the last line\u001b[39;00m\n\u001b[32m--> \u001b[39m\u001b[32m354\u001b[39m \u001b[43m_engine_run_backward\u001b[49m\u001b[43m(\u001b[49m\n\u001b[32m    355\u001b[39m \u001b[43m    \u001b[49m\u001b[43mtensors\u001b[49m\u001b[43m,\u001b[49m\n\u001b[32m    356\u001b[39m \u001b[43m    \u001b[49m\u001b[43mgrad_tensors_\u001b[49m\u001b[43m,\u001b[49m\n\u001b[32m    357\u001b[39m \u001b[43m    \u001b[49m\u001b[43mretain_graph\u001b[49m\u001b[43m,\u001b[49m\n\u001b[32m    358\u001b[39m \u001b[43m    \u001b[49m\u001b[43mcreate_graph\u001b[49m\u001b[43m,\u001b[49m\n\u001b[32m    359\u001b[39m \u001b[43m    \u001b[49m\u001b[43minputs_tuple\u001b[49m\u001b[43m,\u001b[49m\n\u001b[32m    360\u001b[39m \u001b[43m    \u001b[49m\u001b[43mallow_unreachable\u001b[49m\u001b[43m=\u001b[49m\u001b[38;5;28;43;01mTrue\u001b[39;49;00m\u001b[43m,\u001b[49m\n\u001b[32m    361\u001b[39m \u001b[43m    \u001b[49m\u001b[43maccumulate_grad\u001b[49m\u001b[43m=\u001b[49m\u001b[38;5;28;43;01mTrue\u001b[39;49;00m\u001b[43m,\u001b[49m\n\u001b[32m    362\u001b[39m \u001b[43m\u001b[49m\u001b[43m)\u001b[49m\n",
      "\u001b[36mFile \u001b[39m\u001b[32m~/.pyenv/versions/deep_learning_3_11_8/lib/python3.11/site-packages/torch/autograd/graph.py:829\u001b[39m, in \u001b[36m_engine_run_backward\u001b[39m\u001b[34m(t_outputs, *args, **kwargs)\u001b[39m\n\u001b[32m    827\u001b[39m     unregister_hooks = _register_logging_hooks_on_whole_graph(t_outputs)\n\u001b[32m    828\u001b[39m \u001b[38;5;28;01mtry\u001b[39;00m:\n\u001b[32m--> \u001b[39m\u001b[32m829\u001b[39m     \u001b[38;5;28;01mreturn\u001b[39;00m \u001b[43mVariable\u001b[49m\u001b[43m.\u001b[49m\u001b[43m_execution_engine\u001b[49m\u001b[43m.\u001b[49m\u001b[43mrun_backward\u001b[49m\u001b[43m(\u001b[49m\u001b[43m  \u001b[49m\u001b[38;5;66;43;03m# Calls into the C++ engine to run the backward pass\u001b[39;49;00m\n\u001b[32m    830\u001b[39m \u001b[43m        \u001b[49m\u001b[43mt_outputs\u001b[49m\u001b[43m,\u001b[49m\u001b[43m \u001b[49m\u001b[43m*\u001b[49m\u001b[43margs\u001b[49m\u001b[43m,\u001b[49m\u001b[43m \u001b[49m\u001b[43m*\u001b[49m\u001b[43m*\u001b[49m\u001b[43mkwargs\u001b[49m\n\u001b[32m    831\u001b[39m \u001b[43m    \u001b[49m\u001b[43m)\u001b[49m  \u001b[38;5;66;03m# Calls into the C++ engine to run the backward pass\u001b[39;00m\n\u001b[32m    832\u001b[39m \u001b[38;5;28;01mfinally\u001b[39;00m:\n\u001b[32m    833\u001b[39m     \u001b[38;5;28;01mif\u001b[39;00m attach_logging_hooks:\n",
      "\u001b[31mKeyboardInterrupt\u001b[39m: "
     ]
    }
   ],
   "source": [
    "training.reg_training_loop_rmspe(optimizer=optimizer,model=trans_example_mod,train_loader=train_loader,val_loader=test_loader,ot_steps=20,report_interval=5,n_epochs=200,list_train_loss=train_loss,list_val_loss=val_loss,device=device,eps=1e-6)"
   ]
  },
  {
   "cell_type": "code",
   "execution_count": 61,
   "id": "49bef0a3-7443-4a5d-bd8d-0427f9ab5662",
   "metadata": {},
   "outputs": [],
   "source": [
    "# torch.save(train_loss, \"train_loss_trans.pt\")\n",
    "# torch.save(val_loss, \"val_loss_trans.pt\")\n",
    "\n",
    "train_loss = torch.load(\"train_loss_trans.pt\")\n",
    "val_loss = torch.load(\"val_loss_trans.pt\")"
   ]
  },
  {
   "cell_type": "code",
   "execution_count": 62,
   "id": "1f82814f-312e-4216-b0f0-8defde6f9f66",
   "metadata": {},
   "outputs": [
    {
     "data": {
      "image/png": "[encoded data removed]",
      "text/plain": [
       "<Figure size 1500x1125 with 1 Axes>"
      ]
     },
     "metadata": {},
     "output_type": "display_data"
    }
   ],
   "source": [
    "from proj_mod import visualization\n",
    "\n",
    "train_loss_cut = train_loss[10:]\n",
    "val_loss_cut = val_loss[10:]\n",
    "\n",
    "vis_dict={(\"transformer\",\"model\"):{\"train_loss\": train_loss_cut,\"val_loss\": val_loss_cut}}\n",
    "visualization.training_plots(vis_dict)"
   ]
  },
  {
   "cell_type": "markdown",
   "id": "3ebff02c",
   "metadata": {},
   "source": [
    "# A Transformer (encoder only) model that we can play with. "
   ]
  },
  {
   "cell_type": "markdown",
   "id": "7d378155",
   "metadata": {},
   "source": [
    "### Create loaders "
   ]
  },
  {
   "cell_type": "code",
   "execution_count": 9,
   "id": "234f856a",
   "metadata": {},
   "outputs": [],
   "source": [
    "train_loader=torch.utils.data.DataLoader(dataset=train_dataset,batch_size=512,shuffle=True, num_workers=4, pin_memory=True)\n",
    "test_loader=torch.utils.data.DataLoader(dataset=test_dataset,batch_size=512,shuffle=True, num_workers =4, pin_memory=True)\n",
    "\n",
    "# Loss tracking\n",
    "train_loss = []\n",
    "val_loss = []"
   ]
  },
  {
   "cell_type": "markdown",
   "id": "dcc0276d",
   "metadata": {},
   "source": [
    "### * A model that \"do not keep magnitude signal\". "
   ]
  },
  {
   "cell_type": "markdown",
   "id": "cd466b14",
   "metadata": {},
   "source": [
    "#### Create sub models and list needed. "
   ]
  },
  {
   "cell_type": "code",
   "execution_count": 10,
   "id": "65c7a5fb",
   "metadata": {},
   "outputs": [],
   "source": [
    "pos_embedder=training.pos_emb_cross_attn(length=60,ts_dim=3,emb_dim=32,dropout=0.2,num_heads=4).to(device=device)\n",
    "ts_encoder_ff_layer=[\n",
    "    nn.Linear(in_features=32,out_features=64),\n",
    "    nn.ReLU(),\n",
    "    nn.Linear(in_features=64,out_features=32)\n",
    "]\n",
    "# ts_encoder=training.ts_encoder(ts_dim=32, dropout=0.2, num_heads=4, feedforward_layers=ts_encoder_ff_layer).to(device=device)\n",
    "output_ff=nn.Sequential(\n",
    "    nn.Linear(in_features=32,out_features=1)\n",
    ").to(device=device)"
   ]
  },
  {
   "cell_type": "markdown",
   "id": "bd732f40",
   "metadata": {},
   "source": [
    "#### Create the full model "
   ]
  },
  {
   "cell_type": "code",
   "execution_count": 11,
   "id": "07b2afd8",
   "metadata": {},
   "outputs": [],
   "source": [
    "trans_encoder_model=training.encoder_ensemble(pos_emb_model=pos_embedder,output_feedforward=output_ff,n_diff=2,encoder_layer_num=4,input_scaler=10000,encoder_dropout=0.2,encoder_feedforward_list=ts_encoder_ff_layer,encoder_num_heads=4,ts_emb_dim=32).to(device=device)"
   ]
  },
  {
   "cell_type": "code",
   "execution_count": 12,
   "id": "82a258bd",
   "metadata": {},
   "outputs": [],
   "source": [
    "import torch.optim as optim\n",
    "\n",
    "optimizer = optim.AdamW(trans_encoder_model.parameters(), lr=1e-6)"
   ]
  },
  {
   "cell_type": "code",
   "execution_count": 13,
   "id": "168f22d6",
   "metadata": {},
   "outputs": [
    {
     "data": {
      "text/plain": [
       "=====================================================================================\n",
       "Layer (type:depth-idx)                                       Param #\n",
       "=====================================================================================\n",
       "encoder_ensemble                                             --\n",
       "├─frozen_diff_conv: 1-1                                      --\n",
       "│    └─Conv1d: 2-1                                           (2)\n",
       "├─pos_emb_cross_attn: 1-2                                    --\n",
       "│    └─Linear: 2-2                                           128\n",
       "│    └─Embedding: 2-3                                        1,920\n",
       "│    └─MultiheadAttention: 2-4                               3,168\n",
       "│    │    └─NonDynamicallyQuantizableLinear: 3-1             1,056\n",
       "│    └─LayerNorm: 2-5                                        64\n",
       "├─ModuleList: 1-3                                            --\n",
       "│    └─ts_encoder: 2-6                                       --\n",
       "│    │    └─MultiheadAttention: 3-2                          4,224\n",
       "│    │    └─LayerNorm: 3-3                                   64\n",
       "│    │    └─ModuleList: 3-4                                  4,192\n",
       "│    │    └─LayerNorm: 3-5                                   64\n",
       "│    └─ts_encoder: 2-7                                       --\n",
       "│    │    └─MultiheadAttention: 3-6                          4,224\n",
       "│    │    └─LayerNorm: 3-7                                   64\n",
       "│    │    └─ModuleList: 3-8                                  4,192\n",
       "│    │    └─LayerNorm: 3-9                                   64\n",
       "│    └─ts_encoder: 2-8                                       --\n",
       "│    │    └─MultiheadAttention: 3-10                         4,224\n",
       "│    │    └─LayerNorm: 3-11                                  64\n",
       "│    │    └─ModuleList: 3-12                                 4,192\n",
       "│    │    └─LayerNorm: 3-13                                  64\n",
       "│    └─ts_encoder: 2-9                                       --\n",
       "│    │    └─MultiheadAttention: 3-14                         4,224\n",
       "│    │    └─LayerNorm: 3-15                                  64\n",
       "│    │    └─ModuleList: 3-16                                 4,192\n",
       "│    │    └─LayerNorm: 3-17                                  64\n",
       "├─Sequential: 1-4                                            --\n",
       "│    └─Linear: 2-10                                          33\n",
       "=====================================================================================\n",
       "Total params: 40,547\n",
       "Trainable params: 40,545\n",
       "Non-trainable params: 2\n",
       "====================================================================================="
      ]
     },
     "execution_count": 13,
     "metadata": {},
     "output_type": "execute_result"
    }
   ],
   "source": [
    "from torchinfo import summary\n",
    "summary(trans_encoder_model)"
   ]
  },
  {
   "cell_type": "code",
   "execution_count": 72,
   "id": "ef42732f",
   "metadata": {},
   "outputs": [
    {
     "name": "stdout",
     "output_type": "stream",
     "text": [
      "A new best validation loss at epoch  1  with validation loss of  tensor(0.5454, device='cuda:0')\n",
      "At  18.762203693389893  epoch  1 has training loss  tensor(0.6175, device='cuda:0')  and validation loss  tensor(0.5454, device='cuda:0') .\n",
      "\n",
      "A new best validation loss at epoch  2  with validation loss of  tensor(0.4970, device='cuda:0')\n",
      "A new best validation loss at epoch  3  with validation loss of  tensor(0.4600, device='cuda:0')\n",
      "A new best validation loss at epoch  4  with validation loss of  tensor(0.4301, device='cuda:0')\n",
      "A new best validation loss at epoch  5  with validation loss of  tensor(0.4061, device='cuda:0')\n",
      "At  98.85857105255127  epoch  5 has training loss  tensor(0.4164, device='cuda:0')  and validation loss  tensor(0.4061, device='cuda:0') .\n",
      "\n",
      "A new best validation loss at epoch  6  with validation loss of  tensor(0.3867, device='cuda:0')\n",
      "A new best validation loss at epoch  7  with validation loss of  tensor(0.3710, device='cuda:0')\n",
      "A new best validation loss at epoch  8  with validation loss of  tensor(0.3572, device='cuda:0')\n",
      "A new best validation loss at epoch  9  with validation loss of  tensor(0.3447, device='cuda:0')\n",
      "A new best validation loss at epoch  10  with validation loss of  tensor(0.3329, device='cuda:0')\n",
      "At  197.73416996002197  epoch  10 has training loss  tensor(0.3400, device='cuda:0')  and validation loss  tensor(0.3329, device='cuda:0') .\n",
      "\n"
     ]
    },
    {
     "ename": "KeyboardInterrupt",
     "evalue": "",
     "output_type": "error",
     "traceback": [
      "\u001b[31m---------------------------------------------------------------------------\u001b[39m",
      "\u001b[31mKeyboardInterrupt\u001b[39m                         Traceback (most recent call last)",
      "\u001b[36mCell\u001b[39m\u001b[36m \u001b[39m\u001b[32mIn[72]\u001b[39m\u001b[32m, line 1\u001b[39m\n\u001b[32m----> \u001b[39m\u001b[32m1\u001b[39m \u001b[43mtraining\u001b[49m\u001b[43m.\u001b[49m\u001b[43mreg_training_loop_rmspe\u001b[49m\u001b[43m(\u001b[49m\u001b[43moptimizer\u001b[49m\u001b[43m=\u001b[49m\u001b[43moptimizer\u001b[49m\u001b[43m,\u001b[49m\u001b[43mmodel\u001b[49m\u001b[43m=\u001b[49m\u001b[43mtrans_encoder_model\u001b[49m\u001b[43m,\u001b[49m\u001b[43mtrain_loader\u001b[49m\u001b[43m=\u001b[49m\u001b[43mtrain_loader\u001b[49m\u001b[43m,\u001b[49m\u001b[43mval_loader\u001b[49m\u001b[43m=\u001b[49m\u001b[43mtest_loader\u001b[49m\u001b[43m,\u001b[49m\u001b[43mot_steps\u001b[49m\u001b[43m=\u001b[49m\u001b[32;43m20\u001b[39;49m\u001b[43m,\u001b[49m\u001b[43mreport_interval\u001b[49m\u001b[43m=\u001b[49m\u001b[32;43m5\u001b[39;49m\u001b[43m,\u001b[49m\u001b[43mn_epochs\u001b[49m\u001b[43m=\u001b[49m\u001b[32;43m200\u001b[39;49m\u001b[43m,\u001b[49m\u001b[43mlist_train_loss\u001b[49m\u001b[43m=\u001b[49m\u001b[43mtrain_loss\u001b[49m\u001b[43m,\u001b[49m\u001b[43mlist_val_loss\u001b[49m\u001b[43m=\u001b[49m\u001b[43mval_loss\u001b[49m\u001b[43m,\u001b[49m\u001b[43mdevice\u001b[49m\u001b[43m=\u001b[49m\u001b[43mdevice\u001b[49m\u001b[43m,\u001b[49m\u001b[43meps\u001b[49m\u001b[43m=\u001b[49m\u001b[32;43m1e-6\u001b[39;49m\u001b[43m)\u001b[49m\n",
      "\u001b[36mFile \u001b[39m\u001b[32m~/git/Realized_Volatility_Prediction_-erdos_deeplearning-/NNetwork/../proj_mod/training.py:192\u001b[39m, in \u001b[36mreg_training_loop_rmspe\u001b[39m\u001b[34m(optimizer, model, train_loader, val_loader, device, ot_steps, recall_best, eps, list_train_loss, list_val_loss, report_interval, n_epochs, scaler, norm_train_target, train_target)\u001b[39m\n\u001b[32m    190\u001b[39m     epoch_train_loss=torch.sqrt(sum_of_sqaure_train/total_data_count)\n\u001b[32m    191\u001b[39m \u001b[38;5;66;03m#Calculate the validation loss of this epoch (without grad, citing another function)\u001b[39;00m\n\u001b[32m--> \u001b[39m\u001b[32m192\u001b[39m epoch_val_loss=\u001b[43mreg_validator_rmspe\u001b[49m\u001b[43m(\u001b[49m\u001b[43mmodel\u001b[49m\u001b[43m=\u001b[49m\u001b[43mmodel\u001b[49m\u001b[43m,\u001b[49m\u001b[43mval_loader\u001b[49m\u001b[43m=\u001b[49m\u001b[43mval_loader\u001b[49m\u001b[43m,\u001b[49m\u001b[43meps\u001b[49m\u001b[43m=\u001b[49m\u001b[43meps\u001b[49m\u001b[43m,\u001b[49m\u001b[43mdevice\u001b[49m\u001b[43m=\u001b[49m\u001b[43mdevice\u001b[49m\u001b[43m,\u001b[49m\u001b[43mscaler\u001b[49m\u001b[43m=\u001b[49m\u001b[43mscaler\u001b[49m\u001b[43m,\u001b[49m\u001b[43mnorm_train_target\u001b[49m\u001b[43m=\u001b[49m\u001b[43mnorm_train_target\u001b[49m\u001b[43m,\u001b[49m\u001b[43mtrain_target_mean\u001b[49m\u001b[43m=\u001b[49m\u001b[43mtrain_target_mean\u001b[49m\u001b[43m,\u001b[49m\u001b[43mtrain_target_std\u001b[49m\u001b[43m=\u001b[49m\u001b[43mtrain_target_std\u001b[49m\u001b[43m)\u001b[49m\n\u001b[32m    193\u001b[39m \u001b[38;5;66;03m#Update the best validation loss and the epoch that it occurred     \u001b[39;00m\n\u001b[32m    194\u001b[39m \u001b[38;5;28;01mif\u001b[39;00m ((epoch==\u001b[32m1\u001b[39m) \u001b[38;5;129;01mor\u001b[39;00m (epoch_val_loss<best_val_loss)): \n",
      "\u001b[36mFile \u001b[39m\u001b[32m~/git/Realized_Volatility_Prediction_-erdos_deeplearning-/NNetwork/../proj_mod/training.py:87\u001b[39m, in \u001b[36mreg_validator_rmspe\u001b[39m\u001b[34m(model, val_loader, device, eps, scaler, norm_train_target, train_target_mean, train_target_std)\u001b[39m\n\u001b[32m     85\u001b[39m     \u001b[38;5;28;01mreturn\u001b[39;00m \u001b[38;5;28;01mNone\u001b[39;00m\n\u001b[32m     86\u001b[39m \u001b[38;5;28;01mwith\u001b[39;00m torch.no_grad():\n\u001b[32m---> \u001b[39m\u001b[32m87\u001b[39m \u001b[43m    \u001b[49m\u001b[38;5;28;43;01mfor\u001b[39;49;00m\u001b[43m \u001b[49m\u001b[43mfeature\u001b[49m\u001b[43m,\u001b[49m\u001b[43m \u001b[49m\u001b[43mtarget\u001b[49m\u001b[43m \u001b[49m\u001b[38;5;129;43;01min\u001b[39;49;00m\u001b[43m \u001b[49m\u001b[43mval_loader\u001b[49m\u001b[43m:\u001b[49m\u001b[43m \u001b[49m\n\u001b[32m     88\u001b[39m \u001b[43m        \u001b[49m\u001b[43mfeature\u001b[49m\u001b[43m*\u001b[49m\u001b[43m=\u001b[49m\u001b[43mscaler\u001b[49m\n\u001b[32m     89\u001b[39m \u001b[43m        \u001b[49m\u001b[43mtarget\u001b[49m\u001b[43m*\u001b[49m\u001b[43m=\u001b[49m\u001b[43mscaler\u001b[49m\n",
      "\u001b[36mFile \u001b[39m\u001b[32m~/.pyenv/versions/deep_learning_3_11_8/lib/python3.11/site-packages/torch/utils/data/dataloader.py:495\u001b[39m, in \u001b[36mDataLoader.__iter__\u001b[39m\u001b[34m(self)\u001b[39m\n\u001b[32m    493\u001b[39m     \u001b[38;5;28;01mreturn\u001b[39;00m \u001b[38;5;28mself\u001b[39m._iterator\n\u001b[32m    494\u001b[39m \u001b[38;5;28;01melse\u001b[39;00m:\n\u001b[32m--> \u001b[39m\u001b[32m495\u001b[39m     \u001b[38;5;28;01mreturn\u001b[39;00m \u001b[38;5;28;43mself\u001b[39;49m\u001b[43m.\u001b[49m\u001b[43m_get_iterator\u001b[49m\u001b[43m(\u001b[49m\u001b[43m)\u001b[49m\n",
      "\u001b[36mFile \u001b[39m\u001b[32m~/.pyenv/versions/deep_learning_3_11_8/lib/python3.11/site-packages/torch/utils/data/dataloader.py:428\u001b[39m, in \u001b[36mDataLoader._get_iterator\u001b[39m\u001b[34m(self)\u001b[39m\n\u001b[32m    426\u001b[39m \u001b[38;5;28;01melse\u001b[39;00m:\n\u001b[32m    427\u001b[39m     \u001b[38;5;28mself\u001b[39m.check_worker_number_rationality()\n\u001b[32m--> \u001b[39m\u001b[32m428\u001b[39m     \u001b[38;5;28;01mreturn\u001b[39;00m \u001b[43m_MultiProcessingDataLoaderIter\u001b[49m\u001b[43m(\u001b[49m\u001b[38;5;28;43mself\u001b[39;49m\u001b[43m)\u001b[49m\n",
      "\u001b[36mFile \u001b[39m\u001b[32m~/.pyenv/versions/deep_learning_3_11_8/lib/python3.11/site-packages/torch/utils/data/dataloader.py:1173\u001b[39m, in \u001b[36m_MultiProcessingDataLoaderIter.__init__\u001b[39m\u001b[34m(self, loader)\u001b[39m\n\u001b[32m   1166\u001b[39m w.daemon = \u001b[38;5;28;01mTrue\u001b[39;00m\n\u001b[32m   1167\u001b[39m \u001b[38;5;66;03m# NB: Process.start() actually take some time as it needs to\u001b[39;00m\n\u001b[32m   1168\u001b[39m \u001b[38;5;66;03m#     start a process and pass the arguments over via a pipe.\u001b[39;00m\n\u001b[32m   1169\u001b[39m \u001b[38;5;66;03m#     Therefore, we only add a worker to self._workers list after\u001b[39;00m\n\u001b[32m   1170\u001b[39m \u001b[38;5;66;03m#     it started, so that we do not call .join() if program dies\u001b[39;00m\n\u001b[32m   1171\u001b[39m \u001b[38;5;66;03m#     before it starts, and __del__ tries to join but will get:\u001b[39;00m\n\u001b[32m   1172\u001b[39m \u001b[38;5;66;03m#     AssertionError: can only join a started process.\u001b[39;00m\n\u001b[32m-> \u001b[39m\u001b[32m1173\u001b[39m \u001b[43mw\u001b[49m\u001b[43m.\u001b[49m\u001b[43mstart\u001b[49m\u001b[43m(\u001b[49m\u001b[43m)\u001b[49m\n\u001b[32m   1174\u001b[39m \u001b[38;5;28mself\u001b[39m._index_queues.append(index_queue)\n\u001b[32m   1175\u001b[39m \u001b[38;5;28mself\u001b[39m._workers.append(w)\n",
      "\u001b[36mFile \u001b[39m\u001b[32m~/.pyenv/versions/3.11.8/lib/python3.11/multiprocessing/process.py:121\u001b[39m, in \u001b[36mBaseProcess.start\u001b[39m\u001b[34m(self)\u001b[39m\n\u001b[32m    118\u001b[39m \u001b[38;5;28;01massert\u001b[39;00m \u001b[38;5;129;01mnot\u001b[39;00m _current_process._config.get(\u001b[33m'\u001b[39m\u001b[33mdaemon\u001b[39m\u001b[33m'\u001b[39m), \\\n\u001b[32m    119\u001b[39m        \u001b[33m'\u001b[39m\u001b[33mdaemonic processes are not allowed to have children\u001b[39m\u001b[33m'\u001b[39m\n\u001b[32m    120\u001b[39m _cleanup()\n\u001b[32m--> \u001b[39m\u001b[32m121\u001b[39m \u001b[38;5;28mself\u001b[39m._popen = \u001b[38;5;28;43mself\u001b[39;49m\u001b[43m.\u001b[49m\u001b[43m_Popen\u001b[49m\u001b[43m(\u001b[49m\u001b[38;5;28;43mself\u001b[39;49m\u001b[43m)\u001b[49m\n\u001b[32m    122\u001b[39m \u001b[38;5;28mself\u001b[39m._sentinel = \u001b[38;5;28mself\u001b[39m._popen.sentinel\n\u001b[32m    123\u001b[39m \u001b[38;5;66;03m# Avoid a refcycle if the target function holds an indirect\u001b[39;00m\n\u001b[32m    124\u001b[39m \u001b[38;5;66;03m# reference to the process object (see bpo-30775)\u001b[39;00m\n",
      "\u001b[36mFile \u001b[39m\u001b[32m~/.pyenv/versions/3.11.8/lib/python3.11/multiprocessing/context.py:224\u001b[39m, in \u001b[36mProcess._Popen\u001b[39m\u001b[34m(process_obj)\u001b[39m\n\u001b[32m    222\u001b[39m \u001b[38;5;129m@staticmethod\u001b[39m\n\u001b[32m    223\u001b[39m \u001b[38;5;28;01mdef\u001b[39;00m\u001b[38;5;250m \u001b[39m\u001b[34m_Popen\u001b[39m(process_obj):\n\u001b[32m--> \u001b[39m\u001b[32m224\u001b[39m     \u001b[38;5;28;01mreturn\u001b[39;00m \u001b[43m_default_context\u001b[49m\u001b[43m.\u001b[49m\u001b[43mget_context\u001b[49m\u001b[43m(\u001b[49m\u001b[43m)\u001b[49m\u001b[43m.\u001b[49m\u001b[43mProcess\u001b[49m\u001b[43m.\u001b[49m\u001b[43m_Popen\u001b[49m\u001b[43m(\u001b[49m\u001b[43mprocess_obj\u001b[49m\u001b[43m)\u001b[49m\n",
      "\u001b[36mFile \u001b[39m\u001b[32m~/.pyenv/versions/3.11.8/lib/python3.11/multiprocessing/context.py:281\u001b[39m, in \u001b[36mForkProcess._Popen\u001b[39m\u001b[34m(process_obj)\u001b[39m\n\u001b[32m    278\u001b[39m \u001b[38;5;129m@staticmethod\u001b[39m\n\u001b[32m    279\u001b[39m \u001b[38;5;28;01mdef\u001b[39;00m\u001b[38;5;250m \u001b[39m\u001b[34m_Popen\u001b[39m(process_obj):\n\u001b[32m    280\u001b[39m     \u001b[38;5;28;01mfrom\u001b[39;00m\u001b[38;5;250m \u001b[39m\u001b[34;01m.\u001b[39;00m\u001b[34;01mpopen_fork\u001b[39;00m\u001b[38;5;250m \u001b[39m\u001b[38;5;28;01mimport\u001b[39;00m Popen\n\u001b[32m--> \u001b[39m\u001b[32m281\u001b[39m     \u001b[38;5;28;01mreturn\u001b[39;00m \u001b[43mPopen\u001b[49m\u001b[43m(\u001b[49m\u001b[43mprocess_obj\u001b[49m\u001b[43m)\u001b[49m\n",
      "\u001b[36mFile \u001b[39m\u001b[32m~/.pyenv/versions/3.11.8/lib/python3.11/multiprocessing/popen_fork.py:19\u001b[39m, in \u001b[36mPopen.__init__\u001b[39m\u001b[34m(self, process_obj)\u001b[39m\n\u001b[32m     17\u001b[39m \u001b[38;5;28mself\u001b[39m.returncode = \u001b[38;5;28;01mNone\u001b[39;00m\n\u001b[32m     18\u001b[39m \u001b[38;5;28mself\u001b[39m.finalizer = \u001b[38;5;28;01mNone\u001b[39;00m\n\u001b[32m---> \u001b[39m\u001b[32m19\u001b[39m \u001b[38;5;28;43mself\u001b[39;49m\u001b[43m.\u001b[49m\u001b[43m_launch\u001b[49m\u001b[43m(\u001b[49m\u001b[43mprocess_obj\u001b[49m\u001b[43m)\u001b[49m\n",
      "\u001b[36mFile \u001b[39m\u001b[32m~/.pyenv/versions/3.11.8/lib/python3.11/multiprocessing/popen_fork.py:75\u001b[39m, in \u001b[36mPopen._launch\u001b[39m\u001b[34m(self, process_obj)\u001b[39m\n\u001b[32m     73\u001b[39m         os._exit(code)\n\u001b[32m     74\u001b[39m \u001b[38;5;28;01melse\u001b[39;00m:\n\u001b[32m---> \u001b[39m\u001b[32m75\u001b[39m     os.close(child_w)\n\u001b[32m     76\u001b[39m     os.close(child_r)\n\u001b[32m     77\u001b[39m     \u001b[38;5;28mself\u001b[39m.finalizer = util.Finalize(\u001b[38;5;28mself\u001b[39m, util.close_fds,\n\u001b[32m     78\u001b[39m                                    (parent_r, parent_w,))\n",
      "\u001b[31mKeyboardInterrupt\u001b[39m: "
     ]
    }
   ],
   "source": [
    "training.reg_training_loop_rmspe(optimizer=optimizer,model=trans_encoder_model,train_loader=train_loader,val_loader=test_loader,ot_steps=20,report_interval=5,n_epochs=200,list_train_loss=train_loss,list_val_loss=val_loss,device=device,eps=1e-6)"
   ]
  },
  {
   "cell_type": "markdown",
   "id": "9edd7cf9",
   "metadata": {},
   "source": [
    "### * A model that \"keeps some magnitude signal\" "
   ]
  },
  {
   "cell_type": "markdown",
   "id": "7bcbd0f6",
   "metadata": {},
   "source": [
    "#### Create sub models and list needed. "
   ]
  },
  {
   "cell_type": "code",
   "execution_count": 14,
   "id": "5c3e7261",
   "metadata": {},
   "outputs": [],
   "source": [
    "pos_embedder=training.pos_emb_cross_attn(length=60,ts_dim=3,emb_dim=32,dropout=0.2,num_heads=4,keep_mag=True).to(device=device)\n",
    "ts_encoder_ff_layer=[\n",
    "    nn.Linear(in_features=32,out_features=64),\n",
    "    nn.ReLU(),\n",
    "    nn.Linear(in_features=64,out_features=32)\n",
    "]\n",
    "# ts_encoder=training.ts_encoder(ts_dim=32, dropout=0.2, num_heads=4, feedforward_layers=ts_encoder_ff_layer).to(device=device)\n",
    "output_ff=nn.Sequential(\n",
    "    nn.Linear(in_features=32,out_features=1)\n",
    ").to(device=device)"
   ]
  },
  {
   "cell_type": "markdown",
   "id": "98ce6114",
   "metadata": {},
   "source": [
    "#### Create the full model "
   ]
  },
  {
   "cell_type": "code",
   "execution_count": 15,
   "id": "e9de086d",
   "metadata": {},
   "outputs": [],
   "source": [
    "trans_encoder_model=training.encoder_ensemble(pos_emb_model=pos_embedder,output_feedforward=output_ff,n_diff=2,encoder_layer_num=4,input_scaler=10000,encoder_dropout=0.2,encoder_feedforward_list=ts_encoder_ff_layer,encoder_num_heads=4,ts_emb_dim=32,encoder_keep_mag=True).to(device=device)"
   ]
  },
  {
   "cell_type": "code",
   "execution_count": 16,
   "id": "f66144e6",
   "metadata": {},
   "outputs": [],
   "source": [
    "import torch.optim as optim\n",
    "\n",
    "optimizer = optim.AdamW(trans_encoder_model.parameters(), lr=1e-6)"
   ]
  },
  {
   "cell_type": "code",
   "execution_count": 17,
   "id": "6e95f5ae",
   "metadata": {},
   "outputs": [
    {
     "data": {
      "text/plain": [
       "=====================================================================================\n",
       "Layer (type:depth-idx)                                       Param #\n",
       "=====================================================================================\n",
       "encoder_ensemble                                             --\n",
       "├─frozen_diff_conv: 1-1                                      --\n",
       "│    └─Conv1d: 2-1                                           (2)\n",
       "├─pos_emb_cross_attn: 1-2                                    --\n",
       "│    └─Linear: 2-2                                           128\n",
       "│    └─Embedding: 2-3                                        1,920\n",
       "│    └─MultiheadAttention: 2-4                               3,168\n",
       "│    │    └─NonDynamicallyQuantizableLinear: 3-1             1,056\n",
       "│    └─LayerNorm: 2-5                                        64\n",
       "├─ModuleList: 1-3                                            --\n",
       "│    └─ts_encoder: 2-6                                       --\n",
       "│    │    └─MultiheadAttention: 3-2                          4,224\n",
       "│    │    └─LayerNorm: 3-3                                   64\n",
       "│    │    └─ModuleList: 3-4                                  4,192\n",
       "│    │    └─LayerNorm: 3-5                                   64\n",
       "│    └─ts_encoder: 2-7                                       --\n",
       "│    │    └─MultiheadAttention: 3-6                          4,224\n",
       "│    │    └─LayerNorm: 3-7                                   64\n",
       "│    │    └─ModuleList: 3-8                                  4,192\n",
       "│    │    └─LayerNorm: 3-9                                   64\n",
       "│    └─ts_encoder: 2-8                                       --\n",
       "│    │    └─MultiheadAttention: 3-10                         4,224\n",
       "│    │    └─LayerNorm: 3-11                                  64\n",
       "│    │    └─ModuleList: 3-12                                 4,192\n",
       "│    │    └─LayerNorm: 3-13                                  64\n",
       "│    └─ts_encoder: 2-9                                       --\n",
       "│    │    └─MultiheadAttention: 3-14                         4,224\n",
       "│    │    └─LayerNorm: 3-15                                  64\n",
       "│    │    └─ModuleList: 3-16                                 4,192\n",
       "│    │    └─LayerNorm: 3-17                                  64\n",
       "├─Sequential: 1-4                                            --\n",
       "│    └─Linear: 2-10                                          33\n",
       "=====================================================================================\n",
       "Total params: 40,547\n",
       "Trainable params: 40,545\n",
       "Non-trainable params: 2\n",
       "====================================================================================="
      ]
     },
     "execution_count": 17,
     "metadata": {},
     "output_type": "execute_result"
    }
   ],
   "source": [
    "from torchinfo import summary\n",
    "summary(trans_encoder_model)"
   ]
  },
  {
   "cell_type": "code",
   "execution_count": null,
   "id": "88521b9a",
   "metadata": {},
   "outputs": [],
   "source": [
    "training.reg_training_loop_rmspe(optimizer=optimizer,model=trans_encoder_model,train_loader=train_loader,val_loader=test_loader,ot_steps=20,report_interval=5,n_epochs=200,list_train_loss=train_loss,list_val_loss=val_loss,device=device,eps=1e-6)"
   ]
  },
  {
   "cell_type": "markdown",
   "id": "90118845",
   "metadata": {},
   "source": []
  }
 ],
 "metadata": {
  "kernelspec": {
   "display_name": "deep_learning_3_11_8",
   "language": "python",
   "name": "python3"
  },
  "language_info": {
   "codemirror_mode": {
    "name": "ipython",
    "version": 3
   },
   "file_extension": ".py",
   "mimetype": "text/x-python",
   "name": "python",
   "nbconvert_exporter": "python",
   "pygments_lexer": "ipython3",
   "version": "3.11.8"
  }
 },
 "nbformat": 4,
 "nbformat_minor": 5
}
