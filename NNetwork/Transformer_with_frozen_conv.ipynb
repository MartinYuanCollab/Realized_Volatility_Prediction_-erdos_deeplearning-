{
 "cells": [
  {
   "cell_type": "markdown",
   "id": "34faab65",
   "metadata": {},
   "source": [
    "# In this notebook, we attempt in creating an attention based NN to predict the target on the timeseries alone. "
   ]
  },
  {
   "cell_type": "markdown",
   "id": "0b1623fe",
   "metadata": {},
   "source": [
    "We first create an example, then we will generalize it and include it into training.py. "
   ]
  },
  {
   "cell_type": "markdown",
   "id": "3110fa3d",
   "metadata": {},
   "source": [
    "# Import and preparations "
   ]
  },
  {
   "cell_type": "code",
   "execution_count": 2,
   "id": "44ec0051",
   "metadata": {},
   "outputs": [],
   "source": [
    "import sys, importlib\n",
    "import torch \n",
    "import torch.nn as nn\n",
    "import numpy as np\n",
    "import pandas as pd\n",
    "import copy\n",
    "import time\n",
    "\n",
    "sys.path.append(\"../\")\n",
    "from proj_mod import training, data_processing, visualization\n",
    "importlib.reload(training);\n",
    "importlib.reload(data_processing);\n",
    "importlib.reload(visualization);"
   ]
  },
  {
   "cell_type": "code",
   "execution_count": 3,
   "id": "b0d36d44-b3cb-40e6-bbc6-a36c15396f46",
   "metadata": {},
   "outputs": [
    {
     "name": "stdout",
     "output_type": "stream",
     "text": [
      "10.3.0\n"
     ]
    }
   ],
   "source": [
    "#Only run this cell if needed. AMD gpus might need this. Martin, I will remember this. \n",
    "from dotenv import load_dotenv\n",
    "import os\n",
    "\n",
    "load_dotenv(\"../dotenv_env/deep_learning.env\")\n",
    "\n",
    "print(os.environ.get(\"HSA_OVERRIDE_GFX_VERSION\"))"
   ]
  },
  {
   "cell_type": "code",
   "execution_count": 4,
   "id": "9776742b",
   "metadata": {},
   "outputs": [
    {
     "name": "stdout",
     "output_type": "stream",
     "text": [
      "Using device cuda\n"
     ]
    }
   ],
   "source": [
    "device=(torch.device(\"cuda\") if torch.cuda.is_available() else torch.device(\"cpu\"))\n",
    "print(f\"Using device {device}\")"
   ]
  },
  {
   "cell_type": "markdown",
   "id": "75a37b30",
   "metadata": {},
   "source": [
    "# Data preparation "
   ]
  },
  {
   "cell_type": "markdown",
   "id": "795ffb2f",
   "metadata": {},
   "source": [
    "### Load time id order"
   ]
  },
  {
   "cell_type": "code",
   "execution_count": 5,
   "id": "9f295403",
   "metadata": {},
   "outputs": [],
   "source": [
    "list_time=np.load(\"../processed_data/recovered_time_id_order.npy\")"
   ]
  },
  {
   "cell_type": "markdown",
   "id": "24968e95",
   "metadata": {},
   "source": [
    "### Load timeseries "
   ]
  },
  {
   "cell_type": "code",
   "execution_count": 6,
   "id": "9ce645bd",
   "metadata": {},
   "outputs": [],
   "source": [
    "df_RV_ts=pd.read_parquet(\"../processed_data/book_RV_ts_60_si.parquet\")"
   ]
  },
  {
   "cell_type": "markdown",
   "id": "48c789a9",
   "metadata": {},
   "source": [
    "### Load target "
   ]
  },
  {
   "cell_type": "code",
   "execution_count": 7,
   "id": "dfdfdf49",
   "metadata": {},
   "outputs": [
    {
     "data": {
      "text/html": [
       "<div>\n",
       "<style scoped>\n",
       "    .dataframe tbody tr th:only-of-type {\n",
       "        vertical-align: middle;\n",
       "    }\n",
       "\n",
       "    .dataframe tbody tr th {\n",
       "        vertical-align: top;\n",
       "    }\n",
       "\n",
       "    .dataframe thead th {\n",
       "        text-align: right;\n",
       "    }\n",
       "</style>\n",
       "<table border=\"1\" class=\"dataframe\">\n",
       "  <thead>\n",
       "    <tr style=\"text-align: right;\">\n",
       "      <th></th>\n",
       "      <th>stock_id</th>\n",
       "      <th>time_id</th>\n",
       "      <th>target</th>\n",
       "      <th>row_id</th>\n",
       "    </tr>\n",
       "  </thead>\n",
       "  <tbody>\n",
       "    <tr>\n",
       "      <th>0</th>\n",
       "      <td>0</td>\n",
       "      <td>5</td>\n",
       "      <td>0.004136</td>\n",
       "      <td>0-5</td>\n",
       "    </tr>\n",
       "    <tr>\n",
       "      <th>1</th>\n",
       "      <td>0</td>\n",
       "      <td>11</td>\n",
       "      <td>0.001445</td>\n",
       "      <td>0-11</td>\n",
       "    </tr>\n",
       "    <tr>\n",
       "      <th>2</th>\n",
       "      <td>0</td>\n",
       "      <td>16</td>\n",
       "      <td>0.002168</td>\n",
       "      <td>0-16</td>\n",
       "    </tr>\n",
       "    <tr>\n",
       "      <th>3</th>\n",
       "      <td>0</td>\n",
       "      <td>31</td>\n",
       "      <td>0.002195</td>\n",
       "      <td>0-31</td>\n",
       "    </tr>\n",
       "    <tr>\n",
       "      <th>4</th>\n",
       "      <td>0</td>\n",
       "      <td>62</td>\n",
       "      <td>0.001747</td>\n",
       "      <td>0-62</td>\n",
       "    </tr>\n",
       "    <tr>\n",
       "      <th>...</th>\n",
       "      <td>...</td>\n",
       "      <td>...</td>\n",
       "      <td>...</td>\n",
       "      <td>...</td>\n",
       "    </tr>\n",
       "    <tr>\n",
       "      <th>428927</th>\n",
       "      <td>126</td>\n",
       "      <td>32751</td>\n",
       "      <td>0.003461</td>\n",
       "      <td>126-32751</td>\n",
       "    </tr>\n",
       "    <tr>\n",
       "      <th>428928</th>\n",
       "      <td>126</td>\n",
       "      <td>32753</td>\n",
       "      <td>0.003113</td>\n",
       "      <td>126-32753</td>\n",
       "    </tr>\n",
       "    <tr>\n",
       "      <th>428929</th>\n",
       "      <td>126</td>\n",
       "      <td>32758</td>\n",
       "      <td>0.004070</td>\n",
       "      <td>126-32758</td>\n",
       "    </tr>\n",
       "    <tr>\n",
       "      <th>428930</th>\n",
       "      <td>126</td>\n",
       "      <td>32763</td>\n",
       "      <td>0.003357</td>\n",
       "      <td>126-32763</td>\n",
       "    </tr>\n",
       "    <tr>\n",
       "      <th>428931</th>\n",
       "      <td>126</td>\n",
       "      <td>32767</td>\n",
       "      <td>0.002090</td>\n",
       "      <td>126-32767</td>\n",
       "    </tr>\n",
       "  </tbody>\n",
       "</table>\n",
       "<p>428932 rows × 4 columns</p>\n",
       "</div>"
      ],
      "text/plain": [
       "        stock_id  time_id    target     row_id\n",
       "0              0        5  0.004136        0-5\n",
       "1              0       11  0.001445       0-11\n",
       "2              0       16  0.002168       0-16\n",
       "3              0       31  0.002195       0-31\n",
       "4              0       62  0.001747       0-62\n",
       "...          ...      ...       ...        ...\n",
       "428927       126    32751  0.003461  126-32751\n",
       "428928       126    32753  0.003113  126-32753\n",
       "428929       126    32758  0.004070  126-32758\n",
       "428930       126    32763  0.003357  126-32763\n",
       "428931       126    32767  0.002090  126-32767\n",
       "\n",
       "[428932 rows x 4 columns]"
      ]
     },
     "execution_count": 7,
     "metadata": {},
     "output_type": "execute_result"
    }
   ],
   "source": [
    "df_target=pd.read_csv(\"../raw_data/kaggle_ORVP/train.csv\")\n",
    "df_target[\"row_id\"]=df_target[\"stock_id\"].astype(int).astype(str)+\"-\"+df_target[\"time_id\"].astype(int).astype(str)\n",
    "df_target"
   ]
  },
  {
   "cell_type": "markdown",
   "id": "1c116a84",
   "metadata": {},
   "source": [
    "### Create datasets "
   ]
  },
  {
   "cell_type": "code",
   "execution_count": 8,
   "id": "4a7a56d5",
   "metadata": {},
   "outputs": [
    {
     "name": "stdout",
     "output_type": "stream",
     "text": [
      "In fold 0 :\n",
      "\n",
      "Train set end at 8117 .\n",
      "\n",
      "Test set start at 15516 end at 10890 .\n",
      "\n"
     ]
    },
    {
     "name": "stderr",
     "output_type": "stream",
     "text": [
      "/home/ycoeusz/git/Realized_Volatility_Prediction_-erdos_deeplearning-/NNetwork/../proj_mod/training.py:362: SettingWithCopyWarning: \n",
      "A value is trying to be set on a copy of a slice from a DataFrame.\n",
      "Try using .loc[row_indexer,col_indexer] = value instead\n",
      "\n",
      "See the caveats in the documentation: https://pandas.pydata.org/pandas-docs/stable/user_guide/indexing.html#returning-a-view-versus-a-copy\n",
      "  df_tab_copy[\"sub_int_num\"]=np.nan\n",
      "/home/ycoeusz/git/Realized_Volatility_Prediction_-erdos_deeplearning-/NNetwork/../proj_mod/training.py:362: SettingWithCopyWarning: \n",
      "A value is trying to be set on a copy of a slice from a DataFrame.\n",
      "Try using .loc[row_indexer,col_indexer] = value instead\n",
      "\n",
      "See the caveats in the documentation: https://pandas.pydata.org/pandas-docs/stable/user_guide/indexing.html#returning-a-view-versus-a-copy\n",
      "  df_tab_copy[\"sub_int_num\"]=np.nan\n"
     ]
    }
   ],
   "source": [
    "time_split_list=data_processing.time_cross_val_split(list_time=list_time,n_split=1,percent_val_size=10,list_output=True)\n",
    "train_time_id,test_time_id=time_split_list[0][0],time_split_list[0][1]\n",
    "\n",
    "train_dataset=training.RVdataset(time_id_list=train_time_id,ts_features=[\"sub_int_RV\"],tab_features=[\"emb_id\"],df_ts_feat=df_RV_ts,df_target=df_target)\n",
    "test_dataset=training.RVdataset(time_id_list=test_time_id,ts_features=[\"sub_int_RV\"],tab_features=[\"emb_id\"],df_ts_feat=df_RV_ts,df_target=df_target)"
   ]
  },
  {
   "cell_type": "markdown",
   "id": "11addc1e",
   "metadata": {},
   "source": [
    "#### Below is just a reminder of how expand and embedding works "
   ]
  },
  {
   "cell_type": "code",
   "execution_count": 44,
   "id": "d2e36e70",
   "metadata": {},
   "outputs": [],
   "source": [
    "embed=nn.Embedding(num_embeddings=4,embedding_dim=2)\n",
    "out=embed(torch.tensor([[0,1,2,3],[0,1,2,3]]))"
   ]
  },
  {
   "cell_type": "code",
   "execution_count": 45,
   "id": "e7c02435",
   "metadata": {},
   "outputs": [
    {
     "data": {
      "text/plain": [
       "tensor([[[-1.0153, -0.1476],\n",
       "         [ 0.1772,  0.3560],\n",
       "         [ 0.7680, -1.3964],\n",
       "         [-0.3542, -0.3484]],\n",
       "\n",
       "        [[-1.0153, -0.1476],\n",
       "         [ 0.1772,  0.3560],\n",
       "         [ 0.7680, -1.3964],\n",
       "         [-0.3542, -0.3484]]], grad_fn=<EmbeddingBackward0>)"
      ]
     },
     "execution_count": 45,
     "metadata": {},
     "output_type": "execute_result"
    }
   ],
   "source": [
    "out"
   ]
  },
  {
   "cell_type": "code",
   "execution_count": 46,
   "id": "3782818a",
   "metadata": {},
   "outputs": [
    {
     "data": {
      "text/plain": [
       "torch.Size([2, 4, 2])"
      ]
     },
     "execution_count": 46,
     "metadata": {},
     "output_type": "execute_result"
    }
   ],
   "source": [
    "out.shape"
   ]
  },
  {
   "cell_type": "code",
   "execution_count": 47,
   "id": "f4235233",
   "metadata": {},
   "outputs": [
    {
     "data": {
      "text/plain": [
       "tensor([[0, 1, 2, 3],\n",
       "        [0, 1, 2, 3]])"
      ]
     },
     "execution_count": 47,
     "metadata": {},
     "output_type": "execute_result"
    }
   ],
   "source": [
    "torch.tensor([0,1,2,3]).expand(2,4)"
   ]
  },
  {
   "cell_type": "markdown",
   "id": "20f2c8f0",
   "metadata": {},
   "source": [
    "# Create example (encoder based only) transformer model "
   ]
  },
  {
   "cell_type": "code",
   "execution_count": 16,
   "id": "7e557279",
   "metadata": {},
   "outputs": [],
   "source": [
    "class ts_encoder_example(nn.Module):\n",
    "    def __init__(self):\n",
    "        super().__init__()\n",
    "        self.encoder_attn=nn.MultiheadAttention(embed_dim=32,num_heads=4,dropout=0.1,batch_first=True)\n",
    "        self.encoder_norm1=nn.LayerNorm(32)\n",
    "        self.encoder_feedforward=nn.Sequential(\n",
    "            nn.Linear(in_features=32,out_features=64),\n",
    "            nn.ReLU(),\n",
    "            nn.Linear(in_features=64,out_features=32)\n",
    "        )\n",
    "        self.encoder_norm2=nn.LayerNorm(32)\n",
    "        \n",
    "    def forward(self,x):\n",
    "        attn,_=self.encoder_attn(x,x,x)\n",
    "        x=self.encoder_norm1(x+attn)\n",
    "        attn=self.encoder_feedforward(x)\n",
    "        return self.encoder_norm2(x+attn)\n",
    "        \n",
    "\n",
    "class ts_trans_example(nn.Module): \n",
    "    # An example where only encoder is used, the logic behind this is that we only want one value output, it might not be needed to add in decoders (which )\n",
    "    def __init__(self):\n",
    "        super().__init__()\n",
    "        #Frozen conv \n",
    "        self.frozen_conv=training.frozen_diff_conv(n_diff=2) \n",
    "        #Position embedding \n",
    "        self.pos_emb=nn.Embedding(num_embeddings=60,embedding_dim=32) # 60 is the length of our (default) timeseries. \n",
    "        self.ts_proj=nn.Linear(in_features=3,out_features=32)\n",
    "        self.pos_attn=nn.MultiheadAttention(embed_dim=32,batch_first=True,dropout=0.1,num_heads=4)\n",
    "        self.pos_norm=nn.LayerNorm(32) \n",
    "        #Encoder stacking \n",
    "        self.encoder_layers=nn.ModuleList([\n",
    "            ts_encoder_example()\n",
    "            for _ in range(4)\n",
    "        ])\n",
    "        #Final feedforward \n",
    "        self.final_linear=nn.Linear(in_features=32,out_features=1)\n",
    "        \n",
    "        #scaler\n",
    "        self.input_scaler=10000\n",
    "        \n",
    "    def forward(self,x): \n",
    "        #Create and reshape the timeseries tensor \n",
    "        x*=self.input_scaler\n",
    "        x=torch.unsqueeze(x,dim=1)\n",
    "        x=self.frozen_conv(x)\n",
    "        x=x.permute(0,2,1) \n",
    "        # print(x.shape)\n",
    "        x=self.ts_proj(x) # (N, 60, 32) 60 is the timeseries length \n",
    "        #Adding in position for positional impact \n",
    "        pos_id=torch.arange(60, device=x.device).expand(x.shape[0],60)\n",
    "        pos_emb=self.pos_emb(pos_id)\n",
    "        pos,_=self.pos_attn(x,pos_emb,pos_emb)\n",
    "        x=x+pos\n",
    "        x=self.pos_norm(x)\n",
    "        #Run though the encoder layers \n",
    "        for layer in self.encoder_layers: \n",
    "            x=layer(x)\n",
    "        x=self.final_linear(x)\n",
    "        return torch.sum(x,dim=1)/self.input_scaler # (N,1)\n",
    "        \n",
    "        \n",
    "        "
   ]
  },
  {
   "cell_type": "markdown",
   "id": "9ad642fb",
   "metadata": {},
   "source": [
    "### Create loaders"
   ]
  },
  {
   "cell_type": "code",
   "execution_count": 23,
   "id": "90e5e086",
   "metadata": {},
   "outputs": [],
   "source": [
    "train_loader=torch.utils.data.DataLoader(dataset=train_dataset,batch_size=512,shuffle=True, num_workers=4, pin_memory=True)\n",
    "test_loader=torch.utils.data.DataLoader(dataset=test_dataset,batch_size=512,shuffle=True, num_workers =4, pin_memory=True)\n",
    "\n",
    "# Loss tracking\n",
    "train_loss = []\n",
    "val_loss = []"
   ]
  },
  {
   "cell_type": "markdown",
   "id": "9aa7c045",
   "metadata": {},
   "source": [
    "### Init model "
   ]
  },
  {
   "cell_type": "code",
   "execution_count": 18,
   "id": "0f07f440",
   "metadata": {},
   "outputs": [],
   "source": [
    "trans_example_mod=ts_trans_example().to(device=device)\n",
    "\n",
    "import torch.optim as optim\n",
    "\n",
    "optimizer = optim.Adam(trans_example_mod.parameters(), lr=1e-6)"
   ]
  },
  {
   "cell_type": "code",
   "execution_count": 19,
   "id": "1c3d1939",
   "metadata": {},
   "outputs": [
    {
     "data": {
      "text/plain": [
       "=====================================================================================\n",
       "Layer (type:depth-idx)                                       Param #\n",
       "=====================================================================================\n",
       "ts_trans_example                                             --\n",
       "├─frozen_diff_conv: 1-1                                      --\n",
       "│    └─Conv1d: 2-1                                           (2)\n",
       "├─Embedding: 1-2                                             1,920\n",
       "├─Linear: 1-3                                                128\n",
       "├─MultiheadAttention: 1-4                                    3,168\n",
       "│    └─NonDynamicallyQuantizableLinear: 2-2                  1,056\n",
       "├─LayerNorm: 1-5                                             64\n",
       "├─ModuleList: 1-6                                            --\n",
       "│    └─ts_encoder_example: 2-3                               --\n",
       "│    │    └─MultiheadAttention: 3-1                          4,224\n",
       "│    │    └─LayerNorm: 3-2                                   64\n",
       "│    │    └─Sequential: 3-3                                  4,192\n",
       "│    │    └─LayerNorm: 3-4                                   64\n",
       "│    └─ts_encoder_example: 2-4                               --\n",
       "│    │    └─MultiheadAttention: 3-5                          4,224\n",
       "│    │    └─LayerNorm: 3-6                                   64\n",
       "│    │    └─Sequential: 3-7                                  4,192\n",
       "│    │    └─LayerNorm: 3-8                                   64\n",
       "│    └─ts_encoder_example: 2-5                               --\n",
       "│    │    └─MultiheadAttention: 3-9                          4,224\n",
       "│    │    └─LayerNorm: 3-10                                  64\n",
       "│    │    └─Sequential: 3-11                                 4,192\n",
       "│    │    └─LayerNorm: 3-12                                  64\n",
       "│    └─ts_encoder_example: 2-6                               --\n",
       "│    │    └─MultiheadAttention: 3-13                         4,224\n",
       "│    │    └─LayerNorm: 3-14                                  64\n",
       "│    │    └─Sequential: 3-15                                 4,192\n",
       "│    │    └─LayerNorm: 3-16                                  64\n",
       "├─Linear: 1-7                                                33\n",
       "=====================================================================================\n",
       "Total params: 40,547\n",
       "Trainable params: 40,545\n",
       "Non-trainable params: 2\n",
       "====================================================================================="
      ]
     },
     "execution_count": 19,
     "metadata": {},
     "output_type": "execute_result"
    }
   ],
   "source": [
    "from torchinfo import summary\n",
    "summary(trans_example_mod)"
   ]
  },
  {
   "cell_type": "markdown",
   "id": "579fea31",
   "metadata": {},
   "source": [
    "Oh fucks that is a shit ton of tranable parameters. "
   ]
  },
  {
   "cell_type": "markdown",
   "id": "4aa1a9fd",
   "metadata": {},
   "source": [
    "### Training loop "
   ]
  },
  {
   "cell_type": "code",
   "execution_count": 20,
   "id": "f46acbe3",
   "metadata": {
    "scrolled": true
   },
   "outputs": [
    {
     "name": "stdout",
     "output_type": "stream",
     "text": [
      "A new best validation loss at epoch  1  with validation loss of  tensor(0.6353, device='cuda:0')\n",
      "At  18.591132164001465  epoch  1 has training loss  tensor(1.0087, device='cuda:0')  and validation loss  tensor(0.6353, device='cuda:0') .\n",
      "\n",
      "A new best validation loss at epoch  2  with validation loss of  tensor(0.4699, device='cuda:0')\n",
      "A new best validation loss at epoch  3  with validation loss of  tensor(0.4152, device='cuda:0')\n",
      "A new best validation loss at epoch  4  with validation loss of  tensor(0.3846, device='cuda:0')\n",
      "A new best validation loss at epoch  5  with validation loss of  tensor(0.3679, device='cuda:0')\n",
      "At  96.74080228805542  epoch  5 has training loss  tensor(0.3748, device='cuda:0')  and validation loss  tensor(0.3679, device='cuda:0') .\n",
      "\n",
      "A new best validation loss at epoch  6  with validation loss of  tensor(0.3545, device='cuda:0')\n",
      "A new best validation loss at epoch  7  with validation loss of  tensor(0.3415, device='cuda:0')\n",
      "A new best validation loss at epoch  8  with validation loss of  tensor(0.3282, device='cuda:0')\n",
      "A new best validation loss at epoch  9  with validation loss of  tensor(0.3152, device='cuda:0')\n",
      "A new best validation loss at epoch  10  with validation loss of  tensor(0.3032, device='cuda:0')\n",
      "At  194.41964173316956  epoch  10 has training loss  tensor(0.3117, device='cuda:0')  and validation loss  tensor(0.3032, device='cuda:0') .\n",
      "\n",
      "A new best validation loss at epoch  11  with validation loss of  tensor(0.2940, device='cuda:0')\n",
      "A new best validation loss at epoch  12  with validation loss of  tensor(0.2865, device='cuda:0')\n",
      "A new best validation loss at epoch  13  with validation loss of  tensor(0.2807, device='cuda:0')\n",
      "A new best validation loss at epoch  14  with validation loss of  tensor(0.2762, device='cuda:0')\n",
      "A new best validation loss at epoch  15  with validation loss of  tensor(0.2726, device='cuda:0')\n",
      "At  291.5296456813812  epoch  15 has training loss  tensor(0.2840, device='cuda:0')  and validation loss  tensor(0.2726, device='cuda:0') .\n",
      "\n",
      "A new best validation loss at epoch  16  with validation loss of  tensor(0.2698, device='cuda:0')\n",
      "A new best validation loss at epoch  17  with validation loss of  tensor(0.2665, device='cuda:0')\n",
      "A new best validation loss at epoch  18  with validation loss of  tensor(0.2643, device='cuda:0')\n",
      "A new best validation loss at epoch  19  with validation loss of  tensor(0.2619, device='cuda:0')\n",
      "A new best validation loss at epoch  20  with validation loss of  tensor(0.2602, device='cuda:0')\n",
      "At  388.1509554386139  epoch  20 has training loss  tensor(0.2728, device='cuda:0')  and validation loss  tensor(0.2602, device='cuda:0') .\n",
      "\n",
      "A new best validation loss at epoch  21  with validation loss of  tensor(0.2586, device='cuda:0')\n",
      "A new best validation loss at epoch  22  with validation loss of  tensor(0.2570, device='cuda:0')\n",
      "A new best validation loss at epoch  23  with validation loss of  tensor(0.2554, device='cuda:0')\n",
      "A new best validation loss at epoch  24  with validation loss of  tensor(0.2544, device='cuda:0')\n",
      "A new best validation loss at epoch  25  with validation loss of  tensor(0.2532, device='cuda:0')\n",
      "At  486.0998537540436  epoch  25 has training loss  tensor(0.2665, device='cuda:0')  and validation loss  tensor(0.2532, device='cuda:0') .\n",
      "\n",
      "A new best validation loss at epoch  26  with validation loss of  tensor(0.2523, device='cuda:0')\n",
      "A new best validation loss at epoch  27  with validation loss of  tensor(0.2511, device='cuda:0')\n",
      "A new best validation loss at epoch  28  with validation loss of  tensor(0.2507, device='cuda:0')\n",
      "A new best validation loss at epoch  29  with validation loss of  tensor(0.2497, device='cuda:0')\n",
      "A new best validation loss at epoch  30  with validation loss of  tensor(0.2491, device='cuda:0')\n",
      "At  584.3392162322998  epoch  30 has training loss  tensor(0.2626, device='cuda:0')  and validation loss  tensor(0.2491, device='cuda:0') .\n",
      "\n",
      "A new best validation loss at epoch  31  with validation loss of  tensor(0.2483, device='cuda:0')\n",
      "A new best validation loss at epoch  32  with validation loss of  tensor(0.2478, device='cuda:0')\n",
      "A new best validation loss at epoch  33  with validation loss of  tensor(0.2471, device='cuda:0')\n",
      "A new best validation loss at epoch  34  with validation loss of  tensor(0.2466, device='cuda:0')\n",
      "A new best validation loss at epoch  35  with validation loss of  tensor(0.2462, device='cuda:0')\n",
      "At  682.0649039745331  epoch  35 has training loss  tensor(0.2602, device='cuda:0')  and validation loss  tensor(0.2462, device='cuda:0') .\n",
      "\n",
      "A new best validation loss at epoch  36  with validation loss of  tensor(0.2458, device='cuda:0')\n",
      "A new best validation loss at epoch  37  with validation loss of  tensor(0.2454, device='cuda:0')\n",
      "A new best validation loss at epoch  38  with validation loss of  tensor(0.2448, device='cuda:0')\n",
      "A new best validation loss at epoch  40  with validation loss of  tensor(0.2443, device='cuda:0')\n",
      "At  779.2691872119904  epoch  40 has training loss  tensor(0.2586, device='cuda:0')  and validation loss  tensor(0.2443, device='cuda:0') .\n",
      "\n",
      "A new best validation loss at epoch  41  with validation loss of  tensor(0.2442, device='cuda:0')\n",
      "A new best validation loss at epoch  42  with validation loss of  tensor(0.2438, device='cuda:0')\n",
      "A new best validation loss at epoch  43  with validation loss of  tensor(0.2435, device='cuda:0')\n",
      "A new best validation loss at epoch  44  with validation loss of  tensor(0.2433, device='cuda:0')\n",
      "A new best validation loss at epoch  45  with validation loss of  tensor(0.2431, device='cuda:0')\n",
      "At  876.7823143005371  epoch  45 has training loss  tensor(0.2574, device='cuda:0')  and validation loss  tensor(0.2431, device='cuda:0') .\n",
      "\n",
      "A new best validation loss at epoch  46  with validation loss of  tensor(0.2428, device='cuda:0')\n",
      "A new best validation loss at epoch  47  with validation loss of  tensor(0.2425, device='cuda:0')\n",
      "A new best validation loss at epoch  48  with validation loss of  tensor(0.2423, device='cuda:0')\n",
      "A new best validation loss at epoch  50  with validation loss of  tensor(0.2422, device='cuda:0')\n",
      "At  975.1328725814819  epoch  50 has training loss  tensor(0.2565, device='cuda:0')  and validation loss  tensor(0.2422, device='cuda:0') .\n",
      "\n",
      "A new best validation loss at epoch  51  with validation loss of  tensor(0.2418, device='cuda:0')\n",
      "A new best validation loss at epoch  52  with validation loss of  tensor(0.2417, device='cuda:0')\n",
      "A new best validation loss at epoch  53  with validation loss of  tensor(0.2413, device='cuda:0')\n",
      "A new best validation loss at epoch  54  with validation loss of  tensor(0.2413, device='cuda:0')\n",
      "A new best validation loss at epoch  55  with validation loss of  tensor(0.2410, device='cuda:0')\n",
      "At  1073.3780179023743  epoch  55 has training loss  tensor(0.2559, device='cuda:0')  and validation loss  tensor(0.2410, device='cuda:0') .\n",
      "\n",
      "A new best validation loss at epoch  58  with validation loss of  tensor(0.2406, device='cuda:0')\n",
      "A new best validation loss at epoch  59  with validation loss of  tensor(0.2404, device='cuda:0')\n",
      "A new best validation loss at epoch  60  with validation loss of  tensor(0.2403, device='cuda:0')\n",
      "At  1171.6819303035736  epoch  60 has training loss  tensor(0.2554, device='cuda:0')  and validation loss  tensor(0.2403, device='cuda:0') .\n",
      "\n",
      "A new best validation loss at epoch  63  with validation loss of  tensor(0.2400, device='cuda:0')\n",
      "A new best validation loss at epoch  65  with validation loss of  tensor(0.2397, device='cuda:0')\n",
      "At  1268.9588356018066  epoch  65 has training loss  tensor(0.2549, device='cuda:0')  and validation loss  tensor(0.2397, device='cuda:0') .\n",
      "\n",
      "A new best validation loss at epoch  66  with validation loss of  tensor(0.2396, device='cuda:0')\n",
      "A new best validation loss at epoch  68  with validation loss of  tensor(0.2395, device='cuda:0')\n",
      "A new best validation loss at epoch  69  with validation loss of  tensor(0.2394, device='cuda:0')\n",
      "At  1366.3887729644775  epoch  70 has training loss  tensor(0.2545, device='cuda:0')  and validation loss  tensor(0.2396, device='cuda:0') .\n",
      "\n",
      "A new best validation loss at epoch  71  with validation loss of  tensor(0.2392, device='cuda:0')\n",
      "A new best validation loss at epoch  72  with validation loss of  tensor(0.2390, device='cuda:0')\n",
      "A new best validation loss at epoch  75  with validation loss of  tensor(0.2388, device='cuda:0')\n",
      "At  1464.214762210846  epoch  75 has training loss  tensor(0.2542, device='cuda:0')  and validation loss  tensor(0.2388, device='cuda:0') .\n",
      "\n",
      "A new best validation loss at epoch  77  with validation loss of  tensor(0.2386, device='cuda:0')\n",
      "At  1562.1925790309906  epoch  80 has training loss  tensor(0.2539, device='cuda:0')  and validation loss  tensor(0.2389, device='cuda:0') .\n",
      "\n",
      "A new best validation loss at epoch  81  with validation loss of  tensor(0.2385, device='cuda:0')\n",
      "A new best validation loss at epoch  83  with validation loss of  tensor(0.2383, device='cuda:0')\n",
      "At  1660.1552033424377  epoch  85 has training loss  tensor(0.2537, device='cuda:0')  and validation loss  tensor(0.2384, device='cuda:0') .\n",
      "\n",
      "A new best validation loss at epoch  87  with validation loss of  tensor(0.2380, device='cuda:0')\n"
     ]
    },
    {
     "ename": "KeyboardInterrupt",
     "evalue": "",
     "output_type": "error",
     "traceback": [
      "\u001b[31m---------------------------------------------------------------------------\u001b[39m",
      "\u001b[31mKeyboardInterrupt\u001b[39m                         Traceback (most recent call last)",
      "\u001b[36mCell\u001b[39m\u001b[36m \u001b[39m\u001b[32mIn[20]\u001b[39m\u001b[32m, line 1\u001b[39m\n\u001b[32m----> \u001b[39m\u001b[32m1\u001b[39m \u001b[43mtraining\u001b[49m\u001b[43m.\u001b[49m\u001b[43mreg_training_loop_rmspe\u001b[49m\u001b[43m(\u001b[49m\u001b[43moptimizer\u001b[49m\u001b[43m=\u001b[49m\u001b[43moptimizer\u001b[49m\u001b[43m,\u001b[49m\u001b[43mmodel\u001b[49m\u001b[43m=\u001b[49m\u001b[43mtrans_example_mod\u001b[49m\u001b[43m,\u001b[49m\u001b[43mtrain_loader\u001b[49m\u001b[43m=\u001b[49m\u001b[43mtrain_loader\u001b[49m\u001b[43m,\u001b[49m\u001b[43mval_loader\u001b[49m\u001b[43m=\u001b[49m\u001b[43mtest_loader\u001b[49m\u001b[43m,\u001b[49m\u001b[43mot_steps\u001b[49m\u001b[43m=\u001b[49m\u001b[32;43m20\u001b[39;49m\u001b[43m,\u001b[49m\u001b[43mreport_interval\u001b[49m\u001b[43m=\u001b[49m\u001b[32;43m5\u001b[39;49m\u001b[43m,\u001b[49m\u001b[43mn_epochs\u001b[49m\u001b[43m=\u001b[49m\u001b[32;43m200\u001b[39;49m\u001b[43m,\u001b[49m\u001b[43mlist_train_loss\u001b[49m\u001b[43m=\u001b[49m\u001b[43mtrain_loss\u001b[49m\u001b[43m,\u001b[49m\u001b[43mlist_val_loss\u001b[49m\u001b[43m=\u001b[49m\u001b[43mval_loss\u001b[49m\u001b[43m,\u001b[49m\u001b[43mdevice\u001b[49m\u001b[43m=\u001b[49m\u001b[43mdevice\u001b[49m\u001b[43m,\u001b[49m\u001b[43meps\u001b[49m\u001b[43m=\u001b[49m\u001b[32;43m1e-6\u001b[39;49m\u001b[43m)\u001b[49m\n",
      "\u001b[36mFile \u001b[39m\u001b[32m~/git/Realized_Volatility_Prediction_-erdos_deeplearning-/NNetwork/../proj_mod/training.py:170\u001b[39m, in \u001b[36mreg_training_loop_rmspe\u001b[39m\u001b[34m(optimizer, model, train_loader, val_loader, device, ot_steps, recall_best, eps, list_train_loss, list_val_loss, report_interval, n_epochs, scaler, norm_train_target, train_target)\u001b[39m\n\u001b[32m    168\u001b[39m \u001b[38;5;66;03m#Update using optimizer according to loss of the batch\u001b[39;00m\n\u001b[32m    169\u001b[39m optimizer.zero_grad()\n\u001b[32m--> \u001b[39m\u001b[32m170\u001b[39m \u001b[43mloss_step\u001b[49m\u001b[43m.\u001b[49m\u001b[43mbackward\u001b[49m\u001b[43m(\u001b[49m\u001b[43m)\u001b[49m\n\u001b[32m    171\u001b[39m optimizer.step()\n\u001b[32m    172\u001b[39m \u001b[38;5;66;03m# #Create variables for training dataset target mean and std \u001b[39;00m\n\u001b[32m    173\u001b[39m \u001b[38;5;66;03m# train_target_mean=None\u001b[39;00m\n\u001b[32m    174\u001b[39m \u001b[38;5;66;03m# train_target_std=None            \u001b[39;00m\n\u001b[32m    175\u001b[39m \u001b[38;5;66;03m#Update the sum of sqaure (without grad) \u001b[39;00m\n",
      "\u001b[36mFile \u001b[39m\u001b[32m~/.pyenv/versions/deep_learning_3_11_8/lib/python3.11/site-packages/torch/_tensor.py:648\u001b[39m, in \u001b[36mTensor.backward\u001b[39m\u001b[34m(self, gradient, retain_graph, create_graph, inputs)\u001b[39m\n\u001b[32m    638\u001b[39m \u001b[38;5;28;01mif\u001b[39;00m has_torch_function_unary(\u001b[38;5;28mself\u001b[39m):\n\u001b[32m    639\u001b[39m     \u001b[38;5;28;01mreturn\u001b[39;00m handle_torch_function(\n\u001b[32m    640\u001b[39m         Tensor.backward,\n\u001b[32m    641\u001b[39m         (\u001b[38;5;28mself\u001b[39m,),\n\u001b[32m   (...)\u001b[39m\u001b[32m    646\u001b[39m         inputs=inputs,\n\u001b[32m    647\u001b[39m     )\n\u001b[32m--> \u001b[39m\u001b[32m648\u001b[39m \u001b[43mtorch\u001b[49m\u001b[43m.\u001b[49m\u001b[43mautograd\u001b[49m\u001b[43m.\u001b[49m\u001b[43mbackward\u001b[49m\u001b[43m(\u001b[49m\n\u001b[32m    649\u001b[39m \u001b[43m    \u001b[49m\u001b[38;5;28;43mself\u001b[39;49m\u001b[43m,\u001b[49m\u001b[43m \u001b[49m\u001b[43mgradient\u001b[49m\u001b[43m,\u001b[49m\u001b[43m \u001b[49m\u001b[43mretain_graph\u001b[49m\u001b[43m,\u001b[49m\u001b[43m \u001b[49m\u001b[43mcreate_graph\u001b[49m\u001b[43m,\u001b[49m\u001b[43m \u001b[49m\u001b[43minputs\u001b[49m\u001b[43m=\u001b[49m\u001b[43minputs\u001b[49m\n\u001b[32m    650\u001b[39m \u001b[43m\u001b[49m\u001b[43m)\u001b[49m\n",
      "\u001b[36mFile \u001b[39m\u001b[32m~/.pyenv/versions/deep_learning_3_11_8/lib/python3.11/site-packages/torch/autograd/__init__.py:354\u001b[39m, in \u001b[36mbackward\u001b[39m\u001b[34m(tensors, grad_tensors, retain_graph, create_graph, grad_variables, inputs)\u001b[39m\n\u001b[32m    349\u001b[39m     retain_graph = create_graph\n\u001b[32m    351\u001b[39m \u001b[38;5;66;03m# The reason we repeat the same comment below is that\u001b[39;00m\n\u001b[32m    352\u001b[39m \u001b[38;5;66;03m# some Python versions print out the first line of a multi-line function\u001b[39;00m\n\u001b[32m    353\u001b[39m \u001b[38;5;66;03m# calls in the traceback and some print out the last line\u001b[39;00m\n\u001b[32m--> \u001b[39m\u001b[32m354\u001b[39m \u001b[43m_engine_run_backward\u001b[49m\u001b[43m(\u001b[49m\n\u001b[32m    355\u001b[39m \u001b[43m    \u001b[49m\u001b[43mtensors\u001b[49m\u001b[43m,\u001b[49m\n\u001b[32m    356\u001b[39m \u001b[43m    \u001b[49m\u001b[43mgrad_tensors_\u001b[49m\u001b[43m,\u001b[49m\n\u001b[32m    357\u001b[39m \u001b[43m    \u001b[49m\u001b[43mretain_graph\u001b[49m\u001b[43m,\u001b[49m\n\u001b[32m    358\u001b[39m \u001b[43m    \u001b[49m\u001b[43mcreate_graph\u001b[49m\u001b[43m,\u001b[49m\n\u001b[32m    359\u001b[39m \u001b[43m    \u001b[49m\u001b[43minputs_tuple\u001b[49m\u001b[43m,\u001b[49m\n\u001b[32m    360\u001b[39m \u001b[43m    \u001b[49m\u001b[43mallow_unreachable\u001b[49m\u001b[43m=\u001b[49m\u001b[38;5;28;43;01mTrue\u001b[39;49;00m\u001b[43m,\u001b[49m\n\u001b[32m    361\u001b[39m \u001b[43m    \u001b[49m\u001b[43maccumulate_grad\u001b[49m\u001b[43m=\u001b[49m\u001b[38;5;28;43;01mTrue\u001b[39;49;00m\u001b[43m,\u001b[49m\n\u001b[32m    362\u001b[39m \u001b[43m\u001b[49m\u001b[43m)\u001b[49m\n",
      "\u001b[36mFile \u001b[39m\u001b[32m~/.pyenv/versions/deep_learning_3_11_8/lib/python3.11/site-packages/torch/autograd/graph.py:829\u001b[39m, in \u001b[36m_engine_run_backward\u001b[39m\u001b[34m(t_outputs, *args, **kwargs)\u001b[39m\n\u001b[32m    827\u001b[39m     unregister_hooks = _register_logging_hooks_on_whole_graph(t_outputs)\n\u001b[32m    828\u001b[39m \u001b[38;5;28;01mtry\u001b[39;00m:\n\u001b[32m--> \u001b[39m\u001b[32m829\u001b[39m     \u001b[38;5;28;01mreturn\u001b[39;00m \u001b[43mVariable\u001b[49m\u001b[43m.\u001b[49m\u001b[43m_execution_engine\u001b[49m\u001b[43m.\u001b[49m\u001b[43mrun_backward\u001b[49m\u001b[43m(\u001b[49m\u001b[43m  \u001b[49m\u001b[38;5;66;43;03m# Calls into the C++ engine to run the backward pass\u001b[39;49;00m\n\u001b[32m    830\u001b[39m \u001b[43m        \u001b[49m\u001b[43mt_outputs\u001b[49m\u001b[43m,\u001b[49m\u001b[43m \u001b[49m\u001b[43m*\u001b[49m\u001b[43margs\u001b[49m\u001b[43m,\u001b[49m\u001b[43m \u001b[49m\u001b[43m*\u001b[49m\u001b[43m*\u001b[49m\u001b[43mkwargs\u001b[49m\n\u001b[32m    831\u001b[39m \u001b[43m    \u001b[49m\u001b[43m)\u001b[49m  \u001b[38;5;66;03m# Calls into the C++ engine to run the backward pass\u001b[39;00m\n\u001b[32m    832\u001b[39m \u001b[38;5;28;01mfinally\u001b[39;00m:\n\u001b[32m    833\u001b[39m     \u001b[38;5;28;01mif\u001b[39;00m attach_logging_hooks:\n",
      "\u001b[31mKeyboardInterrupt\u001b[39m: "
     ]
    }
   ],
   "source": [
    "training.reg_training_loop_rmspe(optimizer=optimizer,model=trans_example_mod,train_loader=train_loader,val_loader=test_loader,ot_steps=20,report_interval=5,n_epochs=200,list_train_loss=train_loss,list_val_loss=val_loss,device=device,eps=1e-6)"
   ]
  },
  {
   "cell_type": "code",
   "execution_count": 61,
   "id": "49bef0a3-7443-4a5d-bd8d-0427f9ab5662",
   "metadata": {},
   "outputs": [],
   "source": [
    "# torch.save(train_loss, \"train_loss_trans.pt\")\n",
    "# torch.save(val_loss, \"val_loss_trans.pt\")\n",
    "\n",
    "train_loss = torch.load(\"train_loss_trans.pt\")\n",
    "val_loss = torch.load(\"val_loss_trans.pt\")"
   ]
  },
  {
   "cell_type": "code",
   "execution_count": 62,
   "id": "1f82814f-312e-4216-b0f0-8defde6f9f66",
   "metadata": {},
   "outputs": [
    {
     "data": {
      "image/png": "[encoded data removed]",
      "text/plain": [
       "<Figure size 1500x1125 with 1 Axes>"
      ]
     },
     "metadata": {},
     "output_type": "display_data"
    }
   ],
   "source": [
    "from proj_mod import visualization\n",
    "\n",
    "train_loss_cut = train_loss[10:]\n",
    "val_loss_cut = val_loss[10:]\n",
    "\n",
    "vis_dict={(\"transformer\",\"model\"):{\"train_loss\": train_loss_cut,\"val_loss\": val_loss_cut}}\n",
    "visualization.training_plots(vis_dict)"
   ]
  },
  {
   "cell_type": "markdown",
   "id": "3ebff02c",
   "metadata": {},
   "source": [
    "# A Transformer (encoder only) model that we can play with. "
   ]
  },
  {
   "cell_type": "markdown",
   "id": "7d378155",
   "metadata": {},
   "source": [
    "### Create loaders "
   ]
  },
  {
   "cell_type": "code",
   "execution_count": 9,
   "id": "234f856a",
   "metadata": {},
   "outputs": [],
   "source": [
    "train_loader=torch.utils.data.DataLoader(dataset=train_dataset,batch_size=512,shuffle=True, num_workers=4, pin_memory=True)\n",
    "test_loader=torch.utils.data.DataLoader(dataset=test_dataset,batch_size=512,shuffle=True, num_workers =4, pin_memory=True)\n",
    "\n",
    "# Loss tracking\n",
    "train_loss = []\n",
    "val_loss = []"
   ]
  },
  {
   "cell_type": "markdown",
   "id": "dcc0276d",
   "metadata": {},
   "source": [
    "### * A model that \"do not keep magnitude signal\". "
   ]
  },
  {
   "cell_type": "markdown",
   "id": "cd466b14",
   "metadata": {},
   "source": [
    "#### Create sub models and list needed. "
   ]
  },
  {
   "cell_type": "code",
   "execution_count": 10,
   "id": "65c7a5fb",
   "metadata": {},
   "outputs": [],
   "source": [
    "pos_embedder=training.pos_emb_cross_attn(length=60,ts_dim=3,emb_dim=32,dropout=0.2,num_heads=4).to(device=device)\n",
    "ts_encoder_ff_layer=[\n",
    "    nn.Linear(in_features=32,out_features=64),\n",
    "    nn.ReLU(),\n",
    "    nn.Linear(in_features=64,out_features=32)\n",
    "]\n",
    "# ts_encoder=training.ts_encoder(ts_dim=32, dropout=0.2, num_heads=4, feedforward_layers=ts_encoder_ff_layer).to(device=device)\n",
    "output_ff=nn.Sequential(\n",
    "    nn.Linear(in_features=32,out_features=1)\n",
    ").to(device=device)"
   ]
  },
  {
   "cell_type": "markdown",
   "id": "bd732f40",
   "metadata": {},
   "source": [
    "#### Create the full model "
   ]
  },
  {
   "cell_type": "code",
   "execution_count": 11,
   "id": "07b2afd8",
   "metadata": {},
   "outputs": [],
   "source": [
    "trans_encoder_model=training.encoder_ensemble(pos_emb_model=pos_embedder,output_feedforward=output_ff,n_diff=2,encoder_layer_num=4,input_scaler=10000,encoder_dropout=0.2,encoder_feedforward_list=ts_encoder_ff_layer,encoder_num_heads=4,ts_emb_dim=32).to(device=device)"
   ]
  },
  {
   "cell_type": "code",
   "execution_count": null,
   "id": "82a258bd",
   "metadata": {},
   "outputs": [],
   "source": [
    "import torch.optim as optim\n",
    "\n",
    "optimizer = optim.AdamW(trans_encoder_model.parameters(), lr=1e-6)"
   ]
  },
  {
   "cell_type": "code",
   "execution_count": 13,
   "id": "168f22d6",
   "metadata": {},
   "outputs": [
    {
     "data": {
      "text/plain": [
       "=====================================================================================\n",
       "Layer (type:depth-idx)                                       Param #\n",
       "=====================================================================================\n",
       "encoder_ensemble                                             --\n",
       "├─frozen_diff_conv: 1-1                                      --\n",
       "│    └─Conv1d: 2-1                                           (2)\n",
       "├─pos_emb_cross_attn: 1-2                                    --\n",
       "│    └─Linear: 2-2                                           128\n",
       "│    └─Embedding: 2-3                                        1,920\n",
       "│    └─MultiheadAttention: 2-4                               3,168\n",
       "│    │    └─NonDynamicallyQuantizableLinear: 3-1             1,056\n",
       "│    └─LayerNorm: 2-5                                        64\n",
       "├─ModuleList: 1-3                                            --\n",
       "│    └─ts_encoder: 2-6                                       --\n",
       "│    │    └─MultiheadAttention: 3-2                          4,224\n",
       "│    │    └─LayerNorm: 3-3                                   64\n",
       "│    │    └─ModuleList: 3-4                                  4,192\n",
       "│    │    └─LayerNorm: 3-5                                   64\n",
       "│    └─ts_encoder: 2-7                                       --\n",
       "│    │    └─MultiheadAttention: 3-6                          4,224\n",
       "│    │    └─LayerNorm: 3-7                                   64\n",
       "│    │    └─ModuleList: 3-8                                  4,192\n",
       "│    │    └─LayerNorm: 3-9                                   64\n",
       "│    └─ts_encoder: 2-8                                       --\n",
       "│    │    └─MultiheadAttention: 3-10                         4,224\n",
       "│    │    └─LayerNorm: 3-11                                  64\n",
       "│    │    └─ModuleList: 3-12                                 4,192\n",
       "│    │    └─LayerNorm: 3-13                                  64\n",
       "│    └─ts_encoder: 2-9                                       --\n",
       "│    │    └─MultiheadAttention: 3-14                         4,224\n",
       "│    │    └─LayerNorm: 3-15                                  64\n",
       "│    │    └─ModuleList: 3-16                                 4,192\n",
       "│    │    └─LayerNorm: 3-17                                  64\n",
       "├─Sequential: 1-4                                            --\n",
       "│    └─Linear: 2-10                                          33\n",
       "=====================================================================================\n",
       "Total params: 40,547\n",
       "Trainable params: 40,545\n",
       "Non-trainable params: 2\n",
       "====================================================================================="
      ]
     },
     "execution_count": 13,
     "metadata": {},
     "output_type": "execute_result"
    }
   ],
   "source": [
    "from torchinfo import summary\n",
    "summary(trans_encoder_model)"
   ]
  },
  {
   "cell_type": "code",
   "execution_count": 72,
   "id": "ef42732f",
   "metadata": {},
   "outputs": [
    {
     "name": "stdout",
     "output_type": "stream",
     "text": [
      "A new best validation loss at epoch  1  with validation loss of  tensor(0.5454, device='cuda:0')\n",
      "At  18.762203693389893  epoch  1 has training loss  tensor(0.6175, device='cuda:0')  and validation loss  tensor(0.5454, device='cuda:0') .\n",
      "\n",
      "A new best validation loss at epoch  2  with validation loss of  tensor(0.4970, device='cuda:0')\n",
      "A new best validation loss at epoch  3  with validation loss of  tensor(0.4600, device='cuda:0')\n",
      "A new best validation loss at epoch  4  with validation loss of  tensor(0.4301, device='cuda:0')\n",
      "A new best validation loss at epoch  5  with validation loss of  tensor(0.4061, device='cuda:0')\n",
      "At  98.85857105255127  epoch  5 has training loss  tensor(0.4164, device='cuda:0')  and validation loss  tensor(0.4061, device='cuda:0') .\n",
      "\n",
      "A new best validation loss at epoch  6  with validation loss of  tensor(0.3867, device='cuda:0')\n",
      "A new best validation loss at epoch  7  with validation loss of  tensor(0.3710, device='cuda:0')\n",
      "A new best validation loss at epoch  8  with validation loss of  tensor(0.3572, device='cuda:0')\n",
      "A new best validation loss at epoch  9  with validation loss of  tensor(0.3447, device='cuda:0')\n",
      "A new best validation loss at epoch  10  with validation loss of  tensor(0.3329, device='cuda:0')\n",
      "At  197.73416996002197  epoch  10 has training loss  tensor(0.3400, device='cuda:0')  and validation loss  tensor(0.3329, device='cuda:0') .\n",
      "\n"
     ]
    },
    {
     "ename": "KeyboardInterrupt",
     "evalue": "",
     "output_type": "error",
     "traceback": [
      "\u001b[31m---------------------------------------------------------------------------\u001b[39m",
      "\u001b[31mKeyboardInterrupt\u001b[39m                         Traceback (most recent call last)",
      "\u001b[36mCell\u001b[39m\u001b[36m \u001b[39m\u001b[32mIn[72]\u001b[39m\u001b[32m, line 1\u001b[39m\n\u001b[32m----> \u001b[39m\u001b[32m1\u001b[39m \u001b[43mtraining\u001b[49m\u001b[43m.\u001b[49m\u001b[43mreg_training_loop_rmspe\u001b[49m\u001b[43m(\u001b[49m\u001b[43moptimizer\u001b[49m\u001b[43m=\u001b[49m\u001b[43moptimizer\u001b[49m\u001b[43m,\u001b[49m\u001b[43mmodel\u001b[49m\u001b[43m=\u001b[49m\u001b[43mtrans_encoder_model\u001b[49m\u001b[43m,\u001b[49m\u001b[43mtrain_loader\u001b[49m\u001b[43m=\u001b[49m\u001b[43mtrain_loader\u001b[49m\u001b[43m,\u001b[49m\u001b[43mval_loader\u001b[49m\u001b[43m=\u001b[49m\u001b[43mtest_loader\u001b[49m\u001b[43m,\u001b[49m\u001b[43mot_steps\u001b[49m\u001b[43m=\u001b[49m\u001b[32;43m20\u001b[39;49m\u001b[43m,\u001b[49m\u001b[43mreport_interval\u001b[49m\u001b[43m=\u001b[49m\u001b[32;43m5\u001b[39;49m\u001b[43m,\u001b[49m\u001b[43mn_epochs\u001b[49m\u001b[43m=\u001b[49m\u001b[32;43m200\u001b[39;49m\u001b[43m,\u001b[49m\u001b[43mlist_train_loss\u001b[49m\u001b[43m=\u001b[49m\u001b[43mtrain_loss\u001b[49m\u001b[43m,\u001b[49m\u001b[43mlist_val_loss\u001b[49m\u001b[43m=\u001b[49m\u001b[43mval_loss\u001b[49m\u001b[43m,\u001b[49m\u001b[43mdevice\u001b[49m\u001b[43m=\u001b[49m\u001b[43mdevice\u001b[49m\u001b[43m,\u001b[49m\u001b[43meps\u001b[49m\u001b[43m=\u001b[49m\u001b[32;43m1e-6\u001b[39;49m\u001b[43m)\u001b[49m\n",
      "\u001b[36mFile \u001b[39m\u001b[32m~/git/Realized_Volatility_Prediction_-erdos_deeplearning-/NNetwork/../proj_mod/training.py:192\u001b[39m, in \u001b[36mreg_training_loop_rmspe\u001b[39m\u001b[34m(optimizer, model, train_loader, val_loader, device, ot_steps, recall_best, eps, list_train_loss, list_val_loss, report_interval, n_epochs, scaler, norm_train_target, train_target)\u001b[39m\n\u001b[32m    190\u001b[39m     epoch_train_loss=torch.sqrt(sum_of_sqaure_train/total_data_count)\n\u001b[32m    191\u001b[39m \u001b[38;5;66;03m#Calculate the validation loss of this epoch (without grad, citing another function)\u001b[39;00m\n\u001b[32m--> \u001b[39m\u001b[32m192\u001b[39m epoch_val_loss=\u001b[43mreg_validator_rmspe\u001b[49m\u001b[43m(\u001b[49m\u001b[43mmodel\u001b[49m\u001b[43m=\u001b[49m\u001b[43mmodel\u001b[49m\u001b[43m,\u001b[49m\u001b[43mval_loader\u001b[49m\u001b[43m=\u001b[49m\u001b[43mval_loader\u001b[49m\u001b[43m,\u001b[49m\u001b[43meps\u001b[49m\u001b[43m=\u001b[49m\u001b[43meps\u001b[49m\u001b[43m,\u001b[49m\u001b[43mdevice\u001b[49m\u001b[43m=\u001b[49m\u001b[43mdevice\u001b[49m\u001b[43m,\u001b[49m\u001b[43mscaler\u001b[49m\u001b[43m=\u001b[49m\u001b[43mscaler\u001b[49m\u001b[43m,\u001b[49m\u001b[43mnorm_train_target\u001b[49m\u001b[43m=\u001b[49m\u001b[43mnorm_train_target\u001b[49m\u001b[43m,\u001b[49m\u001b[43mtrain_target_mean\u001b[49m\u001b[43m=\u001b[49m\u001b[43mtrain_target_mean\u001b[49m\u001b[43m,\u001b[49m\u001b[43mtrain_target_std\u001b[49m\u001b[43m=\u001b[49m\u001b[43mtrain_target_std\u001b[49m\u001b[43m)\u001b[49m\n\u001b[32m    193\u001b[39m \u001b[38;5;66;03m#Update the best validation loss and the epoch that it occurred     \u001b[39;00m\n\u001b[32m    194\u001b[39m \u001b[38;5;28;01mif\u001b[39;00m ((epoch==\u001b[32m1\u001b[39m) \u001b[38;5;129;01mor\u001b[39;00m (epoch_val_loss<best_val_loss)): \n",
      "\u001b[36mFile \u001b[39m\u001b[32m~/git/Realized_Volatility_Prediction_-erdos_deeplearning-/NNetwork/../proj_mod/training.py:87\u001b[39m, in \u001b[36mreg_validator_rmspe\u001b[39m\u001b[34m(model, val_loader, device, eps, scaler, norm_train_target, train_target_mean, train_target_std)\u001b[39m\n\u001b[32m     85\u001b[39m     \u001b[38;5;28;01mreturn\u001b[39;00m \u001b[38;5;28;01mNone\u001b[39;00m\n\u001b[32m     86\u001b[39m \u001b[38;5;28;01mwith\u001b[39;00m torch.no_grad():\n\u001b[32m---> \u001b[39m\u001b[32m87\u001b[39m \u001b[43m    \u001b[49m\u001b[38;5;28;43;01mfor\u001b[39;49;00m\u001b[43m \u001b[49m\u001b[43mfeature\u001b[49m\u001b[43m,\u001b[49m\u001b[43m \u001b[49m\u001b[43mtarget\u001b[49m\u001b[43m \u001b[49m\u001b[38;5;129;43;01min\u001b[39;49;00m\u001b[43m \u001b[49m\u001b[43mval_loader\u001b[49m\u001b[43m:\u001b[49m\u001b[43m \u001b[49m\n\u001b[32m     88\u001b[39m \u001b[43m        \u001b[49m\u001b[43mfeature\u001b[49m\u001b[43m*\u001b[49m\u001b[43m=\u001b[49m\u001b[43mscaler\u001b[49m\n\u001b[32m     89\u001b[39m \u001b[43m        \u001b[49m\u001b[43mtarget\u001b[49m\u001b[43m*\u001b[49m\u001b[43m=\u001b[49m\u001b[43mscaler\u001b[49m\n",
      "\u001b[36mFile \u001b[39m\u001b[32m~/.pyenv/versions/deep_learning_3_11_8/lib/python3.11/site-packages/torch/utils/data/dataloader.py:495\u001b[39m, in \u001b[36mDataLoader.__iter__\u001b[39m\u001b[34m(self)\u001b[39m\n\u001b[32m    493\u001b[39m     \u001b[38;5;28;01mreturn\u001b[39;00m \u001b[38;5;28mself\u001b[39m._iterator\n\u001b[32m    494\u001b[39m \u001b[38;5;28;01melse\u001b[39;00m:\n\u001b[32m--> \u001b[39m\u001b[32m495\u001b[39m     \u001b[38;5;28;01mreturn\u001b[39;00m \u001b[38;5;28;43mself\u001b[39;49m\u001b[43m.\u001b[49m\u001b[43m_get_iterator\u001b[49m\u001b[43m(\u001b[49m\u001b[43m)\u001b[49m\n",
      "\u001b[36mFile \u001b[39m\u001b[32m~/.pyenv/versions/deep_learning_3_11_8/lib/python3.11/site-packages/torch/utils/data/dataloader.py:428\u001b[39m, in \u001b[36mDataLoader._get_iterator\u001b[39m\u001b[34m(self)\u001b[39m\n\u001b[32m    426\u001b[39m \u001b[38;5;28;01melse\u001b[39;00m:\n\u001b[32m    427\u001b[39m     \u001b[38;5;28mself\u001b[39m.check_worker_number_rationality()\n\u001b[32m--> \u001b[39m\u001b[32m428\u001b[39m     \u001b[38;5;28;01mreturn\u001b[39;00m \u001b[43m_MultiProcessingDataLoaderIter\u001b[49m\u001b[43m(\u001b[49m\u001b[38;5;28;43mself\u001b[39;49m\u001b[43m)\u001b[49m\n",
      "\u001b[36mFile \u001b[39m\u001b[32m~/.pyenv/versions/deep_learning_3_11_8/lib/python3.11/site-packages/torch/utils/data/dataloader.py:1173\u001b[39m, in \u001b[36m_MultiProcessingDataLoaderIter.__init__\u001b[39m\u001b[34m(self, loader)\u001b[39m\n\u001b[32m   1166\u001b[39m w.daemon = \u001b[38;5;28;01mTrue\u001b[39;00m\n\u001b[32m   1167\u001b[39m \u001b[38;5;66;03m# NB: Process.start() actually take some time as it needs to\u001b[39;00m\n\u001b[32m   1168\u001b[39m \u001b[38;5;66;03m#     start a process and pass the arguments over via a pipe.\u001b[39;00m\n\u001b[32m   1169\u001b[39m \u001b[38;5;66;03m#     Therefore, we only add a worker to self._workers list after\u001b[39;00m\n\u001b[32m   1170\u001b[39m \u001b[38;5;66;03m#     it started, so that we do not call .join() if program dies\u001b[39;00m\n\u001b[32m   1171\u001b[39m \u001b[38;5;66;03m#     before it starts, and __del__ tries to join but will get:\u001b[39;00m\n\u001b[32m   1172\u001b[39m \u001b[38;5;66;03m#     AssertionError: can only join a started process.\u001b[39;00m\n\u001b[32m-> \u001b[39m\u001b[32m1173\u001b[39m \u001b[43mw\u001b[49m\u001b[43m.\u001b[49m\u001b[43mstart\u001b[49m\u001b[43m(\u001b[49m\u001b[43m)\u001b[49m\n\u001b[32m   1174\u001b[39m \u001b[38;5;28mself\u001b[39m._index_queues.append(index_queue)\n\u001b[32m   1175\u001b[39m \u001b[38;5;28mself\u001b[39m._workers.append(w)\n",
      "\u001b[36mFile \u001b[39m\u001b[32m~/.pyenv/versions/3.11.8/lib/python3.11/multiprocessing/process.py:121\u001b[39m, in \u001b[36mBaseProcess.start\u001b[39m\u001b[34m(self)\u001b[39m\n\u001b[32m    118\u001b[39m \u001b[38;5;28;01massert\u001b[39;00m \u001b[38;5;129;01mnot\u001b[39;00m _current_process._config.get(\u001b[33m'\u001b[39m\u001b[33mdaemon\u001b[39m\u001b[33m'\u001b[39m), \\\n\u001b[32m    119\u001b[39m        \u001b[33m'\u001b[39m\u001b[33mdaemonic processes are not allowed to have children\u001b[39m\u001b[33m'\u001b[39m\n\u001b[32m    120\u001b[39m _cleanup()\n\u001b[32m--> \u001b[39m\u001b[32m121\u001b[39m \u001b[38;5;28mself\u001b[39m._popen = \u001b[38;5;28;43mself\u001b[39;49m\u001b[43m.\u001b[49m\u001b[43m_Popen\u001b[49m\u001b[43m(\u001b[49m\u001b[38;5;28;43mself\u001b[39;49m\u001b[43m)\u001b[49m\n\u001b[32m    122\u001b[39m \u001b[38;5;28mself\u001b[39m._sentinel = \u001b[38;5;28mself\u001b[39m._popen.sentinel\n\u001b[32m    123\u001b[39m \u001b[38;5;66;03m# Avoid a refcycle if the target function holds an indirect\u001b[39;00m\n\u001b[32m    124\u001b[39m \u001b[38;5;66;03m# reference to the process object (see bpo-30775)\u001b[39;00m\n",
      "\u001b[36mFile \u001b[39m\u001b[32m~/.pyenv/versions/3.11.8/lib/python3.11/multiprocessing/context.py:224\u001b[39m, in \u001b[36mProcess._Popen\u001b[39m\u001b[34m(process_obj)\u001b[39m\n\u001b[32m    222\u001b[39m \u001b[38;5;129m@staticmethod\u001b[39m\n\u001b[32m    223\u001b[39m \u001b[38;5;28;01mdef\u001b[39;00m\u001b[38;5;250m \u001b[39m\u001b[34m_Popen\u001b[39m(process_obj):\n\u001b[32m--> \u001b[39m\u001b[32m224\u001b[39m     \u001b[38;5;28;01mreturn\u001b[39;00m \u001b[43m_default_context\u001b[49m\u001b[43m.\u001b[49m\u001b[43mget_context\u001b[49m\u001b[43m(\u001b[49m\u001b[43m)\u001b[49m\u001b[43m.\u001b[49m\u001b[43mProcess\u001b[49m\u001b[43m.\u001b[49m\u001b[43m_Popen\u001b[49m\u001b[43m(\u001b[49m\u001b[43mprocess_obj\u001b[49m\u001b[43m)\u001b[49m\n",
      "\u001b[36mFile \u001b[39m\u001b[32m~/.pyenv/versions/3.11.8/lib/python3.11/multiprocessing/context.py:281\u001b[39m, in \u001b[36mForkProcess._Popen\u001b[39m\u001b[34m(process_obj)\u001b[39m\n\u001b[32m    278\u001b[39m \u001b[38;5;129m@staticmethod\u001b[39m\n\u001b[32m    279\u001b[39m \u001b[38;5;28;01mdef\u001b[39;00m\u001b[38;5;250m \u001b[39m\u001b[34m_Popen\u001b[39m(process_obj):\n\u001b[32m    280\u001b[39m     \u001b[38;5;28;01mfrom\u001b[39;00m\u001b[38;5;250m \u001b[39m\u001b[34;01m.\u001b[39;00m\u001b[34;01mpopen_fork\u001b[39;00m\u001b[38;5;250m \u001b[39m\u001b[38;5;28;01mimport\u001b[39;00m Popen\n\u001b[32m--> \u001b[39m\u001b[32m281\u001b[39m     \u001b[38;5;28;01mreturn\u001b[39;00m \u001b[43mPopen\u001b[49m\u001b[43m(\u001b[49m\u001b[43mprocess_obj\u001b[49m\u001b[43m)\u001b[49m\n",
      "\u001b[36mFile \u001b[39m\u001b[32m~/.pyenv/versions/3.11.8/lib/python3.11/multiprocessing/popen_fork.py:19\u001b[39m, in \u001b[36mPopen.__init__\u001b[39m\u001b[34m(self, process_obj)\u001b[39m\n\u001b[32m     17\u001b[39m \u001b[38;5;28mself\u001b[39m.returncode = \u001b[38;5;28;01mNone\u001b[39;00m\n\u001b[32m     18\u001b[39m \u001b[38;5;28mself\u001b[39m.finalizer = \u001b[38;5;28;01mNone\u001b[39;00m\n\u001b[32m---> \u001b[39m\u001b[32m19\u001b[39m \u001b[38;5;28;43mself\u001b[39;49m\u001b[43m.\u001b[49m\u001b[43m_launch\u001b[49m\u001b[43m(\u001b[49m\u001b[43mprocess_obj\u001b[49m\u001b[43m)\u001b[49m\n",
      "\u001b[36mFile \u001b[39m\u001b[32m~/.pyenv/versions/3.11.8/lib/python3.11/multiprocessing/popen_fork.py:75\u001b[39m, in \u001b[36mPopen._launch\u001b[39m\u001b[34m(self, process_obj)\u001b[39m\n\u001b[32m     73\u001b[39m         os._exit(code)\n\u001b[32m     74\u001b[39m \u001b[38;5;28;01melse\u001b[39;00m:\n\u001b[32m---> \u001b[39m\u001b[32m75\u001b[39m     os.close(child_w)\n\u001b[32m     76\u001b[39m     os.close(child_r)\n\u001b[32m     77\u001b[39m     \u001b[38;5;28mself\u001b[39m.finalizer = util.Finalize(\u001b[38;5;28mself\u001b[39m, util.close_fds,\n\u001b[32m     78\u001b[39m                                    (parent_r, parent_w,))\n",
      "\u001b[31mKeyboardInterrupt\u001b[39m: "
     ]
    }
   ],
   "source": [
    "training.reg_training_loop_rmspe(optimizer=optimizer,model=trans_encoder_model,train_loader=train_loader,val_loader=test_loader,ot_steps=20,report_interval=5,n_epochs=200,list_train_loss=train_loss,list_val_loss=val_loss,device=device,eps=1e-6)"
   ]
  },
  {
   "cell_type": "markdown",
   "id": "9edd7cf9",
   "metadata": {},
   "source": [
    "### * A model that \"keeps some magnitude signal\" "
   ]
  },
  {
   "cell_type": "markdown",
   "id": "7bcbd0f6",
   "metadata": {},
   "source": [
    "#### Create sub models and list needed. "
   ]
  },
  {
   "cell_type": "code",
   "execution_count": 14,
   "id": "5c3e7261",
   "metadata": {},
   "outputs": [],
   "source": [
    "pos_embedder=training.pos_emb_cross_attn(length=60,ts_dim=3,emb_dim=32,dropout=0.2,num_heads=4,keep_mag=True).to(device=device)\n",
    "ts_encoder_ff_layer=[\n",
    "    nn.Linear(in_features=32,out_features=64),\n",
    "    nn.ReLU(),\n",
    "    nn.Linear(in_features=64,out_features=32)\n",
    "]\n",
    "# ts_encoder=training.ts_encoder(ts_dim=32, dropout=0.2, num_heads=4, feedforward_layers=ts_encoder_ff_layer).to(device=device)\n",
    "output_ff=nn.Sequential(\n",
    "    nn.Linear(in_features=32,out_features=1)\n",
    ").to(device=device)"
   ]
  },
  {
   "cell_type": "markdown",
   "id": "98ce6114",
   "metadata": {},
   "source": [
    "#### Create the full model "
   ]
  },
  {
   "cell_type": "code",
   "execution_count": 15,
   "id": "e9de086d",
   "metadata": {},
   "outputs": [],
   "source": [
    "trans_encoder_model=training.encoder_ensemble(pos_emb_model=pos_embedder,output_feedforward=output_ff,n_diff=2,encoder_layer_num=4,input_scaler=10000,encoder_dropout=0.2,encoder_feedforward_list=ts_encoder_ff_layer,encoder_num_heads=4,ts_emb_dim=32,encoder_keep_mag=True).to(device=device)"
   ]
  },
  {
   "cell_type": "code",
   "execution_count": null,
   "id": "f66144e6",
   "metadata": {},
   "outputs": [],
   "source": [
    "import torch.optim as optim\n",
    "\n",
    "optimizer = optim.AdamW(trans_encoder_model.parameters(), lr=1e-6)\n",
    "\n",
    "# Loss tracking\n",
    "train_loss = []\n",
    "val_loss = []"
   ]
  },
  {
   "cell_type": "code",
   "execution_count": 17,
   "id": "6e95f5ae",
   "metadata": {},
   "outputs": [
    {
     "data": {
      "text/plain": [
       "=====================================================================================\n",
       "Layer (type:depth-idx)                                       Param #\n",
       "=====================================================================================\n",
       "encoder_ensemble                                             --\n",
       "├─frozen_diff_conv: 1-1                                      --\n",
       "│    └─Conv1d: 2-1                                           (2)\n",
       "├─pos_emb_cross_attn: 1-2                                    --\n",
       "│    └─Linear: 2-2                                           128\n",
       "│    └─Embedding: 2-3                                        1,920\n",
       "│    └─MultiheadAttention: 2-4                               3,168\n",
       "│    │    └─NonDynamicallyQuantizableLinear: 3-1             1,056\n",
       "│    └─LayerNorm: 2-5                                        64\n",
       "├─ModuleList: 1-3                                            --\n",
       "│    └─ts_encoder: 2-6                                       --\n",
       "│    │    └─MultiheadAttention: 3-2                          4,224\n",
       "│    │    └─LayerNorm: 3-3                                   64\n",
       "│    │    └─ModuleList: 3-4                                  4,192\n",
       "│    │    └─LayerNorm: 3-5                                   64\n",
       "│    └─ts_encoder: 2-7                                       --\n",
       "│    │    └─MultiheadAttention: 3-6                          4,224\n",
       "│    │    └─LayerNorm: 3-7                                   64\n",
       "│    │    └─ModuleList: 3-8                                  4,192\n",
       "│    │    └─LayerNorm: 3-9                                   64\n",
       "│    └─ts_encoder: 2-8                                       --\n",
       "│    │    └─MultiheadAttention: 3-10                         4,224\n",
       "│    │    └─LayerNorm: 3-11                                  64\n",
       "│    │    └─ModuleList: 3-12                                 4,192\n",
       "│    │    └─LayerNorm: 3-13                                  64\n",
       "│    └─ts_encoder: 2-9                                       --\n",
       "│    │    └─MultiheadAttention: 3-14                         4,224\n",
       "│    │    └─LayerNorm: 3-15                                  64\n",
       "│    │    └─ModuleList: 3-16                                 4,192\n",
       "│    │    └─LayerNorm: 3-17                                  64\n",
       "├─Sequential: 1-4                                            --\n",
       "│    └─Linear: 2-10                                          33\n",
       "=====================================================================================\n",
       "Total params: 40,547\n",
       "Trainable params: 40,545\n",
       "Non-trainable params: 2\n",
       "====================================================================================="
      ]
     },
     "execution_count": 17,
     "metadata": {},
     "output_type": "execute_result"
    }
   ],
   "source": [
    "from torchinfo import summary\n",
    "summary(trans_encoder_model)"
   ]
  },
  {
   "cell_type": "code",
   "execution_count": null,
   "id": "88521b9a",
   "metadata": {},
   "outputs": [],
   "source": [
    "training.reg_training_loop_rmspe(optimizer=optimizer,model=trans_encoder_model,train_loader=train_loader,val_loader=test_loader,ot_steps=20,report_interval=5,n_epochs=200,list_train_loss=train_loss,list_val_loss=val_loss,device=device,eps=1e-6)"
   ]
  },
  {
   "cell_type": "markdown",
   "id": "90118845",
   "metadata": {},
   "source": [
    "#### Training with scheduler "
   ]
  },
  {
   "cell_type": "markdown",
   "id": "42be7680",
   "metadata": {},
   "source": [
    "#### Create sub models and list needed. "
   ]
  },
  {
   "cell_type": "code",
   "execution_count": 10,
   "id": "85b75c3e",
   "metadata": {},
   "outputs": [],
   "source": [
    "pos_embedder=training.pos_emb_cross_attn(length=60,ts_dim=3,emb_dim=32,dropout=0.2,num_heads=4,keep_mag=True).to(device=device)\n",
    "ts_encoder_ff_layer=[\n",
    "    nn.Linear(in_features=32,out_features=64),\n",
    "    nn.ReLU(),\n",
    "    nn.Linear(in_features=64,out_features=32)\n",
    "]\n",
    "# ts_encoder=training.ts_encoder(ts_dim=32, dropout=0.2, num_heads=4, feedforward_layers=ts_encoder_ff_layer).to(device=device)\n",
    "output_ff=nn.Sequential(\n",
    "    nn.Linear(in_features=32,out_features=1)\n",
    ").to(device=device)"
   ]
  },
  {
   "cell_type": "markdown",
   "id": "38502c69",
   "metadata": {},
   "source": [
    "#### Create the full model "
   ]
  },
  {
   "cell_type": "code",
   "execution_count": 37,
   "id": "080a9645",
   "metadata": {},
   "outputs": [],
   "source": [
    "trans_encoder_model=training.encoder_ensemble(pos_emb_model=pos_embedder,output_feedforward=output_ff,n_diff=2,encoder_layer_num=4,input_scaler=10000,encoder_dropout=0.2,encoder_feedforward_list=ts_encoder_ff_layer,encoder_num_heads=4,ts_emb_dim=32,encoder_keep_mag=True).to(device=device)"
   ]
  },
  {
   "cell_type": "code",
   "execution_count": 38,
   "id": "78513e81",
   "metadata": {},
   "outputs": [],
   "source": [
    "import torch.optim as optim\n",
    "\n",
    "optimizer = optim.AdamW(trans_encoder_model.parameters(), lr=1e-3)\n",
    "\n",
    "scheduler=optim.lr_scheduler.ReduceLROnPlateau(optimizer=optimizer,mode=\"min\",factor=0.5,patience=5,min_lr=1e-7)\n",
    "\n",
    "# Loss tracking\n",
    "train_loss = []\n",
    "val_loss = []"
   ]
  },
  {
   "cell_type": "code",
   "execution_count": 39,
   "id": "225cf3bf",
   "metadata": {},
   "outputs": [
    {
     "data": {
      "text/plain": [
       "=====================================================================================\n",
       "Layer (type:depth-idx)                                       Param #\n",
       "=====================================================================================\n",
       "encoder_ensemble                                             --\n",
       "├─frozen_diff_conv: 1-1                                      --\n",
       "│    └─Conv1d: 2-1                                           (2)\n",
       "├─pos_emb_cross_attn: 1-2                                    --\n",
       "│    └─Linear: 2-2                                           128\n",
       "│    └─Embedding: 2-3                                        1,920\n",
       "│    └─MultiheadAttention: 2-4                               3,168\n",
       "│    │    └─NonDynamicallyQuantizableLinear: 3-1             1,056\n",
       "│    └─LayerNorm: 2-5                                        64\n",
       "├─ModuleList: 1-3                                            --\n",
       "│    └─ts_encoder: 2-6                                       --\n",
       "│    │    └─MultiheadAttention: 3-2                          4,224\n",
       "│    │    └─LayerNorm: 3-3                                   64\n",
       "│    │    └─ModuleList: 3-4                                  4,192\n",
       "│    │    └─LayerNorm: 3-5                                   64\n",
       "│    └─ts_encoder: 2-7                                       --\n",
       "│    │    └─MultiheadAttention: 3-6                          4,224\n",
       "│    │    └─LayerNorm: 3-7                                   64\n",
       "│    │    └─ModuleList: 3-8                                  4,192\n",
       "│    │    └─LayerNorm: 3-9                                   64\n",
       "│    └─ts_encoder: 2-8                                       --\n",
       "│    │    └─MultiheadAttention: 3-10                         4,224\n",
       "│    │    └─LayerNorm: 3-11                                  64\n",
       "│    │    └─ModuleList: 3-12                                 4,192\n",
       "│    │    └─LayerNorm: 3-13                                  64\n",
       "│    └─ts_encoder: 2-9                                       --\n",
       "│    │    └─MultiheadAttention: 3-14                         4,224\n",
       "│    │    └─LayerNorm: 3-15                                  64\n",
       "│    │    └─ModuleList: 3-16                                 4,192\n",
       "│    │    └─LayerNorm: 3-17                                  64\n",
       "├─Sequential: 1-4                                            --\n",
       "│    └─Linear: 2-10                                          33\n",
       "=====================================================================================\n",
       "Total params: 40,547\n",
       "Trainable params: 40,545\n",
       "Non-trainable params: 2\n",
       "====================================================================================="
      ]
     },
     "execution_count": 39,
     "metadata": {},
     "output_type": "execute_result"
    }
   ],
   "source": [
    "from torchinfo import summary\n",
    "summary(trans_encoder_model)"
   ]
  },
  {
   "cell_type": "code",
   "execution_count": 40,
   "id": "6fa974da",
   "metadata": {},
   "outputs": [
    {
     "name": "stdout",
     "output_type": "stream",
     "text": [
      "A new best validation loss at epoch  1  with validation loss of  tensor(0.2513, device='cuda:0') .\n",
      "At  19.293970823287964  epoch  1 has training loss  tensor(0.2697, device='cuda:0')  and validation loss  tensor(0.2513, device='cuda:0') .\n",
      "\n",
      "A new best validation loss at epoch  2  with validation loss of  tensor(0.2371, device='cuda:0') .\n",
      "A new best validation loss at epoch  3  with validation loss of  tensor(0.2346, device='cuda:0') .\n",
      "At  100.54179167747498  epoch  5 has training loss  tensor(0.2533, device='cuda:0')  and validation loss  tensor(0.2392, device='cuda:0') .\n",
      "\n",
      "Learning rate has been updated from 0.001 to 0.0005, reloading previous best model weights ...\n",
      "\n",
      "Previous best model weights reloaded.\n",
      "A new best validation loss at epoch  10  with validation loss of  tensor(0.2339, device='cuda:0') .\n",
      "At  201.45871305465698  epoch  10 has training loss  tensor(0.2505, device='cuda:0')  and validation loss  tensor(0.2339, device='cuda:0') .\n",
      "\n",
      "A new best validation loss at epoch  14  with validation loss of  tensor(0.2338, device='cuda:0') .\n",
      "At  302.9360373020172  epoch  15 has training loss  tensor(0.2504, device='cuda:0')  and validation loss  tensor(0.2338, device='cuda:0') .\n",
      "\n",
      "A new best validation loss at epoch  17  with validation loss of  tensor(0.2332, device='cuda:0') .\n",
      "At  404.5012195110321  epoch  20 has training loss  tensor(0.2500, device='cuda:0')  and validation loss  tensor(0.2411, device='cuda:0') .\n",
      "\n",
      "Learning rate has been updated from 0.0005 to 0.00025, reloading previous best model weights ...\n",
      "\n",
      "Previous best model weights reloaded.\n",
      "A new best validation loss at epoch  24  with validation loss of  tensor(0.2332, device='cuda:0') .\n",
      "At  505.6592926979065  epoch  25 has training loss  tensor(0.2488, device='cuda:0')  and validation loss  tensor(0.2342, device='cuda:0') .\n",
      "\n",
      "A new best validation loss at epoch  29  with validation loss of  tensor(0.2331, device='cuda:0') .\n",
      "At  606.5596535205841  epoch  30 has training loss  tensor(0.2485, device='cuda:0')  and validation loss  tensor(0.2333, device='cuda:0') .\n",
      "\n",
      "Learning rate has been updated from 0.00025 to 0.000125, reloading previous best model weights ...\n",
      "\n",
      "Previous best model weights reloaded.\n",
      "At  707.7283179759979  epoch  35 has training loss  tensor(0.2482, device='cuda:0')  and validation loss  tensor(0.2342, device='cuda:0') .\n",
      "\n",
      "A new best validation loss at epoch  36  with validation loss of  tensor(0.2329, device='cuda:0') .\n",
      "A new best validation loss at epoch  39  with validation loss of  tensor(0.2329, device='cuda:0') .\n",
      "At  808.4660973548889  epoch  40 has training loss  tensor(0.2476, device='cuda:0')  and validation loss  tensor(0.2343, device='cuda:0') .\n",
      "\n",
      "Learning rate has been updated from 0.000125 to 6.25e-05, reloading previous best model weights ...\n",
      "\n",
      "Previous best model weights reloaded.\n",
      "At  909.5401334762573  epoch  45 has training loss  tensor(0.2474, device='cuda:0')  and validation loss  tensor(0.2340, device='cuda:0') .\n",
      "\n",
      "At  1010.5763740539551  epoch  50 has training loss  tensor(0.2470, device='cuda:0')  and validation loss  tensor(0.2331, device='cuda:0') .\n",
      "\n",
      "Learning rate has been updated from 6.25e-05 to 3.125e-05, reloading previous best model weights ...\n",
      "\n",
      "Previous best model weights reloaded.\n",
      "At  1111.8444805145264  epoch  55 has training loss  tensor(0.2468, device='cuda:0')  and validation loss  tensor(0.2337, device='cuda:0') .\n",
      "\n",
      "A new best validation loss at epoch  56  with validation loss of  tensor(0.2329, device='cuda:0') .\n",
      "Learning rate has been updated from 3.125e-05 to 1.5625e-05, reloading previous best model weights ...\n",
      "\n",
      "Previous best model weights reloaded.\n",
      "At  1212.825917005539  epoch  60 has training loss  tensor(0.2467, device='cuda:0')  and validation loss  tensor(0.2333, device='cuda:0') .\n",
      "\n",
      "Learning rate has been updated from 1.5625e-05 to 7.8125e-06, reloading previous best model weights ...\n",
      "\n",
      "Previous best model weights reloaded.\n",
      "At  1313.6362957954407  epoch  65 has training loss  tensor(0.2466, device='cuda:0')  and validation loss  tensor(0.2336, device='cuda:0') .\n",
      "\n",
      "Learning rate has been updated from 7.8125e-06 to 3.90625e-06, reloading previous best model weights ...\n",
      "\n",
      "Previous best model weights reloaded.\n",
      "At  1414.7126140594482  epoch  70 has training loss  tensor(0.2466, device='cuda:0')  and validation loss  tensor(0.2333, device='cuda:0') .\n",
      "\n",
      "Learning rate has been updated from 3.90625e-06 to 1.953125e-06, reloading previous best model weights ...\n",
      "\n",
      "Previous best model weights reloaded.\n",
      "At  1515.6167199611664  epoch  75 has training loss  tensor(0.2466, device='cuda:0')  and validation loss  tensor(0.2332, device='cuda:0') .\n",
      "\n",
      "The validation loss has not improved for  20  epochs. Stopping current training loop.\n",
      "\n",
      "Best model state dictionary of this training loop is reloaded.\n",
      "\n",
      "According to validation loss, the best model is reached at epoch 56  with validation loss:  tensor(0.2329, device='cuda:0') .\n",
      " The total number of epoch trained is  76 .\n",
      " Training completed in:  1535.8972885608673 .\n",
      "\n"
     ]
    },
    {
     "data": {
      "text/plain": [
       "OrderedDict([('frozen_conv.frozen_conv.weight',\n",
       "              tensor([[[-1.,  1.]]], device='cuda:0')),\n",
       "             ('pos_emb.ts_proj.weight',\n",
       "              tensor([[ 0.3048,  0.2375, -0.3968],\n",
       "                      [ 0.3187,  0.2477, -0.0296],\n",
       "                      [ 0.3988,  0.4058, -0.3489],\n",
       "                      [ 0.4332,  0.3421,  0.1162],\n",
       "                      [ 0.1336, -0.5458, -0.3002],\n",
       "                      [ 0.0267,  0.3785, -0.2898],\n",
       "                      [-0.4153, -0.2418, -0.0551],\n",
       "                      [ 0.4616,  0.4346, -0.0040],\n",
       "                      [ 0.1453,  0.2887,  0.2372],\n",
       "                      [ 0.4323,  0.3898,  0.1311],\n",
       "                      [-0.2812, -0.3577, -0.1793],\n",
       "                      [ 0.2631, -0.3746,  0.2165],\n",
       "                      [ 0.3825, -0.3730, -0.2529],\n",
       "                      [-0.1243, -0.4200, -0.1646],\n",
       "                      [ 0.0318,  0.2463,  0.3451],\n",
       "                      [ 0.4113, -0.2308,  0.1312],\n",
       "                      [-0.1630, -0.0693, -0.0448],\n",
       "                      [-0.3476,  0.4277, -0.0680],\n",
       "                      [ 0.2836,  0.5587,  0.4450],\n",
       "                      [ 0.4193,  0.3761, -0.0827],\n",
       "                      [ 0.3943,  0.4129, -0.2987],\n",
       "                      [-0.0871,  0.3293,  0.2579],\n",
       "                      [ 0.3554,  0.1086,  0.4405],\n",
       "                      [-0.3159,  0.1941,  0.2525],\n",
       "                      [ 0.5280, -0.0569, -0.3772],\n",
       "                      [ 0.3337, -0.4234, -0.4703],\n",
       "                      [-0.1000, -0.0186, -0.0337],\n",
       "                      [ 0.0870, -0.2909, -0.2368],\n",
       "                      [-0.2658,  0.4606, -0.1867],\n",
       "                      [-0.1123,  0.3554,  0.3468],\n",
       "                      [ 0.2013, -0.3266, -0.1680],\n",
       "                      [ 0.2600, -0.1965,  0.0612]], device='cuda:0')),\n",
       "             ('pos_emb.ts_proj.bias',\n",
       "              tensor([ 0.0177, -0.0935, -0.1822,  0.0441, -0.0594, -0.0296,  0.4050,  0.2676,\n",
       "                       0.3771, -0.1739, -0.2208,  0.0496, -0.1086,  0.4132, -0.3304,  0.4384,\n",
       "                      -0.0691, -0.4959,  0.3974, -0.3559, -0.4144, -0.2571,  0.0038,  0.1133,\n",
       "                       0.0585, -0.2269, -0.4097,  0.3804,  0.2414, -0.1391,  0.0487, -0.4684],\n",
       "                     device='cuda:0')),\n",
       "             ('pos_emb.pos_emb.weight',\n",
       "              tensor([[-0.7941,  1.4095,  0.2279,  ..., -0.4302,  0.4123, -0.6517],\n",
       "                      [-0.6226,  0.3572,  0.7563,  ..., -0.1080,  0.0804,  0.8683],\n",
       "                      [-0.8298,  0.4552,  0.3532,  ..., -0.9418,  0.2496, -1.8321],\n",
       "                      ...,\n",
       "                      [ 0.3127, -0.1106, -0.0400,  ..., -0.5379, -1.3500,  1.0766],\n",
       "                      [ 0.2254, -1.1970, -0.4322,  ...,  0.2190, -0.4530, -0.6869],\n",
       "                      [ 1.1190, -0.2915, -0.1252,  ...,  0.4864, -1.0973, -0.2870]],\n",
       "                     device='cuda:0')),\n",
       "             ('pos_emb.pos_attn.in_proj_weight',\n",
       "              tensor([[ 0.0882, -0.1590, -0.1189,  ...,  0.0436, -0.0134,  0.0054],\n",
       "                      [-0.0291, -0.0776, -0.0164,  ...,  0.0360, -0.0452,  0.0529],\n",
       "                      [-0.1006,  0.1267, -0.1965,  ..., -0.0458, -0.0694,  0.0080],\n",
       "                      ...,\n",
       "                      [ 0.0159, -0.0232,  0.0432,  ..., -0.0758,  0.0328,  0.0525],\n",
       "                      [-0.0892,  0.0176, -0.0012,  ...,  0.1389,  0.0616,  0.1342],\n",
       "                      [-0.0477, -0.0264, -0.0185,  ..., -0.1361,  0.0764,  0.0339]],\n",
       "                     device='cuda:0')),\n",
       "             ('pos_emb.pos_attn.in_proj_bias',\n",
       "              tensor([ 1.4364e-02, -2.5178e-02, -4.3852e-02, -2.2111e-02,  3.6853e-02,\n",
       "                      -1.0809e-02,  1.7380e-02, -6.3182e-02, -1.1552e-01,  6.8149e-03,\n",
       "                       9.8436e-03,  3.3406e-02,  6.7481e-02,  6.8931e-02,  3.6481e-02,\n",
       "                      -4.8778e-02, -1.8631e-02,  5.0647e-02,  7.9503e-02,  2.3289e-02,\n",
       "                       4.2061e-02, -9.2921e-02,  4.6196e-02,  7.8599e-02,  3.7833e-02,\n",
       "                       7.1122e-03, -2.3040e-02, -3.8439e-02,  2.9042e-02, -6.2365e-02,\n",
       "                      -1.7431e-02, -1.6754e-01, -1.2424e-04,  1.9508e-04,  1.5097e-04,\n",
       "                       7.3864e-05,  8.3943e-05, -3.6608e-04, -6.6534e-04,  2.0463e-04,\n",
       "                      -5.4082e-04, -1.1128e-05,  3.4260e-04, -4.4795e-06, -4.3771e-05,\n",
       "                      -4.0537e-04,  2.9668e-04, -3.3542e-04,  7.4113e-06,  4.4080e-04,\n",
       "                      -1.2577e-04,  5.7966e-05, -1.5903e-05, -2.7325e-04,  2.6256e-05,\n",
       "                       1.0196e-05,  2.2038e-04, -2.4850e-04,  3.0582e-04,  1.6692e-04,\n",
       "                      -8.9605e-06,  6.3454e-05,  8.7734e-06, -3.3021e-04, -1.2111e-02,\n",
       "                       1.9792e-02,  8.2003e-03, -2.6312e-02, -4.4704e-02,  3.2610e-02,\n",
       "                      -6.8593e-03,  3.0450e-03,  1.3936e-02,  1.0510e-02,  4.5603e-03,\n",
       "                      -2.7813e-03, -2.8721e-02,  8.4809e-03, -1.5060e-03,  3.5193e-02,\n",
       "                      -2.8024e-02, -3.3932e-03,  2.6118e-02, -3.6946e-02, -5.1380e-03,\n",
       "                       9.0928e-03, -1.8832e-02,  3.2174e-02,  2.1862e-02,  2.5464e-04,\n",
       "                      -4.2563e-03, -1.8248e-02, -9.0734e-03, -1.5720e-03, -7.4601e-03,\n",
       "                       1.0112e-02], device='cuda:0')),\n",
       "             ('pos_emb.pos_attn.out_proj.weight',\n",
       "              tensor([[-0.1446,  0.0211,  0.0597,  ..., -0.0769,  0.0019,  0.0259],\n",
       "                      [-0.0772,  0.1085,  0.1861,  ..., -0.0768, -0.1509,  0.1226],\n",
       "                      [-0.0730,  0.1013, -0.0051,  ...,  0.0483,  0.1308, -0.1258],\n",
       "                      ...,\n",
       "                      [-0.0253, -0.0259,  0.1209,  ..., -0.0860, -0.0611,  0.1239],\n",
       "                      [ 0.1156,  0.0473,  0.1523,  ...,  0.0786, -0.0074, -0.0594],\n",
       "                      [-0.0494,  0.0708, -0.1005,  ...,  0.0023, -0.0624,  0.0384]],\n",
       "                     device='cuda:0')),\n",
       "             ('pos_emb.pos_attn.out_proj.bias',\n",
       "              tensor([ 0.0593, -0.0312, -0.0517, -0.0921,  0.0638,  0.0357,  0.0617, -0.0604,\n",
       "                      -0.0002, -0.0207,  0.0729, -0.0305, -0.0121,  0.0405, -0.0497,  0.0402,\n",
       "                       0.0501, -0.0067, -0.0281, -0.0930, -0.0483,  0.0571, -0.0729,  0.0081,\n",
       "                      -0.0617, -0.0658, -0.1457,  0.0181,  0.0727,  0.0190, -0.0167, -0.0342],\n",
       "                     device='cuda:0')),\n",
       "             ('pos_emb.pos_norm.weight',\n",
       "              tensor([0.8210, 0.7230, 0.8407, 0.7862, 0.8970, 0.7544, 0.8605, 0.7814, 0.8855,\n",
       "                      0.8737, 0.8319, 0.7027, 0.8252, 0.9116, 0.8600, 0.9083, 0.8697, 0.8699,\n",
       "                      0.8733, 0.8605, 0.7946, 0.7709, 0.7979, 0.7154, 0.8105, 0.8272, 0.9893,\n",
       "                      0.8028, 0.8177, 0.7203, 0.6775, 0.8297], device='cuda:0')),\n",
       "             ('pos_emb.pos_norm.bias',\n",
       "              tensor([ 0.0459, -0.0634, -0.0392, -0.0975,  0.0705, -0.0026,  0.0417, -0.0881,\n",
       "                       0.0012, -0.0313,  0.0724, -0.0935, -0.0851,  0.0276, -0.0528,  0.0348,\n",
       "                      -0.0007,  0.0036, -0.0463, -0.0758, -0.0511,  0.0435, -0.0605,  0.0733,\n",
       "                      -0.0489, -0.0854, -0.1500,  0.0744,  0.0683,  0.0523, -0.0735, -0.0360],\n",
       "                     device='cuda:0')),\n",
       "             ('encoder_layers.0.encoder_attn.in_proj_weight',\n",
       "              tensor([[-0.0792,  0.0636,  0.0178,  ..., -0.0636,  0.1558, -0.0521],\n",
       "                      [-0.0940, -0.1000,  0.0146,  ...,  0.0562,  0.1409, -0.1383],\n",
       "                      [ 0.1690, -0.1375, -0.0660,  ...,  0.0498,  0.0079,  0.0933],\n",
       "                      ...,\n",
       "                      [-0.1690, -0.1196, -0.1193,  ..., -0.0567,  0.2284,  0.0240],\n",
       "                      [ 0.1456,  0.1010, -0.0099,  ..., -0.0571,  0.1978,  0.0409],\n",
       "                      [ 0.1236, -0.0431,  0.0107,  ...,  0.0964, -0.1080, -0.0040]],\n",
       "                     device='cuda:0')),\n",
       "             ('encoder_layers.0.encoder_attn.in_proj_bias',\n",
       "              tensor([ 5.1964e-02,  3.7016e-03,  2.2882e-03, -2.6986e-02, -2.2393e-02,\n",
       "                      -1.6354e-02, -5.4571e-02,  6.5018e-02,  8.1594e-02,  5.9025e-02,\n",
       "                       4.5430e-02, -7.7306e-02, -8.9471e-02, -8.4990e-02, -2.5139e-02,\n",
       "                       2.1601e-02,  1.4920e-03, -4.0573e-02,  1.6656e-02, -2.8898e-04,\n",
       "                       2.4114e-02, -3.6288e-02, -3.5724e-02, -1.7095e-02,  4.6273e-02,\n",
       "                      -3.0791e-02, -8.4235e-02, -2.9154e-02,  3.8564e-02, -4.7733e-02,\n",
       "                      -7.1883e-02,  1.3337e-02,  6.9521e-05,  5.9394e-04,  4.7332e-04,\n",
       "                       1.5410e-04,  1.2359e-04,  1.8223e-05, -9.2671e-04, -7.4394e-04,\n",
       "                       5.1472e-05, -1.6742e-05, -6.7951e-05,  4.1770e-05, -2.4962e-05,\n",
       "                      -1.0385e-04, -1.3488e-04,  2.8224e-05,  2.3412e-04,  1.9121e-05,\n",
       "                       3.0176e-04, -1.0753e-03, -6.2857e-05, -1.0187e-04, -8.3535e-04,\n",
       "                      -1.9403e-04,  3.3309e-04, -4.8490e-04, -1.4069e-04, -8.2516e-06,\n",
       "                       2.3674e-06, -4.7910e-04, -2.8688e-05,  3.6011e-04,  5.9817e-02,\n",
       "                       6.8061e-02, -1.2956e-02, -8.6375e-02,  4.1607e-02, -1.8388e-02,\n",
       "                      -5.3249e-02,  6.9675e-02, -5.7621e-02,  3.6525e-02, -9.5883e-03,\n",
       "                      -4.9523e-02, -3.3394e-02,  2.3276e-02,  7.6898e-02,  6.1743e-02,\n",
       "                       2.0295e-02, -1.2234e-01,  2.5415e-03, -1.7711e-02, -9.0759e-03,\n",
       "                      -2.6145e-03,  1.3990e-02,  5.3386e-02,  3.3982e-02, -3.3990e-02,\n",
       "                       5.8820e-04, -2.2958e-02, -2.3524e-03,  5.7832e-02,  3.4135e-02,\n",
       "                      -2.0694e-02], device='cuda:0')),\n",
       "             ('encoder_layers.0.encoder_attn.out_proj.weight',\n",
       "              tensor([[-4.6944e-02, -8.8016e-02,  1.4749e-04,  ...,  4.8858e-02,\n",
       "                        7.5747e-02, -1.5645e-01],\n",
       "                      [ 1.6468e-02,  2.2898e-01,  1.3786e-01,  ...,  6.3578e-02,\n",
       "                       -6.1766e-03,  1.3921e-01],\n",
       "                      [ 9.9907e-02, -7.4161e-03, -1.6896e-01,  ...,  3.0104e-01,\n",
       "                       -1.0223e-02,  1.3970e-01],\n",
       "                      ...,\n",
       "                      [ 9.7046e-02, -3.6960e-02,  1.0381e-01,  ...,  7.5546e-02,\n",
       "                        2.7216e-02,  3.5831e-02],\n",
       "                      [-1.0712e-01,  7.4598e-02,  1.3773e-01,  ...,  1.1105e-02,\n",
       "                        3.5776e-02,  2.2266e-01],\n",
       "                      [ 1.8680e-02,  2.8008e-02, -1.4241e-01,  ..., -1.5511e-01,\n",
       "                       -7.5421e-02,  4.8776e-02]], device='cuda:0')),\n",
       "             ('encoder_layers.0.encoder_attn.out_proj.bias',\n",
       "              tensor([ 0.1159, -0.0380, -0.0446, -0.0786,  0.0981,  0.0275,  0.0641,  0.0272,\n",
       "                       0.0380,  0.0029,  0.0918, -0.0883, -0.0839,  0.0475, -0.0818,  0.0773,\n",
       "                       0.0594, -0.0037, -0.0165, -0.1202, -0.0454,  0.1049, -0.0654,  0.0761,\n",
       "                      -0.0428, -0.0877, -0.2871,  0.1068,  0.0931,  0.1096, -0.1004, -0.0480],\n",
       "                     device='cuda:0')),\n",
       "             ('encoder_layers.0.encoder_norm1.weight',\n",
       "              tensor([0.8568, 0.8274, 0.7164, 0.8011, 0.9302, 0.7809, 0.8344, 0.8392, 0.7979,\n",
       "                      0.8336, 0.7431, 0.7481, 0.8993, 0.8495, 0.8557, 0.8801, 0.8685, 0.8573,\n",
       "                      0.8250, 0.7972, 0.7974, 0.7699, 0.8073, 0.6362, 0.7959, 0.8112, 0.9623,\n",
       "                      0.8907, 0.8138, 0.7804, 0.7247, 0.7796], device='cuda:0')),\n",
       "             ('encoder_layers.0.encoder_norm1.bias',\n",
       "              tensor([ 0.0377, -0.0463, -0.0317, -0.0629,  0.0705, -0.0305,  0.0334, -0.0696,\n",
       "                      -0.0243, -0.0767,  0.0569, -0.0719, -0.0664,  0.0213, -0.0502,  0.0269,\n",
       "                      -0.0156,  0.0103, -0.0364, -0.0639, -0.0478,  0.0569, -0.0474,  0.0788,\n",
       "                      -0.0310, -0.0548, -0.1355,  0.0704,  0.0473,  0.0680, -0.0539, -0.0303],\n",
       "                     device='cuda:0')),\n",
       "             ('encoder_layers.0.encoder_feedforward.0.weight',\n",
       "              tensor([[-0.2053, -0.1947, -0.1417,  ...,  0.0046, -0.0819,  0.1087],\n",
       "                      [-0.1177, -0.0916, -0.1026,  ..., -0.1547, -0.0183, -0.1534],\n",
       "                      [-0.0680, -0.1171,  0.0704,  ..., -0.0494, -0.0335,  0.1275],\n",
       "                      ...,\n",
       "                      [-0.0706,  0.0977, -0.1183,  ...,  0.0127,  0.0524,  0.2097],\n",
       "                      [ 0.0312,  0.0983,  0.0786,  ...,  0.0380,  0.1609,  0.1077],\n",
       "                      [-0.3611, -0.0697,  0.0412,  ..., -0.0936, -0.1452,  0.0254]],\n",
       "                     device='cuda:0')),\n",
       "             ('encoder_layers.0.encoder_feedforward.0.bias',\n",
       "              tensor([-0.0222, -0.1064, -0.0861, -0.3022, -0.1202,  0.0420,  0.0324, -0.0749,\n",
       "                      -0.0336,  0.0173,  0.0794,  0.1401, -0.1250,  0.0101, -0.1697, -0.1139,\n",
       "                      -0.1230, -0.1483, -0.1023, -0.1777, -0.1302,  0.0637, -0.1432,  0.0491,\n",
       "                      -0.1612,  0.0472, -0.1423,  0.0651, -0.1705,  0.0576, -0.0338,  0.0722,\n",
       "                      -0.1064, -0.0683, -0.1656, -0.0786, -0.0710, -0.1047,  0.1165, -0.0562,\n",
       "                       0.0829, -0.1141, -0.1954,  0.0575,  0.0389, -0.0954, -0.0780,  0.0458,\n",
       "                      -0.1548, -0.1124,  0.0601, -0.0186,  0.1132,  0.1191, -0.1629, -0.0815,\n",
       "                      -0.1673, -0.0397,  0.0989, -0.0398,  0.0764, -0.1350, -0.2601,  0.0655],\n",
       "                     device='cuda:0')),\n",
       "             ('encoder_layers.0.encoder_feedforward.2.weight',\n",
       "              tensor([[-0.1682, -0.0452, -0.0052,  ...,  0.0376,  0.0913, -0.2096],\n",
       "                      [ 0.0170,  0.0118,  0.0256,  ..., -0.0396,  0.0657, -0.2177],\n",
       "                      [-0.0720, -0.0675, -0.0959,  ...,  0.1332,  0.0254,  0.1316],\n",
       "                      ...,\n",
       "                      [-0.0899,  0.0600, -0.0221,  ..., -0.0969,  0.1208, -0.2501],\n",
       "                      [ 0.0687, -0.0712,  0.1326,  ...,  0.0445, -0.0319, -0.2777],\n",
       "                      [ 0.0130, -0.0332,  0.0332,  ..., -0.1012,  0.0928, -0.2361]],\n",
       "                     device='cuda:0')),\n",
       "             ('encoder_layers.0.encoder_feedforward.2.bias',\n",
       "              tensor([ 0.0653, -0.0632,  0.0241, -0.0756, -0.0489,  0.0253,  0.0167, -0.1028,\n",
       "                      -0.0875, -0.0532, -0.0100,  0.0309,  0.0240,  0.0309, -0.0546,  0.0839,\n",
       "                      -0.0591, -0.0115, -0.0434,  0.0493, -0.0549,  0.0153,  0.0673,  0.0402,\n",
       "                       0.0619,  0.0522, -0.2289,  0.0936,  0.0360, -0.0223, -0.0744, -0.0257],\n",
       "                     device='cuda:0')),\n",
       "             ('encoder_layers.0.encoder_norm2.weight',\n",
       "              tensor([0.8990, 0.7960, 0.8136, 0.8802, 0.8863, 0.7880, 0.8761, 0.8602, 0.8520,\n",
       "                      0.7703, 0.8644, 0.7661, 0.8827, 0.8787, 0.8094, 0.8760, 0.8200, 0.8421,\n",
       "                      0.8745, 0.8819, 0.8016, 0.8150, 0.8011, 0.6571, 0.8095, 0.8753, 0.9605,\n",
       "                      0.8460, 0.8532, 0.8331, 0.8011, 0.8632], device='cuda:0')),\n",
       "             ('encoder_layers.0.encoder_norm2.bias',\n",
       "              tensor([ 0.0238, -0.0337, -0.0250, -0.0377,  0.0436, -0.0380,  0.0200, -0.0728,\n",
       "                      -0.0298, -0.0699,  0.0553, -0.0667, -0.0131,  0.0101, -0.0342,  0.0154,\n",
       "                      -0.0634,  0.0133, -0.0304, -0.0472, -0.0362,  0.0360, -0.0366,  0.0612,\n",
       "                      -0.0301, -0.0390, -0.1109,  0.0341,  0.0324,  0.0684, -0.0111, -0.0189],\n",
       "                     device='cuda:0')),\n",
       "             ('encoder_layers.1.encoder_attn.in_proj_weight',\n",
       "              tensor([[-0.1764, -0.0502,  0.2556,  ..., -0.1664,  0.1140,  0.0814],\n",
       "                      [ 0.1802, -0.0765, -0.1024,  ...,  0.0359, -0.0799, -0.0200],\n",
       "                      [ 0.1424,  0.0730, -0.1279,  ..., -0.1602, -0.1833, -0.2491],\n",
       "                      ...,\n",
       "                      [ 0.1684, -0.0988, -0.0063,  ..., -0.1054,  0.0951, -0.1157],\n",
       "                      [ 0.0014,  0.2245, -0.0356,  ..., -0.0226,  0.2718,  0.2643],\n",
       "                      [-0.0186,  0.0809, -0.1662,  ...,  0.0223,  0.2467, -0.2236]],\n",
       "                     device='cuda:0')),\n",
       "             ('encoder_layers.1.encoder_attn.in_proj_bias',\n",
       "              tensor([-2.4198e-02,  5.7216e-04,  4.5000e-02, -1.6617e-02,  1.4857e-02,\n",
       "                      -1.4620e-02, -3.9039e-02, -3.4578e-02,  2.1857e-02,  4.4297e-03,\n",
       "                      -2.5847e-02,  1.1038e-01,  5.6625e-02, -1.1161e-01, -9.7712e-03,\n",
       "                      -3.0941e-02, -2.1498e-03, -4.3115e-02, -2.6543e-02,  5.1991e-03,\n",
       "                       3.2172e-02,  2.0389e-03, -3.2745e-02,  6.0814e-02,  1.6976e-02,\n",
       "                      -9.2692e-04,  3.0624e-02,  7.2770e-02, -1.0359e-01, -8.4638e-02,\n",
       "                       8.2539e-02,  1.1515e-01,  2.7047e-04,  4.6957e-04, -3.6003e-04,\n",
       "                      -1.1749e-04, -6.7361e-05,  1.3754e-04, -9.9585e-05, -1.8612e-04,\n",
       "                       9.6254e-05, -6.1562e-05,  3.0508e-04,  8.4620e-05, -1.0102e-04,\n",
       "                      -1.2831e-04, -1.1236e-04,  1.3239e-05, -9.3228e-05,  4.5688e-04,\n",
       "                       3.3555e-04,  1.4519e-04, -1.0096e-03,  3.6258e-04,  4.1870e-04,\n",
       "                      -7.6189e-04, -2.5825e-04, -1.9464e-04, -1.0472e-05,  3.3410e-04,\n",
       "                      -4.4607e-04,  1.7214e-04, -1.3520e-04,  8.9854e-05,  1.1114e-02,\n",
       "                       4.1805e-02,  5.7404e-02,  8.2732e-03, -1.5913e-02,  2.3193e-02,\n",
       "                      -1.9935e-02, -6.0622e-02, -1.6928e-02, -4.2974e-02, -7.1027e-02,\n",
       "                      -1.7543e-02,  2.0375e-02,  3.7383e-03, -1.4517e-02,  3.2253e-02,\n",
       "                       4.5740e-02, -3.2330e-02, -1.9494e-02,  4.5904e-02,  2.5838e-02,\n",
       "                       1.8074e-02, -5.4551e-02, -5.6199e-02, -9.4259e-03,  2.4297e-02,\n",
       "                      -1.6717e-02, -4.7024e-02,  6.8737e-02,  6.2753e-02,  3.4000e-02,\n",
       "                       6.2117e-02], device='cuda:0')),\n",
       "             ('encoder_layers.1.encoder_attn.out_proj.weight',\n",
       "              tensor([[ 0.1677,  0.0740,  0.0273,  ..., -0.0439, -0.0512,  0.0297],\n",
       "                      [-0.0495, -0.1360, -0.0159,  ..., -0.0023, -0.1096,  0.0006],\n",
       "                      [ 0.0901, -0.1159, -0.1666,  ..., -0.1054,  0.1376,  0.0160],\n",
       "                      ...,\n",
       "                      [-0.0180,  0.0758, -0.0104,  ..., -0.2169,  0.0722,  0.1523],\n",
       "                      [-0.1643,  0.0893,  0.0185,  ..., -0.0106, -0.1225,  0.1419],\n",
       "                      [-0.1128, -0.0865, -0.0762,  ...,  0.1044, -0.0658, -0.1173]],\n",
       "                     device='cuda:0')),\n",
       "             ('encoder_layers.1.encoder_attn.out_proj.bias',\n",
       "              tensor([ 0.0664, -0.0354, -0.0147,  0.0697,  0.1261,  0.0085,  0.0298,  0.0375,\n",
       "                      -0.0392, -0.0361,  0.0519, -0.0587,  0.0428,  0.0193, -0.0521,  0.0447,\n",
       "                      -0.0710,  0.0125, -0.0061, -0.0671, -0.0263,  0.0750, -0.0431,  0.0583,\n",
       "                      -0.0199, -0.0173, -0.2260,  0.0223,  0.0387,  0.1304, -0.0083, -0.0056],\n",
       "                     device='cuda:0')),\n",
       "             ('encoder_layers.1.encoder_norm1.weight',\n",
       "              tensor([0.8613, 0.7364, 0.8365, 0.8695, 0.9288, 0.7935, 0.8721, 0.8399, 0.8309,\n",
       "                      0.7552, 0.7633, 0.8188, 0.8469, 0.8147, 0.8090, 0.8593, 0.8376, 0.8239,\n",
       "                      0.8477, 0.8496, 0.8409, 0.8014, 0.7685, 0.7686, 0.8222, 0.8869, 1.0167,\n",
       "                      0.8195, 0.8601, 0.9126, 0.8918, 0.8393], device='cuda:0')),\n",
       "             ('encoder_layers.1.encoder_norm1.bias',\n",
       "              tensor([ 0.0192, -0.0167, -0.0122,  0.0149,  0.0586, -0.0159,  0.0074, -0.0178,\n",
       "                      -0.0405, -0.0441,  0.0044, -0.0591,  0.0083,  0.0002, -0.0073,  0.0118,\n",
       "                      -0.0332,  0.0256, -0.0158, -0.0178, -0.0159,  0.0682, -0.0231,  0.0188,\n",
       "                      -0.0157, -0.0040, -0.1288,  0.0008,  0.0010,  0.0723,  0.0237, -0.0055],\n",
       "                     device='cuda:0')),\n",
       "             ('encoder_layers.1.encoder_feedforward.0.weight',\n",
       "              tensor([[-0.2053, -0.1947, -0.1417,  ...,  0.0046, -0.0819,  0.1087],\n",
       "                      [-0.1177, -0.0916, -0.1026,  ..., -0.1547, -0.0183, -0.1534],\n",
       "                      [-0.0680, -0.1171,  0.0704,  ..., -0.0494, -0.0335,  0.1275],\n",
       "                      ...,\n",
       "                      [-0.0706,  0.0977, -0.1183,  ...,  0.0127,  0.0524,  0.2097],\n",
       "                      [ 0.0312,  0.0983,  0.0786,  ...,  0.0380,  0.1609,  0.1077],\n",
       "                      [-0.3611, -0.0697,  0.0412,  ..., -0.0936, -0.1452,  0.0254]],\n",
       "                     device='cuda:0')),\n",
       "             ('encoder_layers.1.encoder_feedforward.0.bias',\n",
       "              tensor([-0.0222, -0.1064, -0.0861, -0.3022, -0.1202,  0.0420,  0.0324, -0.0749,\n",
       "                      -0.0336,  0.0173,  0.0794,  0.1401, -0.1250,  0.0101, -0.1697, -0.1139,\n",
       "                      -0.1230, -0.1483, -0.1023, -0.1777, -0.1302,  0.0637, -0.1432,  0.0491,\n",
       "                      -0.1612,  0.0472, -0.1423,  0.0651, -0.1705,  0.0576, -0.0338,  0.0722,\n",
       "                      -0.1064, -0.0683, -0.1656, -0.0786, -0.0710, -0.1047,  0.1165, -0.0562,\n",
       "                       0.0829, -0.1141, -0.1954,  0.0575,  0.0389, -0.0954, -0.0780,  0.0458,\n",
       "                      -0.1548, -0.1124,  0.0601, -0.0186,  0.1132,  0.1191, -0.1629, -0.0815,\n",
       "                      -0.1673, -0.0397,  0.0989, -0.0398,  0.0764, -0.1350, -0.2601,  0.0655],\n",
       "                     device='cuda:0')),\n",
       "             ('encoder_layers.1.encoder_feedforward.2.weight',\n",
       "              tensor([[-0.1682, -0.0452, -0.0052,  ...,  0.0376,  0.0913, -0.2096],\n",
       "                      [ 0.0170,  0.0118,  0.0256,  ..., -0.0396,  0.0657, -0.2177],\n",
       "                      [-0.0720, -0.0675, -0.0959,  ...,  0.1332,  0.0254,  0.1316],\n",
       "                      ...,\n",
       "                      [-0.0899,  0.0600, -0.0221,  ..., -0.0969,  0.1208, -0.2501],\n",
       "                      [ 0.0687, -0.0712,  0.1326,  ...,  0.0445, -0.0319, -0.2777],\n",
       "                      [ 0.0130, -0.0332,  0.0332,  ..., -0.1012,  0.0928, -0.2361]],\n",
       "                     device='cuda:0')),\n",
       "             ('encoder_layers.1.encoder_feedforward.2.bias',\n",
       "              tensor([ 0.0653, -0.0632,  0.0241, -0.0756, -0.0489,  0.0253,  0.0167, -0.1028,\n",
       "                      -0.0875, -0.0532, -0.0100,  0.0309,  0.0240,  0.0309, -0.0546,  0.0839,\n",
       "                      -0.0591, -0.0115, -0.0434,  0.0493, -0.0549,  0.0153,  0.0673,  0.0402,\n",
       "                       0.0619,  0.0522, -0.2289,  0.0936,  0.0360, -0.0223, -0.0744, -0.0257],\n",
       "                     device='cuda:0')),\n",
       "             ('encoder_layers.1.encoder_norm2.weight',\n",
       "              tensor([0.8635, 0.7784, 0.8710, 0.7833, 0.8725, 0.7855, 0.8753, 0.8326, 0.8482,\n",
       "                      0.8337, 0.7234, 0.8009, 0.8672, 0.8705, 0.8477, 0.8546, 0.8099, 0.8217,\n",
       "                      0.8635, 0.9091, 0.8729, 0.8288, 0.8256, 0.7848, 0.8152, 0.9117, 0.9847,\n",
       "                      0.8003, 0.8984, 0.9147, 0.8704, 0.8381], device='cuda:0')),\n",
       "             ('encoder_layers.1.encoder_norm2.bias',\n",
       "              tensor([ 0.0014,  0.0070, -0.0047,  0.0142,  0.0516, -0.0375,  0.0048, -0.0058,\n",
       "                      -0.0139, -0.0281,  0.0037, -0.0241, -0.0043, -0.0021,  0.0113,  0.0005,\n",
       "                      -0.0228,  0.0307, -0.0119, -0.0102,  0.0014,  0.0348, -0.0163, -0.0013,\n",
       "                      -0.0179, -0.0059, -0.1087, -0.0023, -0.0095,  0.0507,  0.0820,  0.0139],\n",
       "                     device='cuda:0')),\n",
       "             ('encoder_layers.2.encoder_attn.in_proj_weight',\n",
       "              tensor([[-0.0369,  0.0244,  0.0883,  ...,  0.1133,  0.0833,  0.0810],\n",
       "                      [ 0.0939, -0.2240, -0.1304,  ..., -0.1152,  0.0673,  0.0358],\n",
       "                      [-0.0308, -0.0722, -0.2275,  ..., -0.3017, -0.1594,  0.1372],\n",
       "                      ...,\n",
       "                      [ 0.0433,  0.0786,  0.1053,  ...,  0.1061,  0.1080,  0.1155],\n",
       "                      [-0.0370,  0.2379,  0.1046,  ...,  0.0048,  0.0201,  0.0277],\n",
       "                      [ 0.1792,  0.1932, -0.1325,  ...,  0.0583,  0.1687,  0.1525]],\n",
       "                     device='cuda:0')),\n",
       "             ('encoder_layers.2.encoder_attn.in_proj_bias',\n",
       "              tensor([ 3.1569e-02, -7.7907e-02, -5.1851e-02, -8.6106e-02,  2.1736e-02,\n",
       "                       3.8652e-02, -6.3018e-03, -1.0996e-02,  5.6908e-02, -9.4079e-02,\n",
       "                      -2.8907e-02,  1.5096e-02,  9.6984e-03,  8.9824e-02, -3.6883e-02,\n",
       "                      -1.6373e-02, -5.4716e-02, -3.8539e-03, -7.1942e-02, -2.9478e-02,\n",
       "                       5.1634e-02, -6.9174e-02,  9.5199e-03,  1.0187e-02,  6.0283e-03,\n",
       "                       1.7011e-01,  4.3873e-02,  2.9456e-02, -7.7473e-02, -3.3661e-02,\n",
       "                      -3.5755e-02,  3.5951e-02,  2.0112e-04,  1.0762e-05,  6.1395e-05,\n",
       "                      -4.0402e-06,  7.8889e-05, -5.1731e-05,  1.9725e-04,  7.9674e-05,\n",
       "                      -5.2503e-05, -1.1101e-04,  9.9651e-05,  8.9831e-05,  1.5180e-04,\n",
       "                       1.9959e-04,  4.9934e-05, -7.4459e-05,  4.7488e-07,  3.0071e-05,\n",
       "                      -5.0356e-05, -6.6725e-05, -1.0439e-04, -7.0878e-05, -1.9288e-05,\n",
       "                       2.7862e-05,  9.7673e-05, -1.3545e-04,  1.6294e-04,  2.3981e-04,\n",
       "                       1.8052e-05,  9.1185e-05, -1.6242e-05, -6.7634e-05, -1.6174e-02,\n",
       "                      -3.5487e-02, -1.2348e-02, -5.6503e-03,  1.1104e-03, -4.4323e-03,\n",
       "                       4.5283e-02,  2.3559e-03,  1.6367e-02, -2.8803e-02, -5.7793e-02,\n",
       "                      -2.6593e-02,  7.4749e-02,  3.4517e-02, -2.3547e-02, -2.0055e-03,\n",
       "                       1.8888e-02,  3.3155e-02, -3.2719e-02, -2.0805e-02,  3.5797e-03,\n",
       "                       8.4899e-04,  7.7328e-03, -8.4790e-03,  1.4268e-02,  2.1341e-02,\n",
       "                       1.8012e-02, -3.2849e-02,  1.2020e-02,  5.0769e-02,  1.8044e-02,\n",
       "                      -9.5266e-03], device='cuda:0')),\n",
       "             ('encoder_layers.2.encoder_attn.out_proj.weight',\n",
       "              tensor([[ 0.0838,  0.0108, -0.0612,  ..., -0.1352,  0.0550, -0.1591],\n",
       "                      [-0.1058,  0.0800,  0.0675,  ..., -0.1004,  0.1178, -0.1240],\n",
       "                      [ 0.0003, -0.0112, -0.1454,  ...,  0.0328, -0.0680, -0.0708],\n",
       "                      ...,\n",
       "                      [ 0.0147,  0.2536,  0.1885,  ...,  0.0494,  0.1028,  0.0280],\n",
       "                      [ 0.0109,  0.1570, -0.0228,  ..., -0.1820, -0.1370,  0.0600],\n",
       "                      [-0.0700, -0.1636, -0.1074,  ...,  0.0784, -0.0435, -0.2082]],\n",
       "                     device='cuda:0')),\n",
       "             ('encoder_layers.2.encoder_attn.out_proj.bias',\n",
       "              tensor([ 0.0177,  0.0244, -0.0091,  0.0627,  0.0875, -0.0135,  0.0063,  0.0153,\n",
       "                       0.0008, -0.0008,  0.0126, -0.0148,  0.0091, -0.0003, -0.0046,  0.0126,\n",
       "                      -0.0485,  0.0215, -0.0037, -0.0321, -0.0045,  0.0857, -0.0148,  0.0246,\n",
       "                      -0.0167, -0.0139, -0.1872,  0.0122,  0.0030,  0.1030,  0.0719, -0.0094],\n",
       "                     device='cuda:0')),\n",
       "             ('encoder_layers.2.encoder_norm1.weight',\n",
       "              tensor([0.8304, 0.7844, 0.8196, 0.7603, 0.8888, 0.7665, 0.8434, 0.8048, 0.8494,\n",
       "                      0.9070, 0.6765, 0.7585, 0.8592, 0.8375, 0.8490, 0.8476, 0.8495, 0.8161,\n",
       "                      0.8225, 0.8625, 0.8537, 0.8607, 0.7788, 0.8482, 0.8179, 0.8801, 0.9984,\n",
       "                      0.7980, 0.8906, 0.9187, 0.9701, 0.8906], device='cuda:0')),\n",
       "             ('encoder_layers.2.encoder_norm1.bias',\n",
       "              tensor([-2.7729e-03,  9.2745e-03, -8.8719e-03, -1.3081e-02,  2.5558e-02,\n",
       "                      -3.5984e-02,  1.0968e-03, -1.1304e-02, -2.9575e-03, -1.6617e-02,\n",
       "                      -7.0740e-05, -1.3950e-02, -7.0631e-03, -4.4189e-03,  1.4857e-02,\n",
       "                      -5.9181e-04, -1.3883e-02,  2.6160e-02, -8.4298e-03, -6.7930e-03,\n",
       "                      -1.9132e-03,  2.8222e-02, -1.1741e-02, -2.2282e-02, -1.1447e-02,\n",
       "                      -2.9155e-02, -1.1784e-01,  1.4632e-03, -1.8814e-02,  1.2171e-02,\n",
       "                       4.1643e-02, -2.7999e-02], device='cuda:0')),\n",
       "             ('encoder_layers.2.encoder_feedforward.0.weight',\n",
       "              tensor([[-0.2053, -0.1947, -0.1417,  ...,  0.0046, -0.0819,  0.1087],\n",
       "                      [-0.1177, -0.0916, -0.1026,  ..., -0.1547, -0.0183, -0.1534],\n",
       "                      [-0.0680, -0.1171,  0.0704,  ..., -0.0494, -0.0335,  0.1275],\n",
       "                      ...,\n",
       "                      [-0.0706,  0.0977, -0.1183,  ...,  0.0127,  0.0524,  0.2097],\n",
       "                      [ 0.0312,  0.0983,  0.0786,  ...,  0.0380,  0.1609,  0.1077],\n",
       "                      [-0.3611, -0.0697,  0.0412,  ..., -0.0936, -0.1452,  0.0254]],\n",
       "                     device='cuda:0')),\n",
       "             ('encoder_layers.2.encoder_feedforward.0.bias',\n",
       "              tensor([-0.0222, -0.1064, -0.0861, -0.3022, -0.1202,  0.0420,  0.0324, -0.0749,\n",
       "                      -0.0336,  0.0173,  0.0794,  0.1401, -0.1250,  0.0101, -0.1697, -0.1139,\n",
       "                      -0.1230, -0.1483, -0.1023, -0.1777, -0.1302,  0.0637, -0.1432,  0.0491,\n",
       "                      -0.1612,  0.0472, -0.1423,  0.0651, -0.1705,  0.0576, -0.0338,  0.0722,\n",
       "                      -0.1064, -0.0683, -0.1656, -0.0786, -0.0710, -0.1047,  0.1165, -0.0562,\n",
       "                       0.0829, -0.1141, -0.1954,  0.0575,  0.0389, -0.0954, -0.0780,  0.0458,\n",
       "                      -0.1548, -0.1124,  0.0601, -0.0186,  0.1132,  0.1191, -0.1629, -0.0815,\n",
       "                      -0.1673, -0.0397,  0.0989, -0.0398,  0.0764, -0.1350, -0.2601,  0.0655],\n",
       "                     device='cuda:0')),\n",
       "             ('encoder_layers.2.encoder_feedforward.2.weight',\n",
       "              tensor([[-0.1682, -0.0452, -0.0052,  ...,  0.0376,  0.0913, -0.2096],\n",
       "                      [ 0.0170,  0.0118,  0.0256,  ..., -0.0396,  0.0657, -0.2177],\n",
       "                      [-0.0720, -0.0675, -0.0959,  ...,  0.1332,  0.0254,  0.1316],\n",
       "                      ...,\n",
       "                      [-0.0899,  0.0600, -0.0221,  ..., -0.0969,  0.1208, -0.2501],\n",
       "                      [ 0.0687, -0.0712,  0.1326,  ...,  0.0445, -0.0319, -0.2777],\n",
       "                      [ 0.0130, -0.0332,  0.0332,  ..., -0.1012,  0.0928, -0.2361]],\n",
       "                     device='cuda:0')),\n",
       "             ('encoder_layers.2.encoder_feedforward.2.bias',\n",
       "              tensor([ 0.0653, -0.0632,  0.0241, -0.0756, -0.0489,  0.0253,  0.0167, -0.1028,\n",
       "                      -0.0875, -0.0532, -0.0100,  0.0309,  0.0240,  0.0309, -0.0546,  0.0839,\n",
       "                      -0.0591, -0.0115, -0.0434,  0.0493, -0.0549,  0.0153,  0.0673,  0.0402,\n",
       "                       0.0619,  0.0522, -0.2289,  0.0936,  0.0360, -0.0223, -0.0744, -0.0257],\n",
       "                     device='cuda:0')),\n",
       "             ('encoder_layers.2.encoder_norm2.weight',\n",
       "              tensor([0.8381, 0.7782, 0.8087, 0.7536, 0.8423, 0.7706, 0.8712, 0.8145, 0.8504,\n",
       "                      0.8929, 0.7048, 0.7671, 0.8813, 0.8483, 0.8334, 0.8447, 0.8966, 0.8160,\n",
       "                      0.8194, 0.8653, 0.8554, 0.8770, 0.8042, 0.8883, 0.8121, 0.9040, 0.9564,\n",
       "                      0.7980, 0.9191, 0.9326, 0.9077, 0.8507], device='cuda:0')),\n",
       "             ('encoder_layers.2.encoder_norm2.bias',\n",
       "              tensor([-0.0088,  0.0260, -0.0073, -0.0369, -0.0084, -0.0363,  0.0002, -0.0081,\n",
       "                      -0.0085,  0.0142, -0.0027, -0.0129, -0.0120, -0.0050,  0.0780, -0.0050,\n",
       "                      -0.0130,  0.0253, -0.0104,  0.0399, -0.0144, -0.0441, -0.0063, -0.0035,\n",
       "                      -0.0149, -0.0271, -0.0979,  0.0009, -0.0366, -0.0625,  0.0070,  0.0098],\n",
       "                     device='cuda:0')),\n",
       "             ('encoder_layers.3.encoder_attn.in_proj_weight',\n",
       "              tensor([[ 0.1933, -0.1825, -0.0916,  ..., -0.0100, -0.1307,  0.0975],\n",
       "                      [ 0.0662,  0.2623,  0.0098,  ...,  0.1462,  0.0813,  0.0588],\n",
       "                      [ 0.0819, -0.0766,  0.1712,  ...,  0.1166,  0.0566,  0.0537],\n",
       "                      ...,\n",
       "                      [-0.2176, -0.0409,  0.1874,  ..., -0.1564,  0.0006, -0.1058],\n",
       "                      [-0.2326, -0.0207, -0.0578,  ..., -0.1803,  0.1863,  0.1332],\n",
       "                      [-0.0720, -0.1122,  0.0684,  ...,  0.1216, -0.1429,  0.2134]],\n",
       "                     device='cuda:0')),\n",
       "             ('encoder_layers.3.encoder_attn.in_proj_bias',\n",
       "              tensor([ 6.4537e-02, -1.8924e-02,  2.5735e-02, -1.6070e-02, -1.0650e-01,\n",
       "                       1.2821e-02,  2.8616e-02,  1.8755e-02,  3.6799e-02,  1.3875e-01,\n",
       "                      -1.7824e-01, -1.3589e-01, -4.4257e-02,  4.4473e-03,  1.3757e-02,\n",
       "                      -5.6867e-02, -1.3209e-02,  9.6075e-02,  2.5357e-02, -6.4093e-02,\n",
       "                      -8.8076e-02,  9.0875e-02, -7.6451e-02, -1.1416e-01,  1.7617e-02,\n",
       "                      -3.3719e-02, -2.9111e-02, -5.5097e-03,  3.1670e-02,  2.3915e-02,\n",
       "                      -2.6018e-03,  6.2458e-02, -1.0818e-04,  1.6709e-04,  2.1822e-06,\n",
       "                       6.9422e-05,  8.9731e-05,  1.2971e-05, -1.4214e-04,  3.8363e-05,\n",
       "                       2.3099e-05, -4.2804e-04,  1.4166e-05,  3.7037e-04, -7.7173e-05,\n",
       "                       8.6697e-05, -1.3494e-04,  1.1465e-04, -2.2505e-04, -1.6294e-03,\n",
       "                      -2.4542e-04,  6.0007e-04,  7.4346e-04, -2.5361e-04,  9.6747e-04,\n",
       "                       8.3962e-04,  6.1460e-04, -7.1114e-04,  9.6105e-04,  1.8832e-04,\n",
       "                       8.1967e-04, -1.7725e-04,  8.1811e-05, -5.4503e-04,  4.1821e-02,\n",
       "                      -1.3740e-02,  1.5490e-02,  3.5010e-02, -1.0636e-02, -3.6436e-02,\n",
       "                       1.8709e-02,  5.4594e-02, -1.7539e-02,  1.5628e-02, -2.0302e-04,\n",
       "                      -2.1831e-02,  3.4912e-02,  5.6888e-02,  2.5309e-02,  5.7882e-02,\n",
       "                       7.3857e-03, -1.3819e-02,  1.3954e-02,  9.5014e-02, -1.9393e-02,\n",
       "                      -2.8272e-02,  2.7513e-02,  2.6897e-02,  5.0003e-02, -3.1629e-02,\n",
       "                      -3.0159e-02, -2.4206e-02, -6.0703e-03, -1.3247e-02, -6.9479e-02,\n",
       "                      -4.6994e-03], device='cuda:0')),\n",
       "             ('encoder_layers.3.encoder_attn.out_proj.weight',\n",
       "              tensor([[ 0.0260, -0.1321, -0.0752,  ...,  0.0404,  0.1364,  0.0459],\n",
       "                      [ 0.0649,  0.0277, -0.0471,  ...,  0.0462,  0.1646,  0.0049],\n",
       "                      [ 0.1075, -0.0658,  0.0012,  ...,  0.0005, -0.0067,  0.0275],\n",
       "                      ...,\n",
       "                      [-0.2554, -0.2055,  0.1743,  ..., -0.1453,  0.1712,  0.0769],\n",
       "                      [ 0.0392, -0.0118,  0.0304,  ...,  0.1363,  0.0392, -0.0319],\n",
       "                      [-0.0178,  0.1080,  0.0341,  ...,  0.1842, -0.0762, -0.0571]],\n",
       "                     device='cuda:0')),\n",
       "             ('encoder_layers.3.encoder_attn.out_proj.bias',\n",
       "              tensor([ 6.8685e-03,  3.1171e-02, -5.5286e-05,  1.6997e-02,  3.1818e-02,\n",
       "                       3.8038e-03,  2.2546e-03,  8.0146e-03,  5.4122e-03,  1.8693e-02,\n",
       "                       5.9432e-03, -1.2335e-02,  6.2976e-03, -5.0099e-03,  2.2941e-03,\n",
       "                       1.2021e-02,  5.2293e-03,  1.9061e-02, -8.6288e-03, -1.6149e-02,\n",
       "                      -3.1072e-03, -1.4195e-02, -5.0585e-03, -1.2909e-02, -5.0430e-03,\n",
       "                      -1.2376e-02, -1.8817e-01,  1.1582e-02, -5.9403e-03,  1.3068e-02,\n",
       "                       2.2028e-02,  2.0795e-03], device='cuda:0')),\n",
       "             ('encoder_layers.3.encoder_norm1.weight',\n",
       "              tensor([0.8227, 0.7273, 0.7701, 0.7911, 0.8067, 0.7971, 0.8520, 0.7788, 0.7293,\n",
       "                      0.8631, 0.5988, 0.7765, 0.8263, 0.8130, 0.8290, 0.8374, 0.8186, 0.7492,\n",
       "                      0.7446, 0.8391, 0.8042, 0.8045, 0.7817, 0.7514, 0.7620, 0.8319, 0.8745,\n",
       "                      0.8038, 0.9094, 0.8470, 0.8448, 0.7643], device='cuda:0')),\n",
       "             ('encoder_layers.3.encoder_norm1.bias',\n",
       "              tensor([-1.3021e-02, -2.2224e-03,  6.7509e-04, -2.3998e-02, -2.4985e-02,\n",
       "                      -3.8269e-03, -5.3934e-04, -3.6745e-03,  2.1677e-03, -3.9244e-02,\n",
       "                       2.5226e-03, -1.9314e-02, -1.0608e-02, -5.9639e-03,  6.7850e-02,\n",
       "                      -7.8224e-03, -4.4494e-05,  2.6846e-02, -1.1038e-02,  1.2614e-02,\n",
       "                      -1.5064e-02, -2.7048e-02, -7.9183e-03, -1.2496e-02, -6.8729e-03,\n",
       "                      -4.0378e-04, -2.3808e-02,  2.7656e-03, -3.8123e-02, -4.3450e-02,\n",
       "                       4.2915e-03, -5.8888e-03], device='cuda:0')),\n",
       "             ('encoder_layers.3.encoder_feedforward.0.weight',\n",
       "              tensor([[-0.2053, -0.1947, -0.1417,  ...,  0.0046, -0.0819,  0.1087],\n",
       "                      [-0.1177, -0.0916, -0.1026,  ..., -0.1547, -0.0183, -0.1534],\n",
       "                      [-0.0680, -0.1171,  0.0704,  ..., -0.0494, -0.0335,  0.1275],\n",
       "                      ...,\n",
       "                      [-0.0706,  0.0977, -0.1183,  ...,  0.0127,  0.0524,  0.2097],\n",
       "                      [ 0.0312,  0.0983,  0.0786,  ...,  0.0380,  0.1609,  0.1077],\n",
       "                      [-0.3611, -0.0697,  0.0412,  ..., -0.0936, -0.1452,  0.0254]],\n",
       "                     device='cuda:0')),\n",
       "             ('encoder_layers.3.encoder_feedforward.0.bias',\n",
       "              tensor([-0.0222, -0.1064, -0.0861, -0.3022, -0.1202,  0.0420,  0.0324, -0.0749,\n",
       "                      -0.0336,  0.0173,  0.0794,  0.1401, -0.1250,  0.0101, -0.1697, -0.1139,\n",
       "                      -0.1230, -0.1483, -0.1023, -0.1777, -0.1302,  0.0637, -0.1432,  0.0491,\n",
       "                      -0.1612,  0.0472, -0.1423,  0.0651, -0.1705,  0.0576, -0.0338,  0.0722,\n",
       "                      -0.1064, -0.0683, -0.1656, -0.0786, -0.0710, -0.1047,  0.1165, -0.0562,\n",
       "                       0.0829, -0.1141, -0.1954,  0.0575,  0.0389, -0.0954, -0.0780,  0.0458,\n",
       "                      -0.1548, -0.1124,  0.0601, -0.0186,  0.1132,  0.1191, -0.1629, -0.0815,\n",
       "                      -0.1673, -0.0397,  0.0989, -0.0398,  0.0764, -0.1350, -0.2601,  0.0655],\n",
       "                     device='cuda:0')),\n",
       "             ('encoder_layers.3.encoder_feedforward.2.weight',\n",
       "              tensor([[-0.1682, -0.0452, -0.0052,  ...,  0.0376,  0.0913, -0.2096],\n",
       "                      [ 0.0170,  0.0118,  0.0256,  ..., -0.0396,  0.0657, -0.2177],\n",
       "                      [-0.0720, -0.0675, -0.0959,  ...,  0.1332,  0.0254,  0.1316],\n",
       "                      ...,\n",
       "                      [-0.0899,  0.0600, -0.0221,  ..., -0.0969,  0.1208, -0.2501],\n",
       "                      [ 0.0687, -0.0712,  0.1326,  ...,  0.0445, -0.0319, -0.2777],\n",
       "                      [ 0.0130, -0.0332,  0.0332,  ..., -0.1012,  0.0928, -0.2361]],\n",
       "                     device='cuda:0')),\n",
       "             ('encoder_layers.3.encoder_feedforward.2.bias',\n",
       "              tensor([ 0.0653, -0.0632,  0.0241, -0.0756, -0.0489,  0.0253,  0.0167, -0.1028,\n",
       "                      -0.0875, -0.0532, -0.0100,  0.0309,  0.0240,  0.0309, -0.0546,  0.0839,\n",
       "                      -0.0591, -0.0115, -0.0434,  0.0493, -0.0549,  0.0153,  0.0673,  0.0402,\n",
       "                       0.0619,  0.0522, -0.2289,  0.0936,  0.0360, -0.0223, -0.0744, -0.0257],\n",
       "                     device='cuda:0')),\n",
       "             ('encoder_layers.3.encoder_norm2.weight',\n",
       "              tensor([0.8112, 0.7509, 0.7602, 0.7630, 0.7574, 0.6277, 0.8613, 0.7092, 0.7211,\n",
       "                      0.7408, 0.7403, 0.7698, 0.8050, 0.8281, 0.8067, 0.8230, 0.6423, 0.7442,\n",
       "                      0.7595, 0.8135, 0.7833, 0.7765, 0.7878, 0.7899, 0.7923, 0.8130, 0.8209,\n",
       "                      0.7966, 0.6886, 0.7622, 0.7846, 0.7755], device='cuda:0')),\n",
       "             ('encoder_layers.3.encoder_norm2.bias',\n",
       "              tensor([-0.0191, -0.0283,  0.0060, -0.0236, -0.0626,  0.0154, -0.0050, -0.0018,\n",
       "                      -0.0094, -0.0499, -0.0025, -0.0117, -0.0240, -0.0041,  0.0491, -0.0178,\n",
       "                       0.0556,  0.0343, -0.0130,  0.0139,  0.0083, -0.0537, -0.0044, -0.0067,\n",
       "                      -0.0188, -0.0012,  0.0201, -0.0052, -0.0995, -0.0562,  0.0048,  0.0044],\n",
       "                     device='cuda:0')),\n",
       "             ('output_feedforward.0.weight',\n",
       "              tensor([[-0.0801, -0.0300,  0.0305, -0.0327,  0.0106, -0.0035, -0.1156, -0.0450,\n",
       "                        0.0427, -0.0125,  0.0632, -0.0745, -0.0493, -0.1151, -0.0197, -0.1010,\n",
       "                       -0.0078,  0.0165, -0.0637, -0.0496, -0.0237, -0.0128,  0.0635, -0.0541,\n",
       "                        0.0317, -0.0542, -0.0435,  0.0963, -0.0049, -0.0158, -0.0519, -0.0707]],\n",
       "                     device='cuda:0')),\n",
       "             ('output_feedforward.0.bias', tensor([0.1275], device='cuda:0'))])"
      ]
     },
     "execution_count": 40,
     "metadata": {},
     "output_type": "execute_result"
    }
   ],
   "source": [
    "training.reg_training_loop_rmspe(optimizer=optimizer,model=trans_encoder_model,train_loader=train_loader,val_loader=test_loader,ot_steps=20,report_interval=5,n_epochs=200,list_train_loss=train_loss,list_val_loss=val_loss,device=device,eps=1e-8,scheduler=scheduler)"
   ]
  },
  {
   "cell_type": "code",
   "execution_count": 41,
   "id": "7ef57bd6",
   "metadata": {},
   "outputs": [
    {
     "data": {
      "image/png": "[encoded data removed]",
      "text/plain": [
       "<Figure size 1500x1125 with 1 Axes>"
      ]
     },
     "metadata": {},
     "output_type": "display_data"
    }
   ],
   "source": [
    "from proj_mod import visualization\n",
    "\n",
    "train_loss_cut = train_loss[10:]\n",
    "val_loss_cut = val_loss[10:]\n",
    "\n",
    "vis_dict={(\"transformer\",\"model\"):{\"train_loss\": train_loss_cut,\"val_loss\": val_loss_cut}}\n",
    "visualization.training_plots(vis_dict)"
   ]
  },
  {
   "cell_type": "markdown",
   "id": "fc245cad",
   "metadata": {},
   "source": [
    "## How to get freaky with the encoder only transformer model"
   ]
  },
  {
   "cell_type": "markdown",
   "id": "9717852c",
   "metadata": {},
   "source": [
    "This model is very flexible, and one can get really freaky with it, here are some examples: "
   ]
  },
  {
   "cell_type": "code",
   "execution_count": 11,
   "id": "128ae906",
   "metadata": {},
   "outputs": [],
   "source": [
    "# Here, one can change dropout, and num_heads if one wants to change emb_dim, one should keep in mind to also change the following ts_encoder_ff_layer input and output dimension, output_ff input dimension, and encoder_ensemble's ts_emb_dim to the same to avoid bugs \n",
    "pos_embedder=training.pos_emb_cross_attn(length=60,ts_dim=3,emb_dim=64,dropout=0.3,num_heads=4,keep_mag=True).to(device=device)\n",
    "# Here, one change up the ff layer for the ts_encoder \n",
    "ts_encoder_ff_layer=[\n",
    "    nn.Linear(in_features=64,out_features=128),\n",
    "    nn.ReLU(),\n",
    "    nn.Linear(in_features=128,out_features=128),\n",
    "    nn.ReLU(),\n",
    "    nn.Linear(in_features=128,out_features=64)\n",
    "]\n",
    "# ts_encoder=training.ts_encoder(ts_dim=32, dropout=0.2, num_heads=4, feedforward_layers=ts_encoder_ff_layer).to(device=device)\n",
    "# Here, one can change the final ff layer, I opted to not change anything, I did not think it is very impactful, but I might be wrong  \n",
    "output_ff=nn.Sequential(\n",
    "    nn.Linear(in_features=64,out_features=1)\n",
    ").to(device=device)"
   ]
  },
  {
   "cell_type": "code",
   "execution_count": 12,
   "id": "1308cdc1",
   "metadata": {},
   "outputs": [],
   "source": [
    "# Here one can change \n",
    "trans_encoder_model=training.encoder_ensemble(\n",
    "    pos_emb_model=pos_embedder,\n",
    "    output_feedforward=output_ff,\n",
    "    n_diff=2,\n",
    "    encoder_layer_num=4,\n",
    "    input_scaler=10000,\n",
    "    encoder_dropout=0.3,\n",
    "    encoder_feedforward_list=ts_encoder_ff_layer,\n",
    "    encoder_num_heads=4,\n",
    "    ts_emb_dim=64,\n",
    "    encoder_keep_mag=True).to(device=device)"
   ]
  },
  {
   "cell_type": "code",
   "execution_count": 13,
   "id": "3dbdded6",
   "metadata": {},
   "outputs": [],
   "source": [
    "import torch.optim as optim\n",
    "\n",
    "optimizer = optim.AdamW(trans_encoder_model.parameters(), lr=1e-3)\n",
    "\n",
    "scheduler=optim.lr_scheduler.ReduceLROnPlateau(optimizer=optimizer,mode=\"min\",factor=0.5,patience=5,min_lr=1e-7)\n",
    "\n",
    "# Loss tracking\n",
    "train_loss = []\n",
    "val_loss = []"
   ]
  },
  {
   "cell_type": "code",
   "execution_count": 14,
   "id": "b77fa869",
   "metadata": {},
   "outputs": [
    {
     "data": {
      "text/plain": [
       "=====================================================================================\n",
       "Layer (type:depth-idx)                                       Param #\n",
       "=====================================================================================\n",
       "encoder_ensemble                                             --\n",
       "├─frozen_diff_conv: 1-1                                      --\n",
       "│    └─Conv1d: 2-1                                           (2)\n",
       "├─pos_emb_cross_attn: 1-2                                    --\n",
       "│    └─Linear: 2-2                                           256\n",
       "│    └─Embedding: 2-3                                        3,840\n",
       "│    └─MultiheadAttention: 2-4                               12,480\n",
       "│    │    └─NonDynamicallyQuantizableLinear: 3-1             4,160\n",
       "│    └─LayerNorm: 2-5                                        128\n",
       "├─ModuleList: 1-3                                            --\n",
       "│    └─ts_encoder: 2-6                                       --\n",
       "│    │    └─MultiheadAttention: 3-2                          16,640\n",
       "│    │    └─LayerNorm: 3-3                                   128\n",
       "│    │    └─ModuleList: 3-4                                  33,088\n",
       "│    │    └─LayerNorm: 3-5                                   128\n",
       "│    └─ts_encoder: 2-7                                       --\n",
       "│    │    └─MultiheadAttention: 3-6                          16,640\n",
       "│    │    └─LayerNorm: 3-7                                   128\n",
       "│    │    └─ModuleList: 3-8                                  33,088\n",
       "│    │    └─LayerNorm: 3-9                                   128\n",
       "│    └─ts_encoder: 2-8                                       --\n",
       "│    │    └─MultiheadAttention: 3-10                         16,640\n",
       "│    │    └─LayerNorm: 3-11                                  128\n",
       "│    │    └─ModuleList: 3-12                                 33,088\n",
       "│    │    └─LayerNorm: 3-13                                  128\n",
       "│    └─ts_encoder: 2-9                                       --\n",
       "│    │    └─MultiheadAttention: 3-14                         16,640\n",
       "│    │    └─LayerNorm: 3-15                                  128\n",
       "│    │    └─ModuleList: 3-16                                 33,088\n",
       "│    │    └─LayerNorm: 3-17                                  128\n",
       "├─Sequential: 1-4                                            --\n",
       "│    └─Linear: 2-10                                          65\n",
       "=====================================================================================\n",
       "Total params: 220,867\n",
       "Trainable params: 220,865\n",
       "Non-trainable params: 2\n",
       "====================================================================================="
      ]
     },
     "execution_count": 14,
     "metadata": {},
     "output_type": "execute_result"
    }
   ],
   "source": [
    "from torchinfo import summary\n",
    "summary(trans_encoder_model)"
   ]
  },
  {
   "cell_type": "markdown",
   "id": "0ec6df3a",
   "metadata": {},
   "source": [
    "This is a HUGE model, be careful with it: It took 25s for just one epoch, and it keeps my amd gpu at 90C. "
   ]
  },
  {
   "cell_type": "code",
   "execution_count": 15,
   "id": "c6287856",
   "metadata": {},
   "outputs": [
    {
     "name": "stdout",
     "output_type": "stream",
     "text": [
      "A new best validation loss at epoch  1  with validation loss of  tensor(0.2362, device='cuda:0') .\n",
      "At  25.646986484527588  epoch  1 has training loss  tensor(0.2945, device='cuda:0')  and validation loss  tensor(0.2362, device='cuda:0') .\n",
      "\n",
      "A new best validation loss at epoch  3  with validation loss of  tensor(0.2347, device='cuda:0') .\n",
      "At  131.78482699394226  epoch  5 has training loss  tensor(0.2538, device='cuda:0')  and validation loss  tensor(0.2393, device='cuda:0') .\n",
      "\n",
      "A new best validation loss at epoch  6  with validation loss of  tensor(0.2345, device='cuda:0') .\n"
     ]
    },
    {
     "ename": "KeyboardInterrupt",
     "evalue": "",
     "output_type": "error",
     "traceback": [
      "\u001b[31m---------------------------------------------------------------------------\u001b[39m",
      "\u001b[31mKeyboardInterrupt\u001b[39m                         Traceback (most recent call last)",
      "\u001b[36mCell\u001b[39m\u001b[36m \u001b[39m\u001b[32mIn[15]\u001b[39m\u001b[32m, line 1\u001b[39m\n\u001b[32m----> \u001b[39m\u001b[32m1\u001b[39m \u001b[43mtraining\u001b[49m\u001b[43m.\u001b[49m\u001b[43mreg_training_loop_rmspe\u001b[49m\u001b[43m(\u001b[49m\n\u001b[32m      2\u001b[39m \u001b[43m    \u001b[49m\u001b[43moptimizer\u001b[49m\u001b[43m=\u001b[49m\u001b[43moptimizer\u001b[49m\u001b[43m,\u001b[49m\n\u001b[32m      3\u001b[39m \u001b[43m    \u001b[49m\u001b[43mmodel\u001b[49m\u001b[43m=\u001b[49m\u001b[43mtrans_encoder_model\u001b[49m\u001b[43m,\u001b[49m\n\u001b[32m      4\u001b[39m \u001b[43m    \u001b[49m\u001b[43mtrain_loader\u001b[49m\u001b[43m=\u001b[49m\u001b[43mtrain_loader\u001b[49m\u001b[43m,\u001b[49m\n\u001b[32m      5\u001b[39m \u001b[43m    \u001b[49m\u001b[43mval_loader\u001b[49m\u001b[43m=\u001b[49m\u001b[43mtest_loader\u001b[49m\u001b[43m,\u001b[49m\n\u001b[32m      6\u001b[39m \u001b[43m    \u001b[49m\u001b[43mot_steps\u001b[49m\u001b[43m=\u001b[49m\u001b[32;43m20\u001b[39;49m\u001b[43m,\u001b[49m\n\u001b[32m      7\u001b[39m \u001b[43m    \u001b[49m\u001b[43mreport_interval\u001b[49m\u001b[43m=\u001b[49m\u001b[32;43m5\u001b[39;49m\u001b[43m,\u001b[49m\n\u001b[32m      8\u001b[39m \u001b[43m    \u001b[49m\u001b[43mn_epochs\u001b[49m\u001b[43m=\u001b[49m\u001b[32;43m200\u001b[39;49m\u001b[43m,\u001b[49m\n\u001b[32m      9\u001b[39m \u001b[43m    \u001b[49m\u001b[43mlist_train_loss\u001b[49m\u001b[43m=\u001b[49m\u001b[43mtrain_loss\u001b[49m\u001b[43m,\u001b[49m\n\u001b[32m     10\u001b[39m \u001b[43m    \u001b[49m\u001b[43mlist_val_loss\u001b[49m\u001b[43m=\u001b[49m\u001b[43mval_loss\u001b[49m\u001b[43m,\u001b[49m\n\u001b[32m     11\u001b[39m \u001b[43m    \u001b[49m\u001b[43mdevice\u001b[49m\u001b[43m=\u001b[49m\u001b[43mdevice\u001b[49m\u001b[43m,\u001b[49m\n\u001b[32m     12\u001b[39m \u001b[43m    \u001b[49m\u001b[43meps\u001b[49m\u001b[43m=\u001b[49m\u001b[32;43m1e-8\u001b[39;49m\u001b[43m,\u001b[49m\n\u001b[32m     13\u001b[39m \u001b[43m    \u001b[49m\u001b[43mscheduler\u001b[49m\u001b[43m=\u001b[49m\u001b[43mscheduler\u001b[49m\u001b[43m)\u001b[49m\n",
      "\u001b[36mFile \u001b[39m\u001b[32m~/git/Realized_Volatility_Prediction_-erdos_deeplearning-/NNetwork/../proj_mod/training.py:141\u001b[39m, in \u001b[36mreg_training_loop_rmspe\u001b[39m\u001b[34m(optimizer, model, train_loader, val_loader, device, ot_steps, recall_best, eps, list_train_loss, list_val_loss, report_interval, n_epochs, scaler, norm_train_target, train_target, scheduler)\u001b[39m\n\u001b[32m    139\u001b[39m     target*=scaler\n\u001b[32m    140\u001b[39m \u001b[38;5;66;03m#First, the standard training steps \u001b[39;00m\n\u001b[32m--> \u001b[39m\u001b[32m141\u001b[39m feature=\u001b[43mfeature\u001b[49m\u001b[43m.\u001b[49m\u001b[43mto\u001b[49m\u001b[43m(\u001b[49m\u001b[43mdevice\u001b[49m\u001b[43m=\u001b[49m\u001b[43mdevice\u001b[49m\u001b[43m)\u001b[49m\n\u001b[32m    142\u001b[39m target=target.to(device=device)\n\u001b[32m    145\u001b[39m \u001b[38;5;66;03m#Moved here\u001b[39;00m\n\u001b[32m    146\u001b[39m \u001b[38;5;66;03m#Create variables for training dataset target mean and std \u001b[39;00m\n",
      "\u001b[31mKeyboardInterrupt\u001b[39m: "
     ]
    }
   ],
   "source": [
    "training.reg_training_loop_rmspe(\n",
    "    optimizer=optimizer,\n",
    "    model=trans_encoder_model,\n",
    "    train_loader=train_loader,\n",
    "    val_loader=test_loader,\n",
    "    ot_steps=20,\n",
    "    report_interval=5,\n",
    "    n_epochs=200,\n",
    "    list_train_loss=train_loss,\n",
    "    list_val_loss=val_loss,\n",
    "    device=device,\n",
    "    eps=1e-8,\n",
    "    scheduler=scheduler)"
   ]
  }
 ],
 "metadata": {
  "kernelspec": {
   "display_name": "deep_learning_3_11_8",
   "language": "python",
   "name": "python3"
  },
  "language_info": {
   "codemirror_mode": {
    "name": "ipython",
    "version": 3
   },
   "file_extension": ".py",
   "mimetype": "text/x-python",
   "name": "python",
   "nbconvert_exporter": "python",
   "pygments_lexer": "ipython3",
   "version": "3.11.8"
  }
 },
 "nbformat": 4,
 "nbformat_minor": 5
}
