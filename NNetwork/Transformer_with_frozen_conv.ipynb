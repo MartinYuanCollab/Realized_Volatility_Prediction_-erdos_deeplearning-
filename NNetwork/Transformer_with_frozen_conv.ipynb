{
 "cells": [
  {
   "cell_type": "markdown",
   "id": "34faab65",
   "metadata": {},
   "source": [
    "# In this notebook, we attempt in creating an attention based NN to predict the target on the timeseries alone. "
   ]
  },
  {
   "cell_type": "markdown",
   "id": "0b1623fe",
   "metadata": {},
   "source": [
    "We first create an example, then we will generalize it and include it into training.py. "
   ]
  },
  {
   "cell_type": "markdown",
   "id": "3110fa3d",
   "metadata": {},
   "source": [
    "# Import and preparations "
   ]
  },
  {
   "cell_type": "code",
   "execution_count": 29,
   "id": "44ec0051",
   "metadata": {},
   "outputs": [],
   "source": [
    "import sys, importlib\n",
    "import torch \n",
    "import torch.nn as nn\n",
    "import numpy as np\n",
    "import pandas as pd\n",
    "import copy\n",
    "import time\n",
    "\n",
    "sys.path.append(\"../\")\n",
    "from proj_mod import training, data_processing, visualization\n",
    "importlib.reload(training);\n",
    "importlib.reload(data_processing);\n",
    "importlib.reload(visualization);"
   ]
  },
  {
   "cell_type": "code",
   "execution_count": null,
   "id": "b0d36d44-b3cb-40e6-bbc6-a36c15396f46",
   "metadata": {},
   "outputs": [],
   "source": [
    "#Only run this cell if needed. AMD gpus might need this. Martin, I will remember this. \n",
    "from dotenv import load_dotenv\n",
    "import os\n",
    "\n",
    "load_dotenv(\"../dotenv_env/deep_learning.env\")\n",
    "\n",
    "print(os.environ.get(\"HSA_OVERRIDE_GFX_VERSION\"))"
   ]
  },
  {
   "cell_type": "code",
   "execution_count": 3,
   "id": "9776742b",
   "metadata": {},
   "outputs": [
    {
     "name": "stdout",
     "output_type": "stream",
     "text": [
      "Using device cuda\n"
     ]
    }
   ],
   "source": [
    "device=(torch.device(\"cuda\") if torch.cuda.is_available() else torch.device(\"cpu\"))\n",
    "print(f\"Using device {device}\")"
   ]
  },
  {
   "cell_type": "markdown",
   "id": "75a37b30",
   "metadata": {},
   "source": [
    "# Data preparation "
   ]
  },
  {
   "cell_type": "markdown",
   "id": "795ffb2f",
   "metadata": {},
   "source": [
    "### Load time id order"
   ]
  },
  {
   "cell_type": "code",
   "execution_count": 4,
   "id": "9f295403",
   "metadata": {},
   "outputs": [],
   "source": [
    "list_time=np.load(\"../processed_data/recovered_time_id_order.npy\")"
   ]
  },
  {
   "cell_type": "markdown",
   "id": "24968e95",
   "metadata": {},
   "source": [
    "### Load timeseries "
   ]
  },
  {
   "cell_type": "code",
   "execution_count": 5,
   "id": "9ce645bd",
   "metadata": {},
   "outputs": [],
   "source": [
    "df_RV_ts=pd.read_parquet(\"../processed_data/book_RV_ts_60_si.parquet\")"
   ]
  },
  {
   "cell_type": "markdown",
   "id": "48c789a9",
   "metadata": {},
   "source": [
    "### Load target "
   ]
  },
  {
   "cell_type": "code",
   "execution_count": 6,
   "id": "dfdfdf49",
   "metadata": {},
   "outputs": [
    {
     "data": {
      "text/html": [
       "<div>\n",
       "<style scoped>\n",
       "    .dataframe tbody tr th:only-of-type {\n",
       "        vertical-align: middle;\n",
       "    }\n",
       "\n",
       "    .dataframe tbody tr th {\n",
       "        vertical-align: top;\n",
       "    }\n",
       "\n",
       "    .dataframe thead th {\n",
       "        text-align: right;\n",
       "    }\n",
       "</style>\n",
       "<table border=\"1\" class=\"dataframe\">\n",
       "  <thead>\n",
       "    <tr style=\"text-align: right;\">\n",
       "      <th></th>\n",
       "      <th>stock_id</th>\n",
       "      <th>time_id</th>\n",
       "      <th>target</th>\n",
       "      <th>row_id</th>\n",
       "    </tr>\n",
       "  </thead>\n",
       "  <tbody>\n",
       "    <tr>\n",
       "      <th>0</th>\n",
       "      <td>0</td>\n",
       "      <td>5</td>\n",
       "      <td>0.004136</td>\n",
       "      <td>0-5</td>\n",
       "    </tr>\n",
       "    <tr>\n",
       "      <th>1</th>\n",
       "      <td>0</td>\n",
       "      <td>11</td>\n",
       "      <td>0.001445</td>\n",
       "      <td>0-11</td>\n",
       "    </tr>\n",
       "    <tr>\n",
       "      <th>2</th>\n",
       "      <td>0</td>\n",
       "      <td>16</td>\n",
       "      <td>0.002168</td>\n",
       "      <td>0-16</td>\n",
       "    </tr>\n",
       "    <tr>\n",
       "      <th>3</th>\n",
       "      <td>0</td>\n",
       "      <td>31</td>\n",
       "      <td>0.002195</td>\n",
       "      <td>0-31</td>\n",
       "    </tr>\n",
       "    <tr>\n",
       "      <th>4</th>\n",
       "      <td>0</td>\n",
       "      <td>62</td>\n",
       "      <td>0.001747</td>\n",
       "      <td>0-62</td>\n",
       "    </tr>\n",
       "    <tr>\n",
       "      <th>...</th>\n",
       "      <td>...</td>\n",
       "      <td>...</td>\n",
       "      <td>...</td>\n",
       "      <td>...</td>\n",
       "    </tr>\n",
       "    <tr>\n",
       "      <th>428927</th>\n",
       "      <td>126</td>\n",
       "      <td>32751</td>\n",
       "      <td>0.003461</td>\n",
       "      <td>126-32751</td>\n",
       "    </tr>\n",
       "    <tr>\n",
       "      <th>428928</th>\n",
       "      <td>126</td>\n",
       "      <td>32753</td>\n",
       "      <td>0.003113</td>\n",
       "      <td>126-32753</td>\n",
       "    </tr>\n",
       "    <tr>\n",
       "      <th>428929</th>\n",
       "      <td>126</td>\n",
       "      <td>32758</td>\n",
       "      <td>0.004070</td>\n",
       "      <td>126-32758</td>\n",
       "    </tr>\n",
       "    <tr>\n",
       "      <th>428930</th>\n",
       "      <td>126</td>\n",
       "      <td>32763</td>\n",
       "      <td>0.003357</td>\n",
       "      <td>126-32763</td>\n",
       "    </tr>\n",
       "    <tr>\n",
       "      <th>428931</th>\n",
       "      <td>126</td>\n",
       "      <td>32767</td>\n",
       "      <td>0.002090</td>\n",
       "      <td>126-32767</td>\n",
       "    </tr>\n",
       "  </tbody>\n",
       "</table>\n",
       "<p>428932 rows × 4 columns</p>\n",
       "</div>"
      ],
      "text/plain": [
       "        stock_id  time_id    target     row_id\n",
       "0              0        5  0.004136        0-5\n",
       "1              0       11  0.001445       0-11\n",
       "2              0       16  0.002168       0-16\n",
       "3              0       31  0.002195       0-31\n",
       "4              0       62  0.001747       0-62\n",
       "...          ...      ...       ...        ...\n",
       "428927       126    32751  0.003461  126-32751\n",
       "428928       126    32753  0.003113  126-32753\n",
       "428929       126    32758  0.004070  126-32758\n",
       "428930       126    32763  0.003357  126-32763\n",
       "428931       126    32767  0.002090  126-32767\n",
       "\n",
       "[428932 rows x 4 columns]"
      ]
     },
     "execution_count": 6,
     "metadata": {},
     "output_type": "execute_result"
    }
   ],
   "source": [
    "df_target=pd.read_csv(\"../raw_data/kaggle_ORVP/train.csv\")\n",
    "df_target[\"row_id\"]=df_target[\"stock_id\"].astype(int).astype(str)+\"-\"+df_target[\"time_id\"].astype(int).astype(str)\n",
    "df_target"
   ]
  },
  {
   "cell_type": "markdown",
   "id": "1c116a84",
   "metadata": {},
   "source": [
    "### Create datasets "
   ]
  },
  {
   "cell_type": "code",
   "execution_count": 7,
   "id": "4a7a56d5",
   "metadata": {},
   "outputs": [
    {
     "name": "stdout",
     "output_type": "stream",
     "text": [
      "In fold 0 :\n",
      "\n",
      "Train set end at 8117 .\n",
      "\n",
      "Test set start at 15516 end at 10890 .\n",
      "\n"
     ]
    },
    {
     "name": "stderr",
     "output_type": "stream",
     "text": [
      "/home/machine2/Desktop/Realized_Volatility_Prediction_-erdos_deeplearning-/NNetwork/../proj_mod/training.py:362: SettingWithCopyWarning: \n",
      "A value is trying to be set on a copy of a slice from a DataFrame.\n",
      "Try using .loc[row_indexer,col_indexer] = value instead\n",
      "\n",
      "See the caveats in the documentation: https://pandas.pydata.org/pandas-docs/stable/user_guide/indexing.html#returning-a-view-versus-a-copy\n",
      "  df_tab_copy[\"sub_int_num\"]=np.nan\n",
      "/home/machine2/Desktop/Realized_Volatility_Prediction_-erdos_deeplearning-/NNetwork/../proj_mod/training.py:362: SettingWithCopyWarning: \n",
      "A value is trying to be set on a copy of a slice from a DataFrame.\n",
      "Try using .loc[row_indexer,col_indexer] = value instead\n",
      "\n",
      "See the caveats in the documentation: https://pandas.pydata.org/pandas-docs/stable/user_guide/indexing.html#returning-a-view-versus-a-copy\n",
      "  df_tab_copy[\"sub_int_num\"]=np.nan\n"
     ]
    }
   ],
   "source": [
    "time_split_list=data_processing.time_cross_val_split(list_time=list_time,n_split=1,percent_val_size=10,list_output=True)\n",
    "train_time_id,test_time_id=time_split_list[0][0],time_split_list[0][1]\n",
    "\n",
    "train_dataset=training.RVdataset(time_id_list=train_time_id,ts_features=[\"sub_int_RV\"],tab_features=[\"emb_id\"],df_ts_feat=df_RV_ts,df_target=df_target)\n",
    "test_dataset=training.RVdataset(time_id_list=test_time_id,ts_features=[\"sub_int_RV\"],tab_features=[\"emb_id\"],df_ts_feat=df_RV_ts,df_target=df_target)"
   ]
  },
  {
   "cell_type": "markdown",
   "id": "11addc1e",
   "metadata": {},
   "source": [
    "#### Below is just a reminder of how expand and embedding works "
   ]
  },
  {
   "cell_type": "code",
   "execution_count": 8,
   "id": "d2e36e70",
   "metadata": {},
   "outputs": [],
   "source": [
    "embed=nn.Embedding(num_embeddings=4,embedding_dim=2)\n",
    "out=embed(torch.tensor([[0,1,2,3],[0,1,2,3]]))"
   ]
  },
  {
   "cell_type": "code",
   "execution_count": 9,
   "id": "e7c02435",
   "metadata": {},
   "outputs": [
    {
     "data": {
      "text/plain": [
       "tensor([[[-1.2521,  0.4408],\n",
       "         [ 1.1946,  0.2918],\n",
       "         [-0.5706,  0.3073],\n",
       "         [-0.4879,  1.7634]],\n",
       "\n",
       "        [[-1.2521,  0.4408],\n",
       "         [ 1.1946,  0.2918],\n",
       "         [-0.5706,  0.3073],\n",
       "         [-0.4879,  1.7634]]], grad_fn=<EmbeddingBackward0>)"
      ]
     },
     "execution_count": 9,
     "metadata": {},
     "output_type": "execute_result"
    }
   ],
   "source": [
    "out"
   ]
  },
  {
   "cell_type": "code",
   "execution_count": 10,
   "id": "3782818a",
   "metadata": {},
   "outputs": [
    {
     "data": {
      "text/plain": [
       "torch.Size([2, 4, 2])"
      ]
     },
     "execution_count": 10,
     "metadata": {},
     "output_type": "execute_result"
    }
   ],
   "source": [
    "out.shape"
   ]
  },
  {
   "cell_type": "code",
   "execution_count": 11,
   "id": "f4235233",
   "metadata": {},
   "outputs": [
    {
     "data": {
      "text/plain": [
       "tensor([[0, 1, 2, 3],\n",
       "        [0, 1, 2, 3]])"
      ]
     },
     "execution_count": 11,
     "metadata": {},
     "output_type": "execute_result"
    }
   ],
   "source": [
    "torch.tensor([0,1,2,3]).expand(2,4)"
   ]
  },
  {
   "cell_type": "markdown",
   "id": "20f2c8f0",
   "metadata": {},
   "source": [
    "# Create example (encoder based only) transformer model "
   ]
  },
  {
   "cell_type": "code",
   "execution_count": 12,
   "id": "7e557279",
   "metadata": {},
   "outputs": [],
   "source": [
    "class ts_encoder_example(nn.Module):\n",
    "    def __init__(self):\n",
    "        super().__init__()\n",
    "        self.encoder_attn=nn.MultiheadAttention(embed_dim=32,num_heads=4,dropout=0.1,batch_first=True)\n",
    "        self.encoder_norm1=nn.LayerNorm(32)\n",
    "        self.encoder_feedforward=nn.Sequential(\n",
    "            nn.Linear(in_features=32,out_features=64),\n",
    "            nn.ReLU(),\n",
    "            nn.Linear(in_features=64,out_features=32)\n",
    "        )\n",
    "        self.encoder_norm2=nn.LayerNorm(32)\n",
    "        \n",
    "    def forward(self,x):\n",
    "        attn,_=self.encoder_attn(x,x,x)\n",
    "        x=self.encoder_norm1(x+attn)\n",
    "        attn=self.encoder_feedforward(x)\n",
    "        return self.encoder_norm2(x+attn)\n",
    "        \n",
    "\n",
    "class ts_trans_example(nn.Module): \n",
    "    # An example where only encoder is used, the logic behind this is that we only want one value output, it might not be needed to add in decoders (which )\n",
    "    def __init__(self):\n",
    "        super().__init__()\n",
    "        #Frozen conv \n",
    "        self.frozen_conv=training.frozen_diff_conv(n_diff=2) \n",
    "        #Position embedding \n",
    "        self.pos_emb=nn.Embedding(num_embeddings=60,embedding_dim=32) # 60 is the length of our (default) timeseries. \n",
    "        self.ts_proj=nn.Linear(in_features=3,out_features=32)\n",
    "        self.pos_attn=nn.MultiheadAttention(embed_dim=32,batch_first=True,dropout=0.1,num_heads=4)\n",
    "        self.pos_norm=nn.LayerNorm(32) \n",
    "        #Encoder stacking \n",
    "        self.encoder_layers=nn.ModuleList([\n",
    "            ts_encoder_example()\n",
    "            for _ in range(4)\n",
    "        ])\n",
    "        #Final feedforward \n",
    "        self.final_linear=nn.Linear(in_features=32,out_features=1)\n",
    "        \n",
    "        #scaler\n",
    "        self.input_scaler=10000\n",
    "        \n",
    "    def forward(self,x): \n",
    "        #Create and reshape the timeseries tensor \n",
    "        x*=self.input_scaler\n",
    "        x=torch.unsqueeze(x,dim=1)\n",
    "        x=self.frozen_conv(x)\n",
    "        x=x.permute(0,2,1) \n",
    "        # print(x.shape)\n",
    "        x=self.ts_proj(x) # (N, 60, 32) 60 is the timeseries length \n",
    "        #Adding in position for positional impact \n",
    "        pos_id=torch.arange(60, device=x.device).expand(x.shape[0],60)\n",
    "        pos_emb=self.pos_emb(pos_id)\n",
    "        pos,_=self.pos_attn(x,pos_emb,pos_emb)\n",
    "        x=x+pos\n",
    "        x=self.pos_norm(x)\n",
    "        #Run though the encoder layers \n",
    "        for layer in self.encoder_layers: \n",
    "            x=layer(x)\n",
    "        x=self.final_linear(x)\n",
    "        return torch.sum(x,dim=1)/self.input_scaler # (N,1)\n",
    "        \n",
    "        \n",
    "        "
   ]
  },
  {
   "cell_type": "markdown",
   "id": "9ad642fb",
   "metadata": {},
   "source": [
    "### Create loaders"
   ]
  },
  {
   "cell_type": "code",
   "execution_count": 13,
   "id": "90e5e086",
   "metadata": {},
   "outputs": [],
   "source": [
    "train_loader=torch.utils.data.DataLoader(dataset=train_dataset,batch_size=512,shuffle=True, num_workers=4, pin_memory=True)\n",
    "test_loader=torch.utils.data.DataLoader(dataset=test_dataset,batch_size=512,shuffle=True, num_workers =4, pin_memory=True)\n",
    "\n",
    "# Loss tracking\n",
    "train_loss = []\n",
    "val_loss = []"
   ]
  },
  {
   "cell_type": "markdown",
   "id": "9aa7c045",
   "metadata": {},
   "source": [
    "### Init model "
   ]
  },
  {
   "cell_type": "code",
   "execution_count": 18,
   "id": "0f07f440",
   "metadata": {},
   "outputs": [],
   "source": [
    "trans_example_mod=ts_trans_example().to(device=device)\n",
    "\n",
    "import torch.optim as optim\n",
    "\n",
    "optimizer = optim.Adam(trans_example_mod.parameters(), lr=1e-6)"
   ]
  },
  {
   "cell_type": "code",
   "execution_count": 19,
   "id": "1c3d1939",
   "metadata": {},
   "outputs": [
    {
     "data": {
      "text/plain": [
       "=====================================================================================\n",
       "Layer (type:depth-idx)                                       Param #\n",
       "=====================================================================================\n",
       "ts_trans_example                                             --\n",
       "├─frozen_diff_conv: 1-1                                      --\n",
       "│    └─Conv1d: 2-1                                           (2)\n",
       "├─Embedding: 1-2                                             1,920\n",
       "├─Linear: 1-3                                                128\n",
       "├─MultiheadAttention: 1-4                                    3,168\n",
       "│    └─NonDynamicallyQuantizableLinear: 2-2                  1,056\n",
       "├─LayerNorm: 1-5                                             64\n",
       "├─ModuleList: 1-6                                            --\n",
       "│    └─ts_encoder_example: 2-3                               --\n",
       "│    │    └─MultiheadAttention: 3-1                          4,224\n",
       "│    │    └─LayerNorm: 3-2                                   64\n",
       "│    │    └─Sequential: 3-3                                  4,192\n",
       "│    │    └─LayerNorm: 3-4                                   64\n",
       "│    └─ts_encoder_example: 2-4                               --\n",
       "│    │    └─MultiheadAttention: 3-5                          4,224\n",
       "│    │    └─LayerNorm: 3-6                                   64\n",
       "│    │    └─Sequential: 3-7                                  4,192\n",
       "│    │    └─LayerNorm: 3-8                                   64\n",
       "│    └─ts_encoder_example: 2-5                               --\n",
       "│    │    └─MultiheadAttention: 3-9                          4,224\n",
       "│    │    └─LayerNorm: 3-10                                  64\n",
       "│    │    └─Sequential: 3-11                                 4,192\n",
       "│    │    └─LayerNorm: 3-12                                  64\n",
       "│    └─ts_encoder_example: 2-6                               --\n",
       "│    │    └─MultiheadAttention: 3-13                         4,224\n",
       "│    │    └─LayerNorm: 3-14                                  64\n",
       "│    │    └─Sequential: 3-15                                 4,192\n",
       "│    │    └─LayerNorm: 3-16                                  64\n",
       "├─Linear: 1-7                                                33\n",
       "=====================================================================================\n",
       "Total params: 40,547\n",
       "Trainable params: 40,545\n",
       "Non-trainable params: 2\n",
       "====================================================================================="
      ]
     },
     "execution_count": 19,
     "metadata": {},
     "output_type": "execute_result"
    }
   ],
   "source": [
    "from torchinfo import summary\n",
    "summary(trans_example_mod)"
   ]
  },
  {
   "cell_type": "markdown",
   "id": "579fea31",
   "metadata": {},
   "source": [
    "Oh fucks that is a shit ton of tranable parameters. "
   ]
  },
  {
   "cell_type": "markdown",
   "id": "4aa1a9fd",
   "metadata": {},
   "source": [
    "### Training loop "
   ]
  },
  {
   "cell_type": "code",
   "execution_count": 20,
   "id": "f46acbe3",
   "metadata": {
    "scrolled": true
   },
   "outputs": [
    {
     "name": "stdout",
     "output_type": "stream",
     "text": [
      "A new best validation loss at epoch  1  with validation loss of  tensor(0.6353, device='cuda:0')\n",
      "At  18.591132164001465  epoch  1 has training loss  tensor(1.0087, device='cuda:0')  and validation loss  tensor(0.6353, device='cuda:0') .\n",
      "\n",
      "A new best validation loss at epoch  2  with validation loss of  tensor(0.4699, device='cuda:0')\n",
      "A new best validation loss at epoch  3  with validation loss of  tensor(0.4152, device='cuda:0')\n",
      "A new best validation loss at epoch  4  with validation loss of  tensor(0.3846, device='cuda:0')\n",
      "A new best validation loss at epoch  5  with validation loss of  tensor(0.3679, device='cuda:0')\n",
      "At  96.74080228805542  epoch  5 has training loss  tensor(0.3748, device='cuda:0')  and validation loss  tensor(0.3679, device='cuda:0') .\n",
      "\n",
      "A new best validation loss at epoch  6  with validation loss of  tensor(0.3545, device='cuda:0')\n",
      "A new best validation loss at epoch  7  with validation loss of  tensor(0.3415, device='cuda:0')\n",
      "A new best validation loss at epoch  8  with validation loss of  tensor(0.3282, device='cuda:0')\n",
      "A new best validation loss at epoch  9  with validation loss of  tensor(0.3152, device='cuda:0')\n",
      "A new best validation loss at epoch  10  with validation loss of  tensor(0.3032, device='cuda:0')\n",
      "At  194.41964173316956  epoch  10 has training loss  tensor(0.3117, device='cuda:0')  and validation loss  tensor(0.3032, device='cuda:0') .\n",
      "\n",
      "A new best validation loss at epoch  11  with validation loss of  tensor(0.2940, device='cuda:0')\n",
      "A new best validation loss at epoch  12  with validation loss of  tensor(0.2865, device='cuda:0')\n",
      "A new best validation loss at epoch  13  with validation loss of  tensor(0.2807, device='cuda:0')\n",
      "A new best validation loss at epoch  14  with validation loss of  tensor(0.2762, device='cuda:0')\n",
      "A new best validation loss at epoch  15  with validation loss of  tensor(0.2726, device='cuda:0')\n",
      "At  291.5296456813812  epoch  15 has training loss  tensor(0.2840, device='cuda:0')  and validation loss  tensor(0.2726, device='cuda:0') .\n",
      "\n",
      "A new best validation loss at epoch  16  with validation loss of  tensor(0.2698, device='cuda:0')\n",
      "A new best validation loss at epoch  17  with validation loss of  tensor(0.2665, device='cuda:0')\n",
      "A new best validation loss at epoch  18  with validation loss of  tensor(0.2643, device='cuda:0')\n",
      "A new best validation loss at epoch  19  with validation loss of  tensor(0.2619, device='cuda:0')\n",
      "A new best validation loss at epoch  20  with validation loss of  tensor(0.2602, device='cuda:0')\n",
      "At  388.1509554386139  epoch  20 has training loss  tensor(0.2728, device='cuda:0')  and validation loss  tensor(0.2602, device='cuda:0') .\n",
      "\n",
      "A new best validation loss at epoch  21  with validation loss of  tensor(0.2586, device='cuda:0')\n",
      "A new best validation loss at epoch  22  with validation loss of  tensor(0.2570, device='cuda:0')\n",
      "A new best validation loss at epoch  23  with validation loss of  tensor(0.2554, device='cuda:0')\n",
      "A new best validation loss at epoch  24  with validation loss of  tensor(0.2544, device='cuda:0')\n",
      "A new best validation loss at epoch  25  with validation loss of  tensor(0.2532, device='cuda:0')\n",
      "At  486.0998537540436  epoch  25 has training loss  tensor(0.2665, device='cuda:0')  and validation loss  tensor(0.2532, device='cuda:0') .\n",
      "\n",
      "A new best validation loss at epoch  26  with validation loss of  tensor(0.2523, device='cuda:0')\n",
      "A new best validation loss at epoch  27  with validation loss of  tensor(0.2511, device='cuda:0')\n",
      "A new best validation loss at epoch  28  with validation loss of  tensor(0.2507, device='cuda:0')\n",
      "A new best validation loss at epoch  29  with validation loss of  tensor(0.2497, device='cuda:0')\n",
      "A new best validation loss at epoch  30  with validation loss of  tensor(0.2491, device='cuda:0')\n",
      "At  584.3392162322998  epoch  30 has training loss  tensor(0.2626, device='cuda:0')  and validation loss  tensor(0.2491, device='cuda:0') .\n",
      "\n",
      "A new best validation loss at epoch  31  with validation loss of  tensor(0.2483, device='cuda:0')\n",
      "A new best validation loss at epoch  32  with validation loss of  tensor(0.2478, device='cuda:0')\n",
      "A new best validation loss at epoch  33  with validation loss of  tensor(0.2471, device='cuda:0')\n",
      "A new best validation loss at epoch  34  with validation loss of  tensor(0.2466, device='cuda:0')\n",
      "A new best validation loss at epoch  35  with validation loss of  tensor(0.2462, device='cuda:0')\n",
      "At  682.0649039745331  epoch  35 has training loss  tensor(0.2602, device='cuda:0')  and validation loss  tensor(0.2462, device='cuda:0') .\n",
      "\n",
      "A new best validation loss at epoch  36  with validation loss of  tensor(0.2458, device='cuda:0')\n",
      "A new best validation loss at epoch  37  with validation loss of  tensor(0.2454, device='cuda:0')\n",
      "A new best validation loss at epoch  38  with validation loss of  tensor(0.2448, device='cuda:0')\n",
      "A new best validation loss at epoch  40  with validation loss of  tensor(0.2443, device='cuda:0')\n",
      "At  779.2691872119904  epoch  40 has training loss  tensor(0.2586, device='cuda:0')  and validation loss  tensor(0.2443, device='cuda:0') .\n",
      "\n",
      "A new best validation loss at epoch  41  with validation loss of  tensor(0.2442, device='cuda:0')\n",
      "A new best validation loss at epoch  42  with validation loss of  tensor(0.2438, device='cuda:0')\n",
      "A new best validation loss at epoch  43  with validation loss of  tensor(0.2435, device='cuda:0')\n",
      "A new best validation loss at epoch  44  with validation loss of  tensor(0.2433, device='cuda:0')\n",
      "A new best validation loss at epoch  45  with validation loss of  tensor(0.2431, device='cuda:0')\n",
      "At  876.7823143005371  epoch  45 has training loss  tensor(0.2574, device='cuda:0')  and validation loss  tensor(0.2431, device='cuda:0') .\n",
      "\n",
      "A new best validation loss at epoch  46  with validation loss of  tensor(0.2428, device='cuda:0')\n",
      "A new best validation loss at epoch  47  with validation loss of  tensor(0.2425, device='cuda:0')\n",
      "A new best validation loss at epoch  48  with validation loss of  tensor(0.2423, device='cuda:0')\n",
      "A new best validation loss at epoch  50  with validation loss of  tensor(0.2422, device='cuda:0')\n",
      "At  975.1328725814819  epoch  50 has training loss  tensor(0.2565, device='cuda:0')  and validation loss  tensor(0.2422, device='cuda:0') .\n",
      "\n",
      "A new best validation loss at epoch  51  with validation loss of  tensor(0.2418, device='cuda:0')\n",
      "A new best validation loss at epoch  52  with validation loss of  tensor(0.2417, device='cuda:0')\n",
      "A new best validation loss at epoch  53  with validation loss of  tensor(0.2413, device='cuda:0')\n",
      "A new best validation loss at epoch  54  with validation loss of  tensor(0.2413, device='cuda:0')\n",
      "A new best validation loss at epoch  55  with validation loss of  tensor(0.2410, device='cuda:0')\n",
      "At  1073.3780179023743  epoch  55 has training loss  tensor(0.2559, device='cuda:0')  and validation loss  tensor(0.2410, device='cuda:0') .\n",
      "\n",
      "A new best validation loss at epoch  58  with validation loss of  tensor(0.2406, device='cuda:0')\n",
      "A new best validation loss at epoch  59  with validation loss of  tensor(0.2404, device='cuda:0')\n",
      "A new best validation loss at epoch  60  with validation loss of  tensor(0.2403, device='cuda:0')\n",
      "At  1171.6819303035736  epoch  60 has training loss  tensor(0.2554, device='cuda:0')  and validation loss  tensor(0.2403, device='cuda:0') .\n",
      "\n",
      "A new best validation loss at epoch  63  with validation loss of  tensor(0.2400, device='cuda:0')\n",
      "A new best validation loss at epoch  65  with validation loss of  tensor(0.2397, device='cuda:0')\n",
      "At  1268.9588356018066  epoch  65 has training loss  tensor(0.2549, device='cuda:0')  and validation loss  tensor(0.2397, device='cuda:0') .\n",
      "\n",
      "A new best validation loss at epoch  66  with validation loss of  tensor(0.2396, device='cuda:0')\n",
      "A new best validation loss at epoch  68  with validation loss of  tensor(0.2395, device='cuda:0')\n",
      "A new best validation loss at epoch  69  with validation loss of  tensor(0.2394, device='cuda:0')\n",
      "At  1366.3887729644775  epoch  70 has training loss  tensor(0.2545, device='cuda:0')  and validation loss  tensor(0.2396, device='cuda:0') .\n",
      "\n",
      "A new best validation loss at epoch  71  with validation loss of  tensor(0.2392, device='cuda:0')\n",
      "A new best validation loss at epoch  72  with validation loss of  tensor(0.2390, device='cuda:0')\n",
      "A new best validation loss at epoch  75  with validation loss of  tensor(0.2388, device='cuda:0')\n",
      "At  1464.214762210846  epoch  75 has training loss  tensor(0.2542, device='cuda:0')  and validation loss  tensor(0.2388, device='cuda:0') .\n",
      "\n",
      "A new best validation loss at epoch  77  with validation loss of  tensor(0.2386, device='cuda:0')\n",
      "At  1562.1925790309906  epoch  80 has training loss  tensor(0.2539, device='cuda:0')  and validation loss  tensor(0.2389, device='cuda:0') .\n",
      "\n",
      "A new best validation loss at epoch  81  with validation loss of  tensor(0.2385, device='cuda:0')\n",
      "A new best validation loss at epoch  83  with validation loss of  tensor(0.2383, device='cuda:0')\n",
      "At  1660.1552033424377  epoch  85 has training loss  tensor(0.2537, device='cuda:0')  and validation loss  tensor(0.2384, device='cuda:0') .\n",
      "\n",
      "A new best validation loss at epoch  87  with validation loss of  tensor(0.2380, device='cuda:0')\n"
     ]
    },
    {
     "ename": "KeyboardInterrupt",
     "evalue": "",
     "output_type": "error",
     "traceback": [
      "\u001b[31m---------------------------------------------------------------------------\u001b[39m",
      "\u001b[31mKeyboardInterrupt\u001b[39m                         Traceback (most recent call last)",
      "\u001b[36mCell\u001b[39m\u001b[36m \u001b[39m\u001b[32mIn[20]\u001b[39m\u001b[32m, line 1\u001b[39m\n\u001b[32m----> \u001b[39m\u001b[32m1\u001b[39m \u001b[43mtraining\u001b[49m\u001b[43m.\u001b[49m\u001b[43mreg_training_loop_rmspe\u001b[49m\u001b[43m(\u001b[49m\u001b[43moptimizer\u001b[49m\u001b[43m=\u001b[49m\u001b[43moptimizer\u001b[49m\u001b[43m,\u001b[49m\u001b[43mmodel\u001b[49m\u001b[43m=\u001b[49m\u001b[43mtrans_example_mod\u001b[49m\u001b[43m,\u001b[49m\u001b[43mtrain_loader\u001b[49m\u001b[43m=\u001b[49m\u001b[43mtrain_loader\u001b[49m\u001b[43m,\u001b[49m\u001b[43mval_loader\u001b[49m\u001b[43m=\u001b[49m\u001b[43mtest_loader\u001b[49m\u001b[43m,\u001b[49m\u001b[43mot_steps\u001b[49m\u001b[43m=\u001b[49m\u001b[32;43m20\u001b[39;49m\u001b[43m,\u001b[49m\u001b[43mreport_interval\u001b[49m\u001b[43m=\u001b[49m\u001b[32;43m5\u001b[39;49m\u001b[43m,\u001b[49m\u001b[43mn_epochs\u001b[49m\u001b[43m=\u001b[49m\u001b[32;43m200\u001b[39;49m\u001b[43m,\u001b[49m\u001b[43mlist_train_loss\u001b[49m\u001b[43m=\u001b[49m\u001b[43mtrain_loss\u001b[49m\u001b[43m,\u001b[49m\u001b[43mlist_val_loss\u001b[49m\u001b[43m=\u001b[49m\u001b[43mval_loss\u001b[49m\u001b[43m,\u001b[49m\u001b[43mdevice\u001b[49m\u001b[43m=\u001b[49m\u001b[43mdevice\u001b[49m\u001b[43m,\u001b[49m\u001b[43meps\u001b[49m\u001b[43m=\u001b[49m\u001b[32;43m1e-6\u001b[39;49m\u001b[43m)\u001b[49m\n",
      "\u001b[36mFile \u001b[39m\u001b[32m~/git/Realized_Volatility_Prediction_-erdos_deeplearning-/NNetwork/../proj_mod/training.py:170\u001b[39m, in \u001b[36mreg_training_loop_rmspe\u001b[39m\u001b[34m(optimizer, model, train_loader, val_loader, device, ot_steps, recall_best, eps, list_train_loss, list_val_loss, report_interval, n_epochs, scaler, norm_train_target, train_target)\u001b[39m\n\u001b[32m    168\u001b[39m \u001b[38;5;66;03m#Update using optimizer according to loss of the batch\u001b[39;00m\n\u001b[32m    169\u001b[39m optimizer.zero_grad()\n\u001b[32m--> \u001b[39m\u001b[32m170\u001b[39m \u001b[43mloss_step\u001b[49m\u001b[43m.\u001b[49m\u001b[43mbackward\u001b[49m\u001b[43m(\u001b[49m\u001b[43m)\u001b[49m\n\u001b[32m    171\u001b[39m optimizer.step()\n\u001b[32m    172\u001b[39m \u001b[38;5;66;03m# #Create variables for training dataset target mean and std \u001b[39;00m\n\u001b[32m    173\u001b[39m \u001b[38;5;66;03m# train_target_mean=None\u001b[39;00m\n\u001b[32m    174\u001b[39m \u001b[38;5;66;03m# train_target_std=None            \u001b[39;00m\n\u001b[32m    175\u001b[39m \u001b[38;5;66;03m#Update the sum of sqaure (without grad) \u001b[39;00m\n",
      "\u001b[36mFile \u001b[39m\u001b[32m~/.pyenv/versions/deep_learning_3_11_8/lib/python3.11/site-packages/torch/_tensor.py:648\u001b[39m, in \u001b[36mTensor.backward\u001b[39m\u001b[34m(self, gradient, retain_graph, create_graph, inputs)\u001b[39m\n\u001b[32m    638\u001b[39m \u001b[38;5;28;01mif\u001b[39;00m has_torch_function_unary(\u001b[38;5;28mself\u001b[39m):\n\u001b[32m    639\u001b[39m     \u001b[38;5;28;01mreturn\u001b[39;00m handle_torch_function(\n\u001b[32m    640\u001b[39m         Tensor.backward,\n\u001b[32m    641\u001b[39m         (\u001b[38;5;28mself\u001b[39m,),\n\u001b[32m   (...)\u001b[39m\u001b[32m    646\u001b[39m         inputs=inputs,\n\u001b[32m    647\u001b[39m     )\n\u001b[32m--> \u001b[39m\u001b[32m648\u001b[39m \u001b[43mtorch\u001b[49m\u001b[43m.\u001b[49m\u001b[43mautograd\u001b[49m\u001b[43m.\u001b[49m\u001b[43mbackward\u001b[49m\u001b[43m(\u001b[49m\n\u001b[32m    649\u001b[39m \u001b[43m    \u001b[49m\u001b[38;5;28;43mself\u001b[39;49m\u001b[43m,\u001b[49m\u001b[43m \u001b[49m\u001b[43mgradient\u001b[49m\u001b[43m,\u001b[49m\u001b[43m \u001b[49m\u001b[43mretain_graph\u001b[49m\u001b[43m,\u001b[49m\u001b[43m \u001b[49m\u001b[43mcreate_graph\u001b[49m\u001b[43m,\u001b[49m\u001b[43m \u001b[49m\u001b[43minputs\u001b[49m\u001b[43m=\u001b[49m\u001b[43minputs\u001b[49m\n\u001b[32m    650\u001b[39m \u001b[43m\u001b[49m\u001b[43m)\u001b[49m\n",
      "\u001b[36mFile \u001b[39m\u001b[32m~/.pyenv/versions/deep_learning_3_11_8/lib/python3.11/site-packages/torch/autograd/__init__.py:354\u001b[39m, in \u001b[36mbackward\u001b[39m\u001b[34m(tensors, grad_tensors, retain_graph, create_graph, grad_variables, inputs)\u001b[39m\n\u001b[32m    349\u001b[39m     retain_graph = create_graph\n\u001b[32m    351\u001b[39m \u001b[38;5;66;03m# The reason we repeat the same comment below is that\u001b[39;00m\n\u001b[32m    352\u001b[39m \u001b[38;5;66;03m# some Python versions print out the first line of a multi-line function\u001b[39;00m\n\u001b[32m    353\u001b[39m \u001b[38;5;66;03m# calls in the traceback and some print out the last line\u001b[39;00m\n\u001b[32m--> \u001b[39m\u001b[32m354\u001b[39m \u001b[43m_engine_run_backward\u001b[49m\u001b[43m(\u001b[49m\n\u001b[32m    355\u001b[39m \u001b[43m    \u001b[49m\u001b[43mtensors\u001b[49m\u001b[43m,\u001b[49m\n\u001b[32m    356\u001b[39m \u001b[43m    \u001b[49m\u001b[43mgrad_tensors_\u001b[49m\u001b[43m,\u001b[49m\n\u001b[32m    357\u001b[39m \u001b[43m    \u001b[49m\u001b[43mretain_graph\u001b[49m\u001b[43m,\u001b[49m\n\u001b[32m    358\u001b[39m \u001b[43m    \u001b[49m\u001b[43mcreate_graph\u001b[49m\u001b[43m,\u001b[49m\n\u001b[32m    359\u001b[39m \u001b[43m    \u001b[49m\u001b[43minputs_tuple\u001b[49m\u001b[43m,\u001b[49m\n\u001b[32m    360\u001b[39m \u001b[43m    \u001b[49m\u001b[43mallow_unreachable\u001b[49m\u001b[43m=\u001b[49m\u001b[38;5;28;43;01mTrue\u001b[39;49;00m\u001b[43m,\u001b[49m\n\u001b[32m    361\u001b[39m \u001b[43m    \u001b[49m\u001b[43maccumulate_grad\u001b[49m\u001b[43m=\u001b[49m\u001b[38;5;28;43;01mTrue\u001b[39;49;00m\u001b[43m,\u001b[49m\n\u001b[32m    362\u001b[39m \u001b[43m\u001b[49m\u001b[43m)\u001b[49m\n",
      "\u001b[36mFile \u001b[39m\u001b[32m~/.pyenv/versions/deep_learning_3_11_8/lib/python3.11/site-packages/torch/autograd/graph.py:829\u001b[39m, in \u001b[36m_engine_run_backward\u001b[39m\u001b[34m(t_outputs, *args, **kwargs)\u001b[39m\n\u001b[32m    827\u001b[39m     unregister_hooks = _register_logging_hooks_on_whole_graph(t_outputs)\n\u001b[32m    828\u001b[39m \u001b[38;5;28;01mtry\u001b[39;00m:\n\u001b[32m--> \u001b[39m\u001b[32m829\u001b[39m     \u001b[38;5;28;01mreturn\u001b[39;00m \u001b[43mVariable\u001b[49m\u001b[43m.\u001b[49m\u001b[43m_execution_engine\u001b[49m\u001b[43m.\u001b[49m\u001b[43mrun_backward\u001b[49m\u001b[43m(\u001b[49m\u001b[43m  \u001b[49m\u001b[38;5;66;43;03m# Calls into the C++ engine to run the backward pass\u001b[39;49;00m\n\u001b[32m    830\u001b[39m \u001b[43m        \u001b[49m\u001b[43mt_outputs\u001b[49m\u001b[43m,\u001b[49m\u001b[43m \u001b[49m\u001b[43m*\u001b[49m\u001b[43margs\u001b[49m\u001b[43m,\u001b[49m\u001b[43m \u001b[49m\u001b[43m*\u001b[49m\u001b[43m*\u001b[49m\u001b[43mkwargs\u001b[49m\n\u001b[32m    831\u001b[39m \u001b[43m    \u001b[49m\u001b[43m)\u001b[49m  \u001b[38;5;66;03m# Calls into the C++ engine to run the backward pass\u001b[39;00m\n\u001b[32m    832\u001b[39m \u001b[38;5;28;01mfinally\u001b[39;00m:\n\u001b[32m    833\u001b[39m     \u001b[38;5;28;01mif\u001b[39;00m attach_logging_hooks:\n",
      "\u001b[31mKeyboardInterrupt\u001b[39m: "
     ]
    }
   ],
   "source": [
    "training.reg_training_loop_rmspe(optimizer=optimizer,model=trans_example_mod,train_loader=train_loader,val_loader=test_loader,ot_steps=20,report_interval=5,n_epochs=200,list_train_loss=train_loss,list_val_loss=val_loss,device=device,eps=1e-6)"
   ]
  },
  {
   "cell_type": "code",
   "execution_count": 35,
   "id": "49bef0a3-7443-4a5d-bd8d-0427f9ab5662",
   "metadata": {},
   "outputs": [],
   "source": [
    "# torch.save(train_loss, \"train_loss_trans.pt\")\n",
    "# torch.save(val_loss, \"val_loss_trans.pt\")\n",
    "\n",
    "train_loss = torch.load(\"train_loss_trans.pt\")\n",
    "val_loss = torch.load(\"val_loss_trans.pt\")"
   ]
  },
  {
   "cell_type": "code",
   "execution_count": 36,
   "id": "1f82814f-312e-4216-b0f0-8defde6f9f66",
   "metadata": {},
   "outputs": [
    {
     "data": {
      "image/png": "[encoded data removed]",
      "text/plain": [
       "<Figure size 1500x1125 with 1 Axes>"
      ]
     },
     "metadata": {},
     "output_type": "display_data"
    }
   ],
   "source": [
    "from proj_mod import visualization\n",
    "\n",
    "train_loss_cut = train_loss[10:]\n",
    "val_loss_cut = val_loss[10:]\n",
    "\n",
    "vis_dict={(\"transformer\",\"model\"):{\"train_loss\": train_loss_cut,\"val_loss\": val_loss_cut}}\n",
    "visualization.training_plots(vis_dict)"
   ]
  },
  {
   "cell_type": "markdown",
   "id": "3ebff02c",
   "metadata": {},
   "source": [
    "# A Transformer (encoder only) model that we can play with. "
   ]
  },
  {
   "cell_type": "markdown",
   "id": "7d378155",
   "metadata": {},
   "source": [
    "### Create loaders "
   ]
  },
  {
   "cell_type": "code",
   "execution_count": 24,
   "id": "234f856a",
   "metadata": {},
   "outputs": [],
   "source": [
    "train_loader=torch.utils.data.DataLoader(dataset=train_dataset,batch_size=512,shuffle=True, num_workers=4, pin_memory=True)\n",
    "test_loader=torch.utils.data.DataLoader(dataset=test_dataset,batch_size=512,shuffle=True, num_workers =4, pin_memory=True)\n",
    "\n",
    "# Loss tracking\n",
    "train_loss = []\n",
    "val_loss = []"
   ]
  },
  {
   "cell_type": "markdown",
   "id": "dcc0276d",
   "metadata": {},
   "source": [
    "### * A model that \"do not keep magnitude signal\". "
   ]
  },
  {
   "cell_type": "markdown",
   "id": "cd466b14",
   "metadata": {},
   "source": [
    "#### Create sub models and list needed. "
   ]
  },
  {
   "cell_type": "code",
   "execution_count": 10,
   "id": "65c7a5fb",
   "metadata": {},
   "outputs": [],
   "source": [
    "pos_embedder=training.pos_emb_cross_attn(length=60,ts_dim=3,emb_dim=32,dropout=0.2,num_heads=4).to(device=device)\n",
    "ts_encoder_ff_layer=[\n",
    "    nn.Linear(in_features=32,out_features=64),\n",
    "    nn.ReLU(),\n",
    "    nn.Linear(in_features=64,out_features=32)\n",
    "]\n",
    "# ts_encoder=training.ts_encoder(ts_dim=32, dropout=0.2, num_heads=4, feedforward_layers=ts_encoder_ff_layer).to(device=device)\n",
    "output_ff=nn.Sequential(\n",
    "    nn.Linear(in_features=32,out_features=1)\n",
    ").to(device=device)"
   ]
  },
  {
   "cell_type": "markdown",
   "id": "bd732f40",
   "metadata": {},
   "source": [
    "#### Create the full model "
   ]
  },
  {
   "cell_type": "code",
   "execution_count": 11,
   "id": "07b2afd8",
   "metadata": {},
   "outputs": [],
   "source": [
    "trans_encoder_model=training.encoder_ensemble(pos_emb_model=pos_embedder,output_feedforward=output_ff,n_diff=2,encoder_layer_num=4,input_scaler=10000,encoder_dropout=0.2,encoder_feedforward_list=ts_encoder_ff_layer,encoder_num_heads=4,ts_emb_dim=32).to(device=device)"
   ]
  },
  {
   "cell_type": "code",
   "execution_count": null,
   "id": "82a258bd",
   "metadata": {},
   "outputs": [],
   "source": [
    "import torch.optim as optim\n",
    "\n",
    "optimizer = optim.AdamW(trans_encoder_model.parameters(), lr=1e-6)"
   ]
  },
  {
   "cell_type": "code",
   "execution_count": 13,
   "id": "168f22d6",
   "metadata": {},
   "outputs": [
    {
     "data": {
      "text/plain": [
       "=====================================================================================\n",
       "Layer (type:depth-idx)                                       Param #\n",
       "=====================================================================================\n",
       "encoder_ensemble                                             --\n",
       "├─frozen_diff_conv: 1-1                                      --\n",
       "│    └─Conv1d: 2-1                                           (2)\n",
       "├─pos_emb_cross_attn: 1-2                                    --\n",
       "│    └─Linear: 2-2                                           128\n",
       "│    └─Embedding: 2-3                                        1,920\n",
       "│    └─MultiheadAttention: 2-4                               3,168\n",
       "│    │    └─NonDynamicallyQuantizableLinear: 3-1             1,056\n",
       "│    └─LayerNorm: 2-5                                        64\n",
       "├─ModuleList: 1-3                                            --\n",
       "│    └─ts_encoder: 2-6                                       --\n",
       "│    │    └─MultiheadAttention: 3-2                          4,224\n",
       "│    │    └─LayerNorm: 3-3                                   64\n",
       "│    │    └─ModuleList: 3-4                                  4,192\n",
       "│    │    └─LayerNorm: 3-5                                   64\n",
       "│    └─ts_encoder: 2-7                                       --\n",
       "│    │    └─MultiheadAttention: 3-6                          4,224\n",
       "│    │    └─LayerNorm: 3-7                                   64\n",
       "│    │    └─ModuleList: 3-8                                  4,192\n",
       "│    │    └─LayerNorm: 3-9                                   64\n",
       "│    └─ts_encoder: 2-8                                       --\n",
       "│    │    └─MultiheadAttention: 3-10                         4,224\n",
       "│    │    └─LayerNorm: 3-11                                  64\n",
       "│    │    └─ModuleList: 3-12                                 4,192\n",
       "│    │    └─LayerNorm: 3-13                                  64\n",
       "│    └─ts_encoder: 2-9                                       --\n",
       "│    │    └─MultiheadAttention: 3-14                         4,224\n",
       "│    │    └─LayerNorm: 3-15                                  64\n",
       "│    │    └─ModuleList: 3-16                                 4,192\n",
       "│    │    └─LayerNorm: 3-17                                  64\n",
       "├─Sequential: 1-4                                            --\n",
       "│    └─Linear: 2-10                                          33\n",
       "=====================================================================================\n",
       "Total params: 40,547\n",
       "Trainable params: 40,545\n",
       "Non-trainable params: 2\n",
       "====================================================================================="
      ]
     },
     "execution_count": 13,
     "metadata": {},
     "output_type": "execute_result"
    }
   ],
   "source": [
    "from torchinfo import summary\n",
    "summary(trans_encoder_model)"
   ]
  },
  {
   "cell_type": "code",
   "execution_count": 72,
   "id": "ef42732f",
   "metadata": {},
   "outputs": [
    {
     "name": "stdout",
     "output_type": "stream",
     "text": [
      "A new best validation loss at epoch  1  with validation loss of  tensor(0.5454, device='cuda:0')\n",
      "At  18.762203693389893  epoch  1 has training loss  tensor(0.6175, device='cuda:0')  and validation loss  tensor(0.5454, device='cuda:0') .\n",
      "\n",
      "A new best validation loss at epoch  2  with validation loss of  tensor(0.4970, device='cuda:0')\n",
      "A new best validation loss at epoch  3  with validation loss of  tensor(0.4600, device='cuda:0')\n",
      "A new best validation loss at epoch  4  with validation loss of  tensor(0.4301, device='cuda:0')\n",
      "A new best validation loss at epoch  5  with validation loss of  tensor(0.4061, device='cuda:0')\n",
      "At  98.85857105255127  epoch  5 has training loss  tensor(0.4164, device='cuda:0')  and validation loss  tensor(0.4061, device='cuda:0') .\n",
      "\n",
      "A new best validation loss at epoch  6  with validation loss of  tensor(0.3867, device='cuda:0')\n",
      "A new best validation loss at epoch  7  with validation loss of  tensor(0.3710, device='cuda:0')\n",
      "A new best validation loss at epoch  8  with validation loss of  tensor(0.3572, device='cuda:0')\n",
      "A new best validation loss at epoch  9  with validation loss of  tensor(0.3447, device='cuda:0')\n",
      "A new best validation loss at epoch  10  with validation loss of  tensor(0.3329, device='cuda:0')\n",
      "At  197.73416996002197  epoch  10 has training loss  tensor(0.3400, device='cuda:0')  and validation loss  tensor(0.3329, device='cuda:0') .\n",
      "\n"
     ]
    },
    {
     "ename": "KeyboardInterrupt",
     "evalue": "",
     "output_type": "error",
     "traceback": [
      "\u001b[31m---------------------------------------------------------------------------\u001b[39m",
      "\u001b[31mKeyboardInterrupt\u001b[39m                         Traceback (most recent call last)",
      "\u001b[36mCell\u001b[39m\u001b[36m \u001b[39m\u001b[32mIn[72]\u001b[39m\u001b[32m, line 1\u001b[39m\n\u001b[32m----> \u001b[39m\u001b[32m1\u001b[39m \u001b[43mtraining\u001b[49m\u001b[43m.\u001b[49m\u001b[43mreg_training_loop_rmspe\u001b[49m\u001b[43m(\u001b[49m\u001b[43moptimizer\u001b[49m\u001b[43m=\u001b[49m\u001b[43moptimizer\u001b[49m\u001b[43m,\u001b[49m\u001b[43mmodel\u001b[49m\u001b[43m=\u001b[49m\u001b[43mtrans_encoder_model\u001b[49m\u001b[43m,\u001b[49m\u001b[43mtrain_loader\u001b[49m\u001b[43m=\u001b[49m\u001b[43mtrain_loader\u001b[49m\u001b[43m,\u001b[49m\u001b[43mval_loader\u001b[49m\u001b[43m=\u001b[49m\u001b[43mtest_loader\u001b[49m\u001b[43m,\u001b[49m\u001b[43mot_steps\u001b[49m\u001b[43m=\u001b[49m\u001b[32;43m20\u001b[39;49m\u001b[43m,\u001b[49m\u001b[43mreport_interval\u001b[49m\u001b[43m=\u001b[49m\u001b[32;43m5\u001b[39;49m\u001b[43m,\u001b[49m\u001b[43mn_epochs\u001b[49m\u001b[43m=\u001b[49m\u001b[32;43m200\u001b[39;49m\u001b[43m,\u001b[49m\u001b[43mlist_train_loss\u001b[49m\u001b[43m=\u001b[49m\u001b[43mtrain_loss\u001b[49m\u001b[43m,\u001b[49m\u001b[43mlist_val_loss\u001b[49m\u001b[43m=\u001b[49m\u001b[43mval_loss\u001b[49m\u001b[43m,\u001b[49m\u001b[43mdevice\u001b[49m\u001b[43m=\u001b[49m\u001b[43mdevice\u001b[49m\u001b[43m,\u001b[49m\u001b[43meps\u001b[49m\u001b[43m=\u001b[49m\u001b[32;43m1e-6\u001b[39;49m\u001b[43m)\u001b[49m\n",
      "\u001b[36mFile \u001b[39m\u001b[32m~/git/Realized_Volatility_Prediction_-erdos_deeplearning-/NNetwork/../proj_mod/training.py:192\u001b[39m, in \u001b[36mreg_training_loop_rmspe\u001b[39m\u001b[34m(optimizer, model, train_loader, val_loader, device, ot_steps, recall_best, eps, list_train_loss, list_val_loss, report_interval, n_epochs, scaler, norm_train_target, train_target)\u001b[39m\n\u001b[32m    190\u001b[39m     epoch_train_loss=torch.sqrt(sum_of_sqaure_train/total_data_count)\n\u001b[32m    191\u001b[39m \u001b[38;5;66;03m#Calculate the validation loss of this epoch (without grad, citing another function)\u001b[39;00m\n\u001b[32m--> \u001b[39m\u001b[32m192\u001b[39m epoch_val_loss=\u001b[43mreg_validator_rmspe\u001b[49m\u001b[43m(\u001b[49m\u001b[43mmodel\u001b[49m\u001b[43m=\u001b[49m\u001b[43mmodel\u001b[49m\u001b[43m,\u001b[49m\u001b[43mval_loader\u001b[49m\u001b[43m=\u001b[49m\u001b[43mval_loader\u001b[49m\u001b[43m,\u001b[49m\u001b[43meps\u001b[49m\u001b[43m=\u001b[49m\u001b[43meps\u001b[49m\u001b[43m,\u001b[49m\u001b[43mdevice\u001b[49m\u001b[43m=\u001b[49m\u001b[43mdevice\u001b[49m\u001b[43m,\u001b[49m\u001b[43mscaler\u001b[49m\u001b[43m=\u001b[49m\u001b[43mscaler\u001b[49m\u001b[43m,\u001b[49m\u001b[43mnorm_train_target\u001b[49m\u001b[43m=\u001b[49m\u001b[43mnorm_train_target\u001b[49m\u001b[43m,\u001b[49m\u001b[43mtrain_target_mean\u001b[49m\u001b[43m=\u001b[49m\u001b[43mtrain_target_mean\u001b[49m\u001b[43m,\u001b[49m\u001b[43mtrain_target_std\u001b[49m\u001b[43m=\u001b[49m\u001b[43mtrain_target_std\u001b[49m\u001b[43m)\u001b[49m\n\u001b[32m    193\u001b[39m \u001b[38;5;66;03m#Update the best validation loss and the epoch that it occurred     \u001b[39;00m\n\u001b[32m    194\u001b[39m \u001b[38;5;28;01mif\u001b[39;00m ((epoch==\u001b[32m1\u001b[39m) \u001b[38;5;129;01mor\u001b[39;00m (epoch_val_loss<best_val_loss)): \n",
      "\u001b[36mFile \u001b[39m\u001b[32m~/git/Realized_Volatility_Prediction_-erdos_deeplearning-/NNetwork/../proj_mod/training.py:87\u001b[39m, in \u001b[36mreg_validator_rmspe\u001b[39m\u001b[34m(model, val_loader, device, eps, scaler, norm_train_target, train_target_mean, train_target_std)\u001b[39m\n\u001b[32m     85\u001b[39m     \u001b[38;5;28;01mreturn\u001b[39;00m \u001b[38;5;28;01mNone\u001b[39;00m\n\u001b[32m     86\u001b[39m \u001b[38;5;28;01mwith\u001b[39;00m torch.no_grad():\n\u001b[32m---> \u001b[39m\u001b[32m87\u001b[39m \u001b[43m    \u001b[49m\u001b[38;5;28;43;01mfor\u001b[39;49;00m\u001b[43m \u001b[49m\u001b[43mfeature\u001b[49m\u001b[43m,\u001b[49m\u001b[43m \u001b[49m\u001b[43mtarget\u001b[49m\u001b[43m \u001b[49m\u001b[38;5;129;43;01min\u001b[39;49;00m\u001b[43m \u001b[49m\u001b[43mval_loader\u001b[49m\u001b[43m:\u001b[49m\u001b[43m \u001b[49m\n\u001b[32m     88\u001b[39m \u001b[43m        \u001b[49m\u001b[43mfeature\u001b[49m\u001b[43m*\u001b[49m\u001b[43m=\u001b[49m\u001b[43mscaler\u001b[49m\n\u001b[32m     89\u001b[39m \u001b[43m        \u001b[49m\u001b[43mtarget\u001b[49m\u001b[43m*\u001b[49m\u001b[43m=\u001b[49m\u001b[43mscaler\u001b[49m\n",
      "\u001b[36mFile \u001b[39m\u001b[32m~/.pyenv/versions/deep_learning_3_11_8/lib/python3.11/site-packages/torch/utils/data/dataloader.py:495\u001b[39m, in \u001b[36mDataLoader.__iter__\u001b[39m\u001b[34m(self)\u001b[39m\n\u001b[32m    493\u001b[39m     \u001b[38;5;28;01mreturn\u001b[39;00m \u001b[38;5;28mself\u001b[39m._iterator\n\u001b[32m    494\u001b[39m \u001b[38;5;28;01melse\u001b[39;00m:\n\u001b[32m--> \u001b[39m\u001b[32m495\u001b[39m     \u001b[38;5;28;01mreturn\u001b[39;00m \u001b[38;5;28;43mself\u001b[39;49m\u001b[43m.\u001b[49m\u001b[43m_get_iterator\u001b[49m\u001b[43m(\u001b[49m\u001b[43m)\u001b[49m\n",
      "\u001b[36mFile \u001b[39m\u001b[32m~/.pyenv/versions/deep_learning_3_11_8/lib/python3.11/site-packages/torch/utils/data/dataloader.py:428\u001b[39m, in \u001b[36mDataLoader._get_iterator\u001b[39m\u001b[34m(self)\u001b[39m\n\u001b[32m    426\u001b[39m \u001b[38;5;28;01melse\u001b[39;00m:\n\u001b[32m    427\u001b[39m     \u001b[38;5;28mself\u001b[39m.check_worker_number_rationality()\n\u001b[32m--> \u001b[39m\u001b[32m428\u001b[39m     \u001b[38;5;28;01mreturn\u001b[39;00m \u001b[43m_MultiProcessingDataLoaderIter\u001b[49m\u001b[43m(\u001b[49m\u001b[38;5;28;43mself\u001b[39;49m\u001b[43m)\u001b[49m\n",
      "\u001b[36mFile \u001b[39m\u001b[32m~/.pyenv/versions/deep_learning_3_11_8/lib/python3.11/site-packages/torch/utils/data/dataloader.py:1173\u001b[39m, in \u001b[36m_MultiProcessingDataLoaderIter.__init__\u001b[39m\u001b[34m(self, loader)\u001b[39m\n\u001b[32m   1166\u001b[39m w.daemon = \u001b[38;5;28;01mTrue\u001b[39;00m\n\u001b[32m   1167\u001b[39m \u001b[38;5;66;03m# NB: Process.start() actually take some time as it needs to\u001b[39;00m\n\u001b[32m   1168\u001b[39m \u001b[38;5;66;03m#     start a process and pass the arguments over via a pipe.\u001b[39;00m\n\u001b[32m   1169\u001b[39m \u001b[38;5;66;03m#     Therefore, we only add a worker to self._workers list after\u001b[39;00m\n\u001b[32m   1170\u001b[39m \u001b[38;5;66;03m#     it started, so that we do not call .join() if program dies\u001b[39;00m\n\u001b[32m   1171\u001b[39m \u001b[38;5;66;03m#     before it starts, and __del__ tries to join but will get:\u001b[39;00m\n\u001b[32m   1172\u001b[39m \u001b[38;5;66;03m#     AssertionError: can only join a started process.\u001b[39;00m\n\u001b[32m-> \u001b[39m\u001b[32m1173\u001b[39m \u001b[43mw\u001b[49m\u001b[43m.\u001b[49m\u001b[43mstart\u001b[49m\u001b[43m(\u001b[49m\u001b[43m)\u001b[49m\n\u001b[32m   1174\u001b[39m \u001b[38;5;28mself\u001b[39m._index_queues.append(index_queue)\n\u001b[32m   1175\u001b[39m \u001b[38;5;28mself\u001b[39m._workers.append(w)\n",
      "\u001b[36mFile \u001b[39m\u001b[32m~/.pyenv/versions/3.11.8/lib/python3.11/multiprocessing/process.py:121\u001b[39m, in \u001b[36mBaseProcess.start\u001b[39m\u001b[34m(self)\u001b[39m\n\u001b[32m    118\u001b[39m \u001b[38;5;28;01massert\u001b[39;00m \u001b[38;5;129;01mnot\u001b[39;00m _current_process._config.get(\u001b[33m'\u001b[39m\u001b[33mdaemon\u001b[39m\u001b[33m'\u001b[39m), \\\n\u001b[32m    119\u001b[39m        \u001b[33m'\u001b[39m\u001b[33mdaemonic processes are not allowed to have children\u001b[39m\u001b[33m'\u001b[39m\n\u001b[32m    120\u001b[39m _cleanup()\n\u001b[32m--> \u001b[39m\u001b[32m121\u001b[39m \u001b[38;5;28mself\u001b[39m._popen = \u001b[38;5;28;43mself\u001b[39;49m\u001b[43m.\u001b[49m\u001b[43m_Popen\u001b[49m\u001b[43m(\u001b[49m\u001b[38;5;28;43mself\u001b[39;49m\u001b[43m)\u001b[49m\n\u001b[32m    122\u001b[39m \u001b[38;5;28mself\u001b[39m._sentinel = \u001b[38;5;28mself\u001b[39m._popen.sentinel\n\u001b[32m    123\u001b[39m \u001b[38;5;66;03m# Avoid a refcycle if the target function holds an indirect\u001b[39;00m\n\u001b[32m    124\u001b[39m \u001b[38;5;66;03m# reference to the process object (see bpo-30775)\u001b[39;00m\n",
      "\u001b[36mFile \u001b[39m\u001b[32m~/.pyenv/versions/3.11.8/lib/python3.11/multiprocessing/context.py:224\u001b[39m, in \u001b[36mProcess._Popen\u001b[39m\u001b[34m(process_obj)\u001b[39m\n\u001b[32m    222\u001b[39m \u001b[38;5;129m@staticmethod\u001b[39m\n\u001b[32m    223\u001b[39m \u001b[38;5;28;01mdef\u001b[39;00m\u001b[38;5;250m \u001b[39m\u001b[34m_Popen\u001b[39m(process_obj):\n\u001b[32m--> \u001b[39m\u001b[32m224\u001b[39m     \u001b[38;5;28;01mreturn\u001b[39;00m \u001b[43m_default_context\u001b[49m\u001b[43m.\u001b[49m\u001b[43mget_context\u001b[49m\u001b[43m(\u001b[49m\u001b[43m)\u001b[49m\u001b[43m.\u001b[49m\u001b[43mProcess\u001b[49m\u001b[43m.\u001b[49m\u001b[43m_Popen\u001b[49m\u001b[43m(\u001b[49m\u001b[43mprocess_obj\u001b[49m\u001b[43m)\u001b[49m\n",
      "\u001b[36mFile \u001b[39m\u001b[32m~/.pyenv/versions/3.11.8/lib/python3.11/multiprocessing/context.py:281\u001b[39m, in \u001b[36mForkProcess._Popen\u001b[39m\u001b[34m(process_obj)\u001b[39m\n\u001b[32m    278\u001b[39m \u001b[38;5;129m@staticmethod\u001b[39m\n\u001b[32m    279\u001b[39m \u001b[38;5;28;01mdef\u001b[39;00m\u001b[38;5;250m \u001b[39m\u001b[34m_Popen\u001b[39m(process_obj):\n\u001b[32m    280\u001b[39m     \u001b[38;5;28;01mfrom\u001b[39;00m\u001b[38;5;250m \u001b[39m\u001b[34;01m.\u001b[39;00m\u001b[34;01mpopen_fork\u001b[39;00m\u001b[38;5;250m \u001b[39m\u001b[38;5;28;01mimport\u001b[39;00m Popen\n\u001b[32m--> \u001b[39m\u001b[32m281\u001b[39m     \u001b[38;5;28;01mreturn\u001b[39;00m \u001b[43mPopen\u001b[49m\u001b[43m(\u001b[49m\u001b[43mprocess_obj\u001b[49m\u001b[43m)\u001b[49m\n",
      "\u001b[36mFile \u001b[39m\u001b[32m~/.pyenv/versions/3.11.8/lib/python3.11/multiprocessing/popen_fork.py:19\u001b[39m, in \u001b[36mPopen.__init__\u001b[39m\u001b[34m(self, process_obj)\u001b[39m\n\u001b[32m     17\u001b[39m \u001b[38;5;28mself\u001b[39m.returncode = \u001b[38;5;28;01mNone\u001b[39;00m\n\u001b[32m     18\u001b[39m \u001b[38;5;28mself\u001b[39m.finalizer = \u001b[38;5;28;01mNone\u001b[39;00m\n\u001b[32m---> \u001b[39m\u001b[32m19\u001b[39m \u001b[38;5;28;43mself\u001b[39;49m\u001b[43m.\u001b[49m\u001b[43m_launch\u001b[49m\u001b[43m(\u001b[49m\u001b[43mprocess_obj\u001b[49m\u001b[43m)\u001b[49m\n",
      "\u001b[36mFile \u001b[39m\u001b[32m~/.pyenv/versions/3.11.8/lib/python3.11/multiprocessing/popen_fork.py:75\u001b[39m, in \u001b[36mPopen._launch\u001b[39m\u001b[34m(self, process_obj)\u001b[39m\n\u001b[32m     73\u001b[39m         os._exit(code)\n\u001b[32m     74\u001b[39m \u001b[38;5;28;01melse\u001b[39;00m:\n\u001b[32m---> \u001b[39m\u001b[32m75\u001b[39m     os.close(child_w)\n\u001b[32m     76\u001b[39m     os.close(child_r)\n\u001b[32m     77\u001b[39m     \u001b[38;5;28mself\u001b[39m.finalizer = util.Finalize(\u001b[38;5;28mself\u001b[39m, util.close_fds,\n\u001b[32m     78\u001b[39m                                    (parent_r, parent_w,))\n",
      "\u001b[31mKeyboardInterrupt\u001b[39m: "
     ]
    }
   ],
   "source": [
    "training.reg_training_loop_rmspe(optimizer=optimizer,model=trans_encoder_model,train_loader=train_loader,val_loader=test_loader,ot_steps=20,report_interval=5,n_epochs=200,list_train_loss=train_loss,list_val_loss=val_loss,device=device,eps=1e-6)"
   ]
  },
  {
   "cell_type": "markdown",
   "id": "9edd7cf9",
   "metadata": {},
   "source": [
    "### * A model that \"keeps some magnitude signal\" "
   ]
  },
  {
   "cell_type": "markdown",
   "id": "7bcbd0f6",
   "metadata": {},
   "source": [
    "#### Create sub models and list needed. "
   ]
  },
  {
   "cell_type": "code",
   "execution_count": 14,
   "id": "5c3e7261",
   "metadata": {},
   "outputs": [],
   "source": [
    "pos_embedder=training.pos_emb_cross_attn(length=60,ts_dim=3,emb_dim=32,dropout=0.2,num_heads=4,keep_mag=True).to(device=device)\n",
    "ts_encoder_ff_layer=[\n",
    "    nn.Linear(in_features=32,out_features=64),\n",
    "    nn.ReLU(),\n",
    "    nn.Linear(in_features=64,out_features=32)\n",
    "]\n",
    "# ts_encoder=training.ts_encoder(ts_dim=32, dropout=0.2, num_heads=4, feedforward_layers=ts_encoder_ff_layer).to(device=device)\n",
    "output_ff=nn.Sequential(\n",
    "    nn.Linear(in_features=32,out_features=1)\n",
    ").to(device=device)"
   ]
  },
  {
   "cell_type": "markdown",
   "id": "98ce6114",
   "metadata": {},
   "source": [
    "#### Create the full model "
   ]
  },
  {
   "cell_type": "code",
   "execution_count": 15,
   "id": "e9de086d",
   "metadata": {},
   "outputs": [],
   "source": [
    "trans_encoder_model=training.encoder_ensemble(pos_emb_model=pos_embedder,output_feedforward=output_ff,n_diff=2,encoder_layer_num=4,input_scaler=10000,encoder_dropout=0.2,encoder_feedforward_list=ts_encoder_ff_layer,encoder_num_heads=4,ts_emb_dim=32,encoder_keep_mag=True).to(device=device)"
   ]
  },
  {
   "cell_type": "code",
   "execution_count": null,
   "id": "f66144e6",
   "metadata": {},
   "outputs": [],
   "source": [
    "import torch.optim as optim\n",
    "\n",
    "optimizer = optim.AdamW(trans_encoder_model.parameters(), lr=1e-6)\n",
    "\n",
    "# Loss tracking\n",
    "train_loss = []\n",
    "val_loss = []"
   ]
  },
  {
   "cell_type": "code",
   "execution_count": 17,
   "id": "6e95f5ae",
   "metadata": {},
   "outputs": [
    {
     "data": {
      "text/plain": [
       "=====================================================================================\n",
       "Layer (type:depth-idx)                                       Param #\n",
       "=====================================================================================\n",
       "encoder_ensemble                                             --\n",
       "├─frozen_diff_conv: 1-1                                      --\n",
       "│    └─Conv1d: 2-1                                           (2)\n",
       "├─pos_emb_cross_attn: 1-2                                    --\n",
       "│    └─Linear: 2-2                                           128\n",
       "│    └─Embedding: 2-3                                        1,920\n",
       "│    └─MultiheadAttention: 2-4                               3,168\n",
       "│    │    └─NonDynamicallyQuantizableLinear: 3-1             1,056\n",
       "│    └─LayerNorm: 2-5                                        64\n",
       "├─ModuleList: 1-3                                            --\n",
       "│    └─ts_encoder: 2-6                                       --\n",
       "│    │    └─MultiheadAttention: 3-2                          4,224\n",
       "│    │    └─LayerNorm: 3-3                                   64\n",
       "│    │    └─ModuleList: 3-4                                  4,192\n",
       "│    │    └─LayerNorm: 3-5                                   64\n",
       "│    └─ts_encoder: 2-7                                       --\n",
       "│    │    └─MultiheadAttention: 3-6                          4,224\n",
       "│    │    └─LayerNorm: 3-7                                   64\n",
       "│    │    └─ModuleList: 3-8                                  4,192\n",
       "│    │    └─LayerNorm: 3-9                                   64\n",
       "│    └─ts_encoder: 2-8                                       --\n",
       "│    │    └─MultiheadAttention: 3-10                         4,224\n",
       "│    │    └─LayerNorm: 3-11                                  64\n",
       "│    │    └─ModuleList: 3-12                                 4,192\n",
       "│    │    └─LayerNorm: 3-13                                  64\n",
       "│    └─ts_encoder: 2-9                                       --\n",
       "│    │    └─MultiheadAttention: 3-14                         4,224\n",
       "│    │    └─LayerNorm: 3-15                                  64\n",
       "│    │    └─ModuleList: 3-16                                 4,192\n",
       "│    │    └─LayerNorm: 3-17                                  64\n",
       "├─Sequential: 1-4                                            --\n",
       "│    └─Linear: 2-10                                          33\n",
       "=====================================================================================\n",
       "Total params: 40,547\n",
       "Trainable params: 40,545\n",
       "Non-trainable params: 2\n",
       "====================================================================================="
      ]
     },
     "execution_count": 17,
     "metadata": {},
     "output_type": "execute_result"
    }
   ],
   "source": [
    "from torchinfo import summary\n",
    "summary(trans_encoder_model)"
   ]
  },
  {
   "cell_type": "code",
   "execution_count": null,
   "id": "88521b9a",
   "metadata": {},
   "outputs": [],
   "source": [
    "training.reg_training_loop_rmspe(optimizer=optimizer,model=trans_encoder_model,train_loader=train_loader,val_loader=test_loader,ot_steps=20,report_interval=5,n_epochs=200,list_train_loss=train_loss,list_val_loss=val_loss,device=device,eps=1e-6)"
   ]
  },
  {
   "cell_type": "code",
   "execution_count": 30,
   "id": "e543270d-f6ad-4ae9-8d2f-c0a2bc2dcaaf",
   "metadata": {},
   "outputs": [],
   "source": [
    "# torch.save(train_loss, \"train_loss_signal.pt\")\n",
    "# torch.save(val_loss, \"val_loss_signal.pt\")\n",
    "\n",
    "train_loss = torch.load(\"train_loss_signal.pt\")\n",
    "val_loss = torch.load(\"val_loss_signal.pt\")"
   ]
  },
  {
   "cell_type": "code",
   "execution_count": 32,
   "id": "cef2bd13-5d02-4ff4-9c8d-f0fb247af205",
   "metadata": {},
   "outputs": [
    {
     "data": {
      "image/png": "[encoded data removed]",
      "text/plain": [
       "<Figure size 800x600 with 1 Axes>"
      ]
     },
     "metadata": {},
     "output_type": "display_data"
    }
   ],
   "source": [
    "vis_dict={(\"transformer\",\"signal\"):{\"train_loss\": train_loss[10:],\"val_loss\": val_loss[10:]}}\n",
    "visualization.training_plots(vis_dict, fig_width=8)"
   ]
  },
  {
   "cell_type": "markdown",
   "id": "90118845",
   "metadata": {},
   "source": [
    "#### Training with scheduler "
   ]
  },
  {
   "cell_type": "markdown",
   "id": "42be7680",
   "metadata": {},
   "source": [
    "#### Create sub models and list needed. "
   ]
  },
  {
   "cell_type": "code",
   "execution_count": 19,
   "id": "85b75c3e",
   "metadata": {},
   "outputs": [],
   "source": [
    "pos_embedder=training.pos_emb_cross_attn(length=60,ts_dim=3,emb_dim=32,dropout=0.3,num_heads=4,keep_mag=True).to(device=device)\n",
    "ts_encoder_ff_layer=[\n",
    "    nn.Linear(in_features=32,out_features=64),\n",
    "    nn.ReLU(),\n",
    "    nn.Linear(in_features=64,out_features=32)\n",
    "]\n",
    "# ts_encoder=training.ts_encoder(ts_dim=32, dropout=0.2, num_heads=4, feedforward_layers=ts_encoder_ff_layer).to(device=device)\n",
    "output_ff=nn.Sequential(\n",
    "    nn.Linear(in_features=32,out_features=1)\n",
    ").to(device=device)"
   ]
  },
  {
   "cell_type": "markdown",
   "id": "38502c69",
   "metadata": {},
   "source": [
    "#### Create the full model "
   ]
  },
  {
   "cell_type": "code",
   "execution_count": 20,
   "id": "080a9645",
   "metadata": {},
   "outputs": [],
   "source": [
    "trans_encoder_model=training.encoder_ensemble(pos_emb_model=pos_embedder,output_feedforward=output_ff,n_diff=2,encoder_layer_num=4,input_scaler=10000,encoder_dropout=0.3,encoder_feedforward_list=ts_encoder_ff_layer,encoder_num_heads=4,ts_emb_dim=32,encoder_keep_mag=True).to(device=device)"
   ]
  },
  {
   "cell_type": "code",
   "execution_count": 21,
   "id": "78513e81",
   "metadata": {},
   "outputs": [],
   "source": [
    "import torch.optim as optim\n",
    "\n",
    "optimizer = optim.AdamW(trans_encoder_model.parameters(), lr=1e-3)\n",
    "\n",
    "scheduler=optim.lr_scheduler.ReduceLROnPlateau(optimizer=optimizer,mode=\"min\",factor=0.5,patience=5,min_lr=1e-7)\n",
    "\n",
    "# Loss tracking\n",
    "train_loss = []\n",
    "val_loss = []"
   ]
  },
  {
   "cell_type": "code",
   "execution_count": 22,
   "id": "225cf3bf",
   "metadata": {},
   "outputs": [
    {
     "data": {
      "text/plain": [
       "=====================================================================================\n",
       "Layer (type:depth-idx)                                       Param #\n",
       "=====================================================================================\n",
       "encoder_ensemble                                             --\n",
       "├─frozen_diff_conv: 1-1                                      --\n",
       "│    └─Conv1d: 2-1                                           (2)\n",
       "├─pos_emb_cross_attn: 1-2                                    --\n",
       "│    └─Linear: 2-2                                           128\n",
       "│    └─Embedding: 2-3                                        1,920\n",
       "│    └─MultiheadAttention: 2-4                               3,168\n",
       "│    │    └─NonDynamicallyQuantizableLinear: 3-1             1,056\n",
       "│    └─LayerNorm: 2-5                                        64\n",
       "├─ModuleList: 1-3                                            --\n",
       "│    └─ts_encoder: 2-6                                       --\n",
       "│    │    └─MultiheadAttention: 3-2                          4,224\n",
       "│    │    └─LayerNorm: 3-3                                   64\n",
       "│    │    └─ModuleList: 3-4                                  4,192\n",
       "│    │    └─LayerNorm: 3-5                                   64\n",
       "│    └─ts_encoder: 2-7                                       --\n",
       "│    │    └─MultiheadAttention: 3-6                          4,224\n",
       "│    │    └─LayerNorm: 3-7                                   64\n",
       "│    │    └─ModuleList: 3-8                                  4,192\n",
       "│    │    └─LayerNorm: 3-9                                   64\n",
       "│    └─ts_encoder: 2-8                                       --\n",
       "│    │    └─MultiheadAttention: 3-10                         4,224\n",
       "│    │    └─LayerNorm: 3-11                                  64\n",
       "│    │    └─ModuleList: 3-12                                 4,192\n",
       "│    │    └─LayerNorm: 3-13                                  64\n",
       "│    └─ts_encoder: 2-9                                       --\n",
       "│    │    └─MultiheadAttention: 3-14                         4,224\n",
       "│    │    └─LayerNorm: 3-15                                  64\n",
       "│    │    └─ModuleList: 3-16                                 4,192\n",
       "│    │    └─LayerNorm: 3-17                                  64\n",
       "├─Sequential: 1-4                                            --\n",
       "│    └─Linear: 2-10                                          33\n",
       "=====================================================================================\n",
       "Total params: 40,547\n",
       "Trainable params: 40,545\n",
       "Non-trainable params: 2\n",
       "====================================================================================="
      ]
     },
     "execution_count": 22,
     "metadata": {},
     "output_type": "execute_result"
    }
   ],
   "source": [
    "from torchinfo import summary\n",
    "summary(trans_encoder_model)"
   ]
  },
  {
   "cell_type": "code",
   "execution_count": 23,
   "id": "6fa974da",
   "metadata": {
    "scrolled": true
   },
   "outputs": [
    {
     "name": "stdout",
     "output_type": "stream",
     "text": [
      "A new best validation loss at epoch  1  with validation loss of  tensor(0.2380, device='cuda:0') .\n",
      "At  15.266348361968994  epoch  1 has training loss  tensor(0.3458, device='cuda:0')  and validation loss  tensor(0.2380, device='cuda:0') .\n",
      "\n",
      "A new best validation loss at epoch  2  with validation loss of  tensor(0.2364, device='cuda:0') .\n",
      "A new best validation loss at epoch  5  with validation loss of  tensor(0.2347, device='cuda:0') .\n",
      "At  78.42590284347534  epoch  5 has training loss  tensor(0.2532, device='cuda:0')  and validation loss  tensor(0.2347, device='cuda:0') .\n",
      "\n",
      "A new best validation loss at epoch  6  with validation loss of  tensor(0.2342, device='cuda:0') .\n",
      "A new best validation loss at epoch  10  with validation loss of  tensor(0.2341, device='cuda:0') .\n",
      "At  158.50883173942566  epoch  10 has training loss  tensor(0.2519, device='cuda:0')  and validation loss  tensor(0.2341, device='cuda:0') .\n",
      "\n",
      "At  236.53678345680237  epoch  15 has training loss  tensor(0.2512, device='cuda:0')  and validation loss  tensor(0.2345, device='cuda:0') .\n",
      "\n",
      "At epoch 16, learning rate has been updated from 0.001 to 0.0005, reloading previous best model weights from epoch 10 ...\n",
      "\n",
      "Previous best model weights reloaded, training continues ... \n",
      "A new best validation loss at epoch  18  with validation loss of  tensor(0.2339, device='cuda:0') .\n",
      "At  314.78008246421814  epoch  20 has training loss  tensor(0.2500, device='cuda:0')  and validation loss  tensor(0.2358, device='cuda:0') .\n",
      "\n",
      "A new best validation loss at epoch  23  with validation loss of  tensor(0.2336, device='cuda:0') .\n",
      "At  392.91278100013733  epoch  25 has training loss  tensor(0.2493, device='cuda:0')  and validation loss  tensor(0.2344, device='cuda:0') .\n",
      "\n",
      "At epoch 29, learning rate has been updated from 0.0005 to 0.00025, reloading previous best model weights from epoch 23 ...\n",
      "\n",
      "Previous best model weights reloaded, training continues ... \n",
      "At  471.0983819961548  epoch  30 has training loss  tensor(0.2485, device='cuda:0')  and validation loss  tensor(0.2341, device='cuda:0') .\n",
      "\n",
      "At  549.3948035240173  epoch  35 has training loss  tensor(0.2484, device='cuda:0')  and validation loss  tensor(0.2339, device='cuda:0') .\n",
      "\n",
      "At epoch 35, learning rate has been updated from 0.00025 to 0.000125, reloading previous best model weights from epoch 23 ...\n",
      "\n",
      "Previous best model weights reloaded, training continues ... \n",
      "A new best validation loss at epoch  38  with validation loss of  tensor(0.2332, device='cuda:0') .\n",
      "At  627.5342762470245  epoch  40 has training loss  tensor(0.2476, device='cuda:0')  and validation loss  tensor(0.2334, device='cuda:0') .\n",
      "\n",
      "At epoch 44, learning rate has been updated from 0.000125 to 6.25e-05, reloading previous best model weights from epoch 38 ...\n",
      "\n",
      "Previous best model weights reloaded, training continues ... \n",
      "At  705.7102408409119  epoch  45 has training loss  tensor(0.2472, device='cuda:0')  and validation loss  tensor(0.2333, device='cuda:0') .\n",
      "\n",
      "At  783.8061509132385  epoch  50 has training loss  tensor(0.2471, device='cuda:0')  and validation loss  tensor(0.2335, device='cuda:0') .\n",
      "\n",
      "At epoch 50, learning rate has been updated from 6.25e-05 to 3.125e-05, reloading previous best model weights from epoch 38 ...\n",
      "\n",
      "Previous best model weights reloaded, training continues ... \n",
      "At  861.9751105308533  epoch  55 has training loss  tensor(0.2469, device='cuda:0')  and validation loss  tensor(0.2336, device='cuda:0') .\n",
      "\n",
      "At epoch 56, learning rate has been updated from 3.125e-05 to 1.5625e-05, reloading previous best model weights from epoch 38 ...\n",
      "\n",
      "Previous best model weights reloaded, training continues ... \n",
      "The validation loss has not improved for  20  epochs. Stopping current training loop.\n",
      "\n",
      "Best model state dictionary of this training loop is reloaded.\n",
      "\n",
      "According to validation loss, the best model is reached at epoch 38  with validation loss:  tensor(0.2332, device='cuda:0') .\n",
      " The total number of epoch trained is  58 .\n",
      " Training completed in:  909.1251847743988 .\n",
      "\n"
     ]
    },
    {
     "data": {
      "text/plain": [
       "OrderedDict([('frozen_conv.frozen_conv.weight',\n",
       "              tensor([[[-1.,  1.]]], device='cuda:0')),\n",
       "             ('pos_emb.ts_proj.weight',\n",
       "              tensor([[ 0.2209, -0.5169, -0.0850],\n",
       "                      [-0.1308,  0.1648, -0.2281],\n",
       "                      [-0.3350,  0.1156,  0.3291],\n",
       "                      [ 0.1808,  0.4174,  0.4073],\n",
       "                      [ 0.4625, -0.0049, -0.4094],\n",
       "                      [ 0.1458,  0.1789, -0.2750],\n",
       "                      [ 0.1623,  0.2879, -0.2874],\n",
       "                      [-0.0272, -0.5029, -0.3941],\n",
       "                      [ 0.4771, -0.1382, -0.2921],\n",
       "                      [ 0.4143,  0.2771,  0.2406],\n",
       "                      [-0.3122, -0.1287,  0.0459],\n",
       "                      [-0.3831, -0.0331,  0.3639],\n",
       "                      [ 0.3877, -0.0666, -0.3626],\n",
       "                      [ 0.4196, -0.2960, -0.2491],\n",
       "                      [-0.2958,  0.4082, -0.2982],\n",
       "                      [ 0.3411, -0.1305,  0.1029],\n",
       "                      [-0.0104, -0.2319,  0.0108],\n",
       "                      [ 0.0802,  0.4860,  0.3973],\n",
       "                      [ 0.1777,  0.4449,  0.0192],\n",
       "                      [-0.4852, -0.5953, -0.0535],\n",
       "                      [ 0.0775,  0.2347, -0.1273],\n",
       "                      [-0.1230,  0.3576,  0.2484],\n",
       "                      [-0.0960,  0.3264,  0.1370],\n",
       "                      [ 0.2584, -0.0813, -0.0058],\n",
       "                      [ 0.0221,  0.0763, -0.2902],\n",
       "                      [ 0.3368,  0.2563,  0.2278],\n",
       "                      [-0.2683, -0.4296, -0.3406],\n",
       "                      [ 0.2224, -0.3827, -0.3177],\n",
       "                      [-0.1973, -0.2404,  0.2092],\n",
       "                      [ 0.5340,  0.5921,  0.3743],\n",
       "                      [ 0.4499,  0.0933,  0.2906],\n",
       "                      [-0.4177,  0.3694,  0.2017]], device='cuda:0')),\n",
       "             ('pos_emb.ts_proj.bias',\n",
       "              tensor([ 0.4326,  0.0350,  0.4792, -0.4297, -0.3960,  0.2577, -0.4791,  0.4557,\n",
       "                      -0.1948,  0.3558, -0.2155, -0.0331, -0.4655,  0.0109, -0.1883,  0.4669,\n",
       "                       0.0913, -0.4467,  0.2888,  0.2664, -0.2268,  0.4883,  0.5162,  0.0481,\n",
       "                       0.0161,  0.3226, -0.0358,  0.2676, -0.1664,  0.3211, -0.4580,  0.1271],\n",
       "                     device='cuda:0')),\n",
       "             ('pos_emb.pos_emb.weight',\n",
       "              tensor([[ 0.0454,  0.2746,  0.7829,  ..., -0.0190, -1.2319, -0.2429],\n",
       "                      [ 1.0829, -1.1235, -1.0620,  ..., -0.0728,  0.1011,  1.2428],\n",
       "                      [-0.6019,  0.3257, -0.5403,  ...,  1.3367,  0.1798,  0.1718],\n",
       "                      ...,\n",
       "                      [-0.1270,  0.9444,  0.6512,  ...,  0.6682,  0.2263, -1.1837],\n",
       "                      [-1.5671,  0.4299,  0.1155,  ...,  0.7760,  0.0921, -0.4059],\n",
       "                      [ 1.3917, -1.9206,  0.5957,  ..., -0.8348,  1.1824,  0.7100]],\n",
       "                     device='cuda:0')),\n",
       "             ('pos_emb.pos_attn.in_proj_weight',\n",
       "              tensor([[ 0.0595, -0.1732, -0.2293,  ...,  0.0989,  0.1976, -0.0131],\n",
       "                      [ 0.1000, -0.1874,  0.1439,  ...,  0.0122, -0.0500, -0.0929],\n",
       "                      [-0.1371, -0.1339, -0.0009,  ..., -0.1296,  0.1114, -0.1320],\n",
       "                      ...,\n",
       "                      [-0.0186,  0.0446, -0.1123,  ...,  0.1470,  0.0091,  0.0156],\n",
       "                      [ 0.0793, -0.0056,  0.0708,  ...,  0.1022, -0.0934,  0.0802],\n",
       "                      [-0.0326,  0.1322,  0.1009,  ..., -0.1616,  0.0419,  0.0020]],\n",
       "                     device='cuda:0')),\n",
       "             ('pos_emb.pos_attn.in_proj_bias',\n",
       "              tensor([-9.1069e-02,  1.5927e-02, -4.6763e-02, -9.1478e-03,  4.7401e-02,\n",
       "                      -2.4383e-02,  4.6754e-02, -4.1346e-02, -1.2383e-01,  1.4179e-02,\n",
       "                       5.3873e-02,  4.0379e-02, -2.3497e-02,  5.5270e-03, -1.7709e-03,\n",
       "                       7.3868e-02, -3.7499e-02, -3.0677e-02, -4.0708e-02,  9.8725e-03,\n",
       "                       4.2978e-02, -4.2181e-02,  1.5606e-02,  3.6221e-02, -2.2812e-02,\n",
       "                      -2.7568e-02, -2.0926e-03,  6.6467e-02, -4.7064e-02,  2.3957e-02,\n",
       "                      -5.0501e-02,  2.7182e-02, -9.9974e-04, -3.2556e-04, -6.1574e-04,\n",
       "                       1.8984e-04, -1.1918e-04, -5.7249e-04,  6.7078e-04,  2.8423e-04,\n",
       "                       1.2769e-04,  1.2557e-05,  2.9014e-04,  7.3855e-05,  4.4745e-04,\n",
       "                       4.5920e-06,  5.9962e-04, -8.3224e-04, -2.3292e-04, -1.5680e-04,\n",
       "                       2.4174e-05, -1.4430e-04, -3.9956e-04, -5.6212e-04, -9.9489e-05,\n",
       "                       3.8028e-04, -2.1754e-04,  4.6177e-04,  3.7430e-04, -6.0394e-04,\n",
       "                       5.3881e-06,  4.1946e-04, -2.2578e-04,  1.3244e-04,  3.6592e-02,\n",
       "                       6.4705e-03,  1.4753e-02, -9.1435e-03, -1.3543e-02, -9.8410e-05,\n",
       "                      -3.2448e-02, -1.5691e-02, -1.3544e-03, -3.1720e-02, -2.4291e-02,\n",
       "                      -8.6152e-03,  4.0469e-02, -2.0120e-02,  8.6586e-03, -3.2563e-03,\n",
       "                      -1.2367e-02,  9.6765e-03, -2.6877e-02,  8.8698e-03,  5.6146e-02,\n",
       "                      -4.8297e-02, -1.0717e-02,  3.2688e-02,  3.2311e-03, -2.2348e-02,\n",
       "                       9.8387e-03,  3.2467e-02, -7.2583e-02,  1.5474e-02,  2.5998e-02,\n",
       "                      -1.7809e-02], device='cuda:0')),\n",
       "             ('pos_emb.pos_attn.out_proj.weight',\n",
       "              tensor([[-0.0910, -0.0560,  0.0784,  ..., -0.0490, -0.2112,  0.1444],\n",
       "                      [ 0.0949, -0.0189,  0.0225,  ..., -0.0280,  0.0964, -0.2285],\n",
       "                      [-0.0687,  0.0016, -0.0352,  ...,  0.0224,  0.0896, -0.1338],\n",
       "                      ...,\n",
       "                      [-0.0711,  0.0808,  0.0970,  ...,  0.0148, -0.0606,  0.0952],\n",
       "                      [-0.0645,  0.0773, -0.0401,  ...,  0.1209, -0.0008, -0.0017],\n",
       "                      [ 0.1938, -0.0145,  0.1417,  ...,  0.0845,  0.0200,  0.1134]],\n",
       "                     device='cuda:0')),\n",
       "             ('pos_emb.pos_attn.out_proj.bias',\n",
       "              tensor([-0.0032,  0.0268,  0.0577, -0.0769, -0.0646,  0.0139, -0.0358,  0.1499,\n",
       "                      -0.0480, -0.0157,  0.0764,  0.0819, -0.0889, -0.1068, -0.0874,  0.0449,\n",
       "                       0.0202, -0.0676,  0.0278,  0.0692,  0.0042,  0.0628,  0.0486, -0.1346,\n",
       "                      -0.0144, -0.0634,  0.0642,  0.1077, -0.0352, -0.1010, -0.0638,  0.0974],\n",
       "                     device='cuda:0')),\n",
       "             ('pos_emb.pos_norm.weight',\n",
       "              tensor([0.7291, 0.8545, 0.8934, 0.8656, 0.8658, 0.8714, 0.6568, 1.0161, 0.7640,\n",
       "                      0.7779, 0.8053, 0.7525, 0.8283, 0.7486, 0.9132, 0.8528, 0.7497, 0.8099,\n",
       "                      0.8053, 0.8345, 0.5120, 0.9236, 0.8718, 0.6145, 0.4051, 0.7563, 0.7600,\n",
       "                      0.9439, 0.7289, 0.7437, 0.8634, 0.7473], device='cuda:0')),\n",
       "             ('pos_emb.pos_norm.bias',\n",
       "              tensor([-0.0149,  0.0642,  0.0313, -0.0738, -0.0405,  0.0130, -0.0493,  0.1257,\n",
       "                      -0.1085, -0.0798,  0.0433,  0.0781, -0.0713, -0.1047, -0.1186,  0.0537,\n",
       "                       0.0016, -0.0651, -0.0064,  0.0659, -0.0335,  0.0306,  0.0413, -0.1624,\n",
       "                      -0.0710, -0.0230,  0.0708,  0.1193,  0.0024, -0.0933, -0.0521,  0.1473],\n",
       "                     device='cuda:0')),\n",
       "             ('encoder_layers.0.encoder_attn.in_proj_weight',\n",
       "              tensor([[-0.0725, -0.0849, -0.0780,  ...,  0.0140, -0.1783,  0.2156],\n",
       "                      [-0.1464,  0.1858,  0.1082,  ...,  0.0504,  0.0448, -0.0228],\n",
       "                      [ 0.1416,  0.0774,  0.1034,  ..., -0.1689, -0.0705, -0.0728],\n",
       "                      ...,\n",
       "                      [ 0.1538,  0.0468, -0.0301,  ..., -0.0675, -0.0487,  0.0014],\n",
       "                      [-0.0414,  0.1452,  0.0217,  ..., -0.0637, -0.1091, -0.0404],\n",
       "                      [-0.1585,  0.1098,  0.1634,  ...,  0.0981, -0.1190,  0.1496]],\n",
       "                     device='cuda:0')),\n",
       "             ('encoder_layers.0.encoder_attn.in_proj_bias',\n",
       "              tensor([-1.8107e-02,  1.5900e-02,  4.7899e-03,  2.6906e-02, -1.7659e-02,\n",
       "                      -1.4450e-02, -2.1833e-02, -2.4883e-02, -3.6221e-02,  6.6415e-02,\n",
       "                       3.3490e-02, -5.0519e-02,  5.5664e-02, -4.3472e-02,  7.8856e-02,\n",
       "                      -5.2700e-02,  5.9320e-02, -3.6766e-02,  7.2486e-02,  9.2673e-02,\n",
       "                      -1.2525e-02,  7.7578e-02, -1.8807e-02,  3.2637e-02, -6.0207e-02,\n",
       "                      -3.7857e-02,  1.0831e-01,  5.2098e-03, -1.4276e-02, -3.3707e-02,\n",
       "                       3.3663e-02,  1.6951e-02,  1.0042e-04, -2.1954e-04, -5.8850e-04,\n",
       "                       1.2711e-05,  2.9353e-04,  1.9284e-04,  5.0536e-04,  2.0508e-04,\n",
       "                      -3.1562e-04, -3.4730e-04, -3.9856e-05,  6.6910e-05,  4.8261e-05,\n",
       "                       2.4055e-05, -5.8969e-04, -7.3808e-05, -2.2288e-04,  4.5127e-04,\n",
       "                      -5.6364e-04,  1.6655e-04, -1.6939e-05,  3.6139e-04, -7.3448e-04,\n",
       "                      -1.1794e-04, -4.2794e-05, -2.1074e-04,  9.3902e-05, -3.7889e-04,\n",
       "                      -5.2445e-05,  1.9231e-04,  8.2331e-04, -5.3307e-04, -3.4802e-02,\n",
       "                       1.5590e-02,  1.2909e-01, -6.2852e-03,  7.1963e-03,  4.2967e-02,\n",
       "                      -7.6793e-02, -2.2850e-02,  9.8136e-02,  4.0916e-02,  4.8237e-02,\n",
       "                      -1.0697e-01,  9.5923e-02, -7.5707e-03, -1.2778e-01, -6.7915e-02,\n",
       "                       1.6619e-03, -3.6772e-02, -4.1948e-02,  7.0322e-03,  5.0906e-02,\n",
       "                      -6.0195e-03,  9.4595e-03, -2.4078e-02,  5.7554e-02, -1.4092e-02,\n",
       "                      -4.4667e-02, -1.2855e-02, -9.7329e-03,  3.0292e-02,  1.3965e-02,\n",
       "                      -1.1582e-02], device='cuda:0')),\n",
       "             ('encoder_layers.0.encoder_attn.out_proj.weight',\n",
       "              tensor([[ 0.0474,  0.0485,  0.0525,  ...,  0.1939, -0.1932, -0.0511],\n",
       "                      [-0.0669,  0.1055,  0.0164,  ..., -0.1930,  0.1784,  0.2820],\n",
       "                      [ 0.0486,  0.0798,  0.1181,  ..., -0.0203, -0.0464, -0.1078],\n",
       "                      ...,\n",
       "                      [-0.0812,  0.0542,  0.0608,  ..., -0.0290,  0.0393,  0.0423],\n",
       "                      [ 0.0621, -0.0849, -0.0883,  ..., -0.0820, -0.1027, -0.1456],\n",
       "                      [ 0.0409, -0.0846,  0.2172,  ...,  0.1163,  0.0248, -0.1935]],\n",
       "                     device='cuda:0')),\n",
       "             ('encoder_layers.0.encoder_attn.out_proj.bias',\n",
       "              tensor([ 0.0164,  0.0257,  0.0222, -0.0956, -0.0605,  0.0387, -0.0735,  0.2081,\n",
       "                      -0.0897, -0.0321,  0.0287,  0.0707, -0.0987, -0.1219, -0.1739,  0.1365,\n",
       "                       0.0546, -0.1208,  0.1177,  0.0622, -0.1467,  0.0618,  0.0702, -0.1909,\n",
       "                       0.0143, -0.0188,  0.0506,  0.2839, -0.0436, -0.0641, -0.0565,  0.0875],\n",
       "                     device='cuda:0')),\n",
       "             ('encoder_layers.0.encoder_norm1.weight',\n",
       "              tensor([0.7158, 0.7558, 0.8655, 0.8406, 0.8255, 0.9277, 0.6899, 0.9014, 0.7641,\n",
       "                      0.7236, 0.7582, 0.7483, 0.7236, 0.5804, 0.8442, 0.8053, 0.8112, 0.7617,\n",
       "                      0.7300, 0.7878, 0.6089, 0.8200, 0.8390, 0.6976, 0.4879, 0.7541, 0.7908,\n",
       "                      0.8955, 0.7309, 0.7532, 0.7797, 0.7823], device='cuda:0')),\n",
       "             ('encoder_layers.0.encoder_norm1.bias',\n",
       "              tensor([-0.0228,  0.0561,  0.0275, -0.0572, -0.0323, -0.0065, -0.0665,  0.1124,\n",
       "                      -0.1229, -0.0847,  0.0211,  0.0638, -0.0567, -0.0871, -0.1243,  0.0437,\n",
       "                      -0.0076, -0.0633, -0.1105,  0.0625, -0.0568,  0.0179,  0.0317, -0.1004,\n",
       "                      -0.0313, -0.0018,  0.0473,  0.1249,  0.0020, -0.0687, -0.0391,  0.1175],\n",
       "                     device='cuda:0')),\n",
       "             ('encoder_layers.0.encoder_feedforward.0.weight',\n",
       "              tensor([[ 0.1276,  0.0624,  0.1157,  ..., -0.0469, -0.0307,  0.0244],\n",
       "                      [-0.1201, -0.0796,  0.1022,  ...,  0.0391,  0.0887, -0.0865],\n",
       "                      [-0.1708, -0.0389,  0.1187,  ..., -0.0690, -0.2037,  0.1945],\n",
       "                      ...,\n",
       "                      [ 0.0398,  0.1202, -0.1701,  ..., -0.2823, -0.0149,  0.0211],\n",
       "                      [ 0.0405,  0.0960,  0.1827,  ..., -0.1459, -0.0404,  0.0481],\n",
       "                      [-0.1717,  0.0398, -0.1477,  ...,  0.0500, -0.0570, -0.0775]],\n",
       "                     device='cuda:0')),\n",
       "             ('encoder_layers.0.encoder_feedforward.0.bias',\n",
       "              tensor([-0.2099, -0.1850,  0.0809, -0.0383, -0.1671,  0.0387,  0.0346,  0.0871,\n",
       "                       0.0875, -0.0629, -0.1276, -0.0880, -0.1099, -0.0185,  0.0280, -0.1491,\n",
       "                      -0.2432,  0.0569, -0.0827, -0.1581, -0.0929, -0.0985, -0.0392, -0.2404,\n",
       "                      -0.0648, -0.0219, -0.0375, -0.1534, -0.1398, -0.1516, -0.1442,  0.0265,\n",
       "                      -0.0634, -0.2558, -0.0308, -0.0369, -0.0557,  0.0280, -0.0190, -0.2089,\n",
       "                      -0.0036, -0.0375, -0.1918, -0.2041, -0.0300, -0.1843,  0.0503,  0.0150,\n",
       "                      -0.0113, -0.0686, -0.0459,  0.0076, -0.0196, -0.2658,  0.0401, -0.0742,\n",
       "                      -0.1331,  0.0769,  0.0220, -0.1927, -0.0171, -0.2056, -0.0785, -0.1921],\n",
       "                     device='cuda:0')),\n",
       "             ('encoder_layers.0.encoder_feedforward.2.weight',\n",
       "              tensor([[ 0.0579,  0.1066, -0.0796,  ...,  0.0909,  0.0572, -0.0126],\n",
       "                      [ 0.1946,  0.0060,  0.0121,  ..., -0.0074,  0.1440,  0.0365],\n",
       "                      [-0.0049, -0.2811,  0.0655,  ...,  0.2692,  0.1107,  0.0795],\n",
       "                      ...,\n",
       "                      [-0.0751,  0.0665,  0.0135,  ...,  0.0225, -0.0771,  0.0725],\n",
       "                      [-0.1079,  0.0768,  0.0759,  ...,  0.0005,  0.0716,  0.0161],\n",
       "                      [ 0.1133, -0.0670,  0.0706,  ...,  0.0019,  0.1838,  0.0360]],\n",
       "                     device='cuda:0')),\n",
       "             ('encoder_layers.0.encoder_feedforward.2.bias',\n",
       "              tensor([-0.0401, -0.0430, -0.0894,  0.0168,  0.0067,  0.0521,  0.0204,  0.0903,\n",
       "                       0.0787,  0.0022, -0.0579, -0.0193,  0.0388, -0.0796, -0.1936,  0.0045,\n",
       "                      -0.0491,  0.0477, -0.0645, -0.0231,  0.0193,  0.0692,  0.0149, -0.1622,\n",
       "                      -0.0831, -0.0274,  0.0772,  0.1816, -0.0449, -0.0607, -0.0491, -0.0588],\n",
       "                     device='cuda:0')),\n",
       "             ('encoder_layers.0.encoder_norm2.weight',\n",
       "              tensor([0.7494, 0.8148, 0.9000, 0.8186, 0.8502, 0.8736, 0.7789, 0.9876, 0.7664,\n",
       "                      0.8202, 0.7887, 0.8507, 0.8475, 0.7571, 0.9118, 0.7606, 0.8838, 0.7426,\n",
       "                      0.7743, 0.8317, 0.8009, 0.8521, 0.8067, 0.7551, 0.7836, 0.7994, 0.8223,\n",
       "                      0.9496, 0.7669, 0.7792, 0.7859, 0.7250], device='cuda:0')),\n",
       "             ('encoder_layers.0.encoder_norm2.bias',\n",
       "              tensor([-0.0725,  0.0018, -0.0475, -0.0351, -0.0118, -0.0367, -0.0314,  0.1060,\n",
       "                      -0.0617, -0.0569,  0.0143,  0.0210, -0.0364, -0.0574, -0.1098,  0.0354,\n",
       "                      -0.0172, -0.0410, -0.0746,  0.0322,  0.0028,  0.0053,  0.0215, -0.1091,\n",
       "                      -0.0144,  0.0068,  0.0235,  0.1135, -0.0062, -0.0533, -0.0163,  0.0960],\n",
       "                     device='cuda:0')),\n",
       "             ('encoder_layers.1.encoder_attn.in_proj_weight',\n",
       "              tensor([[ 0.1020, -0.1069, -0.2899,  ...,  0.3334,  0.1592,  0.0648],\n",
       "                      [-0.0524,  0.1359,  0.0064,  ...,  0.0087,  0.1216, -0.0518],\n",
       "                      [ 0.3716, -0.0247, -0.2298,  ...,  0.3473,  0.2284, -0.1604],\n",
       "                      ...,\n",
       "                      [ 0.0646,  0.0076,  0.0601,  ..., -0.1191, -0.0746,  0.0662],\n",
       "                      [ 0.1692, -0.0372,  0.1313,  ...,  0.0629, -0.0080,  0.1090],\n",
       "                      [ 0.1259,  0.0465, -0.0705,  ...,  0.0833, -0.2437,  0.0404]],\n",
       "                     device='cuda:0')),\n",
       "             ('encoder_layers.1.encoder_attn.in_proj_bias',\n",
       "              tensor([ 2.0826e-03, -7.1110e-02,  1.9580e-02, -6.6307e-02, -4.3127e-02,\n",
       "                      -4.1978e-02,  3.3398e-02,  8.2166e-03, -1.1940e-01,  1.3642e-01,\n",
       "                      -1.5266e-03, -8.3699e-02, -1.1097e-01, -1.7759e-02,  1.4320e-01,\n",
       "                      -1.3730e-01, -9.2062e-02, -1.2014e-01,  2.3218e-02,  9.1416e-02,\n",
       "                      -1.4158e-02,  7.6114e-02,  5.0237e-02, -1.3567e-02,  3.3706e-02,\n",
       "                       8.2220e-02,  1.0348e-03,  6.5637e-03, -2.4883e-01, -1.1687e-02,\n",
       "                      -1.5633e-02, -6.1994e-03, -2.3886e-04, -1.4861e-04, -7.7568e-05,\n",
       "                      -1.7299e-04,  1.2415e-04, -3.0754e-04, -3.2158e-05,  3.2317e-04,\n",
       "                      -1.0372e-04,  2.0772e-04,  1.2862e-04, -5.4519e-05,  7.9830e-05,\n",
       "                      -7.4922e-05,  6.8916e-05,  1.7477e-05,  1.9127e-04, -2.5823e-04,\n",
       "                      -4.1354e-05,  1.7974e-04, -8.9199e-05,  1.9437e-04,  1.8626e-04,\n",
       "                      -2.5129e-04, -5.9993e-05, -1.2311e-04, -2.3548e-05,  1.6675e-05,\n",
       "                      -2.0654e-04, -2.5380e-05,  3.0922e-05, -3.0922e-05,  3.6975e-02,\n",
       "                       4.1731e-02, -1.3349e-02, -3.8804e-02,  2.9108e-02,  4.6937e-02,\n",
       "                      -8.0304e-03,  3.9158e-03,  7.5068e-02,  7.3734e-04,  5.8722e-02,\n",
       "                       5.8212e-03,  1.4770e-02,  3.1740e-02,  2.1830e-02,  2.3036e-02,\n",
       "                      -2.7525e-02,  2.1965e-02, -8.5850e-03,  2.8977e-02, -6.8110e-02,\n",
       "                      -2.1877e-02, -5.1867e-02,  5.8591e-02, -3.0070e-02,  5.4715e-02,\n",
       "                      -4.1108e-02,  4.1422e-02,  7.2347e-03,  5.0459e-02, -1.2240e-03,\n",
       "                      -1.6446e-02], device='cuda:0')),\n",
       "             ('encoder_layers.1.encoder_attn.out_proj.weight',\n",
       "              tensor([[-0.0193,  0.0674, -0.0993,  ...,  0.0564,  0.1487, -0.1352],\n",
       "                      [-0.1464, -0.0865,  0.0223,  ...,  0.0926, -0.0607, -0.0625],\n",
       "                      [ 0.0600, -0.1158, -0.1424,  ...,  0.0363,  0.0417, -0.1638],\n",
       "                      ...,\n",
       "                      [ 0.0720, -0.0666,  0.1083,  ...,  0.0149, -0.0797, -0.1123],\n",
       "                      [ 0.0039, -0.0212,  0.1094,  ..., -0.0522,  0.1201,  0.1132],\n",
       "                      [ 0.0753,  0.0460,  0.0704,  ..., -0.1176, -0.1225, -0.2041]],\n",
       "                     device='cuda:0')),\n",
       "             ('encoder_layers.1.encoder_attn.out_proj.bias',\n",
       "              tensor([-1.9286e-02, -4.2012e-02, -1.0155e-02, -4.2634e-02, -2.1937e-02,\n",
       "                       3.9134e-03, -6.3455e-02,  1.6912e-01, -3.3915e-02, -4.0587e-03,\n",
       "                       7.8916e-03,  6.4272e-02, -6.3490e-02, -1.1636e-01, -1.7798e-01,\n",
       "                       1.1834e-01,  2.8452e-02, -6.1555e-02,  3.8823e-02,  8.7387e-03,\n",
       "                      -9.2901e-02,  2.4167e-02,  4.9246e-02, -1.8404e-01, -7.3541e-03,\n",
       "                       1.1745e-02,  1.7407e-02,  2.1405e-01, -2.5711e-02, -4.9034e-02,\n",
       "                       1.4159e-04,  9.6883e-02], device='cuda:0')),\n",
       "             ('encoder_layers.1.encoder_norm1.weight',\n",
       "              tensor([0.7816, 0.7799, 0.8399, 0.7588, 0.8125, 0.8646, 0.8221, 0.9530, 0.7751,\n",
       "                      0.7183, 0.7828, 0.8181, 0.8586, 0.8855, 0.8901, 0.8171, 0.8331, 0.8194,\n",
       "                      0.7432, 0.8544, 0.9526, 0.7889, 0.7837, 0.8575, 0.7968, 0.7938, 0.8206,\n",
       "                      0.9379, 0.7829, 0.7990, 0.7830, 0.7432], device='cuda:0')),\n",
       "             ('encoder_layers.1.encoder_norm1.bias',\n",
       "              tensor([-0.0291, -0.0165, -0.0016, -0.0120, -0.0004, -0.0512, -0.0263,  0.0841,\n",
       "                      -0.0484, -0.0356, -0.0041,  0.0359, -0.0215, -0.0572, -0.0954,  0.0246,\n",
       "                       0.0020, -0.0148, -0.0397,  0.0163, -0.0202, -0.0108,  0.0067, -0.0899,\n",
       "                      -0.0217,  0.0082,  0.0118,  0.0928,  0.0069, -0.0310,  0.0123,  0.0359],\n",
       "                     device='cuda:0')),\n",
       "             ('encoder_layers.1.encoder_feedforward.0.weight',\n",
       "              tensor([[ 0.1276,  0.0624,  0.1157,  ..., -0.0469, -0.0307,  0.0244],\n",
       "                      [-0.1201, -0.0796,  0.1022,  ...,  0.0391,  0.0887, -0.0865],\n",
       "                      [-0.1708, -0.0389,  0.1187,  ..., -0.0690, -0.2037,  0.1945],\n",
       "                      ...,\n",
       "                      [ 0.0398,  0.1202, -0.1701,  ..., -0.2823, -0.0149,  0.0211],\n",
       "                      [ 0.0405,  0.0960,  0.1827,  ..., -0.1459, -0.0404,  0.0481],\n",
       "                      [-0.1717,  0.0398, -0.1477,  ...,  0.0500, -0.0570, -0.0775]],\n",
       "                     device='cuda:0')),\n",
       "             ('encoder_layers.1.encoder_feedforward.0.bias',\n",
       "              tensor([-0.2099, -0.1850,  0.0809, -0.0383, -0.1671,  0.0387,  0.0346,  0.0871,\n",
       "                       0.0875, -0.0629, -0.1276, -0.0880, -0.1099, -0.0185,  0.0280, -0.1491,\n",
       "                      -0.2432,  0.0569, -0.0827, -0.1581, -0.0929, -0.0985, -0.0392, -0.2404,\n",
       "                      -0.0648, -0.0219, -0.0375, -0.1534, -0.1398, -0.1516, -0.1442,  0.0265,\n",
       "                      -0.0634, -0.2558, -0.0308, -0.0369, -0.0557,  0.0280, -0.0190, -0.2089,\n",
       "                      -0.0036, -0.0375, -0.1918, -0.2041, -0.0300, -0.1843,  0.0503,  0.0150,\n",
       "                      -0.0113, -0.0686, -0.0459,  0.0076, -0.0196, -0.2658,  0.0401, -0.0742,\n",
       "                      -0.1331,  0.0769,  0.0220, -0.1927, -0.0171, -0.2056, -0.0785, -0.1921],\n",
       "                     device='cuda:0')),\n",
       "             ('encoder_layers.1.encoder_feedforward.2.weight',\n",
       "              tensor([[ 0.0579,  0.1066, -0.0796,  ...,  0.0909,  0.0572, -0.0126],\n",
       "                      [ 0.1946,  0.0060,  0.0121,  ..., -0.0074,  0.1440,  0.0365],\n",
       "                      [-0.0049, -0.2811,  0.0655,  ...,  0.2692,  0.1107,  0.0795],\n",
       "                      ...,\n",
       "                      [-0.0751,  0.0665,  0.0135,  ...,  0.0225, -0.0771,  0.0725],\n",
       "                      [-0.1079,  0.0768,  0.0759,  ...,  0.0005,  0.0716,  0.0161],\n",
       "                      [ 0.1133, -0.0670,  0.0706,  ...,  0.0019,  0.1838,  0.0360]],\n",
       "                     device='cuda:0')),\n",
       "             ('encoder_layers.1.encoder_feedforward.2.bias',\n",
       "              tensor([-0.0401, -0.0430, -0.0894,  0.0168,  0.0067,  0.0521,  0.0204,  0.0903,\n",
       "                       0.0787,  0.0022, -0.0579, -0.0193,  0.0388, -0.0796, -0.1936,  0.0045,\n",
       "                      -0.0491,  0.0477, -0.0645, -0.0231,  0.0193,  0.0692,  0.0149, -0.1622,\n",
       "                      -0.0831, -0.0274,  0.0772,  0.1816, -0.0449, -0.0607, -0.0491, -0.0588],\n",
       "                     device='cuda:0')),\n",
       "             ('encoder_layers.1.encoder_norm2.weight',\n",
       "              tensor([0.8507, 0.8736, 0.8527, 0.7980, 0.8508, 0.8866, 0.8403, 0.9651, 0.7918,\n",
       "                      0.7611, 0.8044, 0.8367, 0.8622, 0.9072, 0.9381, 0.7418, 0.8910, 0.8327,\n",
       "                      0.8352, 0.8016, 0.8400, 0.8282, 0.8235, 0.8772, 0.8055, 0.8124, 0.8665,\n",
       "                      0.8951, 0.7819, 0.7761, 0.8535, 0.8321], device='cuda:0')),\n",
       "             ('encoder_layers.1.encoder_norm2.bias',\n",
       "              tensor([-7.3855e-03, -1.3772e-02,  4.9643e-03,  2.2153e-03,  8.1500e-03,\n",
       "                      -3.3639e-03,  8.3017e-03,  1.0037e-01, -1.8806e-02, -1.1832e-02,\n",
       "                       5.5237e-04,  2.5227e-02, -1.0475e-02, -1.1513e-02, -8.6943e-02,\n",
       "                       1.1515e-03,  1.6624e-02, -1.2308e-02, -2.6512e-02, -1.1577e-02,\n",
       "                       2.3127e-02, -1.6092e-02, -2.0986e-03, -8.1487e-02, -1.3825e-02,\n",
       "                       1.0475e-02, -2.1970e-04,  7.0503e-02,  1.2980e-02, -2.6442e-02,\n",
       "                       1.0692e-02, -5.4214e-06], device='cuda:0')),\n",
       "             ('encoder_layers.2.encoder_attn.in_proj_weight',\n",
       "              tensor([[-0.0965, -0.1362, -0.3487,  ..., -0.0412, -0.1573, -0.1114],\n",
       "                      [-0.0453, -0.0738, -0.2359,  ...,  0.1065, -0.0568, -0.1315],\n",
       "                      [-0.0819, -0.0821,  0.0972,  ...,  0.1221, -0.0298,  0.1226],\n",
       "                      ...,\n",
       "                      [-0.0636, -0.0959,  0.1076,  ..., -0.0415,  0.0938, -0.2547],\n",
       "                      [-0.0926, -0.0600, -0.0248,  ...,  0.0775, -0.0464, -0.1542],\n",
       "                      [-0.0242,  0.0235, -0.0294,  ...,  0.0322,  0.1487, -0.1382]],\n",
       "                     device='cuda:0')),\n",
       "             ('encoder_layers.2.encoder_attn.in_proj_bias',\n",
       "              tensor([-1.9332e-03,  1.0307e-01,  1.2699e-01,  8.2394e-02,  2.7854e-02,\n",
       "                       6.1703e-02,  7.5291e-02, -1.7085e-01,  1.6982e-01,  7.2944e-02,\n",
       "                       1.1120e-01,  1.9514e-01,  1.5732e-01,  1.2572e-01, -8.8880e-02,\n",
       "                       6.1330e-02,  1.1190e-01, -1.0499e-03,  1.5178e-02,  5.3148e-03,\n",
       "                       6.1207e-02,  6.9832e-02, -1.0483e-01,  2.8468e-02, -3.5212e-02,\n",
       "                      -9.3188e-02,  3.8735e-03, -2.1592e-03, -4.6067e-02,  8.3909e-02,\n",
       "                      -7.7740e-02,  1.8235e-02,  9.4123e-06, -9.4775e-05, -4.0591e-05,\n",
       "                      -9.2810e-05, -2.4167e-05,  1.3211e-04, -8.5148e-05,  1.5909e-04,\n",
       "                       1.9716e-04,  1.2016e-04,  4.5196e-04,  1.0554e-04,  7.2247e-04,\n",
       "                      -3.7371e-04,  3.0914e-04,  7.4793e-05,  3.0127e-04,  1.2328e-04,\n",
       "                       2.0613e-04,  2.5545e-04,  3.5249e-04,  7.7816e-04, -1.5351e-03,\n",
       "                       5.5301e-04, -1.0051e-04,  7.5482e-05, -4.0526e-05,  4.1493e-05,\n",
       "                      -6.7320e-05,  7.5176e-05, -7.8507e-05, -3.5903e-06, -4.8624e-02,\n",
       "                      -2.2433e-02, -1.6367e-02,  3.3373e-02,  5.1013e-02,  2.6615e-02,\n",
       "                      -2.5790e-02,  1.0664e-02, -6.3377e-02,  7.7735e-04, -2.1545e-02,\n",
       "                      -5.0657e-02,  1.2965e-02,  3.2958e-02, -6.5781e-03,  1.4490e-02,\n",
       "                      -3.0456e-03,  2.5679e-02,  7.9464e-04, -1.9088e-02, -1.1398e-02,\n",
       "                      -8.4430e-03,  9.4161e-03, -2.8091e-02,  6.8111e-02,  5.1456e-02,\n",
       "                       2.4172e-02, -7.0700e-02,  5.4044e-02,  3.7656e-02, -1.7576e-03,\n",
       "                       4.3961e-02], device='cuda:0')),\n",
       "             ('encoder_layers.2.encoder_attn.out_proj.weight',\n",
       "              tensor([[ 0.1348,  0.0650,  0.0935,  ..., -0.0727,  0.1648,  0.0080],\n",
       "                      [ 0.1447,  0.0537, -0.0386,  ..., -0.0503,  0.0879,  0.0110],\n",
       "                      [ 0.0225,  0.1734, -0.1270,  ...,  0.0859, -0.0218, -0.0253],\n",
       "                      ...,\n",
       "                      [-0.1005, -0.0119, -0.0314,  ..., -0.1039, -0.0442, -0.0639],\n",
       "                      [-0.0305, -0.1814, -0.0041,  ..., -0.0600, -0.0371, -0.0939],\n",
       "                      [ 0.1555,  0.1156,  0.0257,  ...,  0.0939, -0.1055,  0.0566]],\n",
       "                     device='cuda:0')),\n",
       "             ('encoder_layers.2.encoder_attn.out_proj.bias',\n",
       "              tensor([ 0.0213, -0.0124, -0.0147,  0.0035,  0.0221,  0.0016, -0.0216,  0.1769,\n",
       "                      -0.0308, -0.0167, -0.0143,  0.0445,  0.0382, -0.0440, -0.1659,  0.0747,\n",
       "                      -0.0123, -0.0536,  0.0135,  0.0036, -0.0356, -0.0261, -0.0060, -0.1725,\n",
       "                      -0.0228,  0.0169,  0.0191,  0.1911,  0.0168, -0.0146,  0.0120,  0.0679],\n",
       "                     device='cuda:0')),\n",
       "             ('encoder_layers.2.encoder_norm1.weight',\n",
       "              tensor([0.7552, 0.8011, 0.7673, 0.7272, 0.7571, 0.8734, 0.8093, 0.9789, 0.7540,\n",
       "                      0.7626, 0.8185, 0.7880, 0.8041, 0.8651, 0.9058, 0.7471, 0.8762, 0.5173,\n",
       "                      0.8552, 0.8504, 0.8637, 0.7902, 0.7195, 0.9184, 0.8107, 0.7812, 0.7674,\n",
       "                      0.9144, 0.7870, 0.7253, 0.7962, 0.7461], device='cuda:0')),\n",
       "             ('encoder_layers.2.encoder_norm1.bias',\n",
       "              tensor([ 0.0168, -0.0047, -0.0201,  0.0106,  0.0154, -0.0302,  0.0079,  0.1142,\n",
       "                      -0.0174, -0.0123, -0.0032, -0.0214,  0.0734,  0.0474, -0.0749,  0.0015,\n",
       "                       0.0226,  0.0066, -0.0516, -0.0350,  0.0012, -0.0287, -0.0142, -0.0931,\n",
       "                      -0.0118,  0.0068,  0.0122,  0.0749,  0.0184, -0.0061,  0.0083, -0.0177],\n",
       "                     device='cuda:0')),\n",
       "             ('encoder_layers.2.encoder_feedforward.0.weight',\n",
       "              tensor([[ 0.1276,  0.0624,  0.1157,  ..., -0.0469, -0.0307,  0.0244],\n",
       "                      [-0.1201, -0.0796,  0.1022,  ...,  0.0391,  0.0887, -0.0865],\n",
       "                      [-0.1708, -0.0389,  0.1187,  ..., -0.0690, -0.2037,  0.1945],\n",
       "                      ...,\n",
       "                      [ 0.0398,  0.1202, -0.1701,  ..., -0.2823, -0.0149,  0.0211],\n",
       "                      [ 0.0405,  0.0960,  0.1827,  ..., -0.1459, -0.0404,  0.0481],\n",
       "                      [-0.1717,  0.0398, -0.1477,  ...,  0.0500, -0.0570, -0.0775]],\n",
       "                     device='cuda:0')),\n",
       "             ('encoder_layers.2.encoder_feedforward.0.bias',\n",
       "              tensor([-0.2099, -0.1850,  0.0809, -0.0383, -0.1671,  0.0387,  0.0346,  0.0871,\n",
       "                       0.0875, -0.0629, -0.1276, -0.0880, -0.1099, -0.0185,  0.0280, -0.1491,\n",
       "                      -0.2432,  0.0569, -0.0827, -0.1581, -0.0929, -0.0985, -0.0392, -0.2404,\n",
       "                      -0.0648, -0.0219, -0.0375, -0.1534, -0.1398, -0.1516, -0.1442,  0.0265,\n",
       "                      -0.0634, -0.2558, -0.0308, -0.0369, -0.0557,  0.0280, -0.0190, -0.2089,\n",
       "                      -0.0036, -0.0375, -0.1918, -0.2041, -0.0300, -0.1843,  0.0503,  0.0150,\n",
       "                      -0.0113, -0.0686, -0.0459,  0.0076, -0.0196, -0.2658,  0.0401, -0.0742,\n",
       "                      -0.1331,  0.0769,  0.0220, -0.1927, -0.0171, -0.2056, -0.0785, -0.1921],\n",
       "                     device='cuda:0')),\n",
       "             ('encoder_layers.2.encoder_feedforward.2.weight',\n",
       "              tensor([[ 0.0579,  0.1066, -0.0796,  ...,  0.0909,  0.0572, -0.0126],\n",
       "                      [ 0.1946,  0.0060,  0.0121,  ..., -0.0074,  0.1440,  0.0365],\n",
       "                      [-0.0049, -0.2811,  0.0655,  ...,  0.2692,  0.1107,  0.0795],\n",
       "                      ...,\n",
       "                      [-0.0751,  0.0665,  0.0135,  ...,  0.0225, -0.0771,  0.0725],\n",
       "                      [-0.1079,  0.0768,  0.0759,  ...,  0.0005,  0.0716,  0.0161],\n",
       "                      [ 0.1133, -0.0670,  0.0706,  ...,  0.0019,  0.1838,  0.0360]],\n",
       "                     device='cuda:0')),\n",
       "             ('encoder_layers.2.encoder_feedforward.2.bias',\n",
       "              tensor([-0.0401, -0.0430, -0.0894,  0.0168,  0.0067,  0.0521,  0.0204,  0.0903,\n",
       "                       0.0787,  0.0022, -0.0579, -0.0193,  0.0388, -0.0796, -0.1936,  0.0045,\n",
       "                      -0.0491,  0.0477, -0.0645, -0.0231,  0.0193,  0.0692,  0.0149, -0.1622,\n",
       "                      -0.0831, -0.0274,  0.0772,  0.1816, -0.0449, -0.0607, -0.0491, -0.0588],\n",
       "                     device='cuda:0')),\n",
       "             ('encoder_layers.2.encoder_norm2.weight',\n",
       "              tensor([0.8506, 0.7775, 0.7562, 0.7890, 0.8236, 0.8474, 0.8031, 0.9682, 0.7220,\n",
       "                      0.7112, 0.8078, 0.8177, 0.7944, 0.8254, 0.8916, 0.7634, 0.8383, 0.6588,\n",
       "                      0.8828, 0.7963, 0.8189, 0.8128, 0.7678, 0.9194, 0.8120, 0.8058, 0.8593,\n",
       "                      0.8553, 0.7867, 0.7557, 0.8423, 0.7791], device='cuda:0')),\n",
       "             ('encoder_layers.2.encoder_norm2.bias',\n",
       "              tensor([ 0.0193,  0.0060, -0.0031,  0.0235,  0.0180,  0.0046, -0.0006,  0.0964,\n",
       "                      -0.0193, -0.0032, -0.0032,  0.0002,  0.0377,  0.0482, -0.0636, -0.0156,\n",
       "                       0.0336,  0.0221,  0.0100,  0.0112,  0.0102, -0.0263, -0.0117, -0.0774,\n",
       "                      -0.0104,  0.0089,  0.0055,  0.0381,  0.0250, -0.0054,  0.0042, -0.0231],\n",
       "                     device='cuda:0')),\n",
       "             ('encoder_layers.3.encoder_attn.in_proj_weight',\n",
       "              tensor([[-0.1802, -0.0356,  0.1468,  ..., -0.1409,  0.0286,  0.1045],\n",
       "                      [-0.0153, -0.0280,  0.1357,  ...,  0.0376,  0.1363,  0.0030],\n",
       "                      [ 0.1127, -0.0914, -0.2082,  ...,  0.1022, -0.1392, -0.0574],\n",
       "                      ...,\n",
       "                      [ 0.1098, -0.1155, -0.0826,  ...,  0.0207,  0.0675, -0.1583],\n",
       "                      [ 0.0090, -0.1014,  0.0335,  ..., -0.1702, -0.0027, -0.0372],\n",
       "                      [ 0.0380, -0.1047, -0.1049,  ..., -0.0033, -0.0974,  0.1658]],\n",
       "                     device='cuda:0')),\n",
       "             ('encoder_layers.3.encoder_attn.in_proj_bias',\n",
       "              tensor([-1.0110e-02, -6.2170e-02,  1.2950e-01, -2.3561e-02, -8.4395e-03,\n",
       "                      -1.2499e-01, -8.8244e-02, -5.1261e-02,  7.2479e-02,  6.6121e-02,\n",
       "                      -3.5618e-02,  8.1715e-02, -1.7904e-02,  1.6107e-02, -4.5085e-03,\n",
       "                      -9.1252e-02, -7.3572e-02,  7.3092e-02,  3.2604e-02, -6.9421e-02,\n",
       "                      -3.3885e-02, -1.1274e-01,  6.3144e-02, -4.1387e-02, -1.4068e-01,\n",
       "                       7.2578e-02, -2.2622e-01, -1.3059e-01,  1.0569e-01, -1.2414e-01,\n",
       "                       8.2106e-02, -7.1118e-02,  1.8938e-05, -9.9821e-05, -1.6241e-05,\n",
       "                       4.5721e-05, -9.5085e-05,  1.3457e-04, -1.5356e-04,  1.2959e-05,\n",
       "                       1.4163e-04, -2.2443e-04,  1.4302e-04,  4.2681e-04,  1.3381e-04,\n",
       "                      -9.9644e-05, -2.7594e-04,  5.0696e-04,  1.3311e-04,  2.4665e-04,\n",
       "                       4.9475e-04, -3.5579e-04,  8.1707e-05, -9.2140e-05,  9.1210e-04,\n",
       "                       1.6797e-05, -3.6958e-04,  6.0772e-05, -1.8588e-03, -3.0887e-04,\n",
       "                       2.3302e-04, -4.4733e-04,  6.2570e-05, -2.3185e-04,  3.7068e-02,\n",
       "                      -5.0736e-02,  2.7544e-02,  5.2921e-02,  2.2803e-02,  1.3315e-02,\n",
       "                       1.7129e-02,  1.3219e-02, -2.3766e-02,  1.8311e-02,  9.1841e-03,\n",
       "                      -1.1677e-02,  2.5553e-02,  7.0389e-03,  1.0009e-01, -2.0324e-02,\n",
       "                      -8.3430e-03,  3.0165e-02, -5.8210e-02,  2.7093e-02,  2.1806e-02,\n",
       "                      -1.8574e-02,  1.3893e-03,  9.8710e-04,  3.5123e-02, -9.6750e-03,\n",
       "                      -5.1381e-04,  2.4362e-02, -5.4485e-03,  2.8674e-03, -7.8209e-03,\n",
       "                       4.7143e-03], device='cuda:0')),\n",
       "             ('encoder_layers.3.encoder_attn.out_proj.weight',\n",
       "              tensor([[-0.0187,  0.1089, -0.0025,  ..., -0.1383, -0.0322,  0.1159],\n",
       "                      [-0.0950, -0.0816,  0.1437,  ...,  0.0496, -0.1768,  0.0260],\n",
       "                      [-0.1201,  0.0317, -0.1359,  ..., -0.0043, -0.0084, -0.1406],\n",
       "                      ...,\n",
       "                      [ 0.1224,  0.0100,  0.0027,  ..., -0.1654,  0.0967,  0.1362],\n",
       "                      [-0.0304, -0.1326,  0.0217,  ..., -0.0080,  0.1029,  0.0100],\n",
       "                      [-0.1508,  0.0029,  0.0507,  ...,  0.0093,  0.1079, -0.1010]],\n",
       "                     device='cuda:0')),\n",
       "             ('encoder_layers.3.encoder_attn.out_proj.bias',\n",
       "              tensor([ 0.0103,  0.0112, -0.0150,  0.0160,  0.0193,  0.0024, -0.0081,  0.1633,\n",
       "                      -0.0176, -0.0098, -0.0140,  0.0394,  0.0129,  0.0071, -0.1994, -0.0074,\n",
       "                      -0.0709, -0.0260,  0.0566,  0.0082, -0.0154, -0.0249, -0.0106, -0.1521,\n",
       "                      -0.0269,  0.0187, -0.0458,  0.2212,  0.0190, -0.0058,  0.0046, -0.0111],\n",
       "                     device='cuda:0')),\n",
       "             ('encoder_layers.3.encoder_norm1.weight',\n",
       "              tensor([0.7014, 0.7510, 0.8015, 0.7143, 0.7493, 0.6701, 0.7716, 0.8505, 0.6935,\n",
       "                      0.7130, 0.7697, 0.7740, 0.6857, 0.7541, 0.8166, 0.7406, 0.7135, 0.6604,\n",
       "                      0.7987, 0.7220, 0.7721, 0.7552, 0.7406, 0.8578, 0.7884, 0.8016, 0.7447,\n",
       "                      0.8241, 0.7326, 0.6773, 0.7349, 0.6444], device='cuda:0')),\n",
       "             ('encoder_layers.3.encoder_norm1.bias',\n",
       "              tensor([ 0.0169,  0.0180,  0.0109,  0.0239,  0.0203,  0.0137,  0.0058,  0.0222,\n",
       "                      -0.0208, -0.0070, -0.0020, -0.0159,  0.0327,  0.0333,  0.0036, -0.0479,\n",
       "                       0.1020,  0.0233, -0.0012,  0.0088,  0.0189, -0.0310, -0.0118, -0.0288,\n",
       "                      -0.0064,  0.0073,  0.0744,  0.0093,  0.0253, -0.0015,  0.0040, -0.0143],\n",
       "                     device='cuda:0')),\n",
       "             ('encoder_layers.3.encoder_feedforward.0.weight',\n",
       "              tensor([[ 0.1276,  0.0624,  0.1157,  ..., -0.0469, -0.0307,  0.0244],\n",
       "                      [-0.1201, -0.0796,  0.1022,  ...,  0.0391,  0.0887, -0.0865],\n",
       "                      [-0.1708, -0.0389,  0.1187,  ..., -0.0690, -0.2037,  0.1945],\n",
       "                      ...,\n",
       "                      [ 0.0398,  0.1202, -0.1701,  ..., -0.2823, -0.0149,  0.0211],\n",
       "                      [ 0.0405,  0.0960,  0.1827,  ..., -0.1459, -0.0404,  0.0481],\n",
       "                      [-0.1717,  0.0398, -0.1477,  ...,  0.0500, -0.0570, -0.0775]],\n",
       "                     device='cuda:0')),\n",
       "             ('encoder_layers.3.encoder_feedforward.0.bias',\n",
       "              tensor([-0.2099, -0.1850,  0.0809, -0.0383, -0.1671,  0.0387,  0.0346,  0.0871,\n",
       "                       0.0875, -0.0629, -0.1276, -0.0880, -0.1099, -0.0185,  0.0280, -0.1491,\n",
       "                      -0.2432,  0.0569, -0.0827, -0.1581, -0.0929, -0.0985, -0.0392, -0.2404,\n",
       "                      -0.0648, -0.0219, -0.0375, -0.1534, -0.1398, -0.1516, -0.1442,  0.0265,\n",
       "                      -0.0634, -0.2558, -0.0308, -0.0369, -0.0557,  0.0280, -0.0190, -0.2089,\n",
       "                      -0.0036, -0.0375, -0.1918, -0.2041, -0.0300, -0.1843,  0.0503,  0.0150,\n",
       "                      -0.0113, -0.0686, -0.0459,  0.0076, -0.0196, -0.2658,  0.0401, -0.0742,\n",
       "                      -0.1331,  0.0769,  0.0220, -0.1927, -0.0171, -0.2056, -0.0785, -0.1921],\n",
       "                     device='cuda:0')),\n",
       "             ('encoder_layers.3.encoder_feedforward.2.weight',\n",
       "              tensor([[ 0.0579,  0.1066, -0.0796,  ...,  0.0909,  0.0572, -0.0126],\n",
       "                      [ 0.1946,  0.0060,  0.0121,  ..., -0.0074,  0.1440,  0.0365],\n",
       "                      [-0.0049, -0.2811,  0.0655,  ...,  0.2692,  0.1107,  0.0795],\n",
       "                      ...,\n",
       "                      [-0.0751,  0.0665,  0.0135,  ...,  0.0225, -0.0771,  0.0725],\n",
       "                      [-0.1079,  0.0768,  0.0759,  ...,  0.0005,  0.0716,  0.0161],\n",
       "                      [ 0.1133, -0.0670,  0.0706,  ...,  0.0019,  0.1838,  0.0360]],\n",
       "                     device='cuda:0')),\n",
       "             ('encoder_layers.3.encoder_feedforward.2.bias',\n",
       "              tensor([-0.0401, -0.0430, -0.0894,  0.0168,  0.0067,  0.0521,  0.0204,  0.0903,\n",
       "                       0.0787,  0.0022, -0.0579, -0.0193,  0.0388, -0.0796, -0.1936,  0.0045,\n",
       "                      -0.0491,  0.0477, -0.0645, -0.0231,  0.0193,  0.0692,  0.0149, -0.1622,\n",
       "                      -0.0831, -0.0274,  0.0772,  0.1816, -0.0449, -0.0607, -0.0491, -0.0588],\n",
       "                     device='cuda:0')),\n",
       "             ('encoder_layers.3.encoder_norm2.weight',\n",
       "              tensor([ 0.6429,  0.6948,  0.4567,  0.7018,  0.8010,  0.2456,  0.7477,  0.7514,\n",
       "                       0.6925,  0.6933,  0.7930,  0.7625,  0.6659,  0.7498,  0.5401,  0.6643,\n",
       "                       0.7329,  0.5911,  0.6751,  0.7107,  0.7661,  0.7901,  0.7387, -0.1889,\n",
       "                       0.7966,  0.8065,  0.4949,  0.7939,  0.7531,  0.7204,  0.7960,  0.1665],\n",
       "                     device='cuda:0')),\n",
       "             ('encoder_layers.3.encoder_norm2.bias',\n",
       "              tensor([ 1.8667e-02,  1.9511e-02,  4.8243e-03,  3.0378e-02,  2.4068e-02,\n",
       "                       6.3902e-02,  6.9787e-03, -5.5352e-02, -2.1291e-02, -4.7770e-04,\n",
       "                       7.3590e-04, -2.4722e-02,  2.2087e-02,  2.2938e-02,  2.6478e-01,\n",
       "                      -3.7453e-02,  7.3885e-02,  3.1577e-02,  3.0406e-03,  1.2030e-02,\n",
       "                       2.4549e-02, -2.6529e-02, -7.1241e-03,  8.3108e-01,  2.0660e-03,\n",
       "                       5.8727e-03,  6.2646e-02, -1.6464e-02,  2.8270e-02,  3.1202e-03,\n",
       "                       2.8967e-03,  2.2770e-02], device='cuda:0')),\n",
       "             ('output_feedforward.0.weight',\n",
       "              tensor([[ 0.0219,  0.0260,  0.0045,  0.0362,  0.0948, -0.0022, -0.0383,  0.0260,\n",
       "                       -0.0318, -0.0429, -0.0762,  0.0250, -0.0154, -0.0259, -0.0117, -0.0150,\n",
       "                       -0.0198,  0.0056,  0.0219,  0.0263, -0.0301, -0.0977, -0.0394, -0.0008,\n",
       "                       -0.0766,  0.1167,  0.0005,  0.0528,  0.0944,  0.0335,  0.0676,  0.0049]],\n",
       "                     device='cuda:0')),\n",
       "             ('output_feedforward.0.bias',\n",
       "              tensor([-0.1199], device='cuda:0'))])"
      ]
     },
     "execution_count": 23,
     "metadata": {},
     "output_type": "execute_result"
    }
   ],
   "source": [
    "training.reg_training_loop_rmspe(optimizer=optimizer,model=trans_encoder_model,train_loader=train_loader,val_loader=test_loader,ot_steps=20,report_interval=5,n_epochs=200,list_train_loss=train_loss,list_val_loss=val_loss,device=device,eps=1e-8,scheduler=scheduler)"
   ]
  },
  {
   "cell_type": "code",
   "execution_count": 37,
   "id": "2b710ebb-8145-4c43-8053-f2e395492053",
   "metadata": {},
   "outputs": [],
   "source": [
    "# torch.save(train_loss, \"train_loss_scheduler.pt\")\n",
    "# torch.save(val_loss, \"val_loss_scheduler.pt\")\n",
    "\n",
    "train_loss = torch.load(\"train_loss_scheduler.pt\")\n",
    "val_loss = torch.load(\"val_loss_scheduler.pt\")"
   ]
  },
  {
   "cell_type": "code",
   "execution_count": 38,
   "id": "7ef57bd6",
   "metadata": {},
   "outputs": [
    {
     "data": {
      "image/png": "[encoded data removed]",
      "text/plain": [
       "<Figure size 1500x1125 with 1 Axes>"
      ]
     },
     "metadata": {},
     "output_type": "display_data"
    }
   ],
   "source": [
    "from proj_mod import visualization\n",
    "\n",
    "\n",
    "vis_dict={(\"transformer\",\"scheduler\"):{\"train_loss\": train_loss[5:],\"val_loss\": val_loss[5:]}}\n",
    "visualization.training_plots(vis_dict)"
   ]
  },
  {
   "cell_type": "code",
   "execution_count": null,
   "id": "a6d37171-49f5-4ece-a414-ab7472ff6d53",
   "metadata": {},
   "outputs": [],
   "source": []
  }
 ],
 "metadata": {
  "kernelspec": {
   "display_name": "Python 3 (ipykernel)",
   "language": "python",
   "name": "python3"
  },
  "language_info": {
   "codemirror_mode": {
    "name": "ipython",
    "version": 3
   },
   "file_extension": ".py",
   "mimetype": "text/x-python",
   "name": "python",
   "nbconvert_exporter": "python",
   "pygments_lexer": "ipython3",
   "version": "3.10.12"
  }
 },
 "nbformat": 4,
 "nbformat_minor": 5
}
