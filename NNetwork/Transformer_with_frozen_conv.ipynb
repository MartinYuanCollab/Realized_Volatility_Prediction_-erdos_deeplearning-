{
 "cells": [
  {
   "cell_type": "markdown",
   "id": "34faab65",
   "metadata": {},
   "source": [
    "# In this notebook, we attempt in creating an attention based NN to predict the target on the timeseries alone. "
   ]
  },
  {
   "cell_type": "markdown",
   "id": "0b1623fe",
   "metadata": {},
   "source": [
    "We first create an example, then we will generalize it and include it into training.py. "
   ]
  },
  {
   "cell_type": "markdown",
   "id": "3110fa3d",
   "metadata": {},
   "source": [
    "# Import and preparations "
   ]
  },
  {
   "cell_type": "code",
   "execution_count": 1,
   "id": "44ec0051",
   "metadata": {},
   "outputs": [],
   "source": [
    "import sys, importlib\n",
    "import torch \n",
    "import torch.nn as nn\n",
    "import numpy as np\n",
    "import pandas as pd\n",
    "import copy\n",
    "import time\n",
    "\n",
    "sys.path.append(\"../\")\n",
    "from proj_mod import training, data_processing, visualization\n",
    "importlib.reload(training);\n",
    "importlib.reload(data_processing);\n",
    "importlib.reload(visualization);"
   ]
  },
  {
   "cell_type": "code",
   "execution_count": null,
   "id": "b0d36d44-b3cb-40e6-bbc6-a36c15396f46",
   "metadata": {},
   "outputs": [],
   "source": [
    "#Only run this cell if needed. AMD gpus might need this. Martin, I will remember this. \n",
    "from dotenv import load_dotenv\n",
    "import os\n",
    "\n",
    "load_dotenv(\"../dotenv_env/deep_learning.env\")\n",
    "\n",
    "print(os.environ.get(\"HSA_OVERRIDE_GFX_VERSION\"))"
   ]
  },
  {
   "cell_type": "code",
   "execution_count": 3,
   "id": "9776742b",
   "metadata": {},
   "outputs": [
    {
     "name": "stdout",
     "output_type": "stream",
     "text": [
      "Using device cuda\n"
     ]
    }
   ],
   "source": [
    "device=(torch.device(\"cuda\") if torch.cuda.is_available() else torch.device(\"cpu\"))\n",
    "print(f\"Using device {device}\")"
   ]
  },
  {
   "cell_type": "markdown",
   "id": "75a37b30",
   "metadata": {},
   "source": [
    "# Data preparation "
   ]
  },
  {
   "cell_type": "markdown",
   "id": "795ffb2f",
   "metadata": {},
   "source": [
    "### Load time id order"
   ]
  },
  {
   "cell_type": "code",
   "execution_count": 4,
   "id": "9f295403",
   "metadata": {},
   "outputs": [],
   "source": [
    "list_time=np.load(\"../processed_data/recovered_time_id_order.npy\")"
   ]
  },
  {
   "cell_type": "markdown",
   "id": "24968e95",
   "metadata": {},
   "source": [
    "### Load timeseries "
   ]
  },
  {
   "cell_type": "code",
   "execution_count": 5,
   "id": "9ce645bd",
   "metadata": {},
   "outputs": [],
   "source": [
    "df_RV_ts=pd.read_parquet(\"../processed_data/book_RV_ts_60_si.parquet\")"
   ]
  },
  {
   "cell_type": "markdown",
   "id": "48c789a9",
   "metadata": {},
   "source": [
    "### Load target "
   ]
  },
  {
   "cell_type": "code",
   "execution_count": 6,
   "id": "dfdfdf49",
   "metadata": {},
   "outputs": [
    {
     "data": {
      "text/html": [
       "<div>\n",
       "<style scoped>\n",
       "    .dataframe tbody tr th:only-of-type {\n",
       "        vertical-align: middle;\n",
       "    }\n",
       "\n",
       "    .dataframe tbody tr th {\n",
       "        vertical-align: top;\n",
       "    }\n",
       "\n",
       "    .dataframe thead th {\n",
       "        text-align: right;\n",
       "    }\n",
       "</style>\n",
       "<table border=\"1\" class=\"dataframe\">\n",
       "  <thead>\n",
       "    <tr style=\"text-align: right;\">\n",
       "      <th></th>\n",
       "      <th>stock_id</th>\n",
       "      <th>time_id</th>\n",
       "      <th>target</th>\n",
       "      <th>row_id</th>\n",
       "    </tr>\n",
       "  </thead>\n",
       "  <tbody>\n",
       "    <tr>\n",
       "      <th>0</th>\n",
       "      <td>0</td>\n",
       "      <td>5</td>\n",
       "      <td>0.004136</td>\n",
       "      <td>0-5</td>\n",
       "    </tr>\n",
       "    <tr>\n",
       "      <th>1</th>\n",
       "      <td>0</td>\n",
       "      <td>11</td>\n",
       "      <td>0.001445</td>\n",
       "      <td>0-11</td>\n",
       "    </tr>\n",
       "    <tr>\n",
       "      <th>2</th>\n",
       "      <td>0</td>\n",
       "      <td>16</td>\n",
       "      <td>0.002168</td>\n",
       "      <td>0-16</td>\n",
       "    </tr>\n",
       "    <tr>\n",
       "      <th>3</th>\n",
       "      <td>0</td>\n",
       "      <td>31</td>\n",
       "      <td>0.002195</td>\n",
       "      <td>0-31</td>\n",
       "    </tr>\n",
       "    <tr>\n",
       "      <th>4</th>\n",
       "      <td>0</td>\n",
       "      <td>62</td>\n",
       "      <td>0.001747</td>\n",
       "      <td>0-62</td>\n",
       "    </tr>\n",
       "    <tr>\n",
       "      <th>...</th>\n",
       "      <td>...</td>\n",
       "      <td>...</td>\n",
       "      <td>...</td>\n",
       "      <td>...</td>\n",
       "    </tr>\n",
       "    <tr>\n",
       "      <th>428927</th>\n",
       "      <td>126</td>\n",
       "      <td>32751</td>\n",
       "      <td>0.003461</td>\n",
       "      <td>126-32751</td>\n",
       "    </tr>\n",
       "    <tr>\n",
       "      <th>428928</th>\n",
       "      <td>126</td>\n",
       "      <td>32753</td>\n",
       "      <td>0.003113</td>\n",
       "      <td>126-32753</td>\n",
       "    </tr>\n",
       "    <tr>\n",
       "      <th>428929</th>\n",
       "      <td>126</td>\n",
       "      <td>32758</td>\n",
       "      <td>0.004070</td>\n",
       "      <td>126-32758</td>\n",
       "    </tr>\n",
       "    <tr>\n",
       "      <th>428930</th>\n",
       "      <td>126</td>\n",
       "      <td>32763</td>\n",
       "      <td>0.003357</td>\n",
       "      <td>126-32763</td>\n",
       "    </tr>\n",
       "    <tr>\n",
       "      <th>428931</th>\n",
       "      <td>126</td>\n",
       "      <td>32767</td>\n",
       "      <td>0.002090</td>\n",
       "      <td>126-32767</td>\n",
       "    </tr>\n",
       "  </tbody>\n",
       "</table>\n",
       "<p>428932 rows × 4 columns</p>\n",
       "</div>"
      ],
      "text/plain": [
       "        stock_id  time_id    target     row_id\n",
       "0              0        5  0.004136        0-5\n",
       "1              0       11  0.001445       0-11\n",
       "2              0       16  0.002168       0-16\n",
       "3              0       31  0.002195       0-31\n",
       "4              0       62  0.001747       0-62\n",
       "...          ...      ...       ...        ...\n",
       "428927       126    32751  0.003461  126-32751\n",
       "428928       126    32753  0.003113  126-32753\n",
       "428929       126    32758  0.004070  126-32758\n",
       "428930       126    32763  0.003357  126-32763\n",
       "428931       126    32767  0.002090  126-32767\n",
       "\n",
       "[428932 rows x 4 columns]"
      ]
     },
     "execution_count": 6,
     "metadata": {},
     "output_type": "execute_result"
    }
   ],
   "source": [
    "df_target=pd.read_csv(\"../raw_data/kaggle_ORVP/train.csv\")\n",
    "df_target[\"row_id\"]=df_target[\"stock_id\"].astype(int).astype(str)+\"-\"+df_target[\"time_id\"].astype(int).astype(str)\n",
    "df_target"
   ]
  },
  {
   "cell_type": "markdown",
   "id": "1c116a84",
   "metadata": {},
   "source": [
    "### Create datasets "
   ]
  },
  {
   "cell_type": "code",
   "execution_count": 7,
   "id": "4a7a56d5",
   "metadata": {},
   "outputs": [
    {
     "name": "stdout",
     "output_type": "stream",
     "text": [
      "In fold 0 :\n",
      "\n",
      "Train set end at 8117 .\n",
      "\n",
      "Test set start at 15516 end at 10890 .\n",
      "\n"
     ]
    },
    {
     "name": "stderr",
     "output_type": "stream",
     "text": [
      "/home/machine2/Desktop/Realized_Volatility_Prediction_-erdos_deeplearning-/NNetwork/../proj_mod/training.py:351: SettingWithCopyWarning: \n",
      "A value is trying to be set on a copy of a slice from a DataFrame.\n",
      "Try using .loc[row_indexer,col_indexer] = value instead\n",
      "\n",
      "See the caveats in the documentation: https://pandas.pydata.org/pandas-docs/stable/user_guide/indexing.html#returning-a-view-versus-a-copy\n",
      "  df_tab_copy[\"sub_int_num\"]=np.nan\n",
      "/home/machine2/Desktop/Realized_Volatility_Prediction_-erdos_deeplearning-/NNetwork/../proj_mod/training.py:351: SettingWithCopyWarning: \n",
      "A value is trying to be set on a copy of a slice from a DataFrame.\n",
      "Try using .loc[row_indexer,col_indexer] = value instead\n",
      "\n",
      "See the caveats in the documentation: https://pandas.pydata.org/pandas-docs/stable/user_guide/indexing.html#returning-a-view-versus-a-copy\n",
      "  df_tab_copy[\"sub_int_num\"]=np.nan\n"
     ]
    }
   ],
   "source": [
    "time_split_list=data_processing.time_cross_val_split(list_time=list_time,n_split=1,percent_val_size=10,list_output=True)\n",
    "train_time_id,test_time_id=time_split_list[0][0],time_split_list[0][1]\n",
    "\n",
    "train_dataset=training.RVdataset(time_id_list=train_time_id,ts_features=[\"sub_int_RV\"],tab_features=[\"emb_id\"],df_ts_feat=df_RV_ts,df_target=df_target)\n",
    "test_dataset=training.RVdataset(time_id_list=test_time_id,ts_features=[\"sub_int_RV\"],tab_features=[\"emb_id\"],df_ts_feat=df_RV_ts,df_target=df_target)"
   ]
  },
  {
   "cell_type": "code",
   "execution_count": 8,
   "id": "d2e36e70",
   "metadata": {},
   "outputs": [],
   "source": [
    "embed=nn.Embedding(num_embeddings=4,embedding_dim=2)\n",
    "out=embed(torch.tensor([[0,1,2,3],[0,1,2,3]]))"
   ]
  },
  {
   "cell_type": "code",
   "execution_count": 9,
   "id": "e7c02435",
   "metadata": {},
   "outputs": [
    {
     "data": {
      "text/plain": [
       "tensor([[[-0.6356,  0.6207],\n",
       "         [ 0.6039,  0.3823],\n",
       "         [ 1.3884, -0.3988],\n",
       "         [ 1.0872,  0.0067]],\n",
       "\n",
       "        [[-0.6356,  0.6207],\n",
       "         [ 0.6039,  0.3823],\n",
       "         [ 1.3884, -0.3988],\n",
       "         [ 1.0872,  0.0067]]], grad_fn=<EmbeddingBackward0>)"
      ]
     },
     "execution_count": 9,
     "metadata": {},
     "output_type": "execute_result"
    }
   ],
   "source": [
    "out"
   ]
  },
  {
   "cell_type": "code",
   "execution_count": 10,
   "id": "3782818a",
   "metadata": {},
   "outputs": [
    {
     "data": {
      "text/plain": [
       "torch.Size([2, 4, 2])"
      ]
     },
     "execution_count": 10,
     "metadata": {},
     "output_type": "execute_result"
    }
   ],
   "source": [
    "out.shape"
   ]
  },
  {
   "cell_type": "code",
   "execution_count": 11,
   "id": "f4235233",
   "metadata": {},
   "outputs": [
    {
     "data": {
      "text/plain": [
       "tensor([[0, 1, 2, 3],\n",
       "        [0, 1, 2, 3]])"
      ]
     },
     "execution_count": 11,
     "metadata": {},
     "output_type": "execute_result"
    }
   ],
   "source": [
    "torch.tensor([0,1,2,3]).expand(2,4)"
   ]
  },
  {
   "cell_type": "markdown",
   "id": "20f2c8f0",
   "metadata": {},
   "source": [
    "# Create example (encoder based only) transformer model "
   ]
  },
  {
   "cell_type": "code",
   "execution_count": 12,
   "id": "7e557279",
   "metadata": {},
   "outputs": [],
   "source": [
    "class ts_encoder_example(nn.Module):\n",
    "    def __init__(self):\n",
    "        super().__init__()\n",
    "        self.encoder_attn=nn.MultiheadAttention(embed_dim=32,num_heads=4,dropout=0.1,batch_first=True)\n",
    "        self.encoder_norm1=nn.LayerNorm(32)\n",
    "        self.encoder_feedforward=nn.Sequential(\n",
    "            nn.Linear(in_features=32,out_features=64),\n",
    "            nn.ReLU(),\n",
    "            nn.Linear(in_features=64,out_features=32)\n",
    "        )\n",
    "        self.encoder_norm2=nn.LayerNorm(32)\n",
    "        \n",
    "    def forward(self,x):\n",
    "        attn,_=self.encoder_attn(x,x,x)\n",
    "        x=self.encoder_norm1(x+attn)\n",
    "        attn=self.encoder_feedforward(x)\n",
    "        return self.encoder_norm2(x+attn)\n",
    "        \n",
    "\n",
    "class ts_trans_example(nn.Module): \n",
    "    # An example where only encoder is used, the logic behind this is that we only want one value output, it might not be needed to add in decoders (which )\n",
    "    def __init__(self):\n",
    "        super().__init__()\n",
    "        #Frozen conv \n",
    "        self.frozen_conv=training.frozen_diff_conv(n_diff=2) \n",
    "        #Position embedding \n",
    "        self.pos_emb=nn.Embedding(num_embeddings=60,embedding_dim=32) # 60 is the length of our (default) timeseries. \n",
    "        self.ts_proj=nn.Linear(in_features=3,out_features=32)\n",
    "        self.pos_attn=nn.MultiheadAttention(embed_dim=32,batch_first=True,dropout=0.1,num_heads=4)\n",
    "        self.pos_norm=nn.LayerNorm(32) \n",
    "        #Encoder stacking \n",
    "        self.encoder_layers=nn.ModuleList([\n",
    "            ts_encoder_example()\n",
    "            for _ in range(4)\n",
    "        ])\n",
    "        #Final feedforward \n",
    "        self.final_linear=nn.Linear(in_features=32,out_features=1)\n",
    "        \n",
    "        #scaler\n",
    "        self.input_scaler=10000\n",
    "        \n",
    "    def forward(self,x): \n",
    "        #Create and reshape the timeseries tensor \n",
    "        x*=self.input_scaler\n",
    "        x=torch.unsqueeze(x,dim=1)\n",
    "        x=self.frozen_conv(x)\n",
    "        x=x.permute(0,2,1) \n",
    "        # print(x.shape)\n",
    "        x=self.ts_proj(x) # (N, 60, 32) 60 is the timeseries length \n",
    "        #Adding in position for positional impact \n",
    "        pos_id=torch.arange(60, device=x.device).expand(x.shape[0],60)\n",
    "        pos_emb=self.pos_emb(pos_id)\n",
    "        pos,_=self.pos_attn(x,pos_emb,pos_emb)\n",
    "        x=x+pos\n",
    "        x=self.pos_norm(x)\n",
    "        #Run though the encoder layers \n",
    "        for layer in self.encoder_layers: \n",
    "            x=layer(x)\n",
    "        x=self.final_linear(x)\n",
    "        return torch.sum(x,dim=1)/self.input_scaler # (N,1)\n",
    "        \n",
    "        \n",
    "        "
   ]
  },
  {
   "cell_type": "markdown",
   "id": "9ad642fb",
   "metadata": {},
   "source": [
    "### Create loaders"
   ]
  },
  {
   "cell_type": "code",
   "execution_count": 17,
   "id": "90e5e086",
   "metadata": {},
   "outputs": [],
   "source": [
    "train_loader=torch.utils.data.DataLoader(dataset=train_dataset,batch_size=512,shuffle=True, num_workers=4, pin_memory=True)\n",
    "test_loader=torch.utils.data.DataLoader(dataset=test_dataset,batch_size=512,shuffle=True, num_workers =4, pin_memory=True)\n",
    "\n",
    "# Loss tracking\n",
    "train_loss = []\n",
    "val_loss = []"
   ]
  },
  {
   "cell_type": "markdown",
   "id": "9aa7c045",
   "metadata": {},
   "source": [
    "### Init model "
   ]
  },
  {
   "cell_type": "code",
   "execution_count": 18,
   "id": "0f07f440",
   "metadata": {},
   "outputs": [],
   "source": [
    "trans_example_mod=ts_trans_example().to(device=device)\n",
    "\n",
    "import torch.optim as optim\n",
    "\n",
    "optimizer = optim.Adam(trans_example_mod.parameters(), lr=1e-6)"
   ]
  },
  {
   "cell_type": "code",
   "execution_count": 19,
   "id": "1c3d1939",
   "metadata": {},
   "outputs": [
    {
     "data": {
      "text/plain": [
       "=====================================================================================\n",
       "Layer (type:depth-idx)                                       Param #\n",
       "=====================================================================================\n",
       "ts_trans_example                                             --\n",
       "├─frozen_diff_conv: 1-1                                      --\n",
       "│    └─Conv1d: 2-1                                           (2)\n",
       "├─Embedding: 1-2                                             1,920\n",
       "├─Linear: 1-3                                                128\n",
       "├─MultiheadAttention: 1-4                                    3,168\n",
       "│    └─NonDynamicallyQuantizableLinear: 2-2                  1,056\n",
       "├─LayerNorm: 1-5                                             64\n",
       "├─ModuleList: 1-6                                            --\n",
       "│    └─ts_encoder_example: 2-3                               --\n",
       "│    │    └─MultiheadAttention: 3-1                          4,224\n",
       "│    │    └─LayerNorm: 3-2                                   64\n",
       "│    │    └─Sequential: 3-3                                  4,192\n",
       "│    │    └─LayerNorm: 3-4                                   64\n",
       "│    └─ts_encoder_example: 2-4                               --\n",
       "│    │    └─MultiheadAttention: 3-5                          4,224\n",
       "│    │    └─LayerNorm: 3-6                                   64\n",
       "│    │    └─Sequential: 3-7                                  4,192\n",
       "│    │    └─LayerNorm: 3-8                                   64\n",
       "│    └─ts_encoder_example: 2-5                               --\n",
       "│    │    └─MultiheadAttention: 3-9                          4,224\n",
       "│    │    └─LayerNorm: 3-10                                  64\n",
       "│    │    └─Sequential: 3-11                                 4,192\n",
       "│    │    └─LayerNorm: 3-12                                  64\n",
       "│    └─ts_encoder_example: 2-6                               --\n",
       "│    │    └─MultiheadAttention: 3-13                         4,224\n",
       "│    │    └─LayerNorm: 3-14                                  64\n",
       "│    │    └─Sequential: 3-15                                 4,192\n",
       "│    │    └─LayerNorm: 3-16                                  64\n",
       "├─Linear: 1-7                                                33\n",
       "=====================================================================================\n",
       "Total params: 40,547\n",
       "Trainable params: 40,545\n",
       "Non-trainable params: 2\n",
       "====================================================================================="
      ]
     },
     "execution_count": 19,
     "metadata": {},
     "output_type": "execute_result"
    }
   ],
   "source": [
    "from torchinfo import summary\n",
    "summary(trans_example_mod)"
   ]
  },
  {
   "cell_type": "markdown",
   "id": "579fea31",
   "metadata": {},
   "source": [
    "Oh fucks that is a shit ton of tranable parameters. "
   ]
  },
  {
   "cell_type": "markdown",
   "id": "4aa1a9fd",
   "metadata": {},
   "source": [
    "### Training loop "
   ]
  },
  {
   "cell_type": "code",
   "execution_count": 20,
   "id": "f46acbe3",
   "metadata": {
    "scrolled": true
   },
   "outputs": [
    {
     "name": "stdout",
     "output_type": "stream",
     "text": [
      "A new best validation loss at epoch  1  with validation loss of  tensor(0.6353, device='cuda:0')\n",
      "At  18.591132164001465  epoch  1 has training loss  tensor(1.0087, device='cuda:0')  and validation loss  tensor(0.6353, device='cuda:0') .\n",
      "\n",
      "A new best validation loss at epoch  2  with validation loss of  tensor(0.4699, device='cuda:0')\n",
      "A new best validation loss at epoch  3  with validation loss of  tensor(0.4152, device='cuda:0')\n",
      "A new best validation loss at epoch  4  with validation loss of  tensor(0.3846, device='cuda:0')\n",
      "A new best validation loss at epoch  5  with validation loss of  tensor(0.3679, device='cuda:0')\n",
      "At  96.74080228805542  epoch  5 has training loss  tensor(0.3748, device='cuda:0')  and validation loss  tensor(0.3679, device='cuda:0') .\n",
      "\n",
      "A new best validation loss at epoch  6  with validation loss of  tensor(0.3545, device='cuda:0')\n",
      "A new best validation loss at epoch  7  with validation loss of  tensor(0.3415, device='cuda:0')\n",
      "A new best validation loss at epoch  8  with validation loss of  tensor(0.3282, device='cuda:0')\n",
      "A new best validation loss at epoch  9  with validation loss of  tensor(0.3152, device='cuda:0')\n",
      "A new best validation loss at epoch  10  with validation loss of  tensor(0.3032, device='cuda:0')\n",
      "At  194.41964173316956  epoch  10 has training loss  tensor(0.3117, device='cuda:0')  and validation loss  tensor(0.3032, device='cuda:0') .\n",
      "\n",
      "A new best validation loss at epoch  11  with validation loss of  tensor(0.2940, device='cuda:0')\n",
      "A new best validation loss at epoch  12  with validation loss of  tensor(0.2865, device='cuda:0')\n",
      "A new best validation loss at epoch  13  with validation loss of  tensor(0.2807, device='cuda:0')\n",
      "A new best validation loss at epoch  14  with validation loss of  tensor(0.2762, device='cuda:0')\n",
      "A new best validation loss at epoch  15  with validation loss of  tensor(0.2726, device='cuda:0')\n",
      "At  291.5296456813812  epoch  15 has training loss  tensor(0.2840, device='cuda:0')  and validation loss  tensor(0.2726, device='cuda:0') .\n",
      "\n",
      "A new best validation loss at epoch  16  with validation loss of  tensor(0.2698, device='cuda:0')\n",
      "A new best validation loss at epoch  17  with validation loss of  tensor(0.2665, device='cuda:0')\n",
      "A new best validation loss at epoch  18  with validation loss of  tensor(0.2643, device='cuda:0')\n",
      "A new best validation loss at epoch  19  with validation loss of  tensor(0.2619, device='cuda:0')\n",
      "A new best validation loss at epoch  20  with validation loss of  tensor(0.2602, device='cuda:0')\n",
      "At  388.1509554386139  epoch  20 has training loss  tensor(0.2728, device='cuda:0')  and validation loss  tensor(0.2602, device='cuda:0') .\n",
      "\n",
      "A new best validation loss at epoch  21  with validation loss of  tensor(0.2586, device='cuda:0')\n",
      "A new best validation loss at epoch  22  with validation loss of  tensor(0.2570, device='cuda:0')\n",
      "A new best validation loss at epoch  23  with validation loss of  tensor(0.2554, device='cuda:0')\n",
      "A new best validation loss at epoch  24  with validation loss of  tensor(0.2544, device='cuda:0')\n",
      "A new best validation loss at epoch  25  with validation loss of  tensor(0.2532, device='cuda:0')\n",
      "At  486.0998537540436  epoch  25 has training loss  tensor(0.2665, device='cuda:0')  and validation loss  tensor(0.2532, device='cuda:0') .\n",
      "\n",
      "A new best validation loss at epoch  26  with validation loss of  tensor(0.2523, device='cuda:0')\n",
      "A new best validation loss at epoch  27  with validation loss of  tensor(0.2511, device='cuda:0')\n",
      "A new best validation loss at epoch  28  with validation loss of  tensor(0.2507, device='cuda:0')\n",
      "A new best validation loss at epoch  29  with validation loss of  tensor(0.2497, device='cuda:0')\n",
      "A new best validation loss at epoch  30  with validation loss of  tensor(0.2491, device='cuda:0')\n",
      "At  584.3392162322998  epoch  30 has training loss  tensor(0.2626, device='cuda:0')  and validation loss  tensor(0.2491, device='cuda:0') .\n",
      "\n",
      "A new best validation loss at epoch  31  with validation loss of  tensor(0.2483, device='cuda:0')\n",
      "A new best validation loss at epoch  32  with validation loss of  tensor(0.2478, device='cuda:0')\n",
      "A new best validation loss at epoch  33  with validation loss of  tensor(0.2471, device='cuda:0')\n",
      "A new best validation loss at epoch  34  with validation loss of  tensor(0.2466, device='cuda:0')\n",
      "A new best validation loss at epoch  35  with validation loss of  tensor(0.2462, device='cuda:0')\n",
      "At  682.0649039745331  epoch  35 has training loss  tensor(0.2602, device='cuda:0')  and validation loss  tensor(0.2462, device='cuda:0') .\n",
      "\n",
      "A new best validation loss at epoch  36  with validation loss of  tensor(0.2458, device='cuda:0')\n",
      "A new best validation loss at epoch  37  with validation loss of  tensor(0.2454, device='cuda:0')\n",
      "A new best validation loss at epoch  38  with validation loss of  tensor(0.2448, device='cuda:0')\n",
      "A new best validation loss at epoch  40  with validation loss of  tensor(0.2443, device='cuda:0')\n",
      "At  779.2691872119904  epoch  40 has training loss  tensor(0.2586, device='cuda:0')  and validation loss  tensor(0.2443, device='cuda:0') .\n",
      "\n",
      "A new best validation loss at epoch  41  with validation loss of  tensor(0.2442, device='cuda:0')\n",
      "A new best validation loss at epoch  42  with validation loss of  tensor(0.2438, device='cuda:0')\n",
      "A new best validation loss at epoch  43  with validation loss of  tensor(0.2435, device='cuda:0')\n",
      "A new best validation loss at epoch  44  with validation loss of  tensor(0.2433, device='cuda:0')\n",
      "A new best validation loss at epoch  45  with validation loss of  tensor(0.2431, device='cuda:0')\n",
      "At  876.7823143005371  epoch  45 has training loss  tensor(0.2574, device='cuda:0')  and validation loss  tensor(0.2431, device='cuda:0') .\n",
      "\n",
      "A new best validation loss at epoch  46  with validation loss of  tensor(0.2428, device='cuda:0')\n",
      "A new best validation loss at epoch  47  with validation loss of  tensor(0.2425, device='cuda:0')\n",
      "A new best validation loss at epoch  48  with validation loss of  tensor(0.2423, device='cuda:0')\n",
      "A new best validation loss at epoch  50  with validation loss of  tensor(0.2422, device='cuda:0')\n",
      "At  975.1328725814819  epoch  50 has training loss  tensor(0.2565, device='cuda:0')  and validation loss  tensor(0.2422, device='cuda:0') .\n",
      "\n",
      "A new best validation loss at epoch  51  with validation loss of  tensor(0.2418, device='cuda:0')\n",
      "A new best validation loss at epoch  52  with validation loss of  tensor(0.2417, device='cuda:0')\n",
      "A new best validation loss at epoch  53  with validation loss of  tensor(0.2413, device='cuda:0')\n",
      "A new best validation loss at epoch  54  with validation loss of  tensor(0.2413, device='cuda:0')\n",
      "A new best validation loss at epoch  55  with validation loss of  tensor(0.2410, device='cuda:0')\n",
      "At  1073.3780179023743  epoch  55 has training loss  tensor(0.2559, device='cuda:0')  and validation loss  tensor(0.2410, device='cuda:0') .\n",
      "\n",
      "A new best validation loss at epoch  58  with validation loss of  tensor(0.2406, device='cuda:0')\n",
      "A new best validation loss at epoch  59  with validation loss of  tensor(0.2404, device='cuda:0')\n",
      "A new best validation loss at epoch  60  with validation loss of  tensor(0.2403, device='cuda:0')\n",
      "At  1171.6819303035736  epoch  60 has training loss  tensor(0.2554, device='cuda:0')  and validation loss  tensor(0.2403, device='cuda:0') .\n",
      "\n",
      "A new best validation loss at epoch  63  with validation loss of  tensor(0.2400, device='cuda:0')\n",
      "A new best validation loss at epoch  65  with validation loss of  tensor(0.2397, device='cuda:0')\n",
      "At  1268.9588356018066  epoch  65 has training loss  tensor(0.2549, device='cuda:0')  and validation loss  tensor(0.2397, device='cuda:0') .\n",
      "\n",
      "A new best validation loss at epoch  66  with validation loss of  tensor(0.2396, device='cuda:0')\n",
      "A new best validation loss at epoch  68  with validation loss of  tensor(0.2395, device='cuda:0')\n",
      "A new best validation loss at epoch  69  with validation loss of  tensor(0.2394, device='cuda:0')\n",
      "At  1366.3887729644775  epoch  70 has training loss  tensor(0.2545, device='cuda:0')  and validation loss  tensor(0.2396, device='cuda:0') .\n",
      "\n",
      "A new best validation loss at epoch  71  with validation loss of  tensor(0.2392, device='cuda:0')\n",
      "A new best validation loss at epoch  72  with validation loss of  tensor(0.2390, device='cuda:0')\n",
      "A new best validation loss at epoch  75  with validation loss of  tensor(0.2388, device='cuda:0')\n",
      "At  1464.214762210846  epoch  75 has training loss  tensor(0.2542, device='cuda:0')  and validation loss  tensor(0.2388, device='cuda:0') .\n",
      "\n",
      "A new best validation loss at epoch  77  with validation loss of  tensor(0.2386, device='cuda:0')\n",
      "At  1562.1925790309906  epoch  80 has training loss  tensor(0.2539, device='cuda:0')  and validation loss  tensor(0.2389, device='cuda:0') .\n",
      "\n",
      "A new best validation loss at epoch  81  with validation loss of  tensor(0.2385, device='cuda:0')\n",
      "A new best validation loss at epoch  83  with validation loss of  tensor(0.2383, device='cuda:0')\n",
      "At  1660.1552033424377  epoch  85 has training loss  tensor(0.2537, device='cuda:0')  and validation loss  tensor(0.2384, device='cuda:0') .\n",
      "\n",
      "A new best validation loss at epoch  87  with validation loss of  tensor(0.2380, device='cuda:0')\n"
     ]
    },
    {
     "ename": "KeyboardInterrupt",
     "evalue": "",
     "output_type": "error",
     "traceback": [
      "\u001b[31m---------------------------------------------------------------------------\u001b[39m",
      "\u001b[31mKeyboardInterrupt\u001b[39m                         Traceback (most recent call last)",
      "\u001b[36mCell\u001b[39m\u001b[36m \u001b[39m\u001b[32mIn[20]\u001b[39m\u001b[32m, line 1\u001b[39m\n\u001b[32m----> \u001b[39m\u001b[32m1\u001b[39m \u001b[43mtraining\u001b[49m\u001b[43m.\u001b[49m\u001b[43mreg_training_loop_rmspe\u001b[49m\u001b[43m(\u001b[49m\u001b[43moptimizer\u001b[49m\u001b[43m=\u001b[49m\u001b[43moptimizer\u001b[49m\u001b[43m,\u001b[49m\u001b[43mmodel\u001b[49m\u001b[43m=\u001b[49m\u001b[43mtrans_example_mod\u001b[49m\u001b[43m,\u001b[49m\u001b[43mtrain_loader\u001b[49m\u001b[43m=\u001b[49m\u001b[43mtrain_loader\u001b[49m\u001b[43m,\u001b[49m\u001b[43mval_loader\u001b[49m\u001b[43m=\u001b[49m\u001b[43mtest_loader\u001b[49m\u001b[43m,\u001b[49m\u001b[43mot_steps\u001b[49m\u001b[43m=\u001b[49m\u001b[32;43m20\u001b[39;49m\u001b[43m,\u001b[49m\u001b[43mreport_interval\u001b[49m\u001b[43m=\u001b[49m\u001b[32;43m5\u001b[39;49m\u001b[43m,\u001b[49m\u001b[43mn_epochs\u001b[49m\u001b[43m=\u001b[49m\u001b[32;43m200\u001b[39;49m\u001b[43m,\u001b[49m\u001b[43mlist_train_loss\u001b[49m\u001b[43m=\u001b[49m\u001b[43mtrain_loss\u001b[49m\u001b[43m,\u001b[49m\u001b[43mlist_val_loss\u001b[49m\u001b[43m=\u001b[49m\u001b[43mval_loss\u001b[49m\u001b[43m,\u001b[49m\u001b[43mdevice\u001b[49m\u001b[43m=\u001b[49m\u001b[43mdevice\u001b[49m\u001b[43m,\u001b[49m\u001b[43meps\u001b[49m\u001b[43m=\u001b[49m\u001b[32;43m1e-6\u001b[39;49m\u001b[43m)\u001b[49m\n",
      "\u001b[36mFile \u001b[39m\u001b[32m~/git/Realized_Volatility_Prediction_-erdos_deeplearning-/NNetwork/../proj_mod/training.py:170\u001b[39m, in \u001b[36mreg_training_loop_rmspe\u001b[39m\u001b[34m(optimizer, model, train_loader, val_loader, device, ot_steps, recall_best, eps, list_train_loss, list_val_loss, report_interval, n_epochs, scaler, norm_train_target, train_target)\u001b[39m\n\u001b[32m    168\u001b[39m \u001b[38;5;66;03m#Update using optimizer according to loss of the batch\u001b[39;00m\n\u001b[32m    169\u001b[39m optimizer.zero_grad()\n\u001b[32m--> \u001b[39m\u001b[32m170\u001b[39m \u001b[43mloss_step\u001b[49m\u001b[43m.\u001b[49m\u001b[43mbackward\u001b[49m\u001b[43m(\u001b[49m\u001b[43m)\u001b[49m\n\u001b[32m    171\u001b[39m optimizer.step()\n\u001b[32m    172\u001b[39m \u001b[38;5;66;03m# #Create variables for training dataset target mean and std \u001b[39;00m\n\u001b[32m    173\u001b[39m \u001b[38;5;66;03m# train_target_mean=None\u001b[39;00m\n\u001b[32m    174\u001b[39m \u001b[38;5;66;03m# train_target_std=None            \u001b[39;00m\n\u001b[32m    175\u001b[39m \u001b[38;5;66;03m#Update the sum of sqaure (without grad) \u001b[39;00m\n",
      "\u001b[36mFile \u001b[39m\u001b[32m~/.pyenv/versions/deep_learning_3_11_8/lib/python3.11/site-packages/torch/_tensor.py:648\u001b[39m, in \u001b[36mTensor.backward\u001b[39m\u001b[34m(self, gradient, retain_graph, create_graph, inputs)\u001b[39m\n\u001b[32m    638\u001b[39m \u001b[38;5;28;01mif\u001b[39;00m has_torch_function_unary(\u001b[38;5;28mself\u001b[39m):\n\u001b[32m    639\u001b[39m     \u001b[38;5;28;01mreturn\u001b[39;00m handle_torch_function(\n\u001b[32m    640\u001b[39m         Tensor.backward,\n\u001b[32m    641\u001b[39m         (\u001b[38;5;28mself\u001b[39m,),\n\u001b[32m   (...)\u001b[39m\u001b[32m    646\u001b[39m         inputs=inputs,\n\u001b[32m    647\u001b[39m     )\n\u001b[32m--> \u001b[39m\u001b[32m648\u001b[39m \u001b[43mtorch\u001b[49m\u001b[43m.\u001b[49m\u001b[43mautograd\u001b[49m\u001b[43m.\u001b[49m\u001b[43mbackward\u001b[49m\u001b[43m(\u001b[49m\n\u001b[32m    649\u001b[39m \u001b[43m    \u001b[49m\u001b[38;5;28;43mself\u001b[39;49m\u001b[43m,\u001b[49m\u001b[43m \u001b[49m\u001b[43mgradient\u001b[49m\u001b[43m,\u001b[49m\u001b[43m \u001b[49m\u001b[43mretain_graph\u001b[49m\u001b[43m,\u001b[49m\u001b[43m \u001b[49m\u001b[43mcreate_graph\u001b[49m\u001b[43m,\u001b[49m\u001b[43m \u001b[49m\u001b[43minputs\u001b[49m\u001b[43m=\u001b[49m\u001b[43minputs\u001b[49m\n\u001b[32m    650\u001b[39m \u001b[43m\u001b[49m\u001b[43m)\u001b[49m\n",
      "\u001b[36mFile \u001b[39m\u001b[32m~/.pyenv/versions/deep_learning_3_11_8/lib/python3.11/site-packages/torch/autograd/__init__.py:354\u001b[39m, in \u001b[36mbackward\u001b[39m\u001b[34m(tensors, grad_tensors, retain_graph, create_graph, grad_variables, inputs)\u001b[39m\n\u001b[32m    349\u001b[39m     retain_graph = create_graph\n\u001b[32m    351\u001b[39m \u001b[38;5;66;03m# The reason we repeat the same comment below is that\u001b[39;00m\n\u001b[32m    352\u001b[39m \u001b[38;5;66;03m# some Python versions print out the first line of a multi-line function\u001b[39;00m\n\u001b[32m    353\u001b[39m \u001b[38;5;66;03m# calls in the traceback and some print out the last line\u001b[39;00m\n\u001b[32m--> \u001b[39m\u001b[32m354\u001b[39m \u001b[43m_engine_run_backward\u001b[49m\u001b[43m(\u001b[49m\n\u001b[32m    355\u001b[39m \u001b[43m    \u001b[49m\u001b[43mtensors\u001b[49m\u001b[43m,\u001b[49m\n\u001b[32m    356\u001b[39m \u001b[43m    \u001b[49m\u001b[43mgrad_tensors_\u001b[49m\u001b[43m,\u001b[49m\n\u001b[32m    357\u001b[39m \u001b[43m    \u001b[49m\u001b[43mretain_graph\u001b[49m\u001b[43m,\u001b[49m\n\u001b[32m    358\u001b[39m \u001b[43m    \u001b[49m\u001b[43mcreate_graph\u001b[49m\u001b[43m,\u001b[49m\n\u001b[32m    359\u001b[39m \u001b[43m    \u001b[49m\u001b[43minputs_tuple\u001b[49m\u001b[43m,\u001b[49m\n\u001b[32m    360\u001b[39m \u001b[43m    \u001b[49m\u001b[43mallow_unreachable\u001b[49m\u001b[43m=\u001b[49m\u001b[38;5;28;43;01mTrue\u001b[39;49;00m\u001b[43m,\u001b[49m\n\u001b[32m    361\u001b[39m \u001b[43m    \u001b[49m\u001b[43maccumulate_grad\u001b[49m\u001b[43m=\u001b[49m\u001b[38;5;28;43;01mTrue\u001b[39;49;00m\u001b[43m,\u001b[49m\n\u001b[32m    362\u001b[39m \u001b[43m\u001b[49m\u001b[43m)\u001b[49m\n",
      "\u001b[36mFile \u001b[39m\u001b[32m~/.pyenv/versions/deep_learning_3_11_8/lib/python3.11/site-packages/torch/autograd/graph.py:829\u001b[39m, in \u001b[36m_engine_run_backward\u001b[39m\u001b[34m(t_outputs, *args, **kwargs)\u001b[39m\n\u001b[32m    827\u001b[39m     unregister_hooks = _register_logging_hooks_on_whole_graph(t_outputs)\n\u001b[32m    828\u001b[39m \u001b[38;5;28;01mtry\u001b[39;00m:\n\u001b[32m--> \u001b[39m\u001b[32m829\u001b[39m     \u001b[38;5;28;01mreturn\u001b[39;00m \u001b[43mVariable\u001b[49m\u001b[43m.\u001b[49m\u001b[43m_execution_engine\u001b[49m\u001b[43m.\u001b[49m\u001b[43mrun_backward\u001b[49m\u001b[43m(\u001b[49m\u001b[43m  \u001b[49m\u001b[38;5;66;43;03m# Calls into the C++ engine to run the backward pass\u001b[39;49;00m\n\u001b[32m    830\u001b[39m \u001b[43m        \u001b[49m\u001b[43mt_outputs\u001b[49m\u001b[43m,\u001b[49m\u001b[43m \u001b[49m\u001b[43m*\u001b[49m\u001b[43margs\u001b[49m\u001b[43m,\u001b[49m\u001b[43m \u001b[49m\u001b[43m*\u001b[49m\u001b[43m*\u001b[49m\u001b[43mkwargs\u001b[49m\n\u001b[32m    831\u001b[39m \u001b[43m    \u001b[49m\u001b[43m)\u001b[49m  \u001b[38;5;66;03m# Calls into the C++ engine to run the backward pass\u001b[39;00m\n\u001b[32m    832\u001b[39m \u001b[38;5;28;01mfinally\u001b[39;00m:\n\u001b[32m    833\u001b[39m     \u001b[38;5;28;01mif\u001b[39;00m attach_logging_hooks:\n",
      "\u001b[31mKeyboardInterrupt\u001b[39m: "
     ]
    }
   ],
   "source": [
    "training.reg_training_loop_rmspe(optimizer=optimizer,model=trans_example_mod,train_loader=train_loader,val_loader=test_loader,ot_steps=20,report_interval=5,n_epochs=200,list_train_loss=train_loss,list_val_loss=val_loss,device=device,eps=1e-6)"
   ]
  },
  {
   "cell_type": "code",
   "execution_count": 61,
   "id": "49bef0a3-7443-4a5d-bd8d-0427f9ab5662",
   "metadata": {},
   "outputs": [],
   "source": [
    "# torch.save(train_loss, \"train_loss_trans.pt\")\n",
    "# torch.save(val_loss, \"val_loss_trans.pt\")\n",
    "\n",
    "train_loss = torch.load(\"train_loss_trans.pt\")\n",
    "val_loss = torch.load(\"val_loss_trans.pt\")"
   ]
  },
  {
   "cell_type": "code",
   "execution_count": 62,
   "id": "1f82814f-312e-4216-b0f0-8defde6f9f66",
   "metadata": {},
   "outputs": [
    {
     "data": {
      "image/png": "[encoded data removed]",
      "text/plain": [
       "<Figure size 1500x1125 with 1 Axes>"
      ]
     },
     "metadata": {},
     "output_type": "display_data"
    }
   ],
   "source": [
    "from proj_mod import visualization\n",
    "\n",
    "train_loss_cut = train_loss[10:]\n",
    "val_loss_cut = val_loss[10:]\n",
    "\n",
    "vis_dict={(\"transformer\",\"model\"):{\"train_loss\": train_loss_cut,\"val_loss\": val_loss_cut}}\n",
    "visualization.training_plots(vis_dict)"
   ]
  },
  {
   "cell_type": "markdown",
   "id": "3ebff02c",
   "metadata": {},
   "source": [
    "# A Transformer (encoder only) model that we can play with. "
   ]
  },
  {
   "cell_type": "markdown",
   "id": "7d378155",
   "metadata": {},
   "source": [
    "### Create loaders "
   ]
  },
  {
   "cell_type": "code",
   "execution_count": 42,
   "id": "234f856a",
   "metadata": {},
   "outputs": [],
   "source": [
    "train_loader=torch.utils.data.DataLoader(dataset=train_dataset,batch_size=512,shuffle=True, num_workers=4, pin_memory=True)\n",
    "test_loader=torch.utils.data.DataLoader(dataset=test_dataset,batch_size=512,shuffle=True, num_workers =4, pin_memory=True)\n",
    "\n",
    "# Loss tracking\n",
    "train_loss = []\n",
    "val_loss = []"
   ]
  },
  {
   "cell_type": "markdown",
   "id": "cd466b14",
   "metadata": {},
   "source": [
    "### Create sub models and list needed. "
   ]
  },
  {
   "cell_type": "code",
   "execution_count": 43,
   "id": "65c7a5fb",
   "metadata": {},
   "outputs": [],
   "source": [
    "pos_embedder=training.pos_emb_cross_attn(length=60,ts_dim=3,emb_dim=32,dropout=0.2,num_heads=4).to(device=device)\n",
    "ts_encoder_ff_layer=[\n",
    "    nn.Linear(in_features=32,out_features=64),\n",
    "    nn.ReLU(),\n",
    "    nn.Linear(in_features=64,out_features=32)\n",
    "]\n",
    "# ts_encoder=training.ts_encoder(ts_dim=32, dropout=0.2, num_heads=4, feedforward_layers=ts_encoder_ff_layer).to(device=device)\n",
    "output_ff=nn.Sequential(\n",
    "    nn.Linear(in_features=32,out_features=1)\n",
    ").to(device=device)"
   ]
  },
  {
   "cell_type": "markdown",
   "id": "bd732f40",
   "metadata": {},
   "source": [
    "### Create the full model "
   ]
  },
  {
   "cell_type": "code",
   "execution_count": 44,
   "id": "07b2afd8",
   "metadata": {},
   "outputs": [],
   "source": [
    "trans_encoder_model=training.encoder_ensemble(pos_emb_model=pos_embedder,output_feedforward=output_ff,n_diff=2,encoder_layer_num=4,input_scaler=10000,encoder_dropout=0.2,encoder_feedforward_list=ts_encoder_ff_layer,encoder_num_heads=4,ts_emb_dim=32).to(device=device)"
   ]
  },
  {
   "cell_type": "code",
   "execution_count": 45,
   "id": "82a258bd",
   "metadata": {},
   "outputs": [],
   "source": [
    "import torch.optim as optim\n",
    "\n",
    "optimizer = optim.AdamW(trans_encoder_model.parameters(), lr=1e-6)"
   ]
  },
  {
   "cell_type": "code",
   "execution_count": 46,
   "id": "168f22d6",
   "metadata": {},
   "outputs": [
    {
     "data": {
      "text/plain": [
       "=====================================================================================\n",
       "Layer (type:depth-idx)                                       Param #\n",
       "=====================================================================================\n",
       "encoder_ensemble                                             --\n",
       "├─frozen_diff_conv: 1-1                                      --\n",
       "│    └─Conv1d: 2-1                                           (2)\n",
       "├─pos_emb_cross_attn: 1-2                                    --\n",
       "│    └─Linear: 2-2                                           128\n",
       "│    └─Embedding: 2-3                                        1,920\n",
       "│    └─MultiheadAttention: 2-4                               3,168\n",
       "│    │    └─NonDynamicallyQuantizableLinear: 3-1             1,056\n",
       "│    └─LayerNorm: 2-5                                        64\n",
       "├─ModuleList: 1-3                                            --\n",
       "│    └─ts_encoder: 2-6                                       --\n",
       "│    │    └─MultiheadAttention: 3-2                          4,224\n",
       "│    │    └─LayerNorm: 3-3                                   64\n",
       "│    │    └─ModuleList: 3-4                                  4,192\n",
       "│    │    └─LayerNorm: 3-5                                   64\n",
       "│    └─ts_encoder: 2-7                                       --\n",
       "│    │    └─MultiheadAttention: 3-6                          4,224\n",
       "│    │    └─LayerNorm: 3-7                                   64\n",
       "│    │    └─ModuleList: 3-8                                  4,192\n",
       "│    │    └─LayerNorm: 3-9                                   64\n",
       "│    └─ts_encoder: 2-8                                       --\n",
       "│    │    └─MultiheadAttention: 3-10                         4,224\n",
       "│    │    └─LayerNorm: 3-11                                  64\n",
       "│    │    └─ModuleList: 3-12                                 4,192\n",
       "│    │    └─LayerNorm: 3-13                                  64\n",
       "│    └─ts_encoder: 2-9                                       --\n",
       "│    │    └─MultiheadAttention: 3-14                         4,224\n",
       "│    │    └─LayerNorm: 3-15                                  64\n",
       "│    │    └─ModuleList: 3-16                                 4,192\n",
       "│    │    └─LayerNorm: 3-17                                  64\n",
       "├─Sequential: 1-4                                            --\n",
       "│    └─Linear: 2-10                                          33\n",
       "=====================================================================================\n",
       "Total params: 40,547\n",
       "Trainable params: 40,545\n",
       "Non-trainable params: 2\n",
       "====================================================================================="
      ]
     },
     "execution_count": 46,
     "metadata": {},
     "output_type": "execute_result"
    }
   ],
   "source": [
    "from torchinfo import summary\n",
    "summary(trans_encoder_model)"
   ]
  },
  {
   "cell_type": "code",
   "execution_count": 47,
   "id": "ef42732f",
   "metadata": {},
   "outputs": [
    {
     "name": "stdout",
     "output_type": "stream",
     "text": [
      "A new best validation loss at epoch  1  with validation loss of  tensor(0.9314, device='cuda:0')\n",
      "At  12.906358480453491  epoch  1 has training loss  tensor(1.6946, device='cuda:0')  and validation loss  tensor(0.9314, device='cuda:0') .\n",
      "\n",
      "A new best validation loss at epoch  2  with validation loss of  tensor(0.5067, device='cuda:0')\n",
      "A new best validation loss at epoch  3  with validation loss of  tensor(0.4779, device='cuda:0')\n",
      "A new best validation loss at epoch  4  with validation loss of  tensor(0.4497, device='cuda:0')\n",
      "A new best validation loss at epoch  5  with validation loss of  tensor(0.4193, device='cuda:0')\n",
      "At  67.10013961791992  epoch  5 has training loss  tensor(0.4265, device='cuda:0')  and validation loss  tensor(0.4193, device='cuda:0') .\n",
      "\n",
      "A new best validation loss at epoch  6  with validation loss of  tensor(0.3895, device='cuda:0')\n",
      "A new best validation loss at epoch  7  with validation loss of  tensor(0.3628, device='cuda:0')\n",
      "A new best validation loss at epoch  8  with validation loss of  tensor(0.3416, device='cuda:0')\n",
      "A new best validation loss at epoch  9  with validation loss of  tensor(0.3254, device='cuda:0')\n",
      "A new best validation loss at epoch  10  with validation loss of  tensor(0.3118, device='cuda:0')\n",
      "At  134.90735149383545  epoch  10 has training loss  tensor(0.3197, device='cuda:0')  and validation loss  tensor(0.3118, device='cuda:0') .\n",
      "\n",
      "A new best validation loss at epoch  11  with validation loss of  tensor(0.3021, device='cuda:0')\n",
      "A new best validation loss at epoch  12  with validation loss of  tensor(0.2938, device='cuda:0')\n",
      "A new best validation loss at epoch  13  with validation loss of  tensor(0.2874, device='cuda:0')\n",
      "A new best validation loss at epoch  14  with validation loss of  tensor(0.2816, device='cuda:0')\n",
      "A new best validation loss at epoch  15  with validation loss of  tensor(0.2773, device='cuda:0')\n",
      "At  202.62944769859314  epoch  15 has training loss  tensor(0.2888, device='cuda:0')  and validation loss  tensor(0.2773, device='cuda:0') .\n",
      "\n",
      "A new best validation loss at epoch  16  with validation loss of  tensor(0.2739, device='cuda:0')\n",
      "A new best validation loss at epoch  17  with validation loss of  tensor(0.2708, device='cuda:0')\n",
      "A new best validation loss at epoch  18  with validation loss of  tensor(0.2684, device='cuda:0')\n",
      "A new best validation loss at epoch  19  with validation loss of  tensor(0.2659, device='cuda:0')\n",
      "A new best validation loss at epoch  20  with validation loss of  tensor(0.2636, device='cuda:0')\n",
      "At  270.4213778972626  epoch  20 has training loss  tensor(0.2767, device='cuda:0')  and validation loss  tensor(0.2636, device='cuda:0') .\n",
      "\n",
      "A new best validation loss at epoch  21  with validation loss of  tensor(0.2618, device='cuda:0')\n",
      "A new best validation loss at epoch  22  with validation loss of  tensor(0.2602, device='cuda:0')\n",
      "A new best validation loss at epoch  23  with validation loss of  tensor(0.2584, device='cuda:0')\n",
      "A new best validation loss at epoch  24  with validation loss of  tensor(0.2574, device='cuda:0')\n",
      "A new best validation loss at epoch  25  with validation loss of  tensor(0.2558, device='cuda:0')\n",
      "At  338.28457713127136  epoch  25 has training loss  tensor(0.2696, device='cuda:0')  and validation loss  tensor(0.2558, device='cuda:0') .\n",
      "\n",
      "A new best validation loss at epoch  26  with validation loss of  tensor(0.2547, device='cuda:0')\n",
      "A new best validation loss at epoch  27  with validation loss of  tensor(0.2537, device='cuda:0')\n",
      "A new best validation loss at epoch  28  with validation loss of  tensor(0.2528, device='cuda:0')\n",
      "A new best validation loss at epoch  29  with validation loss of  tensor(0.2521, device='cuda:0')\n",
      "A new best validation loss at epoch  30  with validation loss of  tensor(0.2511, device='cuda:0')\n",
      "At  406.18436646461487  epoch  30 has training loss  tensor(0.2651, device='cuda:0')  and validation loss  tensor(0.2511, device='cuda:0') .\n",
      "\n",
      "A new best validation loss at epoch  31  with validation loss of  tensor(0.2503, device='cuda:0')\n",
      "A new best validation loss at epoch  32  with validation loss of  tensor(0.2498, device='cuda:0')\n",
      "A new best validation loss at epoch  33  with validation loss of  tensor(0.2488, device='cuda:0')\n",
      "A new best validation loss at epoch  34  with validation loss of  tensor(0.2481, device='cuda:0')\n",
      "A new best validation loss at epoch  35  with validation loss of  tensor(0.2476, device='cuda:0')\n",
      "At  474.13162112236023  epoch  35 has training loss  tensor(0.2622, device='cuda:0')  and validation loss  tensor(0.2476, device='cuda:0') .\n",
      "\n",
      "A new best validation loss at epoch  36  with validation loss of  tensor(0.2474, device='cuda:0')\n",
      "A new best validation loss at epoch  37  with validation loss of  tensor(0.2471, device='cuda:0')\n",
      "A new best validation loss at epoch  38  with validation loss of  tensor(0.2463, device='cuda:0')\n",
      "A new best validation loss at epoch  39  with validation loss of  tensor(0.2460, device='cuda:0')\n",
      "A new best validation loss at epoch  40  with validation loss of  tensor(0.2459, device='cuda:0')\n",
      "At  542.1194980144501  epoch  40 has training loss  tensor(0.2601, device='cuda:0')  and validation loss  tensor(0.2459, device='cuda:0') .\n",
      "\n",
      "A new best validation loss at epoch  41  with validation loss of  tensor(0.2453, device='cuda:0')\n",
      "A new best validation loss at epoch  42  with validation loss of  tensor(0.2449, device='cuda:0')\n",
      "A new best validation loss at epoch  43  with validation loss of  tensor(0.2448, device='cuda:0')\n",
      "A new best validation loss at epoch  44  with validation loss of  tensor(0.2441, device='cuda:0')\n",
      "A new best validation loss at epoch  45  with validation loss of  tensor(0.2440, device='cuda:0')\n",
      "At  610.125390291214  epoch  45 has training loss  tensor(0.2587, device='cuda:0')  and validation loss  tensor(0.2440, device='cuda:0') .\n",
      "\n",
      "A new best validation loss at epoch  46  with validation loss of  tensor(0.2438, device='cuda:0')\n",
      "A new best validation loss at epoch  48  with validation loss of  tensor(0.2433, device='cuda:0')\n",
      "A new best validation loss at epoch  49  with validation loss of  tensor(0.2430, device='cuda:0')\n",
      "A new best validation loss at epoch  50  with validation loss of  tensor(0.2428, device='cuda:0')\n",
      "At  678.1255507469177  epoch  50 has training loss  tensor(0.2578, device='cuda:0')  and validation loss  tensor(0.2428, device='cuda:0') .\n",
      "\n",
      "A new best validation loss at epoch  52  with validation loss of  tensor(0.2423, device='cuda:0')\n",
      "A new best validation loss at epoch  53  with validation loss of  tensor(0.2421, device='cuda:0')\n",
      "A new best validation loss at epoch  54  with validation loss of  tensor(0.2420, device='cuda:0')\n",
      "A new best validation loss at epoch  55  with validation loss of  tensor(0.2419, device='cuda:0')\n",
      "At  746.0749270915985  epoch  55 has training loss  tensor(0.2570, device='cuda:0')  and validation loss  tensor(0.2419, device='cuda:0') .\n",
      "\n",
      "A new best validation loss at epoch  56  with validation loss of  tensor(0.2416, device='cuda:0')\n",
      "A new best validation loss at epoch  59  with validation loss of  tensor(0.2415, device='cuda:0')\n",
      "A new best validation loss at epoch  60  with validation loss of  tensor(0.2411, device='cuda:0')\n",
      "At  814.0455219745636  epoch  60 has training loss  tensor(0.2566, device='cuda:0')  and validation loss  tensor(0.2411, device='cuda:0') .\n",
      "\n",
      "A new best validation loss at epoch  63  with validation loss of  tensor(0.2410, device='cuda:0')\n",
      "A new best validation loss at epoch  64  with validation loss of  tensor(0.2407, device='cuda:0')\n",
      "At  881.9758281707764  epoch  65 has training loss  tensor(0.2558, device='cuda:0')  and validation loss  tensor(0.2408, device='cuda:0') .\n",
      "\n",
      "A new best validation loss at epoch  68  with validation loss of  tensor(0.2403, device='cuda:0')\n",
      "At  949.8172991275787  epoch  70 has training loss  tensor(0.2556, device='cuda:0')  and validation loss  tensor(0.2404, device='cuda:0') .\n",
      "\n",
      "A new best validation loss at epoch  71  with validation loss of  tensor(0.2403, device='cuda:0')\n",
      "A new best validation loss at epoch  72  with validation loss of  tensor(0.2402, device='cuda:0')\n",
      "A new best validation loss at epoch  73  with validation loss of  tensor(0.2399, device='cuda:0')\n",
      "A new best validation loss at epoch  75  with validation loss of  tensor(0.2399, device='cuda:0')\n",
      "At  1017.6681506633759  epoch  75 has training loss  tensor(0.2554, device='cuda:0')  and validation loss  tensor(0.2399, device='cuda:0') .\n",
      "\n",
      "A new best validation loss at epoch  77  with validation loss of  tensor(0.2398, device='cuda:0')\n",
      "At  1085.5381956100464  epoch  80 has training loss  tensor(0.2551, device='cuda:0')  and validation loss  tensor(0.2399, device='cuda:0') .\n",
      "\n",
      "A new best validation loss at epoch  81  with validation loss of  tensor(0.2398, device='cuda:0')\n",
      "A new best validation loss at epoch  83  with validation loss of  tensor(0.2396, device='cuda:0')\n",
      "A new best validation loss at epoch  84  with validation loss of  tensor(0.2395, device='cuda:0')\n",
      "A new best validation loss at epoch  85  with validation loss of  tensor(0.2392, device='cuda:0')\n",
      "At  1153.399433851242  epoch  85 has training loss  tensor(0.2549, device='cuda:0')  and validation loss  tensor(0.2392, device='cuda:0') .\n",
      "\n",
      "A new best validation loss at epoch  88  with validation loss of  tensor(0.2390, device='cuda:0')\n",
      "At  1221.233080148697  epoch  90 has training loss  tensor(0.2546, device='cuda:0')  and validation loss  tensor(0.2394, device='cuda:0') .\n",
      "\n",
      "At  1289.1483888626099  epoch  95 has training loss  tensor(0.2545, device='cuda:0')  and validation loss  tensor(0.2392, device='cuda:0') .\n",
      "\n",
      "A new best validation loss at epoch  96  with validation loss of  tensor(0.2390, device='cuda:0')\n",
      "A new best validation loss at epoch  97  with validation loss of  tensor(0.2385, device='cuda:0')\n",
      "At  1357.09752202034  epoch  100 has training loss  tensor(0.2543, device='cuda:0')  and validation loss  tensor(0.2390, device='cuda:0') .\n",
      "\n",
      "At  1425.0471286773682  epoch  105 has training loss  tensor(0.2542, device='cuda:0')  and validation loss  tensor(0.2391, device='cuda:0') .\n",
      "\n",
      "A new best validation loss at epoch  109  with validation loss of  tensor(0.2383, device='cuda:0')\n",
      "At  1492.9501519203186  epoch  110 has training loss  tensor(0.2541, device='cuda:0')  and validation loss  tensor(0.2385, device='cuda:0') .\n",
      "\n",
      "At  1560.8985447883606  epoch  115 has training loss  tensor(0.2540, device='cuda:0')  and validation loss  tensor(0.2383, device='cuda:0') .\n",
      "\n",
      "A new best validation loss at epoch  118  with validation loss of  tensor(0.2381, device='cuda:0')\n",
      "A new best validation loss at epoch  120  with validation loss of  tensor(0.2381, device='cuda:0')\n",
      "At  1628.938295841217  epoch  120 has training loss  tensor(0.2539, device='cuda:0')  and validation loss  tensor(0.2381, device='cuda:0') .\n",
      "\n",
      "A new best validation loss at epoch  121  with validation loss of  tensor(0.2380, device='cuda:0')\n",
      "A new best validation loss at epoch  122  with validation loss of  tensor(0.2380, device='cuda:0')\n",
      "At  1696.9393026828766  epoch  125 has training loss  tensor(0.2537, device='cuda:0')  and validation loss  tensor(0.2382, device='cuda:0') .\n",
      "\n",
      "A new best validation loss at epoch  129  with validation loss of  tensor(0.2377, device='cuda:0')\n",
      "At  1764.9506261348724  epoch  130 has training loss  tensor(0.2536, device='cuda:0')  and validation loss  tensor(0.2384, device='cuda:0') .\n",
      "\n",
      "At  1832.9411387443542  epoch  135 has training loss  tensor(0.2535, device='cuda:0')  and validation loss  tensor(0.2384, device='cuda:0') .\n",
      "\n",
      "A new best validation loss at epoch  136  with validation loss of  tensor(0.2377, device='cuda:0')\n",
      "A new best validation loss at epoch  140  with validation loss of  tensor(0.2376, device='cuda:0')\n",
      "At  1900.9540128707886  epoch  140 has training loss  tensor(0.2535, device='cuda:0')  and validation loss  tensor(0.2376, device='cuda:0') .\n",
      "\n",
      "A new best validation loss at epoch  142  with validation loss of  tensor(0.2375, device='cuda:0')\n",
      "At  1969.0048849582672  epoch  145 has training loss  tensor(0.2533, device='cuda:0')  and validation loss  tensor(0.2375, device='cuda:0') .\n",
      "\n",
      "A new best validation loss at epoch  146  with validation loss of  tensor(0.2374, device='cuda:0')\n",
      "At  2037.0312416553497  epoch  150 has training loss  tensor(0.2533, device='cuda:0')  and validation loss  tensor(0.2376, device='cuda:0') .\n",
      "\n",
      "A new best validation loss at epoch  152  with validation loss of  tensor(0.2374, device='cuda:0')\n",
      "At  2105.0244987010956  epoch  155 has training loss  tensor(0.2531, device='cuda:0')  and validation loss  tensor(0.2374, device='cuda:0') .\n",
      "\n",
      "At  2172.9669201374054  epoch  160 has training loss  tensor(0.2533, device='cuda:0')  and validation loss  tensor(0.2376, device='cuda:0') .\n",
      "\n",
      "A new best validation loss at epoch  162  with validation loss of  tensor(0.2374, device='cuda:0')\n",
      "At  2240.8407921791077  epoch  165 has training loss  tensor(0.2532, device='cuda:0')  and validation loss  tensor(0.2375, device='cuda:0') .\n",
      "\n",
      "A new best validation loss at epoch  167  with validation loss of  tensor(0.2371, device='cuda:0')\n",
      "A new best validation loss at epoch  169  with validation loss of  tensor(0.2371, device='cuda:0')\n",
      "At  2308.706132411957  epoch  170 has training loss  tensor(0.2531, device='cuda:0')  and validation loss  tensor(0.2373, device='cuda:0') .\n",
      "\n",
      "At  2376.5577535629272  epoch  175 has training loss  tensor(0.2530, device='cuda:0')  and validation loss  tensor(0.2372, device='cuda:0') .\n",
      "\n",
      "A new best validation loss at epoch  177  with validation loss of  tensor(0.2371, device='cuda:0')\n",
      "A new best validation loss at epoch  178  with validation loss of  tensor(0.2370, device='cuda:0')\n",
      "A new best validation loss at epoch  179  with validation loss of  tensor(0.2370, device='cuda:0')\n",
      "A new best validation loss at epoch  180  with validation loss of  tensor(0.2369, device='cuda:0')\n",
      "At  2444.44486618042  epoch  180 has training loss  tensor(0.2530, device='cuda:0')  and validation loss  tensor(0.2369, device='cuda:0') .\n",
      "\n",
      "At  2512.2668862342834  epoch  185 has training loss  tensor(0.2529, device='cuda:0')  and validation loss  tensor(0.2371, device='cuda:0') .\n",
      "\n",
      "A new best validation loss at epoch  186  with validation loss of  tensor(0.2369, device='cuda:0')\n",
      "At  2580.1183581352234  epoch  190 has training loss  tensor(0.2529, device='cuda:0')  and validation loss  tensor(0.2371, device='cuda:0') .\n",
      "\n",
      "At  2648.0137591362  epoch  195 has training loss  tensor(0.2529, device='cuda:0')  and validation loss  tensor(0.2371, device='cuda:0') .\n",
      "\n",
      "At  2715.9771065711975  epoch  200 has training loss  tensor(0.2527, device='cuda:0')  and validation loss  tensor(0.2370, device='cuda:0') .\n",
      "\n",
      "All  200  epochs have been completed.\n",
      "\n",
      "According to validation loss, the best model is reached at epoch 186  with validation loss:  tensor(0.2369, device='cuda:0') .\n",
      "\n",
      "Best model state dictionary of this training loop is reloaded.\n",
      "\n",
      "Training completed. 2715.9771065711975 \n",
      "\n"
     ]
    },
    {
     "data": {
      "text/plain": [
       "OrderedDict([('frozen_conv.frozen_conv.weight',\n",
       "              tensor([[[-1.,  1.]]], device='cuda:0')),\n",
       "             ('pos_emb.ts_proj.weight',\n",
       "              tensor([[ 0.0200, -0.2686, -0.1822],\n",
       "                      [ 0.4490,  0.4810, -0.0510],\n",
       "                      [-0.5422, -0.2238,  0.2452],\n",
       "                      [ 0.1042,  0.3256,  0.0737],\n",
       "                      [ 0.5158, -0.2905,  0.3790],\n",
       "                      [-0.1095, -0.3291,  0.0094],\n",
       "                      [-0.1549, -0.4457, -0.0372],\n",
       "                      [-0.4647,  0.0007,  0.4858],\n",
       "                      [ 0.3017, -0.2515, -0.5457],\n",
       "                      [-0.4497,  0.5088,  0.3307],\n",
       "                      [-0.0177,  0.3415,  0.1247],\n",
       "                      [ 0.0919, -0.1884, -0.5048],\n",
       "                      [ 0.3879, -0.0639,  0.4485],\n",
       "                      [-0.5371, -0.0338,  0.1548],\n",
       "                      [-0.3611, -0.2248,  0.1253],\n",
       "                      [-0.4921, -0.0180,  0.0913],\n",
       "                      [-0.3515,  0.5249,  0.0561],\n",
       "                      [-0.0093, -0.5647,  0.3396],\n",
       "                      [-0.3685,  0.4645,  0.0105],\n",
       "                      [-0.1772, -0.5628,  0.1934],\n",
       "                      [-0.1127,  0.1080, -0.3087],\n",
       "                      [ 0.3084, -0.4849,  0.3952],\n",
       "                      [ 0.4407,  0.2814, -0.3360],\n",
       "                      [-0.4578,  0.0951,  0.2603],\n",
       "                      [ 0.5424,  0.4308,  0.3909],\n",
       "                      [ 0.2677, -0.0504, -0.3974],\n",
       "                      [ 0.1564, -0.1205,  0.1845],\n",
       "                      [-0.3552, -0.1702, -0.4358],\n",
       "                      [-0.5214,  0.3247,  0.0674],\n",
       "                      [-0.2875,  0.2338,  0.1995],\n",
       "                      [-0.4168,  0.2876, -0.1911],\n",
       "                      [ 0.3621, -0.2369, -0.1517]], device='cuda:0')),\n",
       "             ('pos_emb.ts_proj.bias',\n",
       "              tensor([ 0.0623, -0.4838, -0.3786,  0.3897, -0.2131,  0.2880, -0.3433,  0.1292,\n",
       "                      -0.3540,  0.2686,  0.5493, -0.2812, -0.2075, -0.4676, -0.4112,  0.3385,\n",
       "                      -0.2954, -0.1782, -0.2177, -0.2727, -0.3427, -0.4335,  0.0462, -0.3794,\n",
       "                       0.0987, -0.3011, -0.2576, -0.2158, -0.2516,  0.5439,  0.4842, -0.3435],\n",
       "                     device='cuda:0')),\n",
       "             ('pos_emb.pos_emb.weight',\n",
       "              tensor([[-0.4690, -1.5110, -1.2316,  ...,  1.4951,  0.8488, -0.6696],\n",
       "                      [ 0.8778, -2.0530, -0.9492,  ..., -0.7532, -0.2546, -0.2178],\n",
       "                      [-0.1586,  0.2166, -0.4212,  ..., -0.7202, -0.4598, -0.2102],\n",
       "                      ...,\n",
       "                      [ 1.4034, -0.7462,  0.1284,  ..., -1.6303,  0.2940, -0.6941],\n",
       "                      [ 1.3044,  0.5450, -0.7222,  ...,  0.6741,  0.1172, -1.0620],\n",
       "                      [ 1.3119,  0.9797,  1.2692,  ...,  1.0860,  0.9322,  0.0107]],\n",
       "                     device='cuda:0')),\n",
       "             ('pos_emb.pos_attn.in_proj_weight',\n",
       "              tensor([[ 0.1459,  0.1893, -0.0202,  ..., -0.1810,  0.0225,  0.0964],\n",
       "                      [-0.0795,  0.2041, -0.1178,  ..., -0.1690, -0.0383, -0.1745],\n",
       "                      [-0.1235,  0.2236, -0.2071,  ...,  0.0622,  0.0564, -0.0343],\n",
       "                      ...,\n",
       "                      [-0.0208, -0.0459,  0.0147,  ...,  0.1792, -0.1027, -0.1424],\n",
       "                      [ 0.1391,  0.0561, -0.0824,  ...,  0.0733,  0.0705,  0.2021],\n",
       "                      [-0.1708,  0.0566, -0.0352,  ..., -0.1588, -0.1310,  0.0371]],\n",
       "                     device='cuda:0')),\n",
       "             ('pos_emb.pos_attn.in_proj_bias',\n",
       "              tensor([ 1.9054e-02,  7.5478e-03,  6.1760e-03,  6.8074e-03, -4.8938e-03,\n",
       "                       2.6118e-03, -8.4895e-03, -6.7207e-03, -1.1122e-02,  8.6134e-03,\n",
       "                      -2.0061e-02, -4.2836e-04, -1.4656e-03,  8.8002e-03,  5.4724e-03,\n",
       "                      -8.6775e-03, -3.8401e-03,  7.7780e-03,  2.7138e-03, -8.6091e-03,\n",
       "                      -1.5914e-02, -5.5320e-03,  3.4159e-03, -9.1477e-04,  1.1283e-03,\n",
       "                      -3.3180e-03, -9.8991e-03, -1.6002e-02,  2.2786e-02,  5.2687e-03,\n",
       "                      -8.4613e-03,  1.1756e-02, -6.3655e-06,  2.9592e-06, -2.9431e-05,\n",
       "                      -1.5252e-05,  4.7789e-06, -6.7144e-08, -1.1287e-05, -3.3096e-06,\n",
       "                      -2.2771e-05, -4.2400e-05, -1.6386e-04,  1.5280e-04,  1.1516e-04,\n",
       "                       3.6767e-05, -2.4247e-05,  8.8119e-05, -2.0105e-05,  2.3268e-05,\n",
       "                       2.1031e-05, -4.4820e-05,  1.9902e-05, -3.7439e-05,  4.6741e-05,\n",
       "                       3.4889e-05,  2.3610e-06,  1.3344e-05, -1.1716e-05, -1.0454e-05,\n",
       "                       1.0616e-05, -7.8591e-06, -1.8427e-05,  8.9992e-06, -4.0351e-03,\n",
       "                      -2.0735e-02,  5.7061e-03,  1.2952e-02,  7.4122e-03, -1.4602e-02,\n",
       "                      -1.2084e-03, -1.4317e-02,  1.0688e-02, -4.0921e-03,  9.9321e-03,\n",
       "                      -2.0977e-03, -6.5986e-03, -5.8014e-03,  3.7730e-03, -3.7287e-03,\n",
       "                      -1.0628e-02, -6.3870e-03, -5.4346e-03, -3.0498e-03,  5.8055e-03,\n",
       "                       4.2953e-03,  6.5322e-03, -1.6610e-02,  1.8400e-03, -7.5507e-03,\n",
       "                       1.0155e-02, -9.4558e-03, -1.1106e-02,  8.8151e-03,  1.7157e-03,\n",
       "                       2.4894e-03], device='cuda:0')),\n",
       "             ('pos_emb.pos_attn.out_proj.weight',\n",
       "              tensor([[ 0.0023, -0.0520, -0.0466,  ...,  0.0313, -0.0507,  0.0245],\n",
       "                      [ 0.1828,  0.0048,  0.0397,  ..., -0.0469,  0.0387,  0.0870],\n",
       "                      [ 0.1128,  0.1375,  0.1397,  ...,  0.1031, -0.0315,  0.1081],\n",
       "                      ...,\n",
       "                      [ 0.1449,  0.1495,  0.0757,  ...,  0.1742, -0.0628,  0.1257],\n",
       "                      [-0.0970,  0.1597, -0.0150,  ...,  0.1193,  0.1096, -0.1591],\n",
       "                      [-0.0647,  0.0097,  0.0665,  ..., -0.0780,  0.0800,  0.1639]],\n",
       "                     device='cuda:0')),\n",
       "             ('pos_emb.pos_attn.out_proj.bias',\n",
       "              tensor([ 0.0025, -0.0013, -0.0141,  0.0216, -0.0177,  0.0075, -0.0066,  0.0124,\n",
       "                      -0.0388,  0.0028, -0.0024,  0.0014, -0.0043, -0.0045,  0.0082,  0.0106,\n",
       "                      -0.0036,  0.0034, -0.0023,  0.0020, -0.0031, -0.0053,  0.0136, -0.0224,\n",
       "                      -0.0048, -0.0022,  0.0045,  0.0048, -0.0100,  0.0041,  0.0111, -0.0029],\n",
       "                     device='cuda:0')),\n",
       "             ('pos_emb.pos_norm.weight',\n",
       "              tensor([0.9973, 0.9951, 0.9950, 1.0137, 0.9934, 1.0107, 1.0006, 1.0096, 1.0013,\n",
       "                      0.9940, 0.9981, 0.9888, 0.9788, 1.0011, 0.9861, 1.0090, 0.9955, 0.9925,\n",
       "                      1.0030, 0.9989, 1.0025, 1.0016, 1.0056, 1.0116, 0.9998, 0.9925, 1.0008,\n",
       "                      0.9859, 1.0028, 1.0051, 1.0082, 1.0060], device='cuda:0')),\n",
       "             ('pos_emb.pos_norm.bias',\n",
       "              tensor([-0.0003, -0.0051,  0.0062,  0.0012, -0.0081, -0.0010,  0.0009,  0.0006,\n",
       "                       0.0008, -0.0018, -0.0004, -0.0005, -0.0180,  0.0026,  0.0076,  0.0039,\n",
       "                       0.0008,  0.0028,  0.0019,  0.0015,  0.0040,  0.0001, -0.0036, -0.0004,\n",
       "                       0.0015,  0.0014, -0.0021,  0.0016,  0.0027,  0.0051,  0.0023, -0.0050],\n",
       "                     device='cuda:0')),\n",
       "             ('encoder_layers.0.encoder_attn.in_proj_weight',\n",
       "              tensor([[-0.0415, -0.0821,  0.1116,  ..., -0.0924,  0.0233,  0.1439],\n",
       "                      [ 0.1455,  0.2054, -0.1352,  ..., -0.1330, -0.1963,  0.1697],\n",
       "                      [-0.1955,  0.0287,  0.0560,  ...,  0.0577, -0.0961, -0.0974],\n",
       "                      ...,\n",
       "                      [ 0.0470, -0.1810, -0.0235,  ...,  0.0947,  0.1061,  0.1375],\n",
       "                      [-0.1468,  0.0684,  0.1244,  ...,  0.0546,  0.0139,  0.1895],\n",
       "                      [-0.1543,  0.1242,  0.1554,  ...,  0.0005,  0.1791,  0.1056]],\n",
       "                     device='cuda:0')),\n",
       "             ('encoder_layers.0.encoder_attn.in_proj_bias',\n",
       "              tensor([-2.6706e-03,  6.1542e-03, -1.1907e-02, -7.6142e-03,  6.8908e-03,\n",
       "                       1.3301e-02,  6.9486e-03, -1.2819e-02, -4.6000e-04,  2.4924e-03,\n",
       "                      -5.8054e-03, -4.5607e-03, -3.7842e-03, -2.3886e-03, -2.2495e-03,\n",
       "                       2.7349e-03, -2.9292e-03,  5.1622e-03,  6.5329e-03,  5.3478e-03,\n",
       "                       7.6648e-03,  2.5471e-03, -5.7819e-03,  1.5861e-04, -8.3763e-03,\n",
       "                       1.5960e-03, -8.0446e-03, -1.0336e-02,  1.3649e-02,  9.1566e-03,\n",
       "                      -1.1913e-02, -8.2807e-03, -3.1943e-06,  3.9666e-06, -3.1716e-06,\n",
       "                      -3.3382e-06,  5.3195e-06,  9.1912e-07,  3.5514e-06,  5.4142e-06,\n",
       "                       3.0401e-06,  3.3210e-07, -1.3004e-06,  1.2126e-06, -1.0084e-06,\n",
       "                       5.5321e-07, -1.6705e-07,  3.0732e-06, -3.4683e-06,  5.8464e-07,\n",
       "                       2.4384e-06,  2.0350e-06,  5.7845e-07, -3.4225e-06, -1.2793e-06,\n",
       "                      -1.0075e-07, -1.7049e-06, -4.2648e-07,  1.8689e-06,  7.2061e-07,\n",
       "                       8.3762e-07, -4.3825e-07,  4.6559e-07, -2.6133e-07, -8.4061e-03,\n",
       "                       1.4309e-03, -2.3361e-03, -8.1042e-03, -2.6647e-04,  1.9162e-04,\n",
       "                      -8.1325e-04,  5.2040e-03, -1.4833e-02,  1.6718e-03, -1.4254e-04,\n",
       "                      -4.1958e-03,  6.9927e-04, -4.2523e-04,  1.9066e-03,  2.4410e-03,\n",
       "                       1.1119e-03, -1.3574e-03, -4.3383e-04,  2.1684e-03, -2.1672e-03,\n",
       "                      -1.1023e-03,  1.7239e-03, -4.4567e-03,  6.4655e-04,  2.0848e-03,\n",
       "                       1.1966e-02,  5.1115e-03,  1.4923e-03, -9.0558e-03, -3.4682e-03,\n",
       "                       1.0405e-02], device='cuda:0')),\n",
       "             ('encoder_layers.0.encoder_attn.out_proj.weight',\n",
       "              tensor([[ 0.1573,  0.1153,  0.1366,  ...,  0.0586,  0.1685, -0.0912],\n",
       "                      [ 0.0766,  0.1435, -0.1342,  ...,  0.1638,  0.1703, -0.1364],\n",
       "                      [ 0.1268, -0.1785, -0.0346,  ..., -0.1637,  0.0373, -0.0549],\n",
       "                      ...,\n",
       "                      [ 0.0030,  0.0477,  0.1157,  ...,  0.0795, -0.1783,  0.0933],\n",
       "                      [ 0.0828, -0.0225,  0.0968,  ...,  0.0809, -0.0593,  0.0733],\n",
       "                      [ 0.1130, -0.1748,  0.1503,  ...,  0.0455, -0.1567,  0.1479]],\n",
       "                     device='cuda:0')),\n",
       "             ('encoder_layers.0.encoder_attn.out_proj.bias',\n",
       "              tensor([-0.0052, -0.0043,  0.0096,  0.0018, -0.0075, -0.0008,  0.0008,  0.0004,\n",
       "                       0.0018, -0.0016, -0.0002, -0.0002, -0.0126,  0.0053,  0.0024,  0.0041,\n",
       "                       0.0003,  0.0054,  0.0013,  0.0028,  0.0022,  0.0005, -0.0027, -0.0072,\n",
       "                       0.0016,  0.0034, -0.0019,  0.0027,  0.0015,  0.0066,  0.0020, -0.0030],\n",
       "                     device='cuda:0')),\n",
       "             ('encoder_layers.0.encoder_norm1.weight',\n",
       "              tensor([0.9993, 0.9918, 0.9960, 1.0147, 0.9998, 1.0118, 1.0011, 1.0072, 1.0016,\n",
       "                      0.9937, 0.9978, 0.9879, 0.9754, 0.9966, 0.9861, 1.0062, 0.9973, 0.9916,\n",
       "                      1.0028, 0.9987, 1.0031, 1.0009, 0.9980, 1.0118, 0.9993, 0.9946, 1.0020,\n",
       "                      0.9973, 1.0037, 1.0053, 1.0105, 1.0014], device='cuda:0')),\n",
       "             ('encoder_layers.0.encoder_norm1.bias',\n",
       "              tensor([-5.8451e-03, -4.0178e-03,  6.9104e-03,  2.3404e-03, -8.3749e-03,\n",
       "                      -3.8298e-04, -5.1793e-04,  8.0285e-04,  8.3165e-04, -1.1951e-03,\n",
       "                      -9.5061e-04, -1.2562e-03, -1.2758e-02,  3.7634e-03,  2.5007e-03,\n",
       "                       2.2915e-03, -8.0555e-05,  4.0918e-03,  5.6203e-05,  2.6956e-03,\n",
       "                       1.3955e-03, -1.8992e-04, -2.4161e-03, -7.7424e-03,  7.4879e-04,\n",
       "                       2.3398e-03, -1.6223e-03,  1.5850e-03,  2.6845e-04,  4.9361e-03,\n",
       "                       1.6253e-03, -2.8319e-03], device='cuda:0')),\n",
       "             ('encoder_layers.0.encoder_feedforward.0.weight',\n",
       "              tensor([[-0.0245,  0.0281,  0.0005,  ..., -0.0780,  0.0562,  0.1429],\n",
       "                      [ 0.0382, -0.0419,  0.0460,  ...,  0.1436, -0.1119, -0.0967],\n",
       "                      [-0.0461, -0.1105, -0.1460,  ...,  0.0724,  0.0722, -0.0368],\n",
       "                      ...,\n",
       "                      [ 0.1243,  0.1287,  0.1488,  ..., -0.0071, -0.0973, -0.1676],\n",
       "                      [ 0.1665, -0.0684, -0.1377,  ..., -0.1602, -0.1183,  0.0406],\n",
       "                      [-0.0028, -0.1363,  0.1608,  ..., -0.0385,  0.0807, -0.1174]],\n",
       "                     device='cuda:0')),\n",
       "             ('encoder_layers.0.encoder_feedforward.0.bias',\n",
       "              tensor([ 1.4561e-02, -1.3454e-02,  1.4200e-01,  1.3246e-01,  1.5004e-01,\n",
       "                      -3.3910e-02, -6.9558e-02, -9.8618e-02,  7.6909e-02,  1.4180e-01,\n",
       "                      -1.5764e-01, -1.5371e-03,  1.5479e-01,  3.1814e-02, -1.1856e-01,\n",
       "                       5.2297e-02, -2.0642e-02,  6.6174e-02,  1.3780e-01, -2.4977e-02,\n",
       "                      -5.7412e-02, -1.1145e-01, -1.7773e-03,  5.2898e-02,  1.0098e-01,\n",
       "                      -3.1608e-02,  4.7317e-02,  5.4756e-02, -3.2131e-02,  1.5219e-01,\n",
       "                       1.3711e-01, -1.7192e-01,  1.1920e-01,  1.1567e-01,  1.4961e-01,\n",
       "                       2.5802e-02,  1.2823e-01,  9.1657e-02,  1.3193e-01,  1.2271e-01,\n",
       "                      -1.5182e-01,  1.7328e-01, -9.4538e-02,  5.4215e-02,  7.4503e-03,\n",
       "                       1.2262e-01, -1.1512e-01, -4.4403e-02,  5.7943e-02,  5.8522e-02,\n",
       "                       2.8945e-02,  1.0540e-01, -4.7409e-02,  1.6391e-01, -1.5681e-01,\n",
       "                      -1.7266e-04, -2.6685e-02,  3.5909e-02, -1.6658e-02, -1.0931e-01,\n",
       "                       1.6029e-02,  1.4775e-01, -1.4320e-01,  7.4418e-02], device='cuda:0')),\n",
       "             ('encoder_layers.0.encoder_feedforward.2.weight',\n",
       "              tensor([[ 0.0880,  0.0968, -0.0558,  ...,  0.1014,  0.1072, -0.0955],\n",
       "                      [-0.0068,  0.0329,  0.0964,  ..., -0.1004,  0.0294,  0.1086],\n",
       "                      [ 0.1123, -0.1034,  0.0528,  ...,  0.0279, -0.0829, -0.0020],\n",
       "                      ...,\n",
       "                      [-0.0581, -0.0698, -0.1078,  ...,  0.0585,  0.0599,  0.0466],\n",
       "                      [ 0.1034,  0.0702,  0.0312,  ..., -0.0094,  0.0809,  0.1066],\n",
       "                      [ 0.0289, -0.0801, -0.0349,  ..., -0.0844,  0.0640, -0.0820]],\n",
       "                     device='cuda:0')),\n",
       "             ('encoder_layers.0.encoder_feedforward.2.bias',\n",
       "              tensor([-0.1230, -0.0055, -0.0759, -0.0899,  0.0132, -0.1025,  0.0985, -0.1026,\n",
       "                      -0.0290,  0.0082, -0.1170, -0.0281, -0.0030, -0.0264, -0.0022,  0.0041,\n",
       "                      -0.0762, -0.0321, -0.0476, -0.0703, -0.0279, -0.0122,  0.0716,  0.0300,\n",
       "                       0.0204, -0.0316, -0.1171, -0.0752, -0.0251,  0.1264,  0.1143,  0.0793],\n",
       "                     device='cuda:0')),\n",
       "             ('encoder_layers.0.encoder_norm2.weight',\n",
       "              tensor([1.0126, 0.9934, 0.9971, 1.0239, 1.0009, 1.0099, 1.0012, 1.0072, 0.9952,\n",
       "                      0.9936, 0.9976, 0.9868, 0.9818, 0.9908, 0.9863, 1.0045, 0.9995, 0.9955,\n",
       "                      0.9997, 0.9988, 1.0040, 1.0016, 1.0015, 1.0122, 1.0001, 0.9993, 1.0063,\n",
       "                      0.9954, 1.0033, 1.0051, 1.0035, 0.9965], device='cuda:0')),\n",
       "             ('encoder_layers.0.encoder_norm2.bias',\n",
       "              tensor([-2.9813e-03, -2.6892e-03,  6.1475e-03,  3.9832e-03, -9.4553e-03,\n",
       "                       1.0949e-03,  3.0770e-04,  1.1701e-03,  1.6251e-03, -1.1856e-03,\n",
       "                      -1.2565e-03, -3.1521e-04, -4.8948e-03,  8.0367e-03,  1.9723e-03,\n",
       "                      -1.6739e-03, -4.1512e-04,  4.6535e-03, -5.2550e-04,  1.4991e-03,\n",
       "                       4.8897e-04, -7.5875e-05, -7.2026e-04, -7.2804e-03,  9.2297e-04,\n",
       "                       1.1402e-03,  2.7264e-04,  2.3408e-03, -1.2365e-04,  6.2255e-03,\n",
       "                      -4.0900e-04, -3.9615e-03], device='cuda:0')),\n",
       "             ('encoder_layers.1.encoder_attn.in_proj_weight',\n",
       "              tensor([[-0.0980,  0.0170, -0.2005,  ..., -0.1671,  0.1573,  0.1733],\n",
       "                      [ 0.0636,  0.0550,  0.0600,  ..., -0.1376, -0.1838, -0.0789],\n",
       "                      [-0.0877,  0.0251, -0.2114,  ..., -0.1228,  0.0747, -0.1546],\n",
       "                      ...,\n",
       "                      [-0.1863,  0.0817, -0.1113,  ...,  0.0849, -0.1273,  0.0841],\n",
       "                      [ 0.0457, -0.1854,  0.0776,  ...,  0.0080,  0.0331, -0.0673],\n",
       "                      [ 0.1054,  0.1589, -0.1187,  ...,  0.2001, -0.2108,  0.0065]],\n",
       "                     device='cuda:0')),\n",
       "             ('encoder_layers.1.encoder_attn.in_proj_bias',\n",
       "              tensor([-9.2132e-03, -1.1087e-02,  3.4254e-03, -5.4612e-03, -8.1946e-03,\n",
       "                      -2.3148e-03,  6.6904e-03, -1.9332e-02,  5.0246e-03,  3.4805e-03,\n",
       "                       2.9682e-03,  1.9063e-03,  3.6228e-03,  3.3313e-03, -1.9680e-03,\n",
       "                      -2.9821e-03, -2.8671e-03,  9.1751e-03,  3.9268e-03, -1.2682e-02,\n",
       "                      -4.2028e-03,  1.1995e-02, -4.9646e-03,  2.0234e-02,  9.7780e-03,\n",
       "                      -5.8321e-03, -2.1921e-03,  3.6573e-03, -3.3295e-04, -1.5813e-02,\n",
       "                       3.3258e-03,  1.0987e-02,  6.5987e-07, -1.3659e-06, -1.9544e-07,\n",
       "                      -3.9408e-06,  1.0372e-06,  3.1434e-06,  2.2107e-06,  3.5354e-06,\n",
       "                      -4.8059e-06,  1.9282e-06,  1.3790e-07,  5.2488e-06,  1.6209e-06,\n",
       "                       4.8192e-07, -7.5695e-08, -3.6031e-06,  9.2355e-06, -1.4505e-06,\n",
       "                       3.3845e-06, -1.0144e-05,  8.0309e-06,  1.3196e-05,  5.7875e-06,\n",
       "                       6.7669e-06,  2.2324e-07, -1.9771e-06,  2.1127e-06,  2.8304e-06,\n",
       "                      -4.2005e-07, -1.5620e-06,  2.2765e-06, -7.1291e-07, -3.0587e-04,\n",
       "                      -2.5562e-03, -4.6464e-04,  2.0574e-04, -4.1684e-03,  2.4993e-03,\n",
       "                      -2.8654e-03, -2.5773e-05,  2.3966e-03,  1.6968e-05,  1.2762e-03,\n",
       "                       3.0444e-03, -3.8000e-04, -3.7591e-04, -9.2888e-04,  3.0200e-03,\n",
       "                       6.5945e-04,  4.5006e-03, -1.3619e-04,  1.6442e-03,  7.5317e-04,\n",
       "                      -1.3479e-03, -3.4178e-04, -2.9127e-03,  1.7899e-03, -1.8607e-03,\n",
       "                      -2.1937e-03,  4.5670e-04, -5.8108e-04,  1.4615e-03,  4.7517e-03,\n",
       "                       9.8251e-04], device='cuda:0')),\n",
       "             ('encoder_layers.1.encoder_attn.out_proj.weight',\n",
       "              tensor([[-0.1468, -0.1240,  0.1334,  ...,  0.1264,  0.0108, -0.0714],\n",
       "                      [ 0.0362,  0.0391,  0.1663,  ...,  0.0937, -0.0793, -0.0898],\n",
       "                      [-0.1544, -0.0923, -0.1209,  ...,  0.0847,  0.0163,  0.1630],\n",
       "                      ...,\n",
       "                      [ 0.1567, -0.0557,  0.1076,  ..., -0.0152, -0.0433,  0.1261],\n",
       "                      [-0.0893,  0.1369,  0.0685,  ...,  0.0680,  0.0777,  0.1631],\n",
       "                      [ 0.1681,  0.1033, -0.0725,  ..., -0.1392,  0.0944, -0.0615]],\n",
       "                     device='cuda:0')),\n",
       "             ('encoder_layers.1.encoder_attn.out_proj.bias',\n",
       "              tensor([-0.0012, -0.0024,  0.0055,  0.0066, -0.0025,  0.0016,  0.0008,  0.0003,\n",
       "                       0.0005, -0.0010, -0.0009,  0.0023, -0.0151,  0.0019,  0.0028,  0.0011,\n",
       "                      -0.0005, -0.0002, -0.0039,  0.0091,  0.0009, -0.0004, -0.0004, -0.0032,\n",
       "                       0.0005,  0.0008, -0.0012,  0.0156,  0.0002,  0.0045,  0.0045, -0.0016],\n",
       "                     device='cuda:0')),\n",
       "             ('encoder_layers.1.encoder_norm1.weight',\n",
       "              tensor([1.0130, 0.9968, 1.0026, 1.0092, 1.0008, 1.0114, 1.0037, 1.0029, 0.9976,\n",
       "                      0.9931, 0.9996, 0.9881, 0.9740, 0.9974, 0.9906, 0.9995, 0.9973, 1.0005,\n",
       "                      0.9932, 0.9934, 0.9893, 1.0053, 1.0010, 1.0184, 1.0041, 0.9984, 1.0044,\n",
       "                      0.9763, 1.0039, 1.0052, 1.0055, 0.9998], device='cuda:0')),\n",
       "             ('encoder_layers.1.encoder_norm1.bias',\n",
       "              tensor([-0.0025, -0.0026,  0.0046,  0.0067, -0.0030,  0.0008,  0.0002, -0.0002,\n",
       "                       0.0003, -0.0012, -0.0009,  0.0016, -0.0168,  0.0009,  0.0022,  0.0005,\n",
       "                      -0.0007, -0.0011, -0.0063,  0.0076, -0.0004, -0.0003, -0.0009, -0.0035,\n",
       "                       0.0005,  0.0007, -0.0016,  0.0118,  0.0001,  0.0040,  0.0030, -0.0019],\n",
       "                     device='cuda:0')),\n",
       "             ('encoder_layers.1.encoder_feedforward.0.weight',\n",
       "              tensor([[-0.0245,  0.0281,  0.0005,  ..., -0.0780,  0.0562,  0.1429],\n",
       "                      [ 0.0382, -0.0419,  0.0460,  ...,  0.1436, -0.1119, -0.0967],\n",
       "                      [-0.0461, -0.1105, -0.1460,  ...,  0.0724,  0.0722, -0.0368],\n",
       "                      ...,\n",
       "                      [ 0.1243,  0.1287,  0.1488,  ..., -0.0071, -0.0973, -0.1676],\n",
       "                      [ 0.1665, -0.0684, -0.1377,  ..., -0.1602, -0.1183,  0.0406],\n",
       "                      [-0.0028, -0.1363,  0.1608,  ..., -0.0385,  0.0807, -0.1174]],\n",
       "                     device='cuda:0')),\n",
       "             ('encoder_layers.1.encoder_feedforward.0.bias',\n",
       "              tensor([ 1.4561e-02, -1.3454e-02,  1.4200e-01,  1.3246e-01,  1.5004e-01,\n",
       "                      -3.3910e-02, -6.9558e-02, -9.8618e-02,  7.6909e-02,  1.4180e-01,\n",
       "                      -1.5764e-01, -1.5371e-03,  1.5479e-01,  3.1814e-02, -1.1856e-01,\n",
       "                       5.2297e-02, -2.0642e-02,  6.6174e-02,  1.3780e-01, -2.4977e-02,\n",
       "                      -5.7412e-02, -1.1145e-01, -1.7773e-03,  5.2898e-02,  1.0098e-01,\n",
       "                      -3.1608e-02,  4.7317e-02,  5.4756e-02, -3.2131e-02,  1.5219e-01,\n",
       "                       1.3711e-01, -1.7192e-01,  1.1920e-01,  1.1567e-01,  1.4961e-01,\n",
       "                       2.5802e-02,  1.2823e-01,  9.1657e-02,  1.3193e-01,  1.2271e-01,\n",
       "                      -1.5182e-01,  1.7328e-01, -9.4538e-02,  5.4215e-02,  7.4503e-03,\n",
       "                       1.2262e-01, -1.1512e-01, -4.4403e-02,  5.7943e-02,  5.8522e-02,\n",
       "                       2.8945e-02,  1.0540e-01, -4.7409e-02,  1.6391e-01, -1.5681e-01,\n",
       "                      -1.7266e-04, -2.6685e-02,  3.5909e-02, -1.6658e-02, -1.0931e-01,\n",
       "                       1.6029e-02,  1.4775e-01, -1.4320e-01,  7.4418e-02], device='cuda:0')),\n",
       "             ('encoder_layers.1.encoder_feedforward.2.weight',\n",
       "              tensor([[ 0.0880,  0.0968, -0.0558,  ...,  0.1014,  0.1072, -0.0955],\n",
       "                      [-0.0068,  0.0329,  0.0964,  ..., -0.1004,  0.0294,  0.1086],\n",
       "                      [ 0.1123, -0.1034,  0.0528,  ...,  0.0279, -0.0829, -0.0020],\n",
       "                      ...,\n",
       "                      [-0.0581, -0.0698, -0.1078,  ...,  0.0585,  0.0599,  0.0466],\n",
       "                      [ 0.1034,  0.0702,  0.0312,  ..., -0.0094,  0.0809,  0.1066],\n",
       "                      [ 0.0289, -0.0801, -0.0349,  ..., -0.0844,  0.0640, -0.0820]],\n",
       "                     device='cuda:0')),\n",
       "             ('encoder_layers.1.encoder_feedforward.2.bias',\n",
       "              tensor([-0.1230, -0.0055, -0.0759, -0.0899,  0.0132, -0.1025,  0.0985, -0.1026,\n",
       "                      -0.0290,  0.0082, -0.1170, -0.0281, -0.0030, -0.0264, -0.0022,  0.0041,\n",
       "                      -0.0762, -0.0321, -0.0476, -0.0703, -0.0279, -0.0122,  0.0716,  0.0300,\n",
       "                       0.0204, -0.0316, -0.1171, -0.0752, -0.0251,  0.1264,  0.1143,  0.0793],\n",
       "                     device='cuda:0')),\n",
       "             ('encoder_layers.1.encoder_norm2.weight',\n",
       "              tensor([1.0144, 1.0002, 1.0010, 1.0025, 1.0002, 1.0130, 1.0058, 1.0018, 0.9978,\n",
       "                      0.9948, 1.0009, 0.9945, 0.9688, 0.9962, 0.9948, 0.9987, 0.9982, 1.0014,\n",
       "                      0.9939, 0.9933, 0.9922, 1.0026, 1.0029, 1.0220, 1.0061, 1.0006, 1.0075,\n",
       "                      0.9946, 1.0034, 1.0046, 1.0052, 0.9993], device='cuda:0')),\n",
       "             ('encoder_layers.1.encoder_norm2.bias',\n",
       "              tensor([-1.3125e-03, -1.6737e-03,  4.2357e-03,  2.7280e-03, -2.2886e-03,\n",
       "                       2.3045e-03,  5.8786e-04, -3.1471e-04,  5.1608e-04, -8.5542e-04,\n",
       "                      -1.1708e-03,  1.0172e-03, -6.5432e-03,  1.2047e-03,  1.1506e-03,\n",
       "                      -5.5664e-04, -2.3796e-04, -8.5654e-04,  3.0832e-04,  7.7032e-03,\n",
       "                      -7.8661e-04,  9.1593e-05,  3.4377e-04, -4.4575e-03,  9.5172e-04,\n",
       "                       5.0260e-04, -1.2863e-03,  1.1127e-03,  7.5315e-04,  4.1860e-03,\n",
       "                       3.9471e-03, -1.7054e-03], device='cuda:0')),\n",
       "             ('encoder_layers.2.encoder_attn.in_proj_weight',\n",
       "              tensor([[-0.1789,  0.1329,  0.0336,  ..., -0.1355, -0.1586, -0.0737],\n",
       "                      [-0.1861,  0.1004,  0.0187,  ...,  0.0261, -0.1796, -0.0829],\n",
       "                      [-0.0555, -0.0643, -0.1925,  ...,  0.1351,  0.0400,  0.2031],\n",
       "                      ...,\n",
       "                      [ 0.1491,  0.0857,  0.0348,  ...,  0.0916,  0.0904,  0.0384],\n",
       "                      [-0.1077,  0.0925, -0.0925,  ...,  0.1206, -0.0368, -0.0960],\n",
       "                      [ 0.0298,  0.0880, -0.1444,  ...,  0.0164,  0.2248, -0.0694]],\n",
       "                     device='cuda:0')),\n",
       "             ('encoder_layers.2.encoder_attn.in_proj_bias',\n",
       "              tensor([ 3.1519e-03, -7.9362e-04, -3.4790e-03,  3.3296e-03, -3.6955e-03,\n",
       "                       1.6803e-03,  1.9790e-03, -9.5468e-03,  1.4662e-02, -3.3285e-03,\n",
       "                      -3.6818e-03,  8.5343e-04,  7.3622e-03,  8.0199e-03, -6.1333e-04,\n",
       "                      -6.7125e-03,  8.6946e-03, -5.4998e-03,  1.7277e-02,  1.1428e-02,\n",
       "                       5.4468e-03, -3.1897e-03, -2.1477e-03,  9.0478e-03, -8.8577e-03,\n",
       "                       7.4526e-03,  7.9980e-03, -1.4169e-02, -1.6667e-02,  5.0749e-03,\n",
       "                       1.4549e-02,  4.2438e-03,  3.1670e-06, -5.0352e-07,  5.9842e-07,\n",
       "                       1.4941e-06, -3.0332e-07,  6.0318e-07,  1.0529e-07,  4.4363e-07,\n",
       "                       4.7663e-08, -3.2076e-07,  8.4602e-07, -2.4102e-06,  1.1866e-07,\n",
       "                       2.2063e-07,  1.7315e-06, -1.5098e-06,  2.5905e-06, -1.7788e-06,\n",
       "                      -1.4545e-06,  1.5049e-06, -5.5121e-07,  4.1869e-06,  8.8629e-07,\n",
       "                       7.6716e-07, -8.7688e-07, -2.2092e-07,  2.4873e-07, -5.5582e-06,\n",
       "                       1.3846e-06, -1.0057e-05, -7.2167e-07, -2.8022e-06,  1.2721e-04,\n",
       "                      -9.4442e-04,  1.4019e-03, -1.9319e-03, -2.6068e-03, -2.5420e-04,\n",
       "                       3.1078e-04, -5.3333e-04, -9.0208e-04, -2.3296e-03, -1.1881e-03,\n",
       "                      -7.3303e-04,  8.0587e-04, -3.3257e-03,  5.5947e-03,  2.4798e-03,\n",
       "                      -1.7513e-03,  1.1065e-03,  5.2879e-03,  7.6889e-04,  2.9495e-03,\n",
       "                      -4.3581e-04, -3.4792e-03, -1.6011e-03,  2.4140e-04, -5.0884e-04,\n",
       "                      -6.7791e-03,  1.3827e-03,  1.3471e-03,  4.0910e-04,  1.7817e-03,\n",
       "                       9.4422e-03], device='cuda:0')),\n",
       "             ('encoder_layers.2.encoder_attn.out_proj.weight',\n",
       "              tensor([[ 0.1328, -0.1161, -0.0297,  ...,  0.0813, -0.0089, -0.0737],\n",
       "                      [ 0.1168, -0.0138, -0.1078,  ...,  0.0504,  0.0401,  0.1485],\n",
       "                      [ 0.1644,  0.1062,  0.0168,  ...,  0.0178, -0.1265,  0.1300],\n",
       "                      ...,\n",
       "                      [ 0.0358,  0.1493,  0.0825,  ..., -0.0716, -0.0912,  0.0783],\n",
       "                      [ 0.0046, -0.1385,  0.0116,  ...,  0.1563,  0.1244,  0.0982],\n",
       "                      [-0.0933, -0.1238, -0.0605,  ...,  0.1527, -0.0157,  0.0541]],\n",
       "                     device='cuda:0')),\n",
       "             ('encoder_layers.2.encoder_attn.out_proj.bias',\n",
       "              tensor([-3.4015e-03, -3.4848e-03,  8.0027e-03,  2.2071e-03, -1.8174e-03,\n",
       "                       2.6897e-03,  1.1879e-04,  1.3004e-04,  1.5232e-03, -8.4381e-04,\n",
       "                      -7.7640e-04,  1.6681e-03, -9.7675e-03,  9.3560e-04,  1.1396e-03,\n",
       "                      -8.3582e-04,  1.0824e-04, -1.3997e-03, -7.4384e-05,  1.3309e-04,\n",
       "                      -5.5060e-03, -6.8323e-05,  7.9635e-04, -6.4033e-03,  5.3733e-04,\n",
       "                       7.9970e-04, -1.2125e-03,  4.1603e-04,  2.7545e-03,  4.8929e-03,\n",
       "                       7.6321e-04, -2.3092e-03], device='cuda:0')),\n",
       "             ('encoder_layers.2.encoder_norm1.weight',\n",
       "              tensor([1.0250, 0.9970, 0.9953, 1.0038, 1.0002, 1.0011, 1.0038, 1.0018, 0.9971,\n",
       "                      0.9933, 1.0033, 0.9909, 0.9601, 0.9951, 0.9942, 0.9986, 0.9964, 1.0029,\n",
       "                      0.9928, 0.9895, 0.9952, 1.0037, 1.0038, 1.0137, 1.0108, 1.0003, 1.0064,\n",
       "                      0.9979, 1.0022, 1.0022, 1.0009, 0.9972], device='cuda:0')),\n",
       "             ('encoder_layers.2.encoder_norm1.bias',\n",
       "              tensor([-3.9841e-03, -3.4548e-03,  6.8224e-03,  2.1821e-03, -1.9606e-03,\n",
       "                       2.4639e-03, -2.9151e-04,  2.6744e-05,  1.1055e-03, -8.8690e-04,\n",
       "                      -9.2761e-04,  1.0285e-03, -1.0302e-02,  6.4333e-04,  1.0126e-03,\n",
       "                      -1.4359e-03, -4.3609e-05, -1.5342e-03, -4.0433e-04, -4.2568e-04,\n",
       "                      -5.8181e-03, -2.3883e-04,  6.2716e-04, -7.5352e-03,  3.2160e-04,\n",
       "                       5.4182e-04, -1.2214e-03,  2.9161e-04,  2.5432e-03,  4.6808e-03,\n",
       "                       8.6908e-05, -2.6548e-03], device='cuda:0')),\n",
       "             ('encoder_layers.2.encoder_feedforward.0.weight',\n",
       "              tensor([[-0.0245,  0.0281,  0.0005,  ..., -0.0780,  0.0562,  0.1429],\n",
       "                      [ 0.0382, -0.0419,  0.0460,  ...,  0.1436, -0.1119, -0.0967],\n",
       "                      [-0.0461, -0.1105, -0.1460,  ...,  0.0724,  0.0722, -0.0368],\n",
       "                      ...,\n",
       "                      [ 0.1243,  0.1287,  0.1488,  ..., -0.0071, -0.0973, -0.1676],\n",
       "                      [ 0.1665, -0.0684, -0.1377,  ..., -0.1602, -0.1183,  0.0406],\n",
       "                      [-0.0028, -0.1363,  0.1608,  ..., -0.0385,  0.0807, -0.1174]],\n",
       "                     device='cuda:0')),\n",
       "             ('encoder_layers.2.encoder_feedforward.0.bias',\n",
       "              tensor([ 1.4561e-02, -1.3454e-02,  1.4200e-01,  1.3246e-01,  1.5004e-01,\n",
       "                      -3.3910e-02, -6.9558e-02, -9.8618e-02,  7.6909e-02,  1.4180e-01,\n",
       "                      -1.5764e-01, -1.5371e-03,  1.5479e-01,  3.1814e-02, -1.1856e-01,\n",
       "                       5.2297e-02, -2.0642e-02,  6.6174e-02,  1.3780e-01, -2.4977e-02,\n",
       "                      -5.7412e-02, -1.1145e-01, -1.7773e-03,  5.2898e-02,  1.0098e-01,\n",
       "                      -3.1608e-02,  4.7317e-02,  5.4756e-02, -3.2131e-02,  1.5219e-01,\n",
       "                       1.3711e-01, -1.7192e-01,  1.1920e-01,  1.1567e-01,  1.4961e-01,\n",
       "                       2.5802e-02,  1.2823e-01,  9.1657e-02,  1.3193e-01,  1.2271e-01,\n",
       "                      -1.5182e-01,  1.7328e-01, -9.4538e-02,  5.4215e-02,  7.4503e-03,\n",
       "                       1.2262e-01, -1.1512e-01, -4.4403e-02,  5.7943e-02,  5.8522e-02,\n",
       "                       2.8945e-02,  1.0540e-01, -4.7409e-02,  1.6391e-01, -1.5681e-01,\n",
       "                      -1.7266e-04, -2.6685e-02,  3.5909e-02, -1.6658e-02, -1.0931e-01,\n",
       "                       1.6029e-02,  1.4775e-01, -1.4320e-01,  7.4418e-02], device='cuda:0')),\n",
       "             ('encoder_layers.2.encoder_feedforward.2.weight',\n",
       "              tensor([[ 0.0880,  0.0968, -0.0558,  ...,  0.1014,  0.1072, -0.0955],\n",
       "                      [-0.0068,  0.0329,  0.0964,  ..., -0.1004,  0.0294,  0.1086],\n",
       "                      [ 0.1123, -0.1034,  0.0528,  ...,  0.0279, -0.0829, -0.0020],\n",
       "                      ...,\n",
       "                      [-0.0581, -0.0698, -0.1078,  ...,  0.0585,  0.0599,  0.0466],\n",
       "                      [ 0.1034,  0.0702,  0.0312,  ..., -0.0094,  0.0809,  0.1066],\n",
       "                      [ 0.0289, -0.0801, -0.0349,  ..., -0.0844,  0.0640, -0.0820]],\n",
       "                     device='cuda:0')),\n",
       "             ('encoder_layers.2.encoder_feedforward.2.bias',\n",
       "              tensor([-0.1230, -0.0055, -0.0759, -0.0899,  0.0132, -0.1025,  0.0985, -0.1026,\n",
       "                      -0.0290,  0.0082, -0.1170, -0.0281, -0.0030, -0.0264, -0.0022,  0.0041,\n",
       "                      -0.0762, -0.0321, -0.0476, -0.0703, -0.0279, -0.0122,  0.0716,  0.0300,\n",
       "                       0.0204, -0.0316, -0.1171, -0.0752, -0.0251,  0.1264,  0.1143,  0.0793],\n",
       "                     device='cuda:0')),\n",
       "             ('encoder_layers.2.encoder_norm2.weight',\n",
       "              tensor([1.0018, 1.0001, 0.9925, 1.0031, 1.0033, 0.9986, 1.0041, 0.9977, 0.9965,\n",
       "                      0.9962, 1.0044, 0.9976, 0.9858, 0.9964, 0.9975, 0.9965, 0.9973, 1.0012,\n",
       "                      1.0029, 1.0006, 0.9792, 1.0017, 1.0021, 1.0127, 1.0087, 1.0009, 1.0083,\n",
       "                      0.9999, 1.0042, 0.9994, 1.0012, 0.9982], device='cuda:0')),\n",
       "             ('encoder_layers.2.encoder_norm2.bias',\n",
       "              tensor([-9.2392e-03, -2.2155e-03,  1.1333e-02,  8.8454e-04,  4.2279e-04,\n",
       "                       7.5855e-04,  5.6809e-04, -7.7744e-04,  1.0710e-03, -3.2350e-04,\n",
       "                      -4.7521e-04,  1.6992e-03, -2.1977e-03,  1.5662e-05,  9.4089e-04,\n",
       "                      -2.6702e-04,  8.0681e-04, -9.4148e-04, -1.8098e-03, -9.2316e-04,\n",
       "                      -9.3206e-03,  5.0261e-04, -3.8170e-04, -1.7558e-04,  8.8326e-04,\n",
       "                       8.8137e-04, -1.0577e-03, -5.0761e-04, -5.7193e-05,  3.8295e-03,\n",
       "                       3.7931e-04,  6.4471e-04], device='cuda:0')),\n",
       "             ('encoder_layers.3.encoder_attn.in_proj_weight',\n",
       "              tensor([[ 0.0712,  0.1191,  0.0146,  ..., -0.1253,  0.0108, -0.0077],\n",
       "                      [ 0.0501,  0.1057,  0.0005,  ...,  0.0486, -0.1434,  0.0536],\n",
       "                      [ 0.0452, -0.0162, -0.1182,  ...,  0.1458, -0.1343,  0.0146],\n",
       "                      ...,\n",
       "                      [ 0.0359, -0.1644,  0.1624,  ...,  0.1010,  0.2085,  0.1956],\n",
       "                      [-0.1667, -0.0196, -0.0175,  ..., -0.1268,  0.1412,  0.2132],\n",
       "                      [ 0.0285, -0.0163,  0.1603,  ..., -0.0117, -0.1171,  0.1547]],\n",
       "                     device='cuda:0')),\n",
       "             ('encoder_layers.3.encoder_attn.in_proj_bias',\n",
       "              tensor([-3.8519e-03,  5.8541e-03,  1.7940e-02, -3.6871e-03,  1.5183e-03,\n",
       "                       2.3325e-03,  1.7016e-02, -8.5712e-03,  4.2612e-03, -1.8218e-02,\n",
       "                      -4.9483e-03,  1.4921e-02, -9.0374e-03,  8.6824e-04,  1.7822e-02,\n",
       "                       1.3264e-02, -1.4753e-02,  4.9093e-03,  1.1808e-02, -1.4556e-02,\n",
       "                       8.0104e-03, -3.9110e-03, -6.4600e-03, -1.2047e-02, -2.5086e-03,\n",
       "                       4.0633e-03, -3.5835e-03,  2.4798e-04, -8.3304e-04, -1.6881e-03,\n",
       "                      -3.0928e-03,  6.7961e-04, -3.0060e-06,  2.6472e-06, -4.6420e-07,\n",
       "                       1.4472e-06, -4.2346e-06,  6.3454e-08,  2.2128e-06, -3.0486e-06,\n",
       "                       2.1299e-07,  2.1399e-07,  1.4004e-07,  1.1319e-07, -3.6277e-07,\n",
       "                      -1.4117e-06, -8.5463e-07,  4.7336e-08, -4.8380e-07, -8.7520e-07,\n",
       "                       1.3284e-07,  2.8619e-07, -2.1734e-06,  5.0565e-07, -2.5746e-07,\n",
       "                      -5.3641e-07, -3.5719e-06, -4.6814e-07, -1.9852e-08, -6.0246e-07,\n",
       "                       1.6091e-06,  2.4922e-06,  2.5461e-06, -3.5390e-06, -8.4287e-03,\n",
       "                       1.6041e-03, -1.7540e-03,  5.2107e-03,  1.5540e-03, -6.2370e-04,\n",
       "                       5.4616e-05,  2.8301e-03, -4.1804e-05,  2.3960e-03, -2.6350e-03,\n",
       "                      -9.9620e-04, -1.2137e-03,  4.0158e-04,  7.9891e-04, -5.2816e-04,\n",
       "                       5.0629e-04, -2.9884e-03, -9.4427e-04, -2.6769e-05,  1.5531e-03,\n",
       "                      -6.3532e-04, -4.8507e-05, -3.4750e-03,  2.9056e-03, -9.5079e-04,\n",
       "                       7.5358e-05,  7.2964e-03, -1.8952e-03,  1.1435e-03,  2.4860e-04,\n",
       "                      -5.0054e-04], device='cuda:0')),\n",
       "             ('encoder_layers.3.encoder_attn.out_proj.weight',\n",
       "              tensor([[-0.0639,  0.1180, -0.0772,  ..., -0.0903, -0.0162,  0.0606],\n",
       "                      [ 0.0012, -0.0280, -0.0121,  ..., -0.1234,  0.1006,  0.0477],\n",
       "                      [ 0.1331,  0.0059,  0.0308,  ...,  0.0321,  0.0170,  0.1229],\n",
       "                      ...,\n",
       "                      [-0.1123,  0.1098,  0.0154,  ..., -0.0302, -0.0826, -0.0064],\n",
       "                      [-0.0888, -0.0185,  0.1439,  ..., -0.1246,  0.1194, -0.0984],\n",
       "                      [ 0.1497, -0.0922, -0.0155,  ...,  0.0839, -0.1734,  0.1391]],\n",
       "                     device='cuda:0')),\n",
       "             ('encoder_layers.3.encoder_attn.out_proj.bias',\n",
       "              tensor([-5.5221e-03, -1.4220e-03,  1.8561e-03,  5.0026e-04,  1.3812e-04,\n",
       "                       8.7819e-04,  8.9882e-04, -3.1661e-04,  1.0001e-03, -7.9609e-04,\n",
       "                      -1.1173e-04,  2.4964e-03, -1.9264e-03, -6.0264e-04,  4.0062e-04,\n",
       "                      -1.8357e-05,  1.2000e-03, -1.0740e-03, -1.1051e-03, -2.3927e-03,\n",
       "                      -5.7567e-04,  3.7815e-04, -6.1039e-04, -4.3429e-04,  7.6349e-04,\n",
       "                       1.2694e-03, -1.6220e-03, -1.0877e-03, -1.9879e-03,  8.1794e-03,\n",
       "                      -2.1354e-04, -2.8602e-03], device='cuda:0')),\n",
       "             ('encoder_layers.3.encoder_norm1.weight',\n",
       "              tensor([1.0013, 1.0010, 0.9988, 1.0029, 1.0034, 0.9991, 1.0047, 0.9990, 0.9955,\n",
       "                      0.9991, 0.9984, 0.9972, 0.9921, 0.9984, 1.0072, 1.0049, 0.9967, 0.9994,\n",
       "                      0.9971, 1.0061, 0.9940, 1.0021, 1.0037, 1.0027, 1.0042, 1.0011, 1.0057,\n",
       "                      1.0009, 0.9975, 0.9964, 1.0006, 0.9947], device='cuda:0')),\n",
       "             ('encoder_layers.3.encoder_norm1.bias',\n",
       "              tensor([-7.9322e-03, -1.7650e-03,  9.8240e-04,  1.5633e-04, -1.2572e-04,\n",
       "                       2.3565e-05,  1.6256e-04, -1.0515e-03,  5.3060e-04, -1.0163e-03,\n",
       "                      -5.6274e-04,  1.9423e-03, -2.7214e-03, -9.8366e-04, -5.3175e-05,\n",
       "                      -7.1861e-04,  8.7530e-04, -2.7736e-03, -1.4146e-03, -7.9025e-03,\n",
       "                      -9.5228e-04,  9.1639e-05, -1.2558e-03, -1.5380e-03,  4.1605e-04,\n",
       "                       7.3522e-04, -2.1712e-03, -2.0671e-03, -2.5218e-03,  5.5053e-03,\n",
       "                      -9.4366e-04, -3.7391e-03], device='cuda:0')),\n",
       "             ('encoder_layers.3.encoder_feedforward.0.weight',\n",
       "              tensor([[-0.0245,  0.0281,  0.0005,  ..., -0.0780,  0.0562,  0.1429],\n",
       "                      [ 0.0382, -0.0419,  0.0460,  ...,  0.1436, -0.1119, -0.0967],\n",
       "                      [-0.0461, -0.1105, -0.1460,  ...,  0.0724,  0.0722, -0.0368],\n",
       "                      ...,\n",
       "                      [ 0.1243,  0.1287,  0.1488,  ..., -0.0071, -0.0973, -0.1676],\n",
       "                      [ 0.1665, -0.0684, -0.1377,  ..., -0.1602, -0.1183,  0.0406],\n",
       "                      [-0.0028, -0.1363,  0.1608,  ..., -0.0385,  0.0807, -0.1174]],\n",
       "                     device='cuda:0')),\n",
       "             ('encoder_layers.3.encoder_feedforward.0.bias',\n",
       "              tensor([ 1.4561e-02, -1.3454e-02,  1.4200e-01,  1.3246e-01,  1.5004e-01,\n",
       "                      -3.3910e-02, -6.9558e-02, -9.8618e-02,  7.6909e-02,  1.4180e-01,\n",
       "                      -1.5764e-01, -1.5371e-03,  1.5479e-01,  3.1814e-02, -1.1856e-01,\n",
       "                       5.2297e-02, -2.0642e-02,  6.6174e-02,  1.3780e-01, -2.4977e-02,\n",
       "                      -5.7412e-02, -1.1145e-01, -1.7773e-03,  5.2898e-02,  1.0098e-01,\n",
       "                      -3.1608e-02,  4.7317e-02,  5.4756e-02, -3.2131e-02,  1.5219e-01,\n",
       "                       1.3711e-01, -1.7192e-01,  1.1920e-01,  1.1567e-01,  1.4961e-01,\n",
       "                       2.5802e-02,  1.2823e-01,  9.1657e-02,  1.3193e-01,  1.2271e-01,\n",
       "                      -1.5182e-01,  1.7328e-01, -9.4538e-02,  5.4215e-02,  7.4503e-03,\n",
       "                       1.2262e-01, -1.1512e-01, -4.4403e-02,  5.7943e-02,  5.8522e-02,\n",
       "                       2.8945e-02,  1.0540e-01, -4.7409e-02,  1.6391e-01, -1.5681e-01,\n",
       "                      -1.7266e-04, -2.6685e-02,  3.5909e-02, -1.6658e-02, -1.0931e-01,\n",
       "                       1.6029e-02,  1.4775e-01, -1.4320e-01,  7.4418e-02], device='cuda:0')),\n",
       "             ('encoder_layers.3.encoder_feedforward.2.weight',\n",
       "              tensor([[ 0.0880,  0.0968, -0.0558,  ...,  0.1014,  0.1072, -0.0955],\n",
       "                      [-0.0068,  0.0329,  0.0964,  ..., -0.1004,  0.0294,  0.1086],\n",
       "                      [ 0.1123, -0.1034,  0.0528,  ...,  0.0279, -0.0829, -0.0020],\n",
       "                      ...,\n",
       "                      [-0.0581, -0.0698, -0.1078,  ...,  0.0585,  0.0599,  0.0466],\n",
       "                      [ 0.1034,  0.0702,  0.0312,  ..., -0.0094,  0.0809,  0.1066],\n",
       "                      [ 0.0289, -0.0801, -0.0349,  ..., -0.0844,  0.0640, -0.0820]],\n",
       "                     device='cuda:0')),\n",
       "             ('encoder_layers.3.encoder_feedforward.2.bias',\n",
       "              tensor([-0.1230, -0.0055, -0.0759, -0.0899,  0.0132, -0.1025,  0.0985, -0.1026,\n",
       "                      -0.0290,  0.0082, -0.1170, -0.0281, -0.0030, -0.0264, -0.0022,  0.0041,\n",
       "                      -0.0762, -0.0321, -0.0476, -0.0703, -0.0279, -0.0122,  0.0716,  0.0300,\n",
       "                       0.0204, -0.0316, -0.1171, -0.0752, -0.0251,  0.1264,  0.1143,  0.0793],\n",
       "                     device='cuda:0')),\n",
       "             ('encoder_layers.3.encoder_norm2.weight',\n",
       "              tensor([1.0022, 1.0025, 0.9992, 1.0030, 1.0103, 0.9990, 1.0062, 1.0040, 1.0012,\n",
       "                      1.0040, 1.0042, 1.0001, 1.0010, 1.0005, 1.0085, 1.0015, 1.0013, 1.0002,\n",
       "                      0.9989, 0.9986, 1.0006, 1.0006, 1.0017, 0.9948, 1.0036, 1.0010, 1.0100,\n",
       "                      1.0019, 0.9980, 0.9988, 1.0030, 0.9996], device='cuda:0')),\n",
       "             ('encoder_layers.3.encoder_norm2.bias',\n",
       "              tensor([-0.0013, -0.0013,  0.0013,  0.0013, -0.0013,  0.0013,  0.0013, -0.0013,\n",
       "                       0.0013, -0.0013,  0.0013,  0.0013,  0.0013, -0.0013, -0.0013,  0.0013,\n",
       "                      -0.0013, -0.0013, -0.0013, -0.0013, -0.0013,  0.0013, -0.0013, -0.0013,\n",
       "                       0.0013,  0.0013, -0.0013, -0.0013, -0.0013, -0.0012,  0.0013, -0.0013],\n",
       "                     device='cuda:0')),\n",
       "             ('output_feedforward.0.weight',\n",
       "              tensor([[-0.0050, -0.1338,  0.0491,  0.1768, -0.1604,  0.0567,  0.0430, -0.0766,\n",
       "                        0.1317, -0.1507,  0.1143,  0.1216,  0.1018, -0.1328, -0.1258,  0.0325,\n",
       "                       -0.1473, -0.0419, -0.1661, -0.0058, -0.1314,  0.1547, -0.0852, -0.0294,\n",
       "                        0.1251,  0.0628, -0.0702, -0.1012, -0.1098, -0.0145,  0.0689, -0.0429]],\n",
       "                     device='cuda:0')),\n",
       "             ('output_feedforward.0.bias', tensor([0.1454], device='cuda:0'))])"
      ]
     },
     "execution_count": 47,
     "metadata": {},
     "output_type": "execute_result"
    }
   ],
   "source": [
    "training.reg_training_loop_rmspe(optimizer=optimizer,model=trans_encoder_model,train_loader=train_loader,val_loader=test_loader,ot_steps=20,report_interval=5,n_epochs=200,list_train_loss=train_loss,list_val_loss=val_loss,device=device,eps=1e-6)"
   ]
  },
  {
   "cell_type": "code",
   "execution_count": 48,
   "id": "b2cfa32d-ee54-4cb3-9702-caab7e168991",
   "metadata": {},
   "outputs": [],
   "source": [
    "torch.save(train_loss, \"train_loss_trans2.pt\")\n",
    "torch.save(val_loss, \"val_loss_trans2.pt\")\n",
    "\n",
    "train_loss = torch.load(\"train_loss_trans2.pt\")\n",
    "val_loss = torch.load(\"val_loss_trans2.pt\")"
   ]
  },
  {
   "cell_type": "code",
   "execution_count": 57,
   "id": "bc4f87ea-68f6-4f79-b1cd-5aeab18b5888",
   "metadata": {},
   "outputs": [
    {
     "data": {
      "application/vnd.plotly.v1+json": {
       "config": {
        "plotlyServerURL": "https://plot.ly"
       },
       "data": [
        {
         "marker": {
          "size": 5,
          "symbol": "cross"
         },
         "mode": "markers",
         "name": "Training Loss",
         "type": "scatter",
         "x": [
          1,
          2,
          3,
          4,
          5,
          6,
          7,
          8,
          9,
          10,
          11,
          12,
          13,
          14,
          15,
          16,
          17,
          18,
          19,
          20,
          21,
          22,
          23,
          24,
          25,
          26,
          27,
          28,
          29,
          30,
          31,
          32,
          33,
          34,
          35,
          36,
          37,
          38,
          39,
          40,
          41,
          42,
          43,
          44,
          45,
          46,
          47,
          48,
          49,
          50,
          51,
          52,
          53,
          54,
          55,
          56,
          57,
          58,
          59,
          60,
          61,
          62,
          63,
          64,
          65,
          66,
          67,
          68,
          69,
          70,
          71,
          72,
          73,
          74,
          75,
          76,
          77,
          78,
          79,
          80,
          81,
          82,
          83,
          84,
          85,
          86,
          87,
          88,
          89,
          90,
          91,
          92,
          93,
          94,
          95,
          96,
          97,
          98,
          99,
          100,
          101,
          102,
          103,
          104,
          105,
          106,
          107,
          108,
          109,
          110,
          111,
          112,
          113,
          114,
          115,
          116,
          117,
          118,
          119,
          120,
          121,
          122,
          123,
          124,
          125,
          126,
          127,
          128,
          129,
          130,
          131,
          132,
          133,
          134,
          135,
          136,
          137,
          138,
          139,
          140,
          141,
          142,
          143,
          144,
          145,
          146,
          147,
          148,
          149,
          150,
          151,
          152,
          153,
          154,
          155,
          156,
          157,
          158,
          159,
          160,
          161,
          162,
          163,
          164,
          165,
          166,
          167,
          168,
          169,
          170,
          171,
          172,
          173,
          174,
          175,
          176,
          177,
          178,
          179,
          180,
          181,
          182,
          183,
          184,
          185,
          186,
          187,
          188,
          189,
          190,
          191,
          192,
          193,
          194,
          195,
          196,
          197,
          198,
          199,
          200
         ],
         "y": [
          1.6946431398391724,
          0.6827576756477356,
          0.4884933829307556,
          0.4572259187698364,
          0.42649808526039124,
          0.3963296413421631,
          0.36916011571884155,
          0.3476564288139343,
          0.33163827657699585,
          0.3197060525417328,
          0.3103763163089752,
          0.30294474959373474,
          0.2969887852668762,
          0.2924135625362396,
          0.2888142168521881,
          0.2855231761932373,
          0.28272148966789246,
          0.2804373502731323,
          0.27839335799217224,
          0.27665624022483826,
          0.2749366760253906,
          0.27330484986305237,
          0.2720358669757843,
          0.2707982361316681,
          0.2695838212966919,
          0.26847678422927856,
          0.26776719093322754,
          0.26675036549568176,
          0.26587095856666565,
          0.2651155889034271,
          0.26450634002685547,
          0.2638776898384094,
          0.26320967078208923,
          0.26268690824508667,
          0.2622021436691284,
          0.26169201731681824,
          0.2613123655319214,
          0.26100271940231323,
          0.26047515869140625,
          0.26008376479148865,
          0.25974220037460327,
          0.25968170166015625,
          0.2594124674797058,
          0.2589772939682007,
          0.25868502259254456,
          0.2584405839443207,
          0.25837793946266174,
          0.25822317600250244,
          0.25795087218284607,
          0.2577950954437256,
          0.25756120681762695,
          0.25737282633781433,
          0.2573406398296356,
          0.2571949064731598,
          0.25700604915618896,
          0.25698983669281006,
          0.25682973861694336,
          0.2567283511161804,
          0.2566283643245697,
          0.25660455226898193,
          0.256359338760376,
          0.25627994537353516,
          0.25617536902427673,
          0.25621065497398376,
          0.25576552748680115,
          0.2561073303222656,
          0.25586074590682983,
          0.2557600736618042,
          0.2556377947330475,
          0.25563663244247437,
          0.2554266154766083,
          0.25553154945373535,
          0.25546520948410034,
          0.2555556297302246,
          0.25536707043647766,
          0.2552521824836731,
          0.2552312910556793,
          0.25527599453926086,
          0.25514519214630127,
          0.2551228106021881,
          0.2549911439418793,
          0.2548931837081909,
          0.2549411654472351,
          0.25486665964126587,
          0.25486838817596436,
          0.2547558546066284,
          0.254810631275177,
          0.2547660768032074,
          0.2546879053115845,
          0.25457659363746643,
          0.2545938789844513,
          0.2544882893562317,
          0.2545085549354553,
          0.2545505464076996,
          0.25447139143943787,
          0.2544122636318207,
          0.2544449269771576,
          0.25440794229507446,
          0.2544412612915039,
          0.2542572319507599,
          0.25425848364830017,
          0.25424158573150635,
          0.25431686639785767,
          0.2542882561683655,
          0.2541861832141876,
          0.2542281746864319,
          0.2540341019630432,
          0.2539910674095154,
          0.25414395332336426,
          0.2540670335292816,
          0.25404584407806396,
          0.2540759742259979,
          0.2540156841278076,
          0.2538963258266449,
          0.2539633810520172,
          0.2539246380329132,
          0.25376826524734497,
          0.2538272440433502,
          0.25371354818344116,
          0.25391462445259094,
          0.2538164556026459,
          0.2539537250995636,
          0.2537075877189636,
          0.25370457768440247,
          0.25365710258483887,
          0.2536548376083374,
          0.25355061888694763,
          0.2536889612674713,
          0.25364378094673157,
          0.25359833240509033,
          0.2536241412162781,
          0.25361183285713196,
          0.2535417675971985,
          0.2535507082939148,
          0.253509521484375,
          0.253548264503479,
          0.2536245286464691,
          0.2534306049346924,
          0.25346052646636963,
          0.25349345803260803,
          0.2534180283546448,
          0.2532118558883667,
          0.25347256660461426,
          0.25329020619392395,
          0.25331151485443115,
          0.25321587920188904,
          0.2533133625984192,
          0.2533537745475769,
          0.25332555174827576,
          0.2533467411994934,
          0.25328490138053894,
          0.2533496916294098,
          0.25321197509765625,
          0.25319281220436096,
          0.25311478972435,
          0.2532159388065338,
          0.25316280126571655,
          0.25330105423927307,
          0.25313934683799744,
          0.2532646059989929,
          0.2531583309173584,
          0.2530805766582489,
          0.2529025375843048,
          0.2531474530696869,
          0.25316664576530457,
          0.2529970407485962,
          0.2531322240829468,
          0.2531297206878662,
          0.25306516885757446,
          0.25310227274894714,
          0.2530089318752289,
          0.2529374659061432,
          0.25310009717941284,
          0.25295373797416687,
          0.25296667218208313,
          0.252811461687088,
          0.2529960870742798,
          0.2530306875705719,
          0.25299087166786194,
          0.25296542048454285,
          0.252983957529068,
          0.2529705762863159,
          0.25281521677970886,
          0.25295501947402954,
          0.2528534531593323,
          0.2528668940067291,
          0.25264355540275574,
          0.2527163028717041,
          0.2528401017189026,
          0.25287744402885437,
          0.2528103291988373,
          0.25283104181289673,
          0.25285783410072327,
          0.2527324855327606,
          0.2528530955314636,
          0.25276365876197815,
          0.2527793347835541,
          0.2528422772884369,
          0.2528479993343353,
          0.25266826152801514
         ]
        },
        {
         "marker": {
          "size": 5,
          "symbol": "cross"
         },
         "mode": "markers",
         "name": "Validation Loss",
         "type": "scatter",
         "x": [
          1,
          2,
          3,
          4,
          5,
          6,
          7,
          8,
          9,
          10,
          11,
          12,
          13,
          14,
          15,
          16,
          17,
          18,
          19,
          20,
          21,
          22,
          23,
          24,
          25,
          26,
          27,
          28,
          29,
          30,
          31,
          32,
          33,
          34,
          35,
          36,
          37,
          38,
          39,
          40,
          41,
          42,
          43,
          44,
          45,
          46,
          47,
          48,
          49,
          50,
          51,
          52,
          53,
          54,
          55,
          56,
          57,
          58,
          59,
          60,
          61,
          62,
          63,
          64,
          65,
          66,
          67,
          68,
          69,
          70,
          71,
          72,
          73,
          74,
          75,
          76,
          77,
          78,
          79,
          80,
          81,
          82,
          83,
          84,
          85,
          86,
          87,
          88,
          89,
          90,
          91,
          92,
          93,
          94,
          95,
          96,
          97,
          98,
          99,
          100,
          101,
          102,
          103,
          104,
          105,
          106,
          107,
          108,
          109,
          110,
          111,
          112,
          113,
          114,
          115,
          116,
          117,
          118,
          119,
          120,
          121,
          122,
          123,
          124,
          125,
          126,
          127,
          128,
          129,
          130,
          131,
          132,
          133,
          134,
          135,
          136,
          137,
          138,
          139,
          140,
          141,
          142,
          143,
          144,
          145,
          146,
          147,
          148,
          149,
          150,
          151,
          152,
          153,
          154,
          155,
          156,
          157,
          158,
          159,
          160,
          161,
          162,
          163,
          164,
          165,
          166,
          167,
          168,
          169,
          170,
          171,
          172,
          173,
          174,
          175,
          176,
          177,
          178,
          179,
          180,
          181,
          182,
          183,
          184,
          185,
          186,
          187,
          188,
          189,
          190,
          191,
          192,
          193,
          194,
          195,
          196,
          197,
          198,
          199,
          200
         ],
         "y": [
          0.9314097762107849,
          0.5067468881607056,
          0.47790592908859253,
          0.4497113823890686,
          0.4192540943622589,
          0.38954541087150574,
          0.36282896995544434,
          0.3416319191455841,
          0.3253582715988159,
          0.3118307292461395,
          0.30207476019859314,
          0.2938404381275177,
          0.28737372159957886,
          0.28162243962287903,
          0.2773284912109375,
          0.2738918662071228,
          0.270803302526474,
          0.26841437816619873,
          0.26593008637428284,
          0.26364246010780334,
          0.26179584860801697,
          0.26015418767929077,
          0.25842350721359253,
          0.25737762451171875,
          0.25583410263061523,
          0.254684716463089,
          0.2536751627922058,
          0.25276243686676025,
          0.2521156966686249,
          0.25112220644950867,
          0.2503144443035126,
          0.24983295798301697,
          0.2488355189561844,
          0.24812480807304382,
          0.24762186408042908,
          0.24742820858955383,
          0.24714890122413635,
          0.24625709652900696,
          0.24596992135047913,
          0.24592292308807373,
          0.24533775448799133,
          0.24491062760353088,
          0.2448493093252182,
          0.2441268265247345,
          0.24402759969234467,
          0.24377991259098053,
          0.24395118653774261,
          0.24328313767910004,
          0.24295441806316376,
          0.24278049170970917,
          0.2429177314043045,
          0.2423442155122757,
          0.24210700392723083,
          0.24201762676239014,
          0.24193167686462402,
          0.24159757792949677,
          0.2416730374097824,
          0.2417447566986084,
          0.2414689064025879,
          0.2411002516746521,
          0.24142256379127502,
          0.24110646545886993,
          0.24097929894924164,
          0.24065634608268738,
          0.24076412618160248,
          0.2408568114042282,
          0.2408658117055893,
          0.24032846093177795,
          0.2407253533601761,
          0.240373432636261,
          0.2402769774198532,
          0.2401856929063797,
          0.2398720681667328,
          0.2400325983762741,
          0.23986223340034485,
          0.23986686766147614,
          0.23984698951244354,
          0.2401435673236847,
          0.2399713695049286,
          0.23986317217350006,
          0.23976996541023254,
          0.23985931277275085,
          0.2396221160888672,
          0.23953653872013092,
          0.23919358849525452,
          0.2393270581960678,
          0.239357590675354,
          0.23900792002677917,
          0.23913061618804932,
          0.23937024176120758,
          0.23943018913269043,
          0.23919515311717987,
          0.23946507275104523,
          0.23901867866516113,
          0.23922573029994965,
          0.23900112509727478,
          0.23851515352725983,
          0.23890575766563416,
          0.2386273741722107,
          0.23898865282535553,
          0.23988498747348785,
          0.23862804472446442,
          0.23875103890895844,
          0.23940367996692657,
          0.2390964925289154,
          0.23903365433216095,
          0.23891542851924896,
          0.2385353446006775,
          0.23834280669689178,
          0.2385268658399582,
          0.23844970762729645,
          0.23849527537822723,
          0.2383493185043335,
          0.23848044872283936,
          0.23834553360939026,
          0.2383725494146347,
          0.23843736946582794,
          0.2381024807691574,
          0.23827789723873138,
          0.2380675971508026,
          0.2379675656557083,
          0.23795786499977112,
          0.23854003846645355,
          0.23825420439243317,
          0.2382136881351471,
          0.23833981156349182,
          0.2383151650428772,
          0.23800793290138245,
          0.23771555721759796,
          0.2383878231048584,
          0.23784640431404114,
          0.2379601001739502,
          0.23787672817707062,
          0.23794874548912048,
          0.23836784064769745,
          0.2377098947763443,
          0.23774036765098572,
          0.2381332963705063,
          0.23834794759750366,
          0.23762147128582,
          0.23765680193901062,
          0.23748770356178284,
          0.23783428966999054,
          0.23806066811084747,
          0.23750990629196167,
          0.2373998612165451,
          0.2374051809310913,
          0.23770512640476227,
          0.23762783408164978,
          0.2376430630683899,
          0.23761582374572754,
          0.2373705953359604,
          0.23776960372924805,
          0.23773732781410217,
          0.23741954565048218,
          0.23767197132110596,
          0.23746033012866974,
          0.2374095618724823,
          0.23772141337394714,
          0.23760804533958435,
          0.23745228350162506,
          0.2373664826154709,
          0.23747344315052032,
          0.2376699149608612,
          0.23748940229415894,
          0.23745287954807281,
          0.23714447021484375,
          0.2378005087375641,
          0.237117201089859,
          0.23726268112659454,
          0.23723575472831726,
          0.23803122341632843,
          0.23796848952770233,
          0.2374725639820099,
          0.23715965449810028,
          0.23723015189170837,
          0.23706310987472534,
          0.23701927065849304,
          0.23701417446136475,
          0.23690302670001984,
          0.23702125251293182,
          0.23771750926971436,
          0.23704753816127777,
          0.2370871901512146,
          0.23712964355945587,
          0.23686189949512482,
          0.23711436986923218,
          0.2372567355632782,
          0.23686228692531586,
          0.23711314797401428,
          0.23733113706111908,
          0.2369590550661087,
          0.23754170536994934,
          0.23743091523647308,
          0.2370852828025818,
          0.23699015378952026,
          0.237013578414917,
          0.2368651032447815,
          0.23756156861782074,
          0.23704592883586884
         ]
        }
       ],
       "layout": {
        "hovermode": "x",
        "legend": {
         "x": 0.9,
         "y": 0.9
        },
        "template": {
         "data": {
          "bar": [
           {
            "error_x": {
             "color": "#2a3f5f"
            },
            "error_y": {
             "color": "#2a3f5f"
            },
            "marker": {
             "line": {
              "color": "white",
              "width": 0.5
             },
             "pattern": {
              "fillmode": "overlay",
              "size": 10,
              "solidity": 0.2
             }
            },
            "type": "bar"
           }
          ],
          "barpolar": [
           {
            "marker": {
             "line": {
              "color": "white",
              "width": 0.5
             },
             "pattern": {
              "fillmode": "overlay",
              "size": 10,
              "solidity": 0.2
             }
            },
            "type": "barpolar"
           }
          ],
          "carpet": [
           {
            "aaxis": {
             "endlinecolor": "#2a3f5f",
             "gridcolor": "#C8D4E3",
             "linecolor": "#C8D4E3",
             "minorgridcolor": "#C8D4E3",
             "startlinecolor": "#2a3f5f"
            },
            "baxis": {
             "endlinecolor": "#2a3f5f",
             "gridcolor": "#C8D4E3",
             "linecolor": "#C8D4E3",
             "minorgridcolor": "#C8D4E3",
             "startlinecolor": "#2a3f5f"
            },
            "type": "carpet"
           }
          ],
          "choropleth": [
           {
            "colorbar": {
             "outlinewidth": 0,
             "ticks": ""
            },
            "type": "choropleth"
           }
          ],
          "contour": [
           {
            "colorbar": {
             "outlinewidth": 0,
             "ticks": ""
            },
            "colorscale": [
             [
              0,
              "#0d0887"
             ],
             [
              0.1111111111111111,
              "#46039f"
             ],
             [
              0.2222222222222222,
              "#7201a8"
             ],
             [
              0.3333333333333333,
              "#9c179e"
             ],
             [
              0.4444444444444444,
              "#bd3786"
             ],
             [
              0.5555555555555556,
              "#d8576b"
             ],
             [
              0.6666666666666666,
              "#ed7953"
             ],
             [
              0.7777777777777778,
              "#fb9f3a"
             ],
             [
              0.8888888888888888,
              "#fdca26"
             ],
             [
              1,
              "#f0f921"
             ]
            ],
            "type": "contour"
           }
          ],
          "contourcarpet": [
           {
            "colorbar": {
             "outlinewidth": 0,
             "ticks": ""
            },
            "type": "contourcarpet"
           }
          ],
          "heatmap": [
           {
            "colorbar": {
             "outlinewidth": 0,
             "ticks": ""
            },
            "colorscale": [
             [
              0,
              "#0d0887"
             ],
             [
              0.1111111111111111,
              "#46039f"
             ],
             [
              0.2222222222222222,
              "#7201a8"
             ],
             [
              0.3333333333333333,
              "#9c179e"
             ],
             [
              0.4444444444444444,
              "#bd3786"
             ],
             [
              0.5555555555555556,
              "#d8576b"
             ],
             [
              0.6666666666666666,
              "#ed7953"
             ],
             [
              0.7777777777777778,
              "#fb9f3a"
             ],
             [
              0.8888888888888888,
              "#fdca26"
             ],
             [
              1,
              "#f0f921"
             ]
            ],
            "type": "heatmap"
           }
          ],
          "histogram": [
           {
            "marker": {
             "pattern": {
              "fillmode": "overlay",
              "size": 10,
              "solidity": 0.2
             }
            },
            "type": "histogram"
           }
          ],
          "histogram2d": [
           {
            "colorbar": {
             "outlinewidth": 0,
             "ticks": ""
            },
            "colorscale": [
             [
              0,
              "#0d0887"
             ],
             [
              0.1111111111111111,
              "#46039f"
             ],
             [
              0.2222222222222222,
              "#7201a8"
             ],
             [
              0.3333333333333333,
              "#9c179e"
             ],
             [
              0.4444444444444444,
              "#bd3786"
             ],
             [
              0.5555555555555556,
              "#d8576b"
             ],
             [
              0.6666666666666666,
              "#ed7953"
             ],
             [
              0.7777777777777778,
              "#fb9f3a"
             ],
             [
              0.8888888888888888,
              "#fdca26"
             ],
             [
              1,
              "#f0f921"
             ]
            ],
            "type": "histogram2d"
           }
          ],
          "histogram2dcontour": [
           {
            "colorbar": {
             "outlinewidth": 0,
             "ticks": ""
            },
            "colorscale": [
             [
              0,
              "#0d0887"
             ],
             [
              0.1111111111111111,
              "#46039f"
             ],
             [
              0.2222222222222222,
              "#7201a8"
             ],
             [
              0.3333333333333333,
              "#9c179e"
             ],
             [
              0.4444444444444444,
              "#bd3786"
             ],
             [
              0.5555555555555556,
              "#d8576b"
             ],
             [
              0.6666666666666666,
              "#ed7953"
             ],
             [
              0.7777777777777778,
              "#fb9f3a"
             ],
             [
              0.8888888888888888,
              "#fdca26"
             ],
             [
              1,
              "#f0f921"
             ]
            ],
            "type": "histogram2dcontour"
           }
          ],
          "mesh3d": [
           {
            "colorbar": {
             "outlinewidth": 0,
             "ticks": ""
            },
            "type": "mesh3d"
           }
          ],
          "parcoords": [
           {
            "line": {
             "colorbar": {
              "outlinewidth": 0,
              "ticks": ""
             }
            },
            "type": "parcoords"
           }
          ],
          "pie": [
           {
            "automargin": true,
            "type": "pie"
           }
          ],
          "scatter": [
           {
            "fillpattern": {
             "fillmode": "overlay",
             "size": 10,
             "solidity": 0.2
            },
            "type": "scatter"
           }
          ],
          "scatter3d": [
           {
            "line": {
             "colorbar": {
              "outlinewidth": 0,
              "ticks": ""
             }
            },
            "marker": {
             "colorbar": {
              "outlinewidth": 0,
              "ticks": ""
             }
            },
            "type": "scatter3d"
           }
          ],
          "scattercarpet": [
           {
            "marker": {
             "colorbar": {
              "outlinewidth": 0,
              "ticks": ""
             }
            },
            "type": "scattercarpet"
           }
          ],
          "scattergeo": [
           {
            "marker": {
             "colorbar": {
              "outlinewidth": 0,
              "ticks": ""
             }
            },
            "type": "scattergeo"
           }
          ],
          "scattergl": [
           {
            "marker": {
             "colorbar": {
              "outlinewidth": 0,
              "ticks": ""
             }
            },
            "type": "scattergl"
           }
          ],
          "scattermap": [
           {
            "marker": {
             "colorbar": {
              "outlinewidth": 0,
              "ticks": ""
             }
            },
            "type": "scattermap"
           }
          ],
          "scattermapbox": [
           {
            "marker": {
             "colorbar": {
              "outlinewidth": 0,
              "ticks": ""
             }
            },
            "type": "scattermapbox"
           }
          ],
          "scatterpolar": [
           {
            "marker": {
             "colorbar": {
              "outlinewidth": 0,
              "ticks": ""
             }
            },
            "type": "scatterpolar"
           }
          ],
          "scatterpolargl": [
           {
            "marker": {
             "colorbar": {
              "outlinewidth": 0,
              "ticks": ""
             }
            },
            "type": "scatterpolargl"
           }
          ],
          "scatterternary": [
           {
            "marker": {
             "colorbar": {
              "outlinewidth": 0,
              "ticks": ""
             }
            },
            "type": "scatterternary"
           }
          ],
          "surface": [
           {
            "colorbar": {
             "outlinewidth": 0,
             "ticks": ""
            },
            "colorscale": [
             [
              0,
              "#0d0887"
             ],
             [
              0.1111111111111111,
              "#46039f"
             ],
             [
              0.2222222222222222,
              "#7201a8"
             ],
             [
              0.3333333333333333,
              "#9c179e"
             ],
             [
              0.4444444444444444,
              "#bd3786"
             ],
             [
              0.5555555555555556,
              "#d8576b"
             ],
             [
              0.6666666666666666,
              "#ed7953"
             ],
             [
              0.7777777777777778,
              "#fb9f3a"
             ],
             [
              0.8888888888888888,
              "#fdca26"
             ],
             [
              1,
              "#f0f921"
             ]
            ],
            "type": "surface"
           }
          ],
          "table": [
           {
            "cells": {
             "fill": {
              "color": "#EBF0F8"
             },
             "line": {
              "color": "white"
             }
            },
            "header": {
             "fill": {
              "color": "#C8D4E3"
             },
             "line": {
              "color": "white"
             }
            },
            "type": "table"
           }
          ]
         },
         "layout": {
          "annotationdefaults": {
           "arrowcolor": "#2a3f5f",
           "arrowhead": 0,
           "arrowwidth": 1
          },
          "autotypenumbers": "strict",
          "coloraxis": {
           "colorbar": {
            "outlinewidth": 0,
            "ticks": ""
           }
          },
          "colorscale": {
           "diverging": [
            [
             0,
             "#8e0152"
            ],
            [
             0.1,
             "#c51b7d"
            ],
            [
             0.2,
             "#de77ae"
            ],
            [
             0.3,
             "#f1b6da"
            ],
            [
             0.4,
             "#fde0ef"
            ],
            [
             0.5,
             "#f7f7f7"
            ],
            [
             0.6,
             "#e6f5d0"
            ],
            [
             0.7,
             "#b8e186"
            ],
            [
             0.8,
             "#7fbc41"
            ],
            [
             0.9,
             "#4d9221"
            ],
            [
             1,
             "#276419"
            ]
           ],
           "sequential": [
            [
             0,
             "#0d0887"
            ],
            [
             0.1111111111111111,
             "#46039f"
            ],
            [
             0.2222222222222222,
             "#7201a8"
            ],
            [
             0.3333333333333333,
             "#9c179e"
            ],
            [
             0.4444444444444444,
             "#bd3786"
            ],
            [
             0.5555555555555556,
             "#d8576b"
            ],
            [
             0.6666666666666666,
             "#ed7953"
            ],
            [
             0.7777777777777778,
             "#fb9f3a"
            ],
            [
             0.8888888888888888,
             "#fdca26"
            ],
            [
             1,
             "#f0f921"
            ]
           ],
           "sequentialminus": [
            [
             0,
             "#0d0887"
            ],
            [
             0.1111111111111111,
             "#46039f"
            ],
            [
             0.2222222222222222,
             "#7201a8"
            ],
            [
             0.3333333333333333,
             "#9c179e"
            ],
            [
             0.4444444444444444,
             "#bd3786"
            ],
            [
             0.5555555555555556,
             "#d8576b"
            ],
            [
             0.6666666666666666,
             "#ed7953"
            ],
            [
             0.7777777777777778,
             "#fb9f3a"
            ],
            [
             0.8888888888888888,
             "#fdca26"
            ],
            [
             1,
             "#f0f921"
            ]
           ]
          },
          "colorway": [
           "#636efa",
           "#EF553B",
           "#00cc96",
           "#ab63fa",
           "#FFA15A",
           "#19d3f3",
           "#FF6692",
           "#B6E880",
           "#FF97FF",
           "#FECB52"
          ],
          "font": {
           "color": "#2a3f5f"
          },
          "geo": {
           "bgcolor": "white",
           "lakecolor": "white",
           "landcolor": "white",
           "showlakes": true,
           "showland": true,
           "subunitcolor": "#C8D4E3"
          },
          "hoverlabel": {
           "align": "left"
          },
          "hovermode": "closest",
          "mapbox": {
           "style": "light"
          },
          "paper_bgcolor": "white",
          "plot_bgcolor": "white",
          "polar": {
           "angularaxis": {
            "gridcolor": "#EBF0F8",
            "linecolor": "#EBF0F8",
            "ticks": ""
           },
           "bgcolor": "white",
           "radialaxis": {
            "gridcolor": "#EBF0F8",
            "linecolor": "#EBF0F8",
            "ticks": ""
           }
          },
          "scene": {
           "xaxis": {
            "backgroundcolor": "white",
            "gridcolor": "#DFE8F3",
            "gridwidth": 2,
            "linecolor": "#EBF0F8",
            "showbackground": true,
            "ticks": "",
            "zerolinecolor": "#EBF0F8"
           },
           "yaxis": {
            "backgroundcolor": "white",
            "gridcolor": "#DFE8F3",
            "gridwidth": 2,
            "linecolor": "#EBF0F8",
            "showbackground": true,
            "ticks": "",
            "zerolinecolor": "#EBF0F8"
           },
           "zaxis": {
            "backgroundcolor": "white",
            "gridcolor": "#DFE8F3",
            "gridwidth": 2,
            "linecolor": "#EBF0F8",
            "showbackground": true,
            "ticks": "",
            "zerolinecolor": "#EBF0F8"
           }
          },
          "shapedefaults": {
           "line": {
            "color": "#2a3f5f"
           }
          },
          "ternary": {
           "aaxis": {
            "gridcolor": "#DFE8F3",
            "linecolor": "#A2B1C6",
            "ticks": ""
           },
           "baxis": {
            "gridcolor": "#DFE8F3",
            "linecolor": "#A2B1C6",
            "ticks": ""
           },
           "bgcolor": "white",
           "caxis": {
            "gridcolor": "#DFE8F3",
            "linecolor": "#A2B1C6",
            "ticks": ""
           }
          },
          "title": {
           "x": 0.05
          },
          "xaxis": {
           "automargin": true,
           "gridcolor": "#EBF0F8",
           "linecolor": "#EBF0F8",
           "ticks": "",
           "title": {
            "standoff": 15
           },
           "zerolinecolor": "#EBF0F8",
           "zerolinewidth": 2
          },
          "yaxis": {
           "automargin": true,
           "gridcolor": "#EBF0F8",
           "linecolor": "#EBF0F8",
           "ticks": "",
           "title": {
            "standoff": 15
           },
           "zerolinecolor": "#EBF0F8",
           "zerolinewidth": 2
          }
         }
        },
        "title": {
         "text": "Training vs Validation Loss"
        },
        "xaxis": {
         "dtick": 5,
         "gridcolor": "lightgray",
         "gridwidth": 1,
         "showgrid": true,
         "tickmode": "linear",
         "title": {
          "text": "Epoch"
         }
        },
        "yaxis": {
         "dtick": 0.005,
         "gridcolor": "lightgray",
         "gridwidth": 1,
         "range": [
          0.22,
          0.27
         ],
         "showgrid": true,
         "tickmode": "linear",
         "title": {
          "text": "Loss"
         }
        }
       }
      },
      "image/png": "[encoded data removed]"
     },
     "metadata": {},
     "output_type": "display_data"
    }
   ],
   "source": [
    "import plotly.graph_objs as go\n",
    "import torch\n",
    "\n",
    "# Convert to float lists\n",
    "train_loss_vals = [x.item() for x in train_loss]\n",
    "val_loss_vals = [x.item() for x in val_loss]\n",
    "epochs = list(range(1, len(train_loss) + 1))\n",
    "\n",
    "# Create traces\n",
    "trace_train = go.Scatter(x=epochs, y=train_loss_vals, mode='markers', name='Training Loss', marker=dict(symbol='cross', size=5))\n",
    "trace_val = go.Scatter(x=epochs, y=val_loss_vals, mode='markers', name='Validation Loss', marker=dict(symbol='cross', size=5))\n",
    "\n",
    "# Create figure\n",
    "fig = go.Figure(data=[trace_train, trace_val])\n",
    "\n",
    "# Customize layout (zooming is enabled by default)\n",
    "fig.update_layout(\n",
    "    title=\"Training vs Validation Loss\",\n",
    "    xaxis_title=\"Epoch\",\n",
    "    yaxis_title=\"Loss\",\n",
    "    hovermode='x',\n",
    "    template='plotly_white',  # Optional\n",
    "    legend=dict(x=0.9, y=0.9)\n",
    ")\n",
    "\n",
    "fig.update_layout(\n",
    "    xaxis=dict(\n",
    "        tickmode='linear',\n",
    "        dtick=5,              # Show a gridline every epoch (or reduce to 0.5 if needed)\n",
    "        showgrid=True,\n",
    "        gridwidth=1,\n",
    "        gridcolor='lightgray'\n",
    "    ),\n",
    "    yaxis=dict(\n",
    "        range=[0.22, 0.27],\n",
    "        tickmode='linear',\n",
    "        dtick=0.005,            # Finer spacing between loss values\n",
    "        showgrid=True,\n",
    "        gridwidth=1,\n",
    "        gridcolor='lightgray'\n",
    "    )\n",
    ")\n",
    "\n",
    "\n",
    "# Show plot\n",
    "fig.show()"
   ]
  },
  {
   "cell_type": "code",
   "execution_count": null,
   "id": "f8a5453c-ac6b-4a69-a62f-a1388afba720",
   "metadata": {},
   "outputs": [],
   "source": []
  }
 ],
 "metadata": {
  "kernelspec": {
   "display_name": "Python 3 (ipykernel)",
   "language": "python",
   "name": "python3"
  },
  "language_info": {
   "codemirror_mode": {
    "name": "ipython",
    "version": 3
   },
   "file_extension": ".py",
   "mimetype": "text/x-python",
   "name": "python",
   "nbconvert_exporter": "python",
   "pygments_lexer": "ipython3",
   "version": "3.10.12"
  }
 },
 "nbformat": 4,
 "nbformat_minor": 5
}
