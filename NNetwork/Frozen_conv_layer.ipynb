{
 "cells": [
  {
   "cell_type": "markdown",
   "id": "1b383b29",
   "metadata": {},
   "source": [
    "## Frozen convolution layer for pattern manufacturing. "
   ]
  },
  {
   "cell_type": "markdown",
   "id": "ee09c7ba",
   "metadata": {},
   "source": [
    "# frozen_diff_conv: Creates \"derivatives\" for time series features. "
   ]
  },
  {
   "cell_type": "markdown",
   "id": "9ba39040",
   "metadata": {},
   "source": [
    "When given a time series like feature, e.g. [1,2,3,1,2,3,1,2,3], we would like to create the \"first derivative\", \"second derivative\", and so on by applying the frozen convolution of (-1,1) with no stride. Instead of pre-padding, we will opt for post padding. As an example, the \"first derivative\" of the given example time series would be [1,1,-2,1,1,-2,1,1,0] where the last zero is what I mean by post padding. "
   ]
  },
  {
   "cell_type": "code",
   "execution_count": 31,
   "id": "17fc81f7",
   "metadata": {},
   "outputs": [],
   "source": [
    "import torch\n",
    "import torch.nn as nn \n",
    "import torch.nn.functional as F"
   ]
  },
  {
   "cell_type": "markdown",
   "id": "2fb8d328",
   "metadata": {},
   "source": [
    "As a reminder, Conv1d requires input of shape (N,Channel,Length). "
   ]
  },
  {
   "cell_type": "code",
   "execution_count": 68,
   "id": "4664d88c",
   "metadata": {},
   "outputs": [],
   "source": [
    "#Created 07/01/25. Copied to training.py. \n",
    "class frozen_diff_conv(nn.Module):\n",
    "    def __init__(self,n_diff=1):\n",
    "        \"\"\"\n",
    "        A frozen 1d convolution layer that creates \"n th derivative\" features. It expects input of tensor shape (N,Channel,Length) with N be any arbitrary positive integer, Channel == 1, and Length be any arbitrary integer. \n",
    "        \n",
    "        :param n_diff: Defaulted to 1. The number of derivative wanted. \n",
    "        :return: A tensor of shape (N, n_diff, Length). Where the n th (start from zero) tensor in the dimension 1 (we start with dimension 0) is the n th \"derivative\" of the imput tensor. However, if n_diff >= Length, None will be returned. \n",
    "        \"\"\"\n",
    "        super().__init__()\n",
    "        self.n_diff=n_diff\n",
    "        self.frozen_conv=nn.Conv1d(1,1,kernel_size=2,bias=False)\n",
    "        with torch.no_grad():\n",
    "            self.frozen_conv.weight[:]=torch.tensor([[[-1.0,1.0]]])\n",
    "            # self.frozen_conv.bias.zero_()\n",
    "\n",
    "    def forward(self,x):\n",
    "        out_tensor=x\n",
    "        x_diff=x\n",
    "        #Check if the user is taking too many derivatives \n",
    "        if self.n_diff>=x.shape[2]: \n",
    "            print(\"Too many derivatives. Returning None.\\n\")\n",
    "            return None\n",
    "        for diff in range(1,self.n_diff+1): \n",
    "            x_diff=self.frozen_conv(x_diff)\n",
    "            x_diff_pad=F.pad(x_diff,(0,diff),mode=\"constant\",value=0)\n",
    "            out_tensor=torch.cat((out_tensor,x_diff_pad),dim=1)\n",
    "            \n",
    "        # x_diff=self.frozen_conv(x)\n",
    "        # x_diff_pad=F.pad(x_diff,(0,1),mode=\"constant\",value=0)\n",
    "        # out_tensor=torch.cat((x,x_diff_pad),dim=1)\n",
    "        \n",
    "        return out_tensor\n",
    "    "
   ]
  },
  {
   "cell_type": "markdown",
   "id": "1191ed01",
   "metadata": {},
   "source": [
    "# An example of frozen_diff_conv. "
   ]
  },
  {
   "cell_type": "code",
   "execution_count": 69,
   "id": "c6d9d614",
   "metadata": {},
   "outputs": [],
   "source": [
    "import importlib\n",
    "import sys\n",
    "\n",
    "sys.path.append(\"../\")\n",
    "\n",
    "from proj_mod import training\n",
    "importlib.reload(training);"
   ]
  },
  {
   "cell_type": "code",
   "execution_count": 73,
   "id": "60a2f41d",
   "metadata": {},
   "outputs": [],
   "source": [
    "frozen_conv=training.frozen_diff_conv(n_diff=2)"
   ]
  },
  {
   "cell_type": "code",
   "execution_count": 74,
   "id": "b8645fae",
   "metadata": {},
   "outputs": [],
   "source": [
    "x=torch.tensor([[[1.0,2.0,3.0,1.0,2.0,3.0,1.0,2.0,3.0]]])"
   ]
  },
  {
   "cell_type": "code",
   "execution_count": 75,
   "id": "77d4399b",
   "metadata": {},
   "outputs": [
    {
     "data": {
      "text/plain": [
       "tensor([[[ 1.,  2.,  3.,  1.,  2.,  3.,  1.,  2.,  3.],\n",
       "         [ 1.,  1., -2.,  1.,  1., -2.,  1.,  1.,  0.],\n",
       "         [ 0., -3.,  3.,  0., -3.,  3.,  0.,  0.,  0.]]],\n",
       "       grad_fn=<CatBackward0>)"
      ]
     },
     "execution_count": 75,
     "metadata": {},
     "output_type": "execute_result"
    }
   ],
   "source": [
    "frozen_conv(x)"
   ]
  }
 ],
 "metadata": {
  "kernelspec": {
   "display_name": "deep_learning_3_11_8",
   "language": "python",
   "name": "python3"
  },
  "language_info": {
   "codemirror_mode": {
    "name": "ipython",
    "version": 3
   },
   "file_extension": ".py",
   "mimetype": "text/x-python",
   "name": "python",
   "nbconvert_exporter": "python",
   "pygments_lexer": "ipython3",
   "version": "3.11.8"
  }
 },
 "nbformat": 4,
 "nbformat_minor": 5
}
