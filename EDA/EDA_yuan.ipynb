{
 "cells": [
  {
   "cell_type": "markdown",
   "id": "e8d41b33",
   "metadata": {},
   "source": [
    "## Correlation between the RV of current 10 mins and the target. "
   ]
  },
  {
   "cell_type": "code",
   "execution_count": 1,
   "id": "c45187a3",
   "metadata": {},
   "outputs": [],
   "source": [
    "import pandas as pd"
   ]
  },
  {
   "cell_type": "code",
   "execution_count": 2,
   "id": "dd3f1d92",
   "metadata": {},
   "outputs": [],
   "source": [
    "df_train=pd.read_csv(\"../raw_data/kaggle_ORVP/train.csv\")"
   ]
  },
  {
   "cell_type": "code",
   "execution_count": 3,
   "id": "32709be6",
   "metadata": {},
   "outputs": [],
   "source": [
    "len_train=len(df_train)"
   ]
  }
 ],
 "metadata": {
  "kernelspec": {
   "display_name": "deep_learning_3_11_8",
   "language": "python",
   "name": "python3"
  },
  "language_info": {
   "codemirror_mode": {
    "name": "ipython",
    "version": 3
   },
   "file_extension": ".py",
   "mimetype": "text/x-python",
   "name": "python",
   "nbconvert_exporter": "python",
   "pygments_lexer": "ipython3",
   "version": "3.11.8"
  }
 },
 "nbformat": 4,
 "nbformat_minor": 5
}
