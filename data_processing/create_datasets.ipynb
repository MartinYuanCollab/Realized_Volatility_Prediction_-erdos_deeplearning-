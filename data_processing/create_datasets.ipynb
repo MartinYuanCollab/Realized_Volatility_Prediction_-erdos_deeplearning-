{
 "cells": [
  {
   "cell_type": "markdown",
   "id": "2e021f23",
   "metadata": {},
   "source": [
    "## Creating datasets."
   ]
  },
  {
   "cell_type": "markdown",
   "id": "95a55d20",
   "metadata": {},
   "source": [
    "We will learn by doing while reading through chapter 10 of the pytorch book. The book focused far too much on the specific example and ignored introducing the abstract necessary components (other than the init, getitem and len) of efficiently constructing dataset to us. Our dataset structure will mimic the book's, while differ in detail, as there might be things that are simply not important to us. The following will be updated VERY FREQUENTLY, as this is very much a learning process. "
   ]
  },
  {
   "cell_type": "markdown",
   "id": "c497a78c",
   "metadata": {},
   "source": [
    "Due to the fact that the creation of raw feature can be time-consuming, we should offer chance of loading preexisting features, and make sure the feature creation is separate from the dataset. Due to the fact that the raw dataframe storing features can be unnecessarily large, we prob should not commit memory in dataset object to store the dataframe itself. Notice, there might be condition required upon the data, for instance, time_id and stock_id; and there might be different kinds of data, like simple tabular features, or timeseries like features. "
   ]
  },
  {
   "cell_type": "code",
   "execution_count": 1,
   "id": "aa6c5ebe",
   "metadata": {},
   "outputs": [],
   "source": [
    "import torch \n",
    "from torch.utils.data import Dataset, DataLoader\n",
    "import pandas as pd\n",
    "import numpy as np\n",
    "import copy"
   ]
  },
  {
   "cell_type": "markdown",
   "id": "4ed25530",
   "metadata": {},
   "source": [
    "Pivot will be our best friend. "
   ]
  },
  {
   "cell_type": "markdown",
   "id": "8576a32e",
   "metadata": {},
   "source": [
    "Following is an example of how pivot works. "
   ]
  },
  {
   "cell_type": "code",
   "execution_count": 27,
   "id": "1f7cc5c3",
   "metadata": {},
   "outputs": [],
   "source": [
    "df = pd.DataFrame({'foo': ['one', 'one', 'one', 'two', 'two',\n",
    "\n",
    "                           'two'],\n",
    "\n",
    "                   'bar': ['A', 'B', 'C', 'A', 'B', 'C'],\n",
    "\n",
    "                   'baz': [1, 2, 3, 4, 5, 6],\n",
    "\n",
    "                   'zoo': ['x', 'y', np.nan, 'q', 'w', np.nan]})"
   ]
  },
  {
   "cell_type": "code",
   "execution_count": 28,
   "id": "8daabc8d",
   "metadata": {},
   "outputs": [
    {
     "data": {
      "text/html": [
       "<div>\n",
       "<style scoped>\n",
       "    .dataframe tbody tr th:only-of-type {\n",
       "        vertical-align: middle;\n",
       "    }\n",
       "\n",
       "    .dataframe tbody tr th {\n",
       "        vertical-align: top;\n",
       "    }\n",
       "\n",
       "    .dataframe thead th {\n",
       "        text-align: right;\n",
       "    }\n",
       "</style>\n",
       "<table border=\"1\" class=\"dataframe\">\n",
       "  <thead>\n",
       "    <tr style=\"text-align: right;\">\n",
       "      <th></th>\n",
       "      <th>foo</th>\n",
       "      <th>bar</th>\n",
       "      <th>baz</th>\n",
       "      <th>zoo</th>\n",
       "    </tr>\n",
       "  </thead>\n",
       "  <tbody>\n",
       "    <tr>\n",
       "      <th>0</th>\n",
       "      <td>one</td>\n",
       "      <td>A</td>\n",
       "      <td>1</td>\n",
       "      <td>x</td>\n",
       "    </tr>\n",
       "    <tr>\n",
       "      <th>1</th>\n",
       "      <td>one</td>\n",
       "      <td>B</td>\n",
       "      <td>2</td>\n",
       "      <td>y</td>\n",
       "    </tr>\n",
       "    <tr>\n",
       "      <th>2</th>\n",
       "      <td>one</td>\n",
       "      <td>C</td>\n",
       "      <td>3</td>\n",
       "      <td>NaN</td>\n",
       "    </tr>\n",
       "    <tr>\n",
       "      <th>3</th>\n",
       "      <td>two</td>\n",
       "      <td>A</td>\n",
       "      <td>4</td>\n",
       "      <td>q</td>\n",
       "    </tr>\n",
       "    <tr>\n",
       "      <th>4</th>\n",
       "      <td>two</td>\n",
       "      <td>B</td>\n",
       "      <td>5</td>\n",
       "      <td>w</td>\n",
       "    </tr>\n",
       "    <tr>\n",
       "      <th>5</th>\n",
       "      <td>two</td>\n",
       "      <td>C</td>\n",
       "      <td>6</td>\n",
       "      <td>NaN</td>\n",
       "    </tr>\n",
       "  </tbody>\n",
       "</table>\n",
       "</div>"
      ],
      "text/plain": [
       "   foo bar  baz  zoo\n",
       "0  one   A    1    x\n",
       "1  one   B    2    y\n",
       "2  one   C    3  NaN\n",
       "3  two   A    4    q\n",
       "4  two   B    5    w\n",
       "5  two   C    6  NaN"
      ]
     },
     "execution_count": 28,
     "metadata": {},
     "output_type": "execute_result"
    }
   ],
   "source": [
    "df"
   ]
  },
  {
   "cell_type": "code",
   "execution_count": 29,
   "id": "aa645b3b",
   "metadata": {},
   "outputs": [
    {
     "data": {
      "text/html": [
       "<div>\n",
       "<style scoped>\n",
       "    .dataframe tbody tr th:only-of-type {\n",
       "        vertical-align: middle;\n",
       "    }\n",
       "\n",
       "    .dataframe tbody tr th {\n",
       "        vertical-align: top;\n",
       "    }\n",
       "\n",
       "    .dataframe thead tr th {\n",
       "        text-align: left;\n",
       "    }\n",
       "\n",
       "    .dataframe thead tr:last-of-type th {\n",
       "        text-align: right;\n",
       "    }\n",
       "</style>\n",
       "<table border=\"1\" class=\"dataframe\">\n",
       "  <thead>\n",
       "    <tr>\n",
       "      <th></th>\n",
       "      <th colspan=\"3\" halign=\"left\">baz</th>\n",
       "      <th colspan=\"3\" halign=\"left\">zoo</th>\n",
       "    </tr>\n",
       "    <tr>\n",
       "      <th>bar</th>\n",
       "      <th>A</th>\n",
       "      <th>B</th>\n",
       "      <th>C</th>\n",
       "      <th>A</th>\n",
       "      <th>B</th>\n",
       "      <th>C</th>\n",
       "    </tr>\n",
       "    <tr>\n",
       "      <th>foo</th>\n",
       "      <th></th>\n",
       "      <th></th>\n",
       "      <th></th>\n",
       "      <th></th>\n",
       "      <th></th>\n",
       "      <th></th>\n",
       "    </tr>\n",
       "  </thead>\n",
       "  <tbody>\n",
       "    <tr>\n",
       "      <th>one</th>\n",
       "      <td>1</td>\n",
       "      <td>2</td>\n",
       "      <td>3</td>\n",
       "      <td>x</td>\n",
       "      <td>y</td>\n",
       "      <td>NaN</td>\n",
       "    </tr>\n",
       "    <tr>\n",
       "      <th>two</th>\n",
       "      <td>4</td>\n",
       "      <td>5</td>\n",
       "      <td>6</td>\n",
       "      <td>q</td>\n",
       "      <td>w</td>\n",
       "      <td>NaN</td>\n",
       "    </tr>\n",
       "  </tbody>\n",
       "</table>\n",
       "</div>"
      ],
      "text/plain": [
       "    baz       zoo        \n",
       "bar   A  B  C   A  B    C\n",
       "foo                      \n",
       "one   1  2  3   x  y  NaN\n",
       "two   4  5  6   q  w  NaN"
      ]
     },
     "execution_count": 29,
     "metadata": {},
     "output_type": "execute_result"
    }
   ],
   "source": [
    "df.pivot(index='foo', columns='bar', values=['baz', 'zoo'])"
   ]
  },
  {
   "cell_type": "code",
   "execution_count": 30,
   "id": "22c4157f",
   "metadata": {},
   "outputs": [],
   "source": [
    "df_pv_dna=df.pivot(index='foo', columns='bar', values=['baz', 'zoo']).dropna(axis=\"columns\")"
   ]
  },
  {
   "cell_type": "code",
   "execution_count": 31,
   "id": "5d23185a",
   "metadata": {},
   "outputs": [
    {
     "data": {
      "text/html": [
       "<div>\n",
       "<style scoped>\n",
       "    .dataframe tbody tr th:only-of-type {\n",
       "        vertical-align: middle;\n",
       "    }\n",
       "\n",
       "    .dataframe tbody tr th {\n",
       "        vertical-align: top;\n",
       "    }\n",
       "\n",
       "    .dataframe thead tr th {\n",
       "        text-align: left;\n",
       "    }\n",
       "\n",
       "    .dataframe thead tr:last-of-type th {\n",
       "        text-align: right;\n",
       "    }\n",
       "</style>\n",
       "<table border=\"1\" class=\"dataframe\">\n",
       "  <thead>\n",
       "    <tr>\n",
       "      <th></th>\n",
       "      <th colspan=\"3\" halign=\"left\">baz</th>\n",
       "      <th colspan=\"2\" halign=\"left\">zoo</th>\n",
       "    </tr>\n",
       "    <tr>\n",
       "      <th>bar</th>\n",
       "      <th>A</th>\n",
       "      <th>B</th>\n",
       "      <th>C</th>\n",
       "      <th>A</th>\n",
       "      <th>B</th>\n",
       "    </tr>\n",
       "    <tr>\n",
       "      <th>foo</th>\n",
       "      <th></th>\n",
       "      <th></th>\n",
       "      <th></th>\n",
       "      <th></th>\n",
       "      <th></th>\n",
       "    </tr>\n",
       "  </thead>\n",
       "  <tbody>\n",
       "    <tr>\n",
       "      <th>one</th>\n",
       "      <td>1</td>\n",
       "      <td>2</td>\n",
       "      <td>3</td>\n",
       "      <td>x</td>\n",
       "      <td>y</td>\n",
       "    </tr>\n",
       "    <tr>\n",
       "      <th>two</th>\n",
       "      <td>4</td>\n",
       "      <td>5</td>\n",
       "      <td>6</td>\n",
       "      <td>q</td>\n",
       "      <td>w</td>\n",
       "    </tr>\n",
       "  </tbody>\n",
       "</table>\n",
       "</div>"
      ],
      "text/plain": [
       "    baz       zoo   \n",
       "bar   A  B  C   A  B\n",
       "foo                 \n",
       "one   1  2  3   x  y\n",
       "two   4  5  6   q  w"
      ]
     },
     "execution_count": 31,
     "metadata": {},
     "output_type": "execute_result"
    }
   ],
   "source": [
    "df_pv_dna"
   ]
  },
  {
   "cell_type": "code",
   "execution_count": 32,
   "id": "04d4dd2f",
   "metadata": {},
   "outputs": [],
   "source": [
    "df_1=pd.DataFrame({\"foo\":[\"one\",\"two\"],\"new\":[\"peepee\",\"poopoo\"],\"bar\":[np.nan,np.nan]})"
   ]
  },
  {
   "cell_type": "code",
   "execution_count": 33,
   "id": "bd56804d",
   "metadata": {},
   "outputs": [],
   "source": [
    "df_1=df_1.pivot(index=\"foo\",columns=\"bar\",values=[\"new\"])"
   ]
  },
  {
   "cell_type": "code",
   "execution_count": 34,
   "id": "261c2c1a",
   "metadata": {},
   "outputs": [
    {
     "data": {
      "text/html": [
       "<div>\n",
       "<style scoped>\n",
       "    .dataframe tbody tr th:only-of-type {\n",
       "        vertical-align: middle;\n",
       "    }\n",
       "\n",
       "    .dataframe tbody tr th {\n",
       "        vertical-align: top;\n",
       "    }\n",
       "\n",
       "    .dataframe thead tr th {\n",
       "        text-align: left;\n",
       "    }\n",
       "\n",
       "    .dataframe thead tr:last-of-type th {\n",
       "        text-align: right;\n",
       "    }\n",
       "</style>\n",
       "<table border=\"1\" class=\"dataframe\">\n",
       "  <thead>\n",
       "    <tr>\n",
       "      <th></th>\n",
       "      <th>new</th>\n",
       "    </tr>\n",
       "    <tr>\n",
       "      <th>bar</th>\n",
       "      <th>NaN</th>\n",
       "    </tr>\n",
       "    <tr>\n",
       "      <th>foo</th>\n",
       "      <th></th>\n",
       "    </tr>\n",
       "  </thead>\n",
       "  <tbody>\n",
       "    <tr>\n",
       "      <th>one</th>\n",
       "      <td>peepee</td>\n",
       "    </tr>\n",
       "    <tr>\n",
       "      <th>two</th>\n",
       "      <td>poopoo</td>\n",
       "    </tr>\n",
       "  </tbody>\n",
       "</table>\n",
       "</div>"
      ],
      "text/plain": [
       "        new\n",
       "bar     NaN\n",
       "foo        \n",
       "one  peepee\n",
       "two  poopoo"
      ]
     },
     "execution_count": 34,
     "metadata": {},
     "output_type": "execute_result"
    }
   ],
   "source": [
    "df_1"
   ]
  },
  {
   "cell_type": "code",
   "execution_count": 35,
   "id": "e7c13049",
   "metadata": {},
   "outputs": [],
   "source": [
    "df_merge=pd.merge(df_pv_dna,df_1,on=\"foo\")"
   ]
  },
  {
   "cell_type": "code",
   "execution_count": 36,
   "id": "6cbe03ce",
   "metadata": {},
   "outputs": [
    {
     "data": {
      "text/html": [
       "<div>\n",
       "<style scoped>\n",
       "    .dataframe tbody tr th:only-of-type {\n",
       "        vertical-align: middle;\n",
       "    }\n",
       "\n",
       "    .dataframe tbody tr th {\n",
       "        vertical-align: top;\n",
       "    }\n",
       "\n",
       "    .dataframe thead tr th {\n",
       "        text-align: left;\n",
       "    }\n",
       "\n",
       "    .dataframe thead tr:last-of-type th {\n",
       "        text-align: right;\n",
       "    }\n",
       "</style>\n",
       "<table border=\"1\" class=\"dataframe\">\n",
       "  <thead>\n",
       "    <tr>\n",
       "      <th></th>\n",
       "      <th colspan=\"3\" halign=\"left\">baz</th>\n",
       "      <th colspan=\"2\" halign=\"left\">zoo</th>\n",
       "      <th>new</th>\n",
       "    </tr>\n",
       "    <tr>\n",
       "      <th>bar</th>\n",
       "      <th>A</th>\n",
       "      <th>B</th>\n",
       "      <th>C</th>\n",
       "      <th>A</th>\n",
       "      <th>B</th>\n",
       "      <th>NaN</th>\n",
       "    </tr>\n",
       "    <tr>\n",
       "      <th>foo</th>\n",
       "      <th></th>\n",
       "      <th></th>\n",
       "      <th></th>\n",
       "      <th></th>\n",
       "      <th></th>\n",
       "      <th></th>\n",
       "    </tr>\n",
       "  </thead>\n",
       "  <tbody>\n",
       "    <tr>\n",
       "      <th>one</th>\n",
       "      <td>1</td>\n",
       "      <td>2</td>\n",
       "      <td>3</td>\n",
       "      <td>x</td>\n",
       "      <td>y</td>\n",
       "      <td>peepee</td>\n",
       "    </tr>\n",
       "    <tr>\n",
       "      <th>two</th>\n",
       "      <td>4</td>\n",
       "      <td>5</td>\n",
       "      <td>6</td>\n",
       "      <td>q</td>\n",
       "      <td>w</td>\n",
       "      <td>poopoo</td>\n",
       "    </tr>\n",
       "  </tbody>\n",
       "</table>\n",
       "</div>"
      ],
      "text/plain": [
       "    baz       zoo        new\n",
       "bar   A  B  C   A  B     NaN\n",
       "foo                         \n",
       "one   1  2  3   x  y  peepee\n",
       "two   4  5  6   q  w  poopoo"
      ]
     },
     "execution_count": 36,
     "metadata": {},
     "output_type": "execute_result"
    }
   ],
   "source": [
    "df_merge"
   ]
  },
  {
   "cell_type": "code",
   "execution_count": 37,
   "id": "bd1794b9",
   "metadata": {},
   "outputs": [
    {
     "data": {
      "text/html": [
       "<div>\n",
       "<style scoped>\n",
       "    .dataframe tbody tr th:only-of-type {\n",
       "        vertical-align: middle;\n",
       "    }\n",
       "\n",
       "    .dataframe tbody tr th {\n",
       "        vertical-align: top;\n",
       "    }\n",
       "\n",
       "    .dataframe thead th {\n",
       "        text-align: right;\n",
       "    }\n",
       "</style>\n",
       "<table border=\"1\" class=\"dataframe\">\n",
       "  <thead>\n",
       "    <tr style=\"text-align: right;\">\n",
       "      <th>bar</th>\n",
       "      <th>A</th>\n",
       "      <th>B</th>\n",
       "    </tr>\n",
       "    <tr>\n",
       "      <th>foo</th>\n",
       "      <th></th>\n",
       "      <th></th>\n",
       "    </tr>\n",
       "  </thead>\n",
       "  <tbody>\n",
       "    <tr>\n",
       "      <th>one</th>\n",
       "      <td>x</td>\n",
       "      <td>y</td>\n",
       "    </tr>\n",
       "    <tr>\n",
       "      <th>two</th>\n",
       "      <td>q</td>\n",
       "      <td>w</td>\n",
       "    </tr>\n",
       "  </tbody>\n",
       "</table>\n",
       "</div>"
      ],
      "text/plain": [
       "bar  A  B\n",
       "foo      \n",
       "one  x  y\n",
       "two  q  w"
      ]
     },
     "execution_count": 37,
     "metadata": {},
     "output_type": "execute_result"
    }
   ],
   "source": [
    "df_merge.loc[:,\"zoo\"]"
   ]
  },
  {
   "cell_type": "code",
   "execution_count": 38,
   "id": "c628f9ba",
   "metadata": {},
   "outputs": [
    {
     "data": {
      "text/plain": [
       "(2, 3)"
      ]
     },
     "execution_count": 38,
     "metadata": {},
     "output_type": "execute_result"
    }
   ],
   "source": [
    "df_merge.loc[:,\"baz\"].shape"
   ]
  },
  {
   "cell_type": "code",
   "execution_count": 39,
   "id": "dbfcd51d",
   "metadata": {},
   "outputs": [
    {
     "data": {
      "text/html": [
       "<div>\n",
       "<style scoped>\n",
       "    .dataframe tbody tr th:only-of-type {\n",
       "        vertical-align: middle;\n",
       "    }\n",
       "\n",
       "    .dataframe tbody tr th {\n",
       "        vertical-align: top;\n",
       "    }\n",
       "\n",
       "    .dataframe thead tr th {\n",
       "        text-align: left;\n",
       "    }\n",
       "\n",
       "    .dataframe thead tr:last-of-type th {\n",
       "        text-align: right;\n",
       "    }\n",
       "</style>\n",
       "<table border=\"1\" class=\"dataframe\">\n",
       "  <thead>\n",
       "    <tr>\n",
       "      <th></th>\n",
       "      <th colspan=\"3\" halign=\"left\">baz</th>\n",
       "      <th colspan=\"2\" halign=\"left\">zoo</th>\n",
       "      <th>new</th>\n",
       "    </tr>\n",
       "    <tr>\n",
       "      <th>bar</th>\n",
       "      <th>A</th>\n",
       "      <th>B</th>\n",
       "      <th>C</th>\n",
       "      <th>A</th>\n",
       "      <th>B</th>\n",
       "      <th>NaN</th>\n",
       "    </tr>\n",
       "    <tr>\n",
       "      <th>foo</th>\n",
       "      <th></th>\n",
       "      <th></th>\n",
       "      <th></th>\n",
       "      <th></th>\n",
       "      <th></th>\n",
       "      <th></th>\n",
       "    </tr>\n",
       "  </thead>\n",
       "  <tbody>\n",
       "    <tr>\n",
       "      <th>one</th>\n",
       "      <td>1</td>\n",
       "      <td>2</td>\n",
       "      <td>3</td>\n",
       "      <td>x</td>\n",
       "      <td>y</td>\n",
       "      <td>peepee</td>\n",
       "    </tr>\n",
       "    <tr>\n",
       "      <th>two</th>\n",
       "      <td>4</td>\n",
       "      <td>5</td>\n",
       "      <td>6</td>\n",
       "      <td>q</td>\n",
       "      <td>w</td>\n",
       "      <td>poopoo</td>\n",
       "    </tr>\n",
       "  </tbody>\n",
       "</table>\n",
       "</div>"
      ],
      "text/plain": [
       "    baz       zoo        new\n",
       "bar   A  B  C   A  B     NaN\n",
       "foo                         \n",
       "one   1  2  3   x  y  peepee\n",
       "two   4  5  6   q  w  poopoo"
      ]
     },
     "execution_count": 39,
     "metadata": {},
     "output_type": "execute_result"
    }
   ],
   "source": [
    "df_merge.dropna(axis=\"rows\")"
   ]
  },
  {
   "cell_type": "code",
   "execution_count": 28,
   "id": "b33d5d99",
   "metadata": {},
   "outputs": [
    {
     "data": {
      "text/plain": [
       "(2, 6)"
      ]
     },
     "execution_count": 28,
     "metadata": {},
     "output_type": "execute_result"
    }
   ],
   "source": [
    "df_merge.shape"
   ]
  },
  {
   "cell_type": "code",
   "execution_count": 24,
   "id": "99323853",
   "metadata": {},
   "outputs": [
    {
     "data": {
      "text/plain": [
       "array([[1., 2., 3.],\n",
       "       [4., 5., 6.]], dtype=float32)"
      ]
     },
     "execution_count": 24,
     "metadata": {},
     "output_type": "execute_result"
    }
   ],
   "source": [
    "df_merge[[\"baz\"]].values.astype(np.float32)"
   ]
  },
  {
   "cell_type": "code",
   "execution_count": 25,
   "id": "696132de",
   "metadata": {},
   "outputs": [
    {
     "data": {
      "text/plain": [
       "tensor([[1., 2., 3.],\n",
       "        [4., 5., 6.]])"
      ]
     },
     "execution_count": 25,
     "metadata": {},
     "output_type": "execute_result"
    }
   ],
   "source": [
    "torch.tensor(df_merge[[\"baz\"]].values.astype(np.float32), dtype=torch.float32)"
   ]
  },
  {
   "cell_type": "code",
   "execution_count": 2,
   "id": "06e06528",
   "metadata": {},
   "outputs": [],
   "source": [
    "#06/27/25: Following is very much a work in progress. After debugging, we will copy this into training.py. \n",
    "class RVdataset(Dataset): \n",
    "    def __init__(self, time_id_list=None, stock_id_list=None, tab_features=None, ts_features=None, target=\"target\", df_ts_feat=None, df_tab_feat=None, df_target=None):\n",
    "        \"\"\"\n",
    "        Object in subclass of Dataset. \n",
    "        \n",
    "        :param time_id_list: Defaulted to None, in which case ALL time_id's will be included. A list containing the time_id's of interest. If the value is not None, it is expected that \"time_id\" column (with values type int) is present in all input dataframes. \n",
    "        :param stock_id_list: Defaulted to None, in which case ALL stock_id's will be included. A list containing the stock_id's of interst. If the value is not None, it is expected that \"stock_id\" column (with values type int) is present in all input dataframes. \n",
    "        :param tab_features: Defaulted to None, in which case NO feature will be included. A list containing the string of names of columns in df_tab_feat to be used as tabular features, for instance, the RV of current 10 mins bucket is a tabular feature. \n",
    "        :param ts_features: Defaulted to None, in which case NO feature will be included. A list containing the string of names of columns in df_ts_feat to be used as time series features, for instance, sub_int_RV in book_time created in data_processing_functions.ipynb. \n",
    "        :param target: Defaulted to \"target\". The string indicating how target is identified in column index of dataframe. \n",
    "        :param df_ts_feat: Defaulted to None. The dataframe containing the time series like features, must have \"row_id\" as identifier for rows and column \"sub_int_num\" as indicator of time series ordering. \n",
    "        :param df_tab_feat: Defaulted to None. The dataframe containing the tabluar features, must have \"row_id\" as identifier for rows. When df_target is not None, one should make sure there is no target in the df_tab_feat. \n",
    "        :param df_target: Defaulted to None, in which case, target will be searched in df_tab_feat instead and expects df_tab_feat to contain target column to be used as target. The dataframe containing the target stored in the target column, must have \"row_id\" to be used as identifier. \n",
    "        \n",
    "        Object attributes: \n",
    "        \n",
    "            self.features: The collection of features as a torch tensor. \n",
    "            self.target: The collection of targets as a torch tensor. \n",
    "            self.len: The length of the whole dataset object. \n",
    "            self.featuresplit: A dictionary in form of {feature name:length of feature, ...} to help distinguish different features in the feature torch tensor. The length of feature is included since some of the features are time series, while some are tabular. \n",
    "            \n",
    "        Object methods: \n",
    "\n",
    "            self.__init__(): Initialize the object. \n",
    "            self.__getitem__(): Returns a feature and a target both as torch tensors, in this order, of a candidate. \n",
    "            self.__len__(): Returns the length of the dataset object. \n",
    "        \"\"\"\n",
    "        super().__init__()\n",
    "        #First case, no restriction on time and stock id \n",
    "        if ((time_id_list==None) & (stock_id_list==None)):\n",
    "            #Import and pivot time series features \n",
    "            df_ts_pv=df_ts_feat.pivot(index=\"row_id\", columns=\"sub_int_num\", values=ts_features).dropna(axis=\"columns\")\n",
    "            #Import, add in the target, and pivot tabular features \n",
    "            df_tab_copy=df_tab_feat.copy(deep=True)\n",
    "            if not df_target is None: \n",
    "                df_tab_copy=pd.merge(df_tab_copy,df_target,on=\"row_id\")\n",
    "            df_tab_copy[\"sub_int_num\"]=np.nan \n",
    "            feat_tar=tab_features+[target]\n",
    "            df_tab_pv=df_tab_copy.pivot(index=\"row_id\", columns=\"sub_int_num\", values=feat_tar)\n",
    "            del df_tab_copy \n",
    "            #Create the full dataframe \n",
    "            df_whole_pv_dna=pd.merge(df_ts_pv,df_tab_pv,on=\"row_id\").dropna(axis=\"rows\")\n",
    "            del df_ts_pv\n",
    "            del df_tab_pv\n",
    "            del feat_tar\n",
    "        #Second case, only resticting stock id \n",
    "        elif (time_id_list==None):\n",
    "            #Import and pivot time series features \n",
    "            df_ts_pv=df_ts_feat[df_ts_feat[\"stock_id\"].isin(stock_id_list)].pivot(index=\"row_id\", columns=\"sub_int_num\", values=ts_features).dropna(axis=\"columns\")\n",
    "            #Import, add in the target, and pivot tabular features \n",
    "            df_tab_copy=df_tab_feat[df_tab_feat[\"stock_id\"].isin(stock_id_list)]\n",
    "            if not df_target is None: \n",
    "                df_tab_copy=pd.merge(df_tab_copy,df_target[df_target[\"stock_id\"].isin(stock_id_list)],on=\"row_id\")\n",
    "            df_tab_copy[\"sub_int_num\"]=np.nan \n",
    "            feat_tar=tab_features+[target]\n",
    "            df_tab_pv=df_tab_copy.pivot(index=\"row_id\", columns=\"sub_int_num\", values=feat_tar)\n",
    "            del df_tab_copy \n",
    "            #Create the full dataframe \n",
    "            df_whole_pv_dna=pd.merge(df_ts_pv,df_tab_pv,on=\"row_id\").dropna(axis=\"rows\")\n",
    "            del df_ts_pv\n",
    "            del df_tab_pv\n",
    "            del feat_tar\n",
    "        #Thrid case, only restricting time id \n",
    "        elif (stock_id_list==None): \n",
    "            #Import and pivot time series features \n",
    "            df_ts_pv=df_ts_feat[df_ts_feat[\"time_id\"].isin(time_id_list)].pivot(index=\"row_id\", columns=\"sub_int_num\", values=ts_features).dropna(axis=\"columns\")\n",
    "            #Import, add in the target, and pivot tabular features \n",
    "            df_tab_copy=df_tab_feat[df_tab_feat[\"time_id\"].isin(time_id_list)]\n",
    "            if not df_target is None: \n",
    "                df_tab_copy=pd.merge(df_tab_copy,df_target[df_target[\"time_id\"].isin(time_id_list)],on=\"row_id\")\n",
    "            df_tab_copy[\"sub_int_num\"]=np.nan \n",
    "            feat_tar=tab_features+[target]\n",
    "            df_tab_pv=df_tab_copy.pivot(index=\"row_id\", columns=\"sub_int_num\", values=feat_tar)\n",
    "            del df_tab_copy \n",
    "            #Create the full dataframe \n",
    "            df_whole_pv_dna=pd.merge(df_ts_pv,df_tab_pv,on=\"row_id\").dropna(axis=\"rows\")\n",
    "            del df_ts_pv\n",
    "            del df_tab_pv\n",
    "            del feat_tar\n",
    "            # print(df_whole_pv_dna.columns)\n",
    "        #Last, and forth, case, restricting both stock and time id\n",
    "        else: \n",
    "            #Import and pivot time series features \n",
    "            df_ts_pv=df_ts_feat[(df_ts_feat[\"time_id\"].isin(time_id_list))&(df_ts_feat[\"stock_id\"].isin(stock_id_list))].pivot(index=\"row_id\", columns=\"sub_int_num\", values=ts_features).dropna(axis=\"columns\")\n",
    "            #Import, add in the target, and pivot tabular features \n",
    "            df_tab_copy=df_tab_feat[(df_tab_feat[\"time_id\"].isin(time_id_list))&(df_tab_feat[\"stock_id\"].isin(stock_id_list))]\n",
    "            if not df_target is None:\n",
    "                df_tab_copy=pd.merge(df_tab_copy,df_target[(df_target[\"time_id\"].isin(time_id_list))&(df_target[\"stock_id\"].isin(stock_id_list))],on=\"row_id\")\n",
    "            df_tab_copy[\"sub_int_num\"]=np.nan \n",
    "            feat_tar=tab_features+[target]\n",
    "            df_tab_pv=df_tab_copy.pivot(index=\"row_id\", columns=\"sub_int_num\", values=feat_tar)\n",
    "            del df_tab_copy \n",
    "            #Create the full dataframe \n",
    "            df_whole_pv_dna=pd.merge(df_ts_pv,df_tab_pv,on=\"row_id\").dropna(axis=\"rows\")\n",
    "            del df_ts_pv\n",
    "            del df_tab_pv\n",
    "            del feat_tar\n",
    "        #Create object values \n",
    "        #The features, targets, and length\n",
    "        all_feat=ts_features+tab_features\n",
    "        self.features=torch.tensor(df_whole_pv_dna.loc[:,all_feat].values.astype(np.float32),dtype=torch.float32)\n",
    "        self.target=torch.tensor(df_whole_pv_dna.loc[:,target].values.astype(np.float32),dtype=torch.float32)\n",
    "        self.len=df_whole_pv_dna.shape[0]\n",
    "        #The record of feature positions \n",
    "        all_feat_len=[df_whole_pv_dna[feat].shape[1] for feat in all_feat]\n",
    "        self.featuresplit=dict(zip(all_feat,all_feat_len))\n",
    "        #Clean up\n",
    "        del df_whole_pv_dna\n",
    "        del all_feat \n",
    "        del all_feat_len\n",
    "    def __getitem__(self, index):\n",
    "        # return super().__getitem__(index)\n",
    "        return self.features[index], self.target[index]\n",
    "    def __len__(self):\n",
    "        return self.len\n",
    "        "
   ]
  },
  {
   "cell_type": "markdown",
   "id": "3fad5a85",
   "metadata": {},
   "source": [
    "## An example "
   ]
  },
  {
   "cell_type": "markdown",
   "id": "73beaa49",
   "metadata": {},
   "source": [
    "We load a precalculated timeseries like feature. "
   ]
  },
  {
   "cell_type": "code",
   "execution_count": 3,
   "id": "02111f12",
   "metadata": {},
   "outputs": [],
   "source": [
    "book_time=pd.read_parquet(\"../processed_data/book_RV_ts_60_si.parquet\")"
   ]
  },
  {
   "cell_type": "code",
   "execution_count": 4,
   "id": "f1d4af07",
   "metadata": {},
   "outputs": [
    {
     "data": {
      "text/html": [
       "<div>\n",
       "<style scoped>\n",
       "    .dataframe tbody tr th:only-of-type {\n",
       "        vertical-align: middle;\n",
       "    }\n",
       "\n",
       "    .dataframe tbody tr th {\n",
       "        vertical-align: top;\n",
       "    }\n",
       "\n",
       "    .dataframe thead th {\n",
       "        text-align: right;\n",
       "    }\n",
       "</style>\n",
       "<table border=\"1\" class=\"dataframe\">\n",
       "  <thead>\n",
       "    <tr style=\"text-align: right;\">\n",
       "      <th></th>\n",
       "      <th>time_id</th>\n",
       "      <th>sub_int_RV</th>\n",
       "      <th>sub_int_num</th>\n",
       "      <th>stock_id</th>\n",
       "      <th>row_id</th>\n",
       "    </tr>\n",
       "  </thead>\n",
       "  <tbody>\n",
       "    <tr>\n",
       "      <th>0</th>\n",
       "      <td>5</td>\n",
       "      <td>0.000015</td>\n",
       "      <td>1</td>\n",
       "      <td>0</td>\n",
       "      <td>0-5</td>\n",
       "    </tr>\n",
       "    <tr>\n",
       "      <th>1</th>\n",
       "      <td>11</td>\n",
       "      <td>0.000004</td>\n",
       "      <td>1</td>\n",
       "      <td>0</td>\n",
       "      <td>0-11</td>\n",
       "    </tr>\n",
       "    <tr>\n",
       "      <th>2</th>\n",
       "      <td>16</td>\n",
       "      <td>0.000432</td>\n",
       "      <td>1</td>\n",
       "      <td>0</td>\n",
       "      <td>0-16</td>\n",
       "    </tr>\n",
       "    <tr>\n",
       "      <th>3</th>\n",
       "      <td>31</td>\n",
       "      <td>0.000000</td>\n",
       "      <td>1</td>\n",
       "      <td>0</td>\n",
       "      <td>0-31</td>\n",
       "    </tr>\n",
       "    <tr>\n",
       "      <th>4</th>\n",
       "      <td>62</td>\n",
       "      <td>0.000235</td>\n",
       "      <td>1</td>\n",
       "      <td>0</td>\n",
       "      <td>0-62</td>\n",
       "    </tr>\n",
       "    <tr>\n",
       "      <th>...</th>\n",
       "      <td>...</td>\n",
       "      <td>...</td>\n",
       "      <td>...</td>\n",
       "      <td>...</td>\n",
       "      <td>...</td>\n",
       "    </tr>\n",
       "    <tr>\n",
       "      <th>25735915</th>\n",
       "      <td>6410</td>\n",
       "      <td>0.000000</td>\n",
       "      <td>60</td>\n",
       "      <td>99</td>\n",
       "      <td>99-6410</td>\n",
       "    </tr>\n",
       "    <tr>\n",
       "      <th>25735916</th>\n",
       "      <td>10421</td>\n",
       "      <td>0.000000</td>\n",
       "      <td>60</td>\n",
       "      <td>99</td>\n",
       "      <td>99-10421</td>\n",
       "    </tr>\n",
       "    <tr>\n",
       "      <th>25735917</th>\n",
       "      <td>25639</td>\n",
       "      <td>0.000000</td>\n",
       "      <td>60</td>\n",
       "      <td>99</td>\n",
       "      <td>99-25639</td>\n",
       "    </tr>\n",
       "    <tr>\n",
       "      <th>25735918</th>\n",
       "      <td>25680</td>\n",
       "      <td>0.000000</td>\n",
       "      <td>60</td>\n",
       "      <td>99</td>\n",
       "      <td>99-25680</td>\n",
       "    </tr>\n",
       "    <tr>\n",
       "      <th>25735919</th>\n",
       "      <td>27964</td>\n",
       "      <td>0.000000</td>\n",
       "      <td>60</td>\n",
       "      <td>99</td>\n",
       "      <td>99-27964</td>\n",
       "    </tr>\n",
       "  </tbody>\n",
       "</table>\n",
       "<p>25735920 rows × 5 columns</p>\n",
       "</div>"
      ],
      "text/plain": [
       "          time_id  sub_int_RV  sub_int_num  stock_id    row_id\n",
       "0               5    0.000015            1         0       0-5\n",
       "1              11    0.000004            1         0      0-11\n",
       "2              16    0.000432            1         0      0-16\n",
       "3              31    0.000000            1         0      0-31\n",
       "4              62    0.000235            1         0      0-62\n",
       "...           ...         ...          ...       ...       ...\n",
       "25735915     6410    0.000000           60        99   99-6410\n",
       "25735916    10421    0.000000           60        99  99-10421\n",
       "25735917    25639    0.000000           60        99  99-25639\n",
       "25735918    25680    0.000000           60        99  99-25680\n",
       "25735919    27964    0.000000           60        99  99-27964\n",
       "\n",
       "[25735920 rows x 5 columns]"
      ]
     },
     "execution_count": 4,
     "metadata": {},
     "output_type": "execute_result"
    }
   ],
   "source": [
    "book_time"
   ]
  },
  {
   "cell_type": "markdown",
   "id": "cbf5422a",
   "metadata": {},
   "source": [
    "We add in a new (fake) time series feature for sake of example. "
   ]
  },
  {
   "cell_type": "code",
   "execution_count": 5,
   "id": "21d63133",
   "metadata": {},
   "outputs": [],
   "source": [
    "book_time[\"fake_ts\"]=1"
   ]
  },
  {
   "cell_type": "code",
   "execution_count": 6,
   "id": "99f31051",
   "metadata": {},
   "outputs": [
    {
     "data": {
      "text/html": [
       "<div>\n",
       "<style scoped>\n",
       "    .dataframe tbody tr th:only-of-type {\n",
       "        vertical-align: middle;\n",
       "    }\n",
       "\n",
       "    .dataframe tbody tr th {\n",
       "        vertical-align: top;\n",
       "    }\n",
       "\n",
       "    .dataframe thead th {\n",
       "        text-align: right;\n",
       "    }\n",
       "</style>\n",
       "<table border=\"1\" class=\"dataframe\">\n",
       "  <thead>\n",
       "    <tr style=\"text-align: right;\">\n",
       "      <th></th>\n",
       "      <th>time_id</th>\n",
       "      <th>sub_int_RV</th>\n",
       "      <th>sub_int_num</th>\n",
       "      <th>stock_id</th>\n",
       "      <th>row_id</th>\n",
       "      <th>fake_ts</th>\n",
       "    </tr>\n",
       "  </thead>\n",
       "  <tbody>\n",
       "    <tr>\n",
       "      <th>0</th>\n",
       "      <td>5</td>\n",
       "      <td>0.000015</td>\n",
       "      <td>1</td>\n",
       "      <td>0</td>\n",
       "      <td>0-5</td>\n",
       "      <td>1</td>\n",
       "    </tr>\n",
       "    <tr>\n",
       "      <th>1</th>\n",
       "      <td>11</td>\n",
       "      <td>0.000004</td>\n",
       "      <td>1</td>\n",
       "      <td>0</td>\n",
       "      <td>0-11</td>\n",
       "      <td>1</td>\n",
       "    </tr>\n",
       "    <tr>\n",
       "      <th>2</th>\n",
       "      <td>16</td>\n",
       "      <td>0.000432</td>\n",
       "      <td>1</td>\n",
       "      <td>0</td>\n",
       "      <td>0-16</td>\n",
       "      <td>1</td>\n",
       "    </tr>\n",
       "    <tr>\n",
       "      <th>3</th>\n",
       "      <td>31</td>\n",
       "      <td>0.000000</td>\n",
       "      <td>1</td>\n",
       "      <td>0</td>\n",
       "      <td>0-31</td>\n",
       "      <td>1</td>\n",
       "    </tr>\n",
       "    <tr>\n",
       "      <th>4</th>\n",
       "      <td>62</td>\n",
       "      <td>0.000235</td>\n",
       "      <td>1</td>\n",
       "      <td>0</td>\n",
       "      <td>0-62</td>\n",
       "      <td>1</td>\n",
       "    </tr>\n",
       "    <tr>\n",
       "      <th>...</th>\n",
       "      <td>...</td>\n",
       "      <td>...</td>\n",
       "      <td>...</td>\n",
       "      <td>...</td>\n",
       "      <td>...</td>\n",
       "      <td>...</td>\n",
       "    </tr>\n",
       "    <tr>\n",
       "      <th>25735915</th>\n",
       "      <td>6410</td>\n",
       "      <td>0.000000</td>\n",
       "      <td>60</td>\n",
       "      <td>99</td>\n",
       "      <td>99-6410</td>\n",
       "      <td>1</td>\n",
       "    </tr>\n",
       "    <tr>\n",
       "      <th>25735916</th>\n",
       "      <td>10421</td>\n",
       "      <td>0.000000</td>\n",
       "      <td>60</td>\n",
       "      <td>99</td>\n",
       "      <td>99-10421</td>\n",
       "      <td>1</td>\n",
       "    </tr>\n",
       "    <tr>\n",
       "      <th>25735917</th>\n",
       "      <td>25639</td>\n",
       "      <td>0.000000</td>\n",
       "      <td>60</td>\n",
       "      <td>99</td>\n",
       "      <td>99-25639</td>\n",
       "      <td>1</td>\n",
       "    </tr>\n",
       "    <tr>\n",
       "      <th>25735918</th>\n",
       "      <td>25680</td>\n",
       "      <td>0.000000</td>\n",
       "      <td>60</td>\n",
       "      <td>99</td>\n",
       "      <td>99-25680</td>\n",
       "      <td>1</td>\n",
       "    </tr>\n",
       "    <tr>\n",
       "      <th>25735919</th>\n",
       "      <td>27964</td>\n",
       "      <td>0.000000</td>\n",
       "      <td>60</td>\n",
       "      <td>99</td>\n",
       "      <td>99-27964</td>\n",
       "      <td>1</td>\n",
       "    </tr>\n",
       "  </tbody>\n",
       "</table>\n",
       "<p>25735920 rows × 6 columns</p>\n",
       "</div>"
      ],
      "text/plain": [
       "          time_id  sub_int_RV  sub_int_num  stock_id    row_id  fake_ts\n",
       "0               5    0.000015            1         0       0-5        1\n",
       "1              11    0.000004            1         0      0-11        1\n",
       "2              16    0.000432            1         0      0-16        1\n",
       "3              31    0.000000            1         0      0-31        1\n",
       "4              62    0.000235            1         0      0-62        1\n",
       "...           ...         ...          ...       ...       ...      ...\n",
       "25735915     6410    0.000000           60        99   99-6410        1\n",
       "25735916    10421    0.000000           60        99  99-10421        1\n",
       "25735917    25639    0.000000           60        99  99-25639        1\n",
       "25735918    25680    0.000000           60        99  99-25680        1\n",
       "25735919    27964    0.000000           60        99  99-27964        1\n",
       "\n",
       "[25735920 rows x 6 columns]"
      ]
     },
     "execution_count": 6,
     "metadata": {},
     "output_type": "execute_result"
    }
   ],
   "source": [
    "book_time"
   ]
  },
  {
   "cell_type": "markdown",
   "id": "9127879e",
   "metadata": {},
   "source": [
    "We load in precalculated tabular features. "
   ]
  },
  {
   "cell_type": "code",
   "execution_count": 7,
   "id": "0b67b2ba",
   "metadata": {},
   "outputs": [],
   "source": [
    "RV_train=pd.read_csv(\"../processed_data/RV_by_row_id.csv\")"
   ]
  },
  {
   "cell_type": "code",
   "execution_count": 8,
   "id": "707c9268",
   "metadata": {},
   "outputs": [
    {
     "data": {
      "text/html": [
       "<div>\n",
       "<style scoped>\n",
       "    .dataframe tbody tr th:only-of-type {\n",
       "        vertical-align: middle;\n",
       "    }\n",
       "\n",
       "    .dataframe tbody tr th {\n",
       "        vertical-align: top;\n",
       "    }\n",
       "\n",
       "    .dataframe thead th {\n",
       "        text-align: right;\n",
       "    }\n",
       "</style>\n",
       "<table border=\"1\" class=\"dataframe\">\n",
       "  <thead>\n",
       "    <tr style=\"text-align: right;\">\n",
       "      <th></th>\n",
       "      <th>row_id</th>\n",
       "      <th>RV</th>\n",
       "    </tr>\n",
       "  </thead>\n",
       "  <tbody>\n",
       "    <tr>\n",
       "      <th>0</th>\n",
       "      <td>0-5</td>\n",
       "      <td>0.004499</td>\n",
       "    </tr>\n",
       "    <tr>\n",
       "      <th>1</th>\n",
       "      <td>0-11</td>\n",
       "      <td>0.001204</td>\n",
       "    </tr>\n",
       "    <tr>\n",
       "      <th>2</th>\n",
       "      <td>0-16</td>\n",
       "      <td>0.002369</td>\n",
       "    </tr>\n",
       "    <tr>\n",
       "      <th>3</th>\n",
       "      <td>0-31</td>\n",
       "      <td>0.002574</td>\n",
       "    </tr>\n",
       "    <tr>\n",
       "      <th>4</th>\n",
       "      <td>0-62</td>\n",
       "      <td>0.001894</td>\n",
       "    </tr>\n",
       "    <tr>\n",
       "      <th>...</th>\n",
       "      <td>...</td>\n",
       "      <td>...</td>\n",
       "    </tr>\n",
       "    <tr>\n",
       "      <th>428927</th>\n",
       "      <td>99-32751</td>\n",
       "      <td>0.001436</td>\n",
       "    </tr>\n",
       "    <tr>\n",
       "      <th>428928</th>\n",
       "      <td>99-32753</td>\n",
       "      <td>0.001795</td>\n",
       "    </tr>\n",
       "    <tr>\n",
       "      <th>428929</th>\n",
       "      <td>99-32758</td>\n",
       "      <td>0.001658</td>\n",
       "    </tr>\n",
       "    <tr>\n",
       "      <th>428930</th>\n",
       "      <td>99-32763</td>\n",
       "      <td>0.002213</td>\n",
       "    </tr>\n",
       "    <tr>\n",
       "      <th>428931</th>\n",
       "      <td>99-32767</td>\n",
       "      <td>0.001192</td>\n",
       "    </tr>\n",
       "  </tbody>\n",
       "</table>\n",
       "<p>428932 rows × 2 columns</p>\n",
       "</div>"
      ],
      "text/plain": [
       "          row_id        RV\n",
       "0            0-5  0.004499\n",
       "1           0-11  0.001204\n",
       "2           0-16  0.002369\n",
       "3           0-31  0.002574\n",
       "4           0-62  0.001894\n",
       "...          ...       ...\n",
       "428927  99-32751  0.001436\n",
       "428928  99-32753  0.001795\n",
       "428929  99-32758  0.001658\n",
       "428930  99-32763  0.002213\n",
       "428931  99-32767  0.001192\n",
       "\n",
       "[428932 rows x 2 columns]"
      ]
     },
     "execution_count": 8,
     "metadata": {},
     "output_type": "execute_result"
    }
   ],
   "source": [
    "RV_train"
   ]
  },
  {
   "cell_type": "markdown",
   "id": "3ba51a15",
   "metadata": {},
   "source": [
    "We load in targets."
   ]
  },
  {
   "cell_type": "code",
   "execution_count": 9,
   "id": "162cda7c",
   "metadata": {},
   "outputs": [],
   "source": [
    "target_train=pd.read_csv(\"../raw_data/kaggle_ORVP/train.csv\")"
   ]
  },
  {
   "cell_type": "code",
   "execution_count": 10,
   "id": "fe28e22b",
   "metadata": {},
   "outputs": [],
   "source": [
    "target_train[\"row_id\"]=target_train[\"stock_id\"].astype(int).astype(str)+\"-\"+target_train[\"time_id\"].astype(int).astype(str)"
   ]
  },
  {
   "cell_type": "code",
   "execution_count": 11,
   "id": "5582ab5a",
   "metadata": {},
   "outputs": [
    {
     "data": {
      "text/html": [
       "<div>\n",
       "<style scoped>\n",
       "    .dataframe tbody tr th:only-of-type {\n",
       "        vertical-align: middle;\n",
       "    }\n",
       "\n",
       "    .dataframe tbody tr th {\n",
       "        vertical-align: top;\n",
       "    }\n",
       "\n",
       "    .dataframe thead th {\n",
       "        text-align: right;\n",
       "    }\n",
       "</style>\n",
       "<table border=\"1\" class=\"dataframe\">\n",
       "  <thead>\n",
       "    <tr style=\"text-align: right;\">\n",
       "      <th></th>\n",
       "      <th>stock_id</th>\n",
       "      <th>time_id</th>\n",
       "      <th>target</th>\n",
       "      <th>row_id</th>\n",
       "    </tr>\n",
       "  </thead>\n",
       "  <tbody>\n",
       "    <tr>\n",
       "      <th>0</th>\n",
       "      <td>0</td>\n",
       "      <td>5</td>\n",
       "      <td>0.004136</td>\n",
       "      <td>0-5</td>\n",
       "    </tr>\n",
       "    <tr>\n",
       "      <th>1</th>\n",
       "      <td>0</td>\n",
       "      <td>11</td>\n",
       "      <td>0.001445</td>\n",
       "      <td>0-11</td>\n",
       "    </tr>\n",
       "    <tr>\n",
       "      <th>2</th>\n",
       "      <td>0</td>\n",
       "      <td>16</td>\n",
       "      <td>0.002168</td>\n",
       "      <td>0-16</td>\n",
       "    </tr>\n",
       "    <tr>\n",
       "      <th>3</th>\n",
       "      <td>0</td>\n",
       "      <td>31</td>\n",
       "      <td>0.002195</td>\n",
       "      <td>0-31</td>\n",
       "    </tr>\n",
       "    <tr>\n",
       "      <th>4</th>\n",
       "      <td>0</td>\n",
       "      <td>62</td>\n",
       "      <td>0.001747</td>\n",
       "      <td>0-62</td>\n",
       "    </tr>\n",
       "    <tr>\n",
       "      <th>...</th>\n",
       "      <td>...</td>\n",
       "      <td>...</td>\n",
       "      <td>...</td>\n",
       "      <td>...</td>\n",
       "    </tr>\n",
       "    <tr>\n",
       "      <th>428927</th>\n",
       "      <td>126</td>\n",
       "      <td>32751</td>\n",
       "      <td>0.003461</td>\n",
       "      <td>126-32751</td>\n",
       "    </tr>\n",
       "    <tr>\n",
       "      <th>428928</th>\n",
       "      <td>126</td>\n",
       "      <td>32753</td>\n",
       "      <td>0.003113</td>\n",
       "      <td>126-32753</td>\n",
       "    </tr>\n",
       "    <tr>\n",
       "      <th>428929</th>\n",
       "      <td>126</td>\n",
       "      <td>32758</td>\n",
       "      <td>0.004070</td>\n",
       "      <td>126-32758</td>\n",
       "    </tr>\n",
       "    <tr>\n",
       "      <th>428930</th>\n",
       "      <td>126</td>\n",
       "      <td>32763</td>\n",
       "      <td>0.003357</td>\n",
       "      <td>126-32763</td>\n",
       "    </tr>\n",
       "    <tr>\n",
       "      <th>428931</th>\n",
       "      <td>126</td>\n",
       "      <td>32767</td>\n",
       "      <td>0.002090</td>\n",
       "      <td>126-32767</td>\n",
       "    </tr>\n",
       "  </tbody>\n",
       "</table>\n",
       "<p>428932 rows × 4 columns</p>\n",
       "</div>"
      ],
      "text/plain": [
       "        stock_id  time_id    target     row_id\n",
       "0              0        5  0.004136        0-5\n",
       "1              0       11  0.001445       0-11\n",
       "2              0       16  0.002168       0-16\n",
       "3              0       31  0.002195       0-31\n",
       "4              0       62  0.001747       0-62\n",
       "...          ...      ...       ...        ...\n",
       "428927       126    32751  0.003461  126-32751\n",
       "428928       126    32753  0.003113  126-32753\n",
       "428929       126    32758  0.004070  126-32758\n",
       "428930       126    32763  0.003357  126-32763\n",
       "428931       126    32767  0.002090  126-32767\n",
       "\n",
       "[428932 rows x 4 columns]"
      ]
     },
     "execution_count": 11,
     "metadata": {},
     "output_type": "execute_result"
    }
   ],
   "source": [
    "target_train"
   ]
  },
  {
   "cell_type": "markdown",
   "id": "84f7e329",
   "metadata": {},
   "source": [
    "Try out our RVdataset class. "
   ]
  },
  {
   "cell_type": "code",
   "execution_count": 12,
   "id": "8094e481",
   "metadata": {},
   "outputs": [],
   "source": [
    "merged=pd.merge(RV_train,target_train,on=\"row_id\")"
   ]
  },
  {
   "cell_type": "code",
   "execution_count": 13,
   "id": "77f77e80",
   "metadata": {},
   "outputs": [],
   "source": [
    "merged[\"sub_int_num\"]=np.nan"
   ]
  },
  {
   "cell_type": "code",
   "execution_count": 14,
   "id": "ecc90755",
   "metadata": {},
   "outputs": [
    {
     "data": {
      "text/html": [
       "<div>\n",
       "<style scoped>\n",
       "    .dataframe tbody tr th:only-of-type {\n",
       "        vertical-align: middle;\n",
       "    }\n",
       "\n",
       "    .dataframe tbody tr th {\n",
       "        vertical-align: top;\n",
       "    }\n",
       "\n",
       "    .dataframe thead tr th {\n",
       "        text-align: left;\n",
       "    }\n",
       "\n",
       "    .dataframe thead tr:last-of-type th {\n",
       "        text-align: right;\n",
       "    }\n",
       "</style>\n",
       "<table border=\"1\" class=\"dataframe\">\n",
       "  <thead>\n",
       "    <tr>\n",
       "      <th></th>\n",
       "      <th>RV</th>\n",
       "      <th>target</th>\n",
       "    </tr>\n",
       "    <tr>\n",
       "      <th>sub_int_num</th>\n",
       "      <th>NaN</th>\n",
       "      <th>NaN</th>\n",
       "    </tr>\n",
       "    <tr>\n",
       "      <th>row_id</th>\n",
       "      <th></th>\n",
       "      <th></th>\n",
       "    </tr>\n",
       "  </thead>\n",
       "  <tbody>\n",
       "    <tr>\n",
       "      <th>0-1000</th>\n",
       "      <td>0.001731</td>\n",
       "      <td>0.001348</td>\n",
       "    </tr>\n",
       "    <tr>\n",
       "      <th>0-10000</th>\n",
       "      <td>0.002863</td>\n",
       "      <td>0.001805</td>\n",
       "    </tr>\n",
       "    <tr>\n",
       "      <th>0-10005</th>\n",
       "      <td>0.008673</td>\n",
       "      <td>0.007544</td>\n",
       "    </tr>\n",
       "    <tr>\n",
       "      <th>0-10017</th>\n",
       "      <td>0.014300</td>\n",
       "      <td>0.011218</td>\n",
       "    </tr>\n",
       "    <tr>\n",
       "      <th>0-10030</th>\n",
       "      <td>0.002503</td>\n",
       "      <td>0.002854</td>\n",
       "    </tr>\n",
       "    <tr>\n",
       "      <th>...</th>\n",
       "      <td>...</td>\n",
       "      <td>...</td>\n",
       "    </tr>\n",
       "    <tr>\n",
       "      <th>99-9972</th>\n",
       "      <td>0.001629</td>\n",
       "      <td>0.001768</td>\n",
       "    </tr>\n",
       "    <tr>\n",
       "      <th>99-9973</th>\n",
       "      <td>0.009243</td>\n",
       "      <td>0.009511</td>\n",
       "    </tr>\n",
       "    <tr>\n",
       "      <th>99-9976</th>\n",
       "      <td>0.005455</td>\n",
       "      <td>0.003722</td>\n",
       "    </tr>\n",
       "    <tr>\n",
       "      <th>99-9988</th>\n",
       "      <td>0.001239</td>\n",
       "      <td>0.001398</td>\n",
       "    </tr>\n",
       "    <tr>\n",
       "      <th>99-9993</th>\n",
       "      <td>0.002591</td>\n",
       "      <td>0.002872</td>\n",
       "    </tr>\n",
       "  </tbody>\n",
       "</table>\n",
       "<p>428932 rows × 2 columns</p>\n",
       "</div>"
      ],
      "text/plain": [
       "                   RV    target\n",
       "sub_int_num       NaN       NaN\n",
       "row_id                         \n",
       "0-1000       0.001731  0.001348\n",
       "0-10000      0.002863  0.001805\n",
       "0-10005      0.008673  0.007544\n",
       "0-10017      0.014300  0.011218\n",
       "0-10030      0.002503  0.002854\n",
       "...               ...       ...\n",
       "99-9972      0.001629  0.001768\n",
       "99-9973      0.009243  0.009511\n",
       "99-9976      0.005455  0.003722\n",
       "99-9988      0.001239  0.001398\n",
       "99-9993      0.002591  0.002872\n",
       "\n",
       "[428932 rows x 2 columns]"
      ]
     },
     "execution_count": 14,
     "metadata": {},
     "output_type": "execute_result"
    }
   ],
   "source": [
    "merged.pivot(index=\"row_id\", columns=\"sub_int_num\", values=[\"RV\",\"target\"])"
   ]
  },
  {
   "cell_type": "markdown",
   "id": "8cbbe548",
   "metadata": {},
   "source": [
    "Below takes 6.7s on my computer. "
   ]
  },
  {
   "cell_type": "code",
   "execution_count": 15,
   "id": "8a55bb83",
   "metadata": {},
   "outputs": [],
   "source": [
    "RVds_ex=RVdataset(tab_features=[\"RV\"],ts_features=[\"sub_int_RV\",\"fake_ts\"],df_ts_feat=book_time,df_tab_feat=RV_train,df_target=target_train)"
   ]
  },
  {
   "cell_type": "markdown",
   "id": "6daf5563",
   "metadata": {},
   "source": [
    "Below is an example."
   ]
  },
  {
   "cell_type": "markdown",
   "id": "14c8bf30",
   "metadata": {},
   "source": [
    "A call of getitem. "
   ]
  },
  {
   "cell_type": "code",
   "execution_count": 16,
   "id": "8b1e1233",
   "metadata": {},
   "outputs": [
    {
     "data": {
      "text/plain": [
       "(tensor([2.7296e-04, 6.4961e-04, 0.0000e+00, 1.6329e-03, 6.7091e-04, 1.2204e-05,\n",
       "         1.1921e-03, 3.0587e-03, 2.2691e-03, 2.7618e-03, 2.8222e-05, 0.0000e+00,\n",
       "         3.1516e-05, 9.5364e-04, 0.0000e+00, 1.5600e-03, 6.7393e-04, 4.9002e-04,\n",
       "         3.6418e-04, 4.4144e-03, 3.4815e-04, 4.1370e-05, 3.2925e-03, 8.1821e-04,\n",
       "         1.7479e-03, 2.2020e-04, 7.0674e-05, 4.8743e-03, 1.3331e-04, 6.7386e-05,\n",
       "         7.0188e-05, 2.2675e-03, 1.7251e-03, 7.4227e-04, 7.2390e-04, 6.0722e-04,\n",
       "         4.6948e-05, 5.7990e-04, 1.2781e-04, 4.3994e-04, 1.8528e-03, 2.9427e-04,\n",
       "         5.0164e-05, 3.4550e-05, 1.5201e-03, 0.0000e+00, 0.0000e+00, 1.0583e-04,\n",
       "         0.0000e+00, 9.9147e-04, 1.1185e-03, 1.0217e-03, 6.6938e-04, 1.0001e-03,\n",
       "         0.0000e+00, 5.9121e-05, 4.5511e-05, 4.1519e-04, 6.3065e-04, 1.1609e-03,\n",
       "         1.0000e+00, 1.0000e+00, 1.0000e+00, 1.0000e+00, 1.0000e+00, 1.0000e+00,\n",
       "         1.0000e+00, 1.0000e+00, 1.0000e+00, 1.0000e+00, 1.0000e+00, 1.0000e+00,\n",
       "         1.0000e+00, 1.0000e+00, 1.0000e+00, 1.0000e+00, 1.0000e+00, 1.0000e+00,\n",
       "         1.0000e+00, 1.0000e+00, 1.0000e+00, 1.0000e+00, 1.0000e+00, 1.0000e+00,\n",
       "         1.0000e+00, 1.0000e+00, 1.0000e+00, 1.0000e+00, 1.0000e+00, 1.0000e+00,\n",
       "         1.0000e+00, 1.0000e+00, 1.0000e+00, 1.0000e+00, 1.0000e+00, 1.0000e+00,\n",
       "         1.0000e+00, 1.0000e+00, 1.0000e+00, 1.0000e+00, 1.0000e+00, 1.0000e+00,\n",
       "         1.0000e+00, 1.0000e+00, 1.0000e+00, 1.0000e+00, 1.0000e+00, 1.0000e+00,\n",
       "         1.0000e+00, 1.0000e+00, 1.0000e+00, 1.0000e+00, 1.0000e+00, 1.0000e+00,\n",
       "         1.0000e+00, 1.0000e+00, 1.0000e+00, 1.0000e+00, 1.0000e+00, 1.0000e+00,\n",
       "         1.0581e-02]),\n",
       " tensor([0.0066]))"
      ]
     },
     "execution_count": 16,
     "metadata": {},
     "output_type": "execute_result"
    }
   ],
   "source": [
    "RVds_ex.__getitem__(100)"
   ]
  },
  {
   "cell_type": "markdown",
   "id": "48fce143",
   "metadata": {},
   "source": [
    "A call of len. "
   ]
  },
  {
   "cell_type": "code",
   "execution_count": 17,
   "id": "8c92bfd8",
   "metadata": {},
   "outputs": [
    {
     "data": {
      "text/plain": [
       "428932"
      ]
     },
     "execution_count": 17,
     "metadata": {},
     "output_type": "execute_result"
    }
   ],
   "source": [
    "RVds_ex.len"
   ]
  },
  {
   "cell_type": "code",
   "execution_count": 18,
   "id": "926573a0",
   "metadata": {},
   "outputs": [
    {
     "data": {
      "text/plain": [
       "428932"
      ]
     },
     "execution_count": 18,
     "metadata": {},
     "output_type": "execute_result"
    }
   ],
   "source": [
    "RVds_ex.__len__()"
   ]
  },
  {
   "cell_type": "markdown",
   "id": "4d67601b",
   "metadata": {},
   "source": [
    "A call of featuresplit that indicates name of each feature and their length. "
   ]
  },
  {
   "cell_type": "code",
   "execution_count": 19,
   "id": "c880d926",
   "metadata": {},
   "outputs": [
    {
     "data": {
      "text/plain": [
       "{'sub_int_RV': 60, 'fake_ts': 60, 'RV': 1}"
      ]
     },
     "execution_count": 19,
     "metadata": {},
     "output_type": "execute_result"
    }
   ],
   "source": [
    "RVds_ex.featuresplit"
   ]
  },
  {
   "cell_type": "markdown",
   "id": "6b040c1e",
   "metadata": {},
   "source": [
    "Example with restriction on time id."
   ]
  },
  {
   "cell_type": "code",
   "execution_count": 20,
   "id": "1f19f341",
   "metadata": {},
   "outputs": [],
   "source": [
    "RV_train[\"time_id\"]=RV_train[\"row_id\"].apply(lambda x: int(x.split(\"-\")[1]))"
   ]
  },
  {
   "cell_type": "code",
   "execution_count": 21,
   "id": "80f83670",
   "metadata": {},
   "outputs": [
    {
     "data": {
      "text/html": [
       "<div>\n",
       "<style scoped>\n",
       "    .dataframe tbody tr th:only-of-type {\n",
       "        vertical-align: middle;\n",
       "    }\n",
       "\n",
       "    .dataframe tbody tr th {\n",
       "        vertical-align: top;\n",
       "    }\n",
       "\n",
       "    .dataframe thead th {\n",
       "        text-align: right;\n",
       "    }\n",
       "</style>\n",
       "<table border=\"1\" class=\"dataframe\">\n",
       "  <thead>\n",
       "    <tr style=\"text-align: right;\">\n",
       "      <th></th>\n",
       "      <th>row_id</th>\n",
       "      <th>RV</th>\n",
       "      <th>time_id</th>\n",
       "    </tr>\n",
       "  </thead>\n",
       "  <tbody>\n",
       "    <tr>\n",
       "      <th>0</th>\n",
       "      <td>0-5</td>\n",
       "      <td>0.004499</td>\n",
       "      <td>5</td>\n",
       "    </tr>\n",
       "    <tr>\n",
       "      <th>1</th>\n",
       "      <td>0-11</td>\n",
       "      <td>0.001204</td>\n",
       "      <td>11</td>\n",
       "    </tr>\n",
       "    <tr>\n",
       "      <th>2</th>\n",
       "      <td>0-16</td>\n",
       "      <td>0.002369</td>\n",
       "      <td>16</td>\n",
       "    </tr>\n",
       "    <tr>\n",
       "      <th>3</th>\n",
       "      <td>0-31</td>\n",
       "      <td>0.002574</td>\n",
       "      <td>31</td>\n",
       "    </tr>\n",
       "    <tr>\n",
       "      <th>4</th>\n",
       "      <td>0-62</td>\n",
       "      <td>0.001894</td>\n",
       "      <td>62</td>\n",
       "    </tr>\n",
       "    <tr>\n",
       "      <th>...</th>\n",
       "      <td>...</td>\n",
       "      <td>...</td>\n",
       "      <td>...</td>\n",
       "    </tr>\n",
       "    <tr>\n",
       "      <th>428927</th>\n",
       "      <td>99-32751</td>\n",
       "      <td>0.001436</td>\n",
       "      <td>32751</td>\n",
       "    </tr>\n",
       "    <tr>\n",
       "      <th>428928</th>\n",
       "      <td>99-32753</td>\n",
       "      <td>0.001795</td>\n",
       "      <td>32753</td>\n",
       "    </tr>\n",
       "    <tr>\n",
       "      <th>428929</th>\n",
       "      <td>99-32758</td>\n",
       "      <td>0.001658</td>\n",
       "      <td>32758</td>\n",
       "    </tr>\n",
       "    <tr>\n",
       "      <th>428930</th>\n",
       "      <td>99-32763</td>\n",
       "      <td>0.002213</td>\n",
       "      <td>32763</td>\n",
       "    </tr>\n",
       "    <tr>\n",
       "      <th>428931</th>\n",
       "      <td>99-32767</td>\n",
       "      <td>0.001192</td>\n",
       "      <td>32767</td>\n",
       "    </tr>\n",
       "  </tbody>\n",
       "</table>\n",
       "<p>428932 rows × 3 columns</p>\n",
       "</div>"
      ],
      "text/plain": [
       "          row_id        RV  time_id\n",
       "0            0-5  0.004499        5\n",
       "1           0-11  0.001204       11\n",
       "2           0-16  0.002369       16\n",
       "3           0-31  0.002574       31\n",
       "4           0-62  0.001894       62\n",
       "...          ...       ...      ...\n",
       "428927  99-32751  0.001436    32751\n",
       "428928  99-32753  0.001795    32753\n",
       "428929  99-32758  0.001658    32758\n",
       "428930  99-32763  0.002213    32763\n",
       "428931  99-32767  0.001192    32767\n",
       "\n",
       "[428932 rows x 3 columns]"
      ]
     },
     "execution_count": 21,
     "metadata": {},
     "output_type": "execute_result"
    }
   ],
   "source": [
    "RV_train"
   ]
  },
  {
   "cell_type": "code",
   "execution_count": 22,
   "id": "378db45b",
   "metadata": {},
   "outputs": [],
   "source": [
    "RVds_ex_time_5=RVdataset(time_id_list=[5],tab_features=[\"RV\"],ts_features=[\"sub_int_RV\",\"fake_ts\"],df_ts_feat=book_time,df_tab_feat=RV_train,df_target=target_train)"
   ]
  },
  {
   "cell_type": "code",
   "execution_count": 23,
   "id": "6754a9e6",
   "metadata": {},
   "outputs": [
    {
     "data": {
      "text/plain": [
       "{'sub_int_RV': 60, 'fake_ts': 60, 'RV': 1}"
      ]
     },
     "execution_count": 23,
     "metadata": {},
     "output_type": "execute_result"
    }
   ],
   "source": [
    "RVds_ex_time_5.featuresplit"
   ]
  },
  {
   "cell_type": "markdown",
   "id": "5b6045b0",
   "metadata": {},
   "source": [
    "Example with restriction on stock id. "
   ]
  },
  {
   "cell_type": "code",
   "execution_count": 24,
   "id": "92b570eb",
   "metadata": {},
   "outputs": [],
   "source": [
    "RV_train[\"stock_id\"]=RV_train[\"row_id\"].apply(lambda x: int(x.split(\"-\")[0]))"
   ]
  },
  {
   "cell_type": "code",
   "execution_count": 25,
   "id": "7a30d33f",
   "metadata": {},
   "outputs": [
    {
     "data": {
      "text/html": [
       "<div>\n",
       "<style scoped>\n",
       "    .dataframe tbody tr th:only-of-type {\n",
       "        vertical-align: middle;\n",
       "    }\n",
       "\n",
       "    .dataframe tbody tr th {\n",
       "        vertical-align: top;\n",
       "    }\n",
       "\n",
       "    .dataframe thead th {\n",
       "        text-align: right;\n",
       "    }\n",
       "</style>\n",
       "<table border=\"1\" class=\"dataframe\">\n",
       "  <thead>\n",
       "    <tr style=\"text-align: right;\">\n",
       "      <th></th>\n",
       "      <th>row_id</th>\n",
       "      <th>RV</th>\n",
       "      <th>time_id</th>\n",
       "      <th>stock_id</th>\n",
       "    </tr>\n",
       "  </thead>\n",
       "  <tbody>\n",
       "    <tr>\n",
       "      <th>0</th>\n",
       "      <td>0-5</td>\n",
       "      <td>0.004499</td>\n",
       "      <td>5</td>\n",
       "      <td>0</td>\n",
       "    </tr>\n",
       "    <tr>\n",
       "      <th>1</th>\n",
       "      <td>0-11</td>\n",
       "      <td>0.001204</td>\n",
       "      <td>11</td>\n",
       "      <td>0</td>\n",
       "    </tr>\n",
       "    <tr>\n",
       "      <th>2</th>\n",
       "      <td>0-16</td>\n",
       "      <td>0.002369</td>\n",
       "      <td>16</td>\n",
       "      <td>0</td>\n",
       "    </tr>\n",
       "    <tr>\n",
       "      <th>3</th>\n",
       "      <td>0-31</td>\n",
       "      <td>0.002574</td>\n",
       "      <td>31</td>\n",
       "      <td>0</td>\n",
       "    </tr>\n",
       "    <tr>\n",
       "      <th>4</th>\n",
       "      <td>0-62</td>\n",
       "      <td>0.001894</td>\n",
       "      <td>62</td>\n",
       "      <td>0</td>\n",
       "    </tr>\n",
       "    <tr>\n",
       "      <th>...</th>\n",
       "      <td>...</td>\n",
       "      <td>...</td>\n",
       "      <td>...</td>\n",
       "      <td>...</td>\n",
       "    </tr>\n",
       "    <tr>\n",
       "      <th>428927</th>\n",
       "      <td>99-32751</td>\n",
       "      <td>0.001436</td>\n",
       "      <td>32751</td>\n",
       "      <td>99</td>\n",
       "    </tr>\n",
       "    <tr>\n",
       "      <th>428928</th>\n",
       "      <td>99-32753</td>\n",
       "      <td>0.001795</td>\n",
       "      <td>32753</td>\n",
       "      <td>99</td>\n",
       "    </tr>\n",
       "    <tr>\n",
       "      <th>428929</th>\n",
       "      <td>99-32758</td>\n",
       "      <td>0.001658</td>\n",
       "      <td>32758</td>\n",
       "      <td>99</td>\n",
       "    </tr>\n",
       "    <tr>\n",
       "      <th>428930</th>\n",
       "      <td>99-32763</td>\n",
       "      <td>0.002213</td>\n",
       "      <td>32763</td>\n",
       "      <td>99</td>\n",
       "    </tr>\n",
       "    <tr>\n",
       "      <th>428931</th>\n",
       "      <td>99-32767</td>\n",
       "      <td>0.001192</td>\n",
       "      <td>32767</td>\n",
       "      <td>99</td>\n",
       "    </tr>\n",
       "  </tbody>\n",
       "</table>\n",
       "<p>428932 rows × 4 columns</p>\n",
       "</div>"
      ],
      "text/plain": [
       "          row_id        RV  time_id  stock_id\n",
       "0            0-5  0.004499        5         0\n",
       "1           0-11  0.001204       11         0\n",
       "2           0-16  0.002369       16         0\n",
       "3           0-31  0.002574       31         0\n",
       "4           0-62  0.001894       62         0\n",
       "...          ...       ...      ...       ...\n",
       "428927  99-32751  0.001436    32751        99\n",
       "428928  99-32753  0.001795    32753        99\n",
       "428929  99-32758  0.001658    32758        99\n",
       "428930  99-32763  0.002213    32763        99\n",
       "428931  99-32767  0.001192    32767        99\n",
       "\n",
       "[428932 rows x 4 columns]"
      ]
     },
     "execution_count": 25,
     "metadata": {},
     "output_type": "execute_result"
    }
   ],
   "source": [
    "RV_train"
   ]
  },
  {
   "cell_type": "code",
   "execution_count": 26,
   "id": "b7ed6f7f",
   "metadata": {},
   "outputs": [],
   "source": [
    "RVds_ex_stock_0=RVdataset(stock_id_list=[0],tab_features=[\"RV\"],ts_features=[\"sub_int_RV\",\"fake_ts\"],df_ts_feat=book_time,df_tab_feat=RV_train,df_target=target_train)"
   ]
  },
  {
   "cell_type": "code",
   "execution_count": 27,
   "id": "567c5bd1",
   "metadata": {},
   "outputs": [
    {
     "data": {
      "text/plain": [
       "3830"
      ]
     },
     "execution_count": 27,
     "metadata": {},
     "output_type": "execute_result"
    }
   ],
   "source": [
    "RVds_ex_stock_0.len"
   ]
  },
  {
   "cell_type": "markdown",
   "id": "7cadbaa5",
   "metadata": {},
   "source": [
    "Example of restriction on both stock and time id. "
   ]
  },
  {
   "cell_type": "code",
   "execution_count": 28,
   "id": "aad29e8a",
   "metadata": {},
   "outputs": [],
   "source": [
    "RVds_ex_99_9976=RVdataset(time_id_list=[9976],stock_id_list=[99],tab_features=[\"RV\"],ts_features=[\"sub_int_RV\",\"fake_ts\"],df_ts_feat=book_time,df_tab_feat=RV_train,df_target=target_train)"
   ]
  },
  {
   "cell_type": "code",
   "execution_count": 29,
   "id": "a762d0f0",
   "metadata": {},
   "outputs": [
    {
     "data": {
      "text/plain": [
       "1"
      ]
     },
     "execution_count": 29,
     "metadata": {},
     "output_type": "execute_result"
    }
   ],
   "source": [
    "RVds_ex_99_9976.len"
   ]
  }
 ],
 "metadata": {
  "kernelspec": {
   "display_name": "deep_learning_3_11_8",
   "language": "python",
   "name": "python3"
  },
  "language_info": {
   "codemirror_mode": {
    "name": "ipython",
    "version": 3
   },
   "file_extension": ".py",
   "mimetype": "text/x-python",
   "name": "python",
   "nbconvert_exporter": "python",
   "pygments_lexer": "ipython3",
   "version": "3.11.8"
  }
 },
 "nbformat": 4,
 "nbformat_minor": 5
}
