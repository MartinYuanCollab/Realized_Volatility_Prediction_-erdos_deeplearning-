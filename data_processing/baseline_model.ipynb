{
 "cells": [
  {
   "cell_type": "markdown",
   "id": "d40a7980",
   "metadata": {},
   "source": [
    "## Baseline model \n",
    "\n",
    "This model is a simple Linear regression with parameter of current RV for the target of future RV. "
   ]
  },
  {
   "cell_type": "code",
   "execution_count": 1,
   "id": "7e84f3c3",
   "metadata": {},
   "outputs": [
    {
     "name": "stdout",
     "output_type": "stream",
     "text": [
      "In fold 0 :\n",
      "\n",
      "Train set end at 8117 .\n",
      "\n",
      "Test set start at 15516 end at 10890 .\n",
      "\n"
     ]
    }
   ],
   "source": [
    "import sys, importlib\n",
    "import torch \n",
    "import torch.nn as nn\n",
    "import numpy as np\n",
    "import pandas as pd\n",
    "import copy\n",
    "import time\n",
    "\n",
    "sys.path.append(\"../\")\n",
    "from proj_mod import training, data_processing\n",
    "importlib.reload(training);\n",
    "importlib.reload(data_processing);\n",
    "\n",
    "# First build an approximate RV feature\n",
    "path_book=\"../raw_data/kaggle_ORVP/book_train.parquet\"\n",
    "df_rv=data_processing.create_df_RV_by_row_id_parallel(path_book)\n",
    "\n",
    "df_target=pd.read_csv(\"../raw_data/kaggle_ORVP/train.csv\")\n",
    "df_target[\"row_id\"]=df_target[\"stock_id\"].astype(int).astype(str)+\"-\"+df_target[\"time_id\"].astype(int).astype(str)\n",
    "\n",
    "list_time=np.load(\"../processed_data/recovered_time_id_order.npy\")\n",
    "\n",
    "time_split_list=data_processing.time_cross_val_split(list_time=list_time,n_split=1,percent_val_size=10,list_output=True)\n",
    "train_time_id,test_time_id=time_split_list[0][0],time_split_list[0][1]\n",
    "\n",
    "# Then merge with target dataframe\n",
    "df_rv_target=pd.merge(df_target, df_rv, on=[\"row_id\",\"time_id\",\"stock_id\"])\n",
    "\n",
    "train_dataset_base = df_rv_target.loc[df_rv_target['time_id'].isin(train_time_id), ['RV','target','row_id']].set_index('row_id')\n",
    "test_dataset_base = df_rv_target.loc[df_rv_target['time_id'].isin(test_time_id), ['RV','target','row_id']].set_index('row_id')"
   ]
  },
  {
   "cell_type": "code",
   "execution_count": 2,
   "id": "6767edd6",
   "metadata": {},
   "outputs": [
    {
     "name": "stdout",
     "output_type": "stream",
     "text": [
      "The losses for training and validation data are: 0.3019 and 0.2678\n"
     ]
    }
   ],
   "source": [
    "from sklearn.linear_model import LinearRegression\n",
    "\n",
    "X_train=train_dataset_base[['RV']]\n",
    "y_train=train_dataset_base['target']\n",
    "\n",
    "X_test=test_dataset_base[['RV']]\n",
    "y_test=test_dataset_base['target']\n",
    "\n",
    "model= LinearRegression()\n",
    "model.fit(X_train,y_train)\n",
    "\n",
    "training_loss = training.rmspe(model.predict(X_train),y_train)\n",
    "validation_loss = training.rmspe(model.predict(X_test),y_test)\n",
    "\n",
    "print(\"The losses for training and validation data are: {:.4f} and {:.4f}\".format(training_loss, validation_loss))"
   ]
  }
 ],
 "metadata": {
  "kernelspec": {
   "display_name": "deep_learning_3_11_8",
   "language": "python",
   "name": "python3"
  },
  "language_info": {
   "codemirror_mode": {
    "name": "ipython",
    "version": 3
   },
   "file_extension": ".py",
   "mimetype": "text/x-python",
   "name": "python",
   "nbconvert_exporter": "python",
   "pygments_lexer": "ipython3",
   "version": "3.11.8"
  }
 },
 "nbformat": 4,
 "nbformat_minor": 5
}
