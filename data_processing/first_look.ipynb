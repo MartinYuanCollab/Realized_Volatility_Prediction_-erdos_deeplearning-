{
 "cells": [
  {
   "cell_type": "code",
   "execution_count": 1,
   "id": "81fa9a48",
   "metadata": {},
   "outputs": [],
   "source": [
    "import pandas as pd"
   ]
  },
  {
   "cell_type": "markdown",
   "id": "3553e08f",
   "metadata": {},
   "source": [
    "The file train.csv should contain the time_id and stock_id that indicates the training set of the data. This is the ONLY competition data that we can train with. Notice that the target of the training set is only contained in this file, and can not be directly recreated from the parquet files. "
   ]
  },
  {
   "cell_type": "code",
   "execution_count": 2,
   "id": "d5256002",
   "metadata": {},
   "outputs": [],
   "source": [
    "df_train=pd.read_csv(\"../raw_data/kaggle_ORVP/train.csv\")"
   ]
  },
  {
   "cell_type": "code",
   "execution_count": 3,
   "id": "129a7128",
   "metadata": {},
   "outputs": [
    {
     "data": {
      "text/html": [
       "<div>\n",
       "<style scoped>\n",
       "    .dataframe tbody tr th:only-of-type {\n",
       "        vertical-align: middle;\n",
       "    }\n",
       "\n",
       "    .dataframe tbody tr th {\n",
       "        vertical-align: top;\n",
       "    }\n",
       "\n",
       "    .dataframe thead th {\n",
       "        text-align: right;\n",
       "    }\n",
       "</style>\n",
       "<table border=\"1\" class=\"dataframe\">\n",
       "  <thead>\n",
       "    <tr style=\"text-align: right;\">\n",
       "      <th></th>\n",
       "      <th>stock_id</th>\n",
       "      <th>time_id</th>\n",
       "      <th>target</th>\n",
       "    </tr>\n",
       "  </thead>\n",
       "  <tbody>\n",
       "    <tr>\n",
       "      <th>0</th>\n",
       "      <td>0</td>\n",
       "      <td>5</td>\n",
       "      <td>0.004136</td>\n",
       "    </tr>\n",
       "    <tr>\n",
       "      <th>1</th>\n",
       "      <td>0</td>\n",
       "      <td>11</td>\n",
       "      <td>0.001445</td>\n",
       "    </tr>\n",
       "    <tr>\n",
       "      <th>2</th>\n",
       "      <td>0</td>\n",
       "      <td>16</td>\n",
       "      <td>0.002168</td>\n",
       "    </tr>\n",
       "    <tr>\n",
       "      <th>3</th>\n",
       "      <td>0</td>\n",
       "      <td>31</td>\n",
       "      <td>0.002195</td>\n",
       "    </tr>\n",
       "    <tr>\n",
       "      <th>4</th>\n",
       "      <td>0</td>\n",
       "      <td>62</td>\n",
       "      <td>0.001747</td>\n",
       "    </tr>\n",
       "    <tr>\n",
       "      <th>...</th>\n",
       "      <td>...</td>\n",
       "      <td>...</td>\n",
       "      <td>...</td>\n",
       "    </tr>\n",
       "    <tr>\n",
       "      <th>428927</th>\n",
       "      <td>126</td>\n",
       "      <td>32751</td>\n",
       "      <td>0.003461</td>\n",
       "    </tr>\n",
       "    <tr>\n",
       "      <th>428928</th>\n",
       "      <td>126</td>\n",
       "      <td>32753</td>\n",
       "      <td>0.003113</td>\n",
       "    </tr>\n",
       "    <tr>\n",
       "      <th>428929</th>\n",
       "      <td>126</td>\n",
       "      <td>32758</td>\n",
       "      <td>0.004070</td>\n",
       "    </tr>\n",
       "    <tr>\n",
       "      <th>428930</th>\n",
       "      <td>126</td>\n",
       "      <td>32763</td>\n",
       "      <td>0.003357</td>\n",
       "    </tr>\n",
       "    <tr>\n",
       "      <th>428931</th>\n",
       "      <td>126</td>\n",
       "      <td>32767</td>\n",
       "      <td>0.002090</td>\n",
       "    </tr>\n",
       "  </tbody>\n",
       "</table>\n",
       "<p>428932 rows × 3 columns</p>\n",
       "</div>"
      ],
      "text/plain": [
       "        stock_id  time_id    target\n",
       "0              0        5  0.004136\n",
       "1              0       11  0.001445\n",
       "2              0       16  0.002168\n",
       "3              0       31  0.002195\n",
       "4              0       62  0.001747\n",
       "...          ...      ...       ...\n",
       "428927       126    32751  0.003461\n",
       "428928       126    32753  0.003113\n",
       "428929       126    32758  0.004070\n",
       "428930       126    32763  0.003357\n",
       "428931       126    32767  0.002090\n",
       "\n",
       "[428932 rows x 3 columns]"
      ]
     },
     "execution_count": 3,
     "metadata": {},
     "output_type": "execute_result"
    }
   ],
   "source": [
    "df_train"
   ]
  },
  {
   "cell_type": "markdown",
   "id": "531189ee",
   "metadata": {},
   "source": [
    "The file test.csv should contain the time_id and stock_id for test set when submitted to kaggle. "
   ]
  },
  {
   "cell_type": "code",
   "execution_count": 4,
   "id": "55efdc6c",
   "metadata": {},
   "outputs": [],
   "source": [
    "df_test=pd.read_csv(\"../raw_data/kaggle_ORVP/test.csv\")"
   ]
  },
  {
   "cell_type": "code",
   "execution_count": 5,
   "id": "45fc7bcd",
   "metadata": {},
   "outputs": [
    {
     "data": {
      "text/html": [
       "<div>\n",
       "<style scoped>\n",
       "    .dataframe tbody tr th:only-of-type {\n",
       "        vertical-align: middle;\n",
       "    }\n",
       "\n",
       "    .dataframe tbody tr th {\n",
       "        vertical-align: top;\n",
       "    }\n",
       "\n",
       "    .dataframe thead th {\n",
       "        text-align: right;\n",
       "    }\n",
       "</style>\n",
       "<table border=\"1\" class=\"dataframe\">\n",
       "  <thead>\n",
       "    <tr style=\"text-align: right;\">\n",
       "      <th></th>\n",
       "      <th>stock_id</th>\n",
       "      <th>time_id</th>\n",
       "      <th>row_id</th>\n",
       "    </tr>\n",
       "  </thead>\n",
       "  <tbody>\n",
       "    <tr>\n",
       "      <th>0</th>\n",
       "      <td>0</td>\n",
       "      <td>4</td>\n",
       "      <td>0-4</td>\n",
       "    </tr>\n",
       "    <tr>\n",
       "      <th>1</th>\n",
       "      <td>0</td>\n",
       "      <td>32</td>\n",
       "      <td>0-32</td>\n",
       "    </tr>\n",
       "    <tr>\n",
       "      <th>2</th>\n",
       "      <td>0</td>\n",
       "      <td>34</td>\n",
       "      <td>0-34</td>\n",
       "    </tr>\n",
       "  </tbody>\n",
       "</table>\n",
       "</div>"
      ],
      "text/plain": [
       "   stock_id  time_id row_id\n",
       "0         0        4    0-4\n",
       "1         0       32   0-32\n",
       "2         0       34   0-34"
      ]
     },
     "execution_count": 5,
     "metadata": {},
     "output_type": "execute_result"
    }
   ],
   "source": [
    "df_test"
   ]
  },
  {
   "cell_type": "markdown",
   "id": "55cbdec7",
   "metadata": {},
   "source": [
    "Data structure of the dataset is extensively explained within https://www.kaggle.com/code/jiashenliu/introduction-to-financial-concepts-and-data?scriptVersionId=67183666#Competition-data. \n",
    "\n",
    "Furthermore, one might want to follow https://www.kaggle.com/code/stassl/recovering-time-id-order to \"recover\" the time-id order. It might be ill-advised to trust this \"recovery\" fully to the extent of using it as time-series parameters in training, but we can use the recovered order in cross validation to avoid \"using future to predict the past\". \n",
    "\n",
    "We will first process the data, creating functions that generate targets and parameters. We will use the \"previous RVP\" as absolute baseline model in training. We will then try our best to recreate the best solution on kaggle leaderboard according to https://www.kaggle.com/competitions/optiver-realized-volatility-prediction/discussion/274970. After which, we will attempt at creating our own NN model, hopefully improving upon the best solution model. "
   ]
  },
  {
   "cell_type": "code",
   "execution_count": 6,
   "id": "4c51d436",
   "metadata": {},
   "outputs": [],
   "source": [
    "df_book_0=pd.read_parquet(\"../raw_data/kaggle_ORVP/book_train.parquet/stock_id=0\")"
   ]
  },
  {
   "cell_type": "code",
   "execution_count": 7,
   "id": "928adcde",
   "metadata": {},
   "outputs": [
    {
     "data": {
      "text/html": [
       "<div>\n",
       "<style scoped>\n",
       "    .dataframe tbody tr th:only-of-type {\n",
       "        vertical-align: middle;\n",
       "    }\n",
       "\n",
       "    .dataframe tbody tr th {\n",
       "        vertical-align: top;\n",
       "    }\n",
       "\n",
       "    .dataframe thead th {\n",
       "        text-align: right;\n",
       "    }\n",
       "</style>\n",
       "<table border=\"1\" class=\"dataframe\">\n",
       "  <thead>\n",
       "    <tr style=\"text-align: right;\">\n",
       "      <th></th>\n",
       "      <th>time_id</th>\n",
       "      <th>seconds_in_bucket</th>\n",
       "      <th>bid_price1</th>\n",
       "      <th>ask_price1</th>\n",
       "      <th>bid_price2</th>\n",
       "      <th>ask_price2</th>\n",
       "      <th>bid_size1</th>\n",
       "      <th>ask_size1</th>\n",
       "      <th>bid_size2</th>\n",
       "      <th>ask_size2</th>\n",
       "    </tr>\n",
       "  </thead>\n",
       "  <tbody>\n",
       "    <tr>\n",
       "      <th>0</th>\n",
       "      <td>5</td>\n",
       "      <td>0</td>\n",
       "      <td>1.001422</td>\n",
       "      <td>1.002301</td>\n",
       "      <td>1.00137</td>\n",
       "      <td>1.002353</td>\n",
       "      <td>3</td>\n",
       "      <td>226</td>\n",
       "      <td>2</td>\n",
       "      <td>100</td>\n",
       "    </tr>\n",
       "    <tr>\n",
       "      <th>1</th>\n",
       "      <td>5</td>\n",
       "      <td>1</td>\n",
       "      <td>1.001422</td>\n",
       "      <td>1.002301</td>\n",
       "      <td>1.00137</td>\n",
       "      <td>1.002353</td>\n",
       "      <td>3</td>\n",
       "      <td>100</td>\n",
       "      <td>2</td>\n",
       "      <td>100</td>\n",
       "    </tr>\n",
       "    <tr>\n",
       "      <th>2</th>\n",
       "      <td>5</td>\n",
       "      <td>5</td>\n",
       "      <td>1.001422</td>\n",
       "      <td>1.002301</td>\n",
       "      <td>1.00137</td>\n",
       "      <td>1.002405</td>\n",
       "      <td>3</td>\n",
       "      <td>100</td>\n",
       "      <td>2</td>\n",
       "      <td>100</td>\n",
       "    </tr>\n",
       "    <tr>\n",
       "      <th>3</th>\n",
       "      <td>5</td>\n",
       "      <td>6</td>\n",
       "      <td>1.001422</td>\n",
       "      <td>1.002301</td>\n",
       "      <td>1.00137</td>\n",
       "      <td>1.002405</td>\n",
       "      <td>3</td>\n",
       "      <td>126</td>\n",
       "      <td>2</td>\n",
       "      <td>100</td>\n",
       "    </tr>\n",
       "    <tr>\n",
       "      <th>4</th>\n",
       "      <td>5</td>\n",
       "      <td>7</td>\n",
       "      <td>1.001422</td>\n",
       "      <td>1.002301</td>\n",
       "      <td>1.00137</td>\n",
       "      <td>1.002405</td>\n",
       "      <td>3</td>\n",
       "      <td>126</td>\n",
       "      <td>2</td>\n",
       "      <td>100</td>\n",
       "    </tr>\n",
       "  </tbody>\n",
       "</table>\n",
       "</div>"
      ],
      "text/plain": [
       "   time_id  seconds_in_bucket  bid_price1  ask_price1  bid_price2  ask_price2  \\\n",
       "0        5                  0    1.001422    1.002301     1.00137    1.002353   \n",
       "1        5                  1    1.001422    1.002301     1.00137    1.002353   \n",
       "2        5                  5    1.001422    1.002301     1.00137    1.002405   \n",
       "3        5                  6    1.001422    1.002301     1.00137    1.002405   \n",
       "4        5                  7    1.001422    1.002301     1.00137    1.002405   \n",
       "\n",
       "   bid_size1  ask_size1  bid_size2  ask_size2  \n",
       "0          3        226          2        100  \n",
       "1          3        100          2        100  \n",
       "2          3        100          2        100  \n",
       "3          3        126          2        100  \n",
       "4          3        126          2        100  "
      ]
     },
     "execution_count": 7,
     "metadata": {},
     "output_type": "execute_result"
    }
   ],
   "source": [
    "df_book_0.head()"
   ]
  },
  {
   "cell_type": "code",
   "execution_count": 8,
   "id": "2f09990a",
   "metadata": {},
   "outputs": [
    {
     "data": {
      "text/plain": [
       "array([    5,    11,    16, ..., 32758, 32763, 32767], dtype=int16)"
      ]
     },
     "execution_count": 8,
     "metadata": {},
     "output_type": "execute_result"
    }
   ],
   "source": [
    "df_book_0[\"time_id\"].unique()"
   ]
  },
  {
   "cell_type": "code",
   "execution_count": null,
   "id": "3b691bf1-bf6b-4e3f-bdf6-de95380b3f9b",
   "metadata": {},
   "outputs": [],
   "source": []
  }
 ],
 "metadata": {
  "kernelspec": {
   "display_name": "Python 3 (ipykernel)",
   "language": "python",
   "name": "python3"
  },
  "language_info": {
   "codemirror_mode": {
    "name": "ipython",
    "version": 3
   },
   "file_extension": ".py",
   "mimetype": "text/x-python",
   "name": "python",
   "nbconvert_exporter": "python",
   "pygments_lexer": "ipython3",
   "version": "3.10.12"
  }
 },
 "nbformat": 4,
 "nbformat_minor": 5
}
