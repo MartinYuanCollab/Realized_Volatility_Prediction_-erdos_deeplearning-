{
 "cells": [
  {
   "cell_type": "markdown",
   "id": "2c3fac29",
   "metadata": {},
   "source": [
    "In this document, we will collect the data processing functions. The functions themselves will be stored within ../proj_mod/data_processing.py where proj_mod can be imported as a python module when needed. Following two python block surves as an example of importing proj_mod. "
   ]
  },
  {
   "cell_type": "code",
   "execution_count": 1,
   "id": "fd4586dd",
   "metadata": {},
   "outputs": [],
   "source": [
    "import sys\n",
    "sys.path.append(\"../\")"
   ]
  },
  {
   "cell_type": "code",
   "execution_count": 2,
   "id": "6b2bd820",
   "metadata": {},
   "outputs": [],
   "source": [
    "import pandas as pd"
   ]
  },
  {
   "cell_type": "code",
   "execution_count": 3,
   "id": "c7c07d09",
   "metadata": {},
   "outputs": [],
   "source": [
    "import numpy as np"
   ]
  },
  {
   "cell_type": "code",
   "execution_count": 4,
   "id": "eba17581",
   "metadata": {},
   "outputs": [],
   "source": [
    "from proj_mod import data_processing"
   ]
  },
  {
   "cell_type": "markdown",
   "id": "f00b4c64",
   "metadata": {},
   "source": [
    "## Book data harvesting function by stock and time id"
   ]
  },
  {
   "cell_type": "markdown",
   "id": "492acc23",
   "metadata": {},
   "source": [
    "We will first demonstrate the function book_for_stock(). "
   ]
  },
  {
   "cell_type": "code",
   "execution_count": 5,
   "id": "56692f27",
   "metadata": {},
   "outputs": [],
   "source": [
    "df_book_0_5=data_processing.book_for_stock(str_file_path=\"../raw_data/kaggle_ORVP/book_train.parquet\",stock_id=0,time_id=5)"
   ]
  },
  {
   "cell_type": "code",
   "execution_count": 6,
   "id": "4533a6e7",
   "metadata": {},
   "outputs": [
    {
     "data": {
      "text/html": [
       "<div>\n",
       "<style scoped>\n",
       "    .dataframe tbody tr th:only-of-type {\n",
       "        vertical-align: middle;\n",
       "    }\n",
       "\n",
       "    .dataframe tbody tr th {\n",
       "        vertical-align: top;\n",
       "    }\n",
       "\n",
       "    .dataframe thead th {\n",
       "        text-align: right;\n",
       "    }\n",
       "</style>\n",
       "<table border=\"1\" class=\"dataframe\">\n",
       "  <thead>\n",
       "    <tr style=\"text-align: right;\">\n",
       "      <th></th>\n",
       "      <th>index</th>\n",
       "      <th>time_id</th>\n",
       "      <th>seconds_in_bucket</th>\n",
       "      <th>bid_price1</th>\n",
       "      <th>ask_price1</th>\n",
       "      <th>bid_price2</th>\n",
       "      <th>ask_price2</th>\n",
       "      <th>bid_size1</th>\n",
       "      <th>ask_size1</th>\n",
       "      <th>bid_size2</th>\n",
       "      <th>ask_size2</th>\n",
       "      <th>stock_id</th>\n",
       "      <th>wap</th>\n",
       "      <th>log_return</th>\n",
       "    </tr>\n",
       "  </thead>\n",
       "  <tbody>\n",
       "    <tr>\n",
       "      <th>0</th>\n",
       "      <td>1</td>\n",
       "      <td>5</td>\n",
       "      <td>1</td>\n",
       "      <td>1.001422</td>\n",
       "      <td>1.002301</td>\n",
       "      <td>1.001370</td>\n",
       "      <td>1.002353</td>\n",
       "      <td>3</td>\n",
       "      <td>100</td>\n",
       "      <td>2</td>\n",
       "      <td>100</td>\n",
       "      <td>0</td>\n",
       "      <td>1.001448</td>\n",
       "      <td>0.000014</td>\n",
       "    </tr>\n",
       "    <tr>\n",
       "      <th>1</th>\n",
       "      <td>2</td>\n",
       "      <td>5</td>\n",
       "      <td>5</td>\n",
       "      <td>1.001422</td>\n",
       "      <td>1.002301</td>\n",
       "      <td>1.001370</td>\n",
       "      <td>1.002405</td>\n",
       "      <td>3</td>\n",
       "      <td>100</td>\n",
       "      <td>2</td>\n",
       "      <td>100</td>\n",
       "      <td>0</td>\n",
       "      <td>1.001448</td>\n",
       "      <td>0.000000</td>\n",
       "    </tr>\n",
       "    <tr>\n",
       "      <th>2</th>\n",
       "      <td>3</td>\n",
       "      <td>5</td>\n",
       "      <td>6</td>\n",
       "      <td>1.001422</td>\n",
       "      <td>1.002301</td>\n",
       "      <td>1.001370</td>\n",
       "      <td>1.002405</td>\n",
       "      <td>3</td>\n",
       "      <td>126</td>\n",
       "      <td>2</td>\n",
       "      <td>100</td>\n",
       "      <td>0</td>\n",
       "      <td>1.001443</td>\n",
       "      <td>-0.000005</td>\n",
       "    </tr>\n",
       "    <tr>\n",
       "      <th>3</th>\n",
       "      <td>4</td>\n",
       "      <td>5</td>\n",
       "      <td>7</td>\n",
       "      <td>1.001422</td>\n",
       "      <td>1.002301</td>\n",
       "      <td>1.001370</td>\n",
       "      <td>1.002405</td>\n",
       "      <td>3</td>\n",
       "      <td>126</td>\n",
       "      <td>2</td>\n",
       "      <td>100</td>\n",
       "      <td>0</td>\n",
       "      <td>1.001443</td>\n",
       "      <td>0.000000</td>\n",
       "    </tr>\n",
       "    <tr>\n",
       "      <th>4</th>\n",
       "      <td>5</td>\n",
       "      <td>5</td>\n",
       "      <td>11</td>\n",
       "      <td>1.001422</td>\n",
       "      <td>1.002301</td>\n",
       "      <td>1.001370</td>\n",
       "      <td>1.002405</td>\n",
       "      <td>3</td>\n",
       "      <td>100</td>\n",
       "      <td>2</td>\n",
       "      <td>100</td>\n",
       "      <td>0</td>\n",
       "      <td>1.001448</td>\n",
       "      <td>0.000005</td>\n",
       "    </tr>\n",
       "    <tr>\n",
       "      <th>...</th>\n",
       "      <td>...</td>\n",
       "      <td>...</td>\n",
       "      <td>...</td>\n",
       "      <td>...</td>\n",
       "      <td>...</td>\n",
       "      <td>...</td>\n",
       "      <td>...</td>\n",
       "      <td>...</td>\n",
       "      <td>...</td>\n",
       "      <td>...</td>\n",
       "      <td>...</td>\n",
       "      <td>...</td>\n",
       "      <td>...</td>\n",
       "      <td>...</td>\n",
       "    </tr>\n",
       "    <tr>\n",
       "      <th>296</th>\n",
       "      <td>297</td>\n",
       "      <td>5</td>\n",
       "      <td>585</td>\n",
       "      <td>1.003129</td>\n",
       "      <td>1.003749</td>\n",
       "      <td>1.003025</td>\n",
       "      <td>1.003801</td>\n",
       "      <td>100</td>\n",
       "      <td>3</td>\n",
       "      <td>26</td>\n",
       "      <td>3</td>\n",
       "      <td>0</td>\n",
       "      <td>1.003731</td>\n",
       "      <td>0.000245</td>\n",
       "    </tr>\n",
       "    <tr>\n",
       "      <th>297</th>\n",
       "      <td>298</td>\n",
       "      <td>5</td>\n",
       "      <td>586</td>\n",
       "      <td>1.003129</td>\n",
       "      <td>1.003749</td>\n",
       "      <td>1.002612</td>\n",
       "      <td>1.003801</td>\n",
       "      <td>100</td>\n",
       "      <td>3</td>\n",
       "      <td>2</td>\n",
       "      <td>3</td>\n",
       "      <td>0</td>\n",
       "      <td>1.003731</td>\n",
       "      <td>0.000000</td>\n",
       "    </tr>\n",
       "    <tr>\n",
       "      <th>298</th>\n",
       "      <td>299</td>\n",
       "      <td>5</td>\n",
       "      <td>587</td>\n",
       "      <td>1.003129</td>\n",
       "      <td>1.003749</td>\n",
       "      <td>1.003025</td>\n",
       "      <td>1.003801</td>\n",
       "      <td>100</td>\n",
       "      <td>3</td>\n",
       "      <td>26</td>\n",
       "      <td>3</td>\n",
       "      <td>0</td>\n",
       "      <td>1.003731</td>\n",
       "      <td>0.000000</td>\n",
       "    </tr>\n",
       "    <tr>\n",
       "      <th>299</th>\n",
       "      <td>300</td>\n",
       "      <td>5</td>\n",
       "      <td>588</td>\n",
       "      <td>1.003129</td>\n",
       "      <td>1.003749</td>\n",
       "      <td>1.002612</td>\n",
       "      <td>1.003801</td>\n",
       "      <td>100</td>\n",
       "      <td>3</td>\n",
       "      <td>2</td>\n",
       "      <td>3</td>\n",
       "      <td>0</td>\n",
       "      <td>1.003731</td>\n",
       "      <td>0.000000</td>\n",
       "    </tr>\n",
       "    <tr>\n",
       "      <th>300</th>\n",
       "      <td>301</td>\n",
       "      <td>5</td>\n",
       "      <td>593</td>\n",
       "      <td>1.003129</td>\n",
       "      <td>1.003749</td>\n",
       "      <td>1.003025</td>\n",
       "      <td>1.003801</td>\n",
       "      <td>100</td>\n",
       "      <td>3</td>\n",
       "      <td>26</td>\n",
       "      <td>3</td>\n",
       "      <td>0</td>\n",
       "      <td>1.003731</td>\n",
       "      <td>0.000000</td>\n",
       "    </tr>\n",
       "  </tbody>\n",
       "</table>\n",
       "<p>301 rows × 14 columns</p>\n",
       "</div>"
      ],
      "text/plain": [
       "     index  time_id  seconds_in_bucket  bid_price1  ask_price1  bid_price2  \\\n",
       "0        1        5                  1    1.001422    1.002301    1.001370   \n",
       "1        2        5                  5    1.001422    1.002301    1.001370   \n",
       "2        3        5                  6    1.001422    1.002301    1.001370   \n",
       "3        4        5                  7    1.001422    1.002301    1.001370   \n",
       "4        5        5                 11    1.001422    1.002301    1.001370   \n",
       "..     ...      ...                ...         ...         ...         ...   \n",
       "296    297        5                585    1.003129    1.003749    1.003025   \n",
       "297    298        5                586    1.003129    1.003749    1.002612   \n",
       "298    299        5                587    1.003129    1.003749    1.003025   \n",
       "299    300        5                588    1.003129    1.003749    1.002612   \n",
       "300    301        5                593    1.003129    1.003749    1.003025   \n",
       "\n",
       "     ask_price2  bid_size1  ask_size1  bid_size2  ask_size2  stock_id  \\\n",
       "0      1.002353          3        100          2        100         0   \n",
       "1      1.002405          3        100          2        100         0   \n",
       "2      1.002405          3        126          2        100         0   \n",
       "3      1.002405          3        126          2        100         0   \n",
       "4      1.002405          3        100          2        100         0   \n",
       "..          ...        ...        ...        ...        ...       ...   \n",
       "296    1.003801        100          3         26          3         0   \n",
       "297    1.003801        100          3          2          3         0   \n",
       "298    1.003801        100          3         26          3         0   \n",
       "299    1.003801        100          3          2          3         0   \n",
       "300    1.003801        100          3         26          3         0   \n",
       "\n",
       "          wap  log_return  \n",
       "0    1.001448    0.000014  \n",
       "1    1.001448    0.000000  \n",
       "2    1.001443   -0.000005  \n",
       "3    1.001443    0.000000  \n",
       "4    1.001448    0.000005  \n",
       "..        ...         ...  \n",
       "296  1.003731    0.000245  \n",
       "297  1.003731    0.000000  \n",
       "298  1.003731    0.000000  \n",
       "299  1.003731    0.000000  \n",
       "300  1.003731    0.000000  \n",
       "\n",
       "[301 rows x 14 columns]"
      ]
     },
     "execution_count": 6,
     "metadata": {},
     "output_type": "execute_result"
    }
   ],
   "source": [
    "df_book_0_5"
   ]
  },
  {
   "cell_type": "markdown",
   "id": "cf035689",
   "metadata": {},
   "source": [
    "## Trade data harvesting function by stock and time id. "
   ]
  },
  {
   "cell_type": "markdown",
   "id": "600e39c3",
   "metadata": {},
   "source": [
    "Function trade_for_stock() is similar. "
   ]
  },
  {
   "cell_type": "code",
   "execution_count": 7,
   "id": "3f0e97e8",
   "metadata": {},
   "outputs": [],
   "source": [
    "df_trade_0_5=data_processing.trade_for_stock(str_file_path=\"../raw_data/kaggle_ORVP/trade_train.parquet\",stock_id=0,time_id=5)"
   ]
  },
  {
   "cell_type": "code",
   "execution_count": 8,
   "id": "993eeb3e",
   "metadata": {},
   "outputs": [
    {
     "data": {
      "text/html": [
       "<div>\n",
       "<style scoped>\n",
       "    .dataframe tbody tr th:only-of-type {\n",
       "        vertical-align: middle;\n",
       "    }\n",
       "\n",
       "    .dataframe tbody tr th {\n",
       "        vertical-align: top;\n",
       "    }\n",
       "\n",
       "    .dataframe thead th {\n",
       "        text-align: right;\n",
       "    }\n",
       "</style>\n",
       "<table border=\"1\" class=\"dataframe\">\n",
       "  <thead>\n",
       "    <tr style=\"text-align: right;\">\n",
       "      <th></th>\n",
       "      <th>time_id</th>\n",
       "      <th>seconds_in_bucket</th>\n",
       "      <th>price</th>\n",
       "      <th>size</th>\n",
       "      <th>order_count</th>\n",
       "      <th>stock_id</th>\n",
       "    </tr>\n",
       "  </thead>\n",
       "  <tbody>\n",
       "    <tr>\n",
       "      <th>0</th>\n",
       "      <td>5</td>\n",
       "      <td>21</td>\n",
       "      <td>1.002301</td>\n",
       "      <td>326</td>\n",
       "      <td>12</td>\n",
       "      <td>0</td>\n",
       "    </tr>\n",
       "    <tr>\n",
       "      <th>1</th>\n",
       "      <td>5</td>\n",
       "      <td>46</td>\n",
       "      <td>1.002778</td>\n",
       "      <td>128</td>\n",
       "      <td>4</td>\n",
       "      <td>0</td>\n",
       "    </tr>\n",
       "    <tr>\n",
       "      <th>2</th>\n",
       "      <td>5</td>\n",
       "      <td>50</td>\n",
       "      <td>1.002818</td>\n",
       "      <td>55</td>\n",
       "      <td>1</td>\n",
       "      <td>0</td>\n",
       "    </tr>\n",
       "    <tr>\n",
       "      <th>3</th>\n",
       "      <td>5</td>\n",
       "      <td>57</td>\n",
       "      <td>1.003155</td>\n",
       "      <td>121</td>\n",
       "      <td>5</td>\n",
       "      <td>0</td>\n",
       "    </tr>\n",
       "    <tr>\n",
       "      <th>4</th>\n",
       "      <td>5</td>\n",
       "      <td>68</td>\n",
       "      <td>1.003646</td>\n",
       "      <td>4</td>\n",
       "      <td>1</td>\n",
       "      <td>0</td>\n",
       "    </tr>\n",
       "  </tbody>\n",
       "</table>\n",
       "</div>"
      ],
      "text/plain": [
       "   time_id  seconds_in_bucket     price  size  order_count  stock_id\n",
       "0        5                 21  1.002301   326           12         0\n",
       "1        5                 46  1.002778   128            4         0\n",
       "2        5                 50  1.002818    55            1         0\n",
       "3        5                 57  1.003155   121            5         0\n",
       "4        5                 68  1.003646     4            1         0"
      ]
     },
     "execution_count": 8,
     "metadata": {},
     "output_type": "execute_result"
    }
   ],
   "source": [
    "df_trade_0_5.head()"
   ]
  },
  {
   "cell_type": "markdown",
   "id": "6d43461e",
   "metadata": {},
   "source": [
    "In the following, we show an example of realized_vol function. "
   ]
  },
  {
   "cell_type": "code",
   "execution_count": 9,
   "id": "5b52ffdd",
   "metadata": {},
   "outputs": [],
   "source": [
    "rv, row= data_processing.realized_vol(df_book_0_5)"
   ]
  },
  {
   "cell_type": "code",
   "execution_count": 10,
   "id": "40ab65d5",
   "metadata": {},
   "outputs": [
    {
     "data": {
      "text/plain": [
       "np.float64(0.004499364172786558)"
      ]
     },
     "execution_count": 10,
     "metadata": {},
     "output_type": "execute_result"
    }
   ],
   "source": [
    "rv"
   ]
  },
  {
   "cell_type": "code",
   "execution_count": 11,
   "id": "d62497e8",
   "metadata": {},
   "outputs": [
    {
     "data": {
      "text/plain": [
       "'0-5'"
      ]
     },
     "execution_count": 11,
     "metadata": {},
     "output_type": "execute_result"
    }
   ],
   "source": [
    "row"
   ]
  },
  {
   "cell_type": "markdown",
   "id": "15bc02f5",
   "metadata": {},
   "source": [
    "## Time series creation function"
   ]
  },
  {
   "cell_type": "markdown",
   "id": "e992ed80",
   "metadata": {},
   "source": [
    "For each row id \"a-b\" (stock id a and time id b), we have the trade data. \n",
    "We create the RV of sub-intervals (e.g. seconds_in_bracket in interval [0,10]) for all disjoint sub-intervals within [0,600] (e.g. [0,10], [11, 21], ...). \n",
    "This will help us to bypass the fact that there are different total number of seconds_in_bracket in each row_id. \n",
    "This sequence of RV can serve as a time series data. "
   ]
  },
  {
   "cell_type": "markdown",
   "id": "92511ac0",
   "metadata": {},
   "source": [
    "We create a function to create this time series feature. "
   ]
  },
  {
   "cell_type": "code",
   "execution_count": 18,
   "id": "655b3e5a",
   "metadata": {},
   "outputs": [],
   "source": [
    "arr_RV_0_5=data_processing.create_RV_timeseries(df_in=df_book_0_5)"
   ]
  },
  {
   "cell_type": "code",
   "execution_count": 19,
   "id": "ffb4fc10",
   "metadata": {},
   "outputs": [
    {
     "data": {
      "text/plain": [
       "array([1.49832934e-05, 1.03072451e-05, 1.05685058e-03, 0.00000000e+00,\n",
       "       8.98304774e-04, 8.92053424e-04, 4.54066889e-04, 9.91255076e-04,\n",
       "       3.65205270e-05, 3.70139248e-05, 2.99336299e-05, 3.62542885e-04,\n",
       "       9.60843370e-04, 3.78928830e-04, 8.51440932e-04, 1.09884521e-03,\n",
       "       5.05653081e-04, 8.49980121e-04, 6.40812165e-04, 4.85923409e-04,\n",
       "       7.97586512e-04, 4.25454588e-04, 7.69266746e-04, 5.20608145e-04,\n",
       "       2.68669240e-06, 6.78738335e-04, 6.79358412e-04, 1.47598809e-04,\n",
       "       4.78524245e-04, 1.65369514e-05, 6.23763457e-04, 7.32826186e-04,\n",
       "       1.08703048e-03, 6.87840067e-04, 3.12315713e-04, 6.45995291e-06,\n",
       "       2.41529705e-04, 4.29347021e-04, 3.58229596e-06, 7.15967292e-04,\n",
       "       1.38924412e-03, 9.61347656e-06, 4.77481691e-04, 3.43513251e-04,\n",
       "       2.23079881e-04, 0.00000000e+00, 6.32441530e-04, 6.41041735e-04,\n",
       "       1.42769361e-04, 6.56544153e-05, 5.48786596e-06, 3.36101519e-04,\n",
       "       5.06175206e-04, 5.92941392e-04, 6.63459680e-04, 6.13845227e-04,\n",
       "       4.48627043e-04, 5.15173877e-04, 3.51413597e-04, 0.00000000e+00])"
      ]
     },
     "execution_count": 19,
     "metadata": {},
     "output_type": "execute_result"
    }
   ],
   "source": [
    "arr_RV_0_5"
   ]
  }
 ],
 "metadata": {
  "kernelspec": {
   "display_name": "deep_learning_3_11_8",
   "language": "python",
   "name": "python3"
  },
  "language_info": {
   "codemirror_mode": {
    "name": "ipython",
    "version": 3
   },
   "file_extension": ".py",
   "mimetype": "text/x-python",
   "name": "python",
   "nbconvert_exporter": "python",
   "pygments_lexer": "ipython3",
   "version": "3.11.8"
  }
 },
 "nbformat": 4,
 "nbformat_minor": 5
}
