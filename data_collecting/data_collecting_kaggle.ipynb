{
 "cells": [
  {
   "cell_type": "markdown",
   "id": "70ba6e60",
   "metadata": {},
   "source": [
    "We collect the raw data from kaggle competition https://www.kaggle.com/competitions/optiver-realized-volatility-prediction. "
   ]
  },
  {
   "cell_type": "markdown",
   "id": "014da523",
   "metadata": {},
   "source": [
    "Raw data will be stored in raw_data folder, and ignored by git (We are not permitted to share the raw data). "
   ]
  },
  {
   "cell_type": "markdown",
   "id": "9b1abfb5",
   "metadata": {},
   "source": [
    "One should set up their kaggle api by pip install kaggle in their python enbironment and create kaggle.json by: \n",
    "\n",
    "1, Go to the Kaggle website (https://www.kaggle.com/) and log in to your account.\n",
    "\n",
    "2, Navigate to your Account settings.\n",
    "\n",
    "3, Scroll down to the API section and click \"Create New API Token\".\n",
    "\n",
    "4, This will download a kaggle.json file containing your API credentials. "
   ]
  },
  {
   "cell_type": "code",
   "execution_count": 4,
   "id": "8b9b3185",
   "metadata": {},
   "outputs": [],
   "source": [
    "import kaggle"
   ]
  },
  {
   "cell_type": "code",
   "execution_count": 5,
   "id": "5d44c0ca",
   "metadata": {},
   "outputs": [],
   "source": [
    "kaggle.api.authenticate()"
   ]
  },
  {
   "cell_type": "code",
   "execution_count": null,
   "id": "c3fe1325",
   "metadata": {},
   "outputs": [
    {
     "name": "stdout",
     "output_type": "stream",
     "text": [
      "Downloading optiver-realized-volatility-prediction.zip to ../raw_data\n",
      " 99%|█████████████████████████████████████▋| 1.58G/1.59G [00:01<00:00, 1.20GB/s]\n",
      "100%|██████████████████████████████████████| 1.59G/1.59G [00:01<00:00, 1.20GB/s]\n"
     ]
    }
   ],
   "source": [
    "!kaggle competitions download -c optiver-realized-volatility-prediction -p ../raw_data\n",
    "print(\"Downloaded data to ../raw_data folder\")"
   ]
  },
  {
   "cell_type": "code",
   "execution_count": 10,
   "id": "3957197b",
   "metadata": {},
   "outputs": [],
   "source": [
    "import zipfile "
   ]
  },
  {
   "cell_type": "code",
   "execution_count": null,
   "id": "ec4d4a81",
   "metadata": {},
   "outputs": [
    {
     "name": "stdout",
     "output_type": "stream",
     "text": [
      "unzipped to ../raw_data/kaggle_ORVP\n"
     ]
    }
   ],
   "source": [
    "with zipfile.ZipFile(\"../raw_data/optiver-realized-volatility-prediction.zip\",\"r\") as zip_ref:\n",
    "    zip_ref.extractall(\"../raw_data/kaggle_ORVP\")\n",
    "print(\"Unzipped to ../raw_data/kaggle_ORVP\")"
   ]
  },
  {
   "cell_type": "code",
   "execution_count": 13,
   "id": "7bf53980",
   "metadata": {},
   "outputs": [],
   "source": [
    "import os"
   ]
  },
  {
   "cell_type": "code",
   "execution_count": null,
   "id": "449e507f",
   "metadata": {},
   "outputs": [],
   "source": [
    "os.remove(\"../raw_data/optiver-realized-volatility-prediction.zip\")\n",
    "print(\"Removed file ../raw_data/optiver-realized-volatility-prediction.zip\")"
   ]
  },
  {
   "cell_type": "markdown",
   "id": "470b2e1c",
   "metadata": {},
   "source": [
    "Running file ../data_collecting_kaggle.py will have the same effect of running all above steps. "
   ]
  }
 ],
 "metadata": {
  "kernelspec": {
   "display_name": "deep_learning_3_11_8",
   "language": "python",
   "name": "python3"
  },
  "language_info": {
   "codemirror_mode": {
    "name": "ipython",
    "version": 3
   },
   "file_extension": ".py",
   "mimetype": "text/x-python",
   "name": "python",
   "nbconvert_exporter": "python",
   "pygments_lexer": "ipython3",
   "version": "3.11.8"
  }
 },
 "nbformat": 4,
 "nbformat_minor": 5
}
